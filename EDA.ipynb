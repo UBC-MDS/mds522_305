{
 "cells": [
  {
   "cell_type": "code",
   "execution_count": 37,
   "metadata": {},
   "outputs": [],
   "source": [
    "import pandas as pd\n",
    "from sklearn.model_selection import train_test_split\n",
    "import altair as alt "
   ]
  },
  {
   "cell_type": "code",
   "execution_count": 30,
   "metadata": {},
   "outputs": [],
   "source": [
    "media_df = pd.read_csv('https://raw.githubusercontent.com/shivang98/Social-Network-ads-Boost/master/Social_Network_Ads.csv',index_col=0)"
   ]
  },
  {
   "cell_type": "code",
   "execution_count": 31,
   "metadata": {},
   "outputs": [],
   "source": [
    "X = media_df.iloc[:,0:-1]\n",
    "y = media_df.iloc[:,-1]\n",
    "# split training and testing\n",
    "X_train, X_test, y_train, y_test = train_test_split(X,\n",
    "                                                    y,\n",
    "                                                    test_size=0.2, random_state = 123)"
   ]
  },
  {
   "cell_type": "code",
   "execution_count": 32,
   "metadata": {},
   "outputs": [
    {
     "data": {
      "text/html": [
       "<div>\n",
       "<style scoped>\n",
       "    .dataframe tbody tr th:only-of-type {\n",
       "        vertical-align: middle;\n",
       "    }\n",
       "\n",
       "    .dataframe tbody tr th {\n",
       "        vertical-align: top;\n",
       "    }\n",
       "\n",
       "    .dataframe thead th {\n",
       "        text-align: right;\n",
       "    }\n",
       "</style>\n",
       "<table border=\"1\" class=\"dataframe\">\n",
       "  <thead>\n",
       "    <tr style=\"text-align: right;\">\n",
       "      <th></th>\n",
       "      <th>Gender</th>\n",
       "      <th>Age</th>\n",
       "      <th>EstimatedSalary</th>\n",
       "      <th>Purchased</th>\n",
       "    </tr>\n",
       "    <tr>\n",
       "      <th>User ID</th>\n",
       "      <th></th>\n",
       "      <th></th>\n",
       "      <th></th>\n",
       "      <th></th>\n",
       "    </tr>\n",
       "  </thead>\n",
       "  <tbody>\n",
       "    <tr>\n",
       "      <th>15584114</th>\n",
       "      <td>Male</td>\n",
       "      <td>24</td>\n",
       "      <td>23000</td>\n",
       "      <td>0</td>\n",
       "    </tr>\n",
       "    <tr>\n",
       "      <th>15795298</th>\n",
       "      <td>Female</td>\n",
       "      <td>48</td>\n",
       "      <td>134000</td>\n",
       "      <td>1</td>\n",
       "    </tr>\n",
       "    <tr>\n",
       "      <th>15598044</th>\n",
       "      <td>Female</td>\n",
       "      <td>27</td>\n",
       "      <td>84000</td>\n",
       "      <td>0</td>\n",
       "    </tr>\n",
       "    <tr>\n",
       "      <th>15692819</th>\n",
       "      <td>Female</td>\n",
       "      <td>57</td>\n",
       "      <td>26000</td>\n",
       "      <td>1</td>\n",
       "    </tr>\n",
       "    <tr>\n",
       "      <th>15697020</th>\n",
       "      <td>Female</td>\n",
       "      <td>39</td>\n",
       "      <td>61000</td>\n",
       "      <td>0</td>\n",
       "    </tr>\n",
       "  </tbody>\n",
       "</table>\n",
       "</div>"
      ],
      "text/plain": [
       "          Gender  Age  EstimatedSalary  Purchased\n",
       "User ID                                          \n",
       "15584114    Male   24            23000          0\n",
       "15795298  Female   48           134000          1\n",
       "15598044  Female   27            84000          0\n",
       "15692819  Female   57            26000          1\n",
       "15697020  Female   39            61000          0"
      ]
     },
     "execution_count": 32,
     "metadata": {},
     "output_type": "execute_result"
    }
   ],
   "source": [
    "media_df_train = X_train\n",
    "media_df_train = pd.merge(media_df_train, y_train, left_index=True, right_index=True)\n",
    "media_df_train.head()"
   ]
  },
  {
   "cell_type": "code",
   "execution_count": 33,
   "metadata": {},
   "outputs": [
    {
     "data": {
      "text/plain": [
       "Gender             False\n",
       "Age                False\n",
       "EstimatedSalary    False\n",
       "Purchased          False\n",
       "dtype: bool"
      ]
     },
     "execution_count": 33,
     "metadata": {},
     "output_type": "execute_result"
    }
   ],
   "source": [
    "media_df_train.isna().any()"
   ]
  },
  {
   "cell_type": "markdown",
   "metadata": {},
   "source": [
    "We can see that there are no missing values in our dataset."
   ]
  },
  {
   "cell_type": "code",
   "execution_count": 10,
   "metadata": {},
   "outputs": [
    {
     "name": "stdout",
     "output_type": "stream",
     "text": [
      "(320, 4)\n",
      "Index(['Gender', 'Age', 'EstimatedSalary', 'Purchased'], dtype='object')\n"
     ]
    }
   ],
   "source": [
    "print(media_df_train.shape)\n",
    "print(media_df_train.columns)"
   ]
  },
  {
   "cell_type": "markdown",
   "metadata": {},
   "source": [
    "It has four columns, one of which is our target: Purchased, a binary variable with 0 being not purchased and 1 being purchased. In the three features, one is Gender which are strings and the other two are floats."
   ]
  },
  {
   "cell_type": "code",
   "execution_count": 34,
   "metadata": {},
   "outputs": [
    {
     "data": {
      "text/html": [
       "<div>\n",
       "<style scoped>\n",
       "    .dataframe tbody tr th:only-of-type {\n",
       "        vertical-align: middle;\n",
       "    }\n",
       "\n",
       "    .dataframe tbody tr th {\n",
       "        vertical-align: top;\n",
       "    }\n",
       "\n",
       "    .dataframe thead th {\n",
       "        text-align: right;\n",
       "    }\n",
       "</style>\n",
       "<table border=\"1\" class=\"dataframe\">\n",
       "  <thead>\n",
       "    <tr style=\"text-align: right;\">\n",
       "      <th></th>\n",
       "      <th>Age</th>\n",
       "      <th>EstimatedSalary</th>\n",
       "      <th>Purchased</th>\n",
       "    </tr>\n",
       "  </thead>\n",
       "  <tbody>\n",
       "    <tr>\n",
       "      <th>count</th>\n",
       "      <td>320.0000</td>\n",
       "      <td>320.000000</td>\n",
       "      <td>320.000000</td>\n",
       "    </tr>\n",
       "    <tr>\n",
       "      <th>mean</th>\n",
       "      <td>37.6500</td>\n",
       "      <td>68556.250000</td>\n",
       "      <td>0.353125</td>\n",
       "    </tr>\n",
       "    <tr>\n",
       "      <th>std</th>\n",
       "      <td>10.7815</td>\n",
       "      <td>32970.728326</td>\n",
       "      <td>0.478690</td>\n",
       "    </tr>\n",
       "    <tr>\n",
       "      <th>min</th>\n",
       "      <td>18.0000</td>\n",
       "      <td>15000.000000</td>\n",
       "      <td>0.000000</td>\n",
       "    </tr>\n",
       "    <tr>\n",
       "      <th>25%</th>\n",
       "      <td>29.0000</td>\n",
       "      <td>43000.000000</td>\n",
       "      <td>0.000000</td>\n",
       "    </tr>\n",
       "    <tr>\n",
       "      <th>50%</th>\n",
       "      <td>37.0000</td>\n",
       "      <td>68000.000000</td>\n",
       "      <td>0.000000</td>\n",
       "    </tr>\n",
       "    <tr>\n",
       "      <th>75%</th>\n",
       "      <td>46.0000</td>\n",
       "      <td>86000.000000</td>\n",
       "      <td>1.000000</td>\n",
       "    </tr>\n",
       "    <tr>\n",
       "      <th>max</th>\n",
       "      <td>60.0000</td>\n",
       "      <td>150000.000000</td>\n",
       "      <td>1.000000</td>\n",
       "    </tr>\n",
       "  </tbody>\n",
       "</table>\n",
       "</div>"
      ],
      "text/plain": [
       "            Age  EstimatedSalary   Purchased\n",
       "count  320.0000       320.000000  320.000000\n",
       "mean    37.6500     68556.250000    0.353125\n",
       "std     10.7815     32970.728326    0.478690\n",
       "min     18.0000     15000.000000    0.000000\n",
       "25%     29.0000     43000.000000    0.000000\n",
       "50%     37.0000     68000.000000    0.000000\n",
       "75%     46.0000     86000.000000    1.000000\n",
       "max     60.0000    150000.000000    1.000000"
      ]
     },
     "execution_count": 34,
     "metadata": {},
     "output_type": "execute_result"
    }
   ],
   "source": [
    "#general summary for all data\n",
    "media_df_train.describe()"
   ]
  },
  {
   "cell_type": "markdown",
   "metadata": {},
   "source": [
    "We can see that the mean purchased in 0.375 which is different from purchasing by chance of 0.5. This indicates that our research questions are meaningful and it is worth investigate how these three factors affect the purchase behavior."
   ]
  },
  {
   "cell_type": "code",
   "execution_count": 35,
   "metadata": {},
   "outputs": [
    {
     "data": {
      "text/html": [
       "<div>\n",
       "<style scoped>\n",
       "    .dataframe tbody tr th:only-of-type {\n",
       "        vertical-align: middle;\n",
       "    }\n",
       "\n",
       "    .dataframe tbody tr th {\n",
       "        vertical-align: top;\n",
       "    }\n",
       "\n",
       "    .dataframe thead th {\n",
       "        text-align: right;\n",
       "    }\n",
       "</style>\n",
       "<table border=\"1\" class=\"dataframe\">\n",
       "  <thead>\n",
       "    <tr style=\"text-align: right;\">\n",
       "      <th></th>\n",
       "      <th>Age</th>\n",
       "      <th>EstimatedSalary</th>\n",
       "      <th>Purchased</th>\n",
       "    </tr>\n",
       "  </thead>\n",
       "  <tbody>\n",
       "    <tr>\n",
       "      <th>count</th>\n",
       "      <td>207.000000</td>\n",
       "      <td>207.000000</td>\n",
       "      <td>207.0</td>\n",
       "    </tr>\n",
       "    <tr>\n",
       "      <th>mean</th>\n",
       "      <td>32.719807</td>\n",
       "      <td>60038.647343</td>\n",
       "      <td>0.0</td>\n",
       "    </tr>\n",
       "    <tr>\n",
       "      <th>std</th>\n",
       "      <td>8.349103</td>\n",
       "      <td>23409.782498</td>\n",
       "      <td>0.0</td>\n",
       "    </tr>\n",
       "    <tr>\n",
       "      <th>min</th>\n",
       "      <td>18.000000</td>\n",
       "      <td>15000.000000</td>\n",
       "      <td>0.0</td>\n",
       "    </tr>\n",
       "    <tr>\n",
       "      <th>25%</th>\n",
       "      <td>26.000000</td>\n",
       "      <td>44000.000000</td>\n",
       "      <td>0.0</td>\n",
       "    </tr>\n",
       "    <tr>\n",
       "      <th>50%</th>\n",
       "      <td>34.000000</td>\n",
       "      <td>60000.000000</td>\n",
       "      <td>0.0</td>\n",
       "    </tr>\n",
       "    <tr>\n",
       "      <th>75%</th>\n",
       "      <td>39.000000</td>\n",
       "      <td>76500.000000</td>\n",
       "      <td>0.0</td>\n",
       "    </tr>\n",
       "    <tr>\n",
       "      <th>max</th>\n",
       "      <td>59.000000</td>\n",
       "      <td>141000.000000</td>\n",
       "      <td>0.0</td>\n",
       "    </tr>\n",
       "  </tbody>\n",
       "</table>\n",
       "</div>"
      ],
      "text/plain": [
       "              Age  EstimatedSalary  Purchased\n",
       "count  207.000000       207.000000      207.0\n",
       "mean    32.719807     60038.647343        0.0\n",
       "std      8.349103     23409.782498        0.0\n",
       "min     18.000000     15000.000000        0.0\n",
       "25%     26.000000     44000.000000        0.0\n",
       "50%     34.000000     60000.000000        0.0\n",
       "75%     39.000000     76500.000000        0.0\n",
       "max     59.000000    141000.000000        0.0"
      ]
     },
     "execution_count": 35,
     "metadata": {},
     "output_type": "execute_result"
    }
   ],
   "source": [
    "#Summary for negative class, which is not purhcased\n",
    "media_df_train[media_df_train['Purchased']==0].describe()"
   ]
  },
  {
   "cell_type": "code",
   "execution_count": 36,
   "metadata": {},
   "outputs": [
    {
     "data": {
      "text/html": [
       "<div>\n",
       "<style scoped>\n",
       "    .dataframe tbody tr th:only-of-type {\n",
       "        vertical-align: middle;\n",
       "    }\n",
       "\n",
       "    .dataframe tbody tr th {\n",
       "        vertical-align: top;\n",
       "    }\n",
       "\n",
       "    .dataframe thead th {\n",
       "        text-align: right;\n",
       "    }\n",
       "</style>\n",
       "<table border=\"1\" class=\"dataframe\">\n",
       "  <thead>\n",
       "    <tr style=\"text-align: right;\">\n",
       "      <th></th>\n",
       "      <th>Age</th>\n",
       "      <th>EstimatedSalary</th>\n",
       "      <th>Purchased</th>\n",
       "    </tr>\n",
       "  </thead>\n",
       "  <tbody>\n",
       "    <tr>\n",
       "      <th>count</th>\n",
       "      <td>113.000000</td>\n",
       "      <td>113.000000</td>\n",
       "      <td>113.0</td>\n",
       "    </tr>\n",
       "    <tr>\n",
       "      <th>mean</th>\n",
       "      <td>46.681416</td>\n",
       "      <td>84159.292035</td>\n",
       "      <td>1.0</td>\n",
       "    </tr>\n",
       "    <tr>\n",
       "      <th>std</th>\n",
       "      <td>8.697563</td>\n",
       "      <td>41334.343722</td>\n",
       "      <td>0.0</td>\n",
       "    </tr>\n",
       "    <tr>\n",
       "      <th>min</th>\n",
       "      <td>27.000000</td>\n",
       "      <td>20000.000000</td>\n",
       "      <td>1.0</td>\n",
       "    </tr>\n",
       "    <tr>\n",
       "      <th>25%</th>\n",
       "      <td>40.000000</td>\n",
       "      <td>39000.000000</td>\n",
       "      <td>1.0</td>\n",
       "    </tr>\n",
       "    <tr>\n",
       "      <th>50%</th>\n",
       "      <td>47.000000</td>\n",
       "      <td>90000.000000</td>\n",
       "      <td>1.0</td>\n",
       "    </tr>\n",
       "    <tr>\n",
       "      <th>75%</th>\n",
       "      <td>54.000000</td>\n",
       "      <td>119000.000000</td>\n",
       "      <td>1.0</td>\n",
       "    </tr>\n",
       "    <tr>\n",
       "      <th>max</th>\n",
       "      <td>60.000000</td>\n",
       "      <td>150000.000000</td>\n",
       "      <td>1.0</td>\n",
       "    </tr>\n",
       "  </tbody>\n",
       "</table>\n",
       "</div>"
      ],
      "text/plain": [
       "              Age  EstimatedSalary  Purchased\n",
       "count  113.000000       113.000000      113.0\n",
       "mean    46.681416     84159.292035        1.0\n",
       "std      8.697563     41334.343722        0.0\n",
       "min     27.000000     20000.000000        1.0\n",
       "25%     40.000000     39000.000000        1.0\n",
       "50%     47.000000     90000.000000        1.0\n",
       "75%     54.000000    119000.000000        1.0\n",
       "max     60.000000    150000.000000        1.0"
      ]
     },
     "execution_count": 36,
     "metadata": {},
     "output_type": "execute_result"
    }
   ],
   "source": [
    "#Summary for negative class, which is not purhcased\n",
    "media_df_train[media_df_train['Purchased']==1].describe()"
   ]
  },
  {
   "cell_type": "markdown",
   "metadata": {},
   "source": [
    "Comparing the summary for purchased vs not purchased class, we can see that the mean age and mean estimated salary are higher for purchased class. "
   ]
  },
  {
   "cell_type": "code",
   "execution_count": 41,
   "metadata": {},
   "outputs": [
    {
     "data": {
      "application/vnd.vegalite.v3+json": {
       "$schema": "https://vega.github.io/schema/vega-lite/v3.4.0.json",
       "config": {
        "mark": {
         "tooltip": null
        },
        "view": {
         "height": 300,
         "width": 400
        }
       },
       "data": {
        "name": "data-1d3b0e0fee3d6508ad3faee76fa53a52"
       },
       "datasets": {
        "data-1d3b0e0fee3d6508ad3faee76fa53a52": [
         {
          "Age": 24,
          "EstimatedSalary": 23000,
          "Gender": "Male",
          "Purchased": 0
         },
         {
          "Age": 48,
          "EstimatedSalary": 134000,
          "Gender": "Female",
          "Purchased": 1
         },
         {
          "Age": 27,
          "EstimatedSalary": 84000,
          "Gender": "Female",
          "Purchased": 0
         },
         {
          "Age": 57,
          "EstimatedSalary": 26000,
          "Gender": "Female",
          "Purchased": 1
         },
         {
          "Age": 39,
          "EstimatedSalary": 61000,
          "Gender": "Female",
          "Purchased": 0
         },
         {
          "Age": 41,
          "EstimatedSalary": 80000,
          "Gender": "Female",
          "Purchased": 0
         },
         {
          "Age": 42,
          "EstimatedSalary": 64000,
          "Gender": "Male",
          "Purchased": 0
         },
         {
          "Age": 60,
          "EstimatedSalary": 42000,
          "Gender": "Male",
          "Purchased": 1
         },
         {
          "Age": 35,
          "EstimatedSalary": 44000,
          "Gender": "Female",
          "Purchased": 0
         },
         {
          "Age": 18,
          "EstimatedSalary": 86000,
          "Gender": "Female",
          "Purchased": 0
         },
         {
          "Age": 59,
          "EstimatedSalary": 42000,
          "Gender": "Female",
          "Purchased": 0
         },
         {
          "Age": 58,
          "EstimatedSalary": 47000,
          "Gender": "Female",
          "Purchased": 1
         },
         {
          "Age": 46,
          "EstimatedSalary": 74000,
          "Gender": "Female",
          "Purchased": 0
         },
         {
          "Age": 60,
          "EstimatedSalary": 83000,
          "Gender": "Male",
          "Purchased": 1
         },
         {
          "Age": 19,
          "EstimatedSalary": 19000,
          "Gender": "Male",
          "Purchased": 0
         },
         {
          "Age": 49,
          "EstimatedSalary": 89000,
          "Gender": "Male",
          "Purchased": 1
         },
         {
          "Age": 48,
          "EstimatedSalary": 96000,
          "Gender": "Female",
          "Purchased": 1
         },
         {
          "Age": 35,
          "EstimatedSalary": 39000,
          "Gender": "Male",
          "Purchased": 0
         },
         {
          "Age": 41,
          "EstimatedSalary": 30000,
          "Gender": "Female",
          "Purchased": 0
         },
         {
          "Age": 26,
          "EstimatedSalary": 72000,
          "Gender": "Female",
          "Purchased": 0
         },
         {
          "Age": 21,
          "EstimatedSalary": 88000,
          "Gender": "Male",
          "Purchased": 0
         },
         {
          "Age": 43,
          "EstimatedSalary": 112000,
          "Gender": "Female",
          "Purchased": 1
         },
         {
          "Age": 29,
          "EstimatedSalary": 61000,
          "Gender": "Male",
          "Purchased": 0
         },
         {
          "Age": 34,
          "EstimatedSalary": 25000,
          "Gender": "Female",
          "Purchased": 0
         },
         {
          "Age": 20,
          "EstimatedSalary": 86000,
          "Gender": "Male",
          "Purchased": 0
         },
         {
          "Age": 60,
          "EstimatedSalary": 46000,
          "Gender": "Female",
          "Purchased": 1
         },
         {
          "Age": 35,
          "EstimatedSalary": 75000,
          "Gender": "Male",
          "Purchased": 0
         },
         {
          "Age": 24,
          "EstimatedSalary": 55000,
          "Gender": "Female",
          "Purchased": 0
         },
         {
          "Age": 31,
          "EstimatedSalary": 74000,
          "Gender": "Male",
          "Purchased": 0
         },
         {
          "Age": 46,
          "EstimatedSalary": 117000,
          "Gender": "Male",
          "Purchased": 1
         },
         {
          "Age": 47,
          "EstimatedSalary": 49000,
          "Gender": "Female",
          "Purchased": 1
         },
         {
          "Age": 36,
          "EstimatedSalary": 75000,
          "Gender": "Female",
          "Purchased": 0
         },
         {
          "Age": 32,
          "EstimatedSalary": 100000,
          "Gender": "Male",
          "Purchased": 1
         },
         {
          "Age": 35,
          "EstimatedSalary": 59000,
          "Gender": "Male",
          "Purchased": 0
         },
         {
          "Age": 58,
          "EstimatedSalary": 23000,
          "Gender": "Female",
          "Purchased": 1
         },
         {
          "Age": 29,
          "EstimatedSalary": 28000,
          "Gender": "Female",
          "Purchased": 0
         },
         {
          "Age": 35,
          "EstimatedSalary": 77000,
          "Gender": "Female",
          "Purchased": 0
         },
         {
          "Age": 35,
          "EstimatedSalary": 72000,
          "Gender": "Male",
          "Purchased": 0
         },
         {
          "Age": 48,
          "EstimatedSalary": 141000,
          "Gender": "Male",
          "Purchased": 0
         },
         {
          "Age": 28,
          "EstimatedSalary": 32000,
          "Gender": "Male",
          "Purchased": 0
         },
         {
          "Age": 25,
          "EstimatedSalary": 22000,
          "Gender": "Male",
          "Purchased": 0
         },
         {
          "Age": 21,
          "EstimatedSalary": 72000,
          "Gender": "Male",
          "Purchased": 0
         },
         {
          "Age": 27,
          "EstimatedSalary": 58000,
          "Gender": "Male",
          "Purchased": 0
         },
         {
          "Age": 41,
          "EstimatedSalary": 79000,
          "Gender": "Male",
          "Purchased": 0
         },
         {
          "Age": 50,
          "EstimatedSalary": 36000,
          "Gender": "Female",
          "Purchased": 1
         },
         {
          "Age": 48,
          "EstimatedSalary": 29000,
          "Gender": "Female",
          "Purchased": 1
         },
         {
          "Age": 31,
          "EstimatedSalary": 18000,
          "Gender": "Male",
          "Purchased": 0
         },
         {
          "Age": 28,
          "EstimatedSalary": 87000,
          "Gender": "Female",
          "Purchased": 0
         },
         {
          "Age": 54,
          "EstimatedSalary": 70000,
          "Gender": "Male",
          "Purchased": 1
         },
         {
          "Age": 28,
          "EstimatedSalary": 55000,
          "Gender": "Female",
          "Purchased": 0
         },
         {
          "Age": 30,
          "EstimatedSalary": 79000,
          "Gender": "Female",
          "Purchased": 0
         },
         {
          "Age": 54,
          "EstimatedSalary": 26000,
          "Gender": "Female",
          "Purchased": 1
         },
         {
          "Age": 24,
          "EstimatedSalary": 27000,
          "Gender": "Female",
          "Purchased": 0
         },
         {
          "Age": 29,
          "EstimatedSalary": 83000,
          "Gender": "Female",
          "Purchased": 0
         },
         {
          "Age": 39,
          "EstimatedSalary": 106000,
          "Gender": "Male",
          "Purchased": 1
         },
         {
          "Age": 49,
          "EstimatedSalary": 39000,
          "Gender": "Female",
          "Purchased": 1
         },
         {
          "Age": 35,
          "EstimatedSalary": 27000,
          "Gender": "Male",
          "Purchased": 0
         },
         {
          "Age": 30,
          "EstimatedSalary": 17000,
          "Gender": "Male",
          "Purchased": 0
         },
         {
          "Age": 32,
          "EstimatedSalary": 18000,
          "Gender": "Male",
          "Purchased": 0
         },
         {
          "Age": 35,
          "EstimatedSalary": 23000,
          "Gender": "Female",
          "Purchased": 0
         },
         {
          "Age": 48,
          "EstimatedSalary": 41000,
          "Gender": "Male",
          "Purchased": 1
         },
         {
          "Age": 48,
          "EstimatedSalary": 131000,
          "Gender": "Female",
          "Purchased": 1
         },
         {
          "Age": 37,
          "EstimatedSalary": 93000,
          "Gender": "Female",
          "Purchased": 1
         },
         {
          "Age": 58,
          "EstimatedSalary": 38000,
          "Gender": "Female",
          "Purchased": 1
         },
         {
          "Age": 22,
          "EstimatedSalary": 81000,
          "Gender": "Male",
          "Purchased": 0
         },
         {
          "Age": 39,
          "EstimatedSalary": 75000,
          "Gender": "Female",
          "Purchased": 1
         },
         {
          "Age": 37,
          "EstimatedSalary": 75000,
          "Gender": "Male",
          "Purchased": 0
         },
         {
          "Age": 51,
          "EstimatedSalary": 23000,
          "Gender": "Male",
          "Purchased": 1
         },
         {
          "Age": 40,
          "EstimatedSalary": 65000,
          "Gender": "Male",
          "Purchased": 0
         },
         {
          "Age": 36,
          "EstimatedSalary": 33000,
          "Gender": "Male",
          "Purchased": 0
         },
         {
          "Age": 23,
          "EstimatedSalary": 28000,
          "Gender": "Female",
          "Purchased": 0
         },
         {
          "Age": 19,
          "EstimatedSalary": 76000,
          "Gender": "Male",
          "Purchased": 0
         },
         {
          "Age": 32,
          "EstimatedSalary": 135000,
          "Gender": "Female",
          "Purchased": 1
         },
         {
          "Age": 46,
          "EstimatedSalary": 88000,
          "Gender": "Male",
          "Purchased": 1
         },
         {
          "Age": 31,
          "EstimatedSalary": 71000,
          "Gender": "Female",
          "Purchased": 0
         },
         {
          "Age": 30,
          "EstimatedSalary": 89000,
          "Gender": "Male",
          "Purchased": 0
         },
         {
          "Age": 56,
          "EstimatedSalary": 60000,
          "Gender": "Male",
          "Purchased": 1
         },
         {
          "Age": 31,
          "EstimatedSalary": 76000,
          "Gender": "Male",
          "Purchased": 0
         },
         {
          "Age": 30,
          "EstimatedSalary": 80000,
          "Gender": "Male",
          "Purchased": 0
         },
         {
          "Age": 36,
          "EstimatedSalary": 52000,
          "Gender": "Male",
          "Purchased": 0
         },
         {
          "Age": 46,
          "EstimatedSalary": 59000,
          "Gender": "Male",
          "Purchased": 0
         },
         {
          "Age": 35,
          "EstimatedSalary": 50000,
          "Gender": "Female",
          "Purchased": 0
         },
         {
          "Age": 49,
          "EstimatedSalary": 74000,
          "Gender": "Male",
          "Purchased": 0
         },
         {
          "Age": 47,
          "EstimatedSalary": 113000,
          "Gender": "Female",
          "Purchased": 1
         },
         {
          "Age": 19,
          "EstimatedSalary": 21000,
          "Gender": "Female",
          "Purchased": 0
         },
         {
          "Age": 25,
          "EstimatedSalary": 87000,
          "Gender": "Male",
          "Purchased": 0
         },
         {
          "Age": 26,
          "EstimatedSalary": 86000,
          "Gender": "Male",
          "Purchased": 0
         },
         {
          "Age": 26,
          "EstimatedSalary": 32000,
          "Gender": "Male",
          "Purchased": 0
         },
         {
          "Age": 39,
          "EstimatedSalary": 42000,
          "Gender": "Male",
          "Purchased": 0
         },
         {
          "Age": 60,
          "EstimatedSalary": 42000,
          "Gender": "Male",
          "Purchased": 1
         },
         {
          "Age": 50,
          "EstimatedSalary": 88000,
          "Gender": "Female",
          "Purchased": 1
         },
         {
          "Age": 28,
          "EstimatedSalary": 84000,
          "Gender": "Female",
          "Purchased": 0
         },
         {
          "Age": 33,
          "EstimatedSalary": 69000,
          "Gender": "Female",
          "Purchased": 0
         },
         {
          "Age": 49,
          "EstimatedSalary": 141000,
          "Gender": "Female",
          "Purchased": 1
         },
         {
          "Age": 35,
          "EstimatedSalary": 50000,
          "Gender": "Male",
          "Purchased": 0
         },
         {
          "Age": 54,
          "EstimatedSalary": 104000,
          "Gender": "Female",
          "Purchased": 1
         },
         {
          "Age": 37,
          "EstimatedSalary": 80000,
          "Gender": "Female",
          "Purchased": 0
         },
         {
          "Age": 42,
          "EstimatedSalary": 90000,
          "Gender": "Female",
          "Purchased": 1
         },
         {
          "Age": 35,
          "EstimatedSalary": 97000,
          "Gender": "Female",
          "Purchased": 1
         },
         {
          "Age": 45,
          "EstimatedSalary": 79000,
          "Gender": "Male",
          "Purchased": 0
         },
         {
          "Age": 22,
          "EstimatedSalary": 55000,
          "Gender": "Female",
          "Purchased": 0
         },
         {
          "Age": 35,
          "EstimatedSalary": 71000,
          "Gender": "Female",
          "Purchased": 0
         },
         {
          "Age": 47,
          "EstimatedSalary": 34000,
          "Gender": "Male",
          "Purchased": 1
         },
         {
          "Age": 32,
          "EstimatedSalary": 150000,
          "Gender": "Female",
          "Purchased": 1
         },
         {
          "Age": 35,
          "EstimatedSalary": 61000,
          "Gender": "Male",
          "Purchased": 0
         },
         {
          "Age": 40,
          "EstimatedSalary": 57000,
          "Gender": "Male",
          "Purchased": 0
         },
         {
          "Age": 45,
          "EstimatedSalary": 32000,
          "Gender": "Male",
          "Purchased": 1
         },
         {
          "Age": 40,
          "EstimatedSalary": 72000,
          "Gender": "Female",
          "Purchased": 0
         },
         {
          "Age": 38,
          "EstimatedSalary": 71000,
          "Gender": "Male",
          "Purchased": 0
         },
         {
          "Age": 20,
          "EstimatedSalary": 82000,
          "Gender": "Female",
          "Purchased": 0
         },
         {
          "Age": 41,
          "EstimatedSalary": 63000,
          "Gender": "Female",
          "Purchased": 0
         },
         {
          "Age": 35,
          "EstimatedSalary": 72000,
          "Gender": "Female",
          "Purchased": 0
         },
         {
          "Age": 40,
          "EstimatedSalary": 57000,
          "Gender": "Male",
          "Purchased": 0
         },
         {
          "Age": 24,
          "EstimatedSalary": 89000,
          "Gender": "Female",
          "Purchased": 0
         },
         {
          "Age": 38,
          "EstimatedSalary": 71000,
          "Gender": "Male",
          "Purchased": 0
         },
         {
          "Age": 36,
          "EstimatedSalary": 126000,
          "Gender": "Female",
          "Purchased": 1
         },
         {
          "Age": 35,
          "EstimatedSalary": 91000,
          "Gender": "Male",
          "Purchased": 1
         },
         {
          "Age": 31,
          "EstimatedSalary": 89000,
          "Gender": "Female",
          "Purchased": 0
         },
         {
          "Age": 30,
          "EstimatedSalary": 49000,
          "Gender": "Male",
          "Purchased": 0
         },
         {
          "Age": 27,
          "EstimatedSalary": 90000,
          "Gender": "Male",
          "Purchased": 0
         },
         {
          "Age": 38,
          "EstimatedSalary": 51000,
          "Gender": "Male",
          "Purchased": 0
         },
         {
          "Age": 45,
          "EstimatedSalary": 22000,
          "Gender": "Female",
          "Purchased": 1
         },
         {
          "Age": 58,
          "EstimatedSalary": 101000,
          "Gender": "Female",
          "Purchased": 1
         },
         {
          "Age": 48,
          "EstimatedSalary": 33000,
          "Gender": "Male",
          "Purchased": 1
         },
         {
          "Age": 42,
          "EstimatedSalary": 80000,
          "Gender": "Female",
          "Purchased": 1
         },
         {
          "Age": 26,
          "EstimatedSalary": 80000,
          "Gender": "Female",
          "Purchased": 0
         },
         {
          "Age": 24,
          "EstimatedSalary": 19000,
          "Gender": "Male",
          "Purchased": 0
         },
         {
          "Age": 29,
          "EstimatedSalary": 43000,
          "Gender": "Male",
          "Purchased": 0
         },
         {
          "Age": 52,
          "EstimatedSalary": 114000,
          "Gender": "Female",
          "Purchased": 0
         },
         {
          "Age": 48,
          "EstimatedSalary": 35000,
          "Gender": "Female",
          "Purchased": 1
         },
         {
          "Age": 41,
          "EstimatedSalary": 51000,
          "Gender": "Female",
          "Purchased": 0
         },
         {
          "Age": 46,
          "EstimatedSalary": 96000,
          "Gender": "Female",
          "Purchased": 0
         },
         {
          "Age": 25,
          "EstimatedSalary": 90000,
          "Gender": "Male",
          "Purchased": 0
         },
         {
          "Age": 28,
          "EstimatedSalary": 89000,
          "Gender": "Male",
          "Purchased": 0
         },
         {
          "Age": 30,
          "EstimatedSalary": 107000,
          "Gender": "Male",
          "Purchased": 1
         },
         {
          "Age": 55,
          "EstimatedSalary": 39000,
          "Gender": "Male",
          "Purchased": 1
         },
         {
          "Age": 60,
          "EstimatedSalary": 102000,
          "Gender": "Male",
          "Purchased": 1
         },
         {
          "Age": 38,
          "EstimatedSalary": 61000,
          "Gender": "Male",
          "Purchased": 0
         },
         {
          "Age": 31,
          "EstimatedSalary": 68000,
          "Gender": "Female",
          "Purchased": 0
         },
         {
          "Age": 30,
          "EstimatedSalary": 87000,
          "Gender": "Male",
          "Purchased": 0
         },
         {
          "Age": 27,
          "EstimatedSalary": 88000,
          "Gender": "Male",
          "Purchased": 0
         },
         {
          "Age": 36,
          "EstimatedSalary": 125000,
          "Gender": "Male",
          "Purchased": 1
         },
         {
          "Age": 42,
          "EstimatedSalary": 70000,
          "Gender": "Female",
          "Purchased": 0
         },
         {
          "Age": 52,
          "EstimatedSalary": 138000,
          "Gender": "Female",
          "Purchased": 1
         },
         {
          "Age": 49,
          "EstimatedSalary": 36000,
          "Gender": "Female",
          "Purchased": 1
         },
         {
          "Age": 46,
          "EstimatedSalary": 79000,
          "Gender": "Male",
          "Purchased": 1
         },
         {
          "Age": 31,
          "EstimatedSalary": 118000,
          "Gender": "Female",
          "Purchased": 1
         },
         {
          "Age": 41,
          "EstimatedSalary": 72000,
          "Gender": "Male",
          "Purchased": 0
         },
         {
          "Age": 48,
          "EstimatedSalary": 74000,
          "Gender": "Male",
          "Purchased": 1
         },
         {
          "Age": 40,
          "EstimatedSalary": 75000,
          "Gender": "Male",
          "Purchased": 0
         },
         {
          "Age": 39,
          "EstimatedSalary": 71000,
          "Gender": "Female",
          "Purchased": 0
         },
         {
          "Age": 36,
          "EstimatedSalary": 54000,
          "Gender": "Female",
          "Purchased": 0
         },
         {
          "Age": 53,
          "EstimatedSalary": 82000,
          "Gender": "Female",
          "Purchased": 1
         },
         {
          "Age": 47,
          "EstimatedSalary": 107000,
          "Gender": "Female",
          "Purchased": 1
         },
         {
          "Age": 41,
          "EstimatedSalary": 45000,
          "Gender": "Male",
          "Purchased": 0
         },
         {
          "Age": 33,
          "EstimatedSalary": 41000,
          "Gender": "Female",
          "Purchased": 0
         },
         {
          "Age": 42,
          "EstimatedSalary": 79000,
          "Gender": "Female",
          "Purchased": 0
         },
         {
          "Age": 40,
          "EstimatedSalary": 75000,
          "Gender": "Female",
          "Purchased": 0
         },
         {
          "Age": 37,
          "EstimatedSalary": 77000,
          "Gender": "Male",
          "Purchased": 0
         },
         {
          "Age": 33,
          "EstimatedSalary": 31000,
          "Gender": "Male",
          "Purchased": 0
         },
         {
          "Age": 28,
          "EstimatedSalary": 59000,
          "Gender": "Female",
          "Purchased": 0
         },
         {
          "Age": 41,
          "EstimatedSalary": 71000,
          "Gender": "Female",
          "Purchased": 0
         },
         {
          "Age": 26,
          "EstimatedSalary": 15000,
          "Gender": "Male",
          "Purchased": 0
         },
         {
          "Age": 38,
          "EstimatedSalary": 55000,
          "Gender": "Female",
          "Purchased": 0
         },
         {
          "Age": 35,
          "EstimatedSalary": 55000,
          "Gender": "Male",
          "Purchased": 0
         },
         {
          "Age": 34,
          "EstimatedSalary": 43000,
          "Gender": "Male",
          "Purchased": 0
         },
         {
          "Age": 23,
          "EstimatedSalary": 66000,
          "Gender": "Female",
          "Purchased": 0
         },
         {
          "Age": 46,
          "EstimatedSalary": 22000,
          "Gender": "Female",
          "Purchased": 0
         },
         {
          "Age": 49,
          "EstimatedSalary": 28000,
          "Gender": "Male",
          "Purchased": 1
         },
         {
          "Age": 58,
          "EstimatedSalary": 144000,
          "Gender": "Male",
          "Purchased": 1
         },
         {
          "Age": 32,
          "EstimatedSalary": 117000,
          "Gender": "Female",
          "Purchased": 1
         },
         {
          "Age": 34,
          "EstimatedSalary": 72000,
          "Gender": "Female",
          "Purchased": 0
         },
         {
          "Age": 59,
          "EstimatedSalary": 143000,
          "Gender": "Male",
          "Purchased": 1
         },
         {
          "Age": 60,
          "EstimatedSalary": 34000,
          "Gender": "Male",
          "Purchased": 1
         },
         {
          "Age": 35,
          "EstimatedSalary": 38000,
          "Gender": "Male",
          "Purchased": 0
         },
         {
          "Age": 31,
          "EstimatedSalary": 66000,
          "Gender": "Male",
          "Purchased": 0
         },
         {
          "Age": 23,
          "EstimatedSalary": 20000,
          "Gender": "Male",
          "Purchased": 0
         },
         {
          "Age": 47,
          "EstimatedSalary": 105000,
          "Gender": "Male",
          "Purchased": 1
         },
         {
          "Age": 31,
          "EstimatedSalary": 58000,
          "Gender": "Male",
          "Purchased": 0
         },
         {
          "Age": 24,
          "EstimatedSalary": 32000,
          "Gender": "Female",
          "Purchased": 0
         },
         {
          "Age": 28,
          "EstimatedSalary": 123000,
          "Gender": "Male",
          "Purchased": 1
         },
         {
          "Age": 20,
          "EstimatedSalary": 36000,
          "Gender": "Female",
          "Purchased": 0
         },
         {
          "Age": 60,
          "EstimatedSalary": 108000,
          "Gender": "Female",
          "Purchased": 1
         },
         {
          "Age": 46,
          "EstimatedSalary": 82000,
          "Gender": "Female",
          "Purchased": 0
         },
         {
          "Age": 37,
          "EstimatedSalary": 78000,
          "Gender": "Female",
          "Purchased": 1
         },
         {
          "Age": 39,
          "EstimatedSalary": 59000,
          "Gender": "Female",
          "Purchased": 0
         },
         {
          "Age": 54,
          "EstimatedSalary": 108000,
          "Gender": "Female",
          "Purchased": 1
         },
         {
          "Age": 32,
          "EstimatedSalary": 120000,
          "Gender": "Male",
          "Purchased": 1
         },
         {
          "Age": 37,
          "EstimatedSalary": 70000,
          "Gender": "Male",
          "Purchased": 1
         },
         {
          "Age": 29,
          "EstimatedSalary": 47000,
          "Gender": "Female",
          "Purchased": 0
         },
         {
          "Age": 57,
          "EstimatedSalary": 122000,
          "Gender": "Female",
          "Purchased": 1
         },
         {
          "Age": 40,
          "EstimatedSalary": 57000,
          "Gender": "Male",
          "Purchased": 0
         },
         {
          "Age": 37,
          "EstimatedSalary": 52000,
          "Gender": "Male",
          "Purchased": 0
         },
         {
          "Age": 40,
          "EstimatedSalary": 61000,
          "Gender": "Male",
          "Purchased": 0
         },
         {
          "Age": 36,
          "EstimatedSalary": 99000,
          "Gender": "Male",
          "Purchased": 1
         },
         {
          "Age": 47,
          "EstimatedSalary": 23000,
          "Gender": "Male",
          "Purchased": 1
         },
         {
          "Age": 36,
          "EstimatedSalary": 50000,
          "Gender": "Female",
          "Purchased": 0
         },
         {
          "Age": 42,
          "EstimatedSalary": 54000,
          "Gender": "Male",
          "Purchased": 0
         },
         {
          "Age": 27,
          "EstimatedSalary": 17000,
          "Gender": "Female",
          "Purchased": 0
         },
         {
          "Age": 51,
          "EstimatedSalary": 134000,
          "Gender": "Female",
          "Purchased": 0
         },
         {
          "Age": 39,
          "EstimatedSalary": 73000,
          "Gender": "Female",
          "Purchased": 0
         },
         {
          "Age": 24,
          "EstimatedSalary": 58000,
          "Gender": "Male",
          "Purchased": 0
         },
         {
          "Age": 55,
          "EstimatedSalary": 130000,
          "Gender": "Female",
          "Purchased": 1
         },
         {
          "Age": 25,
          "EstimatedSalary": 33000,
          "Gender": "Male",
          "Purchased": 0
         },
         {
          "Age": 22,
          "EstimatedSalary": 27000,
          "Gender": "Female",
          "Purchased": 0
         },
         {
          "Age": 22,
          "EstimatedSalary": 18000,
          "Gender": "Male",
          "Purchased": 0
         },
         {
          "Age": 44,
          "EstimatedSalary": 39000,
          "Gender": "Female",
          "Purchased": 0
         },
         {
          "Age": 41,
          "EstimatedSalary": 59000,
          "Gender": "Male",
          "Purchased": 0
         },
         {
          "Age": 18,
          "EstimatedSalary": 68000,
          "Gender": "Female",
          "Purchased": 0
         },
         {
          "Age": 26,
          "EstimatedSalary": 81000,
          "Gender": "Male",
          "Purchased": 0
         },
         {
          "Age": 42,
          "EstimatedSalary": 104000,
          "Gender": "Male",
          "Purchased": 1
         },
         {
          "Age": 50,
          "EstimatedSalary": 44000,
          "Gender": "Female",
          "Purchased": 0
         },
         {
          "Age": 27,
          "EstimatedSalary": 20000,
          "Gender": "Male",
          "Purchased": 0
         },
         {
          "Age": 41,
          "EstimatedSalary": 72000,
          "Gender": "Female",
          "Purchased": 0
         },
         {
          "Age": 47,
          "EstimatedSalary": 51000,
          "Gender": "Female",
          "Purchased": 1
         },
         {
          "Age": 25,
          "EstimatedSalary": 79000,
          "Gender": "Male",
          "Purchased": 0
         },
         {
          "Age": 24,
          "EstimatedSalary": 55000,
          "Gender": "Male",
          "Purchased": 0
         },
         {
          "Age": 38,
          "EstimatedSalary": 80000,
          "Gender": "Female",
          "Purchased": 0
         },
         {
          "Age": 21,
          "EstimatedSalary": 68000,
          "Gender": "Female",
          "Purchased": 0
         },
         {
          "Age": 47,
          "EstimatedSalary": 25000,
          "Gender": "Male",
          "Purchased": 1
         },
         {
          "Age": 19,
          "EstimatedSalary": 70000,
          "Gender": "Male",
          "Purchased": 0
         },
         {
          "Age": 47,
          "EstimatedSalary": 50000,
          "Gender": "Female",
          "Purchased": 1
         },
         {
          "Age": 35,
          "EstimatedSalary": 75000,
          "Gender": "Male",
          "Purchased": 0
         },
         {
          "Age": 35,
          "EstimatedSalary": 57000,
          "Gender": "Female",
          "Purchased": 0
         },
         {
          "Age": 47,
          "EstimatedSalary": 30000,
          "Gender": "Female",
          "Purchased": 1
         },
         {
          "Age": 19,
          "EstimatedSalary": 85000,
          "Gender": "Male",
          "Purchased": 0
         },
         {
          "Age": 26,
          "EstimatedSalary": 80000,
          "Gender": "Male",
          "Purchased": 0
         },
         {
          "Age": 18,
          "EstimatedSalary": 82000,
          "Gender": "Male",
          "Purchased": 0
         },
         {
          "Age": 28,
          "EstimatedSalary": 85000,
          "Gender": "Female",
          "Purchased": 0
         },
         {
          "Age": 42,
          "EstimatedSalary": 108000,
          "Gender": "Female",
          "Purchased": 1
         },
         {
          "Age": 55,
          "EstimatedSalary": 125000,
          "Gender": "Female",
          "Purchased": 1
         },
         {
          "Age": 37,
          "EstimatedSalary": 144000,
          "Gender": "Male",
          "Purchased": 1
         },
         {
          "Age": 56,
          "EstimatedSalary": 104000,
          "Gender": "Female",
          "Purchased": 1
         },
         {
          "Age": 45,
          "EstimatedSalary": 131000,
          "Gender": "Female",
          "Purchased": 1
         },
         {
          "Age": 36,
          "EstimatedSalary": 60000,
          "Gender": "Male",
          "Purchased": 0
         },
         {
          "Age": 33,
          "EstimatedSalary": 149000,
          "Gender": "Female",
          "Purchased": 1
         },
         {
          "Age": 20,
          "EstimatedSalary": 74000,
          "Gender": "Male",
          "Purchased": 0
         },
         {
          "Age": 19,
          "EstimatedSalary": 25000,
          "Gender": "Male",
          "Purchased": 0
         },
         {
          "Age": 23,
          "EstimatedSalary": 82000,
          "Gender": "Female",
          "Purchased": 0
         },
         {
          "Age": 27,
          "EstimatedSalary": 57000,
          "Gender": "Female",
          "Purchased": 0
         },
         {
          "Age": 23,
          "EstimatedSalary": 48000,
          "Gender": "Female",
          "Purchased": 0
         },
         {
          "Age": 40,
          "EstimatedSalary": 60000,
          "Gender": "Female",
          "Purchased": 0
         },
         {
          "Age": 49,
          "EstimatedSalary": 86000,
          "Gender": "Male",
          "Purchased": 1
         },
         {
          "Age": 18,
          "EstimatedSalary": 44000,
          "Gender": "Female",
          "Purchased": 0
         },
         {
          "Age": 35,
          "EstimatedSalary": 20000,
          "Gender": "Male",
          "Purchased": 0
         },
         {
          "Age": 46,
          "EstimatedSalary": 28000,
          "Gender": "Male",
          "Purchased": 1
         },
         {
          "Age": 47,
          "EstimatedSalary": 144000,
          "Gender": "Female",
          "Purchased": 1
         },
         {
          "Age": 59,
          "EstimatedSalary": 130000,
          "Gender": "Male",
          "Purchased": 1
         },
         {
          "Age": 38,
          "EstimatedSalary": 50000,
          "Gender": "Female",
          "Purchased": 0
         },
         {
          "Age": 47,
          "EstimatedSalary": 20000,
          "Gender": "Male",
          "Purchased": 1
         },
         {
          "Age": 33,
          "EstimatedSalary": 43000,
          "Gender": "Male",
          "Purchased": 0
         },
         {
          "Age": 20,
          "EstimatedSalary": 82000,
          "Gender": "Female",
          "Purchased": 0
         },
         {
          "Age": 30,
          "EstimatedSalary": 15000,
          "Gender": "Male",
          "Purchased": 0
         },
         {
          "Age": 26,
          "EstimatedSalary": 84000,
          "Gender": "Female",
          "Purchased": 0
         },
         {
          "Age": 41,
          "EstimatedSalary": 72000,
          "Gender": "Female",
          "Purchased": 0
         },
         {
          "Age": 52,
          "EstimatedSalary": 90000,
          "Gender": "Female",
          "Purchased": 1
         },
         {
          "Age": 43,
          "EstimatedSalary": 133000,
          "Gender": "Female",
          "Purchased": 0
         },
         {
          "Age": 46,
          "EstimatedSalary": 32000,
          "Gender": "Female",
          "Purchased": 1
         },
         {
          "Age": 40,
          "EstimatedSalary": 47000,
          "Gender": "Male",
          "Purchased": 0
         },
         {
          "Age": 25,
          "EstimatedSalary": 80000,
          "Gender": "Male",
          "Purchased": 0
         },
         {
          "Age": 43,
          "EstimatedSalary": 129000,
          "Gender": "Male",
          "Purchased": 1
         },
         {
          "Age": 26,
          "EstimatedSalary": 30000,
          "Gender": "Male",
          "Purchased": 0
         },
         {
          "Age": 42,
          "EstimatedSalary": 53000,
          "Gender": "Female",
          "Purchased": 0
         },
         {
          "Age": 59,
          "EstimatedSalary": 76000,
          "Gender": "Female",
          "Purchased": 1
         },
         {
          "Age": 27,
          "EstimatedSalary": 96000,
          "Gender": "Female",
          "Purchased": 1
         },
         {
          "Age": 47,
          "EstimatedSalary": 47000,
          "Gender": "Female",
          "Purchased": 0
         },
         {
          "Age": 52,
          "EstimatedSalary": 38000,
          "Gender": "Female",
          "Purchased": 1
         },
         {
          "Age": 39,
          "EstimatedSalary": 79000,
          "Gender": "Female",
          "Purchased": 0
         },
         {
          "Age": 48,
          "EstimatedSalary": 119000,
          "Gender": "Female",
          "Purchased": 1
         },
         {
          "Age": 59,
          "EstimatedSalary": 83000,
          "Gender": "Female",
          "Purchased": 0
         },
         {
          "Age": 41,
          "EstimatedSalary": 60000,
          "Gender": "Female",
          "Purchased": 0
         },
         {
          "Age": 45,
          "EstimatedSalary": 45000,
          "Gender": "Female",
          "Purchased": 1
         },
         {
          "Age": 29,
          "EstimatedSalary": 148000,
          "Gender": "Male",
          "Purchased": 1
         },
         {
          "Age": 18,
          "EstimatedSalary": 52000,
          "Gender": "Male",
          "Purchased": 0
         },
         {
          "Age": 39,
          "EstimatedSalary": 134000,
          "Gender": "Male",
          "Purchased": 1
         },
         {
          "Age": 38,
          "EstimatedSalary": 113000,
          "Gender": "Female",
          "Purchased": 1
         },
         {
          "Age": 40,
          "EstimatedSalary": 59000,
          "Gender": "Male",
          "Purchased": 0
         },
         {
          "Age": 35,
          "EstimatedSalary": 58000,
          "Gender": "Male",
          "Purchased": 0
         },
         {
          "Age": 37,
          "EstimatedSalary": 57000,
          "Gender": "Female",
          "Purchased": 0
         },
         {
          "Age": 40,
          "EstimatedSalary": 71000,
          "Gender": "Male",
          "Purchased": 1
         },
         {
          "Age": 26,
          "EstimatedSalary": 16000,
          "Gender": "Male",
          "Purchased": 0
         },
         {
          "Age": 39,
          "EstimatedSalary": 77000,
          "Gender": "Male",
          "Purchased": 0
         },
         {
          "Age": 28,
          "EstimatedSalary": 37000,
          "Gender": "Female",
          "Purchased": 0
         },
         {
          "Age": 53,
          "EstimatedSalary": 34000,
          "Gender": "Female",
          "Purchased": 1
         },
         {
          "Age": 23,
          "EstimatedSalary": 63000,
          "Gender": "Male",
          "Purchased": 0
         },
         {
          "Age": 35,
          "EstimatedSalary": 47000,
          "Gender": "Female",
          "Purchased": 0
         },
         {
          "Age": 57,
          "EstimatedSalary": 33000,
          "Gender": "Female",
          "Purchased": 1
         },
         {
          "Age": 30,
          "EstimatedSalary": 62000,
          "Gender": "Female",
          "Purchased": 0
         },
         {
          "Age": 50,
          "EstimatedSalary": 20000,
          "Gender": "Female",
          "Purchased": 1
         },
         {
          "Age": 27,
          "EstimatedSalary": 31000,
          "Gender": "Female",
          "Purchased": 0
         },
         {
          "Age": 53,
          "EstimatedSalary": 104000,
          "Gender": "Female",
          "Purchased": 1
         },
         {
          "Age": 26,
          "EstimatedSalary": 43000,
          "Gender": "Female",
          "Purchased": 0
         },
         {
          "Age": 39,
          "EstimatedSalary": 96000,
          "Gender": "Male",
          "Purchased": 1
         },
         {
          "Age": 42,
          "EstimatedSalary": 54000,
          "Gender": "Male",
          "Purchased": 0
         },
         {
          "Age": 22,
          "EstimatedSalary": 63000,
          "Gender": "Female",
          "Purchased": 0
         },
         {
          "Age": 40,
          "EstimatedSalary": 142000,
          "Gender": "Female",
          "Purchased": 1
         },
         {
          "Age": 39,
          "EstimatedSalary": 71000,
          "Gender": "Male",
          "Purchased": 0
         },
         {
          "Age": 37,
          "EstimatedSalary": 146000,
          "Gender": "Female",
          "Purchased": 1
         },
         {
          "Age": 57,
          "EstimatedSalary": 60000,
          "Gender": "Male",
          "Purchased": 1
         },
         {
          "Age": 39,
          "EstimatedSalary": 122000,
          "Gender": "Male",
          "Purchased": 1
         },
         {
          "Age": 37,
          "EstimatedSalary": 71000,
          "Gender": "Female",
          "Purchased": 0
         },
         {
          "Age": 35,
          "EstimatedSalary": 60000,
          "Gender": "Female",
          "Purchased": 0
         },
         {
          "Age": 21,
          "EstimatedSalary": 16000,
          "Gender": "Female",
          "Purchased": 0
         },
         {
          "Age": 33,
          "EstimatedSalary": 113000,
          "Gender": "Female",
          "Purchased": 0
         },
         {
          "Age": 27,
          "EstimatedSalary": 54000,
          "Gender": "Female",
          "Purchased": 0
         },
         {
          "Age": 42,
          "EstimatedSalary": 65000,
          "Gender": "Male",
          "Purchased": 0
         },
         {
          "Age": 37,
          "EstimatedSalary": 55000,
          "Gender": "Male",
          "Purchased": 0
         },
         {
          "Age": 35,
          "EstimatedSalary": 25000,
          "Gender": "Female",
          "Purchased": 0
         },
         {
          "Age": 37,
          "EstimatedSalary": 53000,
          "Gender": "Male",
          "Purchased": 0
         },
         {
          "Age": 47,
          "EstimatedSalary": 43000,
          "Gender": "Male",
          "Purchased": 0
         },
         {
          "Age": 28,
          "EstimatedSalary": 79000,
          "Gender": "Male",
          "Purchased": 0
         },
         {
          "Age": 35,
          "EstimatedSalary": 53000,
          "Gender": "Male",
          "Purchased": 0
         },
         {
          "Age": 26,
          "EstimatedSalary": 35000,
          "Gender": "Female",
          "Purchased": 0
         },
         {
          "Age": 35,
          "EstimatedSalary": 88000,
          "Gender": "Male",
          "Purchased": 0
         },
         {
          "Age": 45,
          "EstimatedSalary": 26000,
          "Gender": "Male",
          "Purchased": 1
         },
         {
          "Age": 35,
          "EstimatedSalary": 147000,
          "Gender": "Female",
          "Purchased": 1
         },
         {
          "Age": 35,
          "EstimatedSalary": 73000,
          "Gender": "Male",
          "Purchased": 0
         },
         {
          "Age": 41,
          "EstimatedSalary": 52000,
          "Gender": "Male",
          "Purchased": 0
         },
         {
          "Age": 44,
          "EstimatedSalary": 139000,
          "Gender": "Female",
          "Purchased": 1
         },
         {
          "Age": 59,
          "EstimatedSalary": 29000,
          "Gender": "Female",
          "Purchased": 1
         }
        ]
       },
       "encoding": {
        "x": {
         "field": "Age",
         "type": "quantitative"
        },
        "y": {
         "aggregate": "count",
         "title": "Number of Users",
         "type": "quantitative"
        }
       },
       "mark": "bar",
       "title": "User Age Distribution"
      },
      "image/png": "[encoded data removed]",
      "text/plain": [
       "<VegaLite 3 object>\n",
       "\n",
       "If you see this message, it means the renderer has not been properly enabled\n",
       "for the frontend that you are using. For more information, see\n",
       "https://altair-viz.github.io/user_guide/troubleshooting.html\n"
      ]
     },
     "execution_count": 41,
     "metadata": {},
     "output_type": "execute_result"
    }
   ],
   "source": [
    "alt.Chart(media_df_train).mark_bar().encode(\n",
    "    alt.X(\"Age\"),\n",
    "    alt.Y(\"count()\", title = \"Number of Users\"),\n",
    ").properties(title = \"User Age Distribution\")"
   ]
  },
  {
   "cell_type": "code",
   "execution_count": null,
   "metadata": {},
   "outputs": [],
   "source": []
  }
 ],
 "metadata": {
  "kernelspec": {
   "display_name": "Python 3",
   "language": "python",
   "name": "python3"
  },
  "language_info": {
   "codemirror_mode": {
    "name": "ipython",
    "version": 3
   },
   "file_extension": ".py",
   "mimetype": "text/x-python",
   "name": "python",
   "nbconvert_exporter": "python",
   "pygments_lexer": "ipython3",
   "version": "3.7.3"
  }
 },
 "nbformat": 4,
 "nbformat_minor": 4
}
