{
 "cells": [
  {
   "cell_type": "markdown",
   "metadata": {},
   "source": [
    "# Blood Donation Predictors Report"
   ]
  },
  {
   "cell_type": "markdown",
   "metadata": {},
   "source": [
    "## Introduction\n",
    "\n",
    "Blood donations are a vital component of saving lives, and there is an ever-growing need for healthy and clean volunteer donors (Gillespie & Hillyer, 2002). Finding donors that will be a repeated donor is a hard task for many transfusion centers (Armitage & Conner, 2001). This leads to a need for understanding what motivates individuals to donate blood, and whether there are certain factors that effect if someone chooses to donate blood or not, specifically if they have previously been a donor. To try and address this question we explore a dataset provided by I-Cheng et al. (2008) which indicates whether an individual donated blood or not. Each donor has four characteristics associated with them, 1) the time in months since their last donation (Recency), 2) the total number of times they have donated (Frequency), 3) the total amount of blood they have donated in centilitres (Monetary), and 4) the time since their first donation in months (Time). We are using this dataset to observe whether these features influence whether an individual donated blood. "
   ]
  },
  {
   "cell_type": "markdown",
   "metadata": {},
   "source": [
    "## Preliminary EDA \n",
    "\n",
    "Before creating any models or statistical tests we conducted a preliminary exploratory data analysis to provide insights into how or model would perform. Prior to the EDA we split our data into train and test sets, and the used the train set to derive information. As shown in Table 1, we determined that there were 598 observation in our train dataset. We separated our data into two additional tables based on the target class, Table 2 for only those that did not donate, and Table 3 which was only cases where there was a donation. Based on this separating we saw our data was imbalanced. Class 1 representing those candidates who did not donate, had 460 observations, versus class 2 with 138 individuals who did donate. We also noted from Table 1 that almost all features had a high variance, which indicated to us that these may not exceptionally predictive. "
   ]
  },
  {
   "cell_type": "code",
   "execution_count": 19,
   "metadata": {},
   "outputs": [
    {
     "name": "stdout",
     "output_type": "stream",
     "text": [
      "Table 1:\n"
     ]
    },
    {
     "data": {
      "text/html": [
       "<div>\n",
       "<style scoped>\n",
       "    .dataframe tbody tr th:only-of-type {\n",
       "        vertical-align: middle;\n",
       "    }\n",
       "\n",
       "    .dataframe tbody tr th {\n",
       "        vertical-align: top;\n",
       "    }\n",
       "\n",
       "    .dataframe thead th {\n",
       "        text-align: right;\n",
       "    }\n",
       "</style>\n",
       "<table border=\"1\" class=\"dataframe\">\n",
       "  <thead>\n",
       "    <tr style=\"text-align: right;\">\n",
       "      <th></th>\n",
       "      <th>since_last_don</th>\n",
       "      <th>total_dons</th>\n",
       "      <th>total_blood</th>\n",
       "      <th>since_first_don</th>\n",
       "      <th>Class</th>\n",
       "    </tr>\n",
       "  </thead>\n",
       "  <tbody>\n",
       "    <tr>\n",
       "      <td>count</td>\n",
       "      <td>598.000000</td>\n",
       "      <td>598.000000</td>\n",
       "      <td>598.000000</td>\n",
       "      <td>598.000000</td>\n",
       "      <td>598.000000</td>\n",
       "    </tr>\n",
       "    <tr>\n",
       "      <td>mean</td>\n",
       "      <td>9.951505</td>\n",
       "      <td>5.653846</td>\n",
       "      <td>1413.461538</td>\n",
       "      <td>35.030100</td>\n",
       "      <td>1.230769</td>\n",
       "    </tr>\n",
       "    <tr>\n",
       "      <td>std</td>\n",
       "      <td>8.399130</td>\n",
       "      <td>5.939018</td>\n",
       "      <td>1484.754538</td>\n",
       "      <td>24.345691</td>\n",
       "      <td>0.421678</td>\n",
       "    </tr>\n",
       "    <tr>\n",
       "      <td>min</td>\n",
       "      <td>0.000000</td>\n",
       "      <td>1.000000</td>\n",
       "      <td>250.000000</td>\n",
       "      <td>2.000000</td>\n",
       "      <td>1.000000</td>\n",
       "    </tr>\n",
       "    <tr>\n",
       "      <td>25%</td>\n",
       "      <td>4.000000</td>\n",
       "      <td>2.000000</td>\n",
       "      <td>500.000000</td>\n",
       "      <td>16.000000</td>\n",
       "      <td>1.000000</td>\n",
       "    </tr>\n",
       "    <tr>\n",
       "      <td>50%</td>\n",
       "      <td>9.000000</td>\n",
       "      <td>4.000000</td>\n",
       "      <td>1000.000000</td>\n",
       "      <td>28.000000</td>\n",
       "      <td>1.000000</td>\n",
       "    </tr>\n",
       "    <tr>\n",
       "      <td>75%</td>\n",
       "      <td>14.750000</td>\n",
       "      <td>7.000000</td>\n",
       "      <td>1750.000000</td>\n",
       "      <td>50.750000</td>\n",
       "      <td>1.000000</td>\n",
       "    </tr>\n",
       "    <tr>\n",
       "      <td>max</td>\n",
       "      <td>74.000000</td>\n",
       "      <td>50.000000</td>\n",
       "      <td>12500.000000</td>\n",
       "      <td>98.000000</td>\n",
       "      <td>2.000000</td>\n",
       "    </tr>\n",
       "  </tbody>\n",
       "</table>\n",
       "</div>"
      ],
      "text/plain": [
       "       since_last_don  total_dons   total_blood  since_first_don       Class\n",
       "count      598.000000  598.000000    598.000000       598.000000  598.000000\n",
       "mean         9.951505    5.653846   1413.461538        35.030100    1.230769\n",
       "std          8.399130    5.939018   1484.754538        24.345691    0.421678\n",
       "min          0.000000    1.000000    250.000000         2.000000    1.000000\n",
       "25%          4.000000    2.000000    500.000000        16.000000    1.000000\n",
       "50%          9.000000    4.000000   1000.000000        28.000000    1.000000\n",
       "75%         14.750000    7.000000   1750.000000        50.750000    1.000000\n",
       "max         74.000000   50.000000  12500.000000        98.000000    2.000000"
      ]
     },
     "execution_count": 19,
     "metadata": {},
     "output_type": "execute_result"
    }
   ],
   "source": [
    "import pandas as pd\n",
    "blood_df_train = pd.read_csv('../data/processed/train_data.csv').drop('Unnamed: 0', axis = 1)\n",
    "print('Table 1:')\n",
    "blood_df_train.describe()"
   ]
  },
  {
   "cell_type": "code",
   "execution_count": 20,
   "metadata": {},
   "outputs": [
    {
     "name": "stdout",
     "output_type": "stream",
     "text": [
      "Table 2:\n"
     ]
    },
    {
     "data": {
      "text/html": [
       "<div>\n",
       "<style scoped>\n",
       "    .dataframe tbody tr th:only-of-type {\n",
       "        vertical-align: middle;\n",
       "    }\n",
       "\n",
       "    .dataframe tbody tr th {\n",
       "        vertical-align: top;\n",
       "    }\n",
       "\n",
       "    .dataframe thead th {\n",
       "        text-align: right;\n",
       "    }\n",
       "</style>\n",
       "<table border=\"1\" class=\"dataframe\">\n",
       "  <thead>\n",
       "    <tr style=\"text-align: right;\">\n",
       "      <th></th>\n",
       "      <th>since_last_don</th>\n",
       "      <th>total_dons</th>\n",
       "      <th>total_blood</th>\n",
       "      <th>since_first_don</th>\n",
       "      <th>Class</th>\n",
       "    </tr>\n",
       "  </thead>\n",
       "  <tbody>\n",
       "    <tr>\n",
       "      <td>count</td>\n",
       "      <td>460.000000</td>\n",
       "      <td>460.000000</td>\n",
       "      <td>460.000000</td>\n",
       "      <td>460.000000</td>\n",
       "      <td>460.0</td>\n",
       "    </tr>\n",
       "    <tr>\n",
       "      <td>mean</td>\n",
       "      <td>11.315217</td>\n",
       "      <td>4.969565</td>\n",
       "      <td>1242.391304</td>\n",
       "      <td>36.121739</td>\n",
       "      <td>1.0</td>\n",
       "    </tr>\n",
       "    <tr>\n",
       "      <td>std</td>\n",
       "      <td>8.699697</td>\n",
       "      <td>4.908215</td>\n",
       "      <td>1227.053762</td>\n",
       "      <td>24.566267</td>\n",
       "      <td>0.0</td>\n",
       "    </tr>\n",
       "    <tr>\n",
       "      <td>min</td>\n",
       "      <td>0.000000</td>\n",
       "      <td>1.000000</td>\n",
       "      <td>250.000000</td>\n",
       "      <td>2.000000</td>\n",
       "      <td>1.0</td>\n",
       "    </tr>\n",
       "    <tr>\n",
       "      <td>25%</td>\n",
       "      <td>4.000000</td>\n",
       "      <td>2.000000</td>\n",
       "      <td>500.000000</td>\n",
       "      <td>16.000000</td>\n",
       "      <td>1.0</td>\n",
       "    </tr>\n",
       "    <tr>\n",
       "      <td>50%</td>\n",
       "      <td>11.000000</td>\n",
       "      <td>3.000000</td>\n",
       "      <td>750.000000</td>\n",
       "      <td>28.000000</td>\n",
       "      <td>1.0</td>\n",
       "    </tr>\n",
       "    <tr>\n",
       "      <td>75%</td>\n",
       "      <td>16.000000</td>\n",
       "      <td>7.000000</td>\n",
       "      <td>1750.000000</td>\n",
       "      <td>52.000000</td>\n",
       "      <td>1.0</td>\n",
       "    </tr>\n",
       "    <tr>\n",
       "      <td>max</td>\n",
       "      <td>74.000000</td>\n",
       "      <td>44.000000</td>\n",
       "      <td>11000.000000</td>\n",
       "      <td>98.000000</td>\n",
       "      <td>1.0</td>\n",
       "    </tr>\n",
       "  </tbody>\n",
       "</table>\n",
       "</div>"
      ],
      "text/plain": [
       "       since_last_don  total_dons   total_blood  since_first_don  Class\n",
       "count      460.000000  460.000000    460.000000       460.000000  460.0\n",
       "mean        11.315217    4.969565   1242.391304        36.121739    1.0\n",
       "std          8.699697    4.908215   1227.053762        24.566267    0.0\n",
       "min          0.000000    1.000000    250.000000         2.000000    1.0\n",
       "25%          4.000000    2.000000    500.000000        16.000000    1.0\n",
       "50%         11.000000    3.000000    750.000000        28.000000    1.0\n",
       "75%         16.000000    7.000000   1750.000000        52.000000    1.0\n",
       "max         74.000000   44.000000  11000.000000        98.000000    1.0"
      ]
     },
     "execution_count": 20,
     "metadata": {},
     "output_type": "execute_result"
    }
   ],
   "source": [
    "print('Table 2:')\n",
    "blood_df_train[blood_df_train['Class']==1].describe()"
   ]
  },
  {
   "cell_type": "code",
   "execution_count": 18,
   "metadata": {},
   "outputs": [
    {
     "name": "stdout",
     "output_type": "stream",
     "text": [
      "Table 3:\n"
     ]
    },
    {
     "data": {
      "text/html": [
       "<div>\n",
       "<style scoped>\n",
       "    .dataframe tbody tr th:only-of-type {\n",
       "        vertical-align: middle;\n",
       "    }\n",
       "\n",
       "    .dataframe tbody tr th {\n",
       "        vertical-align: top;\n",
       "    }\n",
       "\n",
       "    .dataframe thead th {\n",
       "        text-align: right;\n",
       "    }\n",
       "</style>\n",
       "<table border=\"1\" class=\"dataframe\">\n",
       "  <thead>\n",
       "    <tr style=\"text-align: right;\">\n",
       "      <th></th>\n",
       "      <th>since_last_don</th>\n",
       "      <th>total_dons</th>\n",
       "      <th>total_blood</th>\n",
       "      <th>since_first_don</th>\n",
       "      <th>Class</th>\n",
       "    </tr>\n",
       "  </thead>\n",
       "  <tbody>\n",
       "    <tr>\n",
       "      <td>count</td>\n",
       "      <td>138.000000</td>\n",
       "      <td>138.000000</td>\n",
       "      <td>138.000000</td>\n",
       "      <td>138.000000</td>\n",
       "      <td>138.0</td>\n",
       "    </tr>\n",
       "    <tr>\n",
       "      <td>mean</td>\n",
       "      <td>5.405797</td>\n",
       "      <td>7.934783</td>\n",
       "      <td>1983.695652</td>\n",
       "      <td>31.391304</td>\n",
       "      <td>2.0</td>\n",
       "    </tr>\n",
       "    <tr>\n",
       "      <td>std</td>\n",
       "      <td>5.175233</td>\n",
       "      <td>8.134998</td>\n",
       "      <td>2033.749576</td>\n",
       "      <td>23.314240</td>\n",
       "      <td>0.0</td>\n",
       "    </tr>\n",
       "    <tr>\n",
       "      <td>min</td>\n",
       "      <td>0.000000</td>\n",
       "      <td>1.000000</td>\n",
       "      <td>250.000000</td>\n",
       "      <td>2.000000</td>\n",
       "      <td>2.0</td>\n",
       "    </tr>\n",
       "    <tr>\n",
       "      <td>25%</td>\n",
       "      <td>2.000000</td>\n",
       "      <td>3.000000</td>\n",
       "      <td>750.000000</td>\n",
       "      <td>15.000000</td>\n",
       "      <td>2.0</td>\n",
       "    </tr>\n",
       "    <tr>\n",
       "      <td>50%</td>\n",
       "      <td>4.000000</td>\n",
       "      <td>6.000000</td>\n",
       "      <td>1500.000000</td>\n",
       "      <td>28.000000</td>\n",
       "      <td>2.0</td>\n",
       "    </tr>\n",
       "    <tr>\n",
       "      <td>75%</td>\n",
       "      <td>4.000000</td>\n",
       "      <td>10.000000</td>\n",
       "      <td>2500.000000</td>\n",
       "      <td>41.750000</td>\n",
       "      <td>2.0</td>\n",
       "    </tr>\n",
       "    <tr>\n",
       "      <td>max</td>\n",
       "      <td>26.000000</td>\n",
       "      <td>50.000000</td>\n",
       "      <td>12500.000000</td>\n",
       "      <td>98.000000</td>\n",
       "      <td>2.0</td>\n",
       "    </tr>\n",
       "  </tbody>\n",
       "</table>\n",
       "</div>"
      ],
      "text/plain": [
       "       since_last_don  total_dons   total_blood  since_first_don  Class\n",
       "count      138.000000  138.000000    138.000000       138.000000  138.0\n",
       "mean         5.405797    7.934783   1983.695652        31.391304    2.0\n",
       "std          5.175233    8.134998   2033.749576        23.314240    0.0\n",
       "min          0.000000    1.000000    250.000000         2.000000    2.0\n",
       "25%          2.000000    3.000000    750.000000        15.000000    2.0\n",
       "50%          4.000000    6.000000   1500.000000        28.000000    2.0\n",
       "75%          4.000000   10.000000   2500.000000        41.750000    2.0\n",
       "max         26.000000   50.000000  12500.000000        98.000000    2.0"
      ]
     },
     "execution_count": 18,
     "metadata": {},
     "output_type": "execute_result"
    }
   ],
   "source": [
    "print('Table 3:')\n",
    "blood_df_train[blood_df_train['Class']==2].describe()"
   ]
  },
  {
   "cell_type": "markdown",
   "metadata": {},
   "source": [
    "In addition to the tables we also created visualization to help us understand the distribution of the data. Though not included in this report, in the EDA.ipynb file we looked at all observations together, regardless of whether the observation indicated donated or not donated, through our plots observed that almost all features had an exponential distribution. This carried through to figures 1, 2, 3 and 4 seen below where we chose to separate the features based on class. Both classes had an exponential distribution and followed the same trend. This indicated that these features may not be particularity strong in binary classification, even though the data represented a binary classification problem. "
   ]
  },
  {
   "cell_type": "markdown",
   "metadata": {},
   "source": [
    "### Figure 1."
   ]
  },
  {
   "cell_type": "markdown",
   "metadata": {},
   "source": [
    "![Figure 1](../results/since_first_don.png)"
   ]
  },
  {
   "cell_type": "markdown",
   "metadata": {},
   "source": [
    "### Figure 2."
   ]
  },
  {
   "cell_type": "markdown",
   "metadata": {},
   "source": [
    "![Figure 2](../results/since_last_don.png)"
   ]
  },
  {
   "cell_type": "markdown",
   "metadata": {},
   "source": [
    "### Figure 3."
   ]
  },
  {
   "cell_type": "markdown",
   "metadata": {},
   "source": [
    "![Figure 3](../results/total_blood.png)"
   ]
  },
  {
   "cell_type": "markdown",
   "metadata": {},
   "source": [
    "### Figure 4"
   ]
  },
  {
   "cell_type": "markdown",
   "metadata": {},
   "source": [
    "![Figure 4](../results/total_dons.png)"
   ]
  },
  {
   "cell_type": "markdown",
   "metadata": {},
   "source": [
    "## Methodology\n",
    "\n",
    "We implemented a decision tree model from Scikit Learn to follow through on our observations from the EDA and address our research question. We chose a decision tree since it is suited to binary classification and is easily interpretable. Prior to implementing the model, we cleaned and processed the data to ensure there were no missing or erroneous values. We then selected a random subset of the class 1 portion of the training data to address the training imbalance, so our model was trained on a dataset that had a 50% split of classes. Once this was completed, we created a decision tree model and performed a GridCV search to tune for the best maximum depth hyperparameter with 10-fold cross validation to fit and train the model. "
   ]
  },
  {
   "cell_type": "markdown",
   "metadata": {},
   "source": [
    "## Results \n",
    "\n",
    "As shown in Table 4., with our GridCV search we were able to determine that the best `max_depth` setting was 7. With that value we got a CV accuracy score of 0.65, with a training error of 0.14 and a validation error of 0.35. \n"
   ]
  },
  {
   "cell_type": "code",
   "execution_count": 24,
   "metadata": {},
   "outputs": [
    {
     "name": "stdout",
     "output_type": "stream",
     "text": [
      "Table 5:\n"
     ]
    },
    {
     "data": {
      "text/html": [
       "<div>\n",
       "<style scoped>\n",
       "    .dataframe tbody tr th:only-of-type {\n",
       "        vertical-align: middle;\n",
       "    }\n",
       "\n",
       "    .dataframe tbody tr th {\n",
       "        vertical-align: top;\n",
       "    }\n",
       "\n",
       "    .dataframe thead th {\n",
       "        text-align: right;\n",
       "    }\n",
       "</style>\n",
       "<table border=\"1\" class=\"dataframe\">\n",
       "  <thead>\n",
       "    <tr style=\"text-align: right;\">\n",
       "      <th></th>\n",
       "      <th>Best_max_depth</th>\n",
       "      <th>Best_CV_Score</th>\n",
       "      <th>Training_Error</th>\n",
       "      <th>Validation_Error</th>\n",
       "    </tr>\n",
       "  </thead>\n",
       "  <tbody>\n",
       "    <tr>\n",
       "      <td>0</td>\n",
       "      <td>7</td>\n",
       "      <td>0.65</td>\n",
       "      <td>0.140909</td>\n",
       "      <td>0.357143</td>\n",
       "    </tr>\n",
       "  </tbody>\n",
       "</table>\n",
       "</div>"
      ],
      "text/plain": [
       "   Best_max_depth  Best_CV_Score  Training_Error  Validation_Error\n",
       "0               7           0.65        0.140909          0.357143"
      ]
     },
     "execution_count": 24,
     "metadata": {},
     "output_type": "execute_result"
    }
   ],
   "source": [
    "print('Table 4:')\n",
    "pd.read_csv('../results/analysis_result.csv').drop('Unnamed: 0', axis = 1)"
   ]
  },
  {
   "cell_type": "markdown",
   "metadata": {},
   "source": [
    "## Discussion \n",
    "\n",
    "Based on our results we infer that the features of 1) time since last donation, 2) total number of donations, 3) total blood donated, and 4) the time since the first donation, all combined have some predictive power for whether a patient will donate blood. However, since our accuracy and cross validation scores were low, the combined predictive power of these features is quite low. Since the predictive power is so low, we wouldn’t recommend this model as a predictive tool for predicting blood donation. We would suggest that other factors may provide better predictions as to whether blood is donated by a past donor. "
   ]
  },
  {
   "cell_type": "markdown",
   "metadata": {},
   "source": [
    "## Conclusion\n",
    "\n",
    "Acquiring blood donations from volunteers is a crucial but difficult task. Therefore, it is important to understand what motivates individuals to donate. We assed four predictors for donation, and though they proved to be better than random, our results don’t indicate them to be robust predictors and we therefore suggest additional information needs to be acquired to better predict blood donations. \n"
   ]
  },
  {
   "cell_type": "markdown",
   "metadata": {},
   "source": [
    "## References:\n",
    "\n",
    "Armitage, C. J., & Conner, M. (2001). Social cognitive determinants of blood donation. Journal of applied social psychology, 31(7), 1431-1457.\n",
    "</br></br>\n",
    "Gillespie, T. W., & Hillyer, C. D. (2002). Blood donors and factors impacting the blood donation decision. Transfusion Medicine Reviews, 16(2), 115-130.\n",
    "</br></br>\n",
    "Yeh, I. C., Yang, K. J., & Ting, T. M. (2009). Knowledge discovery on RFM model using Bernoulli sequence. Expert Systems with Applications, 36(3), 5866-5871\n"
   ]
  }
 ],
 "metadata": {
  "kernelspec": {
   "display_name": "Python 3",
   "language": "python",
   "name": "python3"
  },
  "language_info": {
   "codemirror_mode": {
    "name": "ipython",
    "version": 3
   },
   "file_extension": ".py",
   "mimetype": "text/x-python",
   "name": "python",
   "nbconvert_exporter": "python",
   "pygments_lexer": "ipython3",
   "version": "3.7.4"
  }
 },
 "nbformat": 4,
 "nbformat_minor": 4
}
