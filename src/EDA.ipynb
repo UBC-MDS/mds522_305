{
 "cells": [
  {
   "cell_type": "markdown",
   "metadata": {},
   "source": [
    "# Exploratory Data Analysis"
   ]
  },
  {
   "cell_type": "markdown",
   "metadata": {},
   "source": [
    "## 1. Data Description\n",
    "\n",
    "- This dataset described whether an individual donates blood or not based on past donation history.\n",
    "- This is a dataset that originally from the paper *Yeh, I-Cheng, Yang, King-Jang, and Ting, Tao-Ming, \"Knowledge discovery on RFM model using Bernoulli sequence,\" Expert Systems with Applications, 2008* and can be found on the UCI machine learning repository at: https://archive.ics.uci.edu/ml/datasets/Blood+Transfusion+Service+Center."
   ]
  },
  {
   "cell_type": "markdown",
   "metadata": {},
   "source": [
    "## 2. Load the Dataset"
   ]
  },
  {
   "cell_type": "code",
   "execution_count": 1,
   "metadata": {},
   "outputs": [],
   "source": [
    "import datapackage\n",
    "import pandas as pd\n",
    "from sklearn.model_selection import train_test_split\n",
    "import altair as alt "
   ]
  },
  {
   "cell_type": "code",
   "execution_count": 2,
   "metadata": {},
   "outputs": [],
   "source": [
    "data_url = 'https://datahub.io/machine-learning/blood-transfusion-service-center/datapackage.json'\n",
    "\n",
    "# to load Data Package into storage\n",
    "package = datapackage.Package(data_url)\n",
    "\n",
    "# to load only tabular data\n",
    "resources = package.resources\n",
    "for resource in resources:\n",
    "    if resource.tabular:\n",
    "        blood_df = pd.read_csv(resource.descriptor['path'])"
   ]
  },
  {
   "cell_type": "code",
   "execution_count": 3,
   "metadata": {},
   "outputs": [
    {
     "data": {
      "text/html": [
       "<div>\n",
       "<style scoped>\n",
       "    .dataframe tbody tr th:only-of-type {\n",
       "        vertical-align: middle;\n",
       "    }\n",
       "\n",
       "    .dataframe tbody tr th {\n",
       "        vertical-align: top;\n",
       "    }\n",
       "\n",
       "    .dataframe thead th {\n",
       "        text-align: right;\n",
       "    }\n",
       "</style>\n",
       "<table border=\"1\" class=\"dataframe\">\n",
       "  <thead>\n",
       "    <tr style=\"text-align: right;\">\n",
       "      <th></th>\n",
       "      <th>V1</th>\n",
       "      <th>V2</th>\n",
       "      <th>V3</th>\n",
       "      <th>V4</th>\n",
       "      <th>Class</th>\n",
       "    </tr>\n",
       "  </thead>\n",
       "  <tbody>\n",
       "    <tr>\n",
       "      <th>0</th>\n",
       "      <td>2</td>\n",
       "      <td>50</td>\n",
       "      <td>12500</td>\n",
       "      <td>98</td>\n",
       "      <td>2</td>\n",
       "    </tr>\n",
       "    <tr>\n",
       "      <th>1</th>\n",
       "      <td>0</td>\n",
       "      <td>13</td>\n",
       "      <td>3250</td>\n",
       "      <td>28</td>\n",
       "      <td>2</td>\n",
       "    </tr>\n",
       "    <tr>\n",
       "      <th>2</th>\n",
       "      <td>1</td>\n",
       "      <td>16</td>\n",
       "      <td>4000</td>\n",
       "      <td>35</td>\n",
       "      <td>2</td>\n",
       "    </tr>\n",
       "    <tr>\n",
       "      <th>3</th>\n",
       "      <td>2</td>\n",
       "      <td>20</td>\n",
       "      <td>5000</td>\n",
       "      <td>45</td>\n",
       "      <td>2</td>\n",
       "    </tr>\n",
       "    <tr>\n",
       "      <th>4</th>\n",
       "      <td>1</td>\n",
       "      <td>24</td>\n",
       "      <td>6000</td>\n",
       "      <td>77</td>\n",
       "      <td>1</td>\n",
       "    </tr>\n",
       "  </tbody>\n",
       "</table>\n",
       "</div>"
      ],
      "text/plain": [
       "   V1  V2     V3  V4  Class\n",
       "0   2  50  12500  98      2\n",
       "1   0  13   3250  28      2\n",
       "2   1  16   4000  35      2\n",
       "3   2  20   5000  45      2\n",
       "4   1  24   6000  77      1"
      ]
     },
     "execution_count": 3,
     "metadata": {},
     "output_type": "execute_result"
    }
   ],
   "source": [
    "blood_df.head()"
   ]
  },
  {
   "cell_type": "code",
   "execution_count": 4,
   "metadata": {},
   "outputs": [],
   "source": [
    "X = blood_df.iloc[:,0:-1]\n",
    "y = blood_df.iloc[:,-1]\n",
    "# split training and testing\n",
    "X_train, X_test, y_train, y_test = train_test_split(X,\n",
    "                                                    y,\n",
    "                                                    test_size=0.2, random_state = 123)"
   ]
  },
  {
   "cell_type": "code",
   "execution_count": 5,
   "metadata": {},
   "outputs": [
    {
     "data": {
      "text/html": [
       "<div>\n",
       "<style scoped>\n",
       "    .dataframe tbody tr th:only-of-type {\n",
       "        vertical-align: middle;\n",
       "    }\n",
       "\n",
       "    .dataframe tbody tr th {\n",
       "        vertical-align: top;\n",
       "    }\n",
       "\n",
       "    .dataframe thead th {\n",
       "        text-align: right;\n",
       "    }\n",
       "</style>\n",
       "<table border=\"1\" class=\"dataframe\">\n",
       "  <thead>\n",
       "    <tr style=\"text-align: right;\">\n",
       "      <th></th>\n",
       "      <th>V1</th>\n",
       "      <th>V2</th>\n",
       "      <th>V3</th>\n",
       "      <th>V4</th>\n",
       "      <th>Class</th>\n",
       "    </tr>\n",
       "  </thead>\n",
       "  <tbody>\n",
       "    <tr>\n",
       "      <th>239</th>\n",
       "      <td>8</td>\n",
       "      <td>9</td>\n",
       "      <td>2250</td>\n",
       "      <td>58</td>\n",
       "      <td>1</td>\n",
       "    </tr>\n",
       "    <tr>\n",
       "      <th>269</th>\n",
       "      <td>13</td>\n",
       "      <td>4</td>\n",
       "      <td>1000</td>\n",
       "      <td>21</td>\n",
       "      <td>1</td>\n",
       "    </tr>\n",
       "    <tr>\n",
       "      <th>151</th>\n",
       "      <td>4</td>\n",
       "      <td>6</td>\n",
       "      <td>1500</td>\n",
       "      <td>39</td>\n",
       "      <td>1</td>\n",
       "    </tr>\n",
       "    <tr>\n",
       "      <th>245</th>\n",
       "      <td>4</td>\n",
       "      <td>5</td>\n",
       "      <td>1250</td>\n",
       "      <td>46</td>\n",
       "      <td>1</td>\n",
       "    </tr>\n",
       "    <tr>\n",
       "      <th>59</th>\n",
       "      <td>3</td>\n",
       "      <td>6</td>\n",
       "      <td>1500</td>\n",
       "      <td>21</td>\n",
       "      <td>1</td>\n",
       "    </tr>\n",
       "  </tbody>\n",
       "</table>\n",
       "</div>"
      ],
      "text/plain": [
       "     V1  V2    V3  V4  Class\n",
       "239   8   9  2250  58      1\n",
       "269  13   4  1000  21      1\n",
       "151   4   6  1500  39      1\n",
       "245   4   5  1250  46      1\n",
       "59    3   6  1500  21      1"
      ]
     },
     "execution_count": 5,
     "metadata": {},
     "output_type": "execute_result"
    }
   ],
   "source": [
    "blood_df_train = X_train\n",
    "blood_df_train = pd.merge(blood_df_train, y_train, left_index=True, right_index=True)\n",
    "blood_df_train.head()"
   ]
  },
  {
   "cell_type": "code",
   "execution_count": 6,
   "metadata": {},
   "outputs": [],
   "source": [
    "blood_df_train = blood_df_train.rename(columns={\"V1\": \"since_last_don\", \"V2\": \"total_dons\", \"V3\": \"total_blood\", \"V4\": \"since_first_don\"})"
   ]
  },
  {
   "cell_type": "markdown",
   "metadata": {},
   "source": [
    "## 3. Explore the Dataset"
   ]
  },
  {
   "cell_type": "code",
   "execution_count": 7,
   "metadata": {},
   "outputs": [
    {
     "data": {
      "text/plain": [
       "since_last_don     False\n",
       "total_dons         False\n",
       "total_blood        False\n",
       "since_first_don    False\n",
       "Class              False\n",
       "dtype: bool"
      ]
     },
     "execution_count": 7,
     "metadata": {},
     "output_type": "execute_result"
    }
   ],
   "source": [
    "blood_df_train.isna().any()"
   ]
  },
  {
   "cell_type": "markdown",
   "metadata": {},
   "source": [
    "> We can see that there are no missing values in our dataset."
   ]
  },
  {
   "cell_type": "code",
   "execution_count": 8,
   "metadata": {},
   "outputs": [
    {
     "name": "stdout",
     "output_type": "stream",
     "text": [
      "(598, 5)\n",
      "Index(['since_last_don', 'total_dons', 'total_blood', 'since_first_don',\n",
      "       'Class'],\n",
      "      dtype='object')\n"
     ]
    }
   ],
   "source": [
    "print(blood_df_train.shape)\n",
    "print(blood_df_train.columns)"
   ]
  },
  {
   "cell_type": "markdown",
   "metadata": {},
   "source": [
    "> The dataset has 5 columns, 4 different features and our target which is whether they have donated or not, represented by a binary variable with 1 being not donated and 2 being donated. The `since_last_don` and `since_first_don` columns are time in months."
   ]
  },
  {
   "cell_type": "code",
   "execution_count": 9,
   "metadata": {},
   "outputs": [
    {
     "data": {
      "text/html": [
       "<div>\n",
       "<style scoped>\n",
       "    .dataframe tbody tr th:only-of-type {\n",
       "        vertical-align: middle;\n",
       "    }\n",
       "\n",
       "    .dataframe tbody tr th {\n",
       "        vertical-align: top;\n",
       "    }\n",
       "\n",
       "    .dataframe thead th {\n",
       "        text-align: right;\n",
       "    }\n",
       "</style>\n",
       "<table border=\"1\" class=\"dataframe\">\n",
       "  <thead>\n",
       "    <tr style=\"text-align: right;\">\n",
       "      <th></th>\n",
       "      <th>since_last_don</th>\n",
       "      <th>total_dons</th>\n",
       "      <th>total_blood</th>\n",
       "      <th>since_first_don</th>\n",
       "      <th>Class</th>\n",
       "    </tr>\n",
       "  </thead>\n",
       "  <tbody>\n",
       "    <tr>\n",
       "      <th>count</th>\n",
       "      <td>598.000000</td>\n",
       "      <td>598.000000</td>\n",
       "      <td>598.000000</td>\n",
       "      <td>598.000000</td>\n",
       "      <td>598.000000</td>\n",
       "    </tr>\n",
       "    <tr>\n",
       "      <th>mean</th>\n",
       "      <td>9.951505</td>\n",
       "      <td>5.653846</td>\n",
       "      <td>1413.461538</td>\n",
       "      <td>35.030100</td>\n",
       "      <td>1.230769</td>\n",
       "    </tr>\n",
       "    <tr>\n",
       "      <th>std</th>\n",
       "      <td>8.399130</td>\n",
       "      <td>5.939018</td>\n",
       "      <td>1484.754538</td>\n",
       "      <td>24.345691</td>\n",
       "      <td>0.421678</td>\n",
       "    </tr>\n",
       "    <tr>\n",
       "      <th>min</th>\n",
       "      <td>0.000000</td>\n",
       "      <td>1.000000</td>\n",
       "      <td>250.000000</td>\n",
       "      <td>2.000000</td>\n",
       "      <td>1.000000</td>\n",
       "    </tr>\n",
       "    <tr>\n",
       "      <th>25%</th>\n",
       "      <td>4.000000</td>\n",
       "      <td>2.000000</td>\n",
       "      <td>500.000000</td>\n",
       "      <td>16.000000</td>\n",
       "      <td>1.000000</td>\n",
       "    </tr>\n",
       "    <tr>\n",
       "      <th>50%</th>\n",
       "      <td>9.000000</td>\n",
       "      <td>4.000000</td>\n",
       "      <td>1000.000000</td>\n",
       "      <td>28.000000</td>\n",
       "      <td>1.000000</td>\n",
       "    </tr>\n",
       "    <tr>\n",
       "      <th>75%</th>\n",
       "      <td>14.750000</td>\n",
       "      <td>7.000000</td>\n",
       "      <td>1750.000000</td>\n",
       "      <td>50.750000</td>\n",
       "      <td>1.000000</td>\n",
       "    </tr>\n",
       "    <tr>\n",
       "      <th>max</th>\n",
       "      <td>74.000000</td>\n",
       "      <td>50.000000</td>\n",
       "      <td>12500.000000</td>\n",
       "      <td>98.000000</td>\n",
       "      <td>2.000000</td>\n",
       "    </tr>\n",
       "  </tbody>\n",
       "</table>\n",
       "</div>"
      ],
      "text/plain": [
       "       since_last_don  total_dons   total_blood  since_first_don       Class\n",
       "count      598.000000  598.000000    598.000000       598.000000  598.000000\n",
       "mean         9.951505    5.653846   1413.461538        35.030100    1.230769\n",
       "std          8.399130    5.939018   1484.754538        24.345691    0.421678\n",
       "min          0.000000    1.000000    250.000000         2.000000    1.000000\n",
       "25%          4.000000    2.000000    500.000000        16.000000    1.000000\n",
       "50%          9.000000    4.000000   1000.000000        28.000000    1.000000\n",
       "75%         14.750000    7.000000   1750.000000        50.750000    1.000000\n",
       "max         74.000000   50.000000  12500.000000        98.000000    2.000000"
      ]
     },
     "execution_count": 9,
     "metadata": {},
     "output_type": "execute_result"
    }
   ],
   "source": [
    "#general summary for all data\n",
    "blood_df_train.describe()"
   ]
  },
  {
   "cell_type": "code",
   "execution_count": 10,
   "metadata": {},
   "outputs": [
    {
     "data": {
      "text/html": [
       "<div>\n",
       "<style scoped>\n",
       "    .dataframe tbody tr th:only-of-type {\n",
       "        vertical-align: middle;\n",
       "    }\n",
       "\n",
       "    .dataframe tbody tr th {\n",
       "        vertical-align: top;\n",
       "    }\n",
       "\n",
       "    .dataframe thead th {\n",
       "        text-align: right;\n",
       "    }\n",
       "</style>\n",
       "<table border=\"1\" class=\"dataframe\">\n",
       "  <thead>\n",
       "    <tr style=\"text-align: right;\">\n",
       "      <th></th>\n",
       "      <th>since_last_don</th>\n",
       "      <th>total_dons</th>\n",
       "      <th>total_blood</th>\n",
       "      <th>since_first_don</th>\n",
       "      <th>Class</th>\n",
       "    </tr>\n",
       "  </thead>\n",
       "  <tbody>\n",
       "    <tr>\n",
       "      <th>count</th>\n",
       "      <td>460.000000</td>\n",
       "      <td>460.000000</td>\n",
       "      <td>460.000000</td>\n",
       "      <td>460.000000</td>\n",
       "      <td>460.0</td>\n",
       "    </tr>\n",
       "    <tr>\n",
       "      <th>mean</th>\n",
       "      <td>11.315217</td>\n",
       "      <td>4.969565</td>\n",
       "      <td>1242.391304</td>\n",
       "      <td>36.121739</td>\n",
       "      <td>1.0</td>\n",
       "    </tr>\n",
       "    <tr>\n",
       "      <th>std</th>\n",
       "      <td>8.699697</td>\n",
       "      <td>4.908215</td>\n",
       "      <td>1227.053762</td>\n",
       "      <td>24.566267</td>\n",
       "      <td>0.0</td>\n",
       "    </tr>\n",
       "    <tr>\n",
       "      <th>min</th>\n",
       "      <td>0.000000</td>\n",
       "      <td>1.000000</td>\n",
       "      <td>250.000000</td>\n",
       "      <td>2.000000</td>\n",
       "      <td>1.0</td>\n",
       "    </tr>\n",
       "    <tr>\n",
       "      <th>25%</th>\n",
       "      <td>4.000000</td>\n",
       "      <td>2.000000</td>\n",
       "      <td>500.000000</td>\n",
       "      <td>16.000000</td>\n",
       "      <td>1.0</td>\n",
       "    </tr>\n",
       "    <tr>\n",
       "      <th>50%</th>\n",
       "      <td>11.000000</td>\n",
       "      <td>3.000000</td>\n",
       "      <td>750.000000</td>\n",
       "      <td>28.000000</td>\n",
       "      <td>1.0</td>\n",
       "    </tr>\n",
       "    <tr>\n",
       "      <th>75%</th>\n",
       "      <td>16.000000</td>\n",
       "      <td>7.000000</td>\n",
       "      <td>1750.000000</td>\n",
       "      <td>52.000000</td>\n",
       "      <td>1.0</td>\n",
       "    </tr>\n",
       "    <tr>\n",
       "      <th>max</th>\n",
       "      <td>74.000000</td>\n",
       "      <td>44.000000</td>\n",
       "      <td>11000.000000</td>\n",
       "      <td>98.000000</td>\n",
       "      <td>1.0</td>\n",
       "    </tr>\n",
       "  </tbody>\n",
       "</table>\n",
       "</div>"
      ],
      "text/plain": [
       "       since_last_don  total_dons   total_blood  since_first_don  Class\n",
       "count      460.000000  460.000000    460.000000       460.000000  460.0\n",
       "mean        11.315217    4.969565   1242.391304        36.121739    1.0\n",
       "std          8.699697    4.908215   1227.053762        24.566267    0.0\n",
       "min          0.000000    1.000000    250.000000         2.000000    1.0\n",
       "25%          4.000000    2.000000    500.000000        16.000000    1.0\n",
       "50%         11.000000    3.000000    750.000000        28.000000    1.0\n",
       "75%         16.000000    7.000000   1750.000000        52.000000    1.0\n",
       "max         74.000000   44.000000  11000.000000        98.000000    1.0"
      ]
     },
     "execution_count": 10,
     "metadata": {},
     "output_type": "execute_result"
    }
   ],
   "source": [
    "#Summary for positive class, which is donated\n",
    "blood_df_train[blood_df_train['Class']==1].describe()"
   ]
  },
  {
   "cell_type": "code",
   "execution_count": 11,
   "metadata": {},
   "outputs": [
    {
     "data": {
      "text/html": [
       "<div>\n",
       "<style scoped>\n",
       "    .dataframe tbody tr th:only-of-type {\n",
       "        vertical-align: middle;\n",
       "    }\n",
       "\n",
       "    .dataframe tbody tr th {\n",
       "        vertical-align: top;\n",
       "    }\n",
       "\n",
       "    .dataframe thead th {\n",
       "        text-align: right;\n",
       "    }\n",
       "</style>\n",
       "<table border=\"1\" class=\"dataframe\">\n",
       "  <thead>\n",
       "    <tr style=\"text-align: right;\">\n",
       "      <th></th>\n",
       "      <th>since_last_don</th>\n",
       "      <th>total_dons</th>\n",
       "      <th>total_blood</th>\n",
       "      <th>since_first_don</th>\n",
       "      <th>Class</th>\n",
       "    </tr>\n",
       "  </thead>\n",
       "  <tbody>\n",
       "    <tr>\n",
       "      <th>count</th>\n",
       "      <td>138.000000</td>\n",
       "      <td>138.000000</td>\n",
       "      <td>138.000000</td>\n",
       "      <td>138.000000</td>\n",
       "      <td>138.0</td>\n",
       "    </tr>\n",
       "    <tr>\n",
       "      <th>mean</th>\n",
       "      <td>5.405797</td>\n",
       "      <td>7.934783</td>\n",
       "      <td>1983.695652</td>\n",
       "      <td>31.391304</td>\n",
       "      <td>2.0</td>\n",
       "    </tr>\n",
       "    <tr>\n",
       "      <th>std</th>\n",
       "      <td>5.175233</td>\n",
       "      <td>8.134998</td>\n",
       "      <td>2033.749576</td>\n",
       "      <td>23.314240</td>\n",
       "      <td>0.0</td>\n",
       "    </tr>\n",
       "    <tr>\n",
       "      <th>min</th>\n",
       "      <td>0.000000</td>\n",
       "      <td>1.000000</td>\n",
       "      <td>250.000000</td>\n",
       "      <td>2.000000</td>\n",
       "      <td>2.0</td>\n",
       "    </tr>\n",
       "    <tr>\n",
       "      <th>25%</th>\n",
       "      <td>2.000000</td>\n",
       "      <td>3.000000</td>\n",
       "      <td>750.000000</td>\n",
       "      <td>15.000000</td>\n",
       "      <td>2.0</td>\n",
       "    </tr>\n",
       "    <tr>\n",
       "      <th>50%</th>\n",
       "      <td>4.000000</td>\n",
       "      <td>6.000000</td>\n",
       "      <td>1500.000000</td>\n",
       "      <td>28.000000</td>\n",
       "      <td>2.0</td>\n",
       "    </tr>\n",
       "    <tr>\n",
       "      <th>75%</th>\n",
       "      <td>4.000000</td>\n",
       "      <td>10.000000</td>\n",
       "      <td>2500.000000</td>\n",
       "      <td>41.750000</td>\n",
       "      <td>2.0</td>\n",
       "    </tr>\n",
       "    <tr>\n",
       "      <th>max</th>\n",
       "      <td>26.000000</td>\n",
       "      <td>50.000000</td>\n",
       "      <td>12500.000000</td>\n",
       "      <td>98.000000</td>\n",
       "      <td>2.0</td>\n",
       "    </tr>\n",
       "  </tbody>\n",
       "</table>\n",
       "</div>"
      ],
      "text/plain": [
       "       since_last_don  total_dons   total_blood  since_first_don  Class\n",
       "count      138.000000  138.000000    138.000000       138.000000  138.0\n",
       "mean         5.405797    7.934783   1983.695652        31.391304    2.0\n",
       "std          5.175233    8.134998   2033.749576        23.314240    0.0\n",
       "min          0.000000    1.000000    250.000000         2.000000    2.0\n",
       "25%          2.000000    3.000000    750.000000        15.000000    2.0\n",
       "50%          4.000000    6.000000   1500.000000        28.000000    2.0\n",
       "75%          4.000000   10.000000   2500.000000        41.750000    2.0\n",
       "max         26.000000   50.000000  12500.000000        98.000000    2.0"
      ]
     },
     "execution_count": 11,
     "metadata": {},
     "output_type": "execute_result"
    }
   ],
   "source": [
    "#Summary for negative class, which is not Donated\n",
    "blood_df_train[blood_df_train['Class']==2].describe()"
   ]
  },
  {
   "cell_type": "markdown",
   "metadata": {},
   "source": [
    "Comparing the summary for donated vs not donated class. We can see that the people donated is around 3 times than the people are not donated."
   ]
  },
  {
   "cell_type": "markdown",
   "metadata": {},
   "source": [
    "## 4. Data Visualizations"
   ]
  },
  {
   "cell_type": "code",
   "execution_count": 12,
   "metadata": {},
   "outputs": [
    {
     "data": {
      "text/html": [
       "<div>\n",
       "<style scoped>\n",
       "    .dataframe tbody tr th:only-of-type {\n",
       "        vertical-align: middle;\n",
       "    }\n",
       "\n",
       "    .dataframe tbody tr th {\n",
       "        vertical-align: top;\n",
       "    }\n",
       "\n",
       "    .dataframe thead th {\n",
       "        text-align: right;\n",
       "    }\n",
       "</style>\n",
       "<table border=\"1\" class=\"dataframe\">\n",
       "  <thead>\n",
       "    <tr style=\"text-align: right;\">\n",
       "      <th></th>\n",
       "      <th>since_last_don</th>\n",
       "      <th>total_dons</th>\n",
       "      <th>total_blood</th>\n",
       "      <th>since_first_don</th>\n",
       "      <th>Class</th>\n",
       "    </tr>\n",
       "  </thead>\n",
       "  <tbody>\n",
       "    <tr>\n",
       "      <th>239</th>\n",
       "      <td>8</td>\n",
       "      <td>9</td>\n",
       "      <td>2250</td>\n",
       "      <td>58</td>\n",
       "      <td>1</td>\n",
       "    </tr>\n",
       "    <tr>\n",
       "      <th>269</th>\n",
       "      <td>13</td>\n",
       "      <td>4</td>\n",
       "      <td>1000</td>\n",
       "      <td>21</td>\n",
       "      <td>1</td>\n",
       "    </tr>\n",
       "    <tr>\n",
       "      <th>151</th>\n",
       "      <td>4</td>\n",
       "      <td>6</td>\n",
       "      <td>1500</td>\n",
       "      <td>39</td>\n",
       "      <td>1</td>\n",
       "    </tr>\n",
       "    <tr>\n",
       "      <th>245</th>\n",
       "      <td>4</td>\n",
       "      <td>5</td>\n",
       "      <td>1250</td>\n",
       "      <td>46</td>\n",
       "      <td>1</td>\n",
       "    </tr>\n",
       "    <tr>\n",
       "      <th>59</th>\n",
       "      <td>3</td>\n",
       "      <td>6</td>\n",
       "      <td>1500</td>\n",
       "      <td>21</td>\n",
       "      <td>1</td>\n",
       "    </tr>\n",
       "    <tr>\n",
       "      <th>...</th>\n",
       "      <td>...</td>\n",
       "      <td>...</td>\n",
       "      <td>...</td>\n",
       "      <td>...</td>\n",
       "      <td>...</td>\n",
       "    </tr>\n",
       "    <tr>\n",
       "      <th>98</th>\n",
       "      <td>4</td>\n",
       "      <td>4</td>\n",
       "      <td>1000</td>\n",
       "      <td>14</td>\n",
       "      <td>2</td>\n",
       "    </tr>\n",
       "    <tr>\n",
       "      <th>322</th>\n",
       "      <td>11</td>\n",
       "      <td>4</td>\n",
       "      <td>1000</td>\n",
       "      <td>34</td>\n",
       "      <td>1</td>\n",
       "    </tr>\n",
       "    <tr>\n",
       "      <th>382</th>\n",
       "      <td>14</td>\n",
       "      <td>1</td>\n",
       "      <td>250</td>\n",
       "      <td>14</td>\n",
       "      <td>1</td>\n",
       "    </tr>\n",
       "    <tr>\n",
       "      <th>365</th>\n",
       "      <td>14</td>\n",
       "      <td>2</td>\n",
       "      <td>500</td>\n",
       "      <td>21</td>\n",
       "      <td>2</td>\n",
       "    </tr>\n",
       "    <tr>\n",
       "      <th>510</th>\n",
       "      <td>4</td>\n",
       "      <td>4</td>\n",
       "      <td>1000</td>\n",
       "      <td>4</td>\n",
       "      <td>2</td>\n",
       "    </tr>\n",
       "  </tbody>\n",
       "</table>\n",
       "<p>598 rows × 5 columns</p>\n",
       "</div>"
      ],
      "text/plain": [
       "     since_last_don  total_dons  total_blood  since_first_don  Class\n",
       "239               8           9         2250               58      1\n",
       "269              13           4         1000               21      1\n",
       "151               4           6         1500               39      1\n",
       "245               4           5         1250               46      1\n",
       "59                3           6         1500               21      1\n",
       "..              ...         ...          ...              ...    ...\n",
       "98                4           4         1000               14      2\n",
       "322              11           4         1000               34      1\n",
       "382              14           1          250               14      1\n",
       "365              14           2          500               21      2\n",
       "510               4           4         1000                4      2\n",
       "\n",
       "[598 rows x 5 columns]"
      ]
     },
     "execution_count": 12,
     "metadata": {},
     "output_type": "execute_result"
    }
   ],
   "source": [
    "blood_df_train"
   ]
  },
  {
   "cell_type": "code",
   "execution_count": 20,
   "metadata": {},
   "outputs": [
    {
     "data": {
      "application/vnd.vegalite.v3+json": {
       "$schema": "https://vega.github.io/schema/vega-lite/v3.4.0.json",
       "config": {
        "mark": {
         "tooltip": null
        },
        "view": {
         "height": 300,
         "width": 400
        }
       },
       "data": {
        "name": "data-9f8fa43238d447b8286cb04f7cfdb9c3"
       },
       "datasets": {
        "data-9f8fa43238d447b8286cb04f7cfdb9c3": [
         {
          "Class": 1,
          "since_first_don": 58,
          "since_last_don": 8,
          "total_blood": 2250,
          "total_dons": 9
         },
         {
          "Class": 1,
          "since_first_don": 21,
          "since_last_don": 13,
          "total_blood": 1000,
          "total_dons": 4
         },
         {
          "Class": 1,
          "since_first_don": 39,
          "since_last_don": 4,
          "total_blood": 1500,
          "total_dons": 6
         },
         {
          "Class": 1,
          "since_first_don": 46,
          "since_last_don": 4,
          "total_blood": 1250,
          "total_dons": 5
         },
         {
          "Class": 1,
          "since_first_don": 21,
          "since_last_don": 3,
          "total_blood": 1500,
          "total_dons": 6
         },
         {
          "Class": 1,
          "since_first_don": 9,
          "since_last_don": 9,
          "total_blood": 250,
          "total_dons": 1
         },
         {
          "Class": 1,
          "since_first_don": 14,
          "since_last_don": 14,
          "total_blood": 500,
          "total_dons": 2
         },
         {
          "Class": 1,
          "since_first_don": 77,
          "since_last_don": 2,
          "total_blood": 1750,
          "total_dons": 7
         },
         {
          "Class": 1,
          "since_first_don": 41,
          "since_last_don": 2,
          "total_blood": 500,
          "total_dons": 2
         },
         {
          "Class": 1,
          "since_first_don": 52,
          "since_last_don": 9,
          "total_blood": 500,
          "total_dons": 2
         },
         {
          "Class": 1,
          "since_first_don": 23,
          "since_last_don": 23,
          "total_blood": 250,
          "total_dons": 1
         },
         {
          "Class": 1,
          "since_first_don": 58,
          "since_last_don": 16,
          "total_blood": 1000,
          "total_dons": 4
         },
         {
          "Class": 1,
          "since_first_don": 26,
          "since_last_don": 2,
          "total_blood": 1000,
          "total_dons": 4
         },
         {
          "Class": 2,
          "since_first_don": 4,
          "since_last_don": 4,
          "total_blood": 500,
          "total_dons": 2
         },
         {
          "Class": 1,
          "since_first_don": 35,
          "since_last_don": 23,
          "total_blood": 750,
          "total_dons": 3
         },
         {
          "Class": 2,
          "since_first_don": 2,
          "since_last_don": 2,
          "total_blood": 250,
          "total_dons": 1
         },
         {
          "Class": 1,
          "since_first_don": 65,
          "since_last_don": 9,
          "total_blood": 1000,
          "total_dons": 4
         },
         {
          "Class": 2,
          "since_first_don": 19,
          "since_last_don": 14,
          "total_blood": 750,
          "total_dons": 3
         },
         {
          "Class": 1,
          "since_first_don": 58,
          "since_last_don": 4,
          "total_blood": 1750,
          "total_dons": 7
         },
         {
          "Class": 1,
          "since_first_don": 64,
          "since_last_don": 2,
          "total_blood": 4000,
          "total_dons": 16
         },
         {
          "Class": 1,
          "since_first_don": 4,
          "since_last_don": 4,
          "total_blood": 250,
          "total_dons": 1
         },
         {
          "Class": 1,
          "since_first_don": 40,
          "since_last_don": 40,
          "total_blood": 250,
          "total_dons": 1
         },
         {
          "Class": 1,
          "since_first_don": 14,
          "since_last_don": 14,
          "total_blood": 500,
          "total_dons": 2
         },
         {
          "Class": 1,
          "since_first_don": 89,
          "since_last_don": 16,
          "total_blood": 2500,
          "total_dons": 10
         },
         {
          "Class": 1,
          "since_first_don": 70,
          "since_last_don": 23,
          "total_blood": 1500,
          "total_dons": 6
         },
         {
          "Class": 1,
          "since_first_don": 62,
          "since_last_don": 4,
          "total_blood": 1750,
          "total_dons": 7
         },
         {
          "Class": 1,
          "since_first_don": 52,
          "since_last_don": 4,
          "total_blood": 1500,
          "total_dons": 6
         },
         {
          "Class": 2,
          "since_first_don": 28,
          "since_last_don": 4,
          "total_blood": 2500,
          "total_dons": 10
         },
         {
          "Class": 1,
          "since_first_don": 74,
          "since_last_don": 11,
          "total_blood": 1000,
          "total_dons": 4
         },
         {
          "Class": 1,
          "since_first_don": 14,
          "since_last_don": 4,
          "total_blood": 500,
          "total_dons": 2
         },
         {
          "Class": 2,
          "since_first_don": 21,
          "since_last_don": 21,
          "total_blood": 500,
          "total_dons": 2
         },
         {
          "Class": 1,
          "since_first_don": 81,
          "since_last_don": 16,
          "total_blood": 1500,
          "total_dons": 6
         },
         {
          "Class": 1,
          "since_first_don": 28,
          "since_last_don": 11,
          "total_blood": 1000,
          "total_dons": 4
         },
         {
          "Class": 2,
          "since_first_don": 98,
          "since_last_don": 4,
          "total_blood": 8250,
          "total_dons": 33
         },
         {
          "Class": 1,
          "since_first_don": 72,
          "since_last_don": 72,
          "total_blood": 250,
          "total_dons": 1
         },
         {
          "Class": 2,
          "since_first_don": 32,
          "since_last_don": 2,
          "total_blood": 1750,
          "total_dons": 7
         },
         {
          "Class": 1,
          "since_first_don": 19,
          "since_last_don": 16,
          "total_blood": 750,
          "total_dons": 3
         },
         {
          "Class": 1,
          "since_first_don": 15,
          "since_last_don": 11,
          "total_blood": 750,
          "total_dons": 3
         },
         {
          "Class": 2,
          "since_first_don": 16,
          "since_last_don": 2,
          "total_blood": 750,
          "total_dons": 3
         },
         {
          "Class": 1,
          "since_first_don": 4,
          "since_last_don": 4,
          "total_blood": 250,
          "total_dons": 1
         },
         {
          "Class": 1,
          "since_first_don": 26,
          "since_last_don": 2,
          "total_blood": 1000,
          "total_dons": 4
         },
         {
          "Class": 1,
          "since_first_don": 4,
          "since_last_don": 4,
          "total_blood": 250,
          "total_dons": 1
         },
         {
          "Class": 2,
          "since_first_don": 86,
          "since_last_don": 2,
          "total_blood": 10750,
          "total_dons": 43
         },
         {
          "Class": 2,
          "since_first_don": 64,
          "since_last_don": 4,
          "total_blood": 2750,
          "total_dons": 11
         },
         {
          "Class": 2,
          "since_first_don": 23,
          "since_last_don": 4,
          "total_blood": 1500,
          "total_dons": 6
         },
         {
          "Class": 1,
          "since_first_don": 24,
          "since_last_don": 2,
          "total_blood": 750,
          "total_dons": 3
         },
         {
          "Class": 1,
          "since_first_don": 59,
          "since_last_don": 12,
          "total_blood": 3250,
          "total_dons": 13
         },
         {
          "Class": 1,
          "since_first_don": 71,
          "since_last_don": 12,
          "total_blood": 3750,
          "total_dons": 15
         },
         {
          "Class": 1,
          "since_first_don": 58,
          "since_last_don": 11,
          "total_blood": 3000,
          "total_dons": 12
         },
         {
          "Class": 1,
          "since_first_don": 11,
          "since_last_don": 2,
          "total_blood": 1000,
          "total_dons": 4
         },
         {
          "Class": 1,
          "since_first_don": 2,
          "since_last_don": 2,
          "total_blood": 250,
          "total_dons": 1
         },
         {
          "Class": 1,
          "since_first_don": 21,
          "since_last_don": 21,
          "total_blood": 500,
          "total_dons": 2
         },
         {
          "Class": 1,
          "since_first_don": 35,
          "since_last_don": 2,
          "total_blood": 1000,
          "total_dons": 4
         },
         {
          "Class": 2,
          "since_first_don": 25,
          "since_last_don": 4,
          "total_blood": 750,
          "total_dons": 3
         },
         {
          "Class": 1,
          "since_first_don": 16,
          "since_last_don": 10,
          "total_blood": 1000,
          "total_dons": 4
         },
         {
          "Class": 1,
          "since_first_don": 21,
          "since_last_don": 21,
          "total_blood": 250,
          "total_dons": 1
         },
         {
          "Class": 2,
          "since_first_don": 4,
          "since_last_don": 4,
          "total_blood": 500,
          "total_dons": 2
         },
         {
          "Class": 2,
          "since_first_don": 41,
          "since_last_don": 2,
          "total_blood": 1500,
          "total_dons": 6
         },
         {
          "Class": 2,
          "since_first_don": 53,
          "since_last_don": 2,
          "total_blood": 3250,
          "total_dons": 13
         },
         {
          "Class": 1,
          "since_first_don": 40,
          "since_last_don": 4,
          "total_blood": 2250,
          "total_dons": 9
         },
         {
          "Class": 2,
          "since_first_don": 23,
          "since_last_don": 23,
          "total_blood": 250,
          "total_dons": 1
         },
         {
          "Class": 1,
          "since_first_don": 64,
          "since_last_don": 2,
          "total_blood": 3750,
          "total_dons": 15
         },
         {
          "Class": 1,
          "since_first_don": 21,
          "since_last_don": 2,
          "total_blood": 750,
          "total_dons": 3
         },
         {
          "Class": 1,
          "since_first_don": 23,
          "since_last_don": 23,
          "total_blood": 500,
          "total_dons": 2
         },
         {
          "Class": 1,
          "since_first_don": 4,
          "since_last_don": 4,
          "total_blood": 250,
          "total_dons": 1
         },
         {
          "Class": 2,
          "since_first_don": 14,
          "since_last_don": 2,
          "total_blood": 1000,
          "total_dons": 4
         },
         {
          "Class": 1,
          "since_first_don": 11,
          "since_last_don": 2,
          "total_blood": 500,
          "total_dons": 2
         },
         {
          "Class": 1,
          "since_first_don": 28,
          "since_last_don": 11,
          "total_blood": 1500,
          "total_dons": 6
         },
         {
          "Class": 1,
          "since_first_don": 87,
          "since_last_don": 23,
          "total_blood": 1000,
          "total_dons": 4
         },
         {
          "Class": 2,
          "since_first_don": 28,
          "since_last_don": 2,
          "total_blood": 1500,
          "total_dons": 6
         },
         {
          "Class": 2,
          "since_first_don": 49,
          "since_last_don": 9,
          "total_blood": 2750,
          "total_dons": 11
         },
         {
          "Class": 1,
          "since_first_don": 33,
          "since_last_don": 23,
          "total_blood": 750,
          "total_dons": 3
         },
         {
          "Class": 1,
          "since_first_don": 2,
          "since_last_don": 2,
          "total_blood": 250,
          "total_dons": 1
         },
         {
          "Class": 2,
          "since_first_don": 4,
          "since_last_don": 2,
          "total_blood": 500,
          "total_dons": 2
         },
         {
          "Class": 1,
          "since_first_don": 70,
          "since_last_don": 14,
          "total_blood": 4000,
          "total_dons": 16
         },
         {
          "Class": 2,
          "since_first_don": 52,
          "since_last_don": 8,
          "total_blood": 2000,
          "total_dons": 8
         },
         {
          "Class": 2,
          "since_first_don": 34,
          "since_last_don": 4,
          "total_blood": 2000,
          "total_dons": 8
         },
         {
          "Class": 1,
          "since_first_don": 35,
          "since_last_don": 7,
          "total_blood": 1250,
          "total_dons": 5
         },
         {
          "Class": 1,
          "since_first_don": 58,
          "since_last_don": 4,
          "total_blood": 1250,
          "total_dons": 5
         },
         {
          "Class": 1,
          "since_first_don": 11,
          "since_last_don": 11,
          "total_blood": 250,
          "total_dons": 1
         },
         {
          "Class": 2,
          "since_first_don": 76,
          "since_last_don": 2,
          "total_blood": 3250,
          "total_dons": 13
         },
         {
          "Class": 1,
          "since_first_don": 52,
          "since_last_don": 4,
          "total_blood": 1750,
          "total_dons": 7
         },
         {
          "Class": 1,
          "since_first_don": 50,
          "since_last_don": 14,
          "total_blood": 1250,
          "total_dons": 5
         },
         {
          "Class": 1,
          "since_first_don": 50,
          "since_last_don": 14,
          "total_blood": 2000,
          "total_dons": 8
         },
         {
          "Class": 1,
          "since_first_don": 59,
          "since_last_don": 4,
          "total_blood": 500,
          "total_dons": 2
         },
         {
          "Class": 1,
          "since_first_don": 28,
          "since_last_don": 11,
          "total_blood": 750,
          "total_dons": 3
         },
         {
          "Class": 1,
          "since_first_don": 23,
          "since_last_don": 23,
          "total_blood": 250,
          "total_dons": 1
         },
         {
          "Class": 1,
          "since_first_don": 58,
          "since_last_don": 23,
          "total_blood": 1250,
          "total_dons": 5
         },
         {
          "Class": 2,
          "since_first_don": 26,
          "since_last_don": 4,
          "total_blood": 1250,
          "total_dons": 5
         },
         {
          "Class": 2,
          "since_first_don": 98,
          "since_last_don": 2,
          "total_blood": 10250,
          "total_dons": 41
         },
         {
          "Class": 1,
          "since_first_don": 58,
          "since_last_don": 4,
          "total_blood": 1250,
          "total_dons": 5
         },
         {
          "Class": 1,
          "since_first_don": 14,
          "since_last_don": 14,
          "total_blood": 500,
          "total_dons": 2
         },
         {
          "Class": 2,
          "since_first_don": 16,
          "since_last_don": 2,
          "total_blood": 1500,
          "total_dons": 6
         },
         {
          "Class": 1,
          "since_first_don": 76,
          "since_last_don": 11,
          "total_blood": 750,
          "total_dons": 3
         },
         {
          "Class": 2,
          "since_first_don": 16,
          "since_last_don": 4,
          "total_blood": 750,
          "total_dons": 3
         },
         {
          "Class": 1,
          "since_first_don": 70,
          "since_last_don": 11,
          "total_blood": 500,
          "total_dons": 2
         },
         {
          "Class": 1,
          "since_first_don": 11,
          "since_last_don": 11,
          "total_blood": 500,
          "total_dons": 2
         },
         {
          "Class": 2,
          "since_first_don": 38,
          "since_last_don": 4,
          "total_blood": 4000,
          "total_dons": 16
         },
         {
          "Class": 1,
          "since_first_don": 11,
          "since_last_don": 11,
          "total_blood": 500,
          "total_dons": 2
         },
         {
          "Class": 1,
          "since_first_don": 29,
          "since_last_don": 14,
          "total_blood": 500,
          "total_dons": 2
         },
         {
          "Class": 1,
          "since_first_don": 23,
          "since_last_don": 3,
          "total_blood": 500,
          "total_dons": 2
         },
         {
          "Class": 1,
          "since_first_don": 52,
          "since_last_don": 4,
          "total_blood": 500,
          "total_dons": 2
         },
         {
          "Class": 1,
          "since_first_don": 16,
          "since_last_don": 4,
          "total_blood": 750,
          "total_dons": 3
         },
         {
          "Class": 1,
          "since_first_don": 71,
          "since_last_don": 4,
          "total_blood": 750,
          "total_dons": 3
         },
         {
          "Class": 1,
          "since_first_don": 35,
          "since_last_don": 14,
          "total_blood": 750,
          "total_dons": 3
         },
         {
          "Class": 2,
          "since_first_don": 35,
          "since_last_don": 16,
          "total_blood": 1500,
          "total_dons": 6
         },
         {
          "Class": 1,
          "since_first_don": 35,
          "since_last_don": 14,
          "total_blood": 1750,
          "total_dons": 7
         },
         {
          "Class": 2,
          "since_first_don": 28,
          "since_last_don": 4,
          "total_blood": 2250,
          "total_dons": 9
         },
         {
          "Class": 1,
          "since_first_don": 16,
          "since_last_don": 16,
          "total_blood": 250,
          "total_dons": 1
         },
         {
          "Class": 1,
          "since_first_don": 23,
          "since_last_don": 23,
          "total_blood": 250,
          "total_dons": 1
         },
         {
          "Class": 1,
          "since_first_don": 52,
          "since_last_don": 2,
          "total_blood": 2500,
          "total_dons": 10
         },
         {
          "Class": 1,
          "since_first_don": 31,
          "since_last_don": 4,
          "total_blood": 500,
          "total_dons": 2
         },
         {
          "Class": 1,
          "since_first_don": 14,
          "since_last_don": 4,
          "total_blood": 1500,
          "total_dons": 6
         },
         {
          "Class": 2,
          "since_first_don": 16,
          "since_last_don": 4,
          "total_blood": 1250,
          "total_dons": 5
         },
         {
          "Class": 2,
          "since_first_don": 35,
          "since_last_don": 4,
          "total_blood": 1500,
          "total_dons": 6
         },
         {
          "Class": 1,
          "since_first_don": 21,
          "since_last_don": 21,
          "total_blood": 250,
          "total_dons": 1
         },
         {
          "Class": 2,
          "since_first_don": 26,
          "since_last_don": 4,
          "total_blood": 2250,
          "total_dons": 9
         },
         {
          "Class": 1,
          "since_first_don": 76,
          "since_last_don": 16,
          "total_blood": 2000,
          "total_dons": 8
         },
         {
          "Class": 1,
          "since_first_don": 38,
          "since_last_don": 11,
          "total_blood": 1250,
          "total_dons": 5
         },
         {
          "Class": 1,
          "since_first_don": 57,
          "since_last_don": 1,
          "total_blood": 1750,
          "total_dons": 7
         },
         {
          "Class": 2,
          "since_first_don": 11,
          "since_last_don": 2,
          "total_blood": 1250,
          "total_dons": 5
         },
         {
          "Class": 1,
          "since_first_don": 35,
          "since_last_don": 16,
          "total_blood": 1500,
          "total_dons": 6
         },
         {
          "Class": 2,
          "since_first_don": 16,
          "since_last_don": 2,
          "total_blood": 1250,
          "total_dons": 5
         },
         {
          "Class": 1,
          "since_first_don": 11,
          "since_last_don": 11,
          "total_blood": 250,
          "total_dons": 1
         },
         {
          "Class": 1,
          "since_first_don": 2,
          "since_last_don": 2,
          "total_blood": 250,
          "total_dons": 1
         },
         {
          "Class": 1,
          "since_first_don": 48,
          "since_last_don": 11,
          "total_blood": 2000,
          "total_dons": 8
         },
         {
          "Class": 1,
          "since_first_don": 41,
          "since_last_don": 11,
          "total_blood": 1500,
          "total_dons": 6
         },
         {
          "Class": 1,
          "since_first_don": 48,
          "since_last_don": 7,
          "total_blood": 3500,
          "total_dons": 14
         },
         {
          "Class": 1,
          "since_first_don": 4,
          "since_last_don": 4,
          "total_blood": 500,
          "total_dons": 2
         },
         {
          "Class": 1,
          "since_first_don": 98,
          "since_last_don": 14,
          "total_blood": 4000,
          "total_dons": 16
         },
         {
          "Class": 1,
          "since_first_don": 52,
          "since_last_don": 14,
          "total_blood": 750,
          "total_dons": 3
         },
         {
          "Class": 1,
          "since_first_don": 17,
          "since_last_don": 11,
          "total_blood": 500,
          "total_dons": 2
         },
         {
          "Class": 2,
          "since_first_don": 2,
          "since_last_don": 2,
          "total_blood": 250,
          "total_dons": 1
         },
         {
          "Class": 2,
          "since_first_don": 46,
          "since_last_don": 2,
          "total_blood": 1750,
          "total_dons": 7
         },
         {
          "Class": 1,
          "since_first_don": 23,
          "since_last_don": 23,
          "total_blood": 250,
          "total_dons": 1
         },
         {
          "Class": 1,
          "since_first_don": 23,
          "since_last_don": 23,
          "total_blood": 250,
          "total_dons": 1
         },
         {
          "Class": 2,
          "since_first_don": 32,
          "since_last_don": 2,
          "total_blood": 3250,
          "total_dons": 13
         },
         {
          "Class": 1,
          "since_first_don": 89,
          "since_last_don": 7,
          "total_blood": 2750,
          "total_dons": 11
         },
         {
          "Class": 2,
          "since_first_don": 15,
          "since_last_don": 2,
          "total_blood": 1500,
          "total_dons": 6
         },
         {
          "Class": 2,
          "since_first_don": 16,
          "since_last_don": 2,
          "total_blood": 1500,
          "total_dons": 6
         },
         {
          "Class": 1,
          "since_first_don": 57,
          "since_last_don": 14,
          "total_blood": 3250,
          "total_dons": 13
         },
         {
          "Class": 1,
          "since_first_don": 58,
          "since_last_don": 1,
          "total_blood": 3500,
          "total_dons": 14
         },
         {
          "Class": 1,
          "since_first_don": 46,
          "since_last_don": 14,
          "total_blood": 2000,
          "total_dons": 8
         },
         {
          "Class": 2,
          "since_first_don": 98,
          "since_last_don": 2,
          "total_blood": 12500,
          "total_dons": 50
         },
         {
          "Class": 2,
          "since_first_don": 71,
          "since_last_don": 4,
          "total_blood": 4250,
          "total_dons": 17
         },
         {
          "Class": 1,
          "since_first_don": 33,
          "since_last_don": 14,
          "total_blood": 750,
          "total_dons": 3
         },
         {
          "Class": 1,
          "since_first_don": 64,
          "since_last_don": 16,
          "total_blood": 1750,
          "total_dons": 7
         },
         {
          "Class": 2,
          "since_first_don": 34,
          "since_last_don": 4,
          "total_blood": 1000,
          "total_dons": 4
         },
         {
          "Class": 1,
          "since_first_don": 26,
          "since_last_don": 21,
          "total_blood": 750,
          "total_dons": 3
         },
         {
          "Class": 1,
          "since_first_don": 64,
          "since_last_don": 11,
          "total_blood": 6000,
          "total_dons": 24
         },
         {
          "Class": 1,
          "since_first_don": 26,
          "since_last_don": 14,
          "total_blood": 2000,
          "total_dons": 8
         },
         {
          "Class": 2,
          "since_first_don": 41,
          "since_last_don": 2,
          "total_blood": 2750,
          "total_dons": 11
         },
         {
          "Class": 2,
          "since_first_don": 72,
          "since_last_don": 11,
          "total_blood": 2250,
          "total_dons": 9
         },
         {
          "Class": 1,
          "since_first_don": 21,
          "since_last_don": 21,
          "total_blood": 250,
          "total_dons": 1
         },
         {
          "Class": 1,
          "since_first_don": 16,
          "since_last_don": 9,
          "total_blood": 2250,
          "total_dons": 9
         },
         {
          "Class": 1,
          "since_first_don": 23,
          "since_last_don": 23,
          "total_blood": 250,
          "total_dons": 1
         },
         {
          "Class": 1,
          "since_first_don": 45,
          "since_last_don": 9,
          "total_blood": 2250,
          "total_dons": 9
         },
         {
          "Class": 1,
          "since_first_don": 26,
          "since_last_don": 11,
          "total_blood": 1500,
          "total_dons": 6
         },
         {
          "Class": 2,
          "since_first_don": 11,
          "since_last_don": 11,
          "total_blood": 250,
          "total_dons": 1
         },
         {
          "Class": 1,
          "since_first_don": 26,
          "since_last_don": 14,
          "total_blood": 1000,
          "total_dons": 4
         },
         {
          "Class": 1,
          "since_first_don": 11,
          "since_last_don": 2,
          "total_blood": 500,
          "total_dons": 2
         },
         {
          "Class": 1,
          "since_first_don": 14,
          "since_last_don": 14,
          "total_blood": 250,
          "total_dons": 1
         },
         {
          "Class": 1,
          "since_first_don": 16,
          "since_last_don": 11,
          "total_blood": 500,
          "total_dons": 2
         },
         {
          "Class": 1,
          "since_first_don": 16,
          "since_last_don": 16,
          "total_blood": 250,
          "total_dons": 1
         },
         {
          "Class": 1,
          "since_first_don": 40,
          "since_last_don": 21,
          "total_blood": 750,
          "total_dons": 3
         },
         {
          "Class": 1,
          "since_first_don": 58,
          "since_last_don": 4,
          "total_blood": 1250,
          "total_dons": 5
         },
         {
          "Class": 1,
          "since_first_don": 4,
          "since_last_don": 4,
          "total_blood": 250,
          "total_dons": 1
         },
         {
          "Class": 1,
          "since_first_don": 82,
          "since_last_don": 15,
          "total_blood": 4000,
          "total_dons": 16
         },
         {
          "Class": 1,
          "since_first_don": 14,
          "since_last_don": 14,
          "total_blood": 1250,
          "total_dons": 5
         },
         {
          "Class": 1,
          "since_first_don": 23,
          "since_last_don": 16,
          "total_blood": 1000,
          "total_dons": 4
         },
         {
          "Class": 1,
          "since_first_don": 70,
          "since_last_don": 2,
          "total_blood": 1000,
          "total_dons": 4
         },
         {
          "Class": 1,
          "since_first_don": 86,
          "since_last_don": 23,
          "total_blood": 3000,
          "total_dons": 12
         },
         {
          "Class": 1,
          "since_first_don": 14,
          "since_last_don": 14,
          "total_blood": 250,
          "total_dons": 1
         },
         {
          "Class": 1,
          "since_first_don": 26,
          "since_last_don": 14,
          "total_blood": 1250,
          "total_dons": 5
         },
         {
          "Class": 1,
          "since_first_don": 27,
          "since_last_don": 16,
          "total_blood": 1250,
          "total_dons": 5
         },
         {
          "Class": 2,
          "since_first_don": 11,
          "since_last_don": 2,
          "total_blood": 500,
          "total_dons": 2
         },
         {
          "Class": 1,
          "since_first_don": 9,
          "since_last_don": 4,
          "total_blood": 500,
          "total_dons": 2
         },
         {
          "Class": 1,
          "since_first_don": 39,
          "since_last_don": 16,
          "total_blood": 1750,
          "total_dons": 7
         },
         {
          "Class": 1,
          "since_first_don": 70,
          "since_last_don": 6,
          "total_blood": 4250,
          "total_dons": 17
         },
         {
          "Class": 1,
          "since_first_don": 93,
          "since_last_don": 16,
          "total_blood": 1750,
          "total_dons": 7
         },
         {
          "Class": 1,
          "since_first_don": 82,
          "since_last_don": 2,
          "total_blood": 3000,
          "total_dons": 12
         },
         {
          "Class": 1,
          "since_first_don": 26,
          "since_last_don": 14,
          "total_blood": 1750,
          "total_dons": 7
         },
         {
          "Class": 1,
          "since_first_don": 11,
          "since_last_don": 11,
          "total_blood": 250,
          "total_dons": 1
         },
         {
          "Class": 1,
          "since_first_don": 57,
          "since_last_don": 21,
          "total_blood": 3250,
          "total_dons": 13
         },
         {
          "Class": 1,
          "since_first_don": 2,
          "since_last_don": 2,
          "total_blood": 500,
          "total_dons": 2
         },
         {
          "Class": 2,
          "since_first_don": 79,
          "since_last_don": 11,
          "total_blood": 4250,
          "total_dons": 17
         },
         {
          "Class": 1,
          "since_first_don": 14,
          "since_last_don": 14,
          "total_blood": 500,
          "total_dons": 2
         },
         {
          "Class": 1,
          "since_first_don": 74,
          "since_last_don": 74,
          "total_blood": 250,
          "total_dons": 1
         },
         {
          "Class": 1,
          "since_first_don": 22,
          "since_last_don": 2,
          "total_blood": 750,
          "total_dons": 3
         },
         {
          "Class": 1,
          "since_first_don": 58,
          "since_last_don": 4,
          "total_blood": 1750,
          "total_dons": 7
         },
         {
          "Class": 1,
          "since_first_don": 2,
          "since_last_don": 2,
          "total_blood": 250,
          "total_dons": 1
         },
         {
          "Class": 2,
          "since_first_don": 4,
          "since_last_don": 4,
          "total_blood": 250,
          "total_dons": 1
         },
         {
          "Class": 2,
          "since_first_don": 12,
          "since_last_don": 3,
          "total_blood": 1250,
          "total_dons": 5
         },
         {
          "Class": 1,
          "since_first_don": 2,
          "since_last_don": 2,
          "total_blood": 250,
          "total_dons": 1
         },
         {
          "Class": 1,
          "since_first_don": 89,
          "since_last_don": 11,
          "total_blood": 4000,
          "total_dons": 16
         },
         {
          "Class": 1,
          "since_first_don": 33,
          "since_last_don": 15,
          "total_blood": 1250,
          "total_dons": 5
         },
         {
          "Class": 1,
          "since_first_don": 14,
          "since_last_don": 14,
          "total_blood": 500,
          "total_dons": 2
         },
         {
          "Class": 1,
          "since_first_don": 95,
          "since_last_don": 4,
          "total_blood": 2750,
          "total_dons": 11
         },
         {
          "Class": 1,
          "since_first_don": 30,
          "since_last_don": 4,
          "total_blood": 500,
          "total_dons": 2
         },
         {
          "Class": 1,
          "since_first_don": 14,
          "since_last_don": 14,
          "total_blood": 500,
          "total_dons": 2
         },
         {
          "Class": 2,
          "since_first_don": 28,
          "since_last_don": 4,
          "total_blood": 2500,
          "total_dons": 10
         },
         {
          "Class": 1,
          "since_first_don": 83,
          "since_last_don": 16,
          "total_blood": 3500,
          "total_dons": 14
         },
         {
          "Class": 1,
          "since_first_don": 38,
          "since_last_don": 11,
          "total_blood": 2250,
          "total_dons": 9
         },
         {
          "Class": 1,
          "since_first_don": 34,
          "since_last_don": 2,
          "total_blood": 1250,
          "total_dons": 5
         },
         {
          "Class": 1,
          "since_first_don": 35,
          "since_last_don": 11,
          "total_blood": 2500,
          "total_dons": 10
         },
         {
          "Class": 1,
          "since_first_don": 33,
          "since_last_don": 21,
          "total_blood": 500,
          "total_dons": 2
         },
         {
          "Class": 1,
          "since_first_don": 14,
          "since_last_don": 14,
          "total_blood": 250,
          "total_dons": 1
         },
         {
          "Class": 1,
          "since_first_don": 63,
          "since_last_don": 8,
          "total_blood": 2500,
          "total_dons": 10
         },
         {
          "Class": 2,
          "since_first_don": 23,
          "since_last_don": 4,
          "total_blood": 1250,
          "total_dons": 5
         },
         {
          "Class": 1,
          "since_first_don": 28,
          "since_last_don": 4,
          "total_blood": 1750,
          "total_dons": 7
         },
         {
          "Class": 1,
          "since_first_don": 14,
          "since_last_don": 14,
          "total_blood": 250,
          "total_dons": 1
         },
         {
          "Class": 2,
          "since_first_don": 4,
          "since_last_don": 2,
          "total_blood": 750,
          "total_dons": 3
         },
         {
          "Class": 1,
          "since_first_don": 58,
          "since_last_don": 4,
          "total_blood": 1250,
          "total_dons": 5
         },
         {
          "Class": 2,
          "since_first_don": 4,
          "since_last_don": 4,
          "total_blood": 250,
          "total_dons": 1
         },
         {
          "Class": 2,
          "since_first_don": 11,
          "since_last_don": 4,
          "total_blood": 1250,
          "total_dons": 5
         },
         {
          "Class": 1,
          "since_first_don": 34,
          "since_last_don": 4,
          "total_blood": 750,
          "total_dons": 3
         },
         {
          "Class": 1,
          "since_first_don": 4,
          "since_last_don": 4,
          "total_blood": 250,
          "total_dons": 1
         },
         {
          "Class": 1,
          "since_first_don": 33,
          "since_last_don": 11,
          "total_blood": 1250,
          "total_dons": 5
         },
         {
          "Class": 2,
          "since_first_don": 40,
          "since_last_don": 11,
          "total_blood": 750,
          "total_dons": 3
         },
         {
          "Class": 1,
          "since_first_don": 28,
          "since_last_don": 16,
          "total_blood": 2000,
          "total_dons": 8
         },
         {
          "Class": 1,
          "since_first_don": 26,
          "since_last_don": 13,
          "total_blood": 2000,
          "total_dons": 8
         },
         {
          "Class": 1,
          "since_first_don": 21,
          "since_last_don": 21,
          "total_blood": 250,
          "total_dons": 1
         },
         {
          "Class": 1,
          "since_first_don": 86,
          "since_last_don": 4,
          "total_blood": 3500,
          "total_dons": 14
         },
         {
          "Class": 1,
          "since_first_don": 4,
          "since_last_don": 4,
          "total_blood": 250,
          "total_dons": 1
         },
         {
          "Class": 1,
          "since_first_don": 62,
          "since_last_don": 16,
          "total_blood": 2500,
          "total_dons": 10
         },
         {
          "Class": 2,
          "since_first_don": 35,
          "since_last_don": 2,
          "total_blood": 1750,
          "total_dons": 7
         },
         {
          "Class": 1,
          "since_first_don": 4,
          "since_last_don": 4,
          "total_blood": 250,
          "total_dons": 1
         },
         {
          "Class": 1,
          "since_first_don": 52,
          "since_last_don": 4,
          "total_blood": 1750,
          "total_dons": 7
         },
         {
          "Class": 2,
          "since_first_don": 28,
          "since_last_don": 6,
          "total_blood": 5500,
          "total_dons": 22
         },
         {
          "Class": 1,
          "since_first_don": 38,
          "since_last_don": 21,
          "total_blood": 1750,
          "total_dons": 7
         },
         {
          "Class": 1,
          "since_first_don": 75,
          "since_last_don": 5,
          "total_blood": 2750,
          "total_dons": 11
         },
         {
          "Class": 1,
          "since_first_don": 46,
          "since_last_don": 4,
          "total_blood": 1500,
          "total_dons": 6
         },
         {
          "Class": 1,
          "since_first_don": 38,
          "since_last_don": 10,
          "total_blood": 1250,
          "total_dons": 5
         },
         {
          "Class": 2,
          "since_first_don": 70,
          "since_last_don": 4,
          "total_blood": 4000,
          "total_dons": 16
         },
         {
          "Class": 2,
          "since_first_don": 34,
          "since_last_don": 4,
          "total_blood": 3000,
          "total_dons": 12
         },
         {
          "Class": 1,
          "since_first_don": 16,
          "since_last_don": 16,
          "total_blood": 250,
          "total_dons": 1
         },
         {
          "Class": 1,
          "since_first_don": 4,
          "since_last_don": 4,
          "total_blood": 250,
          "total_dons": 1
         },
         {
          "Class": 1,
          "since_first_don": 11,
          "since_last_don": 11,
          "total_blood": 500,
          "total_dons": 2
         },
         {
          "Class": 2,
          "since_first_don": 35,
          "since_last_don": 4,
          "total_blood": 1250,
          "total_dons": 5
         },
         {
          "Class": 1,
          "since_first_don": 2,
          "since_last_don": 2,
          "total_blood": 250,
          "total_dons": 1
         },
         {
          "Class": 1,
          "since_first_don": 16,
          "since_last_don": 16,
          "total_blood": 250,
          "total_dons": 1
         },
         {
          "Class": 1,
          "since_first_don": 16,
          "since_last_don": 2,
          "total_blood": 1000,
          "total_dons": 4
         },
         {
          "Class": 2,
          "since_first_don": 16,
          "since_last_don": 9,
          "total_blood": 500,
          "total_dons": 2
         },
         {
          "Class": 1,
          "since_first_don": 4,
          "since_last_don": 4,
          "total_blood": 250,
          "total_dons": 1
         },
         {
          "Class": 1,
          "since_first_don": 2,
          "since_last_don": 2,
          "total_blood": 250,
          "total_dons": 1
         },
         {
          "Class": 1,
          "since_first_don": 21,
          "since_last_don": 21,
          "total_blood": 250,
          "total_dons": 1
         },
         {
          "Class": 1,
          "since_first_don": 28,
          "since_last_don": 4,
          "total_blood": 2750,
          "total_dons": 11
         },
         {
          "Class": 1,
          "since_first_don": 21,
          "since_last_don": 21,
          "total_blood": 250,
          "total_dons": 1
         },
         {
          "Class": 1,
          "since_first_don": 35,
          "since_last_don": 4,
          "total_blood": 1500,
          "total_dons": 6
         },
         {
          "Class": 1,
          "since_first_don": 64,
          "since_last_don": 14,
          "total_blood": 1250,
          "total_dons": 5
         },
         {
          "Class": 1,
          "since_first_don": 21,
          "since_last_don": 21,
          "total_blood": 250,
          "total_dons": 1
         },
         {
          "Class": 1,
          "since_first_don": 26,
          "since_last_don": 11,
          "total_blood": 500,
          "total_dons": 2
         },
         {
          "Class": 2,
          "since_first_don": 21,
          "since_last_don": 16,
          "total_blood": 750,
          "total_dons": 3
         },
         {
          "Class": 1,
          "since_first_don": 28,
          "since_last_don": 4,
          "total_blood": 2250,
          "total_dons": 9
         },
         {
          "Class": 1,
          "since_first_don": 4,
          "since_last_don": 4,
          "total_blood": 250,
          "total_dons": 1
         },
         {
          "Class": 1,
          "since_first_don": 39,
          "since_last_don": 10,
          "total_blood": 2000,
          "total_dons": 8
         },
         {
          "Class": 1,
          "since_first_don": 4,
          "since_last_don": 4,
          "total_blood": 250,
          "total_dons": 1
         },
         {
          "Class": 1,
          "since_first_don": 14,
          "since_last_don": 2,
          "total_blood": 500,
          "total_dons": 2
         },
         {
          "Class": 2,
          "since_first_don": 28,
          "since_last_don": 14,
          "total_blood": 1250,
          "total_dons": 5
         },
         {
          "Class": 2,
          "since_first_don": 4,
          "since_last_don": 4,
          "total_blood": 250,
          "total_dons": 1
         },
         {
          "Class": 1,
          "since_first_don": 2,
          "since_last_don": 2,
          "total_blood": 250,
          "total_dons": 1
         },
         {
          "Class": 2,
          "since_first_don": 39,
          "since_last_don": 4,
          "total_blood": 3250,
          "total_dons": 13
         },
         {
          "Class": 1,
          "since_first_don": 57,
          "since_last_don": 23,
          "total_blood": 3750,
          "total_dons": 15
         },
         {
          "Class": 1,
          "since_first_don": 11,
          "since_last_don": 11,
          "total_blood": 250,
          "total_dons": 1
         },
         {
          "Class": 1,
          "since_first_don": 69,
          "since_last_don": 23,
          "total_blood": 2000,
          "total_dons": 8
         },
         {
          "Class": 1,
          "since_first_don": 26,
          "since_last_don": 23,
          "total_blood": 500,
          "total_dons": 2
         },
         {
          "Class": 1,
          "since_first_don": 64,
          "since_last_don": 23,
          "total_blood": 2000,
          "total_dons": 8
         },
         {
          "Class": 1,
          "since_first_don": 28,
          "since_last_don": 4,
          "total_blood": 750,
          "total_dons": 3
         },
         {
          "Class": 1,
          "since_first_don": 16,
          "since_last_don": 16,
          "total_blood": 250,
          "total_dons": 1
         },
         {
          "Class": 1,
          "since_first_don": 22,
          "since_last_don": 2,
          "total_blood": 1500,
          "total_dons": 6
         },
         {
          "Class": 1,
          "since_first_don": 28,
          "since_last_don": 23,
          "total_blood": 500,
          "total_dons": 2
         },
         {
          "Class": 1,
          "since_first_don": 71,
          "since_last_don": 16,
          "total_blood": 1250,
          "total_dons": 5
         },
         {
          "Class": 1,
          "since_first_don": 23,
          "since_last_don": 12,
          "total_blood": 2750,
          "total_dons": 11
         },
         {
          "Class": 1,
          "since_first_don": 62,
          "since_last_don": 23,
          "total_blood": 4750,
          "total_dons": 19
         },
         {
          "Class": 1,
          "since_first_don": 60,
          "since_last_don": 16,
          "total_blood": 1250,
          "total_dons": 5
         },
         {
          "Class": 2,
          "since_first_don": 40,
          "since_last_don": 2,
          "total_blood": 2750,
          "total_dons": 11
         },
         {
          "Class": 1,
          "since_first_don": 26,
          "since_last_don": 2,
          "total_blood": 1250,
          "total_dons": 5
         },
         {
          "Class": 1,
          "since_first_don": 38,
          "since_last_don": 21,
          "total_blood": 750,
          "total_dons": 3
         },
         {
          "Class": 1,
          "since_first_don": 23,
          "since_last_don": 23,
          "total_blood": 250,
          "total_dons": 1
         },
         {
          "Class": 1,
          "since_first_don": 21,
          "since_last_don": 11,
          "total_blood": 500,
          "total_dons": 2
         },
         {
          "Class": 1,
          "since_first_don": 87,
          "since_last_don": 16,
          "total_blood": 3750,
          "total_dons": 15
         },
         {
          "Class": 1,
          "since_first_don": 39,
          "since_last_don": 23,
          "total_blood": 750,
          "total_dons": 3
         },
         {
          "Class": 2,
          "since_first_don": 58,
          "since_last_don": 17,
          "total_blood": 1750,
          "total_dons": 7
         },
         {
          "Class": 1,
          "since_first_don": 98,
          "since_last_don": 11,
          "total_blood": 5500,
          "total_dons": 22
         },
         {
          "Class": 2,
          "since_first_don": 62,
          "since_last_don": 11,
          "total_blood": 1750,
          "total_dons": 7
         },
         {
          "Class": 1,
          "since_first_don": 26,
          "since_last_don": 2,
          "total_blood": 1500,
          "total_dons": 6
         },
         {
          "Class": 1,
          "since_first_don": 40,
          "since_last_don": 16,
          "total_blood": 1500,
          "total_dons": 6
         },
         {
          "Class": 2,
          "since_first_don": 14,
          "since_last_don": 2,
          "total_blood": 1750,
          "total_dons": 7
         },
         {
          "Class": 1,
          "since_first_don": 34,
          "since_last_don": 16,
          "total_blood": 750,
          "total_dons": 3
         },
         {
          "Class": 1,
          "since_first_don": 28,
          "since_last_don": 23,
          "total_blood": 500,
          "total_dons": 2
         },
         {
          "Class": 1,
          "since_first_don": 50,
          "since_last_don": 16,
          "total_blood": 750,
          "total_dons": 3
         },
         {
          "Class": 2,
          "since_first_don": 22,
          "since_last_don": 22,
          "total_blood": 250,
          "total_dons": 1
         },
         {
          "Class": 1,
          "since_first_don": 23,
          "since_last_don": 23,
          "total_blood": 250,
          "total_dons": 1
         },
         {
          "Class": 1,
          "since_first_don": 48,
          "since_last_don": 21,
          "total_blood": 1500,
          "total_dons": 6
         },
         {
          "Class": 2,
          "since_first_don": 35,
          "since_last_don": 2,
          "total_blood": 2000,
          "total_dons": 8
         },
         {
          "Class": 1,
          "since_first_don": 21,
          "since_last_don": 21,
          "total_blood": 250,
          "total_dons": 1
         },
         {
          "Class": 1,
          "since_first_don": 35,
          "since_last_don": 21,
          "total_blood": 750,
          "total_dons": 3
         },
         {
          "Class": 1,
          "since_first_don": 49,
          "since_last_don": 2,
          "total_blood": 2500,
          "total_dons": 10
         },
         {
          "Class": 1,
          "since_first_don": 52,
          "since_last_don": 9,
          "total_blood": 500,
          "total_dons": 2
         },
         {
          "Class": 2,
          "since_first_don": 16,
          "since_last_don": 4,
          "total_blood": 1500,
          "total_dons": 6
         },
         {
          "Class": 2,
          "since_first_don": 2,
          "since_last_don": 2,
          "total_blood": 250,
          "total_dons": 1
         },
         {
          "Class": 2,
          "since_first_don": 48,
          "since_last_don": 4,
          "total_blood": 2000,
          "total_dons": 8
         },
         {
          "Class": 1,
          "since_first_don": 23,
          "since_last_don": 23,
          "total_blood": 250,
          "total_dons": 1
         },
         {
          "Class": 2,
          "since_first_don": 43,
          "since_last_don": 1,
          "total_blood": 2500,
          "total_dons": 10
         },
         {
          "Class": 2,
          "since_first_don": 2,
          "since_last_don": 2,
          "total_blood": 250,
          "total_dons": 1
         },
         {
          "Class": 1,
          "since_first_don": 28,
          "since_last_don": 2,
          "total_blood": 2750,
          "total_dons": 11
         },
         {
          "Class": 1,
          "since_first_don": 35,
          "since_last_don": 1,
          "total_blood": 3000,
          "total_dons": 12
         },
         {
          "Class": 1,
          "since_first_don": 11,
          "since_last_don": 11,
          "total_blood": 250,
          "total_dons": 1
         },
         {
          "Class": 2,
          "since_first_don": 57,
          "since_last_don": 2,
          "total_blood": 3500,
          "total_dons": 14
         },
         {
          "Class": 1,
          "since_first_don": 18,
          "since_last_don": 11,
          "total_blood": 1250,
          "total_dons": 5
         },
         {
          "Class": 1,
          "since_first_don": 23,
          "since_last_don": 18,
          "total_blood": 500,
          "total_dons": 2
         },
         {
          "Class": 2,
          "since_first_don": 4,
          "since_last_don": 4,
          "total_blood": 500,
          "total_dons": 2
         },
         {
          "Class": 2,
          "since_first_don": 28,
          "since_last_don": 2,
          "total_blood": 2500,
          "total_dons": 10
         },
         {
          "Class": 1,
          "since_first_don": 14,
          "since_last_don": 14,
          "total_blood": 250,
          "total_dons": 1
         },
         {
          "Class": 1,
          "since_first_don": 95,
          "since_last_don": 18,
          "total_blood": 2000,
          "total_dons": 8
         },
         {
          "Class": 1,
          "since_first_don": 23,
          "since_last_don": 4,
          "total_blood": 500,
          "total_dons": 2
         },
         {
          "Class": 2,
          "since_first_don": 9,
          "since_last_don": 4,
          "total_blood": 500,
          "total_dons": 2
         },
         {
          "Class": 1,
          "since_first_don": 2,
          "since_last_don": 2,
          "total_blood": 250,
          "total_dons": 1
         },
         {
          "Class": 1,
          "since_first_don": 23,
          "since_last_don": 23,
          "total_blood": 250,
          "total_dons": 1
         },
         {
          "Class": 1,
          "since_first_don": 45,
          "since_last_don": 16,
          "total_blood": 1000,
          "total_dons": 4
         },
         {
          "Class": 1,
          "since_first_don": 23,
          "since_last_don": 23,
          "total_blood": 250,
          "total_dons": 1
         },
         {
          "Class": 1,
          "since_first_don": 28,
          "since_last_don": 5,
          "total_blood": 1500,
          "total_dons": 6
         },
         {
          "Class": 1,
          "since_first_don": 61,
          "since_last_don": 4,
          "total_blood": 2750,
          "total_dons": 11
         },
         {
          "Class": 2,
          "since_first_don": 38,
          "since_last_don": 4,
          "total_blood": 2250,
          "total_dons": 9
         },
         {
          "Class": 1,
          "since_first_don": 40,
          "since_last_don": 4,
          "total_blood": 3500,
          "total_dons": 14
         },
         {
          "Class": 1,
          "since_first_don": 4,
          "since_last_don": 4,
          "total_blood": 250,
          "total_dons": 1
         },
         {
          "Class": 2,
          "since_first_don": 2,
          "since_last_don": 2,
          "total_blood": 250,
          "total_dons": 1
         },
         {
          "Class": 1,
          "since_first_don": 16,
          "since_last_don": 2,
          "total_blood": 1000,
          "total_dons": 4
         },
         {
          "Class": 1,
          "since_first_don": 24,
          "since_last_don": 11,
          "total_blood": 500,
          "total_dons": 2
         },
         {
          "Class": 1,
          "since_first_don": 35,
          "since_last_don": 4,
          "total_blood": 1500,
          "total_dons": 6
         },
         {
          "Class": 2,
          "since_first_don": 28,
          "since_last_don": 0,
          "total_blood": 3250,
          "total_dons": 13
         },
         {
          "Class": 1,
          "since_first_don": 77,
          "since_last_don": 2,
          "total_blood": 1750,
          "total_dons": 7
         },
         {
          "Class": 2,
          "since_first_don": 4,
          "since_last_don": 2,
          "total_blood": 750,
          "total_dons": 3
         },
         {
          "Class": 1,
          "since_first_don": 21,
          "since_last_don": 4,
          "total_blood": 2000,
          "total_dons": 8
         },
         {
          "Class": 1,
          "since_first_don": 16,
          "since_last_don": 16,
          "total_blood": 500,
          "total_dons": 2
         },
         {
          "Class": 1,
          "since_first_don": 40,
          "since_last_don": 14,
          "total_blood": 1000,
          "total_dons": 4
         },
         {
          "Class": 1,
          "since_first_don": 79,
          "since_last_don": 5,
          "total_blood": 6000,
          "total_dons": 24
         },
         {
          "Class": 1,
          "since_first_don": 11,
          "since_last_don": 11,
          "total_blood": 250,
          "total_dons": 1
         },
         {
          "Class": 1,
          "since_first_don": 35,
          "since_last_don": 21,
          "total_blood": 750,
          "total_dons": 3
         },
         {
          "Class": 1,
          "since_first_don": 16,
          "since_last_don": 2,
          "total_blood": 1000,
          "total_dons": 4
         },
         {
          "Class": 1,
          "since_first_don": 11,
          "since_last_don": 11,
          "total_blood": 250,
          "total_dons": 1
         },
         {
          "Class": 1,
          "since_first_don": 16,
          "since_last_don": 2,
          "total_blood": 1000,
          "total_dons": 4
         },
         {
          "Class": 2,
          "since_first_don": 40,
          "since_last_don": 16,
          "total_blood": 1250,
          "total_dons": 5
         },
         {
          "Class": 1,
          "since_first_don": 50,
          "since_last_don": 16,
          "total_blood": 3000,
          "total_dons": 12
         },
         {
          "Class": 1,
          "since_first_don": 14,
          "since_last_don": 14,
          "total_blood": 250,
          "total_dons": 1
         },
         {
          "Class": 1,
          "since_first_don": 64,
          "since_last_don": 35,
          "total_blood": 750,
          "total_dons": 3
         },
         {
          "Class": 1,
          "since_first_don": 47,
          "since_last_don": 14,
          "total_blood": 1750,
          "total_dons": 7
         },
         {
          "Class": 1,
          "since_first_don": 11,
          "since_last_don": 11,
          "total_blood": 250,
          "total_dons": 1
         },
         {
          "Class": 1,
          "since_first_don": 52,
          "since_last_don": 2,
          "total_blood": 3000,
          "total_dons": 12
         },
         {
          "Class": 1,
          "since_first_don": 78,
          "since_last_don": 14,
          "total_blood": 4500,
          "total_dons": 18
         },
         {
          "Class": 1,
          "since_first_don": 2,
          "since_last_don": 2,
          "total_blood": 250,
          "total_dons": 1
         },
         {
          "Class": 1,
          "since_first_don": 16,
          "since_last_don": 4,
          "total_blood": 1000,
          "total_dons": 4
         },
         {
          "Class": 1,
          "since_first_don": 25,
          "since_last_don": 21,
          "total_blood": 500,
          "total_dons": 2
         },
         {
          "Class": 1,
          "since_first_don": 41,
          "since_last_don": 21,
          "total_blood": 500,
          "total_dons": 2
         },
         {
          "Class": 1,
          "since_first_don": 39,
          "since_last_don": 12,
          "total_blood": 2750,
          "total_dons": 11
         },
         {
          "Class": 1,
          "since_first_don": 75,
          "since_last_don": 11,
          "total_blood": 1750,
          "total_dons": 7
         },
         {
          "Class": 1,
          "since_first_don": 72,
          "since_last_don": 11,
          "total_blood": 2000,
          "total_dons": 8
         },
         {
          "Class": 1,
          "since_first_don": 26,
          "since_last_don": 6,
          "total_blood": 750,
          "total_dons": 3
         },
         {
          "Class": 1,
          "since_first_don": 37,
          "since_last_don": 11,
          "total_blood": 750,
          "total_dons": 3
         },
         {
          "Class": 1,
          "since_first_don": 11,
          "since_last_don": 11,
          "total_blood": 250,
          "total_dons": 1
         },
         {
          "Class": 1,
          "since_first_don": 26,
          "since_last_don": 2,
          "total_blood": 1250,
          "total_dons": 5
         },
         {
          "Class": 1,
          "since_first_don": 45,
          "since_last_don": 23,
          "total_blood": 1000,
          "total_dons": 4
         },
         {
          "Class": 1,
          "since_first_don": 35,
          "since_last_don": 16,
          "total_blood": 750,
          "total_dons": 3
         },
         {
          "Class": 1,
          "since_first_don": 22,
          "since_last_don": 2,
          "total_blood": 500,
          "total_dons": 2
         },
         {
          "Class": 1,
          "since_first_don": 23,
          "since_last_don": 21,
          "total_blood": 500,
          "total_dons": 2
         },
         {
          "Class": 1,
          "since_first_don": 11,
          "since_last_don": 2,
          "total_blood": 500,
          "total_dons": 2
         },
         {
          "Class": 1,
          "since_first_don": 4,
          "since_last_don": 4,
          "total_blood": 250,
          "total_dons": 1
         },
         {
          "Class": 1,
          "since_first_don": 87,
          "since_last_don": 23,
          "total_blood": 500,
          "total_dons": 2
         },
         {
          "Class": 1,
          "since_first_don": 21,
          "since_last_don": 21,
          "total_blood": 250,
          "total_dons": 1
         },
         {
          "Class": 1,
          "since_first_don": 16,
          "since_last_don": 4,
          "total_blood": 750,
          "total_dons": 3
         },
         {
          "Class": 2,
          "since_first_don": 46,
          "since_last_don": 4,
          "total_blood": 2000,
          "total_dons": 8
         },
         {
          "Class": 1,
          "since_first_don": 78,
          "since_last_don": 4,
          "total_blood": 2750,
          "total_dons": 11
         },
         {
          "Class": 1,
          "since_first_don": 43,
          "since_last_don": 2,
          "total_blood": 1000,
          "total_dons": 4
         },
         {
          "Class": 1,
          "since_first_don": 21,
          "since_last_don": 14,
          "total_blood": 750,
          "total_dons": 3
         },
         {
          "Class": 1,
          "since_first_don": 86,
          "since_last_don": 7,
          "total_blood": 3000,
          "total_dons": 12
         },
         {
          "Class": 1,
          "since_first_don": 14,
          "since_last_don": 2,
          "total_blood": 750,
          "total_dons": 3
         },
         {
          "Class": 1,
          "since_first_don": 14,
          "since_last_don": 14,
          "total_blood": 250,
          "total_dons": 1
         },
         {
          "Class": 1,
          "since_first_don": 64,
          "since_last_don": 11,
          "total_blood": 1750,
          "total_dons": 7
         },
         {
          "Class": 1,
          "since_first_don": 50,
          "since_last_don": 25,
          "total_blood": 1500,
          "total_dons": 6
         },
         {
          "Class": 2,
          "since_first_don": 69,
          "since_last_don": 4,
          "total_blood": 5000,
          "total_dons": 20
         },
         {
          "Class": 1,
          "since_first_don": 41,
          "since_last_don": 14,
          "total_blood": 750,
          "total_dons": 3
         },
         {
          "Class": 1,
          "since_first_don": 2,
          "since_last_don": 2,
          "total_blood": 250,
          "total_dons": 1
         },
         {
          "Class": 2,
          "since_first_don": 42,
          "since_last_don": 3,
          "total_blood": 5250,
          "total_dons": 21
         },
         {
          "Class": 1,
          "since_first_don": 38,
          "since_last_don": 16,
          "total_blood": 1750,
          "total_dons": 7
         },
         {
          "Class": 1,
          "since_first_don": 21,
          "since_last_don": 16,
          "total_blood": 750,
          "total_dons": 3
         },
         {
          "Class": 1,
          "since_first_don": 2,
          "since_last_don": 2,
          "total_blood": 250,
          "total_dons": 1
         },
         {
          "Class": 1,
          "since_first_don": 98,
          "since_last_don": 2,
          "total_blood": 3000,
          "total_dons": 12
         },
         {
          "Class": 1,
          "since_first_don": 23,
          "since_last_don": 21,
          "total_blood": 500,
          "total_dons": 2
         },
         {
          "Class": 1,
          "since_first_don": 4,
          "since_last_don": 4,
          "total_blood": 250,
          "total_dons": 1
         },
         {
          "Class": 2,
          "since_first_don": 4,
          "since_last_don": 4,
          "total_blood": 250,
          "total_dons": 1
         },
         {
          "Class": 1,
          "since_first_don": 21,
          "since_last_don": 21,
          "total_blood": 250,
          "total_dons": 1
         },
         {
          "Class": 2,
          "since_first_don": 28,
          "since_last_don": 4,
          "total_blood": 2500,
          "total_dons": 10
         },
         {
          "Class": 1,
          "since_first_don": 33,
          "since_last_don": 2,
          "total_blood": 500,
          "total_dons": 2
         },
         {
          "Class": 1,
          "since_first_don": 41,
          "since_last_don": 4,
          "total_blood": 500,
          "total_dons": 2
         },
         {
          "Class": 2,
          "since_first_don": 11,
          "since_last_don": 2,
          "total_blood": 500,
          "total_dons": 2
         },
         {
          "Class": 1,
          "since_first_don": 37,
          "since_last_don": 2,
          "total_blood": 1250,
          "total_dons": 5
         },
         {
          "Class": 1,
          "since_first_don": 23,
          "since_last_don": 2,
          "total_blood": 1000,
          "total_dons": 4
         },
         {
          "Class": 1,
          "since_first_don": 16,
          "since_last_don": 13,
          "total_blood": 750,
          "total_dons": 3
         },
         {
          "Class": 1,
          "since_first_don": 52,
          "since_last_don": 4,
          "total_blood": 2250,
          "total_dons": 9
         },
         {
          "Class": 1,
          "since_first_don": 16,
          "since_last_don": 16,
          "total_blood": 250,
          "total_dons": 1
         },
         {
          "Class": 1,
          "since_first_don": 23,
          "since_last_don": 11,
          "total_blood": 750,
          "total_dons": 3
         },
         {
          "Class": 1,
          "since_first_don": 26,
          "since_last_don": 14,
          "total_blood": 750,
          "total_dons": 3
         },
         {
          "Class": 1,
          "since_first_don": 35,
          "since_last_don": 11,
          "total_blood": 1250,
          "total_dons": 5
         },
         {
          "Class": 1,
          "since_first_don": 16,
          "since_last_don": 16,
          "total_blood": 250,
          "total_dons": 1
         },
         {
          "Class": 1,
          "since_first_don": 58,
          "since_last_don": 4,
          "total_blood": 5750,
          "total_dons": 23
         },
         {
          "Class": 1,
          "since_first_don": 26,
          "since_last_don": 21,
          "total_blood": 500,
          "total_dons": 2
         },
         {
          "Class": 2,
          "since_first_don": 28,
          "since_last_don": 2,
          "total_blood": 1500,
          "total_dons": 6
         },
         {
          "Class": 1,
          "since_first_don": 75,
          "since_last_don": 2,
          "total_blood": 1500,
          "total_dons": 6
         },
         {
          "Class": 1,
          "since_first_don": 76,
          "since_last_don": 2,
          "total_blood": 1750,
          "total_dons": 7
         },
         {
          "Class": 1,
          "since_first_don": 61,
          "since_last_don": 11,
          "total_blood": 1000,
          "total_dons": 4
         },
         {
          "Class": 1,
          "since_first_don": 51,
          "since_last_don": 1,
          "total_blood": 2250,
          "total_dons": 9
         },
         {
          "Class": 1,
          "since_first_don": 14,
          "since_last_don": 2,
          "total_blood": 500,
          "total_dons": 2
         },
         {
          "Class": 1,
          "since_first_don": 75,
          "since_last_don": 2,
          "total_blood": 2250,
          "total_dons": 9
         },
         {
          "Class": 1,
          "since_first_don": 23,
          "since_last_don": 4,
          "total_blood": 1250,
          "total_dons": 5
         },
         {
          "Class": 1,
          "since_first_don": 16,
          "since_last_don": 14,
          "total_blood": 500,
          "total_dons": 2
         },
         {
          "Class": 1,
          "since_first_don": 60,
          "since_last_don": 12,
          "total_blood": 2250,
          "total_dons": 9
         },
         {
          "Class": 2,
          "since_first_don": 87,
          "since_last_don": 16,
          "total_blood": 1750,
          "total_dons": 7
         },
         {
          "Class": 2,
          "since_first_don": 77,
          "since_last_don": 2,
          "total_blood": 8500,
          "total_dons": 34
         },
         {
          "Class": 1,
          "since_first_don": 98,
          "since_last_don": 23,
          "total_blood": 9500,
          "total_dons": 38
         },
         {
          "Class": 1,
          "since_first_don": 45,
          "since_last_don": 14,
          "total_blood": 1750,
          "total_dons": 7
         },
         {
          "Class": 1,
          "since_first_don": 23,
          "since_last_don": 2,
          "total_blood": 2750,
          "total_dons": 11
         },
         {
          "Class": 1,
          "since_first_don": 76,
          "since_last_don": 11,
          "total_blood": 750,
          "total_dons": 3
         },
         {
          "Class": 2,
          "since_first_don": 22,
          "since_last_don": 14,
          "total_blood": 1000,
          "total_dons": 4
         },
         {
          "Class": 1,
          "since_first_don": 16,
          "since_last_don": 16,
          "total_blood": 250,
          "total_dons": 1
         },
         {
          "Class": 1,
          "since_first_don": 26,
          "since_last_don": 4,
          "total_blood": 1000,
          "total_dons": 4
         },
         {
          "Class": 1,
          "since_first_don": 52,
          "since_last_don": 11,
          "total_blood": 500,
          "total_dons": 2
         },
         {
          "Class": 1,
          "since_first_don": 2,
          "since_last_don": 2,
          "total_blood": 250,
          "total_dons": 1
         },
         {
          "Class": 1,
          "since_first_don": 21,
          "since_last_don": 21,
          "total_blood": 250,
          "total_dons": 1
         },
         {
          "Class": 1,
          "since_first_don": 4,
          "since_last_don": 4,
          "total_blood": 500,
          "total_dons": 2
         },
         {
          "Class": 1,
          "since_first_don": 16,
          "since_last_don": 16,
          "total_blood": 250,
          "total_dons": 1
         },
         {
          "Class": 2,
          "since_first_don": 11,
          "since_last_don": 2,
          "total_blood": 500,
          "total_dons": 2
         },
         {
          "Class": 1,
          "since_first_don": 79,
          "since_last_don": 14,
          "total_blood": 750,
          "total_dons": 3
         },
         {
          "Class": 1,
          "since_first_don": 98,
          "since_last_don": 2,
          "total_blood": 11000,
          "total_dons": 44
         },
         {
          "Class": 2,
          "since_first_don": 49,
          "since_last_don": 26,
          "total_blood": 1250,
          "total_dons": 5
         },
         {
          "Class": 1,
          "since_first_don": 23,
          "since_last_don": 16,
          "total_blood": 750,
          "total_dons": 3
         },
         {
          "Class": 1,
          "since_first_don": 30,
          "since_last_don": 4,
          "total_blood": 1500,
          "total_dons": 6
         },
         {
          "Class": 1,
          "since_first_don": 28,
          "since_last_don": 4,
          "total_blood": 1250,
          "total_dons": 5
         },
         {
          "Class": 1,
          "since_first_don": 28,
          "since_last_don": 14,
          "total_blood": 750,
          "total_dons": 3
         },
         {
          "Class": 2,
          "since_first_don": 98,
          "since_last_don": 4,
          "total_blood": 4000,
          "total_dons": 16
         },
         {
          "Class": 1,
          "since_first_don": 47,
          "since_last_don": 4,
          "total_blood": 1500,
          "total_dons": 6
         },
         {
          "Class": 2,
          "since_first_don": 4,
          "since_last_don": 4,
          "total_blood": 250,
          "total_dons": 1
         },
         {
          "Class": 1,
          "since_first_don": 54,
          "since_last_don": 9,
          "total_blood": 2250,
          "total_dons": 9
         },
         {
          "Class": 1,
          "since_first_don": 88,
          "since_last_don": 23,
          "total_blood": 1750,
          "total_dons": 7
         },
         {
          "Class": 1,
          "since_first_don": 11,
          "since_last_don": 11,
          "total_blood": 250,
          "total_dons": 1
         },
         {
          "Class": 1,
          "since_first_don": 23,
          "since_last_don": 23,
          "total_blood": 250,
          "total_dons": 1
         },
         {
          "Class": 2,
          "since_first_don": 38,
          "since_last_don": 4,
          "total_blood": 1500,
          "total_dons": 6
         },
         {
          "Class": 1,
          "since_first_don": 40,
          "since_last_don": 23,
          "total_blood": 750,
          "total_dons": 3
         },
         {
          "Class": 1,
          "since_first_don": 46,
          "since_last_don": 16,
          "total_blood": 750,
          "total_dons": 3
         },
         {
          "Class": 1,
          "since_first_don": 4,
          "since_last_don": 4,
          "total_blood": 250,
          "total_dons": 1
         },
         {
          "Class": 1,
          "since_first_don": 37,
          "since_last_don": 11,
          "total_blood": 1750,
          "total_dons": 7
         },
         {
          "Class": 1,
          "since_first_don": 28,
          "since_last_don": 23,
          "total_blood": 750,
          "total_dons": 3
         },
         {
          "Class": 1,
          "since_first_don": 45,
          "since_last_don": 23,
          "total_blood": 1500,
          "total_dons": 6
         },
         {
          "Class": 1,
          "since_first_don": 38,
          "since_last_don": 38,
          "total_blood": 250,
          "total_dons": 1
         },
         {
          "Class": 1,
          "since_first_don": 70,
          "since_last_don": 16,
          "total_blood": 500,
          "total_dons": 2
         },
         {
          "Class": 1,
          "since_first_don": 21,
          "since_last_don": 21,
          "total_blood": 250,
          "total_dons": 1
         },
         {
          "Class": 2,
          "since_first_don": 16,
          "since_last_don": 2,
          "total_blood": 1000,
          "total_dons": 4
         },
         {
          "Class": 2,
          "since_first_don": 28,
          "since_last_don": 4,
          "total_blood": 1500,
          "total_dons": 6
         },
         {
          "Class": 1,
          "since_first_don": 26,
          "since_last_don": 14,
          "total_blood": 1000,
          "total_dons": 4
         },
         {
          "Class": 1,
          "since_first_don": 26,
          "since_last_don": 11,
          "total_blood": 750,
          "total_dons": 3
         },
         {
          "Class": 1,
          "since_first_don": 74,
          "since_last_don": 3,
          "total_blood": 4000,
          "total_dons": 16
         },
         {
          "Class": 1,
          "since_first_don": 76,
          "since_last_don": 13,
          "total_blood": 1750,
          "total_dons": 7
         },
         {
          "Class": 1,
          "since_first_don": 16,
          "since_last_don": 2,
          "total_blood": 500,
          "total_dons": 2
         },
         {
          "Class": 2,
          "since_first_don": 22,
          "since_last_don": 2,
          "total_blood": 2250,
          "total_dons": 9
         },
         {
          "Class": 1,
          "since_first_don": 4,
          "since_last_don": 2,
          "total_blood": 500,
          "total_dons": 2
         },
         {
          "Class": 2,
          "since_first_don": 14,
          "since_last_don": 14,
          "total_blood": 500,
          "total_dons": 2
         },
         {
          "Class": 1,
          "since_first_don": 81,
          "since_last_don": 2,
          "total_blood": 4000,
          "total_dons": 16
         },
         {
          "Class": 1,
          "since_first_don": 41,
          "since_last_don": 23,
          "total_blood": 750,
          "total_dons": 3
         },
         {
          "Class": 1,
          "since_first_don": 57,
          "since_last_don": 14,
          "total_blood": 1000,
          "total_dons": 4
         },
         {
          "Class": 1,
          "since_first_don": 14,
          "since_last_don": 14,
          "total_blood": 250,
          "total_dons": 1
         },
         {
          "Class": 1,
          "since_first_don": 23,
          "since_last_don": 23,
          "total_blood": 250,
          "total_dons": 1
         },
         {
          "Class": 1,
          "since_first_don": 38,
          "since_last_don": 38,
          "total_blood": 250,
          "total_dons": 1
         },
         {
          "Class": 1,
          "since_first_don": 35,
          "since_last_don": 21,
          "total_blood": 750,
          "total_dons": 3
         },
         {
          "Class": 1,
          "since_first_don": 41,
          "since_last_don": 11,
          "total_blood": 1250,
          "total_dons": 5
         },
         {
          "Class": 1,
          "since_first_don": 71,
          "since_last_don": 11,
          "total_blood": 1500,
          "total_dons": 6
         },
         {
          "Class": 1,
          "since_first_don": 16,
          "since_last_don": 16,
          "total_blood": 250,
          "total_dons": 1
         },
         {
          "Class": 1,
          "since_first_don": 86,
          "since_last_don": 5,
          "total_blood": 3500,
          "total_dons": 14
         },
         {
          "Class": 1,
          "since_first_don": 4,
          "since_last_don": 4,
          "total_blood": 500,
          "total_dons": 2
         },
         {
          "Class": 2,
          "since_first_don": 50,
          "since_last_don": 14,
          "total_blood": 2000,
          "total_dons": 8
         },
         {
          "Class": 2,
          "since_first_don": 51,
          "since_last_don": 9,
          "total_blood": 1250,
          "total_dons": 5
         },
         {
          "Class": 1,
          "since_first_don": 29,
          "since_last_don": 2,
          "total_blood": 1750,
          "total_dons": 7
         },
         {
          "Class": 1,
          "since_first_don": 86,
          "since_last_don": 21,
          "total_blood": 1500,
          "total_dons": 6
         },
         {
          "Class": 1,
          "since_first_don": 72,
          "since_last_don": 14,
          "total_blood": 1750,
          "total_dons": 7
         },
         {
          "Class": 1,
          "since_first_don": 26,
          "since_last_don": 16,
          "total_blood": 500,
          "total_dons": 2
         },
         {
          "Class": 1,
          "since_first_don": 64,
          "since_last_don": 14,
          "total_blood": 1000,
          "total_dons": 4
         },
         {
          "Class": 1,
          "since_first_don": 14,
          "since_last_don": 14,
          "total_blood": 500,
          "total_dons": 2
         },
         {
          "Class": 1,
          "since_first_don": 21,
          "since_last_don": 21,
          "total_blood": 250,
          "total_dons": 1
         },
         {
          "Class": 1,
          "since_first_don": 28,
          "since_last_don": 14,
          "total_blood": 1250,
          "total_dons": 5
         },
         {
          "Class": 1,
          "since_first_don": 29,
          "since_last_don": 4,
          "total_blood": 500,
          "total_dons": 2
         },
         {
          "Class": 1,
          "since_first_don": 14,
          "since_last_don": 14,
          "total_blood": 250,
          "total_dons": 1
         },
         {
          "Class": 1,
          "since_first_don": 36,
          "since_last_don": 2,
          "total_blood": 2250,
          "total_dons": 9
         },
         {
          "Class": 1,
          "since_first_don": 4,
          "since_last_don": 4,
          "total_blood": 500,
          "total_dons": 2
         },
         {
          "Class": 1,
          "since_first_don": 64,
          "since_last_don": 2,
          "total_blood": 2500,
          "total_dons": 10
         },
         {
          "Class": 1,
          "since_first_don": 51,
          "since_last_don": 14,
          "total_blood": 1500,
          "total_dons": 6
         },
         {
          "Class": 2,
          "since_first_don": 48,
          "since_last_don": 2,
          "total_blood": 3500,
          "total_dons": 14
         },
         {
          "Class": 1,
          "since_first_don": 89,
          "since_last_don": 23,
          "total_blood": 750,
          "total_dons": 3
         },
         {
          "Class": 1,
          "since_first_don": 42,
          "since_last_don": 11,
          "total_blood": 2750,
          "total_dons": 11
         },
         {
          "Class": 1,
          "since_first_don": 23,
          "since_last_don": 23,
          "total_blood": 500,
          "total_dons": 2
         },
         {
          "Class": 1,
          "since_first_don": 63,
          "since_last_don": 2,
          "total_blood": 1250,
          "total_dons": 5
         },
         {
          "Class": 1,
          "since_first_don": 33,
          "since_last_don": 23,
          "total_blood": 1250,
          "total_dons": 5
         },
         {
          "Class": 2,
          "since_first_don": 4,
          "since_last_don": 2,
          "total_blood": 500,
          "total_dons": 2
         },
         {
          "Class": 1,
          "since_first_don": 93,
          "since_last_don": 23,
          "total_blood": 3500,
          "total_dons": 14
         },
         {
          "Class": 1,
          "since_first_don": 74,
          "since_last_don": 2,
          "total_blood": 2250,
          "total_dons": 9
         },
         {
          "Class": 1,
          "since_first_don": 29,
          "since_last_don": 11,
          "total_blood": 1750,
          "total_dons": 7
         },
         {
          "Class": 1,
          "since_first_don": 52,
          "since_last_don": 21,
          "total_blood": 1000,
          "total_dons": 4
         },
         {
          "Class": 2,
          "since_first_don": 15,
          "since_last_don": 2,
          "total_blood": 1500,
          "total_dons": 6
         },
         {
          "Class": 1,
          "since_first_don": 4,
          "since_last_don": 4,
          "total_blood": 500,
          "total_dons": 2
         },
         {
          "Class": 2,
          "since_first_don": 43,
          "since_last_don": 4,
          "total_blood": 1000,
          "total_dons": 4
         },
         {
          "Class": 1,
          "since_first_don": 23,
          "since_last_don": 2,
          "total_blood": 500,
          "total_dons": 2
         },
         {
          "Class": 2,
          "since_first_don": 4,
          "since_last_don": 4,
          "total_blood": 250,
          "total_dons": 1
         },
         {
          "Class": 1,
          "since_first_don": 58,
          "since_last_don": 12,
          "total_blood": 3000,
          "total_dons": 12
         },
         {
          "Class": 2,
          "since_first_don": 45,
          "since_last_don": 2,
          "total_blood": 5000,
          "total_dons": 20
         },
         {
          "Class": 1,
          "since_first_don": 28,
          "since_last_don": 16,
          "total_blood": 1000,
          "total_dons": 4
         },
         {
          "Class": 1,
          "since_first_don": 64,
          "since_last_don": 21,
          "total_blood": 750,
          "total_dons": 3
         },
         {
          "Class": 1,
          "since_first_don": 4,
          "since_last_don": 4,
          "total_blood": 250,
          "total_dons": 1
         },
         {
          "Class": 1,
          "since_first_don": 83,
          "since_last_don": 14,
          "total_blood": 750,
          "total_dons": 3
         },
         {
          "Class": 1,
          "since_first_don": 16,
          "since_last_don": 16,
          "total_blood": 500,
          "total_dons": 2
         },
         {
          "Class": 1,
          "since_first_don": 11,
          "since_last_don": 2,
          "total_blood": 500,
          "total_dons": 2
         },
         {
          "Class": 1,
          "since_first_don": 4,
          "since_last_don": 0,
          "total_blood": 500,
          "total_dons": 2
         },
         {
          "Class": 1,
          "since_first_don": 14,
          "since_last_don": 4,
          "total_blood": 1500,
          "total_dons": 6
         },
         {
          "Class": 1,
          "since_first_don": 58,
          "since_last_don": 11,
          "total_blood": 1500,
          "total_dons": 6
         },
         {
          "Class": 2,
          "since_first_don": 26,
          "since_last_don": 4,
          "total_blood": 2000,
          "total_dons": 8
         },
         {
          "Class": 1,
          "since_first_don": 34,
          "since_last_don": 14,
          "total_blood": 1500,
          "total_dons": 6
         },
         {
          "Class": 2,
          "since_first_don": 46,
          "since_last_don": 2,
          "total_blood": 2750,
          "total_dons": 11
         },
         {
          "Class": 1,
          "since_first_don": 35,
          "since_last_don": 3,
          "total_blood": 3500,
          "total_dons": 14
         },
         {
          "Class": 1,
          "since_first_don": 60,
          "since_last_don": 21,
          "total_blood": 1250,
          "total_dons": 5
         },
         {
          "Class": 2,
          "since_first_don": 16,
          "since_last_don": 4,
          "total_blood": 1250,
          "total_dons": 5
         },
         {
          "Class": 2,
          "since_first_don": 37,
          "since_last_don": 11,
          "total_blood": 1250,
          "total_dons": 5
         },
         {
          "Class": 1,
          "since_first_don": 35,
          "since_last_don": 14,
          "total_blood": 500,
          "total_dons": 2
         },
         {
          "Class": 2,
          "since_first_don": 26,
          "since_last_don": 2,
          "total_blood": 1500,
          "total_dons": 6
         },
         {
          "Class": 1,
          "since_first_don": 26,
          "since_last_don": 14,
          "total_blood": 750,
          "total_dons": 3
         },
         {
          "Class": 1,
          "since_first_don": 34,
          "since_last_don": 4,
          "total_blood": 1250,
          "total_dons": 5
         },
         {
          "Class": 1,
          "since_first_don": 18,
          "since_last_don": 4,
          "total_blood": 1000,
          "total_dons": 4
         },
         {
          "Class": 2,
          "since_first_don": 10,
          "since_last_don": 2,
          "total_blood": 500,
          "total_dons": 2
         },
         {
          "Class": 1,
          "since_first_don": 64,
          "since_last_don": 21,
          "total_blood": 4000,
          "total_dons": 16
         },
         {
          "Class": 1,
          "since_first_don": 11,
          "since_last_don": 9,
          "total_blood": 500,
          "total_dons": 2
         },
         {
          "Class": 1,
          "since_first_don": 35,
          "since_last_don": 2,
          "total_blood": 750,
          "total_dons": 3
         },
         {
          "Class": 1,
          "since_first_don": 58,
          "since_last_don": 11,
          "total_blood": 1000,
          "total_dons": 4
         },
         {
          "Class": 1,
          "since_first_don": 2,
          "since_last_don": 2,
          "total_blood": 250,
          "total_dons": 1
         },
         {
          "Class": 1,
          "since_first_don": 31,
          "since_last_don": 14,
          "total_blood": 750,
          "total_dons": 3
         },
         {
          "Class": 1,
          "since_first_don": 39,
          "since_last_don": 39,
          "total_blood": 250,
          "total_dons": 1
         },
         {
          "Class": 1,
          "since_first_don": 2,
          "since_last_don": 2,
          "total_blood": 250,
          "total_dons": 1
         },
         {
          "Class": 2,
          "since_first_don": 38,
          "since_last_don": 11,
          "total_blood": 500,
          "total_dons": 2
         },
         {
          "Class": 1,
          "since_first_don": 2,
          "since_last_don": 2,
          "total_blood": 250,
          "total_dons": 1
         },
         {
          "Class": 1,
          "since_first_don": 16,
          "since_last_don": 16,
          "total_blood": 250,
          "total_dons": 1
         },
         {
          "Class": 1,
          "since_first_don": 28,
          "since_last_don": 16,
          "total_blood": 1750,
          "total_dons": 7
         },
         {
          "Class": 1,
          "since_first_don": 23,
          "since_last_don": 23,
          "total_blood": 250,
          "total_dons": 1
         },
         {
          "Class": 1,
          "since_first_don": 14,
          "since_last_don": 6,
          "total_blood": 750,
          "total_dons": 3
         },
         {
          "Class": 1,
          "since_first_don": 40,
          "since_last_don": 16,
          "total_blood": 1000,
          "total_dons": 4
         },
         {
          "Class": 1,
          "since_first_don": 16,
          "since_last_don": 16,
          "total_blood": 250,
          "total_dons": 1
         },
         {
          "Class": 2,
          "since_first_don": 29,
          "since_last_don": 3,
          "total_blood": 1000,
          "total_dons": 4
         },
         {
          "Class": 1,
          "since_first_don": 52,
          "since_last_don": 23,
          "total_blood": 1000,
          "total_dons": 4
         },
         {
          "Class": 2,
          "since_first_don": 69,
          "since_last_don": 20,
          "total_blood": 3500,
          "total_dons": 14
         },
         {
          "Class": 1,
          "since_first_don": 2,
          "since_last_don": 2,
          "total_blood": 250,
          "total_dons": 1
         },
         {
          "Class": 2,
          "since_first_don": 23,
          "since_last_don": 14,
          "total_blood": 1000,
          "total_dons": 4
         },
         {
          "Class": 1,
          "since_first_don": 16,
          "since_last_don": 16,
          "total_blood": 250,
          "total_dons": 1
         },
         {
          "Class": 1,
          "since_first_don": 64,
          "since_last_don": 8,
          "total_blood": 2250,
          "total_dons": 9
         },
         {
          "Class": 1,
          "since_first_don": 4,
          "since_last_don": 4,
          "total_blood": 250,
          "total_dons": 1
         },
         {
          "Class": 1,
          "since_first_don": 26,
          "since_last_don": 9,
          "total_blood": 500,
          "total_dons": 2
         },
         {
          "Class": 2,
          "since_first_don": 26,
          "since_last_don": 4,
          "total_blood": 1000,
          "total_dons": 4
         },
         {
          "Class": 1,
          "since_first_don": 14,
          "since_last_don": 14,
          "total_blood": 250,
          "total_dons": 1
         },
         {
          "Class": 2,
          "since_first_don": 26,
          "since_last_don": 5,
          "total_blood": 1750,
          "total_dons": 7
         },
         {
          "Class": 1,
          "since_first_don": 19,
          "since_last_don": 2,
          "total_blood": 750,
          "total_dons": 3
         },
         {
          "Class": 2,
          "since_first_don": 16,
          "since_last_don": 11,
          "total_blood": 1000,
          "total_dons": 4
         },
         {
          "Class": 2,
          "since_first_don": 76,
          "since_last_don": 0,
          "total_blood": 6500,
          "total_dons": 26
         },
         {
          "Class": 1,
          "since_first_don": 50,
          "since_last_don": 3,
          "total_blood": 2000,
          "total_dons": 8
         },
         {
          "Class": 2,
          "since_first_don": 3,
          "since_last_don": 3,
          "total_blood": 250,
          "total_dons": 1
         },
         {
          "Class": 1,
          "since_first_don": 52,
          "since_last_don": 21,
          "total_blood": 500,
          "total_dons": 2
         },
         {
          "Class": 2,
          "since_first_don": 22,
          "since_last_don": 4,
          "total_blood": 1750,
          "total_dons": 7
         },
         {
          "Class": 1,
          "since_first_don": 30,
          "since_last_don": 14,
          "total_blood": 1000,
          "total_dons": 4
         },
         {
          "Class": 2,
          "since_first_don": 35,
          "since_last_don": 1,
          "total_blood": 4000,
          "total_dons": 16
         },
         {
          "Class": 1,
          "since_first_don": 38,
          "since_last_don": 21,
          "total_blood": 750,
          "total_dons": 3
         },
         {
          "Class": 1,
          "since_first_don": 25,
          "since_last_don": 4,
          "total_blood": 1750,
          "total_dons": 7
         },
         {
          "Class": 1,
          "since_first_don": 27,
          "since_last_don": 11,
          "total_blood": 1500,
          "total_dons": 6
         },
         {
          "Class": 1,
          "since_first_don": 4,
          "since_last_don": 4,
          "total_blood": 250,
          "total_dons": 1
         },
         {
          "Class": 1,
          "since_first_don": 23,
          "since_last_don": 21,
          "total_blood": 500,
          "total_dons": 2
         },
         {
          "Class": 2,
          "since_first_don": 16,
          "since_last_don": 11,
          "total_blood": 750,
          "total_dons": 3
         },
         {
          "Class": 1,
          "since_first_don": 34,
          "since_last_don": 9,
          "total_blood": 750,
          "total_dons": 3
         },
         {
          "Class": 1,
          "since_first_don": 16,
          "since_last_don": 16,
          "total_blood": 250,
          "total_dons": 1
         },
         {
          "Class": 1,
          "since_first_don": 46,
          "since_last_don": 4,
          "total_blood": 2250,
          "total_dons": 9
         },
         {
          "Class": 2,
          "since_first_don": 4,
          "since_last_don": 4,
          "total_blood": 250,
          "total_dons": 1
         },
         {
          "Class": 1,
          "since_first_don": 95,
          "since_last_don": 1,
          "total_blood": 3500,
          "total_dons": 14
         },
         {
          "Class": 1,
          "since_first_don": 4,
          "since_last_don": 2,
          "total_blood": 500,
          "total_dons": 2
         },
         {
          "Class": 1,
          "since_first_don": 2,
          "since_last_don": 2,
          "total_blood": 500,
          "total_dons": 2
         },
         {
          "Class": 1,
          "since_first_don": 27,
          "since_last_don": 11,
          "total_blood": 1000,
          "total_dons": 4
         },
         {
          "Class": 2,
          "since_first_don": 40,
          "since_last_don": 4,
          "total_blood": 2000,
          "total_dons": 8
         },
         {
          "Class": 1,
          "since_first_don": 86,
          "since_last_don": 3,
          "total_blood": 4250,
          "total_dons": 17
         },
         {
          "Class": 1,
          "since_first_don": 4,
          "since_last_don": 4,
          "total_blood": 250,
          "total_dons": 1
         },
         {
          "Class": 1,
          "since_first_don": 45,
          "since_last_don": 2,
          "total_blood": 1500,
          "total_dons": 6
         },
         {
          "Class": 2,
          "since_first_don": 33,
          "since_last_don": 2,
          "total_blood": 1250,
          "total_dons": 5
         },
         {
          "Class": 1,
          "since_first_don": 59,
          "since_last_don": 0,
          "total_blood": 2000,
          "total_dons": 8
         },
         {
          "Class": 1,
          "since_first_don": 38,
          "since_last_don": 3,
          "total_blood": 1250,
          "total_dons": 5
         },
         {
          "Class": 2,
          "since_first_don": 49,
          "since_last_don": 2,
          "total_blood": 3750,
          "total_dons": 15
         },
         {
          "Class": 1,
          "since_first_don": 86,
          "since_last_don": 16,
          "total_blood": 750,
          "total_dons": 3
         },
         {
          "Class": 2,
          "since_first_don": 14,
          "since_last_don": 4,
          "total_blood": 1000,
          "total_dons": 4
         },
         {
          "Class": 1,
          "since_first_don": 34,
          "since_last_don": 11,
          "total_blood": 1000,
          "total_dons": 4
         },
         {
          "Class": 1,
          "since_first_don": 14,
          "since_last_don": 14,
          "total_blood": 250,
          "total_dons": 1
         },
         {
          "Class": 2,
          "since_first_don": 21,
          "since_last_don": 14,
          "total_blood": 500,
          "total_dons": 2
         },
         {
          "Class": 2,
          "since_first_don": 4,
          "since_last_don": 4,
          "total_blood": 1000,
          "total_dons": 4
         }
        ]
       },
       "encoding": {
        "x": {
         "field": "since_last_don",
         "type": "quantitative"
        },
        "y": {
         "aggregate": "count",
         "title": "Number of Donors",
         "type": "quantitative"
        }
       },
       "mark": "bar",
       "title": "Donor Recency Distribution"
      },
      "image/png": "[encoded data removed]",
      "text/plain": [
       "<VegaLite 3 object>\n",
       "\n",
       "If you see this message, it means the renderer has not been properly enabled\n",
       "for the frontend that you are using. For more information, see\n",
       "https://altair-viz.github.io/user_guide/troubleshooting.html\n"
      ]
     },
     "execution_count": 20,
     "metadata": {},
     "output_type": "execute_result"
    }
   ],
   "source": [
    "alt.Chart(blood_df_train).mark_bar().encode(\n",
    "    alt.X(\"since_last_don\"),\n",
    "    alt.Y(\"count()\", title = \"Number of Donors\"),\n",
    ").properties(title = \"Donor Recency Distribution\")"
   ]
  },
  {
   "cell_type": "code",
   "execution_count": 21,
   "metadata": {},
   "outputs": [
    {
     "data": {
      "application/vnd.vegalite.v3+json": {
       "$schema": "https://vega.github.io/schema/vega-lite/v3.4.0.json",
       "config": {
        "mark": {
         "tooltip": null
        },
        "view": {
         "height": 300,
         "width": 400
        }
       },
       "data": {
        "name": "data-9f8fa43238d447b8286cb04f7cfdb9c3"
       },
       "datasets": {
        "data-9f8fa43238d447b8286cb04f7cfdb9c3": [
         {
          "Class": 1,
          "since_first_don": 58,
          "since_last_don": 8,
          "total_blood": 2250,
          "total_dons": 9
         },
         {
          "Class": 1,
          "since_first_don": 21,
          "since_last_don": 13,
          "total_blood": 1000,
          "total_dons": 4
         },
         {
          "Class": 1,
          "since_first_don": 39,
          "since_last_don": 4,
          "total_blood": 1500,
          "total_dons": 6
         },
         {
          "Class": 1,
          "since_first_don": 46,
          "since_last_don": 4,
          "total_blood": 1250,
          "total_dons": 5
         },
         {
          "Class": 1,
          "since_first_don": 21,
          "since_last_don": 3,
          "total_blood": 1500,
          "total_dons": 6
         },
         {
          "Class": 1,
          "since_first_don": 9,
          "since_last_don": 9,
          "total_blood": 250,
          "total_dons": 1
         },
         {
          "Class": 1,
          "since_first_don": 14,
          "since_last_don": 14,
          "total_blood": 500,
          "total_dons": 2
         },
         {
          "Class": 1,
          "since_first_don": 77,
          "since_last_don": 2,
          "total_blood": 1750,
          "total_dons": 7
         },
         {
          "Class": 1,
          "since_first_don": 41,
          "since_last_don": 2,
          "total_blood": 500,
          "total_dons": 2
         },
         {
          "Class": 1,
          "since_first_don": 52,
          "since_last_don": 9,
          "total_blood": 500,
          "total_dons": 2
         },
         {
          "Class": 1,
          "since_first_don": 23,
          "since_last_don": 23,
          "total_blood": 250,
          "total_dons": 1
         },
         {
          "Class": 1,
          "since_first_don": 58,
          "since_last_don": 16,
          "total_blood": 1000,
          "total_dons": 4
         },
         {
          "Class": 1,
          "since_first_don": 26,
          "since_last_don": 2,
          "total_blood": 1000,
          "total_dons": 4
         },
         {
          "Class": 2,
          "since_first_don": 4,
          "since_last_don": 4,
          "total_blood": 500,
          "total_dons": 2
         },
         {
          "Class": 1,
          "since_first_don": 35,
          "since_last_don": 23,
          "total_blood": 750,
          "total_dons": 3
         },
         {
          "Class": 2,
          "since_first_don": 2,
          "since_last_don": 2,
          "total_blood": 250,
          "total_dons": 1
         },
         {
          "Class": 1,
          "since_first_don": 65,
          "since_last_don": 9,
          "total_blood": 1000,
          "total_dons": 4
         },
         {
          "Class": 2,
          "since_first_don": 19,
          "since_last_don": 14,
          "total_blood": 750,
          "total_dons": 3
         },
         {
          "Class": 1,
          "since_first_don": 58,
          "since_last_don": 4,
          "total_blood": 1750,
          "total_dons": 7
         },
         {
          "Class": 1,
          "since_first_don": 64,
          "since_last_don": 2,
          "total_blood": 4000,
          "total_dons": 16
         },
         {
          "Class": 1,
          "since_first_don": 4,
          "since_last_don": 4,
          "total_blood": 250,
          "total_dons": 1
         },
         {
          "Class": 1,
          "since_first_don": 40,
          "since_last_don": 40,
          "total_blood": 250,
          "total_dons": 1
         },
         {
          "Class": 1,
          "since_first_don": 14,
          "since_last_don": 14,
          "total_blood": 500,
          "total_dons": 2
         },
         {
          "Class": 1,
          "since_first_don": 89,
          "since_last_don": 16,
          "total_blood": 2500,
          "total_dons": 10
         },
         {
          "Class": 1,
          "since_first_don": 70,
          "since_last_don": 23,
          "total_blood": 1500,
          "total_dons": 6
         },
         {
          "Class": 1,
          "since_first_don": 62,
          "since_last_don": 4,
          "total_blood": 1750,
          "total_dons": 7
         },
         {
          "Class": 1,
          "since_first_don": 52,
          "since_last_don": 4,
          "total_blood": 1500,
          "total_dons": 6
         },
         {
          "Class": 2,
          "since_first_don": 28,
          "since_last_don": 4,
          "total_blood": 2500,
          "total_dons": 10
         },
         {
          "Class": 1,
          "since_first_don": 74,
          "since_last_don": 11,
          "total_blood": 1000,
          "total_dons": 4
         },
         {
          "Class": 1,
          "since_first_don": 14,
          "since_last_don": 4,
          "total_blood": 500,
          "total_dons": 2
         },
         {
          "Class": 2,
          "since_first_don": 21,
          "since_last_don": 21,
          "total_blood": 500,
          "total_dons": 2
         },
         {
          "Class": 1,
          "since_first_don": 81,
          "since_last_don": 16,
          "total_blood": 1500,
          "total_dons": 6
         },
         {
          "Class": 1,
          "since_first_don": 28,
          "since_last_don": 11,
          "total_blood": 1000,
          "total_dons": 4
         },
         {
          "Class": 2,
          "since_first_don": 98,
          "since_last_don": 4,
          "total_blood": 8250,
          "total_dons": 33
         },
         {
          "Class": 1,
          "since_first_don": 72,
          "since_last_don": 72,
          "total_blood": 250,
          "total_dons": 1
         },
         {
          "Class": 2,
          "since_first_don": 32,
          "since_last_don": 2,
          "total_blood": 1750,
          "total_dons": 7
         },
         {
          "Class": 1,
          "since_first_don": 19,
          "since_last_don": 16,
          "total_blood": 750,
          "total_dons": 3
         },
         {
          "Class": 1,
          "since_first_don": 15,
          "since_last_don": 11,
          "total_blood": 750,
          "total_dons": 3
         },
         {
          "Class": 2,
          "since_first_don": 16,
          "since_last_don": 2,
          "total_blood": 750,
          "total_dons": 3
         },
         {
          "Class": 1,
          "since_first_don": 4,
          "since_last_don": 4,
          "total_blood": 250,
          "total_dons": 1
         },
         {
          "Class": 1,
          "since_first_don": 26,
          "since_last_don": 2,
          "total_blood": 1000,
          "total_dons": 4
         },
         {
          "Class": 1,
          "since_first_don": 4,
          "since_last_don": 4,
          "total_blood": 250,
          "total_dons": 1
         },
         {
          "Class": 2,
          "since_first_don": 86,
          "since_last_don": 2,
          "total_blood": 10750,
          "total_dons": 43
         },
         {
          "Class": 2,
          "since_first_don": 64,
          "since_last_don": 4,
          "total_blood": 2750,
          "total_dons": 11
         },
         {
          "Class": 2,
          "since_first_don": 23,
          "since_last_don": 4,
          "total_blood": 1500,
          "total_dons": 6
         },
         {
          "Class": 1,
          "since_first_don": 24,
          "since_last_don": 2,
          "total_blood": 750,
          "total_dons": 3
         },
         {
          "Class": 1,
          "since_first_don": 59,
          "since_last_don": 12,
          "total_blood": 3250,
          "total_dons": 13
         },
         {
          "Class": 1,
          "since_first_don": 71,
          "since_last_don": 12,
          "total_blood": 3750,
          "total_dons": 15
         },
         {
          "Class": 1,
          "since_first_don": 58,
          "since_last_don": 11,
          "total_blood": 3000,
          "total_dons": 12
         },
         {
          "Class": 1,
          "since_first_don": 11,
          "since_last_don": 2,
          "total_blood": 1000,
          "total_dons": 4
         },
         {
          "Class": 1,
          "since_first_don": 2,
          "since_last_don": 2,
          "total_blood": 250,
          "total_dons": 1
         },
         {
          "Class": 1,
          "since_first_don": 21,
          "since_last_don": 21,
          "total_blood": 500,
          "total_dons": 2
         },
         {
          "Class": 1,
          "since_first_don": 35,
          "since_last_don": 2,
          "total_blood": 1000,
          "total_dons": 4
         },
         {
          "Class": 2,
          "since_first_don": 25,
          "since_last_don": 4,
          "total_blood": 750,
          "total_dons": 3
         },
         {
          "Class": 1,
          "since_first_don": 16,
          "since_last_don": 10,
          "total_blood": 1000,
          "total_dons": 4
         },
         {
          "Class": 1,
          "since_first_don": 21,
          "since_last_don": 21,
          "total_blood": 250,
          "total_dons": 1
         },
         {
          "Class": 2,
          "since_first_don": 4,
          "since_last_don": 4,
          "total_blood": 500,
          "total_dons": 2
         },
         {
          "Class": 2,
          "since_first_don": 41,
          "since_last_don": 2,
          "total_blood": 1500,
          "total_dons": 6
         },
         {
          "Class": 2,
          "since_first_don": 53,
          "since_last_don": 2,
          "total_blood": 3250,
          "total_dons": 13
         },
         {
          "Class": 1,
          "since_first_don": 40,
          "since_last_don": 4,
          "total_blood": 2250,
          "total_dons": 9
         },
         {
          "Class": 2,
          "since_first_don": 23,
          "since_last_don": 23,
          "total_blood": 250,
          "total_dons": 1
         },
         {
          "Class": 1,
          "since_first_don": 64,
          "since_last_don": 2,
          "total_blood": 3750,
          "total_dons": 15
         },
         {
          "Class": 1,
          "since_first_don": 21,
          "since_last_don": 2,
          "total_blood": 750,
          "total_dons": 3
         },
         {
          "Class": 1,
          "since_first_don": 23,
          "since_last_don": 23,
          "total_blood": 500,
          "total_dons": 2
         },
         {
          "Class": 1,
          "since_first_don": 4,
          "since_last_don": 4,
          "total_blood": 250,
          "total_dons": 1
         },
         {
          "Class": 2,
          "since_first_don": 14,
          "since_last_don": 2,
          "total_blood": 1000,
          "total_dons": 4
         },
         {
          "Class": 1,
          "since_first_don": 11,
          "since_last_don": 2,
          "total_blood": 500,
          "total_dons": 2
         },
         {
          "Class": 1,
          "since_first_don": 28,
          "since_last_don": 11,
          "total_blood": 1500,
          "total_dons": 6
         },
         {
          "Class": 1,
          "since_first_don": 87,
          "since_last_don": 23,
          "total_blood": 1000,
          "total_dons": 4
         },
         {
          "Class": 2,
          "since_first_don": 28,
          "since_last_don": 2,
          "total_blood": 1500,
          "total_dons": 6
         },
         {
          "Class": 2,
          "since_first_don": 49,
          "since_last_don": 9,
          "total_blood": 2750,
          "total_dons": 11
         },
         {
          "Class": 1,
          "since_first_don": 33,
          "since_last_don": 23,
          "total_blood": 750,
          "total_dons": 3
         },
         {
          "Class": 1,
          "since_first_don": 2,
          "since_last_don": 2,
          "total_blood": 250,
          "total_dons": 1
         },
         {
          "Class": 2,
          "since_first_don": 4,
          "since_last_don": 2,
          "total_blood": 500,
          "total_dons": 2
         },
         {
          "Class": 1,
          "since_first_don": 70,
          "since_last_don": 14,
          "total_blood": 4000,
          "total_dons": 16
         },
         {
          "Class": 2,
          "since_first_don": 52,
          "since_last_don": 8,
          "total_blood": 2000,
          "total_dons": 8
         },
         {
          "Class": 2,
          "since_first_don": 34,
          "since_last_don": 4,
          "total_blood": 2000,
          "total_dons": 8
         },
         {
          "Class": 1,
          "since_first_don": 35,
          "since_last_don": 7,
          "total_blood": 1250,
          "total_dons": 5
         },
         {
          "Class": 1,
          "since_first_don": 58,
          "since_last_don": 4,
          "total_blood": 1250,
          "total_dons": 5
         },
         {
          "Class": 1,
          "since_first_don": 11,
          "since_last_don": 11,
          "total_blood": 250,
          "total_dons": 1
         },
         {
          "Class": 2,
          "since_first_don": 76,
          "since_last_don": 2,
          "total_blood": 3250,
          "total_dons": 13
         },
         {
          "Class": 1,
          "since_first_don": 52,
          "since_last_don": 4,
          "total_blood": 1750,
          "total_dons": 7
         },
         {
          "Class": 1,
          "since_first_don": 50,
          "since_last_don": 14,
          "total_blood": 1250,
          "total_dons": 5
         },
         {
          "Class": 1,
          "since_first_don": 50,
          "since_last_don": 14,
          "total_blood": 2000,
          "total_dons": 8
         },
         {
          "Class": 1,
          "since_first_don": 59,
          "since_last_don": 4,
          "total_blood": 500,
          "total_dons": 2
         },
         {
          "Class": 1,
          "since_first_don": 28,
          "since_last_don": 11,
          "total_blood": 750,
          "total_dons": 3
         },
         {
          "Class": 1,
          "since_first_don": 23,
          "since_last_don": 23,
          "total_blood": 250,
          "total_dons": 1
         },
         {
          "Class": 1,
          "since_first_don": 58,
          "since_last_don": 23,
          "total_blood": 1250,
          "total_dons": 5
         },
         {
          "Class": 2,
          "since_first_don": 26,
          "since_last_don": 4,
          "total_blood": 1250,
          "total_dons": 5
         },
         {
          "Class": 2,
          "since_first_don": 98,
          "since_last_don": 2,
          "total_blood": 10250,
          "total_dons": 41
         },
         {
          "Class": 1,
          "since_first_don": 58,
          "since_last_don": 4,
          "total_blood": 1250,
          "total_dons": 5
         },
         {
          "Class": 1,
          "since_first_don": 14,
          "since_last_don": 14,
          "total_blood": 500,
          "total_dons": 2
         },
         {
          "Class": 2,
          "since_first_don": 16,
          "since_last_don": 2,
          "total_blood": 1500,
          "total_dons": 6
         },
         {
          "Class": 1,
          "since_first_don": 76,
          "since_last_don": 11,
          "total_blood": 750,
          "total_dons": 3
         },
         {
          "Class": 2,
          "since_first_don": 16,
          "since_last_don": 4,
          "total_blood": 750,
          "total_dons": 3
         },
         {
          "Class": 1,
          "since_first_don": 70,
          "since_last_don": 11,
          "total_blood": 500,
          "total_dons": 2
         },
         {
          "Class": 1,
          "since_first_don": 11,
          "since_last_don": 11,
          "total_blood": 500,
          "total_dons": 2
         },
         {
          "Class": 2,
          "since_first_don": 38,
          "since_last_don": 4,
          "total_blood": 4000,
          "total_dons": 16
         },
         {
          "Class": 1,
          "since_first_don": 11,
          "since_last_don": 11,
          "total_blood": 500,
          "total_dons": 2
         },
         {
          "Class": 1,
          "since_first_don": 29,
          "since_last_don": 14,
          "total_blood": 500,
          "total_dons": 2
         },
         {
          "Class": 1,
          "since_first_don": 23,
          "since_last_don": 3,
          "total_blood": 500,
          "total_dons": 2
         },
         {
          "Class": 1,
          "since_first_don": 52,
          "since_last_don": 4,
          "total_blood": 500,
          "total_dons": 2
         },
         {
          "Class": 1,
          "since_first_don": 16,
          "since_last_don": 4,
          "total_blood": 750,
          "total_dons": 3
         },
         {
          "Class": 1,
          "since_first_don": 71,
          "since_last_don": 4,
          "total_blood": 750,
          "total_dons": 3
         },
         {
          "Class": 1,
          "since_first_don": 35,
          "since_last_don": 14,
          "total_blood": 750,
          "total_dons": 3
         },
         {
          "Class": 2,
          "since_first_don": 35,
          "since_last_don": 16,
          "total_blood": 1500,
          "total_dons": 6
         },
         {
          "Class": 1,
          "since_first_don": 35,
          "since_last_don": 14,
          "total_blood": 1750,
          "total_dons": 7
         },
         {
          "Class": 2,
          "since_first_don": 28,
          "since_last_don": 4,
          "total_blood": 2250,
          "total_dons": 9
         },
         {
          "Class": 1,
          "since_first_don": 16,
          "since_last_don": 16,
          "total_blood": 250,
          "total_dons": 1
         },
         {
          "Class": 1,
          "since_first_don": 23,
          "since_last_don": 23,
          "total_blood": 250,
          "total_dons": 1
         },
         {
          "Class": 1,
          "since_first_don": 52,
          "since_last_don": 2,
          "total_blood": 2500,
          "total_dons": 10
         },
         {
          "Class": 1,
          "since_first_don": 31,
          "since_last_don": 4,
          "total_blood": 500,
          "total_dons": 2
         },
         {
          "Class": 1,
          "since_first_don": 14,
          "since_last_don": 4,
          "total_blood": 1500,
          "total_dons": 6
         },
         {
          "Class": 2,
          "since_first_don": 16,
          "since_last_don": 4,
          "total_blood": 1250,
          "total_dons": 5
         },
         {
          "Class": 2,
          "since_first_don": 35,
          "since_last_don": 4,
          "total_blood": 1500,
          "total_dons": 6
         },
         {
          "Class": 1,
          "since_first_don": 21,
          "since_last_don": 21,
          "total_blood": 250,
          "total_dons": 1
         },
         {
          "Class": 2,
          "since_first_don": 26,
          "since_last_don": 4,
          "total_blood": 2250,
          "total_dons": 9
         },
         {
          "Class": 1,
          "since_first_don": 76,
          "since_last_don": 16,
          "total_blood": 2000,
          "total_dons": 8
         },
         {
          "Class": 1,
          "since_first_don": 38,
          "since_last_don": 11,
          "total_blood": 1250,
          "total_dons": 5
         },
         {
          "Class": 1,
          "since_first_don": 57,
          "since_last_don": 1,
          "total_blood": 1750,
          "total_dons": 7
         },
         {
          "Class": 2,
          "since_first_don": 11,
          "since_last_don": 2,
          "total_blood": 1250,
          "total_dons": 5
         },
         {
          "Class": 1,
          "since_first_don": 35,
          "since_last_don": 16,
          "total_blood": 1500,
          "total_dons": 6
         },
         {
          "Class": 2,
          "since_first_don": 16,
          "since_last_don": 2,
          "total_blood": 1250,
          "total_dons": 5
         },
         {
          "Class": 1,
          "since_first_don": 11,
          "since_last_don": 11,
          "total_blood": 250,
          "total_dons": 1
         },
         {
          "Class": 1,
          "since_first_don": 2,
          "since_last_don": 2,
          "total_blood": 250,
          "total_dons": 1
         },
         {
          "Class": 1,
          "since_first_don": 48,
          "since_last_don": 11,
          "total_blood": 2000,
          "total_dons": 8
         },
         {
          "Class": 1,
          "since_first_don": 41,
          "since_last_don": 11,
          "total_blood": 1500,
          "total_dons": 6
         },
         {
          "Class": 1,
          "since_first_don": 48,
          "since_last_don": 7,
          "total_blood": 3500,
          "total_dons": 14
         },
         {
          "Class": 1,
          "since_first_don": 4,
          "since_last_don": 4,
          "total_blood": 500,
          "total_dons": 2
         },
         {
          "Class": 1,
          "since_first_don": 98,
          "since_last_don": 14,
          "total_blood": 4000,
          "total_dons": 16
         },
         {
          "Class": 1,
          "since_first_don": 52,
          "since_last_don": 14,
          "total_blood": 750,
          "total_dons": 3
         },
         {
          "Class": 1,
          "since_first_don": 17,
          "since_last_don": 11,
          "total_blood": 500,
          "total_dons": 2
         },
         {
          "Class": 2,
          "since_first_don": 2,
          "since_last_don": 2,
          "total_blood": 250,
          "total_dons": 1
         },
         {
          "Class": 2,
          "since_first_don": 46,
          "since_last_don": 2,
          "total_blood": 1750,
          "total_dons": 7
         },
         {
          "Class": 1,
          "since_first_don": 23,
          "since_last_don": 23,
          "total_blood": 250,
          "total_dons": 1
         },
         {
          "Class": 1,
          "since_first_don": 23,
          "since_last_don": 23,
          "total_blood": 250,
          "total_dons": 1
         },
         {
          "Class": 2,
          "since_first_don": 32,
          "since_last_don": 2,
          "total_blood": 3250,
          "total_dons": 13
         },
         {
          "Class": 1,
          "since_first_don": 89,
          "since_last_don": 7,
          "total_blood": 2750,
          "total_dons": 11
         },
         {
          "Class": 2,
          "since_first_don": 15,
          "since_last_don": 2,
          "total_blood": 1500,
          "total_dons": 6
         },
         {
          "Class": 2,
          "since_first_don": 16,
          "since_last_don": 2,
          "total_blood": 1500,
          "total_dons": 6
         },
         {
          "Class": 1,
          "since_first_don": 57,
          "since_last_don": 14,
          "total_blood": 3250,
          "total_dons": 13
         },
         {
          "Class": 1,
          "since_first_don": 58,
          "since_last_don": 1,
          "total_blood": 3500,
          "total_dons": 14
         },
         {
          "Class": 1,
          "since_first_don": 46,
          "since_last_don": 14,
          "total_blood": 2000,
          "total_dons": 8
         },
         {
          "Class": 2,
          "since_first_don": 98,
          "since_last_don": 2,
          "total_blood": 12500,
          "total_dons": 50
         },
         {
          "Class": 2,
          "since_first_don": 71,
          "since_last_don": 4,
          "total_blood": 4250,
          "total_dons": 17
         },
         {
          "Class": 1,
          "since_first_don": 33,
          "since_last_don": 14,
          "total_blood": 750,
          "total_dons": 3
         },
         {
          "Class": 1,
          "since_first_don": 64,
          "since_last_don": 16,
          "total_blood": 1750,
          "total_dons": 7
         },
         {
          "Class": 2,
          "since_first_don": 34,
          "since_last_don": 4,
          "total_blood": 1000,
          "total_dons": 4
         },
         {
          "Class": 1,
          "since_first_don": 26,
          "since_last_don": 21,
          "total_blood": 750,
          "total_dons": 3
         },
         {
          "Class": 1,
          "since_first_don": 64,
          "since_last_don": 11,
          "total_blood": 6000,
          "total_dons": 24
         },
         {
          "Class": 1,
          "since_first_don": 26,
          "since_last_don": 14,
          "total_blood": 2000,
          "total_dons": 8
         },
         {
          "Class": 2,
          "since_first_don": 41,
          "since_last_don": 2,
          "total_blood": 2750,
          "total_dons": 11
         },
         {
          "Class": 2,
          "since_first_don": 72,
          "since_last_don": 11,
          "total_blood": 2250,
          "total_dons": 9
         },
         {
          "Class": 1,
          "since_first_don": 21,
          "since_last_don": 21,
          "total_blood": 250,
          "total_dons": 1
         },
         {
          "Class": 1,
          "since_first_don": 16,
          "since_last_don": 9,
          "total_blood": 2250,
          "total_dons": 9
         },
         {
          "Class": 1,
          "since_first_don": 23,
          "since_last_don": 23,
          "total_blood": 250,
          "total_dons": 1
         },
         {
          "Class": 1,
          "since_first_don": 45,
          "since_last_don": 9,
          "total_blood": 2250,
          "total_dons": 9
         },
         {
          "Class": 1,
          "since_first_don": 26,
          "since_last_don": 11,
          "total_blood": 1500,
          "total_dons": 6
         },
         {
          "Class": 2,
          "since_first_don": 11,
          "since_last_don": 11,
          "total_blood": 250,
          "total_dons": 1
         },
         {
          "Class": 1,
          "since_first_don": 26,
          "since_last_don": 14,
          "total_blood": 1000,
          "total_dons": 4
         },
         {
          "Class": 1,
          "since_first_don": 11,
          "since_last_don": 2,
          "total_blood": 500,
          "total_dons": 2
         },
         {
          "Class": 1,
          "since_first_don": 14,
          "since_last_don": 14,
          "total_blood": 250,
          "total_dons": 1
         },
         {
          "Class": 1,
          "since_first_don": 16,
          "since_last_don": 11,
          "total_blood": 500,
          "total_dons": 2
         },
         {
          "Class": 1,
          "since_first_don": 16,
          "since_last_don": 16,
          "total_blood": 250,
          "total_dons": 1
         },
         {
          "Class": 1,
          "since_first_don": 40,
          "since_last_don": 21,
          "total_blood": 750,
          "total_dons": 3
         },
         {
          "Class": 1,
          "since_first_don": 58,
          "since_last_don": 4,
          "total_blood": 1250,
          "total_dons": 5
         },
         {
          "Class": 1,
          "since_first_don": 4,
          "since_last_don": 4,
          "total_blood": 250,
          "total_dons": 1
         },
         {
          "Class": 1,
          "since_first_don": 82,
          "since_last_don": 15,
          "total_blood": 4000,
          "total_dons": 16
         },
         {
          "Class": 1,
          "since_first_don": 14,
          "since_last_don": 14,
          "total_blood": 1250,
          "total_dons": 5
         },
         {
          "Class": 1,
          "since_first_don": 23,
          "since_last_don": 16,
          "total_blood": 1000,
          "total_dons": 4
         },
         {
          "Class": 1,
          "since_first_don": 70,
          "since_last_don": 2,
          "total_blood": 1000,
          "total_dons": 4
         },
         {
          "Class": 1,
          "since_first_don": 86,
          "since_last_don": 23,
          "total_blood": 3000,
          "total_dons": 12
         },
         {
          "Class": 1,
          "since_first_don": 14,
          "since_last_don": 14,
          "total_blood": 250,
          "total_dons": 1
         },
         {
          "Class": 1,
          "since_first_don": 26,
          "since_last_don": 14,
          "total_blood": 1250,
          "total_dons": 5
         },
         {
          "Class": 1,
          "since_first_don": 27,
          "since_last_don": 16,
          "total_blood": 1250,
          "total_dons": 5
         },
         {
          "Class": 2,
          "since_first_don": 11,
          "since_last_don": 2,
          "total_blood": 500,
          "total_dons": 2
         },
         {
          "Class": 1,
          "since_first_don": 9,
          "since_last_don": 4,
          "total_blood": 500,
          "total_dons": 2
         },
         {
          "Class": 1,
          "since_first_don": 39,
          "since_last_don": 16,
          "total_blood": 1750,
          "total_dons": 7
         },
         {
          "Class": 1,
          "since_first_don": 70,
          "since_last_don": 6,
          "total_blood": 4250,
          "total_dons": 17
         },
         {
          "Class": 1,
          "since_first_don": 93,
          "since_last_don": 16,
          "total_blood": 1750,
          "total_dons": 7
         },
         {
          "Class": 1,
          "since_first_don": 82,
          "since_last_don": 2,
          "total_blood": 3000,
          "total_dons": 12
         },
         {
          "Class": 1,
          "since_first_don": 26,
          "since_last_don": 14,
          "total_blood": 1750,
          "total_dons": 7
         },
         {
          "Class": 1,
          "since_first_don": 11,
          "since_last_don": 11,
          "total_blood": 250,
          "total_dons": 1
         },
         {
          "Class": 1,
          "since_first_don": 57,
          "since_last_don": 21,
          "total_blood": 3250,
          "total_dons": 13
         },
         {
          "Class": 1,
          "since_first_don": 2,
          "since_last_don": 2,
          "total_blood": 500,
          "total_dons": 2
         },
         {
          "Class": 2,
          "since_first_don": 79,
          "since_last_don": 11,
          "total_blood": 4250,
          "total_dons": 17
         },
         {
          "Class": 1,
          "since_first_don": 14,
          "since_last_don": 14,
          "total_blood": 500,
          "total_dons": 2
         },
         {
          "Class": 1,
          "since_first_don": 74,
          "since_last_don": 74,
          "total_blood": 250,
          "total_dons": 1
         },
         {
          "Class": 1,
          "since_first_don": 22,
          "since_last_don": 2,
          "total_blood": 750,
          "total_dons": 3
         },
         {
          "Class": 1,
          "since_first_don": 58,
          "since_last_don": 4,
          "total_blood": 1750,
          "total_dons": 7
         },
         {
          "Class": 1,
          "since_first_don": 2,
          "since_last_don": 2,
          "total_blood": 250,
          "total_dons": 1
         },
         {
          "Class": 2,
          "since_first_don": 4,
          "since_last_don": 4,
          "total_blood": 250,
          "total_dons": 1
         },
         {
          "Class": 2,
          "since_first_don": 12,
          "since_last_don": 3,
          "total_blood": 1250,
          "total_dons": 5
         },
         {
          "Class": 1,
          "since_first_don": 2,
          "since_last_don": 2,
          "total_blood": 250,
          "total_dons": 1
         },
         {
          "Class": 1,
          "since_first_don": 89,
          "since_last_don": 11,
          "total_blood": 4000,
          "total_dons": 16
         },
         {
          "Class": 1,
          "since_first_don": 33,
          "since_last_don": 15,
          "total_blood": 1250,
          "total_dons": 5
         },
         {
          "Class": 1,
          "since_first_don": 14,
          "since_last_don": 14,
          "total_blood": 500,
          "total_dons": 2
         },
         {
          "Class": 1,
          "since_first_don": 95,
          "since_last_don": 4,
          "total_blood": 2750,
          "total_dons": 11
         },
         {
          "Class": 1,
          "since_first_don": 30,
          "since_last_don": 4,
          "total_blood": 500,
          "total_dons": 2
         },
         {
          "Class": 1,
          "since_first_don": 14,
          "since_last_don": 14,
          "total_blood": 500,
          "total_dons": 2
         },
         {
          "Class": 2,
          "since_first_don": 28,
          "since_last_don": 4,
          "total_blood": 2500,
          "total_dons": 10
         },
         {
          "Class": 1,
          "since_first_don": 83,
          "since_last_don": 16,
          "total_blood": 3500,
          "total_dons": 14
         },
         {
          "Class": 1,
          "since_first_don": 38,
          "since_last_don": 11,
          "total_blood": 2250,
          "total_dons": 9
         },
         {
          "Class": 1,
          "since_first_don": 34,
          "since_last_don": 2,
          "total_blood": 1250,
          "total_dons": 5
         },
         {
          "Class": 1,
          "since_first_don": 35,
          "since_last_don": 11,
          "total_blood": 2500,
          "total_dons": 10
         },
         {
          "Class": 1,
          "since_first_don": 33,
          "since_last_don": 21,
          "total_blood": 500,
          "total_dons": 2
         },
         {
          "Class": 1,
          "since_first_don": 14,
          "since_last_don": 14,
          "total_blood": 250,
          "total_dons": 1
         },
         {
          "Class": 1,
          "since_first_don": 63,
          "since_last_don": 8,
          "total_blood": 2500,
          "total_dons": 10
         },
         {
          "Class": 2,
          "since_first_don": 23,
          "since_last_don": 4,
          "total_blood": 1250,
          "total_dons": 5
         },
         {
          "Class": 1,
          "since_first_don": 28,
          "since_last_don": 4,
          "total_blood": 1750,
          "total_dons": 7
         },
         {
          "Class": 1,
          "since_first_don": 14,
          "since_last_don": 14,
          "total_blood": 250,
          "total_dons": 1
         },
         {
          "Class": 2,
          "since_first_don": 4,
          "since_last_don": 2,
          "total_blood": 750,
          "total_dons": 3
         },
         {
          "Class": 1,
          "since_first_don": 58,
          "since_last_don": 4,
          "total_blood": 1250,
          "total_dons": 5
         },
         {
          "Class": 2,
          "since_first_don": 4,
          "since_last_don": 4,
          "total_blood": 250,
          "total_dons": 1
         },
         {
          "Class": 2,
          "since_first_don": 11,
          "since_last_don": 4,
          "total_blood": 1250,
          "total_dons": 5
         },
         {
          "Class": 1,
          "since_first_don": 34,
          "since_last_don": 4,
          "total_blood": 750,
          "total_dons": 3
         },
         {
          "Class": 1,
          "since_first_don": 4,
          "since_last_don": 4,
          "total_blood": 250,
          "total_dons": 1
         },
         {
          "Class": 1,
          "since_first_don": 33,
          "since_last_don": 11,
          "total_blood": 1250,
          "total_dons": 5
         },
         {
          "Class": 2,
          "since_first_don": 40,
          "since_last_don": 11,
          "total_blood": 750,
          "total_dons": 3
         },
         {
          "Class": 1,
          "since_first_don": 28,
          "since_last_don": 16,
          "total_blood": 2000,
          "total_dons": 8
         },
         {
          "Class": 1,
          "since_first_don": 26,
          "since_last_don": 13,
          "total_blood": 2000,
          "total_dons": 8
         },
         {
          "Class": 1,
          "since_first_don": 21,
          "since_last_don": 21,
          "total_blood": 250,
          "total_dons": 1
         },
         {
          "Class": 1,
          "since_first_don": 86,
          "since_last_don": 4,
          "total_blood": 3500,
          "total_dons": 14
         },
         {
          "Class": 1,
          "since_first_don": 4,
          "since_last_don": 4,
          "total_blood": 250,
          "total_dons": 1
         },
         {
          "Class": 1,
          "since_first_don": 62,
          "since_last_don": 16,
          "total_blood": 2500,
          "total_dons": 10
         },
         {
          "Class": 2,
          "since_first_don": 35,
          "since_last_don": 2,
          "total_blood": 1750,
          "total_dons": 7
         },
         {
          "Class": 1,
          "since_first_don": 4,
          "since_last_don": 4,
          "total_blood": 250,
          "total_dons": 1
         },
         {
          "Class": 1,
          "since_first_don": 52,
          "since_last_don": 4,
          "total_blood": 1750,
          "total_dons": 7
         },
         {
          "Class": 2,
          "since_first_don": 28,
          "since_last_don": 6,
          "total_blood": 5500,
          "total_dons": 22
         },
         {
          "Class": 1,
          "since_first_don": 38,
          "since_last_don": 21,
          "total_blood": 1750,
          "total_dons": 7
         },
         {
          "Class": 1,
          "since_first_don": 75,
          "since_last_don": 5,
          "total_blood": 2750,
          "total_dons": 11
         },
         {
          "Class": 1,
          "since_first_don": 46,
          "since_last_don": 4,
          "total_blood": 1500,
          "total_dons": 6
         },
         {
          "Class": 1,
          "since_first_don": 38,
          "since_last_don": 10,
          "total_blood": 1250,
          "total_dons": 5
         },
         {
          "Class": 2,
          "since_first_don": 70,
          "since_last_don": 4,
          "total_blood": 4000,
          "total_dons": 16
         },
         {
          "Class": 2,
          "since_first_don": 34,
          "since_last_don": 4,
          "total_blood": 3000,
          "total_dons": 12
         },
         {
          "Class": 1,
          "since_first_don": 16,
          "since_last_don": 16,
          "total_blood": 250,
          "total_dons": 1
         },
         {
          "Class": 1,
          "since_first_don": 4,
          "since_last_don": 4,
          "total_blood": 250,
          "total_dons": 1
         },
         {
          "Class": 1,
          "since_first_don": 11,
          "since_last_don": 11,
          "total_blood": 500,
          "total_dons": 2
         },
         {
          "Class": 2,
          "since_first_don": 35,
          "since_last_don": 4,
          "total_blood": 1250,
          "total_dons": 5
         },
         {
          "Class": 1,
          "since_first_don": 2,
          "since_last_don": 2,
          "total_blood": 250,
          "total_dons": 1
         },
         {
          "Class": 1,
          "since_first_don": 16,
          "since_last_don": 16,
          "total_blood": 250,
          "total_dons": 1
         },
         {
          "Class": 1,
          "since_first_don": 16,
          "since_last_don": 2,
          "total_blood": 1000,
          "total_dons": 4
         },
         {
          "Class": 2,
          "since_first_don": 16,
          "since_last_don": 9,
          "total_blood": 500,
          "total_dons": 2
         },
         {
          "Class": 1,
          "since_first_don": 4,
          "since_last_don": 4,
          "total_blood": 250,
          "total_dons": 1
         },
         {
          "Class": 1,
          "since_first_don": 2,
          "since_last_don": 2,
          "total_blood": 250,
          "total_dons": 1
         },
         {
          "Class": 1,
          "since_first_don": 21,
          "since_last_don": 21,
          "total_blood": 250,
          "total_dons": 1
         },
         {
          "Class": 1,
          "since_first_don": 28,
          "since_last_don": 4,
          "total_blood": 2750,
          "total_dons": 11
         },
         {
          "Class": 1,
          "since_first_don": 21,
          "since_last_don": 21,
          "total_blood": 250,
          "total_dons": 1
         },
         {
          "Class": 1,
          "since_first_don": 35,
          "since_last_don": 4,
          "total_blood": 1500,
          "total_dons": 6
         },
         {
          "Class": 1,
          "since_first_don": 64,
          "since_last_don": 14,
          "total_blood": 1250,
          "total_dons": 5
         },
         {
          "Class": 1,
          "since_first_don": 21,
          "since_last_don": 21,
          "total_blood": 250,
          "total_dons": 1
         },
         {
          "Class": 1,
          "since_first_don": 26,
          "since_last_don": 11,
          "total_blood": 500,
          "total_dons": 2
         },
         {
          "Class": 2,
          "since_first_don": 21,
          "since_last_don": 16,
          "total_blood": 750,
          "total_dons": 3
         },
         {
          "Class": 1,
          "since_first_don": 28,
          "since_last_don": 4,
          "total_blood": 2250,
          "total_dons": 9
         },
         {
          "Class": 1,
          "since_first_don": 4,
          "since_last_don": 4,
          "total_blood": 250,
          "total_dons": 1
         },
         {
          "Class": 1,
          "since_first_don": 39,
          "since_last_don": 10,
          "total_blood": 2000,
          "total_dons": 8
         },
         {
          "Class": 1,
          "since_first_don": 4,
          "since_last_don": 4,
          "total_blood": 250,
          "total_dons": 1
         },
         {
          "Class": 1,
          "since_first_don": 14,
          "since_last_don": 2,
          "total_blood": 500,
          "total_dons": 2
         },
         {
          "Class": 2,
          "since_first_don": 28,
          "since_last_don": 14,
          "total_blood": 1250,
          "total_dons": 5
         },
         {
          "Class": 2,
          "since_first_don": 4,
          "since_last_don": 4,
          "total_blood": 250,
          "total_dons": 1
         },
         {
          "Class": 1,
          "since_first_don": 2,
          "since_last_don": 2,
          "total_blood": 250,
          "total_dons": 1
         },
         {
          "Class": 2,
          "since_first_don": 39,
          "since_last_don": 4,
          "total_blood": 3250,
          "total_dons": 13
         },
         {
          "Class": 1,
          "since_first_don": 57,
          "since_last_don": 23,
          "total_blood": 3750,
          "total_dons": 15
         },
         {
          "Class": 1,
          "since_first_don": 11,
          "since_last_don": 11,
          "total_blood": 250,
          "total_dons": 1
         },
         {
          "Class": 1,
          "since_first_don": 69,
          "since_last_don": 23,
          "total_blood": 2000,
          "total_dons": 8
         },
         {
          "Class": 1,
          "since_first_don": 26,
          "since_last_don": 23,
          "total_blood": 500,
          "total_dons": 2
         },
         {
          "Class": 1,
          "since_first_don": 64,
          "since_last_don": 23,
          "total_blood": 2000,
          "total_dons": 8
         },
         {
          "Class": 1,
          "since_first_don": 28,
          "since_last_don": 4,
          "total_blood": 750,
          "total_dons": 3
         },
         {
          "Class": 1,
          "since_first_don": 16,
          "since_last_don": 16,
          "total_blood": 250,
          "total_dons": 1
         },
         {
          "Class": 1,
          "since_first_don": 22,
          "since_last_don": 2,
          "total_blood": 1500,
          "total_dons": 6
         },
         {
          "Class": 1,
          "since_first_don": 28,
          "since_last_don": 23,
          "total_blood": 500,
          "total_dons": 2
         },
         {
          "Class": 1,
          "since_first_don": 71,
          "since_last_don": 16,
          "total_blood": 1250,
          "total_dons": 5
         },
         {
          "Class": 1,
          "since_first_don": 23,
          "since_last_don": 12,
          "total_blood": 2750,
          "total_dons": 11
         },
         {
          "Class": 1,
          "since_first_don": 62,
          "since_last_don": 23,
          "total_blood": 4750,
          "total_dons": 19
         },
         {
          "Class": 1,
          "since_first_don": 60,
          "since_last_don": 16,
          "total_blood": 1250,
          "total_dons": 5
         },
         {
          "Class": 2,
          "since_first_don": 40,
          "since_last_don": 2,
          "total_blood": 2750,
          "total_dons": 11
         },
         {
          "Class": 1,
          "since_first_don": 26,
          "since_last_don": 2,
          "total_blood": 1250,
          "total_dons": 5
         },
         {
          "Class": 1,
          "since_first_don": 38,
          "since_last_don": 21,
          "total_blood": 750,
          "total_dons": 3
         },
         {
          "Class": 1,
          "since_first_don": 23,
          "since_last_don": 23,
          "total_blood": 250,
          "total_dons": 1
         },
         {
          "Class": 1,
          "since_first_don": 21,
          "since_last_don": 11,
          "total_blood": 500,
          "total_dons": 2
         },
         {
          "Class": 1,
          "since_first_don": 87,
          "since_last_don": 16,
          "total_blood": 3750,
          "total_dons": 15
         },
         {
          "Class": 1,
          "since_first_don": 39,
          "since_last_don": 23,
          "total_blood": 750,
          "total_dons": 3
         },
         {
          "Class": 2,
          "since_first_don": 58,
          "since_last_don": 17,
          "total_blood": 1750,
          "total_dons": 7
         },
         {
          "Class": 1,
          "since_first_don": 98,
          "since_last_don": 11,
          "total_blood": 5500,
          "total_dons": 22
         },
         {
          "Class": 2,
          "since_first_don": 62,
          "since_last_don": 11,
          "total_blood": 1750,
          "total_dons": 7
         },
         {
          "Class": 1,
          "since_first_don": 26,
          "since_last_don": 2,
          "total_blood": 1500,
          "total_dons": 6
         },
         {
          "Class": 1,
          "since_first_don": 40,
          "since_last_don": 16,
          "total_blood": 1500,
          "total_dons": 6
         },
         {
          "Class": 2,
          "since_first_don": 14,
          "since_last_don": 2,
          "total_blood": 1750,
          "total_dons": 7
         },
         {
          "Class": 1,
          "since_first_don": 34,
          "since_last_don": 16,
          "total_blood": 750,
          "total_dons": 3
         },
         {
          "Class": 1,
          "since_first_don": 28,
          "since_last_don": 23,
          "total_blood": 500,
          "total_dons": 2
         },
         {
          "Class": 1,
          "since_first_don": 50,
          "since_last_don": 16,
          "total_blood": 750,
          "total_dons": 3
         },
         {
          "Class": 2,
          "since_first_don": 22,
          "since_last_don": 22,
          "total_blood": 250,
          "total_dons": 1
         },
         {
          "Class": 1,
          "since_first_don": 23,
          "since_last_don": 23,
          "total_blood": 250,
          "total_dons": 1
         },
         {
          "Class": 1,
          "since_first_don": 48,
          "since_last_don": 21,
          "total_blood": 1500,
          "total_dons": 6
         },
         {
          "Class": 2,
          "since_first_don": 35,
          "since_last_don": 2,
          "total_blood": 2000,
          "total_dons": 8
         },
         {
          "Class": 1,
          "since_first_don": 21,
          "since_last_don": 21,
          "total_blood": 250,
          "total_dons": 1
         },
         {
          "Class": 1,
          "since_first_don": 35,
          "since_last_don": 21,
          "total_blood": 750,
          "total_dons": 3
         },
         {
          "Class": 1,
          "since_first_don": 49,
          "since_last_don": 2,
          "total_blood": 2500,
          "total_dons": 10
         },
         {
          "Class": 1,
          "since_first_don": 52,
          "since_last_don": 9,
          "total_blood": 500,
          "total_dons": 2
         },
         {
          "Class": 2,
          "since_first_don": 16,
          "since_last_don": 4,
          "total_blood": 1500,
          "total_dons": 6
         },
         {
          "Class": 2,
          "since_first_don": 2,
          "since_last_don": 2,
          "total_blood": 250,
          "total_dons": 1
         },
         {
          "Class": 2,
          "since_first_don": 48,
          "since_last_don": 4,
          "total_blood": 2000,
          "total_dons": 8
         },
         {
          "Class": 1,
          "since_first_don": 23,
          "since_last_don": 23,
          "total_blood": 250,
          "total_dons": 1
         },
         {
          "Class": 2,
          "since_first_don": 43,
          "since_last_don": 1,
          "total_blood": 2500,
          "total_dons": 10
         },
         {
          "Class": 2,
          "since_first_don": 2,
          "since_last_don": 2,
          "total_blood": 250,
          "total_dons": 1
         },
         {
          "Class": 1,
          "since_first_don": 28,
          "since_last_don": 2,
          "total_blood": 2750,
          "total_dons": 11
         },
         {
          "Class": 1,
          "since_first_don": 35,
          "since_last_don": 1,
          "total_blood": 3000,
          "total_dons": 12
         },
         {
          "Class": 1,
          "since_first_don": 11,
          "since_last_don": 11,
          "total_blood": 250,
          "total_dons": 1
         },
         {
          "Class": 2,
          "since_first_don": 57,
          "since_last_don": 2,
          "total_blood": 3500,
          "total_dons": 14
         },
         {
          "Class": 1,
          "since_first_don": 18,
          "since_last_don": 11,
          "total_blood": 1250,
          "total_dons": 5
         },
         {
          "Class": 1,
          "since_first_don": 23,
          "since_last_don": 18,
          "total_blood": 500,
          "total_dons": 2
         },
         {
          "Class": 2,
          "since_first_don": 4,
          "since_last_don": 4,
          "total_blood": 500,
          "total_dons": 2
         },
         {
          "Class": 2,
          "since_first_don": 28,
          "since_last_don": 2,
          "total_blood": 2500,
          "total_dons": 10
         },
         {
          "Class": 1,
          "since_first_don": 14,
          "since_last_don": 14,
          "total_blood": 250,
          "total_dons": 1
         },
         {
          "Class": 1,
          "since_first_don": 95,
          "since_last_don": 18,
          "total_blood": 2000,
          "total_dons": 8
         },
         {
          "Class": 1,
          "since_first_don": 23,
          "since_last_don": 4,
          "total_blood": 500,
          "total_dons": 2
         },
         {
          "Class": 2,
          "since_first_don": 9,
          "since_last_don": 4,
          "total_blood": 500,
          "total_dons": 2
         },
         {
          "Class": 1,
          "since_first_don": 2,
          "since_last_don": 2,
          "total_blood": 250,
          "total_dons": 1
         },
         {
          "Class": 1,
          "since_first_don": 23,
          "since_last_don": 23,
          "total_blood": 250,
          "total_dons": 1
         },
         {
          "Class": 1,
          "since_first_don": 45,
          "since_last_don": 16,
          "total_blood": 1000,
          "total_dons": 4
         },
         {
          "Class": 1,
          "since_first_don": 23,
          "since_last_don": 23,
          "total_blood": 250,
          "total_dons": 1
         },
         {
          "Class": 1,
          "since_first_don": 28,
          "since_last_don": 5,
          "total_blood": 1500,
          "total_dons": 6
         },
         {
          "Class": 1,
          "since_first_don": 61,
          "since_last_don": 4,
          "total_blood": 2750,
          "total_dons": 11
         },
         {
          "Class": 2,
          "since_first_don": 38,
          "since_last_don": 4,
          "total_blood": 2250,
          "total_dons": 9
         },
         {
          "Class": 1,
          "since_first_don": 40,
          "since_last_don": 4,
          "total_blood": 3500,
          "total_dons": 14
         },
         {
          "Class": 1,
          "since_first_don": 4,
          "since_last_don": 4,
          "total_blood": 250,
          "total_dons": 1
         },
         {
          "Class": 2,
          "since_first_don": 2,
          "since_last_don": 2,
          "total_blood": 250,
          "total_dons": 1
         },
         {
          "Class": 1,
          "since_first_don": 16,
          "since_last_don": 2,
          "total_blood": 1000,
          "total_dons": 4
         },
         {
          "Class": 1,
          "since_first_don": 24,
          "since_last_don": 11,
          "total_blood": 500,
          "total_dons": 2
         },
         {
          "Class": 1,
          "since_first_don": 35,
          "since_last_don": 4,
          "total_blood": 1500,
          "total_dons": 6
         },
         {
          "Class": 2,
          "since_first_don": 28,
          "since_last_don": 0,
          "total_blood": 3250,
          "total_dons": 13
         },
         {
          "Class": 1,
          "since_first_don": 77,
          "since_last_don": 2,
          "total_blood": 1750,
          "total_dons": 7
         },
         {
          "Class": 2,
          "since_first_don": 4,
          "since_last_don": 2,
          "total_blood": 750,
          "total_dons": 3
         },
         {
          "Class": 1,
          "since_first_don": 21,
          "since_last_don": 4,
          "total_blood": 2000,
          "total_dons": 8
         },
         {
          "Class": 1,
          "since_first_don": 16,
          "since_last_don": 16,
          "total_blood": 500,
          "total_dons": 2
         },
         {
          "Class": 1,
          "since_first_don": 40,
          "since_last_don": 14,
          "total_blood": 1000,
          "total_dons": 4
         },
         {
          "Class": 1,
          "since_first_don": 79,
          "since_last_don": 5,
          "total_blood": 6000,
          "total_dons": 24
         },
         {
          "Class": 1,
          "since_first_don": 11,
          "since_last_don": 11,
          "total_blood": 250,
          "total_dons": 1
         },
         {
          "Class": 1,
          "since_first_don": 35,
          "since_last_don": 21,
          "total_blood": 750,
          "total_dons": 3
         },
         {
          "Class": 1,
          "since_first_don": 16,
          "since_last_don": 2,
          "total_blood": 1000,
          "total_dons": 4
         },
         {
          "Class": 1,
          "since_first_don": 11,
          "since_last_don": 11,
          "total_blood": 250,
          "total_dons": 1
         },
         {
          "Class": 1,
          "since_first_don": 16,
          "since_last_don": 2,
          "total_blood": 1000,
          "total_dons": 4
         },
         {
          "Class": 2,
          "since_first_don": 40,
          "since_last_don": 16,
          "total_blood": 1250,
          "total_dons": 5
         },
         {
          "Class": 1,
          "since_first_don": 50,
          "since_last_don": 16,
          "total_blood": 3000,
          "total_dons": 12
         },
         {
          "Class": 1,
          "since_first_don": 14,
          "since_last_don": 14,
          "total_blood": 250,
          "total_dons": 1
         },
         {
          "Class": 1,
          "since_first_don": 64,
          "since_last_don": 35,
          "total_blood": 750,
          "total_dons": 3
         },
         {
          "Class": 1,
          "since_first_don": 47,
          "since_last_don": 14,
          "total_blood": 1750,
          "total_dons": 7
         },
         {
          "Class": 1,
          "since_first_don": 11,
          "since_last_don": 11,
          "total_blood": 250,
          "total_dons": 1
         },
         {
          "Class": 1,
          "since_first_don": 52,
          "since_last_don": 2,
          "total_blood": 3000,
          "total_dons": 12
         },
         {
          "Class": 1,
          "since_first_don": 78,
          "since_last_don": 14,
          "total_blood": 4500,
          "total_dons": 18
         },
         {
          "Class": 1,
          "since_first_don": 2,
          "since_last_don": 2,
          "total_blood": 250,
          "total_dons": 1
         },
         {
          "Class": 1,
          "since_first_don": 16,
          "since_last_don": 4,
          "total_blood": 1000,
          "total_dons": 4
         },
         {
          "Class": 1,
          "since_first_don": 25,
          "since_last_don": 21,
          "total_blood": 500,
          "total_dons": 2
         },
         {
          "Class": 1,
          "since_first_don": 41,
          "since_last_don": 21,
          "total_blood": 500,
          "total_dons": 2
         },
         {
          "Class": 1,
          "since_first_don": 39,
          "since_last_don": 12,
          "total_blood": 2750,
          "total_dons": 11
         },
         {
          "Class": 1,
          "since_first_don": 75,
          "since_last_don": 11,
          "total_blood": 1750,
          "total_dons": 7
         },
         {
          "Class": 1,
          "since_first_don": 72,
          "since_last_don": 11,
          "total_blood": 2000,
          "total_dons": 8
         },
         {
          "Class": 1,
          "since_first_don": 26,
          "since_last_don": 6,
          "total_blood": 750,
          "total_dons": 3
         },
         {
          "Class": 1,
          "since_first_don": 37,
          "since_last_don": 11,
          "total_blood": 750,
          "total_dons": 3
         },
         {
          "Class": 1,
          "since_first_don": 11,
          "since_last_don": 11,
          "total_blood": 250,
          "total_dons": 1
         },
         {
          "Class": 1,
          "since_first_don": 26,
          "since_last_don": 2,
          "total_blood": 1250,
          "total_dons": 5
         },
         {
          "Class": 1,
          "since_first_don": 45,
          "since_last_don": 23,
          "total_blood": 1000,
          "total_dons": 4
         },
         {
          "Class": 1,
          "since_first_don": 35,
          "since_last_don": 16,
          "total_blood": 750,
          "total_dons": 3
         },
         {
          "Class": 1,
          "since_first_don": 22,
          "since_last_don": 2,
          "total_blood": 500,
          "total_dons": 2
         },
         {
          "Class": 1,
          "since_first_don": 23,
          "since_last_don": 21,
          "total_blood": 500,
          "total_dons": 2
         },
         {
          "Class": 1,
          "since_first_don": 11,
          "since_last_don": 2,
          "total_blood": 500,
          "total_dons": 2
         },
         {
          "Class": 1,
          "since_first_don": 4,
          "since_last_don": 4,
          "total_blood": 250,
          "total_dons": 1
         },
         {
          "Class": 1,
          "since_first_don": 87,
          "since_last_don": 23,
          "total_blood": 500,
          "total_dons": 2
         },
         {
          "Class": 1,
          "since_first_don": 21,
          "since_last_don": 21,
          "total_blood": 250,
          "total_dons": 1
         },
         {
          "Class": 1,
          "since_first_don": 16,
          "since_last_don": 4,
          "total_blood": 750,
          "total_dons": 3
         },
         {
          "Class": 2,
          "since_first_don": 46,
          "since_last_don": 4,
          "total_blood": 2000,
          "total_dons": 8
         },
         {
          "Class": 1,
          "since_first_don": 78,
          "since_last_don": 4,
          "total_blood": 2750,
          "total_dons": 11
         },
         {
          "Class": 1,
          "since_first_don": 43,
          "since_last_don": 2,
          "total_blood": 1000,
          "total_dons": 4
         },
         {
          "Class": 1,
          "since_first_don": 21,
          "since_last_don": 14,
          "total_blood": 750,
          "total_dons": 3
         },
         {
          "Class": 1,
          "since_first_don": 86,
          "since_last_don": 7,
          "total_blood": 3000,
          "total_dons": 12
         },
         {
          "Class": 1,
          "since_first_don": 14,
          "since_last_don": 2,
          "total_blood": 750,
          "total_dons": 3
         },
         {
          "Class": 1,
          "since_first_don": 14,
          "since_last_don": 14,
          "total_blood": 250,
          "total_dons": 1
         },
         {
          "Class": 1,
          "since_first_don": 64,
          "since_last_don": 11,
          "total_blood": 1750,
          "total_dons": 7
         },
         {
          "Class": 1,
          "since_first_don": 50,
          "since_last_don": 25,
          "total_blood": 1500,
          "total_dons": 6
         },
         {
          "Class": 2,
          "since_first_don": 69,
          "since_last_don": 4,
          "total_blood": 5000,
          "total_dons": 20
         },
         {
          "Class": 1,
          "since_first_don": 41,
          "since_last_don": 14,
          "total_blood": 750,
          "total_dons": 3
         },
         {
          "Class": 1,
          "since_first_don": 2,
          "since_last_don": 2,
          "total_blood": 250,
          "total_dons": 1
         },
         {
          "Class": 2,
          "since_first_don": 42,
          "since_last_don": 3,
          "total_blood": 5250,
          "total_dons": 21
         },
         {
          "Class": 1,
          "since_first_don": 38,
          "since_last_don": 16,
          "total_blood": 1750,
          "total_dons": 7
         },
         {
          "Class": 1,
          "since_first_don": 21,
          "since_last_don": 16,
          "total_blood": 750,
          "total_dons": 3
         },
         {
          "Class": 1,
          "since_first_don": 2,
          "since_last_don": 2,
          "total_blood": 250,
          "total_dons": 1
         },
         {
          "Class": 1,
          "since_first_don": 98,
          "since_last_don": 2,
          "total_blood": 3000,
          "total_dons": 12
         },
         {
          "Class": 1,
          "since_first_don": 23,
          "since_last_don": 21,
          "total_blood": 500,
          "total_dons": 2
         },
         {
          "Class": 1,
          "since_first_don": 4,
          "since_last_don": 4,
          "total_blood": 250,
          "total_dons": 1
         },
         {
          "Class": 2,
          "since_first_don": 4,
          "since_last_don": 4,
          "total_blood": 250,
          "total_dons": 1
         },
         {
          "Class": 1,
          "since_first_don": 21,
          "since_last_don": 21,
          "total_blood": 250,
          "total_dons": 1
         },
         {
          "Class": 2,
          "since_first_don": 28,
          "since_last_don": 4,
          "total_blood": 2500,
          "total_dons": 10
         },
         {
          "Class": 1,
          "since_first_don": 33,
          "since_last_don": 2,
          "total_blood": 500,
          "total_dons": 2
         },
         {
          "Class": 1,
          "since_first_don": 41,
          "since_last_don": 4,
          "total_blood": 500,
          "total_dons": 2
         },
         {
          "Class": 2,
          "since_first_don": 11,
          "since_last_don": 2,
          "total_blood": 500,
          "total_dons": 2
         },
         {
          "Class": 1,
          "since_first_don": 37,
          "since_last_don": 2,
          "total_blood": 1250,
          "total_dons": 5
         },
         {
          "Class": 1,
          "since_first_don": 23,
          "since_last_don": 2,
          "total_blood": 1000,
          "total_dons": 4
         },
         {
          "Class": 1,
          "since_first_don": 16,
          "since_last_don": 13,
          "total_blood": 750,
          "total_dons": 3
         },
         {
          "Class": 1,
          "since_first_don": 52,
          "since_last_don": 4,
          "total_blood": 2250,
          "total_dons": 9
         },
         {
          "Class": 1,
          "since_first_don": 16,
          "since_last_don": 16,
          "total_blood": 250,
          "total_dons": 1
         },
         {
          "Class": 1,
          "since_first_don": 23,
          "since_last_don": 11,
          "total_blood": 750,
          "total_dons": 3
         },
         {
          "Class": 1,
          "since_first_don": 26,
          "since_last_don": 14,
          "total_blood": 750,
          "total_dons": 3
         },
         {
          "Class": 1,
          "since_first_don": 35,
          "since_last_don": 11,
          "total_blood": 1250,
          "total_dons": 5
         },
         {
          "Class": 1,
          "since_first_don": 16,
          "since_last_don": 16,
          "total_blood": 250,
          "total_dons": 1
         },
         {
          "Class": 1,
          "since_first_don": 58,
          "since_last_don": 4,
          "total_blood": 5750,
          "total_dons": 23
         },
         {
          "Class": 1,
          "since_first_don": 26,
          "since_last_don": 21,
          "total_blood": 500,
          "total_dons": 2
         },
         {
          "Class": 2,
          "since_first_don": 28,
          "since_last_don": 2,
          "total_blood": 1500,
          "total_dons": 6
         },
         {
          "Class": 1,
          "since_first_don": 75,
          "since_last_don": 2,
          "total_blood": 1500,
          "total_dons": 6
         },
         {
          "Class": 1,
          "since_first_don": 76,
          "since_last_don": 2,
          "total_blood": 1750,
          "total_dons": 7
         },
         {
          "Class": 1,
          "since_first_don": 61,
          "since_last_don": 11,
          "total_blood": 1000,
          "total_dons": 4
         },
         {
          "Class": 1,
          "since_first_don": 51,
          "since_last_don": 1,
          "total_blood": 2250,
          "total_dons": 9
         },
         {
          "Class": 1,
          "since_first_don": 14,
          "since_last_don": 2,
          "total_blood": 500,
          "total_dons": 2
         },
         {
          "Class": 1,
          "since_first_don": 75,
          "since_last_don": 2,
          "total_blood": 2250,
          "total_dons": 9
         },
         {
          "Class": 1,
          "since_first_don": 23,
          "since_last_don": 4,
          "total_blood": 1250,
          "total_dons": 5
         },
         {
          "Class": 1,
          "since_first_don": 16,
          "since_last_don": 14,
          "total_blood": 500,
          "total_dons": 2
         },
         {
          "Class": 1,
          "since_first_don": 60,
          "since_last_don": 12,
          "total_blood": 2250,
          "total_dons": 9
         },
         {
          "Class": 2,
          "since_first_don": 87,
          "since_last_don": 16,
          "total_blood": 1750,
          "total_dons": 7
         },
         {
          "Class": 2,
          "since_first_don": 77,
          "since_last_don": 2,
          "total_blood": 8500,
          "total_dons": 34
         },
         {
          "Class": 1,
          "since_first_don": 98,
          "since_last_don": 23,
          "total_blood": 9500,
          "total_dons": 38
         },
         {
          "Class": 1,
          "since_first_don": 45,
          "since_last_don": 14,
          "total_blood": 1750,
          "total_dons": 7
         },
         {
          "Class": 1,
          "since_first_don": 23,
          "since_last_don": 2,
          "total_blood": 2750,
          "total_dons": 11
         },
         {
          "Class": 1,
          "since_first_don": 76,
          "since_last_don": 11,
          "total_blood": 750,
          "total_dons": 3
         },
         {
          "Class": 2,
          "since_first_don": 22,
          "since_last_don": 14,
          "total_blood": 1000,
          "total_dons": 4
         },
         {
          "Class": 1,
          "since_first_don": 16,
          "since_last_don": 16,
          "total_blood": 250,
          "total_dons": 1
         },
         {
          "Class": 1,
          "since_first_don": 26,
          "since_last_don": 4,
          "total_blood": 1000,
          "total_dons": 4
         },
         {
          "Class": 1,
          "since_first_don": 52,
          "since_last_don": 11,
          "total_blood": 500,
          "total_dons": 2
         },
         {
          "Class": 1,
          "since_first_don": 2,
          "since_last_don": 2,
          "total_blood": 250,
          "total_dons": 1
         },
         {
          "Class": 1,
          "since_first_don": 21,
          "since_last_don": 21,
          "total_blood": 250,
          "total_dons": 1
         },
         {
          "Class": 1,
          "since_first_don": 4,
          "since_last_don": 4,
          "total_blood": 500,
          "total_dons": 2
         },
         {
          "Class": 1,
          "since_first_don": 16,
          "since_last_don": 16,
          "total_blood": 250,
          "total_dons": 1
         },
         {
          "Class": 2,
          "since_first_don": 11,
          "since_last_don": 2,
          "total_blood": 500,
          "total_dons": 2
         },
         {
          "Class": 1,
          "since_first_don": 79,
          "since_last_don": 14,
          "total_blood": 750,
          "total_dons": 3
         },
         {
          "Class": 1,
          "since_first_don": 98,
          "since_last_don": 2,
          "total_blood": 11000,
          "total_dons": 44
         },
         {
          "Class": 2,
          "since_first_don": 49,
          "since_last_don": 26,
          "total_blood": 1250,
          "total_dons": 5
         },
         {
          "Class": 1,
          "since_first_don": 23,
          "since_last_don": 16,
          "total_blood": 750,
          "total_dons": 3
         },
         {
          "Class": 1,
          "since_first_don": 30,
          "since_last_don": 4,
          "total_blood": 1500,
          "total_dons": 6
         },
         {
          "Class": 1,
          "since_first_don": 28,
          "since_last_don": 4,
          "total_blood": 1250,
          "total_dons": 5
         },
         {
          "Class": 1,
          "since_first_don": 28,
          "since_last_don": 14,
          "total_blood": 750,
          "total_dons": 3
         },
         {
          "Class": 2,
          "since_first_don": 98,
          "since_last_don": 4,
          "total_blood": 4000,
          "total_dons": 16
         },
         {
          "Class": 1,
          "since_first_don": 47,
          "since_last_don": 4,
          "total_blood": 1500,
          "total_dons": 6
         },
         {
          "Class": 2,
          "since_first_don": 4,
          "since_last_don": 4,
          "total_blood": 250,
          "total_dons": 1
         },
         {
          "Class": 1,
          "since_first_don": 54,
          "since_last_don": 9,
          "total_blood": 2250,
          "total_dons": 9
         },
         {
          "Class": 1,
          "since_first_don": 88,
          "since_last_don": 23,
          "total_blood": 1750,
          "total_dons": 7
         },
         {
          "Class": 1,
          "since_first_don": 11,
          "since_last_don": 11,
          "total_blood": 250,
          "total_dons": 1
         },
         {
          "Class": 1,
          "since_first_don": 23,
          "since_last_don": 23,
          "total_blood": 250,
          "total_dons": 1
         },
         {
          "Class": 2,
          "since_first_don": 38,
          "since_last_don": 4,
          "total_blood": 1500,
          "total_dons": 6
         },
         {
          "Class": 1,
          "since_first_don": 40,
          "since_last_don": 23,
          "total_blood": 750,
          "total_dons": 3
         },
         {
          "Class": 1,
          "since_first_don": 46,
          "since_last_don": 16,
          "total_blood": 750,
          "total_dons": 3
         },
         {
          "Class": 1,
          "since_first_don": 4,
          "since_last_don": 4,
          "total_blood": 250,
          "total_dons": 1
         },
         {
          "Class": 1,
          "since_first_don": 37,
          "since_last_don": 11,
          "total_blood": 1750,
          "total_dons": 7
         },
         {
          "Class": 1,
          "since_first_don": 28,
          "since_last_don": 23,
          "total_blood": 750,
          "total_dons": 3
         },
         {
          "Class": 1,
          "since_first_don": 45,
          "since_last_don": 23,
          "total_blood": 1500,
          "total_dons": 6
         },
         {
          "Class": 1,
          "since_first_don": 38,
          "since_last_don": 38,
          "total_blood": 250,
          "total_dons": 1
         },
         {
          "Class": 1,
          "since_first_don": 70,
          "since_last_don": 16,
          "total_blood": 500,
          "total_dons": 2
         },
         {
          "Class": 1,
          "since_first_don": 21,
          "since_last_don": 21,
          "total_blood": 250,
          "total_dons": 1
         },
         {
          "Class": 2,
          "since_first_don": 16,
          "since_last_don": 2,
          "total_blood": 1000,
          "total_dons": 4
         },
         {
          "Class": 2,
          "since_first_don": 28,
          "since_last_don": 4,
          "total_blood": 1500,
          "total_dons": 6
         },
         {
          "Class": 1,
          "since_first_don": 26,
          "since_last_don": 14,
          "total_blood": 1000,
          "total_dons": 4
         },
         {
          "Class": 1,
          "since_first_don": 26,
          "since_last_don": 11,
          "total_blood": 750,
          "total_dons": 3
         },
         {
          "Class": 1,
          "since_first_don": 74,
          "since_last_don": 3,
          "total_blood": 4000,
          "total_dons": 16
         },
         {
          "Class": 1,
          "since_first_don": 76,
          "since_last_don": 13,
          "total_blood": 1750,
          "total_dons": 7
         },
         {
          "Class": 1,
          "since_first_don": 16,
          "since_last_don": 2,
          "total_blood": 500,
          "total_dons": 2
         },
         {
          "Class": 2,
          "since_first_don": 22,
          "since_last_don": 2,
          "total_blood": 2250,
          "total_dons": 9
         },
         {
          "Class": 1,
          "since_first_don": 4,
          "since_last_don": 2,
          "total_blood": 500,
          "total_dons": 2
         },
         {
          "Class": 2,
          "since_first_don": 14,
          "since_last_don": 14,
          "total_blood": 500,
          "total_dons": 2
         },
         {
          "Class": 1,
          "since_first_don": 81,
          "since_last_don": 2,
          "total_blood": 4000,
          "total_dons": 16
         },
         {
          "Class": 1,
          "since_first_don": 41,
          "since_last_don": 23,
          "total_blood": 750,
          "total_dons": 3
         },
         {
          "Class": 1,
          "since_first_don": 57,
          "since_last_don": 14,
          "total_blood": 1000,
          "total_dons": 4
         },
         {
          "Class": 1,
          "since_first_don": 14,
          "since_last_don": 14,
          "total_blood": 250,
          "total_dons": 1
         },
         {
          "Class": 1,
          "since_first_don": 23,
          "since_last_don": 23,
          "total_blood": 250,
          "total_dons": 1
         },
         {
          "Class": 1,
          "since_first_don": 38,
          "since_last_don": 38,
          "total_blood": 250,
          "total_dons": 1
         },
         {
          "Class": 1,
          "since_first_don": 35,
          "since_last_don": 21,
          "total_blood": 750,
          "total_dons": 3
         },
         {
          "Class": 1,
          "since_first_don": 41,
          "since_last_don": 11,
          "total_blood": 1250,
          "total_dons": 5
         },
         {
          "Class": 1,
          "since_first_don": 71,
          "since_last_don": 11,
          "total_blood": 1500,
          "total_dons": 6
         },
         {
          "Class": 1,
          "since_first_don": 16,
          "since_last_don": 16,
          "total_blood": 250,
          "total_dons": 1
         },
         {
          "Class": 1,
          "since_first_don": 86,
          "since_last_don": 5,
          "total_blood": 3500,
          "total_dons": 14
         },
         {
          "Class": 1,
          "since_first_don": 4,
          "since_last_don": 4,
          "total_blood": 500,
          "total_dons": 2
         },
         {
          "Class": 2,
          "since_first_don": 50,
          "since_last_don": 14,
          "total_blood": 2000,
          "total_dons": 8
         },
         {
          "Class": 2,
          "since_first_don": 51,
          "since_last_don": 9,
          "total_blood": 1250,
          "total_dons": 5
         },
         {
          "Class": 1,
          "since_first_don": 29,
          "since_last_don": 2,
          "total_blood": 1750,
          "total_dons": 7
         },
         {
          "Class": 1,
          "since_first_don": 86,
          "since_last_don": 21,
          "total_blood": 1500,
          "total_dons": 6
         },
         {
          "Class": 1,
          "since_first_don": 72,
          "since_last_don": 14,
          "total_blood": 1750,
          "total_dons": 7
         },
         {
          "Class": 1,
          "since_first_don": 26,
          "since_last_don": 16,
          "total_blood": 500,
          "total_dons": 2
         },
         {
          "Class": 1,
          "since_first_don": 64,
          "since_last_don": 14,
          "total_blood": 1000,
          "total_dons": 4
         },
         {
          "Class": 1,
          "since_first_don": 14,
          "since_last_don": 14,
          "total_blood": 500,
          "total_dons": 2
         },
         {
          "Class": 1,
          "since_first_don": 21,
          "since_last_don": 21,
          "total_blood": 250,
          "total_dons": 1
         },
         {
          "Class": 1,
          "since_first_don": 28,
          "since_last_don": 14,
          "total_blood": 1250,
          "total_dons": 5
         },
         {
          "Class": 1,
          "since_first_don": 29,
          "since_last_don": 4,
          "total_blood": 500,
          "total_dons": 2
         },
         {
          "Class": 1,
          "since_first_don": 14,
          "since_last_don": 14,
          "total_blood": 250,
          "total_dons": 1
         },
         {
          "Class": 1,
          "since_first_don": 36,
          "since_last_don": 2,
          "total_blood": 2250,
          "total_dons": 9
         },
         {
          "Class": 1,
          "since_first_don": 4,
          "since_last_don": 4,
          "total_blood": 500,
          "total_dons": 2
         },
         {
          "Class": 1,
          "since_first_don": 64,
          "since_last_don": 2,
          "total_blood": 2500,
          "total_dons": 10
         },
         {
          "Class": 1,
          "since_first_don": 51,
          "since_last_don": 14,
          "total_blood": 1500,
          "total_dons": 6
         },
         {
          "Class": 2,
          "since_first_don": 48,
          "since_last_don": 2,
          "total_blood": 3500,
          "total_dons": 14
         },
         {
          "Class": 1,
          "since_first_don": 89,
          "since_last_don": 23,
          "total_blood": 750,
          "total_dons": 3
         },
         {
          "Class": 1,
          "since_first_don": 42,
          "since_last_don": 11,
          "total_blood": 2750,
          "total_dons": 11
         },
         {
          "Class": 1,
          "since_first_don": 23,
          "since_last_don": 23,
          "total_blood": 500,
          "total_dons": 2
         },
         {
          "Class": 1,
          "since_first_don": 63,
          "since_last_don": 2,
          "total_blood": 1250,
          "total_dons": 5
         },
         {
          "Class": 1,
          "since_first_don": 33,
          "since_last_don": 23,
          "total_blood": 1250,
          "total_dons": 5
         },
         {
          "Class": 2,
          "since_first_don": 4,
          "since_last_don": 2,
          "total_blood": 500,
          "total_dons": 2
         },
         {
          "Class": 1,
          "since_first_don": 93,
          "since_last_don": 23,
          "total_blood": 3500,
          "total_dons": 14
         },
         {
          "Class": 1,
          "since_first_don": 74,
          "since_last_don": 2,
          "total_blood": 2250,
          "total_dons": 9
         },
         {
          "Class": 1,
          "since_first_don": 29,
          "since_last_don": 11,
          "total_blood": 1750,
          "total_dons": 7
         },
         {
          "Class": 1,
          "since_first_don": 52,
          "since_last_don": 21,
          "total_blood": 1000,
          "total_dons": 4
         },
         {
          "Class": 2,
          "since_first_don": 15,
          "since_last_don": 2,
          "total_blood": 1500,
          "total_dons": 6
         },
         {
          "Class": 1,
          "since_first_don": 4,
          "since_last_don": 4,
          "total_blood": 500,
          "total_dons": 2
         },
         {
          "Class": 2,
          "since_first_don": 43,
          "since_last_don": 4,
          "total_blood": 1000,
          "total_dons": 4
         },
         {
          "Class": 1,
          "since_first_don": 23,
          "since_last_don": 2,
          "total_blood": 500,
          "total_dons": 2
         },
         {
          "Class": 2,
          "since_first_don": 4,
          "since_last_don": 4,
          "total_blood": 250,
          "total_dons": 1
         },
         {
          "Class": 1,
          "since_first_don": 58,
          "since_last_don": 12,
          "total_blood": 3000,
          "total_dons": 12
         },
         {
          "Class": 2,
          "since_first_don": 45,
          "since_last_don": 2,
          "total_blood": 5000,
          "total_dons": 20
         },
         {
          "Class": 1,
          "since_first_don": 28,
          "since_last_don": 16,
          "total_blood": 1000,
          "total_dons": 4
         },
         {
          "Class": 1,
          "since_first_don": 64,
          "since_last_don": 21,
          "total_blood": 750,
          "total_dons": 3
         },
         {
          "Class": 1,
          "since_first_don": 4,
          "since_last_don": 4,
          "total_blood": 250,
          "total_dons": 1
         },
         {
          "Class": 1,
          "since_first_don": 83,
          "since_last_don": 14,
          "total_blood": 750,
          "total_dons": 3
         },
         {
          "Class": 1,
          "since_first_don": 16,
          "since_last_don": 16,
          "total_blood": 500,
          "total_dons": 2
         },
         {
          "Class": 1,
          "since_first_don": 11,
          "since_last_don": 2,
          "total_blood": 500,
          "total_dons": 2
         },
         {
          "Class": 1,
          "since_first_don": 4,
          "since_last_don": 0,
          "total_blood": 500,
          "total_dons": 2
         },
         {
          "Class": 1,
          "since_first_don": 14,
          "since_last_don": 4,
          "total_blood": 1500,
          "total_dons": 6
         },
         {
          "Class": 1,
          "since_first_don": 58,
          "since_last_don": 11,
          "total_blood": 1500,
          "total_dons": 6
         },
         {
          "Class": 2,
          "since_first_don": 26,
          "since_last_don": 4,
          "total_blood": 2000,
          "total_dons": 8
         },
         {
          "Class": 1,
          "since_first_don": 34,
          "since_last_don": 14,
          "total_blood": 1500,
          "total_dons": 6
         },
         {
          "Class": 2,
          "since_first_don": 46,
          "since_last_don": 2,
          "total_blood": 2750,
          "total_dons": 11
         },
         {
          "Class": 1,
          "since_first_don": 35,
          "since_last_don": 3,
          "total_blood": 3500,
          "total_dons": 14
         },
         {
          "Class": 1,
          "since_first_don": 60,
          "since_last_don": 21,
          "total_blood": 1250,
          "total_dons": 5
         },
         {
          "Class": 2,
          "since_first_don": 16,
          "since_last_don": 4,
          "total_blood": 1250,
          "total_dons": 5
         },
         {
          "Class": 2,
          "since_first_don": 37,
          "since_last_don": 11,
          "total_blood": 1250,
          "total_dons": 5
         },
         {
          "Class": 1,
          "since_first_don": 35,
          "since_last_don": 14,
          "total_blood": 500,
          "total_dons": 2
         },
         {
          "Class": 2,
          "since_first_don": 26,
          "since_last_don": 2,
          "total_blood": 1500,
          "total_dons": 6
         },
         {
          "Class": 1,
          "since_first_don": 26,
          "since_last_don": 14,
          "total_blood": 750,
          "total_dons": 3
         },
         {
          "Class": 1,
          "since_first_don": 34,
          "since_last_don": 4,
          "total_blood": 1250,
          "total_dons": 5
         },
         {
          "Class": 1,
          "since_first_don": 18,
          "since_last_don": 4,
          "total_blood": 1000,
          "total_dons": 4
         },
         {
          "Class": 2,
          "since_first_don": 10,
          "since_last_don": 2,
          "total_blood": 500,
          "total_dons": 2
         },
         {
          "Class": 1,
          "since_first_don": 64,
          "since_last_don": 21,
          "total_blood": 4000,
          "total_dons": 16
         },
         {
          "Class": 1,
          "since_first_don": 11,
          "since_last_don": 9,
          "total_blood": 500,
          "total_dons": 2
         },
         {
          "Class": 1,
          "since_first_don": 35,
          "since_last_don": 2,
          "total_blood": 750,
          "total_dons": 3
         },
         {
          "Class": 1,
          "since_first_don": 58,
          "since_last_don": 11,
          "total_blood": 1000,
          "total_dons": 4
         },
         {
          "Class": 1,
          "since_first_don": 2,
          "since_last_don": 2,
          "total_blood": 250,
          "total_dons": 1
         },
         {
          "Class": 1,
          "since_first_don": 31,
          "since_last_don": 14,
          "total_blood": 750,
          "total_dons": 3
         },
         {
          "Class": 1,
          "since_first_don": 39,
          "since_last_don": 39,
          "total_blood": 250,
          "total_dons": 1
         },
         {
          "Class": 1,
          "since_first_don": 2,
          "since_last_don": 2,
          "total_blood": 250,
          "total_dons": 1
         },
         {
          "Class": 2,
          "since_first_don": 38,
          "since_last_don": 11,
          "total_blood": 500,
          "total_dons": 2
         },
         {
          "Class": 1,
          "since_first_don": 2,
          "since_last_don": 2,
          "total_blood": 250,
          "total_dons": 1
         },
         {
          "Class": 1,
          "since_first_don": 16,
          "since_last_don": 16,
          "total_blood": 250,
          "total_dons": 1
         },
         {
          "Class": 1,
          "since_first_don": 28,
          "since_last_don": 16,
          "total_blood": 1750,
          "total_dons": 7
         },
         {
          "Class": 1,
          "since_first_don": 23,
          "since_last_don": 23,
          "total_blood": 250,
          "total_dons": 1
         },
         {
          "Class": 1,
          "since_first_don": 14,
          "since_last_don": 6,
          "total_blood": 750,
          "total_dons": 3
         },
         {
          "Class": 1,
          "since_first_don": 40,
          "since_last_don": 16,
          "total_blood": 1000,
          "total_dons": 4
         },
         {
          "Class": 1,
          "since_first_don": 16,
          "since_last_don": 16,
          "total_blood": 250,
          "total_dons": 1
         },
         {
          "Class": 2,
          "since_first_don": 29,
          "since_last_don": 3,
          "total_blood": 1000,
          "total_dons": 4
         },
         {
          "Class": 1,
          "since_first_don": 52,
          "since_last_don": 23,
          "total_blood": 1000,
          "total_dons": 4
         },
         {
          "Class": 2,
          "since_first_don": 69,
          "since_last_don": 20,
          "total_blood": 3500,
          "total_dons": 14
         },
         {
          "Class": 1,
          "since_first_don": 2,
          "since_last_don": 2,
          "total_blood": 250,
          "total_dons": 1
         },
         {
          "Class": 2,
          "since_first_don": 23,
          "since_last_don": 14,
          "total_blood": 1000,
          "total_dons": 4
         },
         {
          "Class": 1,
          "since_first_don": 16,
          "since_last_don": 16,
          "total_blood": 250,
          "total_dons": 1
         },
         {
          "Class": 1,
          "since_first_don": 64,
          "since_last_don": 8,
          "total_blood": 2250,
          "total_dons": 9
         },
         {
          "Class": 1,
          "since_first_don": 4,
          "since_last_don": 4,
          "total_blood": 250,
          "total_dons": 1
         },
         {
          "Class": 1,
          "since_first_don": 26,
          "since_last_don": 9,
          "total_blood": 500,
          "total_dons": 2
         },
         {
          "Class": 2,
          "since_first_don": 26,
          "since_last_don": 4,
          "total_blood": 1000,
          "total_dons": 4
         },
         {
          "Class": 1,
          "since_first_don": 14,
          "since_last_don": 14,
          "total_blood": 250,
          "total_dons": 1
         },
         {
          "Class": 2,
          "since_first_don": 26,
          "since_last_don": 5,
          "total_blood": 1750,
          "total_dons": 7
         },
         {
          "Class": 1,
          "since_first_don": 19,
          "since_last_don": 2,
          "total_blood": 750,
          "total_dons": 3
         },
         {
          "Class": 2,
          "since_first_don": 16,
          "since_last_don": 11,
          "total_blood": 1000,
          "total_dons": 4
         },
         {
          "Class": 2,
          "since_first_don": 76,
          "since_last_don": 0,
          "total_blood": 6500,
          "total_dons": 26
         },
         {
          "Class": 1,
          "since_first_don": 50,
          "since_last_don": 3,
          "total_blood": 2000,
          "total_dons": 8
         },
         {
          "Class": 2,
          "since_first_don": 3,
          "since_last_don": 3,
          "total_blood": 250,
          "total_dons": 1
         },
         {
          "Class": 1,
          "since_first_don": 52,
          "since_last_don": 21,
          "total_blood": 500,
          "total_dons": 2
         },
         {
          "Class": 2,
          "since_first_don": 22,
          "since_last_don": 4,
          "total_blood": 1750,
          "total_dons": 7
         },
         {
          "Class": 1,
          "since_first_don": 30,
          "since_last_don": 14,
          "total_blood": 1000,
          "total_dons": 4
         },
         {
          "Class": 2,
          "since_first_don": 35,
          "since_last_don": 1,
          "total_blood": 4000,
          "total_dons": 16
         },
         {
          "Class": 1,
          "since_first_don": 38,
          "since_last_don": 21,
          "total_blood": 750,
          "total_dons": 3
         },
         {
          "Class": 1,
          "since_first_don": 25,
          "since_last_don": 4,
          "total_blood": 1750,
          "total_dons": 7
         },
         {
          "Class": 1,
          "since_first_don": 27,
          "since_last_don": 11,
          "total_blood": 1500,
          "total_dons": 6
         },
         {
          "Class": 1,
          "since_first_don": 4,
          "since_last_don": 4,
          "total_blood": 250,
          "total_dons": 1
         },
         {
          "Class": 1,
          "since_first_don": 23,
          "since_last_don": 21,
          "total_blood": 500,
          "total_dons": 2
         },
         {
          "Class": 2,
          "since_first_don": 16,
          "since_last_don": 11,
          "total_blood": 750,
          "total_dons": 3
         },
         {
          "Class": 1,
          "since_first_don": 34,
          "since_last_don": 9,
          "total_blood": 750,
          "total_dons": 3
         },
         {
          "Class": 1,
          "since_first_don": 16,
          "since_last_don": 16,
          "total_blood": 250,
          "total_dons": 1
         },
         {
          "Class": 1,
          "since_first_don": 46,
          "since_last_don": 4,
          "total_blood": 2250,
          "total_dons": 9
         },
         {
          "Class": 2,
          "since_first_don": 4,
          "since_last_don": 4,
          "total_blood": 250,
          "total_dons": 1
         },
         {
          "Class": 1,
          "since_first_don": 95,
          "since_last_don": 1,
          "total_blood": 3500,
          "total_dons": 14
         },
         {
          "Class": 1,
          "since_first_don": 4,
          "since_last_don": 2,
          "total_blood": 500,
          "total_dons": 2
         },
         {
          "Class": 1,
          "since_first_don": 2,
          "since_last_don": 2,
          "total_blood": 500,
          "total_dons": 2
         },
         {
          "Class": 1,
          "since_first_don": 27,
          "since_last_don": 11,
          "total_blood": 1000,
          "total_dons": 4
         },
         {
          "Class": 2,
          "since_first_don": 40,
          "since_last_don": 4,
          "total_blood": 2000,
          "total_dons": 8
         },
         {
          "Class": 1,
          "since_first_don": 86,
          "since_last_don": 3,
          "total_blood": 4250,
          "total_dons": 17
         },
         {
          "Class": 1,
          "since_first_don": 4,
          "since_last_don": 4,
          "total_blood": 250,
          "total_dons": 1
         },
         {
          "Class": 1,
          "since_first_don": 45,
          "since_last_don": 2,
          "total_blood": 1500,
          "total_dons": 6
         },
         {
          "Class": 2,
          "since_first_don": 33,
          "since_last_don": 2,
          "total_blood": 1250,
          "total_dons": 5
         },
         {
          "Class": 1,
          "since_first_don": 59,
          "since_last_don": 0,
          "total_blood": 2000,
          "total_dons": 8
         },
         {
          "Class": 1,
          "since_first_don": 38,
          "since_last_don": 3,
          "total_blood": 1250,
          "total_dons": 5
         },
         {
          "Class": 2,
          "since_first_don": 49,
          "since_last_don": 2,
          "total_blood": 3750,
          "total_dons": 15
         },
         {
          "Class": 1,
          "since_first_don": 86,
          "since_last_don": 16,
          "total_blood": 750,
          "total_dons": 3
         },
         {
          "Class": 2,
          "since_first_don": 14,
          "since_last_don": 4,
          "total_blood": 1000,
          "total_dons": 4
         },
         {
          "Class": 1,
          "since_first_don": 34,
          "since_last_don": 11,
          "total_blood": 1000,
          "total_dons": 4
         },
         {
          "Class": 1,
          "since_first_don": 14,
          "since_last_don": 14,
          "total_blood": 250,
          "total_dons": 1
         },
         {
          "Class": 2,
          "since_first_don": 21,
          "since_last_don": 14,
          "total_blood": 500,
          "total_dons": 2
         },
         {
          "Class": 2,
          "since_first_don": 4,
          "since_last_don": 4,
          "total_blood": 1000,
          "total_dons": 4
         }
        ]
       },
       "encoding": {
        "x": {
         "field": "total_dons",
         "type": "quantitative"
        },
        "y": {
         "aggregate": "count",
         "title": "Number of Donors",
         "type": "quantitative"
        }
       },
       "mark": "bar",
       "title": "Donor Frequency Distribution"
      },
      "image/png": "[encoded data removed]",
      "text/plain": [
       "<VegaLite 3 object>\n",
       "\n",
       "If you see this message, it means the renderer has not been properly enabled\n",
       "for the frontend that you are using. For more information, see\n",
       "https://altair-viz.github.io/user_guide/troubleshooting.html\n"
      ]
     },
     "execution_count": 21,
     "metadata": {},
     "output_type": "execute_result"
    }
   ],
   "source": [
    "alt.Chart(blood_df_train).mark_bar().encode(\n",
    "    alt.X(\"total_dons\"),\n",
    "    alt.Y(\"count()\", title = \"Number of Donors\"),\n",
    ").properties(title = \"Donor Frequency Distribution\")"
   ]
  },
  {
   "cell_type": "code",
   "execution_count": 22,
   "metadata": {},
   "outputs": [
    {
     "data": {
      "application/vnd.vegalite.v3+json": {
       "$schema": "https://vega.github.io/schema/vega-lite/v3.4.0.json",
       "config": {
        "mark": {
         "tooltip": null
        },
        "view": {
         "height": 300,
         "width": 400
        }
       },
       "data": {
        "name": "data-9f8fa43238d447b8286cb04f7cfdb9c3"
       },
       "datasets": {
        "data-9f8fa43238d447b8286cb04f7cfdb9c3": [
         {
          "Class": 1,
          "since_first_don": 58,
          "since_last_don": 8,
          "total_blood": 2250,
          "total_dons": 9
         },
         {
          "Class": 1,
          "since_first_don": 21,
          "since_last_don": 13,
          "total_blood": 1000,
          "total_dons": 4
         },
         {
          "Class": 1,
          "since_first_don": 39,
          "since_last_don": 4,
          "total_blood": 1500,
          "total_dons": 6
         },
         {
          "Class": 1,
          "since_first_don": 46,
          "since_last_don": 4,
          "total_blood": 1250,
          "total_dons": 5
         },
         {
          "Class": 1,
          "since_first_don": 21,
          "since_last_don": 3,
          "total_blood": 1500,
          "total_dons": 6
         },
         {
          "Class": 1,
          "since_first_don": 9,
          "since_last_don": 9,
          "total_blood": 250,
          "total_dons": 1
         },
         {
          "Class": 1,
          "since_first_don": 14,
          "since_last_don": 14,
          "total_blood": 500,
          "total_dons": 2
         },
         {
          "Class": 1,
          "since_first_don": 77,
          "since_last_don": 2,
          "total_blood": 1750,
          "total_dons": 7
         },
         {
          "Class": 1,
          "since_first_don": 41,
          "since_last_don": 2,
          "total_blood": 500,
          "total_dons": 2
         },
         {
          "Class": 1,
          "since_first_don": 52,
          "since_last_don": 9,
          "total_blood": 500,
          "total_dons": 2
         },
         {
          "Class": 1,
          "since_first_don": 23,
          "since_last_don": 23,
          "total_blood": 250,
          "total_dons": 1
         },
         {
          "Class": 1,
          "since_first_don": 58,
          "since_last_don": 16,
          "total_blood": 1000,
          "total_dons": 4
         },
         {
          "Class": 1,
          "since_first_don": 26,
          "since_last_don": 2,
          "total_blood": 1000,
          "total_dons": 4
         },
         {
          "Class": 2,
          "since_first_don": 4,
          "since_last_don": 4,
          "total_blood": 500,
          "total_dons": 2
         },
         {
          "Class": 1,
          "since_first_don": 35,
          "since_last_don": 23,
          "total_blood": 750,
          "total_dons": 3
         },
         {
          "Class": 2,
          "since_first_don": 2,
          "since_last_don": 2,
          "total_blood": 250,
          "total_dons": 1
         },
         {
          "Class": 1,
          "since_first_don": 65,
          "since_last_don": 9,
          "total_blood": 1000,
          "total_dons": 4
         },
         {
          "Class": 2,
          "since_first_don": 19,
          "since_last_don": 14,
          "total_blood": 750,
          "total_dons": 3
         },
         {
          "Class": 1,
          "since_first_don": 58,
          "since_last_don": 4,
          "total_blood": 1750,
          "total_dons": 7
         },
         {
          "Class": 1,
          "since_first_don": 64,
          "since_last_don": 2,
          "total_blood": 4000,
          "total_dons": 16
         },
         {
          "Class": 1,
          "since_first_don": 4,
          "since_last_don": 4,
          "total_blood": 250,
          "total_dons": 1
         },
         {
          "Class": 1,
          "since_first_don": 40,
          "since_last_don": 40,
          "total_blood": 250,
          "total_dons": 1
         },
         {
          "Class": 1,
          "since_first_don": 14,
          "since_last_don": 14,
          "total_blood": 500,
          "total_dons": 2
         },
         {
          "Class": 1,
          "since_first_don": 89,
          "since_last_don": 16,
          "total_blood": 2500,
          "total_dons": 10
         },
         {
          "Class": 1,
          "since_first_don": 70,
          "since_last_don": 23,
          "total_blood": 1500,
          "total_dons": 6
         },
         {
          "Class": 1,
          "since_first_don": 62,
          "since_last_don": 4,
          "total_blood": 1750,
          "total_dons": 7
         },
         {
          "Class": 1,
          "since_first_don": 52,
          "since_last_don": 4,
          "total_blood": 1500,
          "total_dons": 6
         },
         {
          "Class": 2,
          "since_first_don": 28,
          "since_last_don": 4,
          "total_blood": 2500,
          "total_dons": 10
         },
         {
          "Class": 1,
          "since_first_don": 74,
          "since_last_don": 11,
          "total_blood": 1000,
          "total_dons": 4
         },
         {
          "Class": 1,
          "since_first_don": 14,
          "since_last_don": 4,
          "total_blood": 500,
          "total_dons": 2
         },
         {
          "Class": 2,
          "since_first_don": 21,
          "since_last_don": 21,
          "total_blood": 500,
          "total_dons": 2
         },
         {
          "Class": 1,
          "since_first_don": 81,
          "since_last_don": 16,
          "total_blood": 1500,
          "total_dons": 6
         },
         {
          "Class": 1,
          "since_first_don": 28,
          "since_last_don": 11,
          "total_blood": 1000,
          "total_dons": 4
         },
         {
          "Class": 2,
          "since_first_don": 98,
          "since_last_don": 4,
          "total_blood": 8250,
          "total_dons": 33
         },
         {
          "Class": 1,
          "since_first_don": 72,
          "since_last_don": 72,
          "total_blood": 250,
          "total_dons": 1
         },
         {
          "Class": 2,
          "since_first_don": 32,
          "since_last_don": 2,
          "total_blood": 1750,
          "total_dons": 7
         },
         {
          "Class": 1,
          "since_first_don": 19,
          "since_last_don": 16,
          "total_blood": 750,
          "total_dons": 3
         },
         {
          "Class": 1,
          "since_first_don": 15,
          "since_last_don": 11,
          "total_blood": 750,
          "total_dons": 3
         },
         {
          "Class": 2,
          "since_first_don": 16,
          "since_last_don": 2,
          "total_blood": 750,
          "total_dons": 3
         },
         {
          "Class": 1,
          "since_first_don": 4,
          "since_last_don": 4,
          "total_blood": 250,
          "total_dons": 1
         },
         {
          "Class": 1,
          "since_first_don": 26,
          "since_last_don": 2,
          "total_blood": 1000,
          "total_dons": 4
         },
         {
          "Class": 1,
          "since_first_don": 4,
          "since_last_don": 4,
          "total_blood": 250,
          "total_dons": 1
         },
         {
          "Class": 2,
          "since_first_don": 86,
          "since_last_don": 2,
          "total_blood": 10750,
          "total_dons": 43
         },
         {
          "Class": 2,
          "since_first_don": 64,
          "since_last_don": 4,
          "total_blood": 2750,
          "total_dons": 11
         },
         {
          "Class": 2,
          "since_first_don": 23,
          "since_last_don": 4,
          "total_blood": 1500,
          "total_dons": 6
         },
         {
          "Class": 1,
          "since_first_don": 24,
          "since_last_don": 2,
          "total_blood": 750,
          "total_dons": 3
         },
         {
          "Class": 1,
          "since_first_don": 59,
          "since_last_don": 12,
          "total_blood": 3250,
          "total_dons": 13
         },
         {
          "Class": 1,
          "since_first_don": 71,
          "since_last_don": 12,
          "total_blood": 3750,
          "total_dons": 15
         },
         {
          "Class": 1,
          "since_first_don": 58,
          "since_last_don": 11,
          "total_blood": 3000,
          "total_dons": 12
         },
         {
          "Class": 1,
          "since_first_don": 11,
          "since_last_don": 2,
          "total_blood": 1000,
          "total_dons": 4
         },
         {
          "Class": 1,
          "since_first_don": 2,
          "since_last_don": 2,
          "total_blood": 250,
          "total_dons": 1
         },
         {
          "Class": 1,
          "since_first_don": 21,
          "since_last_don": 21,
          "total_blood": 500,
          "total_dons": 2
         },
         {
          "Class": 1,
          "since_first_don": 35,
          "since_last_don": 2,
          "total_blood": 1000,
          "total_dons": 4
         },
         {
          "Class": 2,
          "since_first_don": 25,
          "since_last_don": 4,
          "total_blood": 750,
          "total_dons": 3
         },
         {
          "Class": 1,
          "since_first_don": 16,
          "since_last_don": 10,
          "total_blood": 1000,
          "total_dons": 4
         },
         {
          "Class": 1,
          "since_first_don": 21,
          "since_last_don": 21,
          "total_blood": 250,
          "total_dons": 1
         },
         {
          "Class": 2,
          "since_first_don": 4,
          "since_last_don": 4,
          "total_blood": 500,
          "total_dons": 2
         },
         {
          "Class": 2,
          "since_first_don": 41,
          "since_last_don": 2,
          "total_blood": 1500,
          "total_dons": 6
         },
         {
          "Class": 2,
          "since_first_don": 53,
          "since_last_don": 2,
          "total_blood": 3250,
          "total_dons": 13
         },
         {
          "Class": 1,
          "since_first_don": 40,
          "since_last_don": 4,
          "total_blood": 2250,
          "total_dons": 9
         },
         {
          "Class": 2,
          "since_first_don": 23,
          "since_last_don": 23,
          "total_blood": 250,
          "total_dons": 1
         },
         {
          "Class": 1,
          "since_first_don": 64,
          "since_last_don": 2,
          "total_blood": 3750,
          "total_dons": 15
         },
         {
          "Class": 1,
          "since_first_don": 21,
          "since_last_don": 2,
          "total_blood": 750,
          "total_dons": 3
         },
         {
          "Class": 1,
          "since_first_don": 23,
          "since_last_don": 23,
          "total_blood": 500,
          "total_dons": 2
         },
         {
          "Class": 1,
          "since_first_don": 4,
          "since_last_don": 4,
          "total_blood": 250,
          "total_dons": 1
         },
         {
          "Class": 2,
          "since_first_don": 14,
          "since_last_don": 2,
          "total_blood": 1000,
          "total_dons": 4
         },
         {
          "Class": 1,
          "since_first_don": 11,
          "since_last_don": 2,
          "total_blood": 500,
          "total_dons": 2
         },
         {
          "Class": 1,
          "since_first_don": 28,
          "since_last_don": 11,
          "total_blood": 1500,
          "total_dons": 6
         },
         {
          "Class": 1,
          "since_first_don": 87,
          "since_last_don": 23,
          "total_blood": 1000,
          "total_dons": 4
         },
         {
          "Class": 2,
          "since_first_don": 28,
          "since_last_don": 2,
          "total_blood": 1500,
          "total_dons": 6
         },
         {
          "Class": 2,
          "since_first_don": 49,
          "since_last_don": 9,
          "total_blood": 2750,
          "total_dons": 11
         },
         {
          "Class": 1,
          "since_first_don": 33,
          "since_last_don": 23,
          "total_blood": 750,
          "total_dons": 3
         },
         {
          "Class": 1,
          "since_first_don": 2,
          "since_last_don": 2,
          "total_blood": 250,
          "total_dons": 1
         },
         {
          "Class": 2,
          "since_first_don": 4,
          "since_last_don": 2,
          "total_blood": 500,
          "total_dons": 2
         },
         {
          "Class": 1,
          "since_first_don": 70,
          "since_last_don": 14,
          "total_blood": 4000,
          "total_dons": 16
         },
         {
          "Class": 2,
          "since_first_don": 52,
          "since_last_don": 8,
          "total_blood": 2000,
          "total_dons": 8
         },
         {
          "Class": 2,
          "since_first_don": 34,
          "since_last_don": 4,
          "total_blood": 2000,
          "total_dons": 8
         },
         {
          "Class": 1,
          "since_first_don": 35,
          "since_last_don": 7,
          "total_blood": 1250,
          "total_dons": 5
         },
         {
          "Class": 1,
          "since_first_don": 58,
          "since_last_don": 4,
          "total_blood": 1250,
          "total_dons": 5
         },
         {
          "Class": 1,
          "since_first_don": 11,
          "since_last_don": 11,
          "total_blood": 250,
          "total_dons": 1
         },
         {
          "Class": 2,
          "since_first_don": 76,
          "since_last_don": 2,
          "total_blood": 3250,
          "total_dons": 13
         },
         {
          "Class": 1,
          "since_first_don": 52,
          "since_last_don": 4,
          "total_blood": 1750,
          "total_dons": 7
         },
         {
          "Class": 1,
          "since_first_don": 50,
          "since_last_don": 14,
          "total_blood": 1250,
          "total_dons": 5
         },
         {
          "Class": 1,
          "since_first_don": 50,
          "since_last_don": 14,
          "total_blood": 2000,
          "total_dons": 8
         },
         {
          "Class": 1,
          "since_first_don": 59,
          "since_last_don": 4,
          "total_blood": 500,
          "total_dons": 2
         },
         {
          "Class": 1,
          "since_first_don": 28,
          "since_last_don": 11,
          "total_blood": 750,
          "total_dons": 3
         },
         {
          "Class": 1,
          "since_first_don": 23,
          "since_last_don": 23,
          "total_blood": 250,
          "total_dons": 1
         },
         {
          "Class": 1,
          "since_first_don": 58,
          "since_last_don": 23,
          "total_blood": 1250,
          "total_dons": 5
         },
         {
          "Class": 2,
          "since_first_don": 26,
          "since_last_don": 4,
          "total_blood": 1250,
          "total_dons": 5
         },
         {
          "Class": 2,
          "since_first_don": 98,
          "since_last_don": 2,
          "total_blood": 10250,
          "total_dons": 41
         },
         {
          "Class": 1,
          "since_first_don": 58,
          "since_last_don": 4,
          "total_blood": 1250,
          "total_dons": 5
         },
         {
          "Class": 1,
          "since_first_don": 14,
          "since_last_don": 14,
          "total_blood": 500,
          "total_dons": 2
         },
         {
          "Class": 2,
          "since_first_don": 16,
          "since_last_don": 2,
          "total_blood": 1500,
          "total_dons": 6
         },
         {
          "Class": 1,
          "since_first_don": 76,
          "since_last_don": 11,
          "total_blood": 750,
          "total_dons": 3
         },
         {
          "Class": 2,
          "since_first_don": 16,
          "since_last_don": 4,
          "total_blood": 750,
          "total_dons": 3
         },
         {
          "Class": 1,
          "since_first_don": 70,
          "since_last_don": 11,
          "total_blood": 500,
          "total_dons": 2
         },
         {
          "Class": 1,
          "since_first_don": 11,
          "since_last_don": 11,
          "total_blood": 500,
          "total_dons": 2
         },
         {
          "Class": 2,
          "since_first_don": 38,
          "since_last_don": 4,
          "total_blood": 4000,
          "total_dons": 16
         },
         {
          "Class": 1,
          "since_first_don": 11,
          "since_last_don": 11,
          "total_blood": 500,
          "total_dons": 2
         },
         {
          "Class": 1,
          "since_first_don": 29,
          "since_last_don": 14,
          "total_blood": 500,
          "total_dons": 2
         },
         {
          "Class": 1,
          "since_first_don": 23,
          "since_last_don": 3,
          "total_blood": 500,
          "total_dons": 2
         },
         {
          "Class": 1,
          "since_first_don": 52,
          "since_last_don": 4,
          "total_blood": 500,
          "total_dons": 2
         },
         {
          "Class": 1,
          "since_first_don": 16,
          "since_last_don": 4,
          "total_blood": 750,
          "total_dons": 3
         },
         {
          "Class": 1,
          "since_first_don": 71,
          "since_last_don": 4,
          "total_blood": 750,
          "total_dons": 3
         },
         {
          "Class": 1,
          "since_first_don": 35,
          "since_last_don": 14,
          "total_blood": 750,
          "total_dons": 3
         },
         {
          "Class": 2,
          "since_first_don": 35,
          "since_last_don": 16,
          "total_blood": 1500,
          "total_dons": 6
         },
         {
          "Class": 1,
          "since_first_don": 35,
          "since_last_don": 14,
          "total_blood": 1750,
          "total_dons": 7
         },
         {
          "Class": 2,
          "since_first_don": 28,
          "since_last_don": 4,
          "total_blood": 2250,
          "total_dons": 9
         },
         {
          "Class": 1,
          "since_first_don": 16,
          "since_last_don": 16,
          "total_blood": 250,
          "total_dons": 1
         },
         {
          "Class": 1,
          "since_first_don": 23,
          "since_last_don": 23,
          "total_blood": 250,
          "total_dons": 1
         },
         {
          "Class": 1,
          "since_first_don": 52,
          "since_last_don": 2,
          "total_blood": 2500,
          "total_dons": 10
         },
         {
          "Class": 1,
          "since_first_don": 31,
          "since_last_don": 4,
          "total_blood": 500,
          "total_dons": 2
         },
         {
          "Class": 1,
          "since_first_don": 14,
          "since_last_don": 4,
          "total_blood": 1500,
          "total_dons": 6
         },
         {
          "Class": 2,
          "since_first_don": 16,
          "since_last_don": 4,
          "total_blood": 1250,
          "total_dons": 5
         },
         {
          "Class": 2,
          "since_first_don": 35,
          "since_last_don": 4,
          "total_blood": 1500,
          "total_dons": 6
         },
         {
          "Class": 1,
          "since_first_don": 21,
          "since_last_don": 21,
          "total_blood": 250,
          "total_dons": 1
         },
         {
          "Class": 2,
          "since_first_don": 26,
          "since_last_don": 4,
          "total_blood": 2250,
          "total_dons": 9
         },
         {
          "Class": 1,
          "since_first_don": 76,
          "since_last_don": 16,
          "total_blood": 2000,
          "total_dons": 8
         },
         {
          "Class": 1,
          "since_first_don": 38,
          "since_last_don": 11,
          "total_blood": 1250,
          "total_dons": 5
         },
         {
          "Class": 1,
          "since_first_don": 57,
          "since_last_don": 1,
          "total_blood": 1750,
          "total_dons": 7
         },
         {
          "Class": 2,
          "since_first_don": 11,
          "since_last_don": 2,
          "total_blood": 1250,
          "total_dons": 5
         },
         {
          "Class": 1,
          "since_first_don": 35,
          "since_last_don": 16,
          "total_blood": 1500,
          "total_dons": 6
         },
         {
          "Class": 2,
          "since_first_don": 16,
          "since_last_don": 2,
          "total_blood": 1250,
          "total_dons": 5
         },
         {
          "Class": 1,
          "since_first_don": 11,
          "since_last_don": 11,
          "total_blood": 250,
          "total_dons": 1
         },
         {
          "Class": 1,
          "since_first_don": 2,
          "since_last_don": 2,
          "total_blood": 250,
          "total_dons": 1
         },
         {
          "Class": 1,
          "since_first_don": 48,
          "since_last_don": 11,
          "total_blood": 2000,
          "total_dons": 8
         },
         {
          "Class": 1,
          "since_first_don": 41,
          "since_last_don": 11,
          "total_blood": 1500,
          "total_dons": 6
         },
         {
          "Class": 1,
          "since_first_don": 48,
          "since_last_don": 7,
          "total_blood": 3500,
          "total_dons": 14
         },
         {
          "Class": 1,
          "since_first_don": 4,
          "since_last_don": 4,
          "total_blood": 500,
          "total_dons": 2
         },
         {
          "Class": 1,
          "since_first_don": 98,
          "since_last_don": 14,
          "total_blood": 4000,
          "total_dons": 16
         },
         {
          "Class": 1,
          "since_first_don": 52,
          "since_last_don": 14,
          "total_blood": 750,
          "total_dons": 3
         },
         {
          "Class": 1,
          "since_first_don": 17,
          "since_last_don": 11,
          "total_blood": 500,
          "total_dons": 2
         },
         {
          "Class": 2,
          "since_first_don": 2,
          "since_last_don": 2,
          "total_blood": 250,
          "total_dons": 1
         },
         {
          "Class": 2,
          "since_first_don": 46,
          "since_last_don": 2,
          "total_blood": 1750,
          "total_dons": 7
         },
         {
          "Class": 1,
          "since_first_don": 23,
          "since_last_don": 23,
          "total_blood": 250,
          "total_dons": 1
         },
         {
          "Class": 1,
          "since_first_don": 23,
          "since_last_don": 23,
          "total_blood": 250,
          "total_dons": 1
         },
         {
          "Class": 2,
          "since_first_don": 32,
          "since_last_don": 2,
          "total_blood": 3250,
          "total_dons": 13
         },
         {
          "Class": 1,
          "since_first_don": 89,
          "since_last_don": 7,
          "total_blood": 2750,
          "total_dons": 11
         },
         {
          "Class": 2,
          "since_first_don": 15,
          "since_last_don": 2,
          "total_blood": 1500,
          "total_dons": 6
         },
         {
          "Class": 2,
          "since_first_don": 16,
          "since_last_don": 2,
          "total_blood": 1500,
          "total_dons": 6
         },
         {
          "Class": 1,
          "since_first_don": 57,
          "since_last_don": 14,
          "total_blood": 3250,
          "total_dons": 13
         },
         {
          "Class": 1,
          "since_first_don": 58,
          "since_last_don": 1,
          "total_blood": 3500,
          "total_dons": 14
         },
         {
          "Class": 1,
          "since_first_don": 46,
          "since_last_don": 14,
          "total_blood": 2000,
          "total_dons": 8
         },
         {
          "Class": 2,
          "since_first_don": 98,
          "since_last_don": 2,
          "total_blood": 12500,
          "total_dons": 50
         },
         {
          "Class": 2,
          "since_first_don": 71,
          "since_last_don": 4,
          "total_blood": 4250,
          "total_dons": 17
         },
         {
          "Class": 1,
          "since_first_don": 33,
          "since_last_don": 14,
          "total_blood": 750,
          "total_dons": 3
         },
         {
          "Class": 1,
          "since_first_don": 64,
          "since_last_don": 16,
          "total_blood": 1750,
          "total_dons": 7
         },
         {
          "Class": 2,
          "since_first_don": 34,
          "since_last_don": 4,
          "total_blood": 1000,
          "total_dons": 4
         },
         {
          "Class": 1,
          "since_first_don": 26,
          "since_last_don": 21,
          "total_blood": 750,
          "total_dons": 3
         },
         {
          "Class": 1,
          "since_first_don": 64,
          "since_last_don": 11,
          "total_blood": 6000,
          "total_dons": 24
         },
         {
          "Class": 1,
          "since_first_don": 26,
          "since_last_don": 14,
          "total_blood": 2000,
          "total_dons": 8
         },
         {
          "Class": 2,
          "since_first_don": 41,
          "since_last_don": 2,
          "total_blood": 2750,
          "total_dons": 11
         },
         {
          "Class": 2,
          "since_first_don": 72,
          "since_last_don": 11,
          "total_blood": 2250,
          "total_dons": 9
         },
         {
          "Class": 1,
          "since_first_don": 21,
          "since_last_don": 21,
          "total_blood": 250,
          "total_dons": 1
         },
         {
          "Class": 1,
          "since_first_don": 16,
          "since_last_don": 9,
          "total_blood": 2250,
          "total_dons": 9
         },
         {
          "Class": 1,
          "since_first_don": 23,
          "since_last_don": 23,
          "total_blood": 250,
          "total_dons": 1
         },
         {
          "Class": 1,
          "since_first_don": 45,
          "since_last_don": 9,
          "total_blood": 2250,
          "total_dons": 9
         },
         {
          "Class": 1,
          "since_first_don": 26,
          "since_last_don": 11,
          "total_blood": 1500,
          "total_dons": 6
         },
         {
          "Class": 2,
          "since_first_don": 11,
          "since_last_don": 11,
          "total_blood": 250,
          "total_dons": 1
         },
         {
          "Class": 1,
          "since_first_don": 26,
          "since_last_don": 14,
          "total_blood": 1000,
          "total_dons": 4
         },
         {
          "Class": 1,
          "since_first_don": 11,
          "since_last_don": 2,
          "total_blood": 500,
          "total_dons": 2
         },
         {
          "Class": 1,
          "since_first_don": 14,
          "since_last_don": 14,
          "total_blood": 250,
          "total_dons": 1
         },
         {
          "Class": 1,
          "since_first_don": 16,
          "since_last_don": 11,
          "total_blood": 500,
          "total_dons": 2
         },
         {
          "Class": 1,
          "since_first_don": 16,
          "since_last_don": 16,
          "total_blood": 250,
          "total_dons": 1
         },
         {
          "Class": 1,
          "since_first_don": 40,
          "since_last_don": 21,
          "total_blood": 750,
          "total_dons": 3
         },
         {
          "Class": 1,
          "since_first_don": 58,
          "since_last_don": 4,
          "total_blood": 1250,
          "total_dons": 5
         },
         {
          "Class": 1,
          "since_first_don": 4,
          "since_last_don": 4,
          "total_blood": 250,
          "total_dons": 1
         },
         {
          "Class": 1,
          "since_first_don": 82,
          "since_last_don": 15,
          "total_blood": 4000,
          "total_dons": 16
         },
         {
          "Class": 1,
          "since_first_don": 14,
          "since_last_don": 14,
          "total_blood": 1250,
          "total_dons": 5
         },
         {
          "Class": 1,
          "since_first_don": 23,
          "since_last_don": 16,
          "total_blood": 1000,
          "total_dons": 4
         },
         {
          "Class": 1,
          "since_first_don": 70,
          "since_last_don": 2,
          "total_blood": 1000,
          "total_dons": 4
         },
         {
          "Class": 1,
          "since_first_don": 86,
          "since_last_don": 23,
          "total_blood": 3000,
          "total_dons": 12
         },
         {
          "Class": 1,
          "since_first_don": 14,
          "since_last_don": 14,
          "total_blood": 250,
          "total_dons": 1
         },
         {
          "Class": 1,
          "since_first_don": 26,
          "since_last_don": 14,
          "total_blood": 1250,
          "total_dons": 5
         },
         {
          "Class": 1,
          "since_first_don": 27,
          "since_last_don": 16,
          "total_blood": 1250,
          "total_dons": 5
         },
         {
          "Class": 2,
          "since_first_don": 11,
          "since_last_don": 2,
          "total_blood": 500,
          "total_dons": 2
         },
         {
          "Class": 1,
          "since_first_don": 9,
          "since_last_don": 4,
          "total_blood": 500,
          "total_dons": 2
         },
         {
          "Class": 1,
          "since_first_don": 39,
          "since_last_don": 16,
          "total_blood": 1750,
          "total_dons": 7
         },
         {
          "Class": 1,
          "since_first_don": 70,
          "since_last_don": 6,
          "total_blood": 4250,
          "total_dons": 17
         },
         {
          "Class": 1,
          "since_first_don": 93,
          "since_last_don": 16,
          "total_blood": 1750,
          "total_dons": 7
         },
         {
          "Class": 1,
          "since_first_don": 82,
          "since_last_don": 2,
          "total_blood": 3000,
          "total_dons": 12
         },
         {
          "Class": 1,
          "since_first_don": 26,
          "since_last_don": 14,
          "total_blood": 1750,
          "total_dons": 7
         },
         {
          "Class": 1,
          "since_first_don": 11,
          "since_last_don": 11,
          "total_blood": 250,
          "total_dons": 1
         },
         {
          "Class": 1,
          "since_first_don": 57,
          "since_last_don": 21,
          "total_blood": 3250,
          "total_dons": 13
         },
         {
          "Class": 1,
          "since_first_don": 2,
          "since_last_don": 2,
          "total_blood": 500,
          "total_dons": 2
         },
         {
          "Class": 2,
          "since_first_don": 79,
          "since_last_don": 11,
          "total_blood": 4250,
          "total_dons": 17
         },
         {
          "Class": 1,
          "since_first_don": 14,
          "since_last_don": 14,
          "total_blood": 500,
          "total_dons": 2
         },
         {
          "Class": 1,
          "since_first_don": 74,
          "since_last_don": 74,
          "total_blood": 250,
          "total_dons": 1
         },
         {
          "Class": 1,
          "since_first_don": 22,
          "since_last_don": 2,
          "total_blood": 750,
          "total_dons": 3
         },
         {
          "Class": 1,
          "since_first_don": 58,
          "since_last_don": 4,
          "total_blood": 1750,
          "total_dons": 7
         },
         {
          "Class": 1,
          "since_first_don": 2,
          "since_last_don": 2,
          "total_blood": 250,
          "total_dons": 1
         },
         {
          "Class": 2,
          "since_first_don": 4,
          "since_last_don": 4,
          "total_blood": 250,
          "total_dons": 1
         },
         {
          "Class": 2,
          "since_first_don": 12,
          "since_last_don": 3,
          "total_blood": 1250,
          "total_dons": 5
         },
         {
          "Class": 1,
          "since_first_don": 2,
          "since_last_don": 2,
          "total_blood": 250,
          "total_dons": 1
         },
         {
          "Class": 1,
          "since_first_don": 89,
          "since_last_don": 11,
          "total_blood": 4000,
          "total_dons": 16
         },
         {
          "Class": 1,
          "since_first_don": 33,
          "since_last_don": 15,
          "total_blood": 1250,
          "total_dons": 5
         },
         {
          "Class": 1,
          "since_first_don": 14,
          "since_last_don": 14,
          "total_blood": 500,
          "total_dons": 2
         },
         {
          "Class": 1,
          "since_first_don": 95,
          "since_last_don": 4,
          "total_blood": 2750,
          "total_dons": 11
         },
         {
          "Class": 1,
          "since_first_don": 30,
          "since_last_don": 4,
          "total_blood": 500,
          "total_dons": 2
         },
         {
          "Class": 1,
          "since_first_don": 14,
          "since_last_don": 14,
          "total_blood": 500,
          "total_dons": 2
         },
         {
          "Class": 2,
          "since_first_don": 28,
          "since_last_don": 4,
          "total_blood": 2500,
          "total_dons": 10
         },
         {
          "Class": 1,
          "since_first_don": 83,
          "since_last_don": 16,
          "total_blood": 3500,
          "total_dons": 14
         },
         {
          "Class": 1,
          "since_first_don": 38,
          "since_last_don": 11,
          "total_blood": 2250,
          "total_dons": 9
         },
         {
          "Class": 1,
          "since_first_don": 34,
          "since_last_don": 2,
          "total_blood": 1250,
          "total_dons": 5
         },
         {
          "Class": 1,
          "since_first_don": 35,
          "since_last_don": 11,
          "total_blood": 2500,
          "total_dons": 10
         },
         {
          "Class": 1,
          "since_first_don": 33,
          "since_last_don": 21,
          "total_blood": 500,
          "total_dons": 2
         },
         {
          "Class": 1,
          "since_first_don": 14,
          "since_last_don": 14,
          "total_blood": 250,
          "total_dons": 1
         },
         {
          "Class": 1,
          "since_first_don": 63,
          "since_last_don": 8,
          "total_blood": 2500,
          "total_dons": 10
         },
         {
          "Class": 2,
          "since_first_don": 23,
          "since_last_don": 4,
          "total_blood": 1250,
          "total_dons": 5
         },
         {
          "Class": 1,
          "since_first_don": 28,
          "since_last_don": 4,
          "total_blood": 1750,
          "total_dons": 7
         },
         {
          "Class": 1,
          "since_first_don": 14,
          "since_last_don": 14,
          "total_blood": 250,
          "total_dons": 1
         },
         {
          "Class": 2,
          "since_first_don": 4,
          "since_last_don": 2,
          "total_blood": 750,
          "total_dons": 3
         },
         {
          "Class": 1,
          "since_first_don": 58,
          "since_last_don": 4,
          "total_blood": 1250,
          "total_dons": 5
         },
         {
          "Class": 2,
          "since_first_don": 4,
          "since_last_don": 4,
          "total_blood": 250,
          "total_dons": 1
         },
         {
          "Class": 2,
          "since_first_don": 11,
          "since_last_don": 4,
          "total_blood": 1250,
          "total_dons": 5
         },
         {
          "Class": 1,
          "since_first_don": 34,
          "since_last_don": 4,
          "total_blood": 750,
          "total_dons": 3
         },
         {
          "Class": 1,
          "since_first_don": 4,
          "since_last_don": 4,
          "total_blood": 250,
          "total_dons": 1
         },
         {
          "Class": 1,
          "since_first_don": 33,
          "since_last_don": 11,
          "total_blood": 1250,
          "total_dons": 5
         },
         {
          "Class": 2,
          "since_first_don": 40,
          "since_last_don": 11,
          "total_blood": 750,
          "total_dons": 3
         },
         {
          "Class": 1,
          "since_first_don": 28,
          "since_last_don": 16,
          "total_blood": 2000,
          "total_dons": 8
         },
         {
          "Class": 1,
          "since_first_don": 26,
          "since_last_don": 13,
          "total_blood": 2000,
          "total_dons": 8
         },
         {
          "Class": 1,
          "since_first_don": 21,
          "since_last_don": 21,
          "total_blood": 250,
          "total_dons": 1
         },
         {
          "Class": 1,
          "since_first_don": 86,
          "since_last_don": 4,
          "total_blood": 3500,
          "total_dons": 14
         },
         {
          "Class": 1,
          "since_first_don": 4,
          "since_last_don": 4,
          "total_blood": 250,
          "total_dons": 1
         },
         {
          "Class": 1,
          "since_first_don": 62,
          "since_last_don": 16,
          "total_blood": 2500,
          "total_dons": 10
         },
         {
          "Class": 2,
          "since_first_don": 35,
          "since_last_don": 2,
          "total_blood": 1750,
          "total_dons": 7
         },
         {
          "Class": 1,
          "since_first_don": 4,
          "since_last_don": 4,
          "total_blood": 250,
          "total_dons": 1
         },
         {
          "Class": 1,
          "since_first_don": 52,
          "since_last_don": 4,
          "total_blood": 1750,
          "total_dons": 7
         },
         {
          "Class": 2,
          "since_first_don": 28,
          "since_last_don": 6,
          "total_blood": 5500,
          "total_dons": 22
         },
         {
          "Class": 1,
          "since_first_don": 38,
          "since_last_don": 21,
          "total_blood": 1750,
          "total_dons": 7
         },
         {
          "Class": 1,
          "since_first_don": 75,
          "since_last_don": 5,
          "total_blood": 2750,
          "total_dons": 11
         },
         {
          "Class": 1,
          "since_first_don": 46,
          "since_last_don": 4,
          "total_blood": 1500,
          "total_dons": 6
         },
         {
          "Class": 1,
          "since_first_don": 38,
          "since_last_don": 10,
          "total_blood": 1250,
          "total_dons": 5
         },
         {
          "Class": 2,
          "since_first_don": 70,
          "since_last_don": 4,
          "total_blood": 4000,
          "total_dons": 16
         },
         {
          "Class": 2,
          "since_first_don": 34,
          "since_last_don": 4,
          "total_blood": 3000,
          "total_dons": 12
         },
         {
          "Class": 1,
          "since_first_don": 16,
          "since_last_don": 16,
          "total_blood": 250,
          "total_dons": 1
         },
         {
          "Class": 1,
          "since_first_don": 4,
          "since_last_don": 4,
          "total_blood": 250,
          "total_dons": 1
         },
         {
          "Class": 1,
          "since_first_don": 11,
          "since_last_don": 11,
          "total_blood": 500,
          "total_dons": 2
         },
         {
          "Class": 2,
          "since_first_don": 35,
          "since_last_don": 4,
          "total_blood": 1250,
          "total_dons": 5
         },
         {
          "Class": 1,
          "since_first_don": 2,
          "since_last_don": 2,
          "total_blood": 250,
          "total_dons": 1
         },
         {
          "Class": 1,
          "since_first_don": 16,
          "since_last_don": 16,
          "total_blood": 250,
          "total_dons": 1
         },
         {
          "Class": 1,
          "since_first_don": 16,
          "since_last_don": 2,
          "total_blood": 1000,
          "total_dons": 4
         },
         {
          "Class": 2,
          "since_first_don": 16,
          "since_last_don": 9,
          "total_blood": 500,
          "total_dons": 2
         },
         {
          "Class": 1,
          "since_first_don": 4,
          "since_last_don": 4,
          "total_blood": 250,
          "total_dons": 1
         },
         {
          "Class": 1,
          "since_first_don": 2,
          "since_last_don": 2,
          "total_blood": 250,
          "total_dons": 1
         },
         {
          "Class": 1,
          "since_first_don": 21,
          "since_last_don": 21,
          "total_blood": 250,
          "total_dons": 1
         },
         {
          "Class": 1,
          "since_first_don": 28,
          "since_last_don": 4,
          "total_blood": 2750,
          "total_dons": 11
         },
         {
          "Class": 1,
          "since_first_don": 21,
          "since_last_don": 21,
          "total_blood": 250,
          "total_dons": 1
         },
         {
          "Class": 1,
          "since_first_don": 35,
          "since_last_don": 4,
          "total_blood": 1500,
          "total_dons": 6
         },
         {
          "Class": 1,
          "since_first_don": 64,
          "since_last_don": 14,
          "total_blood": 1250,
          "total_dons": 5
         },
         {
          "Class": 1,
          "since_first_don": 21,
          "since_last_don": 21,
          "total_blood": 250,
          "total_dons": 1
         },
         {
          "Class": 1,
          "since_first_don": 26,
          "since_last_don": 11,
          "total_blood": 500,
          "total_dons": 2
         },
         {
          "Class": 2,
          "since_first_don": 21,
          "since_last_don": 16,
          "total_blood": 750,
          "total_dons": 3
         },
         {
          "Class": 1,
          "since_first_don": 28,
          "since_last_don": 4,
          "total_blood": 2250,
          "total_dons": 9
         },
         {
          "Class": 1,
          "since_first_don": 4,
          "since_last_don": 4,
          "total_blood": 250,
          "total_dons": 1
         },
         {
          "Class": 1,
          "since_first_don": 39,
          "since_last_don": 10,
          "total_blood": 2000,
          "total_dons": 8
         },
         {
          "Class": 1,
          "since_first_don": 4,
          "since_last_don": 4,
          "total_blood": 250,
          "total_dons": 1
         },
         {
          "Class": 1,
          "since_first_don": 14,
          "since_last_don": 2,
          "total_blood": 500,
          "total_dons": 2
         },
         {
          "Class": 2,
          "since_first_don": 28,
          "since_last_don": 14,
          "total_blood": 1250,
          "total_dons": 5
         },
         {
          "Class": 2,
          "since_first_don": 4,
          "since_last_don": 4,
          "total_blood": 250,
          "total_dons": 1
         },
         {
          "Class": 1,
          "since_first_don": 2,
          "since_last_don": 2,
          "total_blood": 250,
          "total_dons": 1
         },
         {
          "Class": 2,
          "since_first_don": 39,
          "since_last_don": 4,
          "total_blood": 3250,
          "total_dons": 13
         },
         {
          "Class": 1,
          "since_first_don": 57,
          "since_last_don": 23,
          "total_blood": 3750,
          "total_dons": 15
         },
         {
          "Class": 1,
          "since_first_don": 11,
          "since_last_don": 11,
          "total_blood": 250,
          "total_dons": 1
         },
         {
          "Class": 1,
          "since_first_don": 69,
          "since_last_don": 23,
          "total_blood": 2000,
          "total_dons": 8
         },
         {
          "Class": 1,
          "since_first_don": 26,
          "since_last_don": 23,
          "total_blood": 500,
          "total_dons": 2
         },
         {
          "Class": 1,
          "since_first_don": 64,
          "since_last_don": 23,
          "total_blood": 2000,
          "total_dons": 8
         },
         {
          "Class": 1,
          "since_first_don": 28,
          "since_last_don": 4,
          "total_blood": 750,
          "total_dons": 3
         },
         {
          "Class": 1,
          "since_first_don": 16,
          "since_last_don": 16,
          "total_blood": 250,
          "total_dons": 1
         },
         {
          "Class": 1,
          "since_first_don": 22,
          "since_last_don": 2,
          "total_blood": 1500,
          "total_dons": 6
         },
         {
          "Class": 1,
          "since_first_don": 28,
          "since_last_don": 23,
          "total_blood": 500,
          "total_dons": 2
         },
         {
          "Class": 1,
          "since_first_don": 71,
          "since_last_don": 16,
          "total_blood": 1250,
          "total_dons": 5
         },
         {
          "Class": 1,
          "since_first_don": 23,
          "since_last_don": 12,
          "total_blood": 2750,
          "total_dons": 11
         },
         {
          "Class": 1,
          "since_first_don": 62,
          "since_last_don": 23,
          "total_blood": 4750,
          "total_dons": 19
         },
         {
          "Class": 1,
          "since_first_don": 60,
          "since_last_don": 16,
          "total_blood": 1250,
          "total_dons": 5
         },
         {
          "Class": 2,
          "since_first_don": 40,
          "since_last_don": 2,
          "total_blood": 2750,
          "total_dons": 11
         },
         {
          "Class": 1,
          "since_first_don": 26,
          "since_last_don": 2,
          "total_blood": 1250,
          "total_dons": 5
         },
         {
          "Class": 1,
          "since_first_don": 38,
          "since_last_don": 21,
          "total_blood": 750,
          "total_dons": 3
         },
         {
          "Class": 1,
          "since_first_don": 23,
          "since_last_don": 23,
          "total_blood": 250,
          "total_dons": 1
         },
         {
          "Class": 1,
          "since_first_don": 21,
          "since_last_don": 11,
          "total_blood": 500,
          "total_dons": 2
         },
         {
          "Class": 1,
          "since_first_don": 87,
          "since_last_don": 16,
          "total_blood": 3750,
          "total_dons": 15
         },
         {
          "Class": 1,
          "since_first_don": 39,
          "since_last_don": 23,
          "total_blood": 750,
          "total_dons": 3
         },
         {
          "Class": 2,
          "since_first_don": 58,
          "since_last_don": 17,
          "total_blood": 1750,
          "total_dons": 7
         },
         {
          "Class": 1,
          "since_first_don": 98,
          "since_last_don": 11,
          "total_blood": 5500,
          "total_dons": 22
         },
         {
          "Class": 2,
          "since_first_don": 62,
          "since_last_don": 11,
          "total_blood": 1750,
          "total_dons": 7
         },
         {
          "Class": 1,
          "since_first_don": 26,
          "since_last_don": 2,
          "total_blood": 1500,
          "total_dons": 6
         },
         {
          "Class": 1,
          "since_first_don": 40,
          "since_last_don": 16,
          "total_blood": 1500,
          "total_dons": 6
         },
         {
          "Class": 2,
          "since_first_don": 14,
          "since_last_don": 2,
          "total_blood": 1750,
          "total_dons": 7
         },
         {
          "Class": 1,
          "since_first_don": 34,
          "since_last_don": 16,
          "total_blood": 750,
          "total_dons": 3
         },
         {
          "Class": 1,
          "since_first_don": 28,
          "since_last_don": 23,
          "total_blood": 500,
          "total_dons": 2
         },
         {
          "Class": 1,
          "since_first_don": 50,
          "since_last_don": 16,
          "total_blood": 750,
          "total_dons": 3
         },
         {
          "Class": 2,
          "since_first_don": 22,
          "since_last_don": 22,
          "total_blood": 250,
          "total_dons": 1
         },
         {
          "Class": 1,
          "since_first_don": 23,
          "since_last_don": 23,
          "total_blood": 250,
          "total_dons": 1
         },
         {
          "Class": 1,
          "since_first_don": 48,
          "since_last_don": 21,
          "total_blood": 1500,
          "total_dons": 6
         },
         {
          "Class": 2,
          "since_first_don": 35,
          "since_last_don": 2,
          "total_blood": 2000,
          "total_dons": 8
         },
         {
          "Class": 1,
          "since_first_don": 21,
          "since_last_don": 21,
          "total_blood": 250,
          "total_dons": 1
         },
         {
          "Class": 1,
          "since_first_don": 35,
          "since_last_don": 21,
          "total_blood": 750,
          "total_dons": 3
         },
         {
          "Class": 1,
          "since_first_don": 49,
          "since_last_don": 2,
          "total_blood": 2500,
          "total_dons": 10
         },
         {
          "Class": 1,
          "since_first_don": 52,
          "since_last_don": 9,
          "total_blood": 500,
          "total_dons": 2
         },
         {
          "Class": 2,
          "since_first_don": 16,
          "since_last_don": 4,
          "total_blood": 1500,
          "total_dons": 6
         },
         {
          "Class": 2,
          "since_first_don": 2,
          "since_last_don": 2,
          "total_blood": 250,
          "total_dons": 1
         },
         {
          "Class": 2,
          "since_first_don": 48,
          "since_last_don": 4,
          "total_blood": 2000,
          "total_dons": 8
         },
         {
          "Class": 1,
          "since_first_don": 23,
          "since_last_don": 23,
          "total_blood": 250,
          "total_dons": 1
         },
         {
          "Class": 2,
          "since_first_don": 43,
          "since_last_don": 1,
          "total_blood": 2500,
          "total_dons": 10
         },
         {
          "Class": 2,
          "since_first_don": 2,
          "since_last_don": 2,
          "total_blood": 250,
          "total_dons": 1
         },
         {
          "Class": 1,
          "since_first_don": 28,
          "since_last_don": 2,
          "total_blood": 2750,
          "total_dons": 11
         },
         {
          "Class": 1,
          "since_first_don": 35,
          "since_last_don": 1,
          "total_blood": 3000,
          "total_dons": 12
         },
         {
          "Class": 1,
          "since_first_don": 11,
          "since_last_don": 11,
          "total_blood": 250,
          "total_dons": 1
         },
         {
          "Class": 2,
          "since_first_don": 57,
          "since_last_don": 2,
          "total_blood": 3500,
          "total_dons": 14
         },
         {
          "Class": 1,
          "since_first_don": 18,
          "since_last_don": 11,
          "total_blood": 1250,
          "total_dons": 5
         },
         {
          "Class": 1,
          "since_first_don": 23,
          "since_last_don": 18,
          "total_blood": 500,
          "total_dons": 2
         },
         {
          "Class": 2,
          "since_first_don": 4,
          "since_last_don": 4,
          "total_blood": 500,
          "total_dons": 2
         },
         {
          "Class": 2,
          "since_first_don": 28,
          "since_last_don": 2,
          "total_blood": 2500,
          "total_dons": 10
         },
         {
          "Class": 1,
          "since_first_don": 14,
          "since_last_don": 14,
          "total_blood": 250,
          "total_dons": 1
         },
         {
          "Class": 1,
          "since_first_don": 95,
          "since_last_don": 18,
          "total_blood": 2000,
          "total_dons": 8
         },
         {
          "Class": 1,
          "since_first_don": 23,
          "since_last_don": 4,
          "total_blood": 500,
          "total_dons": 2
         },
         {
          "Class": 2,
          "since_first_don": 9,
          "since_last_don": 4,
          "total_blood": 500,
          "total_dons": 2
         },
         {
          "Class": 1,
          "since_first_don": 2,
          "since_last_don": 2,
          "total_blood": 250,
          "total_dons": 1
         },
         {
          "Class": 1,
          "since_first_don": 23,
          "since_last_don": 23,
          "total_blood": 250,
          "total_dons": 1
         },
         {
          "Class": 1,
          "since_first_don": 45,
          "since_last_don": 16,
          "total_blood": 1000,
          "total_dons": 4
         },
         {
          "Class": 1,
          "since_first_don": 23,
          "since_last_don": 23,
          "total_blood": 250,
          "total_dons": 1
         },
         {
          "Class": 1,
          "since_first_don": 28,
          "since_last_don": 5,
          "total_blood": 1500,
          "total_dons": 6
         },
         {
          "Class": 1,
          "since_first_don": 61,
          "since_last_don": 4,
          "total_blood": 2750,
          "total_dons": 11
         },
         {
          "Class": 2,
          "since_first_don": 38,
          "since_last_don": 4,
          "total_blood": 2250,
          "total_dons": 9
         },
         {
          "Class": 1,
          "since_first_don": 40,
          "since_last_don": 4,
          "total_blood": 3500,
          "total_dons": 14
         },
         {
          "Class": 1,
          "since_first_don": 4,
          "since_last_don": 4,
          "total_blood": 250,
          "total_dons": 1
         },
         {
          "Class": 2,
          "since_first_don": 2,
          "since_last_don": 2,
          "total_blood": 250,
          "total_dons": 1
         },
         {
          "Class": 1,
          "since_first_don": 16,
          "since_last_don": 2,
          "total_blood": 1000,
          "total_dons": 4
         },
         {
          "Class": 1,
          "since_first_don": 24,
          "since_last_don": 11,
          "total_blood": 500,
          "total_dons": 2
         },
         {
          "Class": 1,
          "since_first_don": 35,
          "since_last_don": 4,
          "total_blood": 1500,
          "total_dons": 6
         },
         {
          "Class": 2,
          "since_first_don": 28,
          "since_last_don": 0,
          "total_blood": 3250,
          "total_dons": 13
         },
         {
          "Class": 1,
          "since_first_don": 77,
          "since_last_don": 2,
          "total_blood": 1750,
          "total_dons": 7
         },
         {
          "Class": 2,
          "since_first_don": 4,
          "since_last_don": 2,
          "total_blood": 750,
          "total_dons": 3
         },
         {
          "Class": 1,
          "since_first_don": 21,
          "since_last_don": 4,
          "total_blood": 2000,
          "total_dons": 8
         },
         {
          "Class": 1,
          "since_first_don": 16,
          "since_last_don": 16,
          "total_blood": 500,
          "total_dons": 2
         },
         {
          "Class": 1,
          "since_first_don": 40,
          "since_last_don": 14,
          "total_blood": 1000,
          "total_dons": 4
         },
         {
          "Class": 1,
          "since_first_don": 79,
          "since_last_don": 5,
          "total_blood": 6000,
          "total_dons": 24
         },
         {
          "Class": 1,
          "since_first_don": 11,
          "since_last_don": 11,
          "total_blood": 250,
          "total_dons": 1
         },
         {
          "Class": 1,
          "since_first_don": 35,
          "since_last_don": 21,
          "total_blood": 750,
          "total_dons": 3
         },
         {
          "Class": 1,
          "since_first_don": 16,
          "since_last_don": 2,
          "total_blood": 1000,
          "total_dons": 4
         },
         {
          "Class": 1,
          "since_first_don": 11,
          "since_last_don": 11,
          "total_blood": 250,
          "total_dons": 1
         },
         {
          "Class": 1,
          "since_first_don": 16,
          "since_last_don": 2,
          "total_blood": 1000,
          "total_dons": 4
         },
         {
          "Class": 2,
          "since_first_don": 40,
          "since_last_don": 16,
          "total_blood": 1250,
          "total_dons": 5
         },
         {
          "Class": 1,
          "since_first_don": 50,
          "since_last_don": 16,
          "total_blood": 3000,
          "total_dons": 12
         },
         {
          "Class": 1,
          "since_first_don": 14,
          "since_last_don": 14,
          "total_blood": 250,
          "total_dons": 1
         },
         {
          "Class": 1,
          "since_first_don": 64,
          "since_last_don": 35,
          "total_blood": 750,
          "total_dons": 3
         },
         {
          "Class": 1,
          "since_first_don": 47,
          "since_last_don": 14,
          "total_blood": 1750,
          "total_dons": 7
         },
         {
          "Class": 1,
          "since_first_don": 11,
          "since_last_don": 11,
          "total_blood": 250,
          "total_dons": 1
         },
         {
          "Class": 1,
          "since_first_don": 52,
          "since_last_don": 2,
          "total_blood": 3000,
          "total_dons": 12
         },
         {
          "Class": 1,
          "since_first_don": 78,
          "since_last_don": 14,
          "total_blood": 4500,
          "total_dons": 18
         },
         {
          "Class": 1,
          "since_first_don": 2,
          "since_last_don": 2,
          "total_blood": 250,
          "total_dons": 1
         },
         {
          "Class": 1,
          "since_first_don": 16,
          "since_last_don": 4,
          "total_blood": 1000,
          "total_dons": 4
         },
         {
          "Class": 1,
          "since_first_don": 25,
          "since_last_don": 21,
          "total_blood": 500,
          "total_dons": 2
         },
         {
          "Class": 1,
          "since_first_don": 41,
          "since_last_don": 21,
          "total_blood": 500,
          "total_dons": 2
         },
         {
          "Class": 1,
          "since_first_don": 39,
          "since_last_don": 12,
          "total_blood": 2750,
          "total_dons": 11
         },
         {
          "Class": 1,
          "since_first_don": 75,
          "since_last_don": 11,
          "total_blood": 1750,
          "total_dons": 7
         },
         {
          "Class": 1,
          "since_first_don": 72,
          "since_last_don": 11,
          "total_blood": 2000,
          "total_dons": 8
         },
         {
          "Class": 1,
          "since_first_don": 26,
          "since_last_don": 6,
          "total_blood": 750,
          "total_dons": 3
         },
         {
          "Class": 1,
          "since_first_don": 37,
          "since_last_don": 11,
          "total_blood": 750,
          "total_dons": 3
         },
         {
          "Class": 1,
          "since_first_don": 11,
          "since_last_don": 11,
          "total_blood": 250,
          "total_dons": 1
         },
         {
          "Class": 1,
          "since_first_don": 26,
          "since_last_don": 2,
          "total_blood": 1250,
          "total_dons": 5
         },
         {
          "Class": 1,
          "since_first_don": 45,
          "since_last_don": 23,
          "total_blood": 1000,
          "total_dons": 4
         },
         {
          "Class": 1,
          "since_first_don": 35,
          "since_last_don": 16,
          "total_blood": 750,
          "total_dons": 3
         },
         {
          "Class": 1,
          "since_first_don": 22,
          "since_last_don": 2,
          "total_blood": 500,
          "total_dons": 2
         },
         {
          "Class": 1,
          "since_first_don": 23,
          "since_last_don": 21,
          "total_blood": 500,
          "total_dons": 2
         },
         {
          "Class": 1,
          "since_first_don": 11,
          "since_last_don": 2,
          "total_blood": 500,
          "total_dons": 2
         },
         {
          "Class": 1,
          "since_first_don": 4,
          "since_last_don": 4,
          "total_blood": 250,
          "total_dons": 1
         },
         {
          "Class": 1,
          "since_first_don": 87,
          "since_last_don": 23,
          "total_blood": 500,
          "total_dons": 2
         },
         {
          "Class": 1,
          "since_first_don": 21,
          "since_last_don": 21,
          "total_blood": 250,
          "total_dons": 1
         },
         {
          "Class": 1,
          "since_first_don": 16,
          "since_last_don": 4,
          "total_blood": 750,
          "total_dons": 3
         },
         {
          "Class": 2,
          "since_first_don": 46,
          "since_last_don": 4,
          "total_blood": 2000,
          "total_dons": 8
         },
         {
          "Class": 1,
          "since_first_don": 78,
          "since_last_don": 4,
          "total_blood": 2750,
          "total_dons": 11
         },
         {
          "Class": 1,
          "since_first_don": 43,
          "since_last_don": 2,
          "total_blood": 1000,
          "total_dons": 4
         },
         {
          "Class": 1,
          "since_first_don": 21,
          "since_last_don": 14,
          "total_blood": 750,
          "total_dons": 3
         },
         {
          "Class": 1,
          "since_first_don": 86,
          "since_last_don": 7,
          "total_blood": 3000,
          "total_dons": 12
         },
         {
          "Class": 1,
          "since_first_don": 14,
          "since_last_don": 2,
          "total_blood": 750,
          "total_dons": 3
         },
         {
          "Class": 1,
          "since_first_don": 14,
          "since_last_don": 14,
          "total_blood": 250,
          "total_dons": 1
         },
         {
          "Class": 1,
          "since_first_don": 64,
          "since_last_don": 11,
          "total_blood": 1750,
          "total_dons": 7
         },
         {
          "Class": 1,
          "since_first_don": 50,
          "since_last_don": 25,
          "total_blood": 1500,
          "total_dons": 6
         },
         {
          "Class": 2,
          "since_first_don": 69,
          "since_last_don": 4,
          "total_blood": 5000,
          "total_dons": 20
         },
         {
          "Class": 1,
          "since_first_don": 41,
          "since_last_don": 14,
          "total_blood": 750,
          "total_dons": 3
         },
         {
          "Class": 1,
          "since_first_don": 2,
          "since_last_don": 2,
          "total_blood": 250,
          "total_dons": 1
         },
         {
          "Class": 2,
          "since_first_don": 42,
          "since_last_don": 3,
          "total_blood": 5250,
          "total_dons": 21
         },
         {
          "Class": 1,
          "since_first_don": 38,
          "since_last_don": 16,
          "total_blood": 1750,
          "total_dons": 7
         },
         {
          "Class": 1,
          "since_first_don": 21,
          "since_last_don": 16,
          "total_blood": 750,
          "total_dons": 3
         },
         {
          "Class": 1,
          "since_first_don": 2,
          "since_last_don": 2,
          "total_blood": 250,
          "total_dons": 1
         },
         {
          "Class": 1,
          "since_first_don": 98,
          "since_last_don": 2,
          "total_blood": 3000,
          "total_dons": 12
         },
         {
          "Class": 1,
          "since_first_don": 23,
          "since_last_don": 21,
          "total_blood": 500,
          "total_dons": 2
         },
         {
          "Class": 1,
          "since_first_don": 4,
          "since_last_don": 4,
          "total_blood": 250,
          "total_dons": 1
         },
         {
          "Class": 2,
          "since_first_don": 4,
          "since_last_don": 4,
          "total_blood": 250,
          "total_dons": 1
         },
         {
          "Class": 1,
          "since_first_don": 21,
          "since_last_don": 21,
          "total_blood": 250,
          "total_dons": 1
         },
         {
          "Class": 2,
          "since_first_don": 28,
          "since_last_don": 4,
          "total_blood": 2500,
          "total_dons": 10
         },
         {
          "Class": 1,
          "since_first_don": 33,
          "since_last_don": 2,
          "total_blood": 500,
          "total_dons": 2
         },
         {
          "Class": 1,
          "since_first_don": 41,
          "since_last_don": 4,
          "total_blood": 500,
          "total_dons": 2
         },
         {
          "Class": 2,
          "since_first_don": 11,
          "since_last_don": 2,
          "total_blood": 500,
          "total_dons": 2
         },
         {
          "Class": 1,
          "since_first_don": 37,
          "since_last_don": 2,
          "total_blood": 1250,
          "total_dons": 5
         },
         {
          "Class": 1,
          "since_first_don": 23,
          "since_last_don": 2,
          "total_blood": 1000,
          "total_dons": 4
         },
         {
          "Class": 1,
          "since_first_don": 16,
          "since_last_don": 13,
          "total_blood": 750,
          "total_dons": 3
         },
         {
          "Class": 1,
          "since_first_don": 52,
          "since_last_don": 4,
          "total_blood": 2250,
          "total_dons": 9
         },
         {
          "Class": 1,
          "since_first_don": 16,
          "since_last_don": 16,
          "total_blood": 250,
          "total_dons": 1
         },
         {
          "Class": 1,
          "since_first_don": 23,
          "since_last_don": 11,
          "total_blood": 750,
          "total_dons": 3
         },
         {
          "Class": 1,
          "since_first_don": 26,
          "since_last_don": 14,
          "total_blood": 750,
          "total_dons": 3
         },
         {
          "Class": 1,
          "since_first_don": 35,
          "since_last_don": 11,
          "total_blood": 1250,
          "total_dons": 5
         },
         {
          "Class": 1,
          "since_first_don": 16,
          "since_last_don": 16,
          "total_blood": 250,
          "total_dons": 1
         },
         {
          "Class": 1,
          "since_first_don": 58,
          "since_last_don": 4,
          "total_blood": 5750,
          "total_dons": 23
         },
         {
          "Class": 1,
          "since_first_don": 26,
          "since_last_don": 21,
          "total_blood": 500,
          "total_dons": 2
         },
         {
          "Class": 2,
          "since_first_don": 28,
          "since_last_don": 2,
          "total_blood": 1500,
          "total_dons": 6
         },
         {
          "Class": 1,
          "since_first_don": 75,
          "since_last_don": 2,
          "total_blood": 1500,
          "total_dons": 6
         },
         {
          "Class": 1,
          "since_first_don": 76,
          "since_last_don": 2,
          "total_blood": 1750,
          "total_dons": 7
         },
         {
          "Class": 1,
          "since_first_don": 61,
          "since_last_don": 11,
          "total_blood": 1000,
          "total_dons": 4
         },
         {
          "Class": 1,
          "since_first_don": 51,
          "since_last_don": 1,
          "total_blood": 2250,
          "total_dons": 9
         },
         {
          "Class": 1,
          "since_first_don": 14,
          "since_last_don": 2,
          "total_blood": 500,
          "total_dons": 2
         },
         {
          "Class": 1,
          "since_first_don": 75,
          "since_last_don": 2,
          "total_blood": 2250,
          "total_dons": 9
         },
         {
          "Class": 1,
          "since_first_don": 23,
          "since_last_don": 4,
          "total_blood": 1250,
          "total_dons": 5
         },
         {
          "Class": 1,
          "since_first_don": 16,
          "since_last_don": 14,
          "total_blood": 500,
          "total_dons": 2
         },
         {
          "Class": 1,
          "since_first_don": 60,
          "since_last_don": 12,
          "total_blood": 2250,
          "total_dons": 9
         },
         {
          "Class": 2,
          "since_first_don": 87,
          "since_last_don": 16,
          "total_blood": 1750,
          "total_dons": 7
         },
         {
          "Class": 2,
          "since_first_don": 77,
          "since_last_don": 2,
          "total_blood": 8500,
          "total_dons": 34
         },
         {
          "Class": 1,
          "since_first_don": 98,
          "since_last_don": 23,
          "total_blood": 9500,
          "total_dons": 38
         },
         {
          "Class": 1,
          "since_first_don": 45,
          "since_last_don": 14,
          "total_blood": 1750,
          "total_dons": 7
         },
         {
          "Class": 1,
          "since_first_don": 23,
          "since_last_don": 2,
          "total_blood": 2750,
          "total_dons": 11
         },
         {
          "Class": 1,
          "since_first_don": 76,
          "since_last_don": 11,
          "total_blood": 750,
          "total_dons": 3
         },
         {
          "Class": 2,
          "since_first_don": 22,
          "since_last_don": 14,
          "total_blood": 1000,
          "total_dons": 4
         },
         {
          "Class": 1,
          "since_first_don": 16,
          "since_last_don": 16,
          "total_blood": 250,
          "total_dons": 1
         },
         {
          "Class": 1,
          "since_first_don": 26,
          "since_last_don": 4,
          "total_blood": 1000,
          "total_dons": 4
         },
         {
          "Class": 1,
          "since_first_don": 52,
          "since_last_don": 11,
          "total_blood": 500,
          "total_dons": 2
         },
         {
          "Class": 1,
          "since_first_don": 2,
          "since_last_don": 2,
          "total_blood": 250,
          "total_dons": 1
         },
         {
          "Class": 1,
          "since_first_don": 21,
          "since_last_don": 21,
          "total_blood": 250,
          "total_dons": 1
         },
         {
          "Class": 1,
          "since_first_don": 4,
          "since_last_don": 4,
          "total_blood": 500,
          "total_dons": 2
         },
         {
          "Class": 1,
          "since_first_don": 16,
          "since_last_don": 16,
          "total_blood": 250,
          "total_dons": 1
         },
         {
          "Class": 2,
          "since_first_don": 11,
          "since_last_don": 2,
          "total_blood": 500,
          "total_dons": 2
         },
         {
          "Class": 1,
          "since_first_don": 79,
          "since_last_don": 14,
          "total_blood": 750,
          "total_dons": 3
         },
         {
          "Class": 1,
          "since_first_don": 98,
          "since_last_don": 2,
          "total_blood": 11000,
          "total_dons": 44
         },
         {
          "Class": 2,
          "since_first_don": 49,
          "since_last_don": 26,
          "total_blood": 1250,
          "total_dons": 5
         },
         {
          "Class": 1,
          "since_first_don": 23,
          "since_last_don": 16,
          "total_blood": 750,
          "total_dons": 3
         },
         {
          "Class": 1,
          "since_first_don": 30,
          "since_last_don": 4,
          "total_blood": 1500,
          "total_dons": 6
         },
         {
          "Class": 1,
          "since_first_don": 28,
          "since_last_don": 4,
          "total_blood": 1250,
          "total_dons": 5
         },
         {
          "Class": 1,
          "since_first_don": 28,
          "since_last_don": 14,
          "total_blood": 750,
          "total_dons": 3
         },
         {
          "Class": 2,
          "since_first_don": 98,
          "since_last_don": 4,
          "total_blood": 4000,
          "total_dons": 16
         },
         {
          "Class": 1,
          "since_first_don": 47,
          "since_last_don": 4,
          "total_blood": 1500,
          "total_dons": 6
         },
         {
          "Class": 2,
          "since_first_don": 4,
          "since_last_don": 4,
          "total_blood": 250,
          "total_dons": 1
         },
         {
          "Class": 1,
          "since_first_don": 54,
          "since_last_don": 9,
          "total_blood": 2250,
          "total_dons": 9
         },
         {
          "Class": 1,
          "since_first_don": 88,
          "since_last_don": 23,
          "total_blood": 1750,
          "total_dons": 7
         },
         {
          "Class": 1,
          "since_first_don": 11,
          "since_last_don": 11,
          "total_blood": 250,
          "total_dons": 1
         },
         {
          "Class": 1,
          "since_first_don": 23,
          "since_last_don": 23,
          "total_blood": 250,
          "total_dons": 1
         },
         {
          "Class": 2,
          "since_first_don": 38,
          "since_last_don": 4,
          "total_blood": 1500,
          "total_dons": 6
         },
         {
          "Class": 1,
          "since_first_don": 40,
          "since_last_don": 23,
          "total_blood": 750,
          "total_dons": 3
         },
         {
          "Class": 1,
          "since_first_don": 46,
          "since_last_don": 16,
          "total_blood": 750,
          "total_dons": 3
         },
         {
          "Class": 1,
          "since_first_don": 4,
          "since_last_don": 4,
          "total_blood": 250,
          "total_dons": 1
         },
         {
          "Class": 1,
          "since_first_don": 37,
          "since_last_don": 11,
          "total_blood": 1750,
          "total_dons": 7
         },
         {
          "Class": 1,
          "since_first_don": 28,
          "since_last_don": 23,
          "total_blood": 750,
          "total_dons": 3
         },
         {
          "Class": 1,
          "since_first_don": 45,
          "since_last_don": 23,
          "total_blood": 1500,
          "total_dons": 6
         },
         {
          "Class": 1,
          "since_first_don": 38,
          "since_last_don": 38,
          "total_blood": 250,
          "total_dons": 1
         },
         {
          "Class": 1,
          "since_first_don": 70,
          "since_last_don": 16,
          "total_blood": 500,
          "total_dons": 2
         },
         {
          "Class": 1,
          "since_first_don": 21,
          "since_last_don": 21,
          "total_blood": 250,
          "total_dons": 1
         },
         {
          "Class": 2,
          "since_first_don": 16,
          "since_last_don": 2,
          "total_blood": 1000,
          "total_dons": 4
         },
         {
          "Class": 2,
          "since_first_don": 28,
          "since_last_don": 4,
          "total_blood": 1500,
          "total_dons": 6
         },
         {
          "Class": 1,
          "since_first_don": 26,
          "since_last_don": 14,
          "total_blood": 1000,
          "total_dons": 4
         },
         {
          "Class": 1,
          "since_first_don": 26,
          "since_last_don": 11,
          "total_blood": 750,
          "total_dons": 3
         },
         {
          "Class": 1,
          "since_first_don": 74,
          "since_last_don": 3,
          "total_blood": 4000,
          "total_dons": 16
         },
         {
          "Class": 1,
          "since_first_don": 76,
          "since_last_don": 13,
          "total_blood": 1750,
          "total_dons": 7
         },
         {
          "Class": 1,
          "since_first_don": 16,
          "since_last_don": 2,
          "total_blood": 500,
          "total_dons": 2
         },
         {
          "Class": 2,
          "since_first_don": 22,
          "since_last_don": 2,
          "total_blood": 2250,
          "total_dons": 9
         },
         {
          "Class": 1,
          "since_first_don": 4,
          "since_last_don": 2,
          "total_blood": 500,
          "total_dons": 2
         },
         {
          "Class": 2,
          "since_first_don": 14,
          "since_last_don": 14,
          "total_blood": 500,
          "total_dons": 2
         },
         {
          "Class": 1,
          "since_first_don": 81,
          "since_last_don": 2,
          "total_blood": 4000,
          "total_dons": 16
         },
         {
          "Class": 1,
          "since_first_don": 41,
          "since_last_don": 23,
          "total_blood": 750,
          "total_dons": 3
         },
         {
          "Class": 1,
          "since_first_don": 57,
          "since_last_don": 14,
          "total_blood": 1000,
          "total_dons": 4
         },
         {
          "Class": 1,
          "since_first_don": 14,
          "since_last_don": 14,
          "total_blood": 250,
          "total_dons": 1
         },
         {
          "Class": 1,
          "since_first_don": 23,
          "since_last_don": 23,
          "total_blood": 250,
          "total_dons": 1
         },
         {
          "Class": 1,
          "since_first_don": 38,
          "since_last_don": 38,
          "total_blood": 250,
          "total_dons": 1
         },
         {
          "Class": 1,
          "since_first_don": 35,
          "since_last_don": 21,
          "total_blood": 750,
          "total_dons": 3
         },
         {
          "Class": 1,
          "since_first_don": 41,
          "since_last_don": 11,
          "total_blood": 1250,
          "total_dons": 5
         },
         {
          "Class": 1,
          "since_first_don": 71,
          "since_last_don": 11,
          "total_blood": 1500,
          "total_dons": 6
         },
         {
          "Class": 1,
          "since_first_don": 16,
          "since_last_don": 16,
          "total_blood": 250,
          "total_dons": 1
         },
         {
          "Class": 1,
          "since_first_don": 86,
          "since_last_don": 5,
          "total_blood": 3500,
          "total_dons": 14
         },
         {
          "Class": 1,
          "since_first_don": 4,
          "since_last_don": 4,
          "total_blood": 500,
          "total_dons": 2
         },
         {
          "Class": 2,
          "since_first_don": 50,
          "since_last_don": 14,
          "total_blood": 2000,
          "total_dons": 8
         },
         {
          "Class": 2,
          "since_first_don": 51,
          "since_last_don": 9,
          "total_blood": 1250,
          "total_dons": 5
         },
         {
          "Class": 1,
          "since_first_don": 29,
          "since_last_don": 2,
          "total_blood": 1750,
          "total_dons": 7
         },
         {
          "Class": 1,
          "since_first_don": 86,
          "since_last_don": 21,
          "total_blood": 1500,
          "total_dons": 6
         },
         {
          "Class": 1,
          "since_first_don": 72,
          "since_last_don": 14,
          "total_blood": 1750,
          "total_dons": 7
         },
         {
          "Class": 1,
          "since_first_don": 26,
          "since_last_don": 16,
          "total_blood": 500,
          "total_dons": 2
         },
         {
          "Class": 1,
          "since_first_don": 64,
          "since_last_don": 14,
          "total_blood": 1000,
          "total_dons": 4
         },
         {
          "Class": 1,
          "since_first_don": 14,
          "since_last_don": 14,
          "total_blood": 500,
          "total_dons": 2
         },
         {
          "Class": 1,
          "since_first_don": 21,
          "since_last_don": 21,
          "total_blood": 250,
          "total_dons": 1
         },
         {
          "Class": 1,
          "since_first_don": 28,
          "since_last_don": 14,
          "total_blood": 1250,
          "total_dons": 5
         },
         {
          "Class": 1,
          "since_first_don": 29,
          "since_last_don": 4,
          "total_blood": 500,
          "total_dons": 2
         },
         {
          "Class": 1,
          "since_first_don": 14,
          "since_last_don": 14,
          "total_blood": 250,
          "total_dons": 1
         },
         {
          "Class": 1,
          "since_first_don": 36,
          "since_last_don": 2,
          "total_blood": 2250,
          "total_dons": 9
         },
         {
          "Class": 1,
          "since_first_don": 4,
          "since_last_don": 4,
          "total_blood": 500,
          "total_dons": 2
         },
         {
          "Class": 1,
          "since_first_don": 64,
          "since_last_don": 2,
          "total_blood": 2500,
          "total_dons": 10
         },
         {
          "Class": 1,
          "since_first_don": 51,
          "since_last_don": 14,
          "total_blood": 1500,
          "total_dons": 6
         },
         {
          "Class": 2,
          "since_first_don": 48,
          "since_last_don": 2,
          "total_blood": 3500,
          "total_dons": 14
         },
         {
          "Class": 1,
          "since_first_don": 89,
          "since_last_don": 23,
          "total_blood": 750,
          "total_dons": 3
         },
         {
          "Class": 1,
          "since_first_don": 42,
          "since_last_don": 11,
          "total_blood": 2750,
          "total_dons": 11
         },
         {
          "Class": 1,
          "since_first_don": 23,
          "since_last_don": 23,
          "total_blood": 500,
          "total_dons": 2
         },
         {
          "Class": 1,
          "since_first_don": 63,
          "since_last_don": 2,
          "total_blood": 1250,
          "total_dons": 5
         },
         {
          "Class": 1,
          "since_first_don": 33,
          "since_last_don": 23,
          "total_blood": 1250,
          "total_dons": 5
         },
         {
          "Class": 2,
          "since_first_don": 4,
          "since_last_don": 2,
          "total_blood": 500,
          "total_dons": 2
         },
         {
          "Class": 1,
          "since_first_don": 93,
          "since_last_don": 23,
          "total_blood": 3500,
          "total_dons": 14
         },
         {
          "Class": 1,
          "since_first_don": 74,
          "since_last_don": 2,
          "total_blood": 2250,
          "total_dons": 9
         },
         {
          "Class": 1,
          "since_first_don": 29,
          "since_last_don": 11,
          "total_blood": 1750,
          "total_dons": 7
         },
         {
          "Class": 1,
          "since_first_don": 52,
          "since_last_don": 21,
          "total_blood": 1000,
          "total_dons": 4
         },
         {
          "Class": 2,
          "since_first_don": 15,
          "since_last_don": 2,
          "total_blood": 1500,
          "total_dons": 6
         },
         {
          "Class": 1,
          "since_first_don": 4,
          "since_last_don": 4,
          "total_blood": 500,
          "total_dons": 2
         },
         {
          "Class": 2,
          "since_first_don": 43,
          "since_last_don": 4,
          "total_blood": 1000,
          "total_dons": 4
         },
         {
          "Class": 1,
          "since_first_don": 23,
          "since_last_don": 2,
          "total_blood": 500,
          "total_dons": 2
         },
         {
          "Class": 2,
          "since_first_don": 4,
          "since_last_don": 4,
          "total_blood": 250,
          "total_dons": 1
         },
         {
          "Class": 1,
          "since_first_don": 58,
          "since_last_don": 12,
          "total_blood": 3000,
          "total_dons": 12
         },
         {
          "Class": 2,
          "since_first_don": 45,
          "since_last_don": 2,
          "total_blood": 5000,
          "total_dons": 20
         },
         {
          "Class": 1,
          "since_first_don": 28,
          "since_last_don": 16,
          "total_blood": 1000,
          "total_dons": 4
         },
         {
          "Class": 1,
          "since_first_don": 64,
          "since_last_don": 21,
          "total_blood": 750,
          "total_dons": 3
         },
         {
          "Class": 1,
          "since_first_don": 4,
          "since_last_don": 4,
          "total_blood": 250,
          "total_dons": 1
         },
         {
          "Class": 1,
          "since_first_don": 83,
          "since_last_don": 14,
          "total_blood": 750,
          "total_dons": 3
         },
         {
          "Class": 1,
          "since_first_don": 16,
          "since_last_don": 16,
          "total_blood": 500,
          "total_dons": 2
         },
         {
          "Class": 1,
          "since_first_don": 11,
          "since_last_don": 2,
          "total_blood": 500,
          "total_dons": 2
         },
         {
          "Class": 1,
          "since_first_don": 4,
          "since_last_don": 0,
          "total_blood": 500,
          "total_dons": 2
         },
         {
          "Class": 1,
          "since_first_don": 14,
          "since_last_don": 4,
          "total_blood": 1500,
          "total_dons": 6
         },
         {
          "Class": 1,
          "since_first_don": 58,
          "since_last_don": 11,
          "total_blood": 1500,
          "total_dons": 6
         },
         {
          "Class": 2,
          "since_first_don": 26,
          "since_last_don": 4,
          "total_blood": 2000,
          "total_dons": 8
         },
         {
          "Class": 1,
          "since_first_don": 34,
          "since_last_don": 14,
          "total_blood": 1500,
          "total_dons": 6
         },
         {
          "Class": 2,
          "since_first_don": 46,
          "since_last_don": 2,
          "total_blood": 2750,
          "total_dons": 11
         },
         {
          "Class": 1,
          "since_first_don": 35,
          "since_last_don": 3,
          "total_blood": 3500,
          "total_dons": 14
         },
         {
          "Class": 1,
          "since_first_don": 60,
          "since_last_don": 21,
          "total_blood": 1250,
          "total_dons": 5
         },
         {
          "Class": 2,
          "since_first_don": 16,
          "since_last_don": 4,
          "total_blood": 1250,
          "total_dons": 5
         },
         {
          "Class": 2,
          "since_first_don": 37,
          "since_last_don": 11,
          "total_blood": 1250,
          "total_dons": 5
         },
         {
          "Class": 1,
          "since_first_don": 35,
          "since_last_don": 14,
          "total_blood": 500,
          "total_dons": 2
         },
         {
          "Class": 2,
          "since_first_don": 26,
          "since_last_don": 2,
          "total_blood": 1500,
          "total_dons": 6
         },
         {
          "Class": 1,
          "since_first_don": 26,
          "since_last_don": 14,
          "total_blood": 750,
          "total_dons": 3
         },
         {
          "Class": 1,
          "since_first_don": 34,
          "since_last_don": 4,
          "total_blood": 1250,
          "total_dons": 5
         },
         {
          "Class": 1,
          "since_first_don": 18,
          "since_last_don": 4,
          "total_blood": 1000,
          "total_dons": 4
         },
         {
          "Class": 2,
          "since_first_don": 10,
          "since_last_don": 2,
          "total_blood": 500,
          "total_dons": 2
         },
         {
          "Class": 1,
          "since_first_don": 64,
          "since_last_don": 21,
          "total_blood": 4000,
          "total_dons": 16
         },
         {
          "Class": 1,
          "since_first_don": 11,
          "since_last_don": 9,
          "total_blood": 500,
          "total_dons": 2
         },
         {
          "Class": 1,
          "since_first_don": 35,
          "since_last_don": 2,
          "total_blood": 750,
          "total_dons": 3
         },
         {
          "Class": 1,
          "since_first_don": 58,
          "since_last_don": 11,
          "total_blood": 1000,
          "total_dons": 4
         },
         {
          "Class": 1,
          "since_first_don": 2,
          "since_last_don": 2,
          "total_blood": 250,
          "total_dons": 1
         },
         {
          "Class": 1,
          "since_first_don": 31,
          "since_last_don": 14,
          "total_blood": 750,
          "total_dons": 3
         },
         {
          "Class": 1,
          "since_first_don": 39,
          "since_last_don": 39,
          "total_blood": 250,
          "total_dons": 1
         },
         {
          "Class": 1,
          "since_first_don": 2,
          "since_last_don": 2,
          "total_blood": 250,
          "total_dons": 1
         },
         {
          "Class": 2,
          "since_first_don": 38,
          "since_last_don": 11,
          "total_blood": 500,
          "total_dons": 2
         },
         {
          "Class": 1,
          "since_first_don": 2,
          "since_last_don": 2,
          "total_blood": 250,
          "total_dons": 1
         },
         {
          "Class": 1,
          "since_first_don": 16,
          "since_last_don": 16,
          "total_blood": 250,
          "total_dons": 1
         },
         {
          "Class": 1,
          "since_first_don": 28,
          "since_last_don": 16,
          "total_blood": 1750,
          "total_dons": 7
         },
         {
          "Class": 1,
          "since_first_don": 23,
          "since_last_don": 23,
          "total_blood": 250,
          "total_dons": 1
         },
         {
          "Class": 1,
          "since_first_don": 14,
          "since_last_don": 6,
          "total_blood": 750,
          "total_dons": 3
         },
         {
          "Class": 1,
          "since_first_don": 40,
          "since_last_don": 16,
          "total_blood": 1000,
          "total_dons": 4
         },
         {
          "Class": 1,
          "since_first_don": 16,
          "since_last_don": 16,
          "total_blood": 250,
          "total_dons": 1
         },
         {
          "Class": 2,
          "since_first_don": 29,
          "since_last_don": 3,
          "total_blood": 1000,
          "total_dons": 4
         },
         {
          "Class": 1,
          "since_first_don": 52,
          "since_last_don": 23,
          "total_blood": 1000,
          "total_dons": 4
         },
         {
          "Class": 2,
          "since_first_don": 69,
          "since_last_don": 20,
          "total_blood": 3500,
          "total_dons": 14
         },
         {
          "Class": 1,
          "since_first_don": 2,
          "since_last_don": 2,
          "total_blood": 250,
          "total_dons": 1
         },
         {
          "Class": 2,
          "since_first_don": 23,
          "since_last_don": 14,
          "total_blood": 1000,
          "total_dons": 4
         },
         {
          "Class": 1,
          "since_first_don": 16,
          "since_last_don": 16,
          "total_blood": 250,
          "total_dons": 1
         },
         {
          "Class": 1,
          "since_first_don": 64,
          "since_last_don": 8,
          "total_blood": 2250,
          "total_dons": 9
         },
         {
          "Class": 1,
          "since_first_don": 4,
          "since_last_don": 4,
          "total_blood": 250,
          "total_dons": 1
         },
         {
          "Class": 1,
          "since_first_don": 26,
          "since_last_don": 9,
          "total_blood": 500,
          "total_dons": 2
         },
         {
          "Class": 2,
          "since_first_don": 26,
          "since_last_don": 4,
          "total_blood": 1000,
          "total_dons": 4
         },
         {
          "Class": 1,
          "since_first_don": 14,
          "since_last_don": 14,
          "total_blood": 250,
          "total_dons": 1
         },
         {
          "Class": 2,
          "since_first_don": 26,
          "since_last_don": 5,
          "total_blood": 1750,
          "total_dons": 7
         },
         {
          "Class": 1,
          "since_first_don": 19,
          "since_last_don": 2,
          "total_blood": 750,
          "total_dons": 3
         },
         {
          "Class": 2,
          "since_first_don": 16,
          "since_last_don": 11,
          "total_blood": 1000,
          "total_dons": 4
         },
         {
          "Class": 2,
          "since_first_don": 76,
          "since_last_don": 0,
          "total_blood": 6500,
          "total_dons": 26
         },
         {
          "Class": 1,
          "since_first_don": 50,
          "since_last_don": 3,
          "total_blood": 2000,
          "total_dons": 8
         },
         {
          "Class": 2,
          "since_first_don": 3,
          "since_last_don": 3,
          "total_blood": 250,
          "total_dons": 1
         },
         {
          "Class": 1,
          "since_first_don": 52,
          "since_last_don": 21,
          "total_blood": 500,
          "total_dons": 2
         },
         {
          "Class": 2,
          "since_first_don": 22,
          "since_last_don": 4,
          "total_blood": 1750,
          "total_dons": 7
         },
         {
          "Class": 1,
          "since_first_don": 30,
          "since_last_don": 14,
          "total_blood": 1000,
          "total_dons": 4
         },
         {
          "Class": 2,
          "since_first_don": 35,
          "since_last_don": 1,
          "total_blood": 4000,
          "total_dons": 16
         },
         {
          "Class": 1,
          "since_first_don": 38,
          "since_last_don": 21,
          "total_blood": 750,
          "total_dons": 3
         },
         {
          "Class": 1,
          "since_first_don": 25,
          "since_last_don": 4,
          "total_blood": 1750,
          "total_dons": 7
         },
         {
          "Class": 1,
          "since_first_don": 27,
          "since_last_don": 11,
          "total_blood": 1500,
          "total_dons": 6
         },
         {
          "Class": 1,
          "since_first_don": 4,
          "since_last_don": 4,
          "total_blood": 250,
          "total_dons": 1
         },
         {
          "Class": 1,
          "since_first_don": 23,
          "since_last_don": 21,
          "total_blood": 500,
          "total_dons": 2
         },
         {
          "Class": 2,
          "since_first_don": 16,
          "since_last_don": 11,
          "total_blood": 750,
          "total_dons": 3
         },
         {
          "Class": 1,
          "since_first_don": 34,
          "since_last_don": 9,
          "total_blood": 750,
          "total_dons": 3
         },
         {
          "Class": 1,
          "since_first_don": 16,
          "since_last_don": 16,
          "total_blood": 250,
          "total_dons": 1
         },
         {
          "Class": 1,
          "since_first_don": 46,
          "since_last_don": 4,
          "total_blood": 2250,
          "total_dons": 9
         },
         {
          "Class": 2,
          "since_first_don": 4,
          "since_last_don": 4,
          "total_blood": 250,
          "total_dons": 1
         },
         {
          "Class": 1,
          "since_first_don": 95,
          "since_last_don": 1,
          "total_blood": 3500,
          "total_dons": 14
         },
         {
          "Class": 1,
          "since_first_don": 4,
          "since_last_don": 2,
          "total_blood": 500,
          "total_dons": 2
         },
         {
          "Class": 1,
          "since_first_don": 2,
          "since_last_don": 2,
          "total_blood": 500,
          "total_dons": 2
         },
         {
          "Class": 1,
          "since_first_don": 27,
          "since_last_don": 11,
          "total_blood": 1000,
          "total_dons": 4
         },
         {
          "Class": 2,
          "since_first_don": 40,
          "since_last_don": 4,
          "total_blood": 2000,
          "total_dons": 8
         },
         {
          "Class": 1,
          "since_first_don": 86,
          "since_last_don": 3,
          "total_blood": 4250,
          "total_dons": 17
         },
         {
          "Class": 1,
          "since_first_don": 4,
          "since_last_don": 4,
          "total_blood": 250,
          "total_dons": 1
         },
         {
          "Class": 1,
          "since_first_don": 45,
          "since_last_don": 2,
          "total_blood": 1500,
          "total_dons": 6
         },
         {
          "Class": 2,
          "since_first_don": 33,
          "since_last_don": 2,
          "total_blood": 1250,
          "total_dons": 5
         },
         {
          "Class": 1,
          "since_first_don": 59,
          "since_last_don": 0,
          "total_blood": 2000,
          "total_dons": 8
         },
         {
          "Class": 1,
          "since_first_don": 38,
          "since_last_don": 3,
          "total_blood": 1250,
          "total_dons": 5
         },
         {
          "Class": 2,
          "since_first_don": 49,
          "since_last_don": 2,
          "total_blood": 3750,
          "total_dons": 15
         },
         {
          "Class": 1,
          "since_first_don": 86,
          "since_last_don": 16,
          "total_blood": 750,
          "total_dons": 3
         },
         {
          "Class": 2,
          "since_first_don": 14,
          "since_last_don": 4,
          "total_blood": 1000,
          "total_dons": 4
         },
         {
          "Class": 1,
          "since_first_don": 34,
          "since_last_don": 11,
          "total_blood": 1000,
          "total_dons": 4
         },
         {
          "Class": 1,
          "since_first_don": 14,
          "since_last_don": 14,
          "total_blood": 250,
          "total_dons": 1
         },
         {
          "Class": 2,
          "since_first_don": 21,
          "since_last_don": 14,
          "total_blood": 500,
          "total_dons": 2
         },
         {
          "Class": 2,
          "since_first_don": 4,
          "since_last_don": 4,
          "total_blood": 1000,
          "total_dons": 4
         }
        ]
       },
       "encoding": {
        "x": {
         "field": "total_blood",
         "type": "quantitative"
        },
        "y": {
         "aggregate": "count",
         "title": "Number of Donors",
         "type": "quantitative"
        }
       },
       "mark": "bar",
       "title": "Donor Monetary Distribution"
      },
      "image/png": "[encoded data removed]",
      "text/plain": [
       "<VegaLite 3 object>\n",
       "\n",
       "If you see this message, it means the renderer has not been properly enabled\n",
       "for the frontend that you are using. For more information, see\n",
       "https://altair-viz.github.io/user_guide/troubleshooting.html\n"
      ]
     },
     "execution_count": 22,
     "metadata": {},
     "output_type": "execute_result"
    }
   ],
   "source": [
    "alt.Chart(blood_df_train).mark_bar().encode(\n",
    "    alt.X(\"total_blood\"),\n",
    "    alt.Y(\"count()\", title = \"Number of Donors\"),\n",
    ").properties(title = \"Donor Monetary Distribution\")"
   ]
  },
  {
   "cell_type": "code",
   "execution_count": 25,
   "metadata": {},
   "outputs": [
    {
     "data": {
      "application/vnd.vegalite.v3+json": {
       "$schema": "https://vega.github.io/schema/vega-lite/v3.4.0.json",
       "config": {
        "mark": {
         "tooltip": null
        },
        "view": {
         "height": 300,
         "width": 400
        }
       },
       "data": {
        "name": "data-9f8fa43238d447b8286cb04f7cfdb9c3"
       },
       "datasets": {
        "data-9f8fa43238d447b8286cb04f7cfdb9c3": [
         {
          "Class": 1,
          "since_first_don": 58,
          "since_last_don": 8,
          "total_blood": 2250,
          "total_dons": 9
         },
         {
          "Class": 1,
          "since_first_don": 21,
          "since_last_don": 13,
          "total_blood": 1000,
          "total_dons": 4
         },
         {
          "Class": 1,
          "since_first_don": 39,
          "since_last_don": 4,
          "total_blood": 1500,
          "total_dons": 6
         },
         {
          "Class": 1,
          "since_first_don": 46,
          "since_last_don": 4,
          "total_blood": 1250,
          "total_dons": 5
         },
         {
          "Class": 1,
          "since_first_don": 21,
          "since_last_don": 3,
          "total_blood": 1500,
          "total_dons": 6
         },
         {
          "Class": 1,
          "since_first_don": 9,
          "since_last_don": 9,
          "total_blood": 250,
          "total_dons": 1
         },
         {
          "Class": 1,
          "since_first_don": 14,
          "since_last_don": 14,
          "total_blood": 500,
          "total_dons": 2
         },
         {
          "Class": 1,
          "since_first_don": 77,
          "since_last_don": 2,
          "total_blood": 1750,
          "total_dons": 7
         },
         {
          "Class": 1,
          "since_first_don": 41,
          "since_last_don": 2,
          "total_blood": 500,
          "total_dons": 2
         },
         {
          "Class": 1,
          "since_first_don": 52,
          "since_last_don": 9,
          "total_blood": 500,
          "total_dons": 2
         },
         {
          "Class": 1,
          "since_first_don": 23,
          "since_last_don": 23,
          "total_blood": 250,
          "total_dons": 1
         },
         {
          "Class": 1,
          "since_first_don": 58,
          "since_last_don": 16,
          "total_blood": 1000,
          "total_dons": 4
         },
         {
          "Class": 1,
          "since_first_don": 26,
          "since_last_don": 2,
          "total_blood": 1000,
          "total_dons": 4
         },
         {
          "Class": 2,
          "since_first_don": 4,
          "since_last_don": 4,
          "total_blood": 500,
          "total_dons": 2
         },
         {
          "Class": 1,
          "since_first_don": 35,
          "since_last_don": 23,
          "total_blood": 750,
          "total_dons": 3
         },
         {
          "Class": 2,
          "since_first_don": 2,
          "since_last_don": 2,
          "total_blood": 250,
          "total_dons": 1
         },
         {
          "Class": 1,
          "since_first_don": 65,
          "since_last_don": 9,
          "total_blood": 1000,
          "total_dons": 4
         },
         {
          "Class": 2,
          "since_first_don": 19,
          "since_last_don": 14,
          "total_blood": 750,
          "total_dons": 3
         },
         {
          "Class": 1,
          "since_first_don": 58,
          "since_last_don": 4,
          "total_blood": 1750,
          "total_dons": 7
         },
         {
          "Class": 1,
          "since_first_don": 64,
          "since_last_don": 2,
          "total_blood": 4000,
          "total_dons": 16
         },
         {
          "Class": 1,
          "since_first_don": 4,
          "since_last_don": 4,
          "total_blood": 250,
          "total_dons": 1
         },
         {
          "Class": 1,
          "since_first_don": 40,
          "since_last_don": 40,
          "total_blood": 250,
          "total_dons": 1
         },
         {
          "Class": 1,
          "since_first_don": 14,
          "since_last_don": 14,
          "total_blood": 500,
          "total_dons": 2
         },
         {
          "Class": 1,
          "since_first_don": 89,
          "since_last_don": 16,
          "total_blood": 2500,
          "total_dons": 10
         },
         {
          "Class": 1,
          "since_first_don": 70,
          "since_last_don": 23,
          "total_blood": 1500,
          "total_dons": 6
         },
         {
          "Class": 1,
          "since_first_don": 62,
          "since_last_don": 4,
          "total_blood": 1750,
          "total_dons": 7
         },
         {
          "Class": 1,
          "since_first_don": 52,
          "since_last_don": 4,
          "total_blood": 1500,
          "total_dons": 6
         },
         {
          "Class": 2,
          "since_first_don": 28,
          "since_last_don": 4,
          "total_blood": 2500,
          "total_dons": 10
         },
         {
          "Class": 1,
          "since_first_don": 74,
          "since_last_don": 11,
          "total_blood": 1000,
          "total_dons": 4
         },
         {
          "Class": 1,
          "since_first_don": 14,
          "since_last_don": 4,
          "total_blood": 500,
          "total_dons": 2
         },
         {
          "Class": 2,
          "since_first_don": 21,
          "since_last_don": 21,
          "total_blood": 500,
          "total_dons": 2
         },
         {
          "Class": 1,
          "since_first_don": 81,
          "since_last_don": 16,
          "total_blood": 1500,
          "total_dons": 6
         },
         {
          "Class": 1,
          "since_first_don": 28,
          "since_last_don": 11,
          "total_blood": 1000,
          "total_dons": 4
         },
         {
          "Class": 2,
          "since_first_don": 98,
          "since_last_don": 4,
          "total_blood": 8250,
          "total_dons": 33
         },
         {
          "Class": 1,
          "since_first_don": 72,
          "since_last_don": 72,
          "total_blood": 250,
          "total_dons": 1
         },
         {
          "Class": 2,
          "since_first_don": 32,
          "since_last_don": 2,
          "total_blood": 1750,
          "total_dons": 7
         },
         {
          "Class": 1,
          "since_first_don": 19,
          "since_last_don": 16,
          "total_blood": 750,
          "total_dons": 3
         },
         {
          "Class": 1,
          "since_first_don": 15,
          "since_last_don": 11,
          "total_blood": 750,
          "total_dons": 3
         },
         {
          "Class": 2,
          "since_first_don": 16,
          "since_last_don": 2,
          "total_blood": 750,
          "total_dons": 3
         },
         {
          "Class": 1,
          "since_first_don": 4,
          "since_last_don": 4,
          "total_blood": 250,
          "total_dons": 1
         },
         {
          "Class": 1,
          "since_first_don": 26,
          "since_last_don": 2,
          "total_blood": 1000,
          "total_dons": 4
         },
         {
          "Class": 1,
          "since_first_don": 4,
          "since_last_don": 4,
          "total_blood": 250,
          "total_dons": 1
         },
         {
          "Class": 2,
          "since_first_don": 86,
          "since_last_don": 2,
          "total_blood": 10750,
          "total_dons": 43
         },
         {
          "Class": 2,
          "since_first_don": 64,
          "since_last_don": 4,
          "total_blood": 2750,
          "total_dons": 11
         },
         {
          "Class": 2,
          "since_first_don": 23,
          "since_last_don": 4,
          "total_blood": 1500,
          "total_dons": 6
         },
         {
          "Class": 1,
          "since_first_don": 24,
          "since_last_don": 2,
          "total_blood": 750,
          "total_dons": 3
         },
         {
          "Class": 1,
          "since_first_don": 59,
          "since_last_don": 12,
          "total_blood": 3250,
          "total_dons": 13
         },
         {
          "Class": 1,
          "since_first_don": 71,
          "since_last_don": 12,
          "total_blood": 3750,
          "total_dons": 15
         },
         {
          "Class": 1,
          "since_first_don": 58,
          "since_last_don": 11,
          "total_blood": 3000,
          "total_dons": 12
         },
         {
          "Class": 1,
          "since_first_don": 11,
          "since_last_don": 2,
          "total_blood": 1000,
          "total_dons": 4
         },
         {
          "Class": 1,
          "since_first_don": 2,
          "since_last_don": 2,
          "total_blood": 250,
          "total_dons": 1
         },
         {
          "Class": 1,
          "since_first_don": 21,
          "since_last_don": 21,
          "total_blood": 500,
          "total_dons": 2
         },
         {
          "Class": 1,
          "since_first_don": 35,
          "since_last_don": 2,
          "total_blood": 1000,
          "total_dons": 4
         },
         {
          "Class": 2,
          "since_first_don": 25,
          "since_last_don": 4,
          "total_blood": 750,
          "total_dons": 3
         },
         {
          "Class": 1,
          "since_first_don": 16,
          "since_last_don": 10,
          "total_blood": 1000,
          "total_dons": 4
         },
         {
          "Class": 1,
          "since_first_don": 21,
          "since_last_don": 21,
          "total_blood": 250,
          "total_dons": 1
         },
         {
          "Class": 2,
          "since_first_don": 4,
          "since_last_don": 4,
          "total_blood": 500,
          "total_dons": 2
         },
         {
          "Class": 2,
          "since_first_don": 41,
          "since_last_don": 2,
          "total_blood": 1500,
          "total_dons": 6
         },
         {
          "Class": 2,
          "since_first_don": 53,
          "since_last_don": 2,
          "total_blood": 3250,
          "total_dons": 13
         },
         {
          "Class": 1,
          "since_first_don": 40,
          "since_last_don": 4,
          "total_blood": 2250,
          "total_dons": 9
         },
         {
          "Class": 2,
          "since_first_don": 23,
          "since_last_don": 23,
          "total_blood": 250,
          "total_dons": 1
         },
         {
          "Class": 1,
          "since_first_don": 64,
          "since_last_don": 2,
          "total_blood": 3750,
          "total_dons": 15
         },
         {
          "Class": 1,
          "since_first_don": 21,
          "since_last_don": 2,
          "total_blood": 750,
          "total_dons": 3
         },
         {
          "Class": 1,
          "since_first_don": 23,
          "since_last_don": 23,
          "total_blood": 500,
          "total_dons": 2
         },
         {
          "Class": 1,
          "since_first_don": 4,
          "since_last_don": 4,
          "total_blood": 250,
          "total_dons": 1
         },
         {
          "Class": 2,
          "since_first_don": 14,
          "since_last_don": 2,
          "total_blood": 1000,
          "total_dons": 4
         },
         {
          "Class": 1,
          "since_first_don": 11,
          "since_last_don": 2,
          "total_blood": 500,
          "total_dons": 2
         },
         {
          "Class": 1,
          "since_first_don": 28,
          "since_last_don": 11,
          "total_blood": 1500,
          "total_dons": 6
         },
         {
          "Class": 1,
          "since_first_don": 87,
          "since_last_don": 23,
          "total_blood": 1000,
          "total_dons": 4
         },
         {
          "Class": 2,
          "since_first_don": 28,
          "since_last_don": 2,
          "total_blood": 1500,
          "total_dons": 6
         },
         {
          "Class": 2,
          "since_first_don": 49,
          "since_last_don": 9,
          "total_blood": 2750,
          "total_dons": 11
         },
         {
          "Class": 1,
          "since_first_don": 33,
          "since_last_don": 23,
          "total_blood": 750,
          "total_dons": 3
         },
         {
          "Class": 1,
          "since_first_don": 2,
          "since_last_don": 2,
          "total_blood": 250,
          "total_dons": 1
         },
         {
          "Class": 2,
          "since_first_don": 4,
          "since_last_don": 2,
          "total_blood": 500,
          "total_dons": 2
         },
         {
          "Class": 1,
          "since_first_don": 70,
          "since_last_don": 14,
          "total_blood": 4000,
          "total_dons": 16
         },
         {
          "Class": 2,
          "since_first_don": 52,
          "since_last_don": 8,
          "total_blood": 2000,
          "total_dons": 8
         },
         {
          "Class": 2,
          "since_first_don": 34,
          "since_last_don": 4,
          "total_blood": 2000,
          "total_dons": 8
         },
         {
          "Class": 1,
          "since_first_don": 35,
          "since_last_don": 7,
          "total_blood": 1250,
          "total_dons": 5
         },
         {
          "Class": 1,
          "since_first_don": 58,
          "since_last_don": 4,
          "total_blood": 1250,
          "total_dons": 5
         },
         {
          "Class": 1,
          "since_first_don": 11,
          "since_last_don": 11,
          "total_blood": 250,
          "total_dons": 1
         },
         {
          "Class": 2,
          "since_first_don": 76,
          "since_last_don": 2,
          "total_blood": 3250,
          "total_dons": 13
         },
         {
          "Class": 1,
          "since_first_don": 52,
          "since_last_don": 4,
          "total_blood": 1750,
          "total_dons": 7
         },
         {
          "Class": 1,
          "since_first_don": 50,
          "since_last_don": 14,
          "total_blood": 1250,
          "total_dons": 5
         },
         {
          "Class": 1,
          "since_first_don": 50,
          "since_last_don": 14,
          "total_blood": 2000,
          "total_dons": 8
         },
         {
          "Class": 1,
          "since_first_don": 59,
          "since_last_don": 4,
          "total_blood": 500,
          "total_dons": 2
         },
         {
          "Class": 1,
          "since_first_don": 28,
          "since_last_don": 11,
          "total_blood": 750,
          "total_dons": 3
         },
         {
          "Class": 1,
          "since_first_don": 23,
          "since_last_don": 23,
          "total_blood": 250,
          "total_dons": 1
         },
         {
          "Class": 1,
          "since_first_don": 58,
          "since_last_don": 23,
          "total_blood": 1250,
          "total_dons": 5
         },
         {
          "Class": 2,
          "since_first_don": 26,
          "since_last_don": 4,
          "total_blood": 1250,
          "total_dons": 5
         },
         {
          "Class": 2,
          "since_first_don": 98,
          "since_last_don": 2,
          "total_blood": 10250,
          "total_dons": 41
         },
         {
          "Class": 1,
          "since_first_don": 58,
          "since_last_don": 4,
          "total_blood": 1250,
          "total_dons": 5
         },
         {
          "Class": 1,
          "since_first_don": 14,
          "since_last_don": 14,
          "total_blood": 500,
          "total_dons": 2
         },
         {
          "Class": 2,
          "since_first_don": 16,
          "since_last_don": 2,
          "total_blood": 1500,
          "total_dons": 6
         },
         {
          "Class": 1,
          "since_first_don": 76,
          "since_last_don": 11,
          "total_blood": 750,
          "total_dons": 3
         },
         {
          "Class": 2,
          "since_first_don": 16,
          "since_last_don": 4,
          "total_blood": 750,
          "total_dons": 3
         },
         {
          "Class": 1,
          "since_first_don": 70,
          "since_last_don": 11,
          "total_blood": 500,
          "total_dons": 2
         },
         {
          "Class": 1,
          "since_first_don": 11,
          "since_last_don": 11,
          "total_blood": 500,
          "total_dons": 2
         },
         {
          "Class": 2,
          "since_first_don": 38,
          "since_last_don": 4,
          "total_blood": 4000,
          "total_dons": 16
         },
         {
          "Class": 1,
          "since_first_don": 11,
          "since_last_don": 11,
          "total_blood": 500,
          "total_dons": 2
         },
         {
          "Class": 1,
          "since_first_don": 29,
          "since_last_don": 14,
          "total_blood": 500,
          "total_dons": 2
         },
         {
          "Class": 1,
          "since_first_don": 23,
          "since_last_don": 3,
          "total_blood": 500,
          "total_dons": 2
         },
         {
          "Class": 1,
          "since_first_don": 52,
          "since_last_don": 4,
          "total_blood": 500,
          "total_dons": 2
         },
         {
          "Class": 1,
          "since_first_don": 16,
          "since_last_don": 4,
          "total_blood": 750,
          "total_dons": 3
         },
         {
          "Class": 1,
          "since_first_don": 71,
          "since_last_don": 4,
          "total_blood": 750,
          "total_dons": 3
         },
         {
          "Class": 1,
          "since_first_don": 35,
          "since_last_don": 14,
          "total_blood": 750,
          "total_dons": 3
         },
         {
          "Class": 2,
          "since_first_don": 35,
          "since_last_don": 16,
          "total_blood": 1500,
          "total_dons": 6
         },
         {
          "Class": 1,
          "since_first_don": 35,
          "since_last_don": 14,
          "total_blood": 1750,
          "total_dons": 7
         },
         {
          "Class": 2,
          "since_first_don": 28,
          "since_last_don": 4,
          "total_blood": 2250,
          "total_dons": 9
         },
         {
          "Class": 1,
          "since_first_don": 16,
          "since_last_don": 16,
          "total_blood": 250,
          "total_dons": 1
         },
         {
          "Class": 1,
          "since_first_don": 23,
          "since_last_don": 23,
          "total_blood": 250,
          "total_dons": 1
         },
         {
          "Class": 1,
          "since_first_don": 52,
          "since_last_don": 2,
          "total_blood": 2500,
          "total_dons": 10
         },
         {
          "Class": 1,
          "since_first_don": 31,
          "since_last_don": 4,
          "total_blood": 500,
          "total_dons": 2
         },
         {
          "Class": 1,
          "since_first_don": 14,
          "since_last_don": 4,
          "total_blood": 1500,
          "total_dons": 6
         },
         {
          "Class": 2,
          "since_first_don": 16,
          "since_last_don": 4,
          "total_blood": 1250,
          "total_dons": 5
         },
         {
          "Class": 2,
          "since_first_don": 35,
          "since_last_don": 4,
          "total_blood": 1500,
          "total_dons": 6
         },
         {
          "Class": 1,
          "since_first_don": 21,
          "since_last_don": 21,
          "total_blood": 250,
          "total_dons": 1
         },
         {
          "Class": 2,
          "since_first_don": 26,
          "since_last_don": 4,
          "total_blood": 2250,
          "total_dons": 9
         },
         {
          "Class": 1,
          "since_first_don": 76,
          "since_last_don": 16,
          "total_blood": 2000,
          "total_dons": 8
         },
         {
          "Class": 1,
          "since_first_don": 38,
          "since_last_don": 11,
          "total_blood": 1250,
          "total_dons": 5
         },
         {
          "Class": 1,
          "since_first_don": 57,
          "since_last_don": 1,
          "total_blood": 1750,
          "total_dons": 7
         },
         {
          "Class": 2,
          "since_first_don": 11,
          "since_last_don": 2,
          "total_blood": 1250,
          "total_dons": 5
         },
         {
          "Class": 1,
          "since_first_don": 35,
          "since_last_don": 16,
          "total_blood": 1500,
          "total_dons": 6
         },
         {
          "Class": 2,
          "since_first_don": 16,
          "since_last_don": 2,
          "total_blood": 1250,
          "total_dons": 5
         },
         {
          "Class": 1,
          "since_first_don": 11,
          "since_last_don": 11,
          "total_blood": 250,
          "total_dons": 1
         },
         {
          "Class": 1,
          "since_first_don": 2,
          "since_last_don": 2,
          "total_blood": 250,
          "total_dons": 1
         },
         {
          "Class": 1,
          "since_first_don": 48,
          "since_last_don": 11,
          "total_blood": 2000,
          "total_dons": 8
         },
         {
          "Class": 1,
          "since_first_don": 41,
          "since_last_don": 11,
          "total_blood": 1500,
          "total_dons": 6
         },
         {
          "Class": 1,
          "since_first_don": 48,
          "since_last_don": 7,
          "total_blood": 3500,
          "total_dons": 14
         },
         {
          "Class": 1,
          "since_first_don": 4,
          "since_last_don": 4,
          "total_blood": 500,
          "total_dons": 2
         },
         {
          "Class": 1,
          "since_first_don": 98,
          "since_last_don": 14,
          "total_blood": 4000,
          "total_dons": 16
         },
         {
          "Class": 1,
          "since_first_don": 52,
          "since_last_don": 14,
          "total_blood": 750,
          "total_dons": 3
         },
         {
          "Class": 1,
          "since_first_don": 17,
          "since_last_don": 11,
          "total_blood": 500,
          "total_dons": 2
         },
         {
          "Class": 2,
          "since_first_don": 2,
          "since_last_don": 2,
          "total_blood": 250,
          "total_dons": 1
         },
         {
          "Class": 2,
          "since_first_don": 46,
          "since_last_don": 2,
          "total_blood": 1750,
          "total_dons": 7
         },
         {
          "Class": 1,
          "since_first_don": 23,
          "since_last_don": 23,
          "total_blood": 250,
          "total_dons": 1
         },
         {
          "Class": 1,
          "since_first_don": 23,
          "since_last_don": 23,
          "total_blood": 250,
          "total_dons": 1
         },
         {
          "Class": 2,
          "since_first_don": 32,
          "since_last_don": 2,
          "total_blood": 3250,
          "total_dons": 13
         },
         {
          "Class": 1,
          "since_first_don": 89,
          "since_last_don": 7,
          "total_blood": 2750,
          "total_dons": 11
         },
         {
          "Class": 2,
          "since_first_don": 15,
          "since_last_don": 2,
          "total_blood": 1500,
          "total_dons": 6
         },
         {
          "Class": 2,
          "since_first_don": 16,
          "since_last_don": 2,
          "total_blood": 1500,
          "total_dons": 6
         },
         {
          "Class": 1,
          "since_first_don": 57,
          "since_last_don": 14,
          "total_blood": 3250,
          "total_dons": 13
         },
         {
          "Class": 1,
          "since_first_don": 58,
          "since_last_don": 1,
          "total_blood": 3500,
          "total_dons": 14
         },
         {
          "Class": 1,
          "since_first_don": 46,
          "since_last_don": 14,
          "total_blood": 2000,
          "total_dons": 8
         },
         {
          "Class": 2,
          "since_first_don": 98,
          "since_last_don": 2,
          "total_blood": 12500,
          "total_dons": 50
         },
         {
          "Class": 2,
          "since_first_don": 71,
          "since_last_don": 4,
          "total_blood": 4250,
          "total_dons": 17
         },
         {
          "Class": 1,
          "since_first_don": 33,
          "since_last_don": 14,
          "total_blood": 750,
          "total_dons": 3
         },
         {
          "Class": 1,
          "since_first_don": 64,
          "since_last_don": 16,
          "total_blood": 1750,
          "total_dons": 7
         },
         {
          "Class": 2,
          "since_first_don": 34,
          "since_last_don": 4,
          "total_blood": 1000,
          "total_dons": 4
         },
         {
          "Class": 1,
          "since_first_don": 26,
          "since_last_don": 21,
          "total_blood": 750,
          "total_dons": 3
         },
         {
          "Class": 1,
          "since_first_don": 64,
          "since_last_don": 11,
          "total_blood": 6000,
          "total_dons": 24
         },
         {
          "Class": 1,
          "since_first_don": 26,
          "since_last_don": 14,
          "total_blood": 2000,
          "total_dons": 8
         },
         {
          "Class": 2,
          "since_first_don": 41,
          "since_last_don": 2,
          "total_blood": 2750,
          "total_dons": 11
         },
         {
          "Class": 2,
          "since_first_don": 72,
          "since_last_don": 11,
          "total_blood": 2250,
          "total_dons": 9
         },
         {
          "Class": 1,
          "since_first_don": 21,
          "since_last_don": 21,
          "total_blood": 250,
          "total_dons": 1
         },
         {
          "Class": 1,
          "since_first_don": 16,
          "since_last_don": 9,
          "total_blood": 2250,
          "total_dons": 9
         },
         {
          "Class": 1,
          "since_first_don": 23,
          "since_last_don": 23,
          "total_blood": 250,
          "total_dons": 1
         },
         {
          "Class": 1,
          "since_first_don": 45,
          "since_last_don": 9,
          "total_blood": 2250,
          "total_dons": 9
         },
         {
          "Class": 1,
          "since_first_don": 26,
          "since_last_don": 11,
          "total_blood": 1500,
          "total_dons": 6
         },
         {
          "Class": 2,
          "since_first_don": 11,
          "since_last_don": 11,
          "total_blood": 250,
          "total_dons": 1
         },
         {
          "Class": 1,
          "since_first_don": 26,
          "since_last_don": 14,
          "total_blood": 1000,
          "total_dons": 4
         },
         {
          "Class": 1,
          "since_first_don": 11,
          "since_last_don": 2,
          "total_blood": 500,
          "total_dons": 2
         },
         {
          "Class": 1,
          "since_first_don": 14,
          "since_last_don": 14,
          "total_blood": 250,
          "total_dons": 1
         },
         {
          "Class": 1,
          "since_first_don": 16,
          "since_last_don": 11,
          "total_blood": 500,
          "total_dons": 2
         },
         {
          "Class": 1,
          "since_first_don": 16,
          "since_last_don": 16,
          "total_blood": 250,
          "total_dons": 1
         },
         {
          "Class": 1,
          "since_first_don": 40,
          "since_last_don": 21,
          "total_blood": 750,
          "total_dons": 3
         },
         {
          "Class": 1,
          "since_first_don": 58,
          "since_last_don": 4,
          "total_blood": 1250,
          "total_dons": 5
         },
         {
          "Class": 1,
          "since_first_don": 4,
          "since_last_don": 4,
          "total_blood": 250,
          "total_dons": 1
         },
         {
          "Class": 1,
          "since_first_don": 82,
          "since_last_don": 15,
          "total_blood": 4000,
          "total_dons": 16
         },
         {
          "Class": 1,
          "since_first_don": 14,
          "since_last_don": 14,
          "total_blood": 1250,
          "total_dons": 5
         },
         {
          "Class": 1,
          "since_first_don": 23,
          "since_last_don": 16,
          "total_blood": 1000,
          "total_dons": 4
         },
         {
          "Class": 1,
          "since_first_don": 70,
          "since_last_don": 2,
          "total_blood": 1000,
          "total_dons": 4
         },
         {
          "Class": 1,
          "since_first_don": 86,
          "since_last_don": 23,
          "total_blood": 3000,
          "total_dons": 12
         },
         {
          "Class": 1,
          "since_first_don": 14,
          "since_last_don": 14,
          "total_blood": 250,
          "total_dons": 1
         },
         {
          "Class": 1,
          "since_first_don": 26,
          "since_last_don": 14,
          "total_blood": 1250,
          "total_dons": 5
         },
         {
          "Class": 1,
          "since_first_don": 27,
          "since_last_don": 16,
          "total_blood": 1250,
          "total_dons": 5
         },
         {
          "Class": 2,
          "since_first_don": 11,
          "since_last_don": 2,
          "total_blood": 500,
          "total_dons": 2
         },
         {
          "Class": 1,
          "since_first_don": 9,
          "since_last_don": 4,
          "total_blood": 500,
          "total_dons": 2
         },
         {
          "Class": 1,
          "since_first_don": 39,
          "since_last_don": 16,
          "total_blood": 1750,
          "total_dons": 7
         },
         {
          "Class": 1,
          "since_first_don": 70,
          "since_last_don": 6,
          "total_blood": 4250,
          "total_dons": 17
         },
         {
          "Class": 1,
          "since_first_don": 93,
          "since_last_don": 16,
          "total_blood": 1750,
          "total_dons": 7
         },
         {
          "Class": 1,
          "since_first_don": 82,
          "since_last_don": 2,
          "total_blood": 3000,
          "total_dons": 12
         },
         {
          "Class": 1,
          "since_first_don": 26,
          "since_last_don": 14,
          "total_blood": 1750,
          "total_dons": 7
         },
         {
          "Class": 1,
          "since_first_don": 11,
          "since_last_don": 11,
          "total_blood": 250,
          "total_dons": 1
         },
         {
          "Class": 1,
          "since_first_don": 57,
          "since_last_don": 21,
          "total_blood": 3250,
          "total_dons": 13
         },
         {
          "Class": 1,
          "since_first_don": 2,
          "since_last_don": 2,
          "total_blood": 500,
          "total_dons": 2
         },
         {
          "Class": 2,
          "since_first_don": 79,
          "since_last_don": 11,
          "total_blood": 4250,
          "total_dons": 17
         },
         {
          "Class": 1,
          "since_first_don": 14,
          "since_last_don": 14,
          "total_blood": 500,
          "total_dons": 2
         },
         {
          "Class": 1,
          "since_first_don": 74,
          "since_last_don": 74,
          "total_blood": 250,
          "total_dons": 1
         },
         {
          "Class": 1,
          "since_first_don": 22,
          "since_last_don": 2,
          "total_blood": 750,
          "total_dons": 3
         },
         {
          "Class": 1,
          "since_first_don": 58,
          "since_last_don": 4,
          "total_blood": 1750,
          "total_dons": 7
         },
         {
          "Class": 1,
          "since_first_don": 2,
          "since_last_don": 2,
          "total_blood": 250,
          "total_dons": 1
         },
         {
          "Class": 2,
          "since_first_don": 4,
          "since_last_don": 4,
          "total_blood": 250,
          "total_dons": 1
         },
         {
          "Class": 2,
          "since_first_don": 12,
          "since_last_don": 3,
          "total_blood": 1250,
          "total_dons": 5
         },
         {
          "Class": 1,
          "since_first_don": 2,
          "since_last_don": 2,
          "total_blood": 250,
          "total_dons": 1
         },
         {
          "Class": 1,
          "since_first_don": 89,
          "since_last_don": 11,
          "total_blood": 4000,
          "total_dons": 16
         },
         {
          "Class": 1,
          "since_first_don": 33,
          "since_last_don": 15,
          "total_blood": 1250,
          "total_dons": 5
         },
         {
          "Class": 1,
          "since_first_don": 14,
          "since_last_don": 14,
          "total_blood": 500,
          "total_dons": 2
         },
         {
          "Class": 1,
          "since_first_don": 95,
          "since_last_don": 4,
          "total_blood": 2750,
          "total_dons": 11
         },
         {
          "Class": 1,
          "since_first_don": 30,
          "since_last_don": 4,
          "total_blood": 500,
          "total_dons": 2
         },
         {
          "Class": 1,
          "since_first_don": 14,
          "since_last_don": 14,
          "total_blood": 500,
          "total_dons": 2
         },
         {
          "Class": 2,
          "since_first_don": 28,
          "since_last_don": 4,
          "total_blood": 2500,
          "total_dons": 10
         },
         {
          "Class": 1,
          "since_first_don": 83,
          "since_last_don": 16,
          "total_blood": 3500,
          "total_dons": 14
         },
         {
          "Class": 1,
          "since_first_don": 38,
          "since_last_don": 11,
          "total_blood": 2250,
          "total_dons": 9
         },
         {
          "Class": 1,
          "since_first_don": 34,
          "since_last_don": 2,
          "total_blood": 1250,
          "total_dons": 5
         },
         {
          "Class": 1,
          "since_first_don": 35,
          "since_last_don": 11,
          "total_blood": 2500,
          "total_dons": 10
         },
         {
          "Class": 1,
          "since_first_don": 33,
          "since_last_don": 21,
          "total_blood": 500,
          "total_dons": 2
         },
         {
          "Class": 1,
          "since_first_don": 14,
          "since_last_don": 14,
          "total_blood": 250,
          "total_dons": 1
         },
         {
          "Class": 1,
          "since_first_don": 63,
          "since_last_don": 8,
          "total_blood": 2500,
          "total_dons": 10
         },
         {
          "Class": 2,
          "since_first_don": 23,
          "since_last_don": 4,
          "total_blood": 1250,
          "total_dons": 5
         },
         {
          "Class": 1,
          "since_first_don": 28,
          "since_last_don": 4,
          "total_blood": 1750,
          "total_dons": 7
         },
         {
          "Class": 1,
          "since_first_don": 14,
          "since_last_don": 14,
          "total_blood": 250,
          "total_dons": 1
         },
         {
          "Class": 2,
          "since_first_don": 4,
          "since_last_don": 2,
          "total_blood": 750,
          "total_dons": 3
         },
         {
          "Class": 1,
          "since_first_don": 58,
          "since_last_don": 4,
          "total_blood": 1250,
          "total_dons": 5
         },
         {
          "Class": 2,
          "since_first_don": 4,
          "since_last_don": 4,
          "total_blood": 250,
          "total_dons": 1
         },
         {
          "Class": 2,
          "since_first_don": 11,
          "since_last_don": 4,
          "total_blood": 1250,
          "total_dons": 5
         },
         {
          "Class": 1,
          "since_first_don": 34,
          "since_last_don": 4,
          "total_blood": 750,
          "total_dons": 3
         },
         {
          "Class": 1,
          "since_first_don": 4,
          "since_last_don": 4,
          "total_blood": 250,
          "total_dons": 1
         },
         {
          "Class": 1,
          "since_first_don": 33,
          "since_last_don": 11,
          "total_blood": 1250,
          "total_dons": 5
         },
         {
          "Class": 2,
          "since_first_don": 40,
          "since_last_don": 11,
          "total_blood": 750,
          "total_dons": 3
         },
         {
          "Class": 1,
          "since_first_don": 28,
          "since_last_don": 16,
          "total_blood": 2000,
          "total_dons": 8
         },
         {
          "Class": 1,
          "since_first_don": 26,
          "since_last_don": 13,
          "total_blood": 2000,
          "total_dons": 8
         },
         {
          "Class": 1,
          "since_first_don": 21,
          "since_last_don": 21,
          "total_blood": 250,
          "total_dons": 1
         },
         {
          "Class": 1,
          "since_first_don": 86,
          "since_last_don": 4,
          "total_blood": 3500,
          "total_dons": 14
         },
         {
          "Class": 1,
          "since_first_don": 4,
          "since_last_don": 4,
          "total_blood": 250,
          "total_dons": 1
         },
         {
          "Class": 1,
          "since_first_don": 62,
          "since_last_don": 16,
          "total_blood": 2500,
          "total_dons": 10
         },
         {
          "Class": 2,
          "since_first_don": 35,
          "since_last_don": 2,
          "total_blood": 1750,
          "total_dons": 7
         },
         {
          "Class": 1,
          "since_first_don": 4,
          "since_last_don": 4,
          "total_blood": 250,
          "total_dons": 1
         },
         {
          "Class": 1,
          "since_first_don": 52,
          "since_last_don": 4,
          "total_blood": 1750,
          "total_dons": 7
         },
         {
          "Class": 2,
          "since_first_don": 28,
          "since_last_don": 6,
          "total_blood": 5500,
          "total_dons": 22
         },
         {
          "Class": 1,
          "since_first_don": 38,
          "since_last_don": 21,
          "total_blood": 1750,
          "total_dons": 7
         },
         {
          "Class": 1,
          "since_first_don": 75,
          "since_last_don": 5,
          "total_blood": 2750,
          "total_dons": 11
         },
         {
          "Class": 1,
          "since_first_don": 46,
          "since_last_don": 4,
          "total_blood": 1500,
          "total_dons": 6
         },
         {
          "Class": 1,
          "since_first_don": 38,
          "since_last_don": 10,
          "total_blood": 1250,
          "total_dons": 5
         },
         {
          "Class": 2,
          "since_first_don": 70,
          "since_last_don": 4,
          "total_blood": 4000,
          "total_dons": 16
         },
         {
          "Class": 2,
          "since_first_don": 34,
          "since_last_don": 4,
          "total_blood": 3000,
          "total_dons": 12
         },
         {
          "Class": 1,
          "since_first_don": 16,
          "since_last_don": 16,
          "total_blood": 250,
          "total_dons": 1
         },
         {
          "Class": 1,
          "since_first_don": 4,
          "since_last_don": 4,
          "total_blood": 250,
          "total_dons": 1
         },
         {
          "Class": 1,
          "since_first_don": 11,
          "since_last_don": 11,
          "total_blood": 500,
          "total_dons": 2
         },
         {
          "Class": 2,
          "since_first_don": 35,
          "since_last_don": 4,
          "total_blood": 1250,
          "total_dons": 5
         },
         {
          "Class": 1,
          "since_first_don": 2,
          "since_last_don": 2,
          "total_blood": 250,
          "total_dons": 1
         },
         {
          "Class": 1,
          "since_first_don": 16,
          "since_last_don": 16,
          "total_blood": 250,
          "total_dons": 1
         },
         {
          "Class": 1,
          "since_first_don": 16,
          "since_last_don": 2,
          "total_blood": 1000,
          "total_dons": 4
         },
         {
          "Class": 2,
          "since_first_don": 16,
          "since_last_don": 9,
          "total_blood": 500,
          "total_dons": 2
         },
         {
          "Class": 1,
          "since_first_don": 4,
          "since_last_don": 4,
          "total_blood": 250,
          "total_dons": 1
         },
         {
          "Class": 1,
          "since_first_don": 2,
          "since_last_don": 2,
          "total_blood": 250,
          "total_dons": 1
         },
         {
          "Class": 1,
          "since_first_don": 21,
          "since_last_don": 21,
          "total_blood": 250,
          "total_dons": 1
         },
         {
          "Class": 1,
          "since_first_don": 28,
          "since_last_don": 4,
          "total_blood": 2750,
          "total_dons": 11
         },
         {
          "Class": 1,
          "since_first_don": 21,
          "since_last_don": 21,
          "total_blood": 250,
          "total_dons": 1
         },
         {
          "Class": 1,
          "since_first_don": 35,
          "since_last_don": 4,
          "total_blood": 1500,
          "total_dons": 6
         },
         {
          "Class": 1,
          "since_first_don": 64,
          "since_last_don": 14,
          "total_blood": 1250,
          "total_dons": 5
         },
         {
          "Class": 1,
          "since_first_don": 21,
          "since_last_don": 21,
          "total_blood": 250,
          "total_dons": 1
         },
         {
          "Class": 1,
          "since_first_don": 26,
          "since_last_don": 11,
          "total_blood": 500,
          "total_dons": 2
         },
         {
          "Class": 2,
          "since_first_don": 21,
          "since_last_don": 16,
          "total_blood": 750,
          "total_dons": 3
         },
         {
          "Class": 1,
          "since_first_don": 28,
          "since_last_don": 4,
          "total_blood": 2250,
          "total_dons": 9
         },
         {
          "Class": 1,
          "since_first_don": 4,
          "since_last_don": 4,
          "total_blood": 250,
          "total_dons": 1
         },
         {
          "Class": 1,
          "since_first_don": 39,
          "since_last_don": 10,
          "total_blood": 2000,
          "total_dons": 8
         },
         {
          "Class": 1,
          "since_first_don": 4,
          "since_last_don": 4,
          "total_blood": 250,
          "total_dons": 1
         },
         {
          "Class": 1,
          "since_first_don": 14,
          "since_last_don": 2,
          "total_blood": 500,
          "total_dons": 2
         },
         {
          "Class": 2,
          "since_first_don": 28,
          "since_last_don": 14,
          "total_blood": 1250,
          "total_dons": 5
         },
         {
          "Class": 2,
          "since_first_don": 4,
          "since_last_don": 4,
          "total_blood": 250,
          "total_dons": 1
         },
         {
          "Class": 1,
          "since_first_don": 2,
          "since_last_don": 2,
          "total_blood": 250,
          "total_dons": 1
         },
         {
          "Class": 2,
          "since_first_don": 39,
          "since_last_don": 4,
          "total_blood": 3250,
          "total_dons": 13
         },
         {
          "Class": 1,
          "since_first_don": 57,
          "since_last_don": 23,
          "total_blood": 3750,
          "total_dons": 15
         },
         {
          "Class": 1,
          "since_first_don": 11,
          "since_last_don": 11,
          "total_blood": 250,
          "total_dons": 1
         },
         {
          "Class": 1,
          "since_first_don": 69,
          "since_last_don": 23,
          "total_blood": 2000,
          "total_dons": 8
         },
         {
          "Class": 1,
          "since_first_don": 26,
          "since_last_don": 23,
          "total_blood": 500,
          "total_dons": 2
         },
         {
          "Class": 1,
          "since_first_don": 64,
          "since_last_don": 23,
          "total_blood": 2000,
          "total_dons": 8
         },
         {
          "Class": 1,
          "since_first_don": 28,
          "since_last_don": 4,
          "total_blood": 750,
          "total_dons": 3
         },
         {
          "Class": 1,
          "since_first_don": 16,
          "since_last_don": 16,
          "total_blood": 250,
          "total_dons": 1
         },
         {
          "Class": 1,
          "since_first_don": 22,
          "since_last_don": 2,
          "total_blood": 1500,
          "total_dons": 6
         },
         {
          "Class": 1,
          "since_first_don": 28,
          "since_last_don": 23,
          "total_blood": 500,
          "total_dons": 2
         },
         {
          "Class": 1,
          "since_first_don": 71,
          "since_last_don": 16,
          "total_blood": 1250,
          "total_dons": 5
         },
         {
          "Class": 1,
          "since_first_don": 23,
          "since_last_don": 12,
          "total_blood": 2750,
          "total_dons": 11
         },
         {
          "Class": 1,
          "since_first_don": 62,
          "since_last_don": 23,
          "total_blood": 4750,
          "total_dons": 19
         },
         {
          "Class": 1,
          "since_first_don": 60,
          "since_last_don": 16,
          "total_blood": 1250,
          "total_dons": 5
         },
         {
          "Class": 2,
          "since_first_don": 40,
          "since_last_don": 2,
          "total_blood": 2750,
          "total_dons": 11
         },
         {
          "Class": 1,
          "since_first_don": 26,
          "since_last_don": 2,
          "total_blood": 1250,
          "total_dons": 5
         },
         {
          "Class": 1,
          "since_first_don": 38,
          "since_last_don": 21,
          "total_blood": 750,
          "total_dons": 3
         },
         {
          "Class": 1,
          "since_first_don": 23,
          "since_last_don": 23,
          "total_blood": 250,
          "total_dons": 1
         },
         {
          "Class": 1,
          "since_first_don": 21,
          "since_last_don": 11,
          "total_blood": 500,
          "total_dons": 2
         },
         {
          "Class": 1,
          "since_first_don": 87,
          "since_last_don": 16,
          "total_blood": 3750,
          "total_dons": 15
         },
         {
          "Class": 1,
          "since_first_don": 39,
          "since_last_don": 23,
          "total_blood": 750,
          "total_dons": 3
         },
         {
          "Class": 2,
          "since_first_don": 58,
          "since_last_don": 17,
          "total_blood": 1750,
          "total_dons": 7
         },
         {
          "Class": 1,
          "since_first_don": 98,
          "since_last_don": 11,
          "total_blood": 5500,
          "total_dons": 22
         },
         {
          "Class": 2,
          "since_first_don": 62,
          "since_last_don": 11,
          "total_blood": 1750,
          "total_dons": 7
         },
         {
          "Class": 1,
          "since_first_don": 26,
          "since_last_don": 2,
          "total_blood": 1500,
          "total_dons": 6
         },
         {
          "Class": 1,
          "since_first_don": 40,
          "since_last_don": 16,
          "total_blood": 1500,
          "total_dons": 6
         },
         {
          "Class": 2,
          "since_first_don": 14,
          "since_last_don": 2,
          "total_blood": 1750,
          "total_dons": 7
         },
         {
          "Class": 1,
          "since_first_don": 34,
          "since_last_don": 16,
          "total_blood": 750,
          "total_dons": 3
         },
         {
          "Class": 1,
          "since_first_don": 28,
          "since_last_don": 23,
          "total_blood": 500,
          "total_dons": 2
         },
         {
          "Class": 1,
          "since_first_don": 50,
          "since_last_don": 16,
          "total_blood": 750,
          "total_dons": 3
         },
         {
          "Class": 2,
          "since_first_don": 22,
          "since_last_don": 22,
          "total_blood": 250,
          "total_dons": 1
         },
         {
          "Class": 1,
          "since_first_don": 23,
          "since_last_don": 23,
          "total_blood": 250,
          "total_dons": 1
         },
         {
          "Class": 1,
          "since_first_don": 48,
          "since_last_don": 21,
          "total_blood": 1500,
          "total_dons": 6
         },
         {
          "Class": 2,
          "since_first_don": 35,
          "since_last_don": 2,
          "total_blood": 2000,
          "total_dons": 8
         },
         {
          "Class": 1,
          "since_first_don": 21,
          "since_last_don": 21,
          "total_blood": 250,
          "total_dons": 1
         },
         {
          "Class": 1,
          "since_first_don": 35,
          "since_last_don": 21,
          "total_blood": 750,
          "total_dons": 3
         },
         {
          "Class": 1,
          "since_first_don": 49,
          "since_last_don": 2,
          "total_blood": 2500,
          "total_dons": 10
         },
         {
          "Class": 1,
          "since_first_don": 52,
          "since_last_don": 9,
          "total_blood": 500,
          "total_dons": 2
         },
         {
          "Class": 2,
          "since_first_don": 16,
          "since_last_don": 4,
          "total_blood": 1500,
          "total_dons": 6
         },
         {
          "Class": 2,
          "since_first_don": 2,
          "since_last_don": 2,
          "total_blood": 250,
          "total_dons": 1
         },
         {
          "Class": 2,
          "since_first_don": 48,
          "since_last_don": 4,
          "total_blood": 2000,
          "total_dons": 8
         },
         {
          "Class": 1,
          "since_first_don": 23,
          "since_last_don": 23,
          "total_blood": 250,
          "total_dons": 1
         },
         {
          "Class": 2,
          "since_first_don": 43,
          "since_last_don": 1,
          "total_blood": 2500,
          "total_dons": 10
         },
         {
          "Class": 2,
          "since_first_don": 2,
          "since_last_don": 2,
          "total_blood": 250,
          "total_dons": 1
         },
         {
          "Class": 1,
          "since_first_don": 28,
          "since_last_don": 2,
          "total_blood": 2750,
          "total_dons": 11
         },
         {
          "Class": 1,
          "since_first_don": 35,
          "since_last_don": 1,
          "total_blood": 3000,
          "total_dons": 12
         },
         {
          "Class": 1,
          "since_first_don": 11,
          "since_last_don": 11,
          "total_blood": 250,
          "total_dons": 1
         },
         {
          "Class": 2,
          "since_first_don": 57,
          "since_last_don": 2,
          "total_blood": 3500,
          "total_dons": 14
         },
         {
          "Class": 1,
          "since_first_don": 18,
          "since_last_don": 11,
          "total_blood": 1250,
          "total_dons": 5
         },
         {
          "Class": 1,
          "since_first_don": 23,
          "since_last_don": 18,
          "total_blood": 500,
          "total_dons": 2
         },
         {
          "Class": 2,
          "since_first_don": 4,
          "since_last_don": 4,
          "total_blood": 500,
          "total_dons": 2
         },
         {
          "Class": 2,
          "since_first_don": 28,
          "since_last_don": 2,
          "total_blood": 2500,
          "total_dons": 10
         },
         {
          "Class": 1,
          "since_first_don": 14,
          "since_last_don": 14,
          "total_blood": 250,
          "total_dons": 1
         },
         {
          "Class": 1,
          "since_first_don": 95,
          "since_last_don": 18,
          "total_blood": 2000,
          "total_dons": 8
         },
         {
          "Class": 1,
          "since_first_don": 23,
          "since_last_don": 4,
          "total_blood": 500,
          "total_dons": 2
         },
         {
          "Class": 2,
          "since_first_don": 9,
          "since_last_don": 4,
          "total_blood": 500,
          "total_dons": 2
         },
         {
          "Class": 1,
          "since_first_don": 2,
          "since_last_don": 2,
          "total_blood": 250,
          "total_dons": 1
         },
         {
          "Class": 1,
          "since_first_don": 23,
          "since_last_don": 23,
          "total_blood": 250,
          "total_dons": 1
         },
         {
          "Class": 1,
          "since_first_don": 45,
          "since_last_don": 16,
          "total_blood": 1000,
          "total_dons": 4
         },
         {
          "Class": 1,
          "since_first_don": 23,
          "since_last_don": 23,
          "total_blood": 250,
          "total_dons": 1
         },
         {
          "Class": 1,
          "since_first_don": 28,
          "since_last_don": 5,
          "total_blood": 1500,
          "total_dons": 6
         },
         {
          "Class": 1,
          "since_first_don": 61,
          "since_last_don": 4,
          "total_blood": 2750,
          "total_dons": 11
         },
         {
          "Class": 2,
          "since_first_don": 38,
          "since_last_don": 4,
          "total_blood": 2250,
          "total_dons": 9
         },
         {
          "Class": 1,
          "since_first_don": 40,
          "since_last_don": 4,
          "total_blood": 3500,
          "total_dons": 14
         },
         {
          "Class": 1,
          "since_first_don": 4,
          "since_last_don": 4,
          "total_blood": 250,
          "total_dons": 1
         },
         {
          "Class": 2,
          "since_first_don": 2,
          "since_last_don": 2,
          "total_blood": 250,
          "total_dons": 1
         },
         {
          "Class": 1,
          "since_first_don": 16,
          "since_last_don": 2,
          "total_blood": 1000,
          "total_dons": 4
         },
         {
          "Class": 1,
          "since_first_don": 24,
          "since_last_don": 11,
          "total_blood": 500,
          "total_dons": 2
         },
         {
          "Class": 1,
          "since_first_don": 35,
          "since_last_don": 4,
          "total_blood": 1500,
          "total_dons": 6
         },
         {
          "Class": 2,
          "since_first_don": 28,
          "since_last_don": 0,
          "total_blood": 3250,
          "total_dons": 13
         },
         {
          "Class": 1,
          "since_first_don": 77,
          "since_last_don": 2,
          "total_blood": 1750,
          "total_dons": 7
         },
         {
          "Class": 2,
          "since_first_don": 4,
          "since_last_don": 2,
          "total_blood": 750,
          "total_dons": 3
         },
         {
          "Class": 1,
          "since_first_don": 21,
          "since_last_don": 4,
          "total_blood": 2000,
          "total_dons": 8
         },
         {
          "Class": 1,
          "since_first_don": 16,
          "since_last_don": 16,
          "total_blood": 500,
          "total_dons": 2
         },
         {
          "Class": 1,
          "since_first_don": 40,
          "since_last_don": 14,
          "total_blood": 1000,
          "total_dons": 4
         },
         {
          "Class": 1,
          "since_first_don": 79,
          "since_last_don": 5,
          "total_blood": 6000,
          "total_dons": 24
         },
         {
          "Class": 1,
          "since_first_don": 11,
          "since_last_don": 11,
          "total_blood": 250,
          "total_dons": 1
         },
         {
          "Class": 1,
          "since_first_don": 35,
          "since_last_don": 21,
          "total_blood": 750,
          "total_dons": 3
         },
         {
          "Class": 1,
          "since_first_don": 16,
          "since_last_don": 2,
          "total_blood": 1000,
          "total_dons": 4
         },
         {
          "Class": 1,
          "since_first_don": 11,
          "since_last_don": 11,
          "total_blood": 250,
          "total_dons": 1
         },
         {
          "Class": 1,
          "since_first_don": 16,
          "since_last_don": 2,
          "total_blood": 1000,
          "total_dons": 4
         },
         {
          "Class": 2,
          "since_first_don": 40,
          "since_last_don": 16,
          "total_blood": 1250,
          "total_dons": 5
         },
         {
          "Class": 1,
          "since_first_don": 50,
          "since_last_don": 16,
          "total_blood": 3000,
          "total_dons": 12
         },
         {
          "Class": 1,
          "since_first_don": 14,
          "since_last_don": 14,
          "total_blood": 250,
          "total_dons": 1
         },
         {
          "Class": 1,
          "since_first_don": 64,
          "since_last_don": 35,
          "total_blood": 750,
          "total_dons": 3
         },
         {
          "Class": 1,
          "since_first_don": 47,
          "since_last_don": 14,
          "total_blood": 1750,
          "total_dons": 7
         },
         {
          "Class": 1,
          "since_first_don": 11,
          "since_last_don": 11,
          "total_blood": 250,
          "total_dons": 1
         },
         {
          "Class": 1,
          "since_first_don": 52,
          "since_last_don": 2,
          "total_blood": 3000,
          "total_dons": 12
         },
         {
          "Class": 1,
          "since_first_don": 78,
          "since_last_don": 14,
          "total_blood": 4500,
          "total_dons": 18
         },
         {
          "Class": 1,
          "since_first_don": 2,
          "since_last_don": 2,
          "total_blood": 250,
          "total_dons": 1
         },
         {
          "Class": 1,
          "since_first_don": 16,
          "since_last_don": 4,
          "total_blood": 1000,
          "total_dons": 4
         },
         {
          "Class": 1,
          "since_first_don": 25,
          "since_last_don": 21,
          "total_blood": 500,
          "total_dons": 2
         },
         {
          "Class": 1,
          "since_first_don": 41,
          "since_last_don": 21,
          "total_blood": 500,
          "total_dons": 2
         },
         {
          "Class": 1,
          "since_first_don": 39,
          "since_last_don": 12,
          "total_blood": 2750,
          "total_dons": 11
         },
         {
          "Class": 1,
          "since_first_don": 75,
          "since_last_don": 11,
          "total_blood": 1750,
          "total_dons": 7
         },
         {
          "Class": 1,
          "since_first_don": 72,
          "since_last_don": 11,
          "total_blood": 2000,
          "total_dons": 8
         },
         {
          "Class": 1,
          "since_first_don": 26,
          "since_last_don": 6,
          "total_blood": 750,
          "total_dons": 3
         },
         {
          "Class": 1,
          "since_first_don": 37,
          "since_last_don": 11,
          "total_blood": 750,
          "total_dons": 3
         },
         {
          "Class": 1,
          "since_first_don": 11,
          "since_last_don": 11,
          "total_blood": 250,
          "total_dons": 1
         },
         {
          "Class": 1,
          "since_first_don": 26,
          "since_last_don": 2,
          "total_blood": 1250,
          "total_dons": 5
         },
         {
          "Class": 1,
          "since_first_don": 45,
          "since_last_don": 23,
          "total_blood": 1000,
          "total_dons": 4
         },
         {
          "Class": 1,
          "since_first_don": 35,
          "since_last_don": 16,
          "total_blood": 750,
          "total_dons": 3
         },
         {
          "Class": 1,
          "since_first_don": 22,
          "since_last_don": 2,
          "total_blood": 500,
          "total_dons": 2
         },
         {
          "Class": 1,
          "since_first_don": 23,
          "since_last_don": 21,
          "total_blood": 500,
          "total_dons": 2
         },
         {
          "Class": 1,
          "since_first_don": 11,
          "since_last_don": 2,
          "total_blood": 500,
          "total_dons": 2
         },
         {
          "Class": 1,
          "since_first_don": 4,
          "since_last_don": 4,
          "total_blood": 250,
          "total_dons": 1
         },
         {
          "Class": 1,
          "since_first_don": 87,
          "since_last_don": 23,
          "total_blood": 500,
          "total_dons": 2
         },
         {
          "Class": 1,
          "since_first_don": 21,
          "since_last_don": 21,
          "total_blood": 250,
          "total_dons": 1
         },
         {
          "Class": 1,
          "since_first_don": 16,
          "since_last_don": 4,
          "total_blood": 750,
          "total_dons": 3
         },
         {
          "Class": 2,
          "since_first_don": 46,
          "since_last_don": 4,
          "total_blood": 2000,
          "total_dons": 8
         },
         {
          "Class": 1,
          "since_first_don": 78,
          "since_last_don": 4,
          "total_blood": 2750,
          "total_dons": 11
         },
         {
          "Class": 1,
          "since_first_don": 43,
          "since_last_don": 2,
          "total_blood": 1000,
          "total_dons": 4
         },
         {
          "Class": 1,
          "since_first_don": 21,
          "since_last_don": 14,
          "total_blood": 750,
          "total_dons": 3
         },
         {
          "Class": 1,
          "since_first_don": 86,
          "since_last_don": 7,
          "total_blood": 3000,
          "total_dons": 12
         },
         {
          "Class": 1,
          "since_first_don": 14,
          "since_last_don": 2,
          "total_blood": 750,
          "total_dons": 3
         },
         {
          "Class": 1,
          "since_first_don": 14,
          "since_last_don": 14,
          "total_blood": 250,
          "total_dons": 1
         },
         {
          "Class": 1,
          "since_first_don": 64,
          "since_last_don": 11,
          "total_blood": 1750,
          "total_dons": 7
         },
         {
          "Class": 1,
          "since_first_don": 50,
          "since_last_don": 25,
          "total_blood": 1500,
          "total_dons": 6
         },
         {
          "Class": 2,
          "since_first_don": 69,
          "since_last_don": 4,
          "total_blood": 5000,
          "total_dons": 20
         },
         {
          "Class": 1,
          "since_first_don": 41,
          "since_last_don": 14,
          "total_blood": 750,
          "total_dons": 3
         },
         {
          "Class": 1,
          "since_first_don": 2,
          "since_last_don": 2,
          "total_blood": 250,
          "total_dons": 1
         },
         {
          "Class": 2,
          "since_first_don": 42,
          "since_last_don": 3,
          "total_blood": 5250,
          "total_dons": 21
         },
         {
          "Class": 1,
          "since_first_don": 38,
          "since_last_don": 16,
          "total_blood": 1750,
          "total_dons": 7
         },
         {
          "Class": 1,
          "since_first_don": 21,
          "since_last_don": 16,
          "total_blood": 750,
          "total_dons": 3
         },
         {
          "Class": 1,
          "since_first_don": 2,
          "since_last_don": 2,
          "total_blood": 250,
          "total_dons": 1
         },
         {
          "Class": 1,
          "since_first_don": 98,
          "since_last_don": 2,
          "total_blood": 3000,
          "total_dons": 12
         },
         {
          "Class": 1,
          "since_first_don": 23,
          "since_last_don": 21,
          "total_blood": 500,
          "total_dons": 2
         },
         {
          "Class": 1,
          "since_first_don": 4,
          "since_last_don": 4,
          "total_blood": 250,
          "total_dons": 1
         },
         {
          "Class": 2,
          "since_first_don": 4,
          "since_last_don": 4,
          "total_blood": 250,
          "total_dons": 1
         },
         {
          "Class": 1,
          "since_first_don": 21,
          "since_last_don": 21,
          "total_blood": 250,
          "total_dons": 1
         },
         {
          "Class": 2,
          "since_first_don": 28,
          "since_last_don": 4,
          "total_blood": 2500,
          "total_dons": 10
         },
         {
          "Class": 1,
          "since_first_don": 33,
          "since_last_don": 2,
          "total_blood": 500,
          "total_dons": 2
         },
         {
          "Class": 1,
          "since_first_don": 41,
          "since_last_don": 4,
          "total_blood": 500,
          "total_dons": 2
         },
         {
          "Class": 2,
          "since_first_don": 11,
          "since_last_don": 2,
          "total_blood": 500,
          "total_dons": 2
         },
         {
          "Class": 1,
          "since_first_don": 37,
          "since_last_don": 2,
          "total_blood": 1250,
          "total_dons": 5
         },
         {
          "Class": 1,
          "since_first_don": 23,
          "since_last_don": 2,
          "total_blood": 1000,
          "total_dons": 4
         },
         {
          "Class": 1,
          "since_first_don": 16,
          "since_last_don": 13,
          "total_blood": 750,
          "total_dons": 3
         },
         {
          "Class": 1,
          "since_first_don": 52,
          "since_last_don": 4,
          "total_blood": 2250,
          "total_dons": 9
         },
         {
          "Class": 1,
          "since_first_don": 16,
          "since_last_don": 16,
          "total_blood": 250,
          "total_dons": 1
         },
         {
          "Class": 1,
          "since_first_don": 23,
          "since_last_don": 11,
          "total_blood": 750,
          "total_dons": 3
         },
         {
          "Class": 1,
          "since_first_don": 26,
          "since_last_don": 14,
          "total_blood": 750,
          "total_dons": 3
         },
         {
          "Class": 1,
          "since_first_don": 35,
          "since_last_don": 11,
          "total_blood": 1250,
          "total_dons": 5
         },
         {
          "Class": 1,
          "since_first_don": 16,
          "since_last_don": 16,
          "total_blood": 250,
          "total_dons": 1
         },
         {
          "Class": 1,
          "since_first_don": 58,
          "since_last_don": 4,
          "total_blood": 5750,
          "total_dons": 23
         },
         {
          "Class": 1,
          "since_first_don": 26,
          "since_last_don": 21,
          "total_blood": 500,
          "total_dons": 2
         },
         {
          "Class": 2,
          "since_first_don": 28,
          "since_last_don": 2,
          "total_blood": 1500,
          "total_dons": 6
         },
         {
          "Class": 1,
          "since_first_don": 75,
          "since_last_don": 2,
          "total_blood": 1500,
          "total_dons": 6
         },
         {
          "Class": 1,
          "since_first_don": 76,
          "since_last_don": 2,
          "total_blood": 1750,
          "total_dons": 7
         },
         {
          "Class": 1,
          "since_first_don": 61,
          "since_last_don": 11,
          "total_blood": 1000,
          "total_dons": 4
         },
         {
          "Class": 1,
          "since_first_don": 51,
          "since_last_don": 1,
          "total_blood": 2250,
          "total_dons": 9
         },
         {
          "Class": 1,
          "since_first_don": 14,
          "since_last_don": 2,
          "total_blood": 500,
          "total_dons": 2
         },
         {
          "Class": 1,
          "since_first_don": 75,
          "since_last_don": 2,
          "total_blood": 2250,
          "total_dons": 9
         },
         {
          "Class": 1,
          "since_first_don": 23,
          "since_last_don": 4,
          "total_blood": 1250,
          "total_dons": 5
         },
         {
          "Class": 1,
          "since_first_don": 16,
          "since_last_don": 14,
          "total_blood": 500,
          "total_dons": 2
         },
         {
          "Class": 1,
          "since_first_don": 60,
          "since_last_don": 12,
          "total_blood": 2250,
          "total_dons": 9
         },
         {
          "Class": 2,
          "since_first_don": 87,
          "since_last_don": 16,
          "total_blood": 1750,
          "total_dons": 7
         },
         {
          "Class": 2,
          "since_first_don": 77,
          "since_last_don": 2,
          "total_blood": 8500,
          "total_dons": 34
         },
         {
          "Class": 1,
          "since_first_don": 98,
          "since_last_don": 23,
          "total_blood": 9500,
          "total_dons": 38
         },
         {
          "Class": 1,
          "since_first_don": 45,
          "since_last_don": 14,
          "total_blood": 1750,
          "total_dons": 7
         },
         {
          "Class": 1,
          "since_first_don": 23,
          "since_last_don": 2,
          "total_blood": 2750,
          "total_dons": 11
         },
         {
          "Class": 1,
          "since_first_don": 76,
          "since_last_don": 11,
          "total_blood": 750,
          "total_dons": 3
         },
         {
          "Class": 2,
          "since_first_don": 22,
          "since_last_don": 14,
          "total_blood": 1000,
          "total_dons": 4
         },
         {
          "Class": 1,
          "since_first_don": 16,
          "since_last_don": 16,
          "total_blood": 250,
          "total_dons": 1
         },
         {
          "Class": 1,
          "since_first_don": 26,
          "since_last_don": 4,
          "total_blood": 1000,
          "total_dons": 4
         },
         {
          "Class": 1,
          "since_first_don": 52,
          "since_last_don": 11,
          "total_blood": 500,
          "total_dons": 2
         },
         {
          "Class": 1,
          "since_first_don": 2,
          "since_last_don": 2,
          "total_blood": 250,
          "total_dons": 1
         },
         {
          "Class": 1,
          "since_first_don": 21,
          "since_last_don": 21,
          "total_blood": 250,
          "total_dons": 1
         },
         {
          "Class": 1,
          "since_first_don": 4,
          "since_last_don": 4,
          "total_blood": 500,
          "total_dons": 2
         },
         {
          "Class": 1,
          "since_first_don": 16,
          "since_last_don": 16,
          "total_blood": 250,
          "total_dons": 1
         },
         {
          "Class": 2,
          "since_first_don": 11,
          "since_last_don": 2,
          "total_blood": 500,
          "total_dons": 2
         },
         {
          "Class": 1,
          "since_first_don": 79,
          "since_last_don": 14,
          "total_blood": 750,
          "total_dons": 3
         },
         {
          "Class": 1,
          "since_first_don": 98,
          "since_last_don": 2,
          "total_blood": 11000,
          "total_dons": 44
         },
         {
          "Class": 2,
          "since_first_don": 49,
          "since_last_don": 26,
          "total_blood": 1250,
          "total_dons": 5
         },
         {
          "Class": 1,
          "since_first_don": 23,
          "since_last_don": 16,
          "total_blood": 750,
          "total_dons": 3
         },
         {
          "Class": 1,
          "since_first_don": 30,
          "since_last_don": 4,
          "total_blood": 1500,
          "total_dons": 6
         },
         {
          "Class": 1,
          "since_first_don": 28,
          "since_last_don": 4,
          "total_blood": 1250,
          "total_dons": 5
         },
         {
          "Class": 1,
          "since_first_don": 28,
          "since_last_don": 14,
          "total_blood": 750,
          "total_dons": 3
         },
         {
          "Class": 2,
          "since_first_don": 98,
          "since_last_don": 4,
          "total_blood": 4000,
          "total_dons": 16
         },
         {
          "Class": 1,
          "since_first_don": 47,
          "since_last_don": 4,
          "total_blood": 1500,
          "total_dons": 6
         },
         {
          "Class": 2,
          "since_first_don": 4,
          "since_last_don": 4,
          "total_blood": 250,
          "total_dons": 1
         },
         {
          "Class": 1,
          "since_first_don": 54,
          "since_last_don": 9,
          "total_blood": 2250,
          "total_dons": 9
         },
         {
          "Class": 1,
          "since_first_don": 88,
          "since_last_don": 23,
          "total_blood": 1750,
          "total_dons": 7
         },
         {
          "Class": 1,
          "since_first_don": 11,
          "since_last_don": 11,
          "total_blood": 250,
          "total_dons": 1
         },
         {
          "Class": 1,
          "since_first_don": 23,
          "since_last_don": 23,
          "total_blood": 250,
          "total_dons": 1
         },
         {
          "Class": 2,
          "since_first_don": 38,
          "since_last_don": 4,
          "total_blood": 1500,
          "total_dons": 6
         },
         {
          "Class": 1,
          "since_first_don": 40,
          "since_last_don": 23,
          "total_blood": 750,
          "total_dons": 3
         },
         {
          "Class": 1,
          "since_first_don": 46,
          "since_last_don": 16,
          "total_blood": 750,
          "total_dons": 3
         },
         {
          "Class": 1,
          "since_first_don": 4,
          "since_last_don": 4,
          "total_blood": 250,
          "total_dons": 1
         },
         {
          "Class": 1,
          "since_first_don": 37,
          "since_last_don": 11,
          "total_blood": 1750,
          "total_dons": 7
         },
         {
          "Class": 1,
          "since_first_don": 28,
          "since_last_don": 23,
          "total_blood": 750,
          "total_dons": 3
         },
         {
          "Class": 1,
          "since_first_don": 45,
          "since_last_don": 23,
          "total_blood": 1500,
          "total_dons": 6
         },
         {
          "Class": 1,
          "since_first_don": 38,
          "since_last_don": 38,
          "total_blood": 250,
          "total_dons": 1
         },
         {
          "Class": 1,
          "since_first_don": 70,
          "since_last_don": 16,
          "total_blood": 500,
          "total_dons": 2
         },
         {
          "Class": 1,
          "since_first_don": 21,
          "since_last_don": 21,
          "total_blood": 250,
          "total_dons": 1
         },
         {
          "Class": 2,
          "since_first_don": 16,
          "since_last_don": 2,
          "total_blood": 1000,
          "total_dons": 4
         },
         {
          "Class": 2,
          "since_first_don": 28,
          "since_last_don": 4,
          "total_blood": 1500,
          "total_dons": 6
         },
         {
          "Class": 1,
          "since_first_don": 26,
          "since_last_don": 14,
          "total_blood": 1000,
          "total_dons": 4
         },
         {
          "Class": 1,
          "since_first_don": 26,
          "since_last_don": 11,
          "total_blood": 750,
          "total_dons": 3
         },
         {
          "Class": 1,
          "since_first_don": 74,
          "since_last_don": 3,
          "total_blood": 4000,
          "total_dons": 16
         },
         {
          "Class": 1,
          "since_first_don": 76,
          "since_last_don": 13,
          "total_blood": 1750,
          "total_dons": 7
         },
         {
          "Class": 1,
          "since_first_don": 16,
          "since_last_don": 2,
          "total_blood": 500,
          "total_dons": 2
         },
         {
          "Class": 2,
          "since_first_don": 22,
          "since_last_don": 2,
          "total_blood": 2250,
          "total_dons": 9
         },
         {
          "Class": 1,
          "since_first_don": 4,
          "since_last_don": 2,
          "total_blood": 500,
          "total_dons": 2
         },
         {
          "Class": 2,
          "since_first_don": 14,
          "since_last_don": 14,
          "total_blood": 500,
          "total_dons": 2
         },
         {
          "Class": 1,
          "since_first_don": 81,
          "since_last_don": 2,
          "total_blood": 4000,
          "total_dons": 16
         },
         {
          "Class": 1,
          "since_first_don": 41,
          "since_last_don": 23,
          "total_blood": 750,
          "total_dons": 3
         },
         {
          "Class": 1,
          "since_first_don": 57,
          "since_last_don": 14,
          "total_blood": 1000,
          "total_dons": 4
         },
         {
          "Class": 1,
          "since_first_don": 14,
          "since_last_don": 14,
          "total_blood": 250,
          "total_dons": 1
         },
         {
          "Class": 1,
          "since_first_don": 23,
          "since_last_don": 23,
          "total_blood": 250,
          "total_dons": 1
         },
         {
          "Class": 1,
          "since_first_don": 38,
          "since_last_don": 38,
          "total_blood": 250,
          "total_dons": 1
         },
         {
          "Class": 1,
          "since_first_don": 35,
          "since_last_don": 21,
          "total_blood": 750,
          "total_dons": 3
         },
         {
          "Class": 1,
          "since_first_don": 41,
          "since_last_don": 11,
          "total_blood": 1250,
          "total_dons": 5
         },
         {
          "Class": 1,
          "since_first_don": 71,
          "since_last_don": 11,
          "total_blood": 1500,
          "total_dons": 6
         },
         {
          "Class": 1,
          "since_first_don": 16,
          "since_last_don": 16,
          "total_blood": 250,
          "total_dons": 1
         },
         {
          "Class": 1,
          "since_first_don": 86,
          "since_last_don": 5,
          "total_blood": 3500,
          "total_dons": 14
         },
         {
          "Class": 1,
          "since_first_don": 4,
          "since_last_don": 4,
          "total_blood": 500,
          "total_dons": 2
         },
         {
          "Class": 2,
          "since_first_don": 50,
          "since_last_don": 14,
          "total_blood": 2000,
          "total_dons": 8
         },
         {
          "Class": 2,
          "since_first_don": 51,
          "since_last_don": 9,
          "total_blood": 1250,
          "total_dons": 5
         },
         {
          "Class": 1,
          "since_first_don": 29,
          "since_last_don": 2,
          "total_blood": 1750,
          "total_dons": 7
         },
         {
          "Class": 1,
          "since_first_don": 86,
          "since_last_don": 21,
          "total_blood": 1500,
          "total_dons": 6
         },
         {
          "Class": 1,
          "since_first_don": 72,
          "since_last_don": 14,
          "total_blood": 1750,
          "total_dons": 7
         },
         {
          "Class": 1,
          "since_first_don": 26,
          "since_last_don": 16,
          "total_blood": 500,
          "total_dons": 2
         },
         {
          "Class": 1,
          "since_first_don": 64,
          "since_last_don": 14,
          "total_blood": 1000,
          "total_dons": 4
         },
         {
          "Class": 1,
          "since_first_don": 14,
          "since_last_don": 14,
          "total_blood": 500,
          "total_dons": 2
         },
         {
          "Class": 1,
          "since_first_don": 21,
          "since_last_don": 21,
          "total_blood": 250,
          "total_dons": 1
         },
         {
          "Class": 1,
          "since_first_don": 28,
          "since_last_don": 14,
          "total_blood": 1250,
          "total_dons": 5
         },
         {
          "Class": 1,
          "since_first_don": 29,
          "since_last_don": 4,
          "total_blood": 500,
          "total_dons": 2
         },
         {
          "Class": 1,
          "since_first_don": 14,
          "since_last_don": 14,
          "total_blood": 250,
          "total_dons": 1
         },
         {
          "Class": 1,
          "since_first_don": 36,
          "since_last_don": 2,
          "total_blood": 2250,
          "total_dons": 9
         },
         {
          "Class": 1,
          "since_first_don": 4,
          "since_last_don": 4,
          "total_blood": 500,
          "total_dons": 2
         },
         {
          "Class": 1,
          "since_first_don": 64,
          "since_last_don": 2,
          "total_blood": 2500,
          "total_dons": 10
         },
         {
          "Class": 1,
          "since_first_don": 51,
          "since_last_don": 14,
          "total_blood": 1500,
          "total_dons": 6
         },
         {
          "Class": 2,
          "since_first_don": 48,
          "since_last_don": 2,
          "total_blood": 3500,
          "total_dons": 14
         },
         {
          "Class": 1,
          "since_first_don": 89,
          "since_last_don": 23,
          "total_blood": 750,
          "total_dons": 3
         },
         {
          "Class": 1,
          "since_first_don": 42,
          "since_last_don": 11,
          "total_blood": 2750,
          "total_dons": 11
         },
         {
          "Class": 1,
          "since_first_don": 23,
          "since_last_don": 23,
          "total_blood": 500,
          "total_dons": 2
         },
         {
          "Class": 1,
          "since_first_don": 63,
          "since_last_don": 2,
          "total_blood": 1250,
          "total_dons": 5
         },
         {
          "Class": 1,
          "since_first_don": 33,
          "since_last_don": 23,
          "total_blood": 1250,
          "total_dons": 5
         },
         {
          "Class": 2,
          "since_first_don": 4,
          "since_last_don": 2,
          "total_blood": 500,
          "total_dons": 2
         },
         {
          "Class": 1,
          "since_first_don": 93,
          "since_last_don": 23,
          "total_blood": 3500,
          "total_dons": 14
         },
         {
          "Class": 1,
          "since_first_don": 74,
          "since_last_don": 2,
          "total_blood": 2250,
          "total_dons": 9
         },
         {
          "Class": 1,
          "since_first_don": 29,
          "since_last_don": 11,
          "total_blood": 1750,
          "total_dons": 7
         },
         {
          "Class": 1,
          "since_first_don": 52,
          "since_last_don": 21,
          "total_blood": 1000,
          "total_dons": 4
         },
         {
          "Class": 2,
          "since_first_don": 15,
          "since_last_don": 2,
          "total_blood": 1500,
          "total_dons": 6
         },
         {
          "Class": 1,
          "since_first_don": 4,
          "since_last_don": 4,
          "total_blood": 500,
          "total_dons": 2
         },
         {
          "Class": 2,
          "since_first_don": 43,
          "since_last_don": 4,
          "total_blood": 1000,
          "total_dons": 4
         },
         {
          "Class": 1,
          "since_first_don": 23,
          "since_last_don": 2,
          "total_blood": 500,
          "total_dons": 2
         },
         {
          "Class": 2,
          "since_first_don": 4,
          "since_last_don": 4,
          "total_blood": 250,
          "total_dons": 1
         },
         {
          "Class": 1,
          "since_first_don": 58,
          "since_last_don": 12,
          "total_blood": 3000,
          "total_dons": 12
         },
         {
          "Class": 2,
          "since_first_don": 45,
          "since_last_don": 2,
          "total_blood": 5000,
          "total_dons": 20
         },
         {
          "Class": 1,
          "since_first_don": 28,
          "since_last_don": 16,
          "total_blood": 1000,
          "total_dons": 4
         },
         {
          "Class": 1,
          "since_first_don": 64,
          "since_last_don": 21,
          "total_blood": 750,
          "total_dons": 3
         },
         {
          "Class": 1,
          "since_first_don": 4,
          "since_last_don": 4,
          "total_blood": 250,
          "total_dons": 1
         },
         {
          "Class": 1,
          "since_first_don": 83,
          "since_last_don": 14,
          "total_blood": 750,
          "total_dons": 3
         },
         {
          "Class": 1,
          "since_first_don": 16,
          "since_last_don": 16,
          "total_blood": 500,
          "total_dons": 2
         },
         {
          "Class": 1,
          "since_first_don": 11,
          "since_last_don": 2,
          "total_blood": 500,
          "total_dons": 2
         },
         {
          "Class": 1,
          "since_first_don": 4,
          "since_last_don": 0,
          "total_blood": 500,
          "total_dons": 2
         },
         {
          "Class": 1,
          "since_first_don": 14,
          "since_last_don": 4,
          "total_blood": 1500,
          "total_dons": 6
         },
         {
          "Class": 1,
          "since_first_don": 58,
          "since_last_don": 11,
          "total_blood": 1500,
          "total_dons": 6
         },
         {
          "Class": 2,
          "since_first_don": 26,
          "since_last_don": 4,
          "total_blood": 2000,
          "total_dons": 8
         },
         {
          "Class": 1,
          "since_first_don": 34,
          "since_last_don": 14,
          "total_blood": 1500,
          "total_dons": 6
         },
         {
          "Class": 2,
          "since_first_don": 46,
          "since_last_don": 2,
          "total_blood": 2750,
          "total_dons": 11
         },
         {
          "Class": 1,
          "since_first_don": 35,
          "since_last_don": 3,
          "total_blood": 3500,
          "total_dons": 14
         },
         {
          "Class": 1,
          "since_first_don": 60,
          "since_last_don": 21,
          "total_blood": 1250,
          "total_dons": 5
         },
         {
          "Class": 2,
          "since_first_don": 16,
          "since_last_don": 4,
          "total_blood": 1250,
          "total_dons": 5
         },
         {
          "Class": 2,
          "since_first_don": 37,
          "since_last_don": 11,
          "total_blood": 1250,
          "total_dons": 5
         },
         {
          "Class": 1,
          "since_first_don": 35,
          "since_last_don": 14,
          "total_blood": 500,
          "total_dons": 2
         },
         {
          "Class": 2,
          "since_first_don": 26,
          "since_last_don": 2,
          "total_blood": 1500,
          "total_dons": 6
         },
         {
          "Class": 1,
          "since_first_don": 26,
          "since_last_don": 14,
          "total_blood": 750,
          "total_dons": 3
         },
         {
          "Class": 1,
          "since_first_don": 34,
          "since_last_don": 4,
          "total_blood": 1250,
          "total_dons": 5
         },
         {
          "Class": 1,
          "since_first_don": 18,
          "since_last_don": 4,
          "total_blood": 1000,
          "total_dons": 4
         },
         {
          "Class": 2,
          "since_first_don": 10,
          "since_last_don": 2,
          "total_blood": 500,
          "total_dons": 2
         },
         {
          "Class": 1,
          "since_first_don": 64,
          "since_last_don": 21,
          "total_blood": 4000,
          "total_dons": 16
         },
         {
          "Class": 1,
          "since_first_don": 11,
          "since_last_don": 9,
          "total_blood": 500,
          "total_dons": 2
         },
         {
          "Class": 1,
          "since_first_don": 35,
          "since_last_don": 2,
          "total_blood": 750,
          "total_dons": 3
         },
         {
          "Class": 1,
          "since_first_don": 58,
          "since_last_don": 11,
          "total_blood": 1000,
          "total_dons": 4
         },
         {
          "Class": 1,
          "since_first_don": 2,
          "since_last_don": 2,
          "total_blood": 250,
          "total_dons": 1
         },
         {
          "Class": 1,
          "since_first_don": 31,
          "since_last_don": 14,
          "total_blood": 750,
          "total_dons": 3
         },
         {
          "Class": 1,
          "since_first_don": 39,
          "since_last_don": 39,
          "total_blood": 250,
          "total_dons": 1
         },
         {
          "Class": 1,
          "since_first_don": 2,
          "since_last_don": 2,
          "total_blood": 250,
          "total_dons": 1
         },
         {
          "Class": 2,
          "since_first_don": 38,
          "since_last_don": 11,
          "total_blood": 500,
          "total_dons": 2
         },
         {
          "Class": 1,
          "since_first_don": 2,
          "since_last_don": 2,
          "total_blood": 250,
          "total_dons": 1
         },
         {
          "Class": 1,
          "since_first_don": 16,
          "since_last_don": 16,
          "total_blood": 250,
          "total_dons": 1
         },
         {
          "Class": 1,
          "since_first_don": 28,
          "since_last_don": 16,
          "total_blood": 1750,
          "total_dons": 7
         },
         {
          "Class": 1,
          "since_first_don": 23,
          "since_last_don": 23,
          "total_blood": 250,
          "total_dons": 1
         },
         {
          "Class": 1,
          "since_first_don": 14,
          "since_last_don": 6,
          "total_blood": 750,
          "total_dons": 3
         },
         {
          "Class": 1,
          "since_first_don": 40,
          "since_last_don": 16,
          "total_blood": 1000,
          "total_dons": 4
         },
         {
          "Class": 1,
          "since_first_don": 16,
          "since_last_don": 16,
          "total_blood": 250,
          "total_dons": 1
         },
         {
          "Class": 2,
          "since_first_don": 29,
          "since_last_don": 3,
          "total_blood": 1000,
          "total_dons": 4
         },
         {
          "Class": 1,
          "since_first_don": 52,
          "since_last_don": 23,
          "total_blood": 1000,
          "total_dons": 4
         },
         {
          "Class": 2,
          "since_first_don": 69,
          "since_last_don": 20,
          "total_blood": 3500,
          "total_dons": 14
         },
         {
          "Class": 1,
          "since_first_don": 2,
          "since_last_don": 2,
          "total_blood": 250,
          "total_dons": 1
         },
         {
          "Class": 2,
          "since_first_don": 23,
          "since_last_don": 14,
          "total_blood": 1000,
          "total_dons": 4
         },
         {
          "Class": 1,
          "since_first_don": 16,
          "since_last_don": 16,
          "total_blood": 250,
          "total_dons": 1
         },
         {
          "Class": 1,
          "since_first_don": 64,
          "since_last_don": 8,
          "total_blood": 2250,
          "total_dons": 9
         },
         {
          "Class": 1,
          "since_first_don": 4,
          "since_last_don": 4,
          "total_blood": 250,
          "total_dons": 1
         },
         {
          "Class": 1,
          "since_first_don": 26,
          "since_last_don": 9,
          "total_blood": 500,
          "total_dons": 2
         },
         {
          "Class": 2,
          "since_first_don": 26,
          "since_last_don": 4,
          "total_blood": 1000,
          "total_dons": 4
         },
         {
          "Class": 1,
          "since_first_don": 14,
          "since_last_don": 14,
          "total_blood": 250,
          "total_dons": 1
         },
         {
          "Class": 2,
          "since_first_don": 26,
          "since_last_don": 5,
          "total_blood": 1750,
          "total_dons": 7
         },
         {
          "Class": 1,
          "since_first_don": 19,
          "since_last_don": 2,
          "total_blood": 750,
          "total_dons": 3
         },
         {
          "Class": 2,
          "since_first_don": 16,
          "since_last_don": 11,
          "total_blood": 1000,
          "total_dons": 4
         },
         {
          "Class": 2,
          "since_first_don": 76,
          "since_last_don": 0,
          "total_blood": 6500,
          "total_dons": 26
         },
         {
          "Class": 1,
          "since_first_don": 50,
          "since_last_don": 3,
          "total_blood": 2000,
          "total_dons": 8
         },
         {
          "Class": 2,
          "since_first_don": 3,
          "since_last_don": 3,
          "total_blood": 250,
          "total_dons": 1
         },
         {
          "Class": 1,
          "since_first_don": 52,
          "since_last_don": 21,
          "total_blood": 500,
          "total_dons": 2
         },
         {
          "Class": 2,
          "since_first_don": 22,
          "since_last_don": 4,
          "total_blood": 1750,
          "total_dons": 7
         },
         {
          "Class": 1,
          "since_first_don": 30,
          "since_last_don": 14,
          "total_blood": 1000,
          "total_dons": 4
         },
         {
          "Class": 2,
          "since_first_don": 35,
          "since_last_don": 1,
          "total_blood": 4000,
          "total_dons": 16
         },
         {
          "Class": 1,
          "since_first_don": 38,
          "since_last_don": 21,
          "total_blood": 750,
          "total_dons": 3
         },
         {
          "Class": 1,
          "since_first_don": 25,
          "since_last_don": 4,
          "total_blood": 1750,
          "total_dons": 7
         },
         {
          "Class": 1,
          "since_first_don": 27,
          "since_last_don": 11,
          "total_blood": 1500,
          "total_dons": 6
         },
         {
          "Class": 1,
          "since_first_don": 4,
          "since_last_don": 4,
          "total_blood": 250,
          "total_dons": 1
         },
         {
          "Class": 1,
          "since_first_don": 23,
          "since_last_don": 21,
          "total_blood": 500,
          "total_dons": 2
         },
         {
          "Class": 2,
          "since_first_don": 16,
          "since_last_don": 11,
          "total_blood": 750,
          "total_dons": 3
         },
         {
          "Class": 1,
          "since_first_don": 34,
          "since_last_don": 9,
          "total_blood": 750,
          "total_dons": 3
         },
         {
          "Class": 1,
          "since_first_don": 16,
          "since_last_don": 16,
          "total_blood": 250,
          "total_dons": 1
         },
         {
          "Class": 1,
          "since_first_don": 46,
          "since_last_don": 4,
          "total_blood": 2250,
          "total_dons": 9
         },
         {
          "Class": 2,
          "since_first_don": 4,
          "since_last_don": 4,
          "total_blood": 250,
          "total_dons": 1
         },
         {
          "Class": 1,
          "since_first_don": 95,
          "since_last_don": 1,
          "total_blood": 3500,
          "total_dons": 14
         },
         {
          "Class": 1,
          "since_first_don": 4,
          "since_last_don": 2,
          "total_blood": 500,
          "total_dons": 2
         },
         {
          "Class": 1,
          "since_first_don": 2,
          "since_last_don": 2,
          "total_blood": 500,
          "total_dons": 2
         },
         {
          "Class": 1,
          "since_first_don": 27,
          "since_last_don": 11,
          "total_blood": 1000,
          "total_dons": 4
         },
         {
          "Class": 2,
          "since_first_don": 40,
          "since_last_don": 4,
          "total_blood": 2000,
          "total_dons": 8
         },
         {
          "Class": 1,
          "since_first_don": 86,
          "since_last_don": 3,
          "total_blood": 4250,
          "total_dons": 17
         },
         {
          "Class": 1,
          "since_first_don": 4,
          "since_last_don": 4,
          "total_blood": 250,
          "total_dons": 1
         },
         {
          "Class": 1,
          "since_first_don": 45,
          "since_last_don": 2,
          "total_blood": 1500,
          "total_dons": 6
         },
         {
          "Class": 2,
          "since_first_don": 33,
          "since_last_don": 2,
          "total_blood": 1250,
          "total_dons": 5
         },
         {
          "Class": 1,
          "since_first_don": 59,
          "since_last_don": 0,
          "total_blood": 2000,
          "total_dons": 8
         },
         {
          "Class": 1,
          "since_first_don": 38,
          "since_last_don": 3,
          "total_blood": 1250,
          "total_dons": 5
         },
         {
          "Class": 2,
          "since_first_don": 49,
          "since_last_don": 2,
          "total_blood": 3750,
          "total_dons": 15
         },
         {
          "Class": 1,
          "since_first_don": 86,
          "since_last_don": 16,
          "total_blood": 750,
          "total_dons": 3
         },
         {
          "Class": 2,
          "since_first_don": 14,
          "since_last_don": 4,
          "total_blood": 1000,
          "total_dons": 4
         },
         {
          "Class": 1,
          "since_first_don": 34,
          "since_last_don": 11,
          "total_blood": 1000,
          "total_dons": 4
         },
         {
          "Class": 1,
          "since_first_don": 14,
          "since_last_don": 14,
          "total_blood": 250,
          "total_dons": 1
         },
         {
          "Class": 2,
          "since_first_don": 21,
          "since_last_don": 14,
          "total_blood": 500,
          "total_dons": 2
         },
         {
          "Class": 2,
          "since_first_don": 4,
          "since_last_don": 4,
          "total_blood": 1000,
          "total_dons": 4
         }
        ]
       },
       "encoding": {
        "color": {
         "field": "Class",
         "scale": {
          "scheme": "goldorange"
         },
         "type": "quantitative"
        },
        "x": {
         "field": "since_first_don",
         "type": "quantitative"
        },
        "y": {
         "aggregate": "count",
         "stack": null,
         "type": "quantitative"
        }
       },
       "mark": {
        "opacity": 0.7,
        "type": "bar"
       },
       "title": "Donor Recency Distribution"
      },
      "image/png": "[encoded data removed]",
      "text/plain": [
       "<VegaLite 3 object>\n",
       "\n",
       "If you see this message, it means the renderer has not been properly enabled\n",
       "for the frontend that you are using. For more information, see\n",
       "https://altair-viz.github.io/user_guide/troubleshooting.html\n"
      ]
     },
     "execution_count": 25,
     "metadata": {},
     "output_type": "execute_result"
    }
   ],
   "source": [
    "alt.Chart(blood_df_train).mark_bar(opacity = 0.7).encode(\n",
    "    alt.X(\"since_first_don\"),\n",
    "    alt.Y('count()', stack=None),\n",
    "    color=alt.Color('Class', scale=alt.Scale(scheme='goldorange'))\n",
    ").properties(title = \"Donor Recency Distribution\")"
   ]
  },
  {
   "cell_type": "code",
   "execution_count": 26,
   "metadata": {},
   "outputs": [
    {
     "data": {
      "application/vnd.vegalite.v3+json": {
       "$schema": "https://vega.github.io/schema/vega-lite/v3.4.0.json",
       "config": {
        "mark": {
         "tooltip": null
        },
        "view": {
         "height": 300,
         "width": 400
        }
       },
       "data": {
        "name": "data-9f8fa43238d447b8286cb04f7cfdb9c3"
       },
       "datasets": {
        "data-9f8fa43238d447b8286cb04f7cfdb9c3": [
         {
          "Class": 1,
          "since_first_don": 58,
          "since_last_don": 8,
          "total_blood": 2250,
          "total_dons": 9
         },
         {
          "Class": 1,
          "since_first_don": 21,
          "since_last_don": 13,
          "total_blood": 1000,
          "total_dons": 4
         },
         {
          "Class": 1,
          "since_first_don": 39,
          "since_last_don": 4,
          "total_blood": 1500,
          "total_dons": 6
         },
         {
          "Class": 1,
          "since_first_don": 46,
          "since_last_don": 4,
          "total_blood": 1250,
          "total_dons": 5
         },
         {
          "Class": 1,
          "since_first_don": 21,
          "since_last_don": 3,
          "total_blood": 1500,
          "total_dons": 6
         },
         {
          "Class": 1,
          "since_first_don": 9,
          "since_last_don": 9,
          "total_blood": 250,
          "total_dons": 1
         },
         {
          "Class": 1,
          "since_first_don": 14,
          "since_last_don": 14,
          "total_blood": 500,
          "total_dons": 2
         },
         {
          "Class": 1,
          "since_first_don": 77,
          "since_last_don": 2,
          "total_blood": 1750,
          "total_dons": 7
         },
         {
          "Class": 1,
          "since_first_don": 41,
          "since_last_don": 2,
          "total_blood": 500,
          "total_dons": 2
         },
         {
          "Class": 1,
          "since_first_don": 52,
          "since_last_don": 9,
          "total_blood": 500,
          "total_dons": 2
         },
         {
          "Class": 1,
          "since_first_don": 23,
          "since_last_don": 23,
          "total_blood": 250,
          "total_dons": 1
         },
         {
          "Class": 1,
          "since_first_don": 58,
          "since_last_don": 16,
          "total_blood": 1000,
          "total_dons": 4
         },
         {
          "Class": 1,
          "since_first_don": 26,
          "since_last_don": 2,
          "total_blood": 1000,
          "total_dons": 4
         },
         {
          "Class": 2,
          "since_first_don": 4,
          "since_last_don": 4,
          "total_blood": 500,
          "total_dons": 2
         },
         {
          "Class": 1,
          "since_first_don": 35,
          "since_last_don": 23,
          "total_blood": 750,
          "total_dons": 3
         },
         {
          "Class": 2,
          "since_first_don": 2,
          "since_last_don": 2,
          "total_blood": 250,
          "total_dons": 1
         },
         {
          "Class": 1,
          "since_first_don": 65,
          "since_last_don": 9,
          "total_blood": 1000,
          "total_dons": 4
         },
         {
          "Class": 2,
          "since_first_don": 19,
          "since_last_don": 14,
          "total_blood": 750,
          "total_dons": 3
         },
         {
          "Class": 1,
          "since_first_don": 58,
          "since_last_don": 4,
          "total_blood": 1750,
          "total_dons": 7
         },
         {
          "Class": 1,
          "since_first_don": 64,
          "since_last_don": 2,
          "total_blood": 4000,
          "total_dons": 16
         },
         {
          "Class": 1,
          "since_first_don": 4,
          "since_last_don": 4,
          "total_blood": 250,
          "total_dons": 1
         },
         {
          "Class": 1,
          "since_first_don": 40,
          "since_last_don": 40,
          "total_blood": 250,
          "total_dons": 1
         },
         {
          "Class": 1,
          "since_first_don": 14,
          "since_last_don": 14,
          "total_blood": 500,
          "total_dons": 2
         },
         {
          "Class": 1,
          "since_first_don": 89,
          "since_last_don": 16,
          "total_blood": 2500,
          "total_dons": 10
         },
         {
          "Class": 1,
          "since_first_don": 70,
          "since_last_don": 23,
          "total_blood": 1500,
          "total_dons": 6
         },
         {
          "Class": 1,
          "since_first_don": 62,
          "since_last_don": 4,
          "total_blood": 1750,
          "total_dons": 7
         },
         {
          "Class": 1,
          "since_first_don": 52,
          "since_last_don": 4,
          "total_blood": 1500,
          "total_dons": 6
         },
         {
          "Class": 2,
          "since_first_don": 28,
          "since_last_don": 4,
          "total_blood": 2500,
          "total_dons": 10
         },
         {
          "Class": 1,
          "since_first_don": 74,
          "since_last_don": 11,
          "total_blood": 1000,
          "total_dons": 4
         },
         {
          "Class": 1,
          "since_first_don": 14,
          "since_last_don": 4,
          "total_blood": 500,
          "total_dons": 2
         },
         {
          "Class": 2,
          "since_first_don": 21,
          "since_last_don": 21,
          "total_blood": 500,
          "total_dons": 2
         },
         {
          "Class": 1,
          "since_first_don": 81,
          "since_last_don": 16,
          "total_blood": 1500,
          "total_dons": 6
         },
         {
          "Class": 1,
          "since_first_don": 28,
          "since_last_don": 11,
          "total_blood": 1000,
          "total_dons": 4
         },
         {
          "Class": 2,
          "since_first_don": 98,
          "since_last_don": 4,
          "total_blood": 8250,
          "total_dons": 33
         },
         {
          "Class": 1,
          "since_first_don": 72,
          "since_last_don": 72,
          "total_blood": 250,
          "total_dons": 1
         },
         {
          "Class": 2,
          "since_first_don": 32,
          "since_last_don": 2,
          "total_blood": 1750,
          "total_dons": 7
         },
         {
          "Class": 1,
          "since_first_don": 19,
          "since_last_don": 16,
          "total_blood": 750,
          "total_dons": 3
         },
         {
          "Class": 1,
          "since_first_don": 15,
          "since_last_don": 11,
          "total_blood": 750,
          "total_dons": 3
         },
         {
          "Class": 2,
          "since_first_don": 16,
          "since_last_don": 2,
          "total_blood": 750,
          "total_dons": 3
         },
         {
          "Class": 1,
          "since_first_don": 4,
          "since_last_don": 4,
          "total_blood": 250,
          "total_dons": 1
         },
         {
          "Class": 1,
          "since_first_don": 26,
          "since_last_don": 2,
          "total_blood": 1000,
          "total_dons": 4
         },
         {
          "Class": 1,
          "since_first_don": 4,
          "since_last_don": 4,
          "total_blood": 250,
          "total_dons": 1
         },
         {
          "Class": 2,
          "since_first_don": 86,
          "since_last_don": 2,
          "total_blood": 10750,
          "total_dons": 43
         },
         {
          "Class": 2,
          "since_first_don": 64,
          "since_last_don": 4,
          "total_blood": 2750,
          "total_dons": 11
         },
         {
          "Class": 2,
          "since_first_don": 23,
          "since_last_don": 4,
          "total_blood": 1500,
          "total_dons": 6
         },
         {
          "Class": 1,
          "since_first_don": 24,
          "since_last_don": 2,
          "total_blood": 750,
          "total_dons": 3
         },
         {
          "Class": 1,
          "since_first_don": 59,
          "since_last_don": 12,
          "total_blood": 3250,
          "total_dons": 13
         },
         {
          "Class": 1,
          "since_first_don": 71,
          "since_last_don": 12,
          "total_blood": 3750,
          "total_dons": 15
         },
         {
          "Class": 1,
          "since_first_don": 58,
          "since_last_don": 11,
          "total_blood": 3000,
          "total_dons": 12
         },
         {
          "Class": 1,
          "since_first_don": 11,
          "since_last_don": 2,
          "total_blood": 1000,
          "total_dons": 4
         },
         {
          "Class": 1,
          "since_first_don": 2,
          "since_last_don": 2,
          "total_blood": 250,
          "total_dons": 1
         },
         {
          "Class": 1,
          "since_first_don": 21,
          "since_last_don": 21,
          "total_blood": 500,
          "total_dons": 2
         },
         {
          "Class": 1,
          "since_first_don": 35,
          "since_last_don": 2,
          "total_blood": 1000,
          "total_dons": 4
         },
         {
          "Class": 2,
          "since_first_don": 25,
          "since_last_don": 4,
          "total_blood": 750,
          "total_dons": 3
         },
         {
          "Class": 1,
          "since_first_don": 16,
          "since_last_don": 10,
          "total_blood": 1000,
          "total_dons": 4
         },
         {
          "Class": 1,
          "since_first_don": 21,
          "since_last_don": 21,
          "total_blood": 250,
          "total_dons": 1
         },
         {
          "Class": 2,
          "since_first_don": 4,
          "since_last_don": 4,
          "total_blood": 500,
          "total_dons": 2
         },
         {
          "Class": 2,
          "since_first_don": 41,
          "since_last_don": 2,
          "total_blood": 1500,
          "total_dons": 6
         },
         {
          "Class": 2,
          "since_first_don": 53,
          "since_last_don": 2,
          "total_blood": 3250,
          "total_dons": 13
         },
         {
          "Class": 1,
          "since_first_don": 40,
          "since_last_don": 4,
          "total_blood": 2250,
          "total_dons": 9
         },
         {
          "Class": 2,
          "since_first_don": 23,
          "since_last_don": 23,
          "total_blood": 250,
          "total_dons": 1
         },
         {
          "Class": 1,
          "since_first_don": 64,
          "since_last_don": 2,
          "total_blood": 3750,
          "total_dons": 15
         },
         {
          "Class": 1,
          "since_first_don": 21,
          "since_last_don": 2,
          "total_blood": 750,
          "total_dons": 3
         },
         {
          "Class": 1,
          "since_first_don": 23,
          "since_last_don": 23,
          "total_blood": 500,
          "total_dons": 2
         },
         {
          "Class": 1,
          "since_first_don": 4,
          "since_last_don": 4,
          "total_blood": 250,
          "total_dons": 1
         },
         {
          "Class": 2,
          "since_first_don": 14,
          "since_last_don": 2,
          "total_blood": 1000,
          "total_dons": 4
         },
         {
          "Class": 1,
          "since_first_don": 11,
          "since_last_don": 2,
          "total_blood": 500,
          "total_dons": 2
         },
         {
          "Class": 1,
          "since_first_don": 28,
          "since_last_don": 11,
          "total_blood": 1500,
          "total_dons": 6
         },
         {
          "Class": 1,
          "since_first_don": 87,
          "since_last_don": 23,
          "total_blood": 1000,
          "total_dons": 4
         },
         {
          "Class": 2,
          "since_first_don": 28,
          "since_last_don": 2,
          "total_blood": 1500,
          "total_dons": 6
         },
         {
          "Class": 2,
          "since_first_don": 49,
          "since_last_don": 9,
          "total_blood": 2750,
          "total_dons": 11
         },
         {
          "Class": 1,
          "since_first_don": 33,
          "since_last_don": 23,
          "total_blood": 750,
          "total_dons": 3
         },
         {
          "Class": 1,
          "since_first_don": 2,
          "since_last_don": 2,
          "total_blood": 250,
          "total_dons": 1
         },
         {
          "Class": 2,
          "since_first_don": 4,
          "since_last_don": 2,
          "total_blood": 500,
          "total_dons": 2
         },
         {
          "Class": 1,
          "since_first_don": 70,
          "since_last_don": 14,
          "total_blood": 4000,
          "total_dons": 16
         },
         {
          "Class": 2,
          "since_first_don": 52,
          "since_last_don": 8,
          "total_blood": 2000,
          "total_dons": 8
         },
         {
          "Class": 2,
          "since_first_don": 34,
          "since_last_don": 4,
          "total_blood": 2000,
          "total_dons": 8
         },
         {
          "Class": 1,
          "since_first_don": 35,
          "since_last_don": 7,
          "total_blood": 1250,
          "total_dons": 5
         },
         {
          "Class": 1,
          "since_first_don": 58,
          "since_last_don": 4,
          "total_blood": 1250,
          "total_dons": 5
         },
         {
          "Class": 1,
          "since_first_don": 11,
          "since_last_don": 11,
          "total_blood": 250,
          "total_dons": 1
         },
         {
          "Class": 2,
          "since_first_don": 76,
          "since_last_don": 2,
          "total_blood": 3250,
          "total_dons": 13
         },
         {
          "Class": 1,
          "since_first_don": 52,
          "since_last_don": 4,
          "total_blood": 1750,
          "total_dons": 7
         },
         {
          "Class": 1,
          "since_first_don": 50,
          "since_last_don": 14,
          "total_blood": 1250,
          "total_dons": 5
         },
         {
          "Class": 1,
          "since_first_don": 50,
          "since_last_don": 14,
          "total_blood": 2000,
          "total_dons": 8
         },
         {
          "Class": 1,
          "since_first_don": 59,
          "since_last_don": 4,
          "total_blood": 500,
          "total_dons": 2
         },
         {
          "Class": 1,
          "since_first_don": 28,
          "since_last_don": 11,
          "total_blood": 750,
          "total_dons": 3
         },
         {
          "Class": 1,
          "since_first_don": 23,
          "since_last_don": 23,
          "total_blood": 250,
          "total_dons": 1
         },
         {
          "Class": 1,
          "since_first_don": 58,
          "since_last_don": 23,
          "total_blood": 1250,
          "total_dons": 5
         },
         {
          "Class": 2,
          "since_first_don": 26,
          "since_last_don": 4,
          "total_blood": 1250,
          "total_dons": 5
         },
         {
          "Class": 2,
          "since_first_don": 98,
          "since_last_don": 2,
          "total_blood": 10250,
          "total_dons": 41
         },
         {
          "Class": 1,
          "since_first_don": 58,
          "since_last_don": 4,
          "total_blood": 1250,
          "total_dons": 5
         },
         {
          "Class": 1,
          "since_first_don": 14,
          "since_last_don": 14,
          "total_blood": 500,
          "total_dons": 2
         },
         {
          "Class": 2,
          "since_first_don": 16,
          "since_last_don": 2,
          "total_blood": 1500,
          "total_dons": 6
         },
         {
          "Class": 1,
          "since_first_don": 76,
          "since_last_don": 11,
          "total_blood": 750,
          "total_dons": 3
         },
         {
          "Class": 2,
          "since_first_don": 16,
          "since_last_don": 4,
          "total_blood": 750,
          "total_dons": 3
         },
         {
          "Class": 1,
          "since_first_don": 70,
          "since_last_don": 11,
          "total_blood": 500,
          "total_dons": 2
         },
         {
          "Class": 1,
          "since_first_don": 11,
          "since_last_don": 11,
          "total_blood": 500,
          "total_dons": 2
         },
         {
          "Class": 2,
          "since_first_don": 38,
          "since_last_don": 4,
          "total_blood": 4000,
          "total_dons": 16
         },
         {
          "Class": 1,
          "since_first_don": 11,
          "since_last_don": 11,
          "total_blood": 500,
          "total_dons": 2
         },
         {
          "Class": 1,
          "since_first_don": 29,
          "since_last_don": 14,
          "total_blood": 500,
          "total_dons": 2
         },
         {
          "Class": 1,
          "since_first_don": 23,
          "since_last_don": 3,
          "total_blood": 500,
          "total_dons": 2
         },
         {
          "Class": 1,
          "since_first_don": 52,
          "since_last_don": 4,
          "total_blood": 500,
          "total_dons": 2
         },
         {
          "Class": 1,
          "since_first_don": 16,
          "since_last_don": 4,
          "total_blood": 750,
          "total_dons": 3
         },
         {
          "Class": 1,
          "since_first_don": 71,
          "since_last_don": 4,
          "total_blood": 750,
          "total_dons": 3
         },
         {
          "Class": 1,
          "since_first_don": 35,
          "since_last_don": 14,
          "total_blood": 750,
          "total_dons": 3
         },
         {
          "Class": 2,
          "since_first_don": 35,
          "since_last_don": 16,
          "total_blood": 1500,
          "total_dons": 6
         },
         {
          "Class": 1,
          "since_first_don": 35,
          "since_last_don": 14,
          "total_blood": 1750,
          "total_dons": 7
         },
         {
          "Class": 2,
          "since_first_don": 28,
          "since_last_don": 4,
          "total_blood": 2250,
          "total_dons": 9
         },
         {
          "Class": 1,
          "since_first_don": 16,
          "since_last_don": 16,
          "total_blood": 250,
          "total_dons": 1
         },
         {
          "Class": 1,
          "since_first_don": 23,
          "since_last_don": 23,
          "total_blood": 250,
          "total_dons": 1
         },
         {
          "Class": 1,
          "since_first_don": 52,
          "since_last_don": 2,
          "total_blood": 2500,
          "total_dons": 10
         },
         {
          "Class": 1,
          "since_first_don": 31,
          "since_last_don": 4,
          "total_blood": 500,
          "total_dons": 2
         },
         {
          "Class": 1,
          "since_first_don": 14,
          "since_last_don": 4,
          "total_blood": 1500,
          "total_dons": 6
         },
         {
          "Class": 2,
          "since_first_don": 16,
          "since_last_don": 4,
          "total_blood": 1250,
          "total_dons": 5
         },
         {
          "Class": 2,
          "since_first_don": 35,
          "since_last_don": 4,
          "total_blood": 1500,
          "total_dons": 6
         },
         {
          "Class": 1,
          "since_first_don": 21,
          "since_last_don": 21,
          "total_blood": 250,
          "total_dons": 1
         },
         {
          "Class": 2,
          "since_first_don": 26,
          "since_last_don": 4,
          "total_blood": 2250,
          "total_dons": 9
         },
         {
          "Class": 1,
          "since_first_don": 76,
          "since_last_don": 16,
          "total_blood": 2000,
          "total_dons": 8
         },
         {
          "Class": 1,
          "since_first_don": 38,
          "since_last_don": 11,
          "total_blood": 1250,
          "total_dons": 5
         },
         {
          "Class": 1,
          "since_first_don": 57,
          "since_last_don": 1,
          "total_blood": 1750,
          "total_dons": 7
         },
         {
          "Class": 2,
          "since_first_don": 11,
          "since_last_don": 2,
          "total_blood": 1250,
          "total_dons": 5
         },
         {
          "Class": 1,
          "since_first_don": 35,
          "since_last_don": 16,
          "total_blood": 1500,
          "total_dons": 6
         },
         {
          "Class": 2,
          "since_first_don": 16,
          "since_last_don": 2,
          "total_blood": 1250,
          "total_dons": 5
         },
         {
          "Class": 1,
          "since_first_don": 11,
          "since_last_don": 11,
          "total_blood": 250,
          "total_dons": 1
         },
         {
          "Class": 1,
          "since_first_don": 2,
          "since_last_don": 2,
          "total_blood": 250,
          "total_dons": 1
         },
         {
          "Class": 1,
          "since_first_don": 48,
          "since_last_don": 11,
          "total_blood": 2000,
          "total_dons": 8
         },
         {
          "Class": 1,
          "since_first_don": 41,
          "since_last_don": 11,
          "total_blood": 1500,
          "total_dons": 6
         },
         {
          "Class": 1,
          "since_first_don": 48,
          "since_last_don": 7,
          "total_blood": 3500,
          "total_dons": 14
         },
         {
          "Class": 1,
          "since_first_don": 4,
          "since_last_don": 4,
          "total_blood": 500,
          "total_dons": 2
         },
         {
          "Class": 1,
          "since_first_don": 98,
          "since_last_don": 14,
          "total_blood": 4000,
          "total_dons": 16
         },
         {
          "Class": 1,
          "since_first_don": 52,
          "since_last_don": 14,
          "total_blood": 750,
          "total_dons": 3
         },
         {
          "Class": 1,
          "since_first_don": 17,
          "since_last_don": 11,
          "total_blood": 500,
          "total_dons": 2
         },
         {
          "Class": 2,
          "since_first_don": 2,
          "since_last_don": 2,
          "total_blood": 250,
          "total_dons": 1
         },
         {
          "Class": 2,
          "since_first_don": 46,
          "since_last_don": 2,
          "total_blood": 1750,
          "total_dons": 7
         },
         {
          "Class": 1,
          "since_first_don": 23,
          "since_last_don": 23,
          "total_blood": 250,
          "total_dons": 1
         },
         {
          "Class": 1,
          "since_first_don": 23,
          "since_last_don": 23,
          "total_blood": 250,
          "total_dons": 1
         },
         {
          "Class": 2,
          "since_first_don": 32,
          "since_last_don": 2,
          "total_blood": 3250,
          "total_dons": 13
         },
         {
          "Class": 1,
          "since_first_don": 89,
          "since_last_don": 7,
          "total_blood": 2750,
          "total_dons": 11
         },
         {
          "Class": 2,
          "since_first_don": 15,
          "since_last_don": 2,
          "total_blood": 1500,
          "total_dons": 6
         },
         {
          "Class": 2,
          "since_first_don": 16,
          "since_last_don": 2,
          "total_blood": 1500,
          "total_dons": 6
         },
         {
          "Class": 1,
          "since_first_don": 57,
          "since_last_don": 14,
          "total_blood": 3250,
          "total_dons": 13
         },
         {
          "Class": 1,
          "since_first_don": 58,
          "since_last_don": 1,
          "total_blood": 3500,
          "total_dons": 14
         },
         {
          "Class": 1,
          "since_first_don": 46,
          "since_last_don": 14,
          "total_blood": 2000,
          "total_dons": 8
         },
         {
          "Class": 2,
          "since_first_don": 98,
          "since_last_don": 2,
          "total_blood": 12500,
          "total_dons": 50
         },
         {
          "Class": 2,
          "since_first_don": 71,
          "since_last_don": 4,
          "total_blood": 4250,
          "total_dons": 17
         },
         {
          "Class": 1,
          "since_first_don": 33,
          "since_last_don": 14,
          "total_blood": 750,
          "total_dons": 3
         },
         {
          "Class": 1,
          "since_first_don": 64,
          "since_last_don": 16,
          "total_blood": 1750,
          "total_dons": 7
         },
         {
          "Class": 2,
          "since_first_don": 34,
          "since_last_don": 4,
          "total_blood": 1000,
          "total_dons": 4
         },
         {
          "Class": 1,
          "since_first_don": 26,
          "since_last_don": 21,
          "total_blood": 750,
          "total_dons": 3
         },
         {
          "Class": 1,
          "since_first_don": 64,
          "since_last_don": 11,
          "total_blood": 6000,
          "total_dons": 24
         },
         {
          "Class": 1,
          "since_first_don": 26,
          "since_last_don": 14,
          "total_blood": 2000,
          "total_dons": 8
         },
         {
          "Class": 2,
          "since_first_don": 41,
          "since_last_don": 2,
          "total_blood": 2750,
          "total_dons": 11
         },
         {
          "Class": 2,
          "since_first_don": 72,
          "since_last_don": 11,
          "total_blood": 2250,
          "total_dons": 9
         },
         {
          "Class": 1,
          "since_first_don": 21,
          "since_last_don": 21,
          "total_blood": 250,
          "total_dons": 1
         },
         {
          "Class": 1,
          "since_first_don": 16,
          "since_last_don": 9,
          "total_blood": 2250,
          "total_dons": 9
         },
         {
          "Class": 1,
          "since_first_don": 23,
          "since_last_don": 23,
          "total_blood": 250,
          "total_dons": 1
         },
         {
          "Class": 1,
          "since_first_don": 45,
          "since_last_don": 9,
          "total_blood": 2250,
          "total_dons": 9
         },
         {
          "Class": 1,
          "since_first_don": 26,
          "since_last_don": 11,
          "total_blood": 1500,
          "total_dons": 6
         },
         {
          "Class": 2,
          "since_first_don": 11,
          "since_last_don": 11,
          "total_blood": 250,
          "total_dons": 1
         },
         {
          "Class": 1,
          "since_first_don": 26,
          "since_last_don": 14,
          "total_blood": 1000,
          "total_dons": 4
         },
         {
          "Class": 1,
          "since_first_don": 11,
          "since_last_don": 2,
          "total_blood": 500,
          "total_dons": 2
         },
         {
          "Class": 1,
          "since_first_don": 14,
          "since_last_don": 14,
          "total_blood": 250,
          "total_dons": 1
         },
         {
          "Class": 1,
          "since_first_don": 16,
          "since_last_don": 11,
          "total_blood": 500,
          "total_dons": 2
         },
         {
          "Class": 1,
          "since_first_don": 16,
          "since_last_don": 16,
          "total_blood": 250,
          "total_dons": 1
         },
         {
          "Class": 1,
          "since_first_don": 40,
          "since_last_don": 21,
          "total_blood": 750,
          "total_dons": 3
         },
         {
          "Class": 1,
          "since_first_don": 58,
          "since_last_don": 4,
          "total_blood": 1250,
          "total_dons": 5
         },
         {
          "Class": 1,
          "since_first_don": 4,
          "since_last_don": 4,
          "total_blood": 250,
          "total_dons": 1
         },
         {
          "Class": 1,
          "since_first_don": 82,
          "since_last_don": 15,
          "total_blood": 4000,
          "total_dons": 16
         },
         {
          "Class": 1,
          "since_first_don": 14,
          "since_last_don": 14,
          "total_blood": 1250,
          "total_dons": 5
         },
         {
          "Class": 1,
          "since_first_don": 23,
          "since_last_don": 16,
          "total_blood": 1000,
          "total_dons": 4
         },
         {
          "Class": 1,
          "since_first_don": 70,
          "since_last_don": 2,
          "total_blood": 1000,
          "total_dons": 4
         },
         {
          "Class": 1,
          "since_first_don": 86,
          "since_last_don": 23,
          "total_blood": 3000,
          "total_dons": 12
         },
         {
          "Class": 1,
          "since_first_don": 14,
          "since_last_don": 14,
          "total_blood": 250,
          "total_dons": 1
         },
         {
          "Class": 1,
          "since_first_don": 26,
          "since_last_don": 14,
          "total_blood": 1250,
          "total_dons": 5
         },
         {
          "Class": 1,
          "since_first_don": 27,
          "since_last_don": 16,
          "total_blood": 1250,
          "total_dons": 5
         },
         {
          "Class": 2,
          "since_first_don": 11,
          "since_last_don": 2,
          "total_blood": 500,
          "total_dons": 2
         },
         {
          "Class": 1,
          "since_first_don": 9,
          "since_last_don": 4,
          "total_blood": 500,
          "total_dons": 2
         },
         {
          "Class": 1,
          "since_first_don": 39,
          "since_last_don": 16,
          "total_blood": 1750,
          "total_dons": 7
         },
         {
          "Class": 1,
          "since_first_don": 70,
          "since_last_don": 6,
          "total_blood": 4250,
          "total_dons": 17
         },
         {
          "Class": 1,
          "since_first_don": 93,
          "since_last_don": 16,
          "total_blood": 1750,
          "total_dons": 7
         },
         {
          "Class": 1,
          "since_first_don": 82,
          "since_last_don": 2,
          "total_blood": 3000,
          "total_dons": 12
         },
         {
          "Class": 1,
          "since_first_don": 26,
          "since_last_don": 14,
          "total_blood": 1750,
          "total_dons": 7
         },
         {
          "Class": 1,
          "since_first_don": 11,
          "since_last_don": 11,
          "total_blood": 250,
          "total_dons": 1
         },
         {
          "Class": 1,
          "since_first_don": 57,
          "since_last_don": 21,
          "total_blood": 3250,
          "total_dons": 13
         },
         {
          "Class": 1,
          "since_first_don": 2,
          "since_last_don": 2,
          "total_blood": 500,
          "total_dons": 2
         },
         {
          "Class": 2,
          "since_first_don": 79,
          "since_last_don": 11,
          "total_blood": 4250,
          "total_dons": 17
         },
         {
          "Class": 1,
          "since_first_don": 14,
          "since_last_don": 14,
          "total_blood": 500,
          "total_dons": 2
         },
         {
          "Class": 1,
          "since_first_don": 74,
          "since_last_don": 74,
          "total_blood": 250,
          "total_dons": 1
         },
         {
          "Class": 1,
          "since_first_don": 22,
          "since_last_don": 2,
          "total_blood": 750,
          "total_dons": 3
         },
         {
          "Class": 1,
          "since_first_don": 58,
          "since_last_don": 4,
          "total_blood": 1750,
          "total_dons": 7
         },
         {
          "Class": 1,
          "since_first_don": 2,
          "since_last_don": 2,
          "total_blood": 250,
          "total_dons": 1
         },
         {
          "Class": 2,
          "since_first_don": 4,
          "since_last_don": 4,
          "total_blood": 250,
          "total_dons": 1
         },
         {
          "Class": 2,
          "since_first_don": 12,
          "since_last_don": 3,
          "total_blood": 1250,
          "total_dons": 5
         },
         {
          "Class": 1,
          "since_first_don": 2,
          "since_last_don": 2,
          "total_blood": 250,
          "total_dons": 1
         },
         {
          "Class": 1,
          "since_first_don": 89,
          "since_last_don": 11,
          "total_blood": 4000,
          "total_dons": 16
         },
         {
          "Class": 1,
          "since_first_don": 33,
          "since_last_don": 15,
          "total_blood": 1250,
          "total_dons": 5
         },
         {
          "Class": 1,
          "since_first_don": 14,
          "since_last_don": 14,
          "total_blood": 500,
          "total_dons": 2
         },
         {
          "Class": 1,
          "since_first_don": 95,
          "since_last_don": 4,
          "total_blood": 2750,
          "total_dons": 11
         },
         {
          "Class": 1,
          "since_first_don": 30,
          "since_last_don": 4,
          "total_blood": 500,
          "total_dons": 2
         },
         {
          "Class": 1,
          "since_first_don": 14,
          "since_last_don": 14,
          "total_blood": 500,
          "total_dons": 2
         },
         {
          "Class": 2,
          "since_first_don": 28,
          "since_last_don": 4,
          "total_blood": 2500,
          "total_dons": 10
         },
         {
          "Class": 1,
          "since_first_don": 83,
          "since_last_don": 16,
          "total_blood": 3500,
          "total_dons": 14
         },
         {
          "Class": 1,
          "since_first_don": 38,
          "since_last_don": 11,
          "total_blood": 2250,
          "total_dons": 9
         },
         {
          "Class": 1,
          "since_first_don": 34,
          "since_last_don": 2,
          "total_blood": 1250,
          "total_dons": 5
         },
         {
          "Class": 1,
          "since_first_don": 35,
          "since_last_don": 11,
          "total_blood": 2500,
          "total_dons": 10
         },
         {
          "Class": 1,
          "since_first_don": 33,
          "since_last_don": 21,
          "total_blood": 500,
          "total_dons": 2
         },
         {
          "Class": 1,
          "since_first_don": 14,
          "since_last_don": 14,
          "total_blood": 250,
          "total_dons": 1
         },
         {
          "Class": 1,
          "since_first_don": 63,
          "since_last_don": 8,
          "total_blood": 2500,
          "total_dons": 10
         },
         {
          "Class": 2,
          "since_first_don": 23,
          "since_last_don": 4,
          "total_blood": 1250,
          "total_dons": 5
         },
         {
          "Class": 1,
          "since_first_don": 28,
          "since_last_don": 4,
          "total_blood": 1750,
          "total_dons": 7
         },
         {
          "Class": 1,
          "since_first_don": 14,
          "since_last_don": 14,
          "total_blood": 250,
          "total_dons": 1
         },
         {
          "Class": 2,
          "since_first_don": 4,
          "since_last_don": 2,
          "total_blood": 750,
          "total_dons": 3
         },
         {
          "Class": 1,
          "since_first_don": 58,
          "since_last_don": 4,
          "total_blood": 1250,
          "total_dons": 5
         },
         {
          "Class": 2,
          "since_first_don": 4,
          "since_last_don": 4,
          "total_blood": 250,
          "total_dons": 1
         },
         {
          "Class": 2,
          "since_first_don": 11,
          "since_last_don": 4,
          "total_blood": 1250,
          "total_dons": 5
         },
         {
          "Class": 1,
          "since_first_don": 34,
          "since_last_don": 4,
          "total_blood": 750,
          "total_dons": 3
         },
         {
          "Class": 1,
          "since_first_don": 4,
          "since_last_don": 4,
          "total_blood": 250,
          "total_dons": 1
         },
         {
          "Class": 1,
          "since_first_don": 33,
          "since_last_don": 11,
          "total_blood": 1250,
          "total_dons": 5
         },
         {
          "Class": 2,
          "since_first_don": 40,
          "since_last_don": 11,
          "total_blood": 750,
          "total_dons": 3
         },
         {
          "Class": 1,
          "since_first_don": 28,
          "since_last_don": 16,
          "total_blood": 2000,
          "total_dons": 8
         },
         {
          "Class": 1,
          "since_first_don": 26,
          "since_last_don": 13,
          "total_blood": 2000,
          "total_dons": 8
         },
         {
          "Class": 1,
          "since_first_don": 21,
          "since_last_don": 21,
          "total_blood": 250,
          "total_dons": 1
         },
         {
          "Class": 1,
          "since_first_don": 86,
          "since_last_don": 4,
          "total_blood": 3500,
          "total_dons": 14
         },
         {
          "Class": 1,
          "since_first_don": 4,
          "since_last_don": 4,
          "total_blood": 250,
          "total_dons": 1
         },
         {
          "Class": 1,
          "since_first_don": 62,
          "since_last_don": 16,
          "total_blood": 2500,
          "total_dons": 10
         },
         {
          "Class": 2,
          "since_first_don": 35,
          "since_last_don": 2,
          "total_blood": 1750,
          "total_dons": 7
         },
         {
          "Class": 1,
          "since_first_don": 4,
          "since_last_don": 4,
          "total_blood": 250,
          "total_dons": 1
         },
         {
          "Class": 1,
          "since_first_don": 52,
          "since_last_don": 4,
          "total_blood": 1750,
          "total_dons": 7
         },
         {
          "Class": 2,
          "since_first_don": 28,
          "since_last_don": 6,
          "total_blood": 5500,
          "total_dons": 22
         },
         {
          "Class": 1,
          "since_first_don": 38,
          "since_last_don": 21,
          "total_blood": 1750,
          "total_dons": 7
         },
         {
          "Class": 1,
          "since_first_don": 75,
          "since_last_don": 5,
          "total_blood": 2750,
          "total_dons": 11
         },
         {
          "Class": 1,
          "since_first_don": 46,
          "since_last_don": 4,
          "total_blood": 1500,
          "total_dons": 6
         },
         {
          "Class": 1,
          "since_first_don": 38,
          "since_last_don": 10,
          "total_blood": 1250,
          "total_dons": 5
         },
         {
          "Class": 2,
          "since_first_don": 70,
          "since_last_don": 4,
          "total_blood": 4000,
          "total_dons": 16
         },
         {
          "Class": 2,
          "since_first_don": 34,
          "since_last_don": 4,
          "total_blood": 3000,
          "total_dons": 12
         },
         {
          "Class": 1,
          "since_first_don": 16,
          "since_last_don": 16,
          "total_blood": 250,
          "total_dons": 1
         },
         {
          "Class": 1,
          "since_first_don": 4,
          "since_last_don": 4,
          "total_blood": 250,
          "total_dons": 1
         },
         {
          "Class": 1,
          "since_first_don": 11,
          "since_last_don": 11,
          "total_blood": 500,
          "total_dons": 2
         },
         {
          "Class": 2,
          "since_first_don": 35,
          "since_last_don": 4,
          "total_blood": 1250,
          "total_dons": 5
         },
         {
          "Class": 1,
          "since_first_don": 2,
          "since_last_don": 2,
          "total_blood": 250,
          "total_dons": 1
         },
         {
          "Class": 1,
          "since_first_don": 16,
          "since_last_don": 16,
          "total_blood": 250,
          "total_dons": 1
         },
         {
          "Class": 1,
          "since_first_don": 16,
          "since_last_don": 2,
          "total_blood": 1000,
          "total_dons": 4
         },
         {
          "Class": 2,
          "since_first_don": 16,
          "since_last_don": 9,
          "total_blood": 500,
          "total_dons": 2
         },
         {
          "Class": 1,
          "since_first_don": 4,
          "since_last_don": 4,
          "total_blood": 250,
          "total_dons": 1
         },
         {
          "Class": 1,
          "since_first_don": 2,
          "since_last_don": 2,
          "total_blood": 250,
          "total_dons": 1
         },
         {
          "Class": 1,
          "since_first_don": 21,
          "since_last_don": 21,
          "total_blood": 250,
          "total_dons": 1
         },
         {
          "Class": 1,
          "since_first_don": 28,
          "since_last_don": 4,
          "total_blood": 2750,
          "total_dons": 11
         },
         {
          "Class": 1,
          "since_first_don": 21,
          "since_last_don": 21,
          "total_blood": 250,
          "total_dons": 1
         },
         {
          "Class": 1,
          "since_first_don": 35,
          "since_last_don": 4,
          "total_blood": 1500,
          "total_dons": 6
         },
         {
          "Class": 1,
          "since_first_don": 64,
          "since_last_don": 14,
          "total_blood": 1250,
          "total_dons": 5
         },
         {
          "Class": 1,
          "since_first_don": 21,
          "since_last_don": 21,
          "total_blood": 250,
          "total_dons": 1
         },
         {
          "Class": 1,
          "since_first_don": 26,
          "since_last_don": 11,
          "total_blood": 500,
          "total_dons": 2
         },
         {
          "Class": 2,
          "since_first_don": 21,
          "since_last_don": 16,
          "total_blood": 750,
          "total_dons": 3
         },
         {
          "Class": 1,
          "since_first_don": 28,
          "since_last_don": 4,
          "total_blood": 2250,
          "total_dons": 9
         },
         {
          "Class": 1,
          "since_first_don": 4,
          "since_last_don": 4,
          "total_blood": 250,
          "total_dons": 1
         },
         {
          "Class": 1,
          "since_first_don": 39,
          "since_last_don": 10,
          "total_blood": 2000,
          "total_dons": 8
         },
         {
          "Class": 1,
          "since_first_don": 4,
          "since_last_don": 4,
          "total_blood": 250,
          "total_dons": 1
         },
         {
          "Class": 1,
          "since_first_don": 14,
          "since_last_don": 2,
          "total_blood": 500,
          "total_dons": 2
         },
         {
          "Class": 2,
          "since_first_don": 28,
          "since_last_don": 14,
          "total_blood": 1250,
          "total_dons": 5
         },
         {
          "Class": 2,
          "since_first_don": 4,
          "since_last_don": 4,
          "total_blood": 250,
          "total_dons": 1
         },
         {
          "Class": 1,
          "since_first_don": 2,
          "since_last_don": 2,
          "total_blood": 250,
          "total_dons": 1
         },
         {
          "Class": 2,
          "since_first_don": 39,
          "since_last_don": 4,
          "total_blood": 3250,
          "total_dons": 13
         },
         {
          "Class": 1,
          "since_first_don": 57,
          "since_last_don": 23,
          "total_blood": 3750,
          "total_dons": 15
         },
         {
          "Class": 1,
          "since_first_don": 11,
          "since_last_don": 11,
          "total_blood": 250,
          "total_dons": 1
         },
         {
          "Class": 1,
          "since_first_don": 69,
          "since_last_don": 23,
          "total_blood": 2000,
          "total_dons": 8
         },
         {
          "Class": 1,
          "since_first_don": 26,
          "since_last_don": 23,
          "total_blood": 500,
          "total_dons": 2
         },
         {
          "Class": 1,
          "since_first_don": 64,
          "since_last_don": 23,
          "total_blood": 2000,
          "total_dons": 8
         },
         {
          "Class": 1,
          "since_first_don": 28,
          "since_last_don": 4,
          "total_blood": 750,
          "total_dons": 3
         },
         {
          "Class": 1,
          "since_first_don": 16,
          "since_last_don": 16,
          "total_blood": 250,
          "total_dons": 1
         },
         {
          "Class": 1,
          "since_first_don": 22,
          "since_last_don": 2,
          "total_blood": 1500,
          "total_dons": 6
         },
         {
          "Class": 1,
          "since_first_don": 28,
          "since_last_don": 23,
          "total_blood": 500,
          "total_dons": 2
         },
         {
          "Class": 1,
          "since_first_don": 71,
          "since_last_don": 16,
          "total_blood": 1250,
          "total_dons": 5
         },
         {
          "Class": 1,
          "since_first_don": 23,
          "since_last_don": 12,
          "total_blood": 2750,
          "total_dons": 11
         },
         {
          "Class": 1,
          "since_first_don": 62,
          "since_last_don": 23,
          "total_blood": 4750,
          "total_dons": 19
         },
         {
          "Class": 1,
          "since_first_don": 60,
          "since_last_don": 16,
          "total_blood": 1250,
          "total_dons": 5
         },
         {
          "Class": 2,
          "since_first_don": 40,
          "since_last_don": 2,
          "total_blood": 2750,
          "total_dons": 11
         },
         {
          "Class": 1,
          "since_first_don": 26,
          "since_last_don": 2,
          "total_blood": 1250,
          "total_dons": 5
         },
         {
          "Class": 1,
          "since_first_don": 38,
          "since_last_don": 21,
          "total_blood": 750,
          "total_dons": 3
         },
         {
          "Class": 1,
          "since_first_don": 23,
          "since_last_don": 23,
          "total_blood": 250,
          "total_dons": 1
         },
         {
          "Class": 1,
          "since_first_don": 21,
          "since_last_don": 11,
          "total_blood": 500,
          "total_dons": 2
         },
         {
          "Class": 1,
          "since_first_don": 87,
          "since_last_don": 16,
          "total_blood": 3750,
          "total_dons": 15
         },
         {
          "Class": 1,
          "since_first_don": 39,
          "since_last_don": 23,
          "total_blood": 750,
          "total_dons": 3
         },
         {
          "Class": 2,
          "since_first_don": 58,
          "since_last_don": 17,
          "total_blood": 1750,
          "total_dons": 7
         },
         {
          "Class": 1,
          "since_first_don": 98,
          "since_last_don": 11,
          "total_blood": 5500,
          "total_dons": 22
         },
         {
          "Class": 2,
          "since_first_don": 62,
          "since_last_don": 11,
          "total_blood": 1750,
          "total_dons": 7
         },
         {
          "Class": 1,
          "since_first_don": 26,
          "since_last_don": 2,
          "total_blood": 1500,
          "total_dons": 6
         },
         {
          "Class": 1,
          "since_first_don": 40,
          "since_last_don": 16,
          "total_blood": 1500,
          "total_dons": 6
         },
         {
          "Class": 2,
          "since_first_don": 14,
          "since_last_don": 2,
          "total_blood": 1750,
          "total_dons": 7
         },
         {
          "Class": 1,
          "since_first_don": 34,
          "since_last_don": 16,
          "total_blood": 750,
          "total_dons": 3
         },
         {
          "Class": 1,
          "since_first_don": 28,
          "since_last_don": 23,
          "total_blood": 500,
          "total_dons": 2
         },
         {
          "Class": 1,
          "since_first_don": 50,
          "since_last_don": 16,
          "total_blood": 750,
          "total_dons": 3
         },
         {
          "Class": 2,
          "since_first_don": 22,
          "since_last_don": 22,
          "total_blood": 250,
          "total_dons": 1
         },
         {
          "Class": 1,
          "since_first_don": 23,
          "since_last_don": 23,
          "total_blood": 250,
          "total_dons": 1
         },
         {
          "Class": 1,
          "since_first_don": 48,
          "since_last_don": 21,
          "total_blood": 1500,
          "total_dons": 6
         },
         {
          "Class": 2,
          "since_first_don": 35,
          "since_last_don": 2,
          "total_blood": 2000,
          "total_dons": 8
         },
         {
          "Class": 1,
          "since_first_don": 21,
          "since_last_don": 21,
          "total_blood": 250,
          "total_dons": 1
         },
         {
          "Class": 1,
          "since_first_don": 35,
          "since_last_don": 21,
          "total_blood": 750,
          "total_dons": 3
         },
         {
          "Class": 1,
          "since_first_don": 49,
          "since_last_don": 2,
          "total_blood": 2500,
          "total_dons": 10
         },
         {
          "Class": 1,
          "since_first_don": 52,
          "since_last_don": 9,
          "total_blood": 500,
          "total_dons": 2
         },
         {
          "Class": 2,
          "since_first_don": 16,
          "since_last_don": 4,
          "total_blood": 1500,
          "total_dons": 6
         },
         {
          "Class": 2,
          "since_first_don": 2,
          "since_last_don": 2,
          "total_blood": 250,
          "total_dons": 1
         },
         {
          "Class": 2,
          "since_first_don": 48,
          "since_last_don": 4,
          "total_blood": 2000,
          "total_dons": 8
         },
         {
          "Class": 1,
          "since_first_don": 23,
          "since_last_don": 23,
          "total_blood": 250,
          "total_dons": 1
         },
         {
          "Class": 2,
          "since_first_don": 43,
          "since_last_don": 1,
          "total_blood": 2500,
          "total_dons": 10
         },
         {
          "Class": 2,
          "since_first_don": 2,
          "since_last_don": 2,
          "total_blood": 250,
          "total_dons": 1
         },
         {
          "Class": 1,
          "since_first_don": 28,
          "since_last_don": 2,
          "total_blood": 2750,
          "total_dons": 11
         },
         {
          "Class": 1,
          "since_first_don": 35,
          "since_last_don": 1,
          "total_blood": 3000,
          "total_dons": 12
         },
         {
          "Class": 1,
          "since_first_don": 11,
          "since_last_don": 11,
          "total_blood": 250,
          "total_dons": 1
         },
         {
          "Class": 2,
          "since_first_don": 57,
          "since_last_don": 2,
          "total_blood": 3500,
          "total_dons": 14
         },
         {
          "Class": 1,
          "since_first_don": 18,
          "since_last_don": 11,
          "total_blood": 1250,
          "total_dons": 5
         },
         {
          "Class": 1,
          "since_first_don": 23,
          "since_last_don": 18,
          "total_blood": 500,
          "total_dons": 2
         },
         {
          "Class": 2,
          "since_first_don": 4,
          "since_last_don": 4,
          "total_blood": 500,
          "total_dons": 2
         },
         {
          "Class": 2,
          "since_first_don": 28,
          "since_last_don": 2,
          "total_blood": 2500,
          "total_dons": 10
         },
         {
          "Class": 1,
          "since_first_don": 14,
          "since_last_don": 14,
          "total_blood": 250,
          "total_dons": 1
         },
         {
          "Class": 1,
          "since_first_don": 95,
          "since_last_don": 18,
          "total_blood": 2000,
          "total_dons": 8
         },
         {
          "Class": 1,
          "since_first_don": 23,
          "since_last_don": 4,
          "total_blood": 500,
          "total_dons": 2
         },
         {
          "Class": 2,
          "since_first_don": 9,
          "since_last_don": 4,
          "total_blood": 500,
          "total_dons": 2
         },
         {
          "Class": 1,
          "since_first_don": 2,
          "since_last_don": 2,
          "total_blood": 250,
          "total_dons": 1
         },
         {
          "Class": 1,
          "since_first_don": 23,
          "since_last_don": 23,
          "total_blood": 250,
          "total_dons": 1
         },
         {
          "Class": 1,
          "since_first_don": 45,
          "since_last_don": 16,
          "total_blood": 1000,
          "total_dons": 4
         },
         {
          "Class": 1,
          "since_first_don": 23,
          "since_last_don": 23,
          "total_blood": 250,
          "total_dons": 1
         },
         {
          "Class": 1,
          "since_first_don": 28,
          "since_last_don": 5,
          "total_blood": 1500,
          "total_dons": 6
         },
         {
          "Class": 1,
          "since_first_don": 61,
          "since_last_don": 4,
          "total_blood": 2750,
          "total_dons": 11
         },
         {
          "Class": 2,
          "since_first_don": 38,
          "since_last_don": 4,
          "total_blood": 2250,
          "total_dons": 9
         },
         {
          "Class": 1,
          "since_first_don": 40,
          "since_last_don": 4,
          "total_blood": 3500,
          "total_dons": 14
         },
         {
          "Class": 1,
          "since_first_don": 4,
          "since_last_don": 4,
          "total_blood": 250,
          "total_dons": 1
         },
         {
          "Class": 2,
          "since_first_don": 2,
          "since_last_don": 2,
          "total_blood": 250,
          "total_dons": 1
         },
         {
          "Class": 1,
          "since_first_don": 16,
          "since_last_don": 2,
          "total_blood": 1000,
          "total_dons": 4
         },
         {
          "Class": 1,
          "since_first_don": 24,
          "since_last_don": 11,
          "total_blood": 500,
          "total_dons": 2
         },
         {
          "Class": 1,
          "since_first_don": 35,
          "since_last_don": 4,
          "total_blood": 1500,
          "total_dons": 6
         },
         {
          "Class": 2,
          "since_first_don": 28,
          "since_last_don": 0,
          "total_blood": 3250,
          "total_dons": 13
         },
         {
          "Class": 1,
          "since_first_don": 77,
          "since_last_don": 2,
          "total_blood": 1750,
          "total_dons": 7
         },
         {
          "Class": 2,
          "since_first_don": 4,
          "since_last_don": 2,
          "total_blood": 750,
          "total_dons": 3
         },
         {
          "Class": 1,
          "since_first_don": 21,
          "since_last_don": 4,
          "total_blood": 2000,
          "total_dons": 8
         },
         {
          "Class": 1,
          "since_first_don": 16,
          "since_last_don": 16,
          "total_blood": 500,
          "total_dons": 2
         },
         {
          "Class": 1,
          "since_first_don": 40,
          "since_last_don": 14,
          "total_blood": 1000,
          "total_dons": 4
         },
         {
          "Class": 1,
          "since_first_don": 79,
          "since_last_don": 5,
          "total_blood": 6000,
          "total_dons": 24
         },
         {
          "Class": 1,
          "since_first_don": 11,
          "since_last_don": 11,
          "total_blood": 250,
          "total_dons": 1
         },
         {
          "Class": 1,
          "since_first_don": 35,
          "since_last_don": 21,
          "total_blood": 750,
          "total_dons": 3
         },
         {
          "Class": 1,
          "since_first_don": 16,
          "since_last_don": 2,
          "total_blood": 1000,
          "total_dons": 4
         },
         {
          "Class": 1,
          "since_first_don": 11,
          "since_last_don": 11,
          "total_blood": 250,
          "total_dons": 1
         },
         {
          "Class": 1,
          "since_first_don": 16,
          "since_last_don": 2,
          "total_blood": 1000,
          "total_dons": 4
         },
         {
          "Class": 2,
          "since_first_don": 40,
          "since_last_don": 16,
          "total_blood": 1250,
          "total_dons": 5
         },
         {
          "Class": 1,
          "since_first_don": 50,
          "since_last_don": 16,
          "total_blood": 3000,
          "total_dons": 12
         },
         {
          "Class": 1,
          "since_first_don": 14,
          "since_last_don": 14,
          "total_blood": 250,
          "total_dons": 1
         },
         {
          "Class": 1,
          "since_first_don": 64,
          "since_last_don": 35,
          "total_blood": 750,
          "total_dons": 3
         },
         {
          "Class": 1,
          "since_first_don": 47,
          "since_last_don": 14,
          "total_blood": 1750,
          "total_dons": 7
         },
         {
          "Class": 1,
          "since_first_don": 11,
          "since_last_don": 11,
          "total_blood": 250,
          "total_dons": 1
         },
         {
          "Class": 1,
          "since_first_don": 52,
          "since_last_don": 2,
          "total_blood": 3000,
          "total_dons": 12
         },
         {
          "Class": 1,
          "since_first_don": 78,
          "since_last_don": 14,
          "total_blood": 4500,
          "total_dons": 18
         },
         {
          "Class": 1,
          "since_first_don": 2,
          "since_last_don": 2,
          "total_blood": 250,
          "total_dons": 1
         },
         {
          "Class": 1,
          "since_first_don": 16,
          "since_last_don": 4,
          "total_blood": 1000,
          "total_dons": 4
         },
         {
          "Class": 1,
          "since_first_don": 25,
          "since_last_don": 21,
          "total_blood": 500,
          "total_dons": 2
         },
         {
          "Class": 1,
          "since_first_don": 41,
          "since_last_don": 21,
          "total_blood": 500,
          "total_dons": 2
         },
         {
          "Class": 1,
          "since_first_don": 39,
          "since_last_don": 12,
          "total_blood": 2750,
          "total_dons": 11
         },
         {
          "Class": 1,
          "since_first_don": 75,
          "since_last_don": 11,
          "total_blood": 1750,
          "total_dons": 7
         },
         {
          "Class": 1,
          "since_first_don": 72,
          "since_last_don": 11,
          "total_blood": 2000,
          "total_dons": 8
         },
         {
          "Class": 1,
          "since_first_don": 26,
          "since_last_don": 6,
          "total_blood": 750,
          "total_dons": 3
         },
         {
          "Class": 1,
          "since_first_don": 37,
          "since_last_don": 11,
          "total_blood": 750,
          "total_dons": 3
         },
         {
          "Class": 1,
          "since_first_don": 11,
          "since_last_don": 11,
          "total_blood": 250,
          "total_dons": 1
         },
         {
          "Class": 1,
          "since_first_don": 26,
          "since_last_don": 2,
          "total_blood": 1250,
          "total_dons": 5
         },
         {
          "Class": 1,
          "since_first_don": 45,
          "since_last_don": 23,
          "total_blood": 1000,
          "total_dons": 4
         },
         {
          "Class": 1,
          "since_first_don": 35,
          "since_last_don": 16,
          "total_blood": 750,
          "total_dons": 3
         },
         {
          "Class": 1,
          "since_first_don": 22,
          "since_last_don": 2,
          "total_blood": 500,
          "total_dons": 2
         },
         {
          "Class": 1,
          "since_first_don": 23,
          "since_last_don": 21,
          "total_blood": 500,
          "total_dons": 2
         },
         {
          "Class": 1,
          "since_first_don": 11,
          "since_last_don": 2,
          "total_blood": 500,
          "total_dons": 2
         },
         {
          "Class": 1,
          "since_first_don": 4,
          "since_last_don": 4,
          "total_blood": 250,
          "total_dons": 1
         },
         {
          "Class": 1,
          "since_first_don": 87,
          "since_last_don": 23,
          "total_blood": 500,
          "total_dons": 2
         },
         {
          "Class": 1,
          "since_first_don": 21,
          "since_last_don": 21,
          "total_blood": 250,
          "total_dons": 1
         },
         {
          "Class": 1,
          "since_first_don": 16,
          "since_last_don": 4,
          "total_blood": 750,
          "total_dons": 3
         },
         {
          "Class": 2,
          "since_first_don": 46,
          "since_last_don": 4,
          "total_blood": 2000,
          "total_dons": 8
         },
         {
          "Class": 1,
          "since_first_don": 78,
          "since_last_don": 4,
          "total_blood": 2750,
          "total_dons": 11
         },
         {
          "Class": 1,
          "since_first_don": 43,
          "since_last_don": 2,
          "total_blood": 1000,
          "total_dons": 4
         },
         {
          "Class": 1,
          "since_first_don": 21,
          "since_last_don": 14,
          "total_blood": 750,
          "total_dons": 3
         },
         {
          "Class": 1,
          "since_first_don": 86,
          "since_last_don": 7,
          "total_blood": 3000,
          "total_dons": 12
         },
         {
          "Class": 1,
          "since_first_don": 14,
          "since_last_don": 2,
          "total_blood": 750,
          "total_dons": 3
         },
         {
          "Class": 1,
          "since_first_don": 14,
          "since_last_don": 14,
          "total_blood": 250,
          "total_dons": 1
         },
         {
          "Class": 1,
          "since_first_don": 64,
          "since_last_don": 11,
          "total_blood": 1750,
          "total_dons": 7
         },
         {
          "Class": 1,
          "since_first_don": 50,
          "since_last_don": 25,
          "total_blood": 1500,
          "total_dons": 6
         },
         {
          "Class": 2,
          "since_first_don": 69,
          "since_last_don": 4,
          "total_blood": 5000,
          "total_dons": 20
         },
         {
          "Class": 1,
          "since_first_don": 41,
          "since_last_don": 14,
          "total_blood": 750,
          "total_dons": 3
         },
         {
          "Class": 1,
          "since_first_don": 2,
          "since_last_don": 2,
          "total_blood": 250,
          "total_dons": 1
         },
         {
          "Class": 2,
          "since_first_don": 42,
          "since_last_don": 3,
          "total_blood": 5250,
          "total_dons": 21
         },
         {
          "Class": 1,
          "since_first_don": 38,
          "since_last_don": 16,
          "total_blood": 1750,
          "total_dons": 7
         },
         {
          "Class": 1,
          "since_first_don": 21,
          "since_last_don": 16,
          "total_blood": 750,
          "total_dons": 3
         },
         {
          "Class": 1,
          "since_first_don": 2,
          "since_last_don": 2,
          "total_blood": 250,
          "total_dons": 1
         },
         {
          "Class": 1,
          "since_first_don": 98,
          "since_last_don": 2,
          "total_blood": 3000,
          "total_dons": 12
         },
         {
          "Class": 1,
          "since_first_don": 23,
          "since_last_don": 21,
          "total_blood": 500,
          "total_dons": 2
         },
         {
          "Class": 1,
          "since_first_don": 4,
          "since_last_don": 4,
          "total_blood": 250,
          "total_dons": 1
         },
         {
          "Class": 2,
          "since_first_don": 4,
          "since_last_don": 4,
          "total_blood": 250,
          "total_dons": 1
         },
         {
          "Class": 1,
          "since_first_don": 21,
          "since_last_don": 21,
          "total_blood": 250,
          "total_dons": 1
         },
         {
          "Class": 2,
          "since_first_don": 28,
          "since_last_don": 4,
          "total_blood": 2500,
          "total_dons": 10
         },
         {
          "Class": 1,
          "since_first_don": 33,
          "since_last_don": 2,
          "total_blood": 500,
          "total_dons": 2
         },
         {
          "Class": 1,
          "since_first_don": 41,
          "since_last_don": 4,
          "total_blood": 500,
          "total_dons": 2
         },
         {
          "Class": 2,
          "since_first_don": 11,
          "since_last_don": 2,
          "total_blood": 500,
          "total_dons": 2
         },
         {
          "Class": 1,
          "since_first_don": 37,
          "since_last_don": 2,
          "total_blood": 1250,
          "total_dons": 5
         },
         {
          "Class": 1,
          "since_first_don": 23,
          "since_last_don": 2,
          "total_blood": 1000,
          "total_dons": 4
         },
         {
          "Class": 1,
          "since_first_don": 16,
          "since_last_don": 13,
          "total_blood": 750,
          "total_dons": 3
         },
         {
          "Class": 1,
          "since_first_don": 52,
          "since_last_don": 4,
          "total_blood": 2250,
          "total_dons": 9
         },
         {
          "Class": 1,
          "since_first_don": 16,
          "since_last_don": 16,
          "total_blood": 250,
          "total_dons": 1
         },
         {
          "Class": 1,
          "since_first_don": 23,
          "since_last_don": 11,
          "total_blood": 750,
          "total_dons": 3
         },
         {
          "Class": 1,
          "since_first_don": 26,
          "since_last_don": 14,
          "total_blood": 750,
          "total_dons": 3
         },
         {
          "Class": 1,
          "since_first_don": 35,
          "since_last_don": 11,
          "total_blood": 1250,
          "total_dons": 5
         },
         {
          "Class": 1,
          "since_first_don": 16,
          "since_last_don": 16,
          "total_blood": 250,
          "total_dons": 1
         },
         {
          "Class": 1,
          "since_first_don": 58,
          "since_last_don": 4,
          "total_blood": 5750,
          "total_dons": 23
         },
         {
          "Class": 1,
          "since_first_don": 26,
          "since_last_don": 21,
          "total_blood": 500,
          "total_dons": 2
         },
         {
          "Class": 2,
          "since_first_don": 28,
          "since_last_don": 2,
          "total_blood": 1500,
          "total_dons": 6
         },
         {
          "Class": 1,
          "since_first_don": 75,
          "since_last_don": 2,
          "total_blood": 1500,
          "total_dons": 6
         },
         {
          "Class": 1,
          "since_first_don": 76,
          "since_last_don": 2,
          "total_blood": 1750,
          "total_dons": 7
         },
         {
          "Class": 1,
          "since_first_don": 61,
          "since_last_don": 11,
          "total_blood": 1000,
          "total_dons": 4
         },
         {
          "Class": 1,
          "since_first_don": 51,
          "since_last_don": 1,
          "total_blood": 2250,
          "total_dons": 9
         },
         {
          "Class": 1,
          "since_first_don": 14,
          "since_last_don": 2,
          "total_blood": 500,
          "total_dons": 2
         },
         {
          "Class": 1,
          "since_first_don": 75,
          "since_last_don": 2,
          "total_blood": 2250,
          "total_dons": 9
         },
         {
          "Class": 1,
          "since_first_don": 23,
          "since_last_don": 4,
          "total_blood": 1250,
          "total_dons": 5
         },
         {
          "Class": 1,
          "since_first_don": 16,
          "since_last_don": 14,
          "total_blood": 500,
          "total_dons": 2
         },
         {
          "Class": 1,
          "since_first_don": 60,
          "since_last_don": 12,
          "total_blood": 2250,
          "total_dons": 9
         },
         {
          "Class": 2,
          "since_first_don": 87,
          "since_last_don": 16,
          "total_blood": 1750,
          "total_dons": 7
         },
         {
          "Class": 2,
          "since_first_don": 77,
          "since_last_don": 2,
          "total_blood": 8500,
          "total_dons": 34
         },
         {
          "Class": 1,
          "since_first_don": 98,
          "since_last_don": 23,
          "total_blood": 9500,
          "total_dons": 38
         },
         {
          "Class": 1,
          "since_first_don": 45,
          "since_last_don": 14,
          "total_blood": 1750,
          "total_dons": 7
         },
         {
          "Class": 1,
          "since_first_don": 23,
          "since_last_don": 2,
          "total_blood": 2750,
          "total_dons": 11
         },
         {
          "Class": 1,
          "since_first_don": 76,
          "since_last_don": 11,
          "total_blood": 750,
          "total_dons": 3
         },
         {
          "Class": 2,
          "since_first_don": 22,
          "since_last_don": 14,
          "total_blood": 1000,
          "total_dons": 4
         },
         {
          "Class": 1,
          "since_first_don": 16,
          "since_last_don": 16,
          "total_blood": 250,
          "total_dons": 1
         },
         {
          "Class": 1,
          "since_first_don": 26,
          "since_last_don": 4,
          "total_blood": 1000,
          "total_dons": 4
         },
         {
          "Class": 1,
          "since_first_don": 52,
          "since_last_don": 11,
          "total_blood": 500,
          "total_dons": 2
         },
         {
          "Class": 1,
          "since_first_don": 2,
          "since_last_don": 2,
          "total_blood": 250,
          "total_dons": 1
         },
         {
          "Class": 1,
          "since_first_don": 21,
          "since_last_don": 21,
          "total_blood": 250,
          "total_dons": 1
         },
         {
          "Class": 1,
          "since_first_don": 4,
          "since_last_don": 4,
          "total_blood": 500,
          "total_dons": 2
         },
         {
          "Class": 1,
          "since_first_don": 16,
          "since_last_don": 16,
          "total_blood": 250,
          "total_dons": 1
         },
         {
          "Class": 2,
          "since_first_don": 11,
          "since_last_don": 2,
          "total_blood": 500,
          "total_dons": 2
         },
         {
          "Class": 1,
          "since_first_don": 79,
          "since_last_don": 14,
          "total_blood": 750,
          "total_dons": 3
         },
         {
          "Class": 1,
          "since_first_don": 98,
          "since_last_don": 2,
          "total_blood": 11000,
          "total_dons": 44
         },
         {
          "Class": 2,
          "since_first_don": 49,
          "since_last_don": 26,
          "total_blood": 1250,
          "total_dons": 5
         },
         {
          "Class": 1,
          "since_first_don": 23,
          "since_last_don": 16,
          "total_blood": 750,
          "total_dons": 3
         },
         {
          "Class": 1,
          "since_first_don": 30,
          "since_last_don": 4,
          "total_blood": 1500,
          "total_dons": 6
         },
         {
          "Class": 1,
          "since_first_don": 28,
          "since_last_don": 4,
          "total_blood": 1250,
          "total_dons": 5
         },
         {
          "Class": 1,
          "since_first_don": 28,
          "since_last_don": 14,
          "total_blood": 750,
          "total_dons": 3
         },
         {
          "Class": 2,
          "since_first_don": 98,
          "since_last_don": 4,
          "total_blood": 4000,
          "total_dons": 16
         },
         {
          "Class": 1,
          "since_first_don": 47,
          "since_last_don": 4,
          "total_blood": 1500,
          "total_dons": 6
         },
         {
          "Class": 2,
          "since_first_don": 4,
          "since_last_don": 4,
          "total_blood": 250,
          "total_dons": 1
         },
         {
          "Class": 1,
          "since_first_don": 54,
          "since_last_don": 9,
          "total_blood": 2250,
          "total_dons": 9
         },
         {
          "Class": 1,
          "since_first_don": 88,
          "since_last_don": 23,
          "total_blood": 1750,
          "total_dons": 7
         },
         {
          "Class": 1,
          "since_first_don": 11,
          "since_last_don": 11,
          "total_blood": 250,
          "total_dons": 1
         },
         {
          "Class": 1,
          "since_first_don": 23,
          "since_last_don": 23,
          "total_blood": 250,
          "total_dons": 1
         },
         {
          "Class": 2,
          "since_first_don": 38,
          "since_last_don": 4,
          "total_blood": 1500,
          "total_dons": 6
         },
         {
          "Class": 1,
          "since_first_don": 40,
          "since_last_don": 23,
          "total_blood": 750,
          "total_dons": 3
         },
         {
          "Class": 1,
          "since_first_don": 46,
          "since_last_don": 16,
          "total_blood": 750,
          "total_dons": 3
         },
         {
          "Class": 1,
          "since_first_don": 4,
          "since_last_don": 4,
          "total_blood": 250,
          "total_dons": 1
         },
         {
          "Class": 1,
          "since_first_don": 37,
          "since_last_don": 11,
          "total_blood": 1750,
          "total_dons": 7
         },
         {
          "Class": 1,
          "since_first_don": 28,
          "since_last_don": 23,
          "total_blood": 750,
          "total_dons": 3
         },
         {
          "Class": 1,
          "since_first_don": 45,
          "since_last_don": 23,
          "total_blood": 1500,
          "total_dons": 6
         },
         {
          "Class": 1,
          "since_first_don": 38,
          "since_last_don": 38,
          "total_blood": 250,
          "total_dons": 1
         },
         {
          "Class": 1,
          "since_first_don": 70,
          "since_last_don": 16,
          "total_blood": 500,
          "total_dons": 2
         },
         {
          "Class": 1,
          "since_first_don": 21,
          "since_last_don": 21,
          "total_blood": 250,
          "total_dons": 1
         },
         {
          "Class": 2,
          "since_first_don": 16,
          "since_last_don": 2,
          "total_blood": 1000,
          "total_dons": 4
         },
         {
          "Class": 2,
          "since_first_don": 28,
          "since_last_don": 4,
          "total_blood": 1500,
          "total_dons": 6
         },
         {
          "Class": 1,
          "since_first_don": 26,
          "since_last_don": 14,
          "total_blood": 1000,
          "total_dons": 4
         },
         {
          "Class": 1,
          "since_first_don": 26,
          "since_last_don": 11,
          "total_blood": 750,
          "total_dons": 3
         },
         {
          "Class": 1,
          "since_first_don": 74,
          "since_last_don": 3,
          "total_blood": 4000,
          "total_dons": 16
         },
         {
          "Class": 1,
          "since_first_don": 76,
          "since_last_don": 13,
          "total_blood": 1750,
          "total_dons": 7
         },
         {
          "Class": 1,
          "since_first_don": 16,
          "since_last_don": 2,
          "total_blood": 500,
          "total_dons": 2
         },
         {
          "Class": 2,
          "since_first_don": 22,
          "since_last_don": 2,
          "total_blood": 2250,
          "total_dons": 9
         },
         {
          "Class": 1,
          "since_first_don": 4,
          "since_last_don": 2,
          "total_blood": 500,
          "total_dons": 2
         },
         {
          "Class": 2,
          "since_first_don": 14,
          "since_last_don": 14,
          "total_blood": 500,
          "total_dons": 2
         },
         {
          "Class": 1,
          "since_first_don": 81,
          "since_last_don": 2,
          "total_blood": 4000,
          "total_dons": 16
         },
         {
          "Class": 1,
          "since_first_don": 41,
          "since_last_don": 23,
          "total_blood": 750,
          "total_dons": 3
         },
         {
          "Class": 1,
          "since_first_don": 57,
          "since_last_don": 14,
          "total_blood": 1000,
          "total_dons": 4
         },
         {
          "Class": 1,
          "since_first_don": 14,
          "since_last_don": 14,
          "total_blood": 250,
          "total_dons": 1
         },
         {
          "Class": 1,
          "since_first_don": 23,
          "since_last_don": 23,
          "total_blood": 250,
          "total_dons": 1
         },
         {
          "Class": 1,
          "since_first_don": 38,
          "since_last_don": 38,
          "total_blood": 250,
          "total_dons": 1
         },
         {
          "Class": 1,
          "since_first_don": 35,
          "since_last_don": 21,
          "total_blood": 750,
          "total_dons": 3
         },
         {
          "Class": 1,
          "since_first_don": 41,
          "since_last_don": 11,
          "total_blood": 1250,
          "total_dons": 5
         },
         {
          "Class": 1,
          "since_first_don": 71,
          "since_last_don": 11,
          "total_blood": 1500,
          "total_dons": 6
         },
         {
          "Class": 1,
          "since_first_don": 16,
          "since_last_don": 16,
          "total_blood": 250,
          "total_dons": 1
         },
         {
          "Class": 1,
          "since_first_don": 86,
          "since_last_don": 5,
          "total_blood": 3500,
          "total_dons": 14
         },
         {
          "Class": 1,
          "since_first_don": 4,
          "since_last_don": 4,
          "total_blood": 500,
          "total_dons": 2
         },
         {
          "Class": 2,
          "since_first_don": 50,
          "since_last_don": 14,
          "total_blood": 2000,
          "total_dons": 8
         },
         {
          "Class": 2,
          "since_first_don": 51,
          "since_last_don": 9,
          "total_blood": 1250,
          "total_dons": 5
         },
         {
          "Class": 1,
          "since_first_don": 29,
          "since_last_don": 2,
          "total_blood": 1750,
          "total_dons": 7
         },
         {
          "Class": 1,
          "since_first_don": 86,
          "since_last_don": 21,
          "total_blood": 1500,
          "total_dons": 6
         },
         {
          "Class": 1,
          "since_first_don": 72,
          "since_last_don": 14,
          "total_blood": 1750,
          "total_dons": 7
         },
         {
          "Class": 1,
          "since_first_don": 26,
          "since_last_don": 16,
          "total_blood": 500,
          "total_dons": 2
         },
         {
          "Class": 1,
          "since_first_don": 64,
          "since_last_don": 14,
          "total_blood": 1000,
          "total_dons": 4
         },
         {
          "Class": 1,
          "since_first_don": 14,
          "since_last_don": 14,
          "total_blood": 500,
          "total_dons": 2
         },
         {
          "Class": 1,
          "since_first_don": 21,
          "since_last_don": 21,
          "total_blood": 250,
          "total_dons": 1
         },
         {
          "Class": 1,
          "since_first_don": 28,
          "since_last_don": 14,
          "total_blood": 1250,
          "total_dons": 5
         },
         {
          "Class": 1,
          "since_first_don": 29,
          "since_last_don": 4,
          "total_blood": 500,
          "total_dons": 2
         },
         {
          "Class": 1,
          "since_first_don": 14,
          "since_last_don": 14,
          "total_blood": 250,
          "total_dons": 1
         },
         {
          "Class": 1,
          "since_first_don": 36,
          "since_last_don": 2,
          "total_blood": 2250,
          "total_dons": 9
         },
         {
          "Class": 1,
          "since_first_don": 4,
          "since_last_don": 4,
          "total_blood": 500,
          "total_dons": 2
         },
         {
          "Class": 1,
          "since_first_don": 64,
          "since_last_don": 2,
          "total_blood": 2500,
          "total_dons": 10
         },
         {
          "Class": 1,
          "since_first_don": 51,
          "since_last_don": 14,
          "total_blood": 1500,
          "total_dons": 6
         },
         {
          "Class": 2,
          "since_first_don": 48,
          "since_last_don": 2,
          "total_blood": 3500,
          "total_dons": 14
         },
         {
          "Class": 1,
          "since_first_don": 89,
          "since_last_don": 23,
          "total_blood": 750,
          "total_dons": 3
         },
         {
          "Class": 1,
          "since_first_don": 42,
          "since_last_don": 11,
          "total_blood": 2750,
          "total_dons": 11
         },
         {
          "Class": 1,
          "since_first_don": 23,
          "since_last_don": 23,
          "total_blood": 500,
          "total_dons": 2
         },
         {
          "Class": 1,
          "since_first_don": 63,
          "since_last_don": 2,
          "total_blood": 1250,
          "total_dons": 5
         },
         {
          "Class": 1,
          "since_first_don": 33,
          "since_last_don": 23,
          "total_blood": 1250,
          "total_dons": 5
         },
         {
          "Class": 2,
          "since_first_don": 4,
          "since_last_don": 2,
          "total_blood": 500,
          "total_dons": 2
         },
         {
          "Class": 1,
          "since_first_don": 93,
          "since_last_don": 23,
          "total_blood": 3500,
          "total_dons": 14
         },
         {
          "Class": 1,
          "since_first_don": 74,
          "since_last_don": 2,
          "total_blood": 2250,
          "total_dons": 9
         },
         {
          "Class": 1,
          "since_first_don": 29,
          "since_last_don": 11,
          "total_blood": 1750,
          "total_dons": 7
         },
         {
          "Class": 1,
          "since_first_don": 52,
          "since_last_don": 21,
          "total_blood": 1000,
          "total_dons": 4
         },
         {
          "Class": 2,
          "since_first_don": 15,
          "since_last_don": 2,
          "total_blood": 1500,
          "total_dons": 6
         },
         {
          "Class": 1,
          "since_first_don": 4,
          "since_last_don": 4,
          "total_blood": 500,
          "total_dons": 2
         },
         {
          "Class": 2,
          "since_first_don": 43,
          "since_last_don": 4,
          "total_blood": 1000,
          "total_dons": 4
         },
         {
          "Class": 1,
          "since_first_don": 23,
          "since_last_don": 2,
          "total_blood": 500,
          "total_dons": 2
         },
         {
          "Class": 2,
          "since_first_don": 4,
          "since_last_don": 4,
          "total_blood": 250,
          "total_dons": 1
         },
         {
          "Class": 1,
          "since_first_don": 58,
          "since_last_don": 12,
          "total_blood": 3000,
          "total_dons": 12
         },
         {
          "Class": 2,
          "since_first_don": 45,
          "since_last_don": 2,
          "total_blood": 5000,
          "total_dons": 20
         },
         {
          "Class": 1,
          "since_first_don": 28,
          "since_last_don": 16,
          "total_blood": 1000,
          "total_dons": 4
         },
         {
          "Class": 1,
          "since_first_don": 64,
          "since_last_don": 21,
          "total_blood": 750,
          "total_dons": 3
         },
         {
          "Class": 1,
          "since_first_don": 4,
          "since_last_don": 4,
          "total_blood": 250,
          "total_dons": 1
         },
         {
          "Class": 1,
          "since_first_don": 83,
          "since_last_don": 14,
          "total_blood": 750,
          "total_dons": 3
         },
         {
          "Class": 1,
          "since_first_don": 16,
          "since_last_don": 16,
          "total_blood": 500,
          "total_dons": 2
         },
         {
          "Class": 1,
          "since_first_don": 11,
          "since_last_don": 2,
          "total_blood": 500,
          "total_dons": 2
         },
         {
          "Class": 1,
          "since_first_don": 4,
          "since_last_don": 0,
          "total_blood": 500,
          "total_dons": 2
         },
         {
          "Class": 1,
          "since_first_don": 14,
          "since_last_don": 4,
          "total_blood": 1500,
          "total_dons": 6
         },
         {
          "Class": 1,
          "since_first_don": 58,
          "since_last_don": 11,
          "total_blood": 1500,
          "total_dons": 6
         },
         {
          "Class": 2,
          "since_first_don": 26,
          "since_last_don": 4,
          "total_blood": 2000,
          "total_dons": 8
         },
         {
          "Class": 1,
          "since_first_don": 34,
          "since_last_don": 14,
          "total_blood": 1500,
          "total_dons": 6
         },
         {
          "Class": 2,
          "since_first_don": 46,
          "since_last_don": 2,
          "total_blood": 2750,
          "total_dons": 11
         },
         {
          "Class": 1,
          "since_first_don": 35,
          "since_last_don": 3,
          "total_blood": 3500,
          "total_dons": 14
         },
         {
          "Class": 1,
          "since_first_don": 60,
          "since_last_don": 21,
          "total_blood": 1250,
          "total_dons": 5
         },
         {
          "Class": 2,
          "since_first_don": 16,
          "since_last_don": 4,
          "total_blood": 1250,
          "total_dons": 5
         },
         {
          "Class": 2,
          "since_first_don": 37,
          "since_last_don": 11,
          "total_blood": 1250,
          "total_dons": 5
         },
         {
          "Class": 1,
          "since_first_don": 35,
          "since_last_don": 14,
          "total_blood": 500,
          "total_dons": 2
         },
         {
          "Class": 2,
          "since_first_don": 26,
          "since_last_don": 2,
          "total_blood": 1500,
          "total_dons": 6
         },
         {
          "Class": 1,
          "since_first_don": 26,
          "since_last_don": 14,
          "total_blood": 750,
          "total_dons": 3
         },
         {
          "Class": 1,
          "since_first_don": 34,
          "since_last_don": 4,
          "total_blood": 1250,
          "total_dons": 5
         },
         {
          "Class": 1,
          "since_first_don": 18,
          "since_last_don": 4,
          "total_blood": 1000,
          "total_dons": 4
         },
         {
          "Class": 2,
          "since_first_don": 10,
          "since_last_don": 2,
          "total_blood": 500,
          "total_dons": 2
         },
         {
          "Class": 1,
          "since_first_don": 64,
          "since_last_don": 21,
          "total_blood": 4000,
          "total_dons": 16
         },
         {
          "Class": 1,
          "since_first_don": 11,
          "since_last_don": 9,
          "total_blood": 500,
          "total_dons": 2
         },
         {
          "Class": 1,
          "since_first_don": 35,
          "since_last_don": 2,
          "total_blood": 750,
          "total_dons": 3
         },
         {
          "Class": 1,
          "since_first_don": 58,
          "since_last_don": 11,
          "total_blood": 1000,
          "total_dons": 4
         },
         {
          "Class": 1,
          "since_first_don": 2,
          "since_last_don": 2,
          "total_blood": 250,
          "total_dons": 1
         },
         {
          "Class": 1,
          "since_first_don": 31,
          "since_last_don": 14,
          "total_blood": 750,
          "total_dons": 3
         },
         {
          "Class": 1,
          "since_first_don": 39,
          "since_last_don": 39,
          "total_blood": 250,
          "total_dons": 1
         },
         {
          "Class": 1,
          "since_first_don": 2,
          "since_last_don": 2,
          "total_blood": 250,
          "total_dons": 1
         },
         {
          "Class": 2,
          "since_first_don": 38,
          "since_last_don": 11,
          "total_blood": 500,
          "total_dons": 2
         },
         {
          "Class": 1,
          "since_first_don": 2,
          "since_last_don": 2,
          "total_blood": 250,
          "total_dons": 1
         },
         {
          "Class": 1,
          "since_first_don": 16,
          "since_last_don": 16,
          "total_blood": 250,
          "total_dons": 1
         },
         {
          "Class": 1,
          "since_first_don": 28,
          "since_last_don": 16,
          "total_blood": 1750,
          "total_dons": 7
         },
         {
          "Class": 1,
          "since_first_don": 23,
          "since_last_don": 23,
          "total_blood": 250,
          "total_dons": 1
         },
         {
          "Class": 1,
          "since_first_don": 14,
          "since_last_don": 6,
          "total_blood": 750,
          "total_dons": 3
         },
         {
          "Class": 1,
          "since_first_don": 40,
          "since_last_don": 16,
          "total_blood": 1000,
          "total_dons": 4
         },
         {
          "Class": 1,
          "since_first_don": 16,
          "since_last_don": 16,
          "total_blood": 250,
          "total_dons": 1
         },
         {
          "Class": 2,
          "since_first_don": 29,
          "since_last_don": 3,
          "total_blood": 1000,
          "total_dons": 4
         },
         {
          "Class": 1,
          "since_first_don": 52,
          "since_last_don": 23,
          "total_blood": 1000,
          "total_dons": 4
         },
         {
          "Class": 2,
          "since_first_don": 69,
          "since_last_don": 20,
          "total_blood": 3500,
          "total_dons": 14
         },
         {
          "Class": 1,
          "since_first_don": 2,
          "since_last_don": 2,
          "total_blood": 250,
          "total_dons": 1
         },
         {
          "Class": 2,
          "since_first_don": 23,
          "since_last_don": 14,
          "total_blood": 1000,
          "total_dons": 4
         },
         {
          "Class": 1,
          "since_first_don": 16,
          "since_last_don": 16,
          "total_blood": 250,
          "total_dons": 1
         },
         {
          "Class": 1,
          "since_first_don": 64,
          "since_last_don": 8,
          "total_blood": 2250,
          "total_dons": 9
         },
         {
          "Class": 1,
          "since_first_don": 4,
          "since_last_don": 4,
          "total_blood": 250,
          "total_dons": 1
         },
         {
          "Class": 1,
          "since_first_don": 26,
          "since_last_don": 9,
          "total_blood": 500,
          "total_dons": 2
         },
         {
          "Class": 2,
          "since_first_don": 26,
          "since_last_don": 4,
          "total_blood": 1000,
          "total_dons": 4
         },
         {
          "Class": 1,
          "since_first_don": 14,
          "since_last_don": 14,
          "total_blood": 250,
          "total_dons": 1
         },
         {
          "Class": 2,
          "since_first_don": 26,
          "since_last_don": 5,
          "total_blood": 1750,
          "total_dons": 7
         },
         {
          "Class": 1,
          "since_first_don": 19,
          "since_last_don": 2,
          "total_blood": 750,
          "total_dons": 3
         },
         {
          "Class": 2,
          "since_first_don": 16,
          "since_last_don": 11,
          "total_blood": 1000,
          "total_dons": 4
         },
         {
          "Class": 2,
          "since_first_don": 76,
          "since_last_don": 0,
          "total_blood": 6500,
          "total_dons": 26
         },
         {
          "Class": 1,
          "since_first_don": 50,
          "since_last_don": 3,
          "total_blood": 2000,
          "total_dons": 8
         },
         {
          "Class": 2,
          "since_first_don": 3,
          "since_last_don": 3,
          "total_blood": 250,
          "total_dons": 1
         },
         {
          "Class": 1,
          "since_first_don": 52,
          "since_last_don": 21,
          "total_blood": 500,
          "total_dons": 2
         },
         {
          "Class": 2,
          "since_first_don": 22,
          "since_last_don": 4,
          "total_blood": 1750,
          "total_dons": 7
         },
         {
          "Class": 1,
          "since_first_don": 30,
          "since_last_don": 14,
          "total_blood": 1000,
          "total_dons": 4
         },
         {
          "Class": 2,
          "since_first_don": 35,
          "since_last_don": 1,
          "total_blood": 4000,
          "total_dons": 16
         },
         {
          "Class": 1,
          "since_first_don": 38,
          "since_last_don": 21,
          "total_blood": 750,
          "total_dons": 3
         },
         {
          "Class": 1,
          "since_first_don": 25,
          "since_last_don": 4,
          "total_blood": 1750,
          "total_dons": 7
         },
         {
          "Class": 1,
          "since_first_don": 27,
          "since_last_don": 11,
          "total_blood": 1500,
          "total_dons": 6
         },
         {
          "Class": 1,
          "since_first_don": 4,
          "since_last_don": 4,
          "total_blood": 250,
          "total_dons": 1
         },
         {
          "Class": 1,
          "since_first_don": 23,
          "since_last_don": 21,
          "total_blood": 500,
          "total_dons": 2
         },
         {
          "Class": 2,
          "since_first_don": 16,
          "since_last_don": 11,
          "total_blood": 750,
          "total_dons": 3
         },
         {
          "Class": 1,
          "since_first_don": 34,
          "since_last_don": 9,
          "total_blood": 750,
          "total_dons": 3
         },
         {
          "Class": 1,
          "since_first_don": 16,
          "since_last_don": 16,
          "total_blood": 250,
          "total_dons": 1
         },
         {
          "Class": 1,
          "since_first_don": 46,
          "since_last_don": 4,
          "total_blood": 2250,
          "total_dons": 9
         },
         {
          "Class": 2,
          "since_first_don": 4,
          "since_last_don": 4,
          "total_blood": 250,
          "total_dons": 1
         },
         {
          "Class": 1,
          "since_first_don": 95,
          "since_last_don": 1,
          "total_blood": 3500,
          "total_dons": 14
         },
         {
          "Class": 1,
          "since_first_don": 4,
          "since_last_don": 2,
          "total_blood": 500,
          "total_dons": 2
         },
         {
          "Class": 1,
          "since_first_don": 2,
          "since_last_don": 2,
          "total_blood": 500,
          "total_dons": 2
         },
         {
          "Class": 1,
          "since_first_don": 27,
          "since_last_don": 11,
          "total_blood": 1000,
          "total_dons": 4
         },
         {
          "Class": 2,
          "since_first_don": 40,
          "since_last_don": 4,
          "total_blood": 2000,
          "total_dons": 8
         },
         {
          "Class": 1,
          "since_first_don": 86,
          "since_last_don": 3,
          "total_blood": 4250,
          "total_dons": 17
         },
         {
          "Class": 1,
          "since_first_don": 4,
          "since_last_don": 4,
          "total_blood": 250,
          "total_dons": 1
         },
         {
          "Class": 1,
          "since_first_don": 45,
          "since_last_don": 2,
          "total_blood": 1500,
          "total_dons": 6
         },
         {
          "Class": 2,
          "since_first_don": 33,
          "since_last_don": 2,
          "total_blood": 1250,
          "total_dons": 5
         },
         {
          "Class": 1,
          "since_first_don": 59,
          "since_last_don": 0,
          "total_blood": 2000,
          "total_dons": 8
         },
         {
          "Class": 1,
          "since_first_don": 38,
          "since_last_don": 3,
          "total_blood": 1250,
          "total_dons": 5
         },
         {
          "Class": 2,
          "since_first_don": 49,
          "since_last_don": 2,
          "total_blood": 3750,
          "total_dons": 15
         },
         {
          "Class": 1,
          "since_first_don": 86,
          "since_last_don": 16,
          "total_blood": 750,
          "total_dons": 3
         },
         {
          "Class": 2,
          "since_first_don": 14,
          "since_last_don": 4,
          "total_blood": 1000,
          "total_dons": 4
         },
         {
          "Class": 1,
          "since_first_don": 34,
          "since_last_don": 11,
          "total_blood": 1000,
          "total_dons": 4
         },
         {
          "Class": 1,
          "since_first_don": 14,
          "since_last_don": 14,
          "total_blood": 250,
          "total_dons": 1
         },
         {
          "Class": 2,
          "since_first_don": 21,
          "since_last_don": 14,
          "total_blood": 500,
          "total_dons": 2
         },
         {
          "Class": 2,
          "since_first_don": 4,
          "since_last_don": 4,
          "total_blood": 1000,
          "total_dons": 4
         }
        ]
       },
       "encoding": {
        "color": {
         "field": "Class",
         "scale": {
          "scheme": "goldorange"
         },
         "type": "quantitative"
        },
        "x": {
         "field": "total_dons",
         "type": "quantitative"
        },
        "y": {
         "aggregate": "count",
         "stack": null,
         "type": "quantitative"
        }
       },
       "mark": {
        "opacity": 0.7,
        "type": "bar"
       },
       "title": "Donor Frequency Distribution"
      },
      "image/png": "[encoded data removed]",
      "text/plain": [
       "<VegaLite 3 object>\n",
       "\n",
       "If you see this message, it means the renderer has not been properly enabled\n",
       "for the frontend that you are using. For more information, see\n",
       "https://altair-viz.github.io/user_guide/troubleshooting.html\n"
      ]
     },
     "execution_count": 26,
     "metadata": {},
     "output_type": "execute_result"
    }
   ],
   "source": [
    "alt.Chart(blood_df_train).mark_bar(opacity = 0.7).encode(\n",
    "    alt.X(\"total_dons\"),\n",
    "    alt.Y('count()', stack=None),\n",
    "    color=alt.Color('Class', scale=alt.Scale(scheme='goldorange'))\n",
    ").properties(title = \"Donor Frequency Distribution\")"
   ]
  },
  {
   "cell_type": "code",
   "execution_count": 27,
   "metadata": {},
   "outputs": [
    {
     "data": {
      "application/vnd.vegalite.v3+json": {
       "$schema": "https://vega.github.io/schema/vega-lite/v3.4.0.json",
       "config": {
        "mark": {
         "tooltip": null
        },
        "view": {
         "height": 300,
         "width": 400
        }
       },
       "data": {
        "name": "data-9f8fa43238d447b8286cb04f7cfdb9c3"
       },
       "datasets": {
        "data-9f8fa43238d447b8286cb04f7cfdb9c3": [
         {
          "Class": 1,
          "since_first_don": 58,
          "since_last_don": 8,
          "total_blood": 2250,
          "total_dons": 9
         },
         {
          "Class": 1,
          "since_first_don": 21,
          "since_last_don": 13,
          "total_blood": 1000,
          "total_dons": 4
         },
         {
          "Class": 1,
          "since_first_don": 39,
          "since_last_don": 4,
          "total_blood": 1500,
          "total_dons": 6
         },
         {
          "Class": 1,
          "since_first_don": 46,
          "since_last_don": 4,
          "total_blood": 1250,
          "total_dons": 5
         },
         {
          "Class": 1,
          "since_first_don": 21,
          "since_last_don": 3,
          "total_blood": 1500,
          "total_dons": 6
         },
         {
          "Class": 1,
          "since_first_don": 9,
          "since_last_don": 9,
          "total_blood": 250,
          "total_dons": 1
         },
         {
          "Class": 1,
          "since_first_don": 14,
          "since_last_don": 14,
          "total_blood": 500,
          "total_dons": 2
         },
         {
          "Class": 1,
          "since_first_don": 77,
          "since_last_don": 2,
          "total_blood": 1750,
          "total_dons": 7
         },
         {
          "Class": 1,
          "since_first_don": 41,
          "since_last_don": 2,
          "total_blood": 500,
          "total_dons": 2
         },
         {
          "Class": 1,
          "since_first_don": 52,
          "since_last_don": 9,
          "total_blood": 500,
          "total_dons": 2
         },
         {
          "Class": 1,
          "since_first_don": 23,
          "since_last_don": 23,
          "total_blood": 250,
          "total_dons": 1
         },
         {
          "Class": 1,
          "since_first_don": 58,
          "since_last_don": 16,
          "total_blood": 1000,
          "total_dons": 4
         },
         {
          "Class": 1,
          "since_first_don": 26,
          "since_last_don": 2,
          "total_blood": 1000,
          "total_dons": 4
         },
         {
          "Class": 2,
          "since_first_don": 4,
          "since_last_don": 4,
          "total_blood": 500,
          "total_dons": 2
         },
         {
          "Class": 1,
          "since_first_don": 35,
          "since_last_don": 23,
          "total_blood": 750,
          "total_dons": 3
         },
         {
          "Class": 2,
          "since_first_don": 2,
          "since_last_don": 2,
          "total_blood": 250,
          "total_dons": 1
         },
         {
          "Class": 1,
          "since_first_don": 65,
          "since_last_don": 9,
          "total_blood": 1000,
          "total_dons": 4
         },
         {
          "Class": 2,
          "since_first_don": 19,
          "since_last_don": 14,
          "total_blood": 750,
          "total_dons": 3
         },
         {
          "Class": 1,
          "since_first_don": 58,
          "since_last_don": 4,
          "total_blood": 1750,
          "total_dons": 7
         },
         {
          "Class": 1,
          "since_first_don": 64,
          "since_last_don": 2,
          "total_blood": 4000,
          "total_dons": 16
         },
         {
          "Class": 1,
          "since_first_don": 4,
          "since_last_don": 4,
          "total_blood": 250,
          "total_dons": 1
         },
         {
          "Class": 1,
          "since_first_don": 40,
          "since_last_don": 40,
          "total_blood": 250,
          "total_dons": 1
         },
         {
          "Class": 1,
          "since_first_don": 14,
          "since_last_don": 14,
          "total_blood": 500,
          "total_dons": 2
         },
         {
          "Class": 1,
          "since_first_don": 89,
          "since_last_don": 16,
          "total_blood": 2500,
          "total_dons": 10
         },
         {
          "Class": 1,
          "since_first_don": 70,
          "since_last_don": 23,
          "total_blood": 1500,
          "total_dons": 6
         },
         {
          "Class": 1,
          "since_first_don": 62,
          "since_last_don": 4,
          "total_blood": 1750,
          "total_dons": 7
         },
         {
          "Class": 1,
          "since_first_don": 52,
          "since_last_don": 4,
          "total_blood": 1500,
          "total_dons": 6
         },
         {
          "Class": 2,
          "since_first_don": 28,
          "since_last_don": 4,
          "total_blood": 2500,
          "total_dons": 10
         },
         {
          "Class": 1,
          "since_first_don": 74,
          "since_last_don": 11,
          "total_blood": 1000,
          "total_dons": 4
         },
         {
          "Class": 1,
          "since_first_don": 14,
          "since_last_don": 4,
          "total_blood": 500,
          "total_dons": 2
         },
         {
          "Class": 2,
          "since_first_don": 21,
          "since_last_don": 21,
          "total_blood": 500,
          "total_dons": 2
         },
         {
          "Class": 1,
          "since_first_don": 81,
          "since_last_don": 16,
          "total_blood": 1500,
          "total_dons": 6
         },
         {
          "Class": 1,
          "since_first_don": 28,
          "since_last_don": 11,
          "total_blood": 1000,
          "total_dons": 4
         },
         {
          "Class": 2,
          "since_first_don": 98,
          "since_last_don": 4,
          "total_blood": 8250,
          "total_dons": 33
         },
         {
          "Class": 1,
          "since_first_don": 72,
          "since_last_don": 72,
          "total_blood": 250,
          "total_dons": 1
         },
         {
          "Class": 2,
          "since_first_don": 32,
          "since_last_don": 2,
          "total_blood": 1750,
          "total_dons": 7
         },
         {
          "Class": 1,
          "since_first_don": 19,
          "since_last_don": 16,
          "total_blood": 750,
          "total_dons": 3
         },
         {
          "Class": 1,
          "since_first_don": 15,
          "since_last_don": 11,
          "total_blood": 750,
          "total_dons": 3
         },
         {
          "Class": 2,
          "since_first_don": 16,
          "since_last_don": 2,
          "total_blood": 750,
          "total_dons": 3
         },
         {
          "Class": 1,
          "since_first_don": 4,
          "since_last_don": 4,
          "total_blood": 250,
          "total_dons": 1
         },
         {
          "Class": 1,
          "since_first_don": 26,
          "since_last_don": 2,
          "total_blood": 1000,
          "total_dons": 4
         },
         {
          "Class": 1,
          "since_first_don": 4,
          "since_last_don": 4,
          "total_blood": 250,
          "total_dons": 1
         },
         {
          "Class": 2,
          "since_first_don": 86,
          "since_last_don": 2,
          "total_blood": 10750,
          "total_dons": 43
         },
         {
          "Class": 2,
          "since_first_don": 64,
          "since_last_don": 4,
          "total_blood": 2750,
          "total_dons": 11
         },
         {
          "Class": 2,
          "since_first_don": 23,
          "since_last_don": 4,
          "total_blood": 1500,
          "total_dons": 6
         },
         {
          "Class": 1,
          "since_first_don": 24,
          "since_last_don": 2,
          "total_blood": 750,
          "total_dons": 3
         },
         {
          "Class": 1,
          "since_first_don": 59,
          "since_last_don": 12,
          "total_blood": 3250,
          "total_dons": 13
         },
         {
          "Class": 1,
          "since_first_don": 71,
          "since_last_don": 12,
          "total_blood": 3750,
          "total_dons": 15
         },
         {
          "Class": 1,
          "since_first_don": 58,
          "since_last_don": 11,
          "total_blood": 3000,
          "total_dons": 12
         },
         {
          "Class": 1,
          "since_first_don": 11,
          "since_last_don": 2,
          "total_blood": 1000,
          "total_dons": 4
         },
         {
          "Class": 1,
          "since_first_don": 2,
          "since_last_don": 2,
          "total_blood": 250,
          "total_dons": 1
         },
         {
          "Class": 1,
          "since_first_don": 21,
          "since_last_don": 21,
          "total_blood": 500,
          "total_dons": 2
         },
         {
          "Class": 1,
          "since_first_don": 35,
          "since_last_don": 2,
          "total_blood": 1000,
          "total_dons": 4
         },
         {
          "Class": 2,
          "since_first_don": 25,
          "since_last_don": 4,
          "total_blood": 750,
          "total_dons": 3
         },
         {
          "Class": 1,
          "since_first_don": 16,
          "since_last_don": 10,
          "total_blood": 1000,
          "total_dons": 4
         },
         {
          "Class": 1,
          "since_first_don": 21,
          "since_last_don": 21,
          "total_blood": 250,
          "total_dons": 1
         },
         {
          "Class": 2,
          "since_first_don": 4,
          "since_last_don": 4,
          "total_blood": 500,
          "total_dons": 2
         },
         {
          "Class": 2,
          "since_first_don": 41,
          "since_last_don": 2,
          "total_blood": 1500,
          "total_dons": 6
         },
         {
          "Class": 2,
          "since_first_don": 53,
          "since_last_don": 2,
          "total_blood": 3250,
          "total_dons": 13
         },
         {
          "Class": 1,
          "since_first_don": 40,
          "since_last_don": 4,
          "total_blood": 2250,
          "total_dons": 9
         },
         {
          "Class": 2,
          "since_first_don": 23,
          "since_last_don": 23,
          "total_blood": 250,
          "total_dons": 1
         },
         {
          "Class": 1,
          "since_first_don": 64,
          "since_last_don": 2,
          "total_blood": 3750,
          "total_dons": 15
         },
         {
          "Class": 1,
          "since_first_don": 21,
          "since_last_don": 2,
          "total_blood": 750,
          "total_dons": 3
         },
         {
          "Class": 1,
          "since_first_don": 23,
          "since_last_don": 23,
          "total_blood": 500,
          "total_dons": 2
         },
         {
          "Class": 1,
          "since_first_don": 4,
          "since_last_don": 4,
          "total_blood": 250,
          "total_dons": 1
         },
         {
          "Class": 2,
          "since_first_don": 14,
          "since_last_don": 2,
          "total_blood": 1000,
          "total_dons": 4
         },
         {
          "Class": 1,
          "since_first_don": 11,
          "since_last_don": 2,
          "total_blood": 500,
          "total_dons": 2
         },
         {
          "Class": 1,
          "since_first_don": 28,
          "since_last_don": 11,
          "total_blood": 1500,
          "total_dons": 6
         },
         {
          "Class": 1,
          "since_first_don": 87,
          "since_last_don": 23,
          "total_blood": 1000,
          "total_dons": 4
         },
         {
          "Class": 2,
          "since_first_don": 28,
          "since_last_don": 2,
          "total_blood": 1500,
          "total_dons": 6
         },
         {
          "Class": 2,
          "since_first_don": 49,
          "since_last_don": 9,
          "total_blood": 2750,
          "total_dons": 11
         },
         {
          "Class": 1,
          "since_first_don": 33,
          "since_last_don": 23,
          "total_blood": 750,
          "total_dons": 3
         },
         {
          "Class": 1,
          "since_first_don": 2,
          "since_last_don": 2,
          "total_blood": 250,
          "total_dons": 1
         },
         {
          "Class": 2,
          "since_first_don": 4,
          "since_last_don": 2,
          "total_blood": 500,
          "total_dons": 2
         },
         {
          "Class": 1,
          "since_first_don": 70,
          "since_last_don": 14,
          "total_blood": 4000,
          "total_dons": 16
         },
         {
          "Class": 2,
          "since_first_don": 52,
          "since_last_don": 8,
          "total_blood": 2000,
          "total_dons": 8
         },
         {
          "Class": 2,
          "since_first_don": 34,
          "since_last_don": 4,
          "total_blood": 2000,
          "total_dons": 8
         },
         {
          "Class": 1,
          "since_first_don": 35,
          "since_last_don": 7,
          "total_blood": 1250,
          "total_dons": 5
         },
         {
          "Class": 1,
          "since_first_don": 58,
          "since_last_don": 4,
          "total_blood": 1250,
          "total_dons": 5
         },
         {
          "Class": 1,
          "since_first_don": 11,
          "since_last_don": 11,
          "total_blood": 250,
          "total_dons": 1
         },
         {
          "Class": 2,
          "since_first_don": 76,
          "since_last_don": 2,
          "total_blood": 3250,
          "total_dons": 13
         },
         {
          "Class": 1,
          "since_first_don": 52,
          "since_last_don": 4,
          "total_blood": 1750,
          "total_dons": 7
         },
         {
          "Class": 1,
          "since_first_don": 50,
          "since_last_don": 14,
          "total_blood": 1250,
          "total_dons": 5
         },
         {
          "Class": 1,
          "since_first_don": 50,
          "since_last_don": 14,
          "total_blood": 2000,
          "total_dons": 8
         },
         {
          "Class": 1,
          "since_first_don": 59,
          "since_last_don": 4,
          "total_blood": 500,
          "total_dons": 2
         },
         {
          "Class": 1,
          "since_first_don": 28,
          "since_last_don": 11,
          "total_blood": 750,
          "total_dons": 3
         },
         {
          "Class": 1,
          "since_first_don": 23,
          "since_last_don": 23,
          "total_blood": 250,
          "total_dons": 1
         },
         {
          "Class": 1,
          "since_first_don": 58,
          "since_last_don": 23,
          "total_blood": 1250,
          "total_dons": 5
         },
         {
          "Class": 2,
          "since_first_don": 26,
          "since_last_don": 4,
          "total_blood": 1250,
          "total_dons": 5
         },
         {
          "Class": 2,
          "since_first_don": 98,
          "since_last_don": 2,
          "total_blood": 10250,
          "total_dons": 41
         },
         {
          "Class": 1,
          "since_first_don": 58,
          "since_last_don": 4,
          "total_blood": 1250,
          "total_dons": 5
         },
         {
          "Class": 1,
          "since_first_don": 14,
          "since_last_don": 14,
          "total_blood": 500,
          "total_dons": 2
         },
         {
          "Class": 2,
          "since_first_don": 16,
          "since_last_don": 2,
          "total_blood": 1500,
          "total_dons": 6
         },
         {
          "Class": 1,
          "since_first_don": 76,
          "since_last_don": 11,
          "total_blood": 750,
          "total_dons": 3
         },
         {
          "Class": 2,
          "since_first_don": 16,
          "since_last_don": 4,
          "total_blood": 750,
          "total_dons": 3
         },
         {
          "Class": 1,
          "since_first_don": 70,
          "since_last_don": 11,
          "total_blood": 500,
          "total_dons": 2
         },
         {
          "Class": 1,
          "since_first_don": 11,
          "since_last_don": 11,
          "total_blood": 500,
          "total_dons": 2
         },
         {
          "Class": 2,
          "since_first_don": 38,
          "since_last_don": 4,
          "total_blood": 4000,
          "total_dons": 16
         },
         {
          "Class": 1,
          "since_first_don": 11,
          "since_last_don": 11,
          "total_blood": 500,
          "total_dons": 2
         },
         {
          "Class": 1,
          "since_first_don": 29,
          "since_last_don": 14,
          "total_blood": 500,
          "total_dons": 2
         },
         {
          "Class": 1,
          "since_first_don": 23,
          "since_last_don": 3,
          "total_blood": 500,
          "total_dons": 2
         },
         {
          "Class": 1,
          "since_first_don": 52,
          "since_last_don": 4,
          "total_blood": 500,
          "total_dons": 2
         },
         {
          "Class": 1,
          "since_first_don": 16,
          "since_last_don": 4,
          "total_blood": 750,
          "total_dons": 3
         },
         {
          "Class": 1,
          "since_first_don": 71,
          "since_last_don": 4,
          "total_blood": 750,
          "total_dons": 3
         },
         {
          "Class": 1,
          "since_first_don": 35,
          "since_last_don": 14,
          "total_blood": 750,
          "total_dons": 3
         },
         {
          "Class": 2,
          "since_first_don": 35,
          "since_last_don": 16,
          "total_blood": 1500,
          "total_dons": 6
         },
         {
          "Class": 1,
          "since_first_don": 35,
          "since_last_don": 14,
          "total_blood": 1750,
          "total_dons": 7
         },
         {
          "Class": 2,
          "since_first_don": 28,
          "since_last_don": 4,
          "total_blood": 2250,
          "total_dons": 9
         },
         {
          "Class": 1,
          "since_first_don": 16,
          "since_last_don": 16,
          "total_blood": 250,
          "total_dons": 1
         },
         {
          "Class": 1,
          "since_first_don": 23,
          "since_last_don": 23,
          "total_blood": 250,
          "total_dons": 1
         },
         {
          "Class": 1,
          "since_first_don": 52,
          "since_last_don": 2,
          "total_blood": 2500,
          "total_dons": 10
         },
         {
          "Class": 1,
          "since_first_don": 31,
          "since_last_don": 4,
          "total_blood": 500,
          "total_dons": 2
         },
         {
          "Class": 1,
          "since_first_don": 14,
          "since_last_don": 4,
          "total_blood": 1500,
          "total_dons": 6
         },
         {
          "Class": 2,
          "since_first_don": 16,
          "since_last_don": 4,
          "total_blood": 1250,
          "total_dons": 5
         },
         {
          "Class": 2,
          "since_first_don": 35,
          "since_last_don": 4,
          "total_blood": 1500,
          "total_dons": 6
         },
         {
          "Class": 1,
          "since_first_don": 21,
          "since_last_don": 21,
          "total_blood": 250,
          "total_dons": 1
         },
         {
          "Class": 2,
          "since_first_don": 26,
          "since_last_don": 4,
          "total_blood": 2250,
          "total_dons": 9
         },
         {
          "Class": 1,
          "since_first_don": 76,
          "since_last_don": 16,
          "total_blood": 2000,
          "total_dons": 8
         },
         {
          "Class": 1,
          "since_first_don": 38,
          "since_last_don": 11,
          "total_blood": 1250,
          "total_dons": 5
         },
         {
          "Class": 1,
          "since_first_don": 57,
          "since_last_don": 1,
          "total_blood": 1750,
          "total_dons": 7
         },
         {
          "Class": 2,
          "since_first_don": 11,
          "since_last_don": 2,
          "total_blood": 1250,
          "total_dons": 5
         },
         {
          "Class": 1,
          "since_first_don": 35,
          "since_last_don": 16,
          "total_blood": 1500,
          "total_dons": 6
         },
         {
          "Class": 2,
          "since_first_don": 16,
          "since_last_don": 2,
          "total_blood": 1250,
          "total_dons": 5
         },
         {
          "Class": 1,
          "since_first_don": 11,
          "since_last_don": 11,
          "total_blood": 250,
          "total_dons": 1
         },
         {
          "Class": 1,
          "since_first_don": 2,
          "since_last_don": 2,
          "total_blood": 250,
          "total_dons": 1
         },
         {
          "Class": 1,
          "since_first_don": 48,
          "since_last_don": 11,
          "total_blood": 2000,
          "total_dons": 8
         },
         {
          "Class": 1,
          "since_first_don": 41,
          "since_last_don": 11,
          "total_blood": 1500,
          "total_dons": 6
         },
         {
          "Class": 1,
          "since_first_don": 48,
          "since_last_don": 7,
          "total_blood": 3500,
          "total_dons": 14
         },
         {
          "Class": 1,
          "since_first_don": 4,
          "since_last_don": 4,
          "total_blood": 500,
          "total_dons": 2
         },
         {
          "Class": 1,
          "since_first_don": 98,
          "since_last_don": 14,
          "total_blood": 4000,
          "total_dons": 16
         },
         {
          "Class": 1,
          "since_first_don": 52,
          "since_last_don": 14,
          "total_blood": 750,
          "total_dons": 3
         },
         {
          "Class": 1,
          "since_first_don": 17,
          "since_last_don": 11,
          "total_blood": 500,
          "total_dons": 2
         },
         {
          "Class": 2,
          "since_first_don": 2,
          "since_last_don": 2,
          "total_blood": 250,
          "total_dons": 1
         },
         {
          "Class": 2,
          "since_first_don": 46,
          "since_last_don": 2,
          "total_blood": 1750,
          "total_dons": 7
         },
         {
          "Class": 1,
          "since_first_don": 23,
          "since_last_don": 23,
          "total_blood": 250,
          "total_dons": 1
         },
         {
          "Class": 1,
          "since_first_don": 23,
          "since_last_don": 23,
          "total_blood": 250,
          "total_dons": 1
         },
         {
          "Class": 2,
          "since_first_don": 32,
          "since_last_don": 2,
          "total_blood": 3250,
          "total_dons": 13
         },
         {
          "Class": 1,
          "since_first_don": 89,
          "since_last_don": 7,
          "total_blood": 2750,
          "total_dons": 11
         },
         {
          "Class": 2,
          "since_first_don": 15,
          "since_last_don": 2,
          "total_blood": 1500,
          "total_dons": 6
         },
         {
          "Class": 2,
          "since_first_don": 16,
          "since_last_don": 2,
          "total_blood": 1500,
          "total_dons": 6
         },
         {
          "Class": 1,
          "since_first_don": 57,
          "since_last_don": 14,
          "total_blood": 3250,
          "total_dons": 13
         },
         {
          "Class": 1,
          "since_first_don": 58,
          "since_last_don": 1,
          "total_blood": 3500,
          "total_dons": 14
         },
         {
          "Class": 1,
          "since_first_don": 46,
          "since_last_don": 14,
          "total_blood": 2000,
          "total_dons": 8
         },
         {
          "Class": 2,
          "since_first_don": 98,
          "since_last_don": 2,
          "total_blood": 12500,
          "total_dons": 50
         },
         {
          "Class": 2,
          "since_first_don": 71,
          "since_last_don": 4,
          "total_blood": 4250,
          "total_dons": 17
         },
         {
          "Class": 1,
          "since_first_don": 33,
          "since_last_don": 14,
          "total_blood": 750,
          "total_dons": 3
         },
         {
          "Class": 1,
          "since_first_don": 64,
          "since_last_don": 16,
          "total_blood": 1750,
          "total_dons": 7
         },
         {
          "Class": 2,
          "since_first_don": 34,
          "since_last_don": 4,
          "total_blood": 1000,
          "total_dons": 4
         },
         {
          "Class": 1,
          "since_first_don": 26,
          "since_last_don": 21,
          "total_blood": 750,
          "total_dons": 3
         },
         {
          "Class": 1,
          "since_first_don": 64,
          "since_last_don": 11,
          "total_blood": 6000,
          "total_dons": 24
         },
         {
          "Class": 1,
          "since_first_don": 26,
          "since_last_don": 14,
          "total_blood": 2000,
          "total_dons": 8
         },
         {
          "Class": 2,
          "since_first_don": 41,
          "since_last_don": 2,
          "total_blood": 2750,
          "total_dons": 11
         },
         {
          "Class": 2,
          "since_first_don": 72,
          "since_last_don": 11,
          "total_blood": 2250,
          "total_dons": 9
         },
         {
          "Class": 1,
          "since_first_don": 21,
          "since_last_don": 21,
          "total_blood": 250,
          "total_dons": 1
         },
         {
          "Class": 1,
          "since_first_don": 16,
          "since_last_don": 9,
          "total_blood": 2250,
          "total_dons": 9
         },
         {
          "Class": 1,
          "since_first_don": 23,
          "since_last_don": 23,
          "total_blood": 250,
          "total_dons": 1
         },
         {
          "Class": 1,
          "since_first_don": 45,
          "since_last_don": 9,
          "total_blood": 2250,
          "total_dons": 9
         },
         {
          "Class": 1,
          "since_first_don": 26,
          "since_last_don": 11,
          "total_blood": 1500,
          "total_dons": 6
         },
         {
          "Class": 2,
          "since_first_don": 11,
          "since_last_don": 11,
          "total_blood": 250,
          "total_dons": 1
         },
         {
          "Class": 1,
          "since_first_don": 26,
          "since_last_don": 14,
          "total_blood": 1000,
          "total_dons": 4
         },
         {
          "Class": 1,
          "since_first_don": 11,
          "since_last_don": 2,
          "total_blood": 500,
          "total_dons": 2
         },
         {
          "Class": 1,
          "since_first_don": 14,
          "since_last_don": 14,
          "total_blood": 250,
          "total_dons": 1
         },
         {
          "Class": 1,
          "since_first_don": 16,
          "since_last_don": 11,
          "total_blood": 500,
          "total_dons": 2
         },
         {
          "Class": 1,
          "since_first_don": 16,
          "since_last_don": 16,
          "total_blood": 250,
          "total_dons": 1
         },
         {
          "Class": 1,
          "since_first_don": 40,
          "since_last_don": 21,
          "total_blood": 750,
          "total_dons": 3
         },
         {
          "Class": 1,
          "since_first_don": 58,
          "since_last_don": 4,
          "total_blood": 1250,
          "total_dons": 5
         },
         {
          "Class": 1,
          "since_first_don": 4,
          "since_last_don": 4,
          "total_blood": 250,
          "total_dons": 1
         },
         {
          "Class": 1,
          "since_first_don": 82,
          "since_last_don": 15,
          "total_blood": 4000,
          "total_dons": 16
         },
         {
          "Class": 1,
          "since_first_don": 14,
          "since_last_don": 14,
          "total_blood": 1250,
          "total_dons": 5
         },
         {
          "Class": 1,
          "since_first_don": 23,
          "since_last_don": 16,
          "total_blood": 1000,
          "total_dons": 4
         },
         {
          "Class": 1,
          "since_first_don": 70,
          "since_last_don": 2,
          "total_blood": 1000,
          "total_dons": 4
         },
         {
          "Class": 1,
          "since_first_don": 86,
          "since_last_don": 23,
          "total_blood": 3000,
          "total_dons": 12
         },
         {
          "Class": 1,
          "since_first_don": 14,
          "since_last_don": 14,
          "total_blood": 250,
          "total_dons": 1
         },
         {
          "Class": 1,
          "since_first_don": 26,
          "since_last_don": 14,
          "total_blood": 1250,
          "total_dons": 5
         },
         {
          "Class": 1,
          "since_first_don": 27,
          "since_last_don": 16,
          "total_blood": 1250,
          "total_dons": 5
         },
         {
          "Class": 2,
          "since_first_don": 11,
          "since_last_don": 2,
          "total_blood": 500,
          "total_dons": 2
         },
         {
          "Class": 1,
          "since_first_don": 9,
          "since_last_don": 4,
          "total_blood": 500,
          "total_dons": 2
         },
         {
          "Class": 1,
          "since_first_don": 39,
          "since_last_don": 16,
          "total_blood": 1750,
          "total_dons": 7
         },
         {
          "Class": 1,
          "since_first_don": 70,
          "since_last_don": 6,
          "total_blood": 4250,
          "total_dons": 17
         },
         {
          "Class": 1,
          "since_first_don": 93,
          "since_last_don": 16,
          "total_blood": 1750,
          "total_dons": 7
         },
         {
          "Class": 1,
          "since_first_don": 82,
          "since_last_don": 2,
          "total_blood": 3000,
          "total_dons": 12
         },
         {
          "Class": 1,
          "since_first_don": 26,
          "since_last_don": 14,
          "total_blood": 1750,
          "total_dons": 7
         },
         {
          "Class": 1,
          "since_first_don": 11,
          "since_last_don": 11,
          "total_blood": 250,
          "total_dons": 1
         },
         {
          "Class": 1,
          "since_first_don": 57,
          "since_last_don": 21,
          "total_blood": 3250,
          "total_dons": 13
         },
         {
          "Class": 1,
          "since_first_don": 2,
          "since_last_don": 2,
          "total_blood": 500,
          "total_dons": 2
         },
         {
          "Class": 2,
          "since_first_don": 79,
          "since_last_don": 11,
          "total_blood": 4250,
          "total_dons": 17
         },
         {
          "Class": 1,
          "since_first_don": 14,
          "since_last_don": 14,
          "total_blood": 500,
          "total_dons": 2
         },
         {
          "Class": 1,
          "since_first_don": 74,
          "since_last_don": 74,
          "total_blood": 250,
          "total_dons": 1
         },
         {
          "Class": 1,
          "since_first_don": 22,
          "since_last_don": 2,
          "total_blood": 750,
          "total_dons": 3
         },
         {
          "Class": 1,
          "since_first_don": 58,
          "since_last_don": 4,
          "total_blood": 1750,
          "total_dons": 7
         },
         {
          "Class": 1,
          "since_first_don": 2,
          "since_last_don": 2,
          "total_blood": 250,
          "total_dons": 1
         },
         {
          "Class": 2,
          "since_first_don": 4,
          "since_last_don": 4,
          "total_blood": 250,
          "total_dons": 1
         },
         {
          "Class": 2,
          "since_first_don": 12,
          "since_last_don": 3,
          "total_blood": 1250,
          "total_dons": 5
         },
         {
          "Class": 1,
          "since_first_don": 2,
          "since_last_don": 2,
          "total_blood": 250,
          "total_dons": 1
         },
         {
          "Class": 1,
          "since_first_don": 89,
          "since_last_don": 11,
          "total_blood": 4000,
          "total_dons": 16
         },
         {
          "Class": 1,
          "since_first_don": 33,
          "since_last_don": 15,
          "total_blood": 1250,
          "total_dons": 5
         },
         {
          "Class": 1,
          "since_first_don": 14,
          "since_last_don": 14,
          "total_blood": 500,
          "total_dons": 2
         },
         {
          "Class": 1,
          "since_first_don": 95,
          "since_last_don": 4,
          "total_blood": 2750,
          "total_dons": 11
         },
         {
          "Class": 1,
          "since_first_don": 30,
          "since_last_don": 4,
          "total_blood": 500,
          "total_dons": 2
         },
         {
          "Class": 1,
          "since_first_don": 14,
          "since_last_don": 14,
          "total_blood": 500,
          "total_dons": 2
         },
         {
          "Class": 2,
          "since_first_don": 28,
          "since_last_don": 4,
          "total_blood": 2500,
          "total_dons": 10
         },
         {
          "Class": 1,
          "since_first_don": 83,
          "since_last_don": 16,
          "total_blood": 3500,
          "total_dons": 14
         },
         {
          "Class": 1,
          "since_first_don": 38,
          "since_last_don": 11,
          "total_blood": 2250,
          "total_dons": 9
         },
         {
          "Class": 1,
          "since_first_don": 34,
          "since_last_don": 2,
          "total_blood": 1250,
          "total_dons": 5
         },
         {
          "Class": 1,
          "since_first_don": 35,
          "since_last_don": 11,
          "total_blood": 2500,
          "total_dons": 10
         },
         {
          "Class": 1,
          "since_first_don": 33,
          "since_last_don": 21,
          "total_blood": 500,
          "total_dons": 2
         },
         {
          "Class": 1,
          "since_first_don": 14,
          "since_last_don": 14,
          "total_blood": 250,
          "total_dons": 1
         },
         {
          "Class": 1,
          "since_first_don": 63,
          "since_last_don": 8,
          "total_blood": 2500,
          "total_dons": 10
         },
         {
          "Class": 2,
          "since_first_don": 23,
          "since_last_don": 4,
          "total_blood": 1250,
          "total_dons": 5
         },
         {
          "Class": 1,
          "since_first_don": 28,
          "since_last_don": 4,
          "total_blood": 1750,
          "total_dons": 7
         },
         {
          "Class": 1,
          "since_first_don": 14,
          "since_last_don": 14,
          "total_blood": 250,
          "total_dons": 1
         },
         {
          "Class": 2,
          "since_first_don": 4,
          "since_last_don": 2,
          "total_blood": 750,
          "total_dons": 3
         },
         {
          "Class": 1,
          "since_first_don": 58,
          "since_last_don": 4,
          "total_blood": 1250,
          "total_dons": 5
         },
         {
          "Class": 2,
          "since_first_don": 4,
          "since_last_don": 4,
          "total_blood": 250,
          "total_dons": 1
         },
         {
          "Class": 2,
          "since_first_don": 11,
          "since_last_don": 4,
          "total_blood": 1250,
          "total_dons": 5
         },
         {
          "Class": 1,
          "since_first_don": 34,
          "since_last_don": 4,
          "total_blood": 750,
          "total_dons": 3
         },
         {
          "Class": 1,
          "since_first_don": 4,
          "since_last_don": 4,
          "total_blood": 250,
          "total_dons": 1
         },
         {
          "Class": 1,
          "since_first_don": 33,
          "since_last_don": 11,
          "total_blood": 1250,
          "total_dons": 5
         },
         {
          "Class": 2,
          "since_first_don": 40,
          "since_last_don": 11,
          "total_blood": 750,
          "total_dons": 3
         },
         {
          "Class": 1,
          "since_first_don": 28,
          "since_last_don": 16,
          "total_blood": 2000,
          "total_dons": 8
         },
         {
          "Class": 1,
          "since_first_don": 26,
          "since_last_don": 13,
          "total_blood": 2000,
          "total_dons": 8
         },
         {
          "Class": 1,
          "since_first_don": 21,
          "since_last_don": 21,
          "total_blood": 250,
          "total_dons": 1
         },
         {
          "Class": 1,
          "since_first_don": 86,
          "since_last_don": 4,
          "total_blood": 3500,
          "total_dons": 14
         },
         {
          "Class": 1,
          "since_first_don": 4,
          "since_last_don": 4,
          "total_blood": 250,
          "total_dons": 1
         },
         {
          "Class": 1,
          "since_first_don": 62,
          "since_last_don": 16,
          "total_blood": 2500,
          "total_dons": 10
         },
         {
          "Class": 2,
          "since_first_don": 35,
          "since_last_don": 2,
          "total_blood": 1750,
          "total_dons": 7
         },
         {
          "Class": 1,
          "since_first_don": 4,
          "since_last_don": 4,
          "total_blood": 250,
          "total_dons": 1
         },
         {
          "Class": 1,
          "since_first_don": 52,
          "since_last_don": 4,
          "total_blood": 1750,
          "total_dons": 7
         },
         {
          "Class": 2,
          "since_first_don": 28,
          "since_last_don": 6,
          "total_blood": 5500,
          "total_dons": 22
         },
         {
          "Class": 1,
          "since_first_don": 38,
          "since_last_don": 21,
          "total_blood": 1750,
          "total_dons": 7
         },
         {
          "Class": 1,
          "since_first_don": 75,
          "since_last_don": 5,
          "total_blood": 2750,
          "total_dons": 11
         },
         {
          "Class": 1,
          "since_first_don": 46,
          "since_last_don": 4,
          "total_blood": 1500,
          "total_dons": 6
         },
         {
          "Class": 1,
          "since_first_don": 38,
          "since_last_don": 10,
          "total_blood": 1250,
          "total_dons": 5
         },
         {
          "Class": 2,
          "since_first_don": 70,
          "since_last_don": 4,
          "total_blood": 4000,
          "total_dons": 16
         },
         {
          "Class": 2,
          "since_first_don": 34,
          "since_last_don": 4,
          "total_blood": 3000,
          "total_dons": 12
         },
         {
          "Class": 1,
          "since_first_don": 16,
          "since_last_don": 16,
          "total_blood": 250,
          "total_dons": 1
         },
         {
          "Class": 1,
          "since_first_don": 4,
          "since_last_don": 4,
          "total_blood": 250,
          "total_dons": 1
         },
         {
          "Class": 1,
          "since_first_don": 11,
          "since_last_don": 11,
          "total_blood": 500,
          "total_dons": 2
         },
         {
          "Class": 2,
          "since_first_don": 35,
          "since_last_don": 4,
          "total_blood": 1250,
          "total_dons": 5
         },
         {
          "Class": 1,
          "since_first_don": 2,
          "since_last_don": 2,
          "total_blood": 250,
          "total_dons": 1
         },
         {
          "Class": 1,
          "since_first_don": 16,
          "since_last_don": 16,
          "total_blood": 250,
          "total_dons": 1
         },
         {
          "Class": 1,
          "since_first_don": 16,
          "since_last_don": 2,
          "total_blood": 1000,
          "total_dons": 4
         },
         {
          "Class": 2,
          "since_first_don": 16,
          "since_last_don": 9,
          "total_blood": 500,
          "total_dons": 2
         },
         {
          "Class": 1,
          "since_first_don": 4,
          "since_last_don": 4,
          "total_blood": 250,
          "total_dons": 1
         },
         {
          "Class": 1,
          "since_first_don": 2,
          "since_last_don": 2,
          "total_blood": 250,
          "total_dons": 1
         },
         {
          "Class": 1,
          "since_first_don": 21,
          "since_last_don": 21,
          "total_blood": 250,
          "total_dons": 1
         },
         {
          "Class": 1,
          "since_first_don": 28,
          "since_last_don": 4,
          "total_blood": 2750,
          "total_dons": 11
         },
         {
          "Class": 1,
          "since_first_don": 21,
          "since_last_don": 21,
          "total_blood": 250,
          "total_dons": 1
         },
         {
          "Class": 1,
          "since_first_don": 35,
          "since_last_don": 4,
          "total_blood": 1500,
          "total_dons": 6
         },
         {
          "Class": 1,
          "since_first_don": 64,
          "since_last_don": 14,
          "total_blood": 1250,
          "total_dons": 5
         },
         {
          "Class": 1,
          "since_first_don": 21,
          "since_last_don": 21,
          "total_blood": 250,
          "total_dons": 1
         },
         {
          "Class": 1,
          "since_first_don": 26,
          "since_last_don": 11,
          "total_blood": 500,
          "total_dons": 2
         },
         {
          "Class": 2,
          "since_first_don": 21,
          "since_last_don": 16,
          "total_blood": 750,
          "total_dons": 3
         },
         {
          "Class": 1,
          "since_first_don": 28,
          "since_last_don": 4,
          "total_blood": 2250,
          "total_dons": 9
         },
         {
          "Class": 1,
          "since_first_don": 4,
          "since_last_don": 4,
          "total_blood": 250,
          "total_dons": 1
         },
         {
          "Class": 1,
          "since_first_don": 39,
          "since_last_don": 10,
          "total_blood": 2000,
          "total_dons": 8
         },
         {
          "Class": 1,
          "since_first_don": 4,
          "since_last_don": 4,
          "total_blood": 250,
          "total_dons": 1
         },
         {
          "Class": 1,
          "since_first_don": 14,
          "since_last_don": 2,
          "total_blood": 500,
          "total_dons": 2
         },
         {
          "Class": 2,
          "since_first_don": 28,
          "since_last_don": 14,
          "total_blood": 1250,
          "total_dons": 5
         },
         {
          "Class": 2,
          "since_first_don": 4,
          "since_last_don": 4,
          "total_blood": 250,
          "total_dons": 1
         },
         {
          "Class": 1,
          "since_first_don": 2,
          "since_last_don": 2,
          "total_blood": 250,
          "total_dons": 1
         },
         {
          "Class": 2,
          "since_first_don": 39,
          "since_last_don": 4,
          "total_blood": 3250,
          "total_dons": 13
         },
         {
          "Class": 1,
          "since_first_don": 57,
          "since_last_don": 23,
          "total_blood": 3750,
          "total_dons": 15
         },
         {
          "Class": 1,
          "since_first_don": 11,
          "since_last_don": 11,
          "total_blood": 250,
          "total_dons": 1
         },
         {
          "Class": 1,
          "since_first_don": 69,
          "since_last_don": 23,
          "total_blood": 2000,
          "total_dons": 8
         },
         {
          "Class": 1,
          "since_first_don": 26,
          "since_last_don": 23,
          "total_blood": 500,
          "total_dons": 2
         },
         {
          "Class": 1,
          "since_first_don": 64,
          "since_last_don": 23,
          "total_blood": 2000,
          "total_dons": 8
         },
         {
          "Class": 1,
          "since_first_don": 28,
          "since_last_don": 4,
          "total_blood": 750,
          "total_dons": 3
         },
         {
          "Class": 1,
          "since_first_don": 16,
          "since_last_don": 16,
          "total_blood": 250,
          "total_dons": 1
         },
         {
          "Class": 1,
          "since_first_don": 22,
          "since_last_don": 2,
          "total_blood": 1500,
          "total_dons": 6
         },
         {
          "Class": 1,
          "since_first_don": 28,
          "since_last_don": 23,
          "total_blood": 500,
          "total_dons": 2
         },
         {
          "Class": 1,
          "since_first_don": 71,
          "since_last_don": 16,
          "total_blood": 1250,
          "total_dons": 5
         },
         {
          "Class": 1,
          "since_first_don": 23,
          "since_last_don": 12,
          "total_blood": 2750,
          "total_dons": 11
         },
         {
          "Class": 1,
          "since_first_don": 62,
          "since_last_don": 23,
          "total_blood": 4750,
          "total_dons": 19
         },
         {
          "Class": 1,
          "since_first_don": 60,
          "since_last_don": 16,
          "total_blood": 1250,
          "total_dons": 5
         },
         {
          "Class": 2,
          "since_first_don": 40,
          "since_last_don": 2,
          "total_blood": 2750,
          "total_dons": 11
         },
         {
          "Class": 1,
          "since_first_don": 26,
          "since_last_don": 2,
          "total_blood": 1250,
          "total_dons": 5
         },
         {
          "Class": 1,
          "since_first_don": 38,
          "since_last_don": 21,
          "total_blood": 750,
          "total_dons": 3
         },
         {
          "Class": 1,
          "since_first_don": 23,
          "since_last_don": 23,
          "total_blood": 250,
          "total_dons": 1
         },
         {
          "Class": 1,
          "since_first_don": 21,
          "since_last_don": 11,
          "total_blood": 500,
          "total_dons": 2
         },
         {
          "Class": 1,
          "since_first_don": 87,
          "since_last_don": 16,
          "total_blood": 3750,
          "total_dons": 15
         },
         {
          "Class": 1,
          "since_first_don": 39,
          "since_last_don": 23,
          "total_blood": 750,
          "total_dons": 3
         },
         {
          "Class": 2,
          "since_first_don": 58,
          "since_last_don": 17,
          "total_blood": 1750,
          "total_dons": 7
         },
         {
          "Class": 1,
          "since_first_don": 98,
          "since_last_don": 11,
          "total_blood": 5500,
          "total_dons": 22
         },
         {
          "Class": 2,
          "since_first_don": 62,
          "since_last_don": 11,
          "total_blood": 1750,
          "total_dons": 7
         },
         {
          "Class": 1,
          "since_first_don": 26,
          "since_last_don": 2,
          "total_blood": 1500,
          "total_dons": 6
         },
         {
          "Class": 1,
          "since_first_don": 40,
          "since_last_don": 16,
          "total_blood": 1500,
          "total_dons": 6
         },
         {
          "Class": 2,
          "since_first_don": 14,
          "since_last_don": 2,
          "total_blood": 1750,
          "total_dons": 7
         },
         {
          "Class": 1,
          "since_first_don": 34,
          "since_last_don": 16,
          "total_blood": 750,
          "total_dons": 3
         },
         {
          "Class": 1,
          "since_first_don": 28,
          "since_last_don": 23,
          "total_blood": 500,
          "total_dons": 2
         },
         {
          "Class": 1,
          "since_first_don": 50,
          "since_last_don": 16,
          "total_blood": 750,
          "total_dons": 3
         },
         {
          "Class": 2,
          "since_first_don": 22,
          "since_last_don": 22,
          "total_blood": 250,
          "total_dons": 1
         },
         {
          "Class": 1,
          "since_first_don": 23,
          "since_last_don": 23,
          "total_blood": 250,
          "total_dons": 1
         },
         {
          "Class": 1,
          "since_first_don": 48,
          "since_last_don": 21,
          "total_blood": 1500,
          "total_dons": 6
         },
         {
          "Class": 2,
          "since_first_don": 35,
          "since_last_don": 2,
          "total_blood": 2000,
          "total_dons": 8
         },
         {
          "Class": 1,
          "since_first_don": 21,
          "since_last_don": 21,
          "total_blood": 250,
          "total_dons": 1
         },
         {
          "Class": 1,
          "since_first_don": 35,
          "since_last_don": 21,
          "total_blood": 750,
          "total_dons": 3
         },
         {
          "Class": 1,
          "since_first_don": 49,
          "since_last_don": 2,
          "total_blood": 2500,
          "total_dons": 10
         },
         {
          "Class": 1,
          "since_first_don": 52,
          "since_last_don": 9,
          "total_blood": 500,
          "total_dons": 2
         },
         {
          "Class": 2,
          "since_first_don": 16,
          "since_last_don": 4,
          "total_blood": 1500,
          "total_dons": 6
         },
         {
          "Class": 2,
          "since_first_don": 2,
          "since_last_don": 2,
          "total_blood": 250,
          "total_dons": 1
         },
         {
          "Class": 2,
          "since_first_don": 48,
          "since_last_don": 4,
          "total_blood": 2000,
          "total_dons": 8
         },
         {
          "Class": 1,
          "since_first_don": 23,
          "since_last_don": 23,
          "total_blood": 250,
          "total_dons": 1
         },
         {
          "Class": 2,
          "since_first_don": 43,
          "since_last_don": 1,
          "total_blood": 2500,
          "total_dons": 10
         },
         {
          "Class": 2,
          "since_first_don": 2,
          "since_last_don": 2,
          "total_blood": 250,
          "total_dons": 1
         },
         {
          "Class": 1,
          "since_first_don": 28,
          "since_last_don": 2,
          "total_blood": 2750,
          "total_dons": 11
         },
         {
          "Class": 1,
          "since_first_don": 35,
          "since_last_don": 1,
          "total_blood": 3000,
          "total_dons": 12
         },
         {
          "Class": 1,
          "since_first_don": 11,
          "since_last_don": 11,
          "total_blood": 250,
          "total_dons": 1
         },
         {
          "Class": 2,
          "since_first_don": 57,
          "since_last_don": 2,
          "total_blood": 3500,
          "total_dons": 14
         },
         {
          "Class": 1,
          "since_first_don": 18,
          "since_last_don": 11,
          "total_blood": 1250,
          "total_dons": 5
         },
         {
          "Class": 1,
          "since_first_don": 23,
          "since_last_don": 18,
          "total_blood": 500,
          "total_dons": 2
         },
         {
          "Class": 2,
          "since_first_don": 4,
          "since_last_don": 4,
          "total_blood": 500,
          "total_dons": 2
         },
         {
          "Class": 2,
          "since_first_don": 28,
          "since_last_don": 2,
          "total_blood": 2500,
          "total_dons": 10
         },
         {
          "Class": 1,
          "since_first_don": 14,
          "since_last_don": 14,
          "total_blood": 250,
          "total_dons": 1
         },
         {
          "Class": 1,
          "since_first_don": 95,
          "since_last_don": 18,
          "total_blood": 2000,
          "total_dons": 8
         },
         {
          "Class": 1,
          "since_first_don": 23,
          "since_last_don": 4,
          "total_blood": 500,
          "total_dons": 2
         },
         {
          "Class": 2,
          "since_first_don": 9,
          "since_last_don": 4,
          "total_blood": 500,
          "total_dons": 2
         },
         {
          "Class": 1,
          "since_first_don": 2,
          "since_last_don": 2,
          "total_blood": 250,
          "total_dons": 1
         },
         {
          "Class": 1,
          "since_first_don": 23,
          "since_last_don": 23,
          "total_blood": 250,
          "total_dons": 1
         },
         {
          "Class": 1,
          "since_first_don": 45,
          "since_last_don": 16,
          "total_blood": 1000,
          "total_dons": 4
         },
         {
          "Class": 1,
          "since_first_don": 23,
          "since_last_don": 23,
          "total_blood": 250,
          "total_dons": 1
         },
         {
          "Class": 1,
          "since_first_don": 28,
          "since_last_don": 5,
          "total_blood": 1500,
          "total_dons": 6
         },
         {
          "Class": 1,
          "since_first_don": 61,
          "since_last_don": 4,
          "total_blood": 2750,
          "total_dons": 11
         },
         {
          "Class": 2,
          "since_first_don": 38,
          "since_last_don": 4,
          "total_blood": 2250,
          "total_dons": 9
         },
         {
          "Class": 1,
          "since_first_don": 40,
          "since_last_don": 4,
          "total_blood": 3500,
          "total_dons": 14
         },
         {
          "Class": 1,
          "since_first_don": 4,
          "since_last_don": 4,
          "total_blood": 250,
          "total_dons": 1
         },
         {
          "Class": 2,
          "since_first_don": 2,
          "since_last_don": 2,
          "total_blood": 250,
          "total_dons": 1
         },
         {
          "Class": 1,
          "since_first_don": 16,
          "since_last_don": 2,
          "total_blood": 1000,
          "total_dons": 4
         },
         {
          "Class": 1,
          "since_first_don": 24,
          "since_last_don": 11,
          "total_blood": 500,
          "total_dons": 2
         },
         {
          "Class": 1,
          "since_first_don": 35,
          "since_last_don": 4,
          "total_blood": 1500,
          "total_dons": 6
         },
         {
          "Class": 2,
          "since_first_don": 28,
          "since_last_don": 0,
          "total_blood": 3250,
          "total_dons": 13
         },
         {
          "Class": 1,
          "since_first_don": 77,
          "since_last_don": 2,
          "total_blood": 1750,
          "total_dons": 7
         },
         {
          "Class": 2,
          "since_first_don": 4,
          "since_last_don": 2,
          "total_blood": 750,
          "total_dons": 3
         },
         {
          "Class": 1,
          "since_first_don": 21,
          "since_last_don": 4,
          "total_blood": 2000,
          "total_dons": 8
         },
         {
          "Class": 1,
          "since_first_don": 16,
          "since_last_don": 16,
          "total_blood": 500,
          "total_dons": 2
         },
         {
          "Class": 1,
          "since_first_don": 40,
          "since_last_don": 14,
          "total_blood": 1000,
          "total_dons": 4
         },
         {
          "Class": 1,
          "since_first_don": 79,
          "since_last_don": 5,
          "total_blood": 6000,
          "total_dons": 24
         },
         {
          "Class": 1,
          "since_first_don": 11,
          "since_last_don": 11,
          "total_blood": 250,
          "total_dons": 1
         },
         {
          "Class": 1,
          "since_first_don": 35,
          "since_last_don": 21,
          "total_blood": 750,
          "total_dons": 3
         },
         {
          "Class": 1,
          "since_first_don": 16,
          "since_last_don": 2,
          "total_blood": 1000,
          "total_dons": 4
         },
         {
          "Class": 1,
          "since_first_don": 11,
          "since_last_don": 11,
          "total_blood": 250,
          "total_dons": 1
         },
         {
          "Class": 1,
          "since_first_don": 16,
          "since_last_don": 2,
          "total_blood": 1000,
          "total_dons": 4
         },
         {
          "Class": 2,
          "since_first_don": 40,
          "since_last_don": 16,
          "total_blood": 1250,
          "total_dons": 5
         },
         {
          "Class": 1,
          "since_first_don": 50,
          "since_last_don": 16,
          "total_blood": 3000,
          "total_dons": 12
         },
         {
          "Class": 1,
          "since_first_don": 14,
          "since_last_don": 14,
          "total_blood": 250,
          "total_dons": 1
         },
         {
          "Class": 1,
          "since_first_don": 64,
          "since_last_don": 35,
          "total_blood": 750,
          "total_dons": 3
         },
         {
          "Class": 1,
          "since_first_don": 47,
          "since_last_don": 14,
          "total_blood": 1750,
          "total_dons": 7
         },
         {
          "Class": 1,
          "since_first_don": 11,
          "since_last_don": 11,
          "total_blood": 250,
          "total_dons": 1
         },
         {
          "Class": 1,
          "since_first_don": 52,
          "since_last_don": 2,
          "total_blood": 3000,
          "total_dons": 12
         },
         {
          "Class": 1,
          "since_first_don": 78,
          "since_last_don": 14,
          "total_blood": 4500,
          "total_dons": 18
         },
         {
          "Class": 1,
          "since_first_don": 2,
          "since_last_don": 2,
          "total_blood": 250,
          "total_dons": 1
         },
         {
          "Class": 1,
          "since_first_don": 16,
          "since_last_don": 4,
          "total_blood": 1000,
          "total_dons": 4
         },
         {
          "Class": 1,
          "since_first_don": 25,
          "since_last_don": 21,
          "total_blood": 500,
          "total_dons": 2
         },
         {
          "Class": 1,
          "since_first_don": 41,
          "since_last_don": 21,
          "total_blood": 500,
          "total_dons": 2
         },
         {
          "Class": 1,
          "since_first_don": 39,
          "since_last_don": 12,
          "total_blood": 2750,
          "total_dons": 11
         },
         {
          "Class": 1,
          "since_first_don": 75,
          "since_last_don": 11,
          "total_blood": 1750,
          "total_dons": 7
         },
         {
          "Class": 1,
          "since_first_don": 72,
          "since_last_don": 11,
          "total_blood": 2000,
          "total_dons": 8
         },
         {
          "Class": 1,
          "since_first_don": 26,
          "since_last_don": 6,
          "total_blood": 750,
          "total_dons": 3
         },
         {
          "Class": 1,
          "since_first_don": 37,
          "since_last_don": 11,
          "total_blood": 750,
          "total_dons": 3
         },
         {
          "Class": 1,
          "since_first_don": 11,
          "since_last_don": 11,
          "total_blood": 250,
          "total_dons": 1
         },
         {
          "Class": 1,
          "since_first_don": 26,
          "since_last_don": 2,
          "total_blood": 1250,
          "total_dons": 5
         },
         {
          "Class": 1,
          "since_first_don": 45,
          "since_last_don": 23,
          "total_blood": 1000,
          "total_dons": 4
         },
         {
          "Class": 1,
          "since_first_don": 35,
          "since_last_don": 16,
          "total_blood": 750,
          "total_dons": 3
         },
         {
          "Class": 1,
          "since_first_don": 22,
          "since_last_don": 2,
          "total_blood": 500,
          "total_dons": 2
         },
         {
          "Class": 1,
          "since_first_don": 23,
          "since_last_don": 21,
          "total_blood": 500,
          "total_dons": 2
         },
         {
          "Class": 1,
          "since_first_don": 11,
          "since_last_don": 2,
          "total_blood": 500,
          "total_dons": 2
         },
         {
          "Class": 1,
          "since_first_don": 4,
          "since_last_don": 4,
          "total_blood": 250,
          "total_dons": 1
         },
         {
          "Class": 1,
          "since_first_don": 87,
          "since_last_don": 23,
          "total_blood": 500,
          "total_dons": 2
         },
         {
          "Class": 1,
          "since_first_don": 21,
          "since_last_don": 21,
          "total_blood": 250,
          "total_dons": 1
         },
         {
          "Class": 1,
          "since_first_don": 16,
          "since_last_don": 4,
          "total_blood": 750,
          "total_dons": 3
         },
         {
          "Class": 2,
          "since_first_don": 46,
          "since_last_don": 4,
          "total_blood": 2000,
          "total_dons": 8
         },
         {
          "Class": 1,
          "since_first_don": 78,
          "since_last_don": 4,
          "total_blood": 2750,
          "total_dons": 11
         },
         {
          "Class": 1,
          "since_first_don": 43,
          "since_last_don": 2,
          "total_blood": 1000,
          "total_dons": 4
         },
         {
          "Class": 1,
          "since_first_don": 21,
          "since_last_don": 14,
          "total_blood": 750,
          "total_dons": 3
         },
         {
          "Class": 1,
          "since_first_don": 86,
          "since_last_don": 7,
          "total_blood": 3000,
          "total_dons": 12
         },
         {
          "Class": 1,
          "since_first_don": 14,
          "since_last_don": 2,
          "total_blood": 750,
          "total_dons": 3
         },
         {
          "Class": 1,
          "since_first_don": 14,
          "since_last_don": 14,
          "total_blood": 250,
          "total_dons": 1
         },
         {
          "Class": 1,
          "since_first_don": 64,
          "since_last_don": 11,
          "total_blood": 1750,
          "total_dons": 7
         },
         {
          "Class": 1,
          "since_first_don": 50,
          "since_last_don": 25,
          "total_blood": 1500,
          "total_dons": 6
         },
         {
          "Class": 2,
          "since_first_don": 69,
          "since_last_don": 4,
          "total_blood": 5000,
          "total_dons": 20
         },
         {
          "Class": 1,
          "since_first_don": 41,
          "since_last_don": 14,
          "total_blood": 750,
          "total_dons": 3
         },
         {
          "Class": 1,
          "since_first_don": 2,
          "since_last_don": 2,
          "total_blood": 250,
          "total_dons": 1
         },
         {
          "Class": 2,
          "since_first_don": 42,
          "since_last_don": 3,
          "total_blood": 5250,
          "total_dons": 21
         },
         {
          "Class": 1,
          "since_first_don": 38,
          "since_last_don": 16,
          "total_blood": 1750,
          "total_dons": 7
         },
         {
          "Class": 1,
          "since_first_don": 21,
          "since_last_don": 16,
          "total_blood": 750,
          "total_dons": 3
         },
         {
          "Class": 1,
          "since_first_don": 2,
          "since_last_don": 2,
          "total_blood": 250,
          "total_dons": 1
         },
         {
          "Class": 1,
          "since_first_don": 98,
          "since_last_don": 2,
          "total_blood": 3000,
          "total_dons": 12
         },
         {
          "Class": 1,
          "since_first_don": 23,
          "since_last_don": 21,
          "total_blood": 500,
          "total_dons": 2
         },
         {
          "Class": 1,
          "since_first_don": 4,
          "since_last_don": 4,
          "total_blood": 250,
          "total_dons": 1
         },
         {
          "Class": 2,
          "since_first_don": 4,
          "since_last_don": 4,
          "total_blood": 250,
          "total_dons": 1
         },
         {
          "Class": 1,
          "since_first_don": 21,
          "since_last_don": 21,
          "total_blood": 250,
          "total_dons": 1
         },
         {
          "Class": 2,
          "since_first_don": 28,
          "since_last_don": 4,
          "total_blood": 2500,
          "total_dons": 10
         },
         {
          "Class": 1,
          "since_first_don": 33,
          "since_last_don": 2,
          "total_blood": 500,
          "total_dons": 2
         },
         {
          "Class": 1,
          "since_first_don": 41,
          "since_last_don": 4,
          "total_blood": 500,
          "total_dons": 2
         },
         {
          "Class": 2,
          "since_first_don": 11,
          "since_last_don": 2,
          "total_blood": 500,
          "total_dons": 2
         },
         {
          "Class": 1,
          "since_first_don": 37,
          "since_last_don": 2,
          "total_blood": 1250,
          "total_dons": 5
         },
         {
          "Class": 1,
          "since_first_don": 23,
          "since_last_don": 2,
          "total_blood": 1000,
          "total_dons": 4
         },
         {
          "Class": 1,
          "since_first_don": 16,
          "since_last_don": 13,
          "total_blood": 750,
          "total_dons": 3
         },
         {
          "Class": 1,
          "since_first_don": 52,
          "since_last_don": 4,
          "total_blood": 2250,
          "total_dons": 9
         },
         {
          "Class": 1,
          "since_first_don": 16,
          "since_last_don": 16,
          "total_blood": 250,
          "total_dons": 1
         },
         {
          "Class": 1,
          "since_first_don": 23,
          "since_last_don": 11,
          "total_blood": 750,
          "total_dons": 3
         },
         {
          "Class": 1,
          "since_first_don": 26,
          "since_last_don": 14,
          "total_blood": 750,
          "total_dons": 3
         },
         {
          "Class": 1,
          "since_first_don": 35,
          "since_last_don": 11,
          "total_blood": 1250,
          "total_dons": 5
         },
         {
          "Class": 1,
          "since_first_don": 16,
          "since_last_don": 16,
          "total_blood": 250,
          "total_dons": 1
         },
         {
          "Class": 1,
          "since_first_don": 58,
          "since_last_don": 4,
          "total_blood": 5750,
          "total_dons": 23
         },
         {
          "Class": 1,
          "since_first_don": 26,
          "since_last_don": 21,
          "total_blood": 500,
          "total_dons": 2
         },
         {
          "Class": 2,
          "since_first_don": 28,
          "since_last_don": 2,
          "total_blood": 1500,
          "total_dons": 6
         },
         {
          "Class": 1,
          "since_first_don": 75,
          "since_last_don": 2,
          "total_blood": 1500,
          "total_dons": 6
         },
         {
          "Class": 1,
          "since_first_don": 76,
          "since_last_don": 2,
          "total_blood": 1750,
          "total_dons": 7
         },
         {
          "Class": 1,
          "since_first_don": 61,
          "since_last_don": 11,
          "total_blood": 1000,
          "total_dons": 4
         },
         {
          "Class": 1,
          "since_first_don": 51,
          "since_last_don": 1,
          "total_blood": 2250,
          "total_dons": 9
         },
         {
          "Class": 1,
          "since_first_don": 14,
          "since_last_don": 2,
          "total_blood": 500,
          "total_dons": 2
         },
         {
          "Class": 1,
          "since_first_don": 75,
          "since_last_don": 2,
          "total_blood": 2250,
          "total_dons": 9
         },
         {
          "Class": 1,
          "since_first_don": 23,
          "since_last_don": 4,
          "total_blood": 1250,
          "total_dons": 5
         },
         {
          "Class": 1,
          "since_first_don": 16,
          "since_last_don": 14,
          "total_blood": 500,
          "total_dons": 2
         },
         {
          "Class": 1,
          "since_first_don": 60,
          "since_last_don": 12,
          "total_blood": 2250,
          "total_dons": 9
         },
         {
          "Class": 2,
          "since_first_don": 87,
          "since_last_don": 16,
          "total_blood": 1750,
          "total_dons": 7
         },
         {
          "Class": 2,
          "since_first_don": 77,
          "since_last_don": 2,
          "total_blood": 8500,
          "total_dons": 34
         },
         {
          "Class": 1,
          "since_first_don": 98,
          "since_last_don": 23,
          "total_blood": 9500,
          "total_dons": 38
         },
         {
          "Class": 1,
          "since_first_don": 45,
          "since_last_don": 14,
          "total_blood": 1750,
          "total_dons": 7
         },
         {
          "Class": 1,
          "since_first_don": 23,
          "since_last_don": 2,
          "total_blood": 2750,
          "total_dons": 11
         },
         {
          "Class": 1,
          "since_first_don": 76,
          "since_last_don": 11,
          "total_blood": 750,
          "total_dons": 3
         },
         {
          "Class": 2,
          "since_first_don": 22,
          "since_last_don": 14,
          "total_blood": 1000,
          "total_dons": 4
         },
         {
          "Class": 1,
          "since_first_don": 16,
          "since_last_don": 16,
          "total_blood": 250,
          "total_dons": 1
         },
         {
          "Class": 1,
          "since_first_don": 26,
          "since_last_don": 4,
          "total_blood": 1000,
          "total_dons": 4
         },
         {
          "Class": 1,
          "since_first_don": 52,
          "since_last_don": 11,
          "total_blood": 500,
          "total_dons": 2
         },
         {
          "Class": 1,
          "since_first_don": 2,
          "since_last_don": 2,
          "total_blood": 250,
          "total_dons": 1
         },
         {
          "Class": 1,
          "since_first_don": 21,
          "since_last_don": 21,
          "total_blood": 250,
          "total_dons": 1
         },
         {
          "Class": 1,
          "since_first_don": 4,
          "since_last_don": 4,
          "total_blood": 500,
          "total_dons": 2
         },
         {
          "Class": 1,
          "since_first_don": 16,
          "since_last_don": 16,
          "total_blood": 250,
          "total_dons": 1
         },
         {
          "Class": 2,
          "since_first_don": 11,
          "since_last_don": 2,
          "total_blood": 500,
          "total_dons": 2
         },
         {
          "Class": 1,
          "since_first_don": 79,
          "since_last_don": 14,
          "total_blood": 750,
          "total_dons": 3
         },
         {
          "Class": 1,
          "since_first_don": 98,
          "since_last_don": 2,
          "total_blood": 11000,
          "total_dons": 44
         },
         {
          "Class": 2,
          "since_first_don": 49,
          "since_last_don": 26,
          "total_blood": 1250,
          "total_dons": 5
         },
         {
          "Class": 1,
          "since_first_don": 23,
          "since_last_don": 16,
          "total_blood": 750,
          "total_dons": 3
         },
         {
          "Class": 1,
          "since_first_don": 30,
          "since_last_don": 4,
          "total_blood": 1500,
          "total_dons": 6
         },
         {
          "Class": 1,
          "since_first_don": 28,
          "since_last_don": 4,
          "total_blood": 1250,
          "total_dons": 5
         },
         {
          "Class": 1,
          "since_first_don": 28,
          "since_last_don": 14,
          "total_blood": 750,
          "total_dons": 3
         },
         {
          "Class": 2,
          "since_first_don": 98,
          "since_last_don": 4,
          "total_blood": 4000,
          "total_dons": 16
         },
         {
          "Class": 1,
          "since_first_don": 47,
          "since_last_don": 4,
          "total_blood": 1500,
          "total_dons": 6
         },
         {
          "Class": 2,
          "since_first_don": 4,
          "since_last_don": 4,
          "total_blood": 250,
          "total_dons": 1
         },
         {
          "Class": 1,
          "since_first_don": 54,
          "since_last_don": 9,
          "total_blood": 2250,
          "total_dons": 9
         },
         {
          "Class": 1,
          "since_first_don": 88,
          "since_last_don": 23,
          "total_blood": 1750,
          "total_dons": 7
         },
         {
          "Class": 1,
          "since_first_don": 11,
          "since_last_don": 11,
          "total_blood": 250,
          "total_dons": 1
         },
         {
          "Class": 1,
          "since_first_don": 23,
          "since_last_don": 23,
          "total_blood": 250,
          "total_dons": 1
         },
         {
          "Class": 2,
          "since_first_don": 38,
          "since_last_don": 4,
          "total_blood": 1500,
          "total_dons": 6
         },
         {
          "Class": 1,
          "since_first_don": 40,
          "since_last_don": 23,
          "total_blood": 750,
          "total_dons": 3
         },
         {
          "Class": 1,
          "since_first_don": 46,
          "since_last_don": 16,
          "total_blood": 750,
          "total_dons": 3
         },
         {
          "Class": 1,
          "since_first_don": 4,
          "since_last_don": 4,
          "total_blood": 250,
          "total_dons": 1
         },
         {
          "Class": 1,
          "since_first_don": 37,
          "since_last_don": 11,
          "total_blood": 1750,
          "total_dons": 7
         },
         {
          "Class": 1,
          "since_first_don": 28,
          "since_last_don": 23,
          "total_blood": 750,
          "total_dons": 3
         },
         {
          "Class": 1,
          "since_first_don": 45,
          "since_last_don": 23,
          "total_blood": 1500,
          "total_dons": 6
         },
         {
          "Class": 1,
          "since_first_don": 38,
          "since_last_don": 38,
          "total_blood": 250,
          "total_dons": 1
         },
         {
          "Class": 1,
          "since_first_don": 70,
          "since_last_don": 16,
          "total_blood": 500,
          "total_dons": 2
         },
         {
          "Class": 1,
          "since_first_don": 21,
          "since_last_don": 21,
          "total_blood": 250,
          "total_dons": 1
         },
         {
          "Class": 2,
          "since_first_don": 16,
          "since_last_don": 2,
          "total_blood": 1000,
          "total_dons": 4
         },
         {
          "Class": 2,
          "since_first_don": 28,
          "since_last_don": 4,
          "total_blood": 1500,
          "total_dons": 6
         },
         {
          "Class": 1,
          "since_first_don": 26,
          "since_last_don": 14,
          "total_blood": 1000,
          "total_dons": 4
         },
         {
          "Class": 1,
          "since_first_don": 26,
          "since_last_don": 11,
          "total_blood": 750,
          "total_dons": 3
         },
         {
          "Class": 1,
          "since_first_don": 74,
          "since_last_don": 3,
          "total_blood": 4000,
          "total_dons": 16
         },
         {
          "Class": 1,
          "since_first_don": 76,
          "since_last_don": 13,
          "total_blood": 1750,
          "total_dons": 7
         },
         {
          "Class": 1,
          "since_first_don": 16,
          "since_last_don": 2,
          "total_blood": 500,
          "total_dons": 2
         },
         {
          "Class": 2,
          "since_first_don": 22,
          "since_last_don": 2,
          "total_blood": 2250,
          "total_dons": 9
         },
         {
          "Class": 1,
          "since_first_don": 4,
          "since_last_don": 2,
          "total_blood": 500,
          "total_dons": 2
         },
         {
          "Class": 2,
          "since_first_don": 14,
          "since_last_don": 14,
          "total_blood": 500,
          "total_dons": 2
         },
         {
          "Class": 1,
          "since_first_don": 81,
          "since_last_don": 2,
          "total_blood": 4000,
          "total_dons": 16
         },
         {
          "Class": 1,
          "since_first_don": 41,
          "since_last_don": 23,
          "total_blood": 750,
          "total_dons": 3
         },
         {
          "Class": 1,
          "since_first_don": 57,
          "since_last_don": 14,
          "total_blood": 1000,
          "total_dons": 4
         },
         {
          "Class": 1,
          "since_first_don": 14,
          "since_last_don": 14,
          "total_blood": 250,
          "total_dons": 1
         },
         {
          "Class": 1,
          "since_first_don": 23,
          "since_last_don": 23,
          "total_blood": 250,
          "total_dons": 1
         },
         {
          "Class": 1,
          "since_first_don": 38,
          "since_last_don": 38,
          "total_blood": 250,
          "total_dons": 1
         },
         {
          "Class": 1,
          "since_first_don": 35,
          "since_last_don": 21,
          "total_blood": 750,
          "total_dons": 3
         },
         {
          "Class": 1,
          "since_first_don": 41,
          "since_last_don": 11,
          "total_blood": 1250,
          "total_dons": 5
         },
         {
          "Class": 1,
          "since_first_don": 71,
          "since_last_don": 11,
          "total_blood": 1500,
          "total_dons": 6
         },
         {
          "Class": 1,
          "since_first_don": 16,
          "since_last_don": 16,
          "total_blood": 250,
          "total_dons": 1
         },
         {
          "Class": 1,
          "since_first_don": 86,
          "since_last_don": 5,
          "total_blood": 3500,
          "total_dons": 14
         },
         {
          "Class": 1,
          "since_first_don": 4,
          "since_last_don": 4,
          "total_blood": 500,
          "total_dons": 2
         },
         {
          "Class": 2,
          "since_first_don": 50,
          "since_last_don": 14,
          "total_blood": 2000,
          "total_dons": 8
         },
         {
          "Class": 2,
          "since_first_don": 51,
          "since_last_don": 9,
          "total_blood": 1250,
          "total_dons": 5
         },
         {
          "Class": 1,
          "since_first_don": 29,
          "since_last_don": 2,
          "total_blood": 1750,
          "total_dons": 7
         },
         {
          "Class": 1,
          "since_first_don": 86,
          "since_last_don": 21,
          "total_blood": 1500,
          "total_dons": 6
         },
         {
          "Class": 1,
          "since_first_don": 72,
          "since_last_don": 14,
          "total_blood": 1750,
          "total_dons": 7
         },
         {
          "Class": 1,
          "since_first_don": 26,
          "since_last_don": 16,
          "total_blood": 500,
          "total_dons": 2
         },
         {
          "Class": 1,
          "since_first_don": 64,
          "since_last_don": 14,
          "total_blood": 1000,
          "total_dons": 4
         },
         {
          "Class": 1,
          "since_first_don": 14,
          "since_last_don": 14,
          "total_blood": 500,
          "total_dons": 2
         },
         {
          "Class": 1,
          "since_first_don": 21,
          "since_last_don": 21,
          "total_blood": 250,
          "total_dons": 1
         },
         {
          "Class": 1,
          "since_first_don": 28,
          "since_last_don": 14,
          "total_blood": 1250,
          "total_dons": 5
         },
         {
          "Class": 1,
          "since_first_don": 29,
          "since_last_don": 4,
          "total_blood": 500,
          "total_dons": 2
         },
         {
          "Class": 1,
          "since_first_don": 14,
          "since_last_don": 14,
          "total_blood": 250,
          "total_dons": 1
         },
         {
          "Class": 1,
          "since_first_don": 36,
          "since_last_don": 2,
          "total_blood": 2250,
          "total_dons": 9
         },
         {
          "Class": 1,
          "since_first_don": 4,
          "since_last_don": 4,
          "total_blood": 500,
          "total_dons": 2
         },
         {
          "Class": 1,
          "since_first_don": 64,
          "since_last_don": 2,
          "total_blood": 2500,
          "total_dons": 10
         },
         {
          "Class": 1,
          "since_first_don": 51,
          "since_last_don": 14,
          "total_blood": 1500,
          "total_dons": 6
         },
         {
          "Class": 2,
          "since_first_don": 48,
          "since_last_don": 2,
          "total_blood": 3500,
          "total_dons": 14
         },
         {
          "Class": 1,
          "since_first_don": 89,
          "since_last_don": 23,
          "total_blood": 750,
          "total_dons": 3
         },
         {
          "Class": 1,
          "since_first_don": 42,
          "since_last_don": 11,
          "total_blood": 2750,
          "total_dons": 11
         },
         {
          "Class": 1,
          "since_first_don": 23,
          "since_last_don": 23,
          "total_blood": 500,
          "total_dons": 2
         },
         {
          "Class": 1,
          "since_first_don": 63,
          "since_last_don": 2,
          "total_blood": 1250,
          "total_dons": 5
         },
         {
          "Class": 1,
          "since_first_don": 33,
          "since_last_don": 23,
          "total_blood": 1250,
          "total_dons": 5
         },
         {
          "Class": 2,
          "since_first_don": 4,
          "since_last_don": 2,
          "total_blood": 500,
          "total_dons": 2
         },
         {
          "Class": 1,
          "since_first_don": 93,
          "since_last_don": 23,
          "total_blood": 3500,
          "total_dons": 14
         },
         {
          "Class": 1,
          "since_first_don": 74,
          "since_last_don": 2,
          "total_blood": 2250,
          "total_dons": 9
         },
         {
          "Class": 1,
          "since_first_don": 29,
          "since_last_don": 11,
          "total_blood": 1750,
          "total_dons": 7
         },
         {
          "Class": 1,
          "since_first_don": 52,
          "since_last_don": 21,
          "total_blood": 1000,
          "total_dons": 4
         },
         {
          "Class": 2,
          "since_first_don": 15,
          "since_last_don": 2,
          "total_blood": 1500,
          "total_dons": 6
         },
         {
          "Class": 1,
          "since_first_don": 4,
          "since_last_don": 4,
          "total_blood": 500,
          "total_dons": 2
         },
         {
          "Class": 2,
          "since_first_don": 43,
          "since_last_don": 4,
          "total_blood": 1000,
          "total_dons": 4
         },
         {
          "Class": 1,
          "since_first_don": 23,
          "since_last_don": 2,
          "total_blood": 500,
          "total_dons": 2
         },
         {
          "Class": 2,
          "since_first_don": 4,
          "since_last_don": 4,
          "total_blood": 250,
          "total_dons": 1
         },
         {
          "Class": 1,
          "since_first_don": 58,
          "since_last_don": 12,
          "total_blood": 3000,
          "total_dons": 12
         },
         {
          "Class": 2,
          "since_first_don": 45,
          "since_last_don": 2,
          "total_blood": 5000,
          "total_dons": 20
         },
         {
          "Class": 1,
          "since_first_don": 28,
          "since_last_don": 16,
          "total_blood": 1000,
          "total_dons": 4
         },
         {
          "Class": 1,
          "since_first_don": 64,
          "since_last_don": 21,
          "total_blood": 750,
          "total_dons": 3
         },
         {
          "Class": 1,
          "since_first_don": 4,
          "since_last_don": 4,
          "total_blood": 250,
          "total_dons": 1
         },
         {
          "Class": 1,
          "since_first_don": 83,
          "since_last_don": 14,
          "total_blood": 750,
          "total_dons": 3
         },
         {
          "Class": 1,
          "since_first_don": 16,
          "since_last_don": 16,
          "total_blood": 500,
          "total_dons": 2
         },
         {
          "Class": 1,
          "since_first_don": 11,
          "since_last_don": 2,
          "total_blood": 500,
          "total_dons": 2
         },
         {
          "Class": 1,
          "since_first_don": 4,
          "since_last_don": 0,
          "total_blood": 500,
          "total_dons": 2
         },
         {
          "Class": 1,
          "since_first_don": 14,
          "since_last_don": 4,
          "total_blood": 1500,
          "total_dons": 6
         },
         {
          "Class": 1,
          "since_first_don": 58,
          "since_last_don": 11,
          "total_blood": 1500,
          "total_dons": 6
         },
         {
          "Class": 2,
          "since_first_don": 26,
          "since_last_don": 4,
          "total_blood": 2000,
          "total_dons": 8
         },
         {
          "Class": 1,
          "since_first_don": 34,
          "since_last_don": 14,
          "total_blood": 1500,
          "total_dons": 6
         },
         {
          "Class": 2,
          "since_first_don": 46,
          "since_last_don": 2,
          "total_blood": 2750,
          "total_dons": 11
         },
         {
          "Class": 1,
          "since_first_don": 35,
          "since_last_don": 3,
          "total_blood": 3500,
          "total_dons": 14
         },
         {
          "Class": 1,
          "since_first_don": 60,
          "since_last_don": 21,
          "total_blood": 1250,
          "total_dons": 5
         },
         {
          "Class": 2,
          "since_first_don": 16,
          "since_last_don": 4,
          "total_blood": 1250,
          "total_dons": 5
         },
         {
          "Class": 2,
          "since_first_don": 37,
          "since_last_don": 11,
          "total_blood": 1250,
          "total_dons": 5
         },
         {
          "Class": 1,
          "since_first_don": 35,
          "since_last_don": 14,
          "total_blood": 500,
          "total_dons": 2
         },
         {
          "Class": 2,
          "since_first_don": 26,
          "since_last_don": 2,
          "total_blood": 1500,
          "total_dons": 6
         },
         {
          "Class": 1,
          "since_first_don": 26,
          "since_last_don": 14,
          "total_blood": 750,
          "total_dons": 3
         },
         {
          "Class": 1,
          "since_first_don": 34,
          "since_last_don": 4,
          "total_blood": 1250,
          "total_dons": 5
         },
         {
          "Class": 1,
          "since_first_don": 18,
          "since_last_don": 4,
          "total_blood": 1000,
          "total_dons": 4
         },
         {
          "Class": 2,
          "since_first_don": 10,
          "since_last_don": 2,
          "total_blood": 500,
          "total_dons": 2
         },
         {
          "Class": 1,
          "since_first_don": 64,
          "since_last_don": 21,
          "total_blood": 4000,
          "total_dons": 16
         },
         {
          "Class": 1,
          "since_first_don": 11,
          "since_last_don": 9,
          "total_blood": 500,
          "total_dons": 2
         },
         {
          "Class": 1,
          "since_first_don": 35,
          "since_last_don": 2,
          "total_blood": 750,
          "total_dons": 3
         },
         {
          "Class": 1,
          "since_first_don": 58,
          "since_last_don": 11,
          "total_blood": 1000,
          "total_dons": 4
         },
         {
          "Class": 1,
          "since_first_don": 2,
          "since_last_don": 2,
          "total_blood": 250,
          "total_dons": 1
         },
         {
          "Class": 1,
          "since_first_don": 31,
          "since_last_don": 14,
          "total_blood": 750,
          "total_dons": 3
         },
         {
          "Class": 1,
          "since_first_don": 39,
          "since_last_don": 39,
          "total_blood": 250,
          "total_dons": 1
         },
         {
          "Class": 1,
          "since_first_don": 2,
          "since_last_don": 2,
          "total_blood": 250,
          "total_dons": 1
         },
         {
          "Class": 2,
          "since_first_don": 38,
          "since_last_don": 11,
          "total_blood": 500,
          "total_dons": 2
         },
         {
          "Class": 1,
          "since_first_don": 2,
          "since_last_don": 2,
          "total_blood": 250,
          "total_dons": 1
         },
         {
          "Class": 1,
          "since_first_don": 16,
          "since_last_don": 16,
          "total_blood": 250,
          "total_dons": 1
         },
         {
          "Class": 1,
          "since_first_don": 28,
          "since_last_don": 16,
          "total_blood": 1750,
          "total_dons": 7
         },
         {
          "Class": 1,
          "since_first_don": 23,
          "since_last_don": 23,
          "total_blood": 250,
          "total_dons": 1
         },
         {
          "Class": 1,
          "since_first_don": 14,
          "since_last_don": 6,
          "total_blood": 750,
          "total_dons": 3
         },
         {
          "Class": 1,
          "since_first_don": 40,
          "since_last_don": 16,
          "total_blood": 1000,
          "total_dons": 4
         },
         {
          "Class": 1,
          "since_first_don": 16,
          "since_last_don": 16,
          "total_blood": 250,
          "total_dons": 1
         },
         {
          "Class": 2,
          "since_first_don": 29,
          "since_last_don": 3,
          "total_blood": 1000,
          "total_dons": 4
         },
         {
          "Class": 1,
          "since_first_don": 52,
          "since_last_don": 23,
          "total_blood": 1000,
          "total_dons": 4
         },
         {
          "Class": 2,
          "since_first_don": 69,
          "since_last_don": 20,
          "total_blood": 3500,
          "total_dons": 14
         },
         {
          "Class": 1,
          "since_first_don": 2,
          "since_last_don": 2,
          "total_blood": 250,
          "total_dons": 1
         },
         {
          "Class": 2,
          "since_first_don": 23,
          "since_last_don": 14,
          "total_blood": 1000,
          "total_dons": 4
         },
         {
          "Class": 1,
          "since_first_don": 16,
          "since_last_don": 16,
          "total_blood": 250,
          "total_dons": 1
         },
         {
          "Class": 1,
          "since_first_don": 64,
          "since_last_don": 8,
          "total_blood": 2250,
          "total_dons": 9
         },
         {
          "Class": 1,
          "since_first_don": 4,
          "since_last_don": 4,
          "total_blood": 250,
          "total_dons": 1
         },
         {
          "Class": 1,
          "since_first_don": 26,
          "since_last_don": 9,
          "total_blood": 500,
          "total_dons": 2
         },
         {
          "Class": 2,
          "since_first_don": 26,
          "since_last_don": 4,
          "total_blood": 1000,
          "total_dons": 4
         },
         {
          "Class": 1,
          "since_first_don": 14,
          "since_last_don": 14,
          "total_blood": 250,
          "total_dons": 1
         },
         {
          "Class": 2,
          "since_first_don": 26,
          "since_last_don": 5,
          "total_blood": 1750,
          "total_dons": 7
         },
         {
          "Class": 1,
          "since_first_don": 19,
          "since_last_don": 2,
          "total_blood": 750,
          "total_dons": 3
         },
         {
          "Class": 2,
          "since_first_don": 16,
          "since_last_don": 11,
          "total_blood": 1000,
          "total_dons": 4
         },
         {
          "Class": 2,
          "since_first_don": 76,
          "since_last_don": 0,
          "total_blood": 6500,
          "total_dons": 26
         },
         {
          "Class": 1,
          "since_first_don": 50,
          "since_last_don": 3,
          "total_blood": 2000,
          "total_dons": 8
         },
         {
          "Class": 2,
          "since_first_don": 3,
          "since_last_don": 3,
          "total_blood": 250,
          "total_dons": 1
         },
         {
          "Class": 1,
          "since_first_don": 52,
          "since_last_don": 21,
          "total_blood": 500,
          "total_dons": 2
         },
         {
          "Class": 2,
          "since_first_don": 22,
          "since_last_don": 4,
          "total_blood": 1750,
          "total_dons": 7
         },
         {
          "Class": 1,
          "since_first_don": 30,
          "since_last_don": 14,
          "total_blood": 1000,
          "total_dons": 4
         },
         {
          "Class": 2,
          "since_first_don": 35,
          "since_last_don": 1,
          "total_blood": 4000,
          "total_dons": 16
         },
         {
          "Class": 1,
          "since_first_don": 38,
          "since_last_don": 21,
          "total_blood": 750,
          "total_dons": 3
         },
         {
          "Class": 1,
          "since_first_don": 25,
          "since_last_don": 4,
          "total_blood": 1750,
          "total_dons": 7
         },
         {
          "Class": 1,
          "since_first_don": 27,
          "since_last_don": 11,
          "total_blood": 1500,
          "total_dons": 6
         },
         {
          "Class": 1,
          "since_first_don": 4,
          "since_last_don": 4,
          "total_blood": 250,
          "total_dons": 1
         },
         {
          "Class": 1,
          "since_first_don": 23,
          "since_last_don": 21,
          "total_blood": 500,
          "total_dons": 2
         },
         {
          "Class": 2,
          "since_first_don": 16,
          "since_last_don": 11,
          "total_blood": 750,
          "total_dons": 3
         },
         {
          "Class": 1,
          "since_first_don": 34,
          "since_last_don": 9,
          "total_blood": 750,
          "total_dons": 3
         },
         {
          "Class": 1,
          "since_first_don": 16,
          "since_last_don": 16,
          "total_blood": 250,
          "total_dons": 1
         },
         {
          "Class": 1,
          "since_first_don": 46,
          "since_last_don": 4,
          "total_blood": 2250,
          "total_dons": 9
         },
         {
          "Class": 2,
          "since_first_don": 4,
          "since_last_don": 4,
          "total_blood": 250,
          "total_dons": 1
         },
         {
          "Class": 1,
          "since_first_don": 95,
          "since_last_don": 1,
          "total_blood": 3500,
          "total_dons": 14
         },
         {
          "Class": 1,
          "since_first_don": 4,
          "since_last_don": 2,
          "total_blood": 500,
          "total_dons": 2
         },
         {
          "Class": 1,
          "since_first_don": 2,
          "since_last_don": 2,
          "total_blood": 500,
          "total_dons": 2
         },
         {
          "Class": 1,
          "since_first_don": 27,
          "since_last_don": 11,
          "total_blood": 1000,
          "total_dons": 4
         },
         {
          "Class": 2,
          "since_first_don": 40,
          "since_last_don": 4,
          "total_blood": 2000,
          "total_dons": 8
         },
         {
          "Class": 1,
          "since_first_don": 86,
          "since_last_don": 3,
          "total_blood": 4250,
          "total_dons": 17
         },
         {
          "Class": 1,
          "since_first_don": 4,
          "since_last_don": 4,
          "total_blood": 250,
          "total_dons": 1
         },
         {
          "Class": 1,
          "since_first_don": 45,
          "since_last_don": 2,
          "total_blood": 1500,
          "total_dons": 6
         },
         {
          "Class": 2,
          "since_first_don": 33,
          "since_last_don": 2,
          "total_blood": 1250,
          "total_dons": 5
         },
         {
          "Class": 1,
          "since_first_don": 59,
          "since_last_don": 0,
          "total_blood": 2000,
          "total_dons": 8
         },
         {
          "Class": 1,
          "since_first_don": 38,
          "since_last_don": 3,
          "total_blood": 1250,
          "total_dons": 5
         },
         {
          "Class": 2,
          "since_first_don": 49,
          "since_last_don": 2,
          "total_blood": 3750,
          "total_dons": 15
         },
         {
          "Class": 1,
          "since_first_don": 86,
          "since_last_don": 16,
          "total_blood": 750,
          "total_dons": 3
         },
         {
          "Class": 2,
          "since_first_don": 14,
          "since_last_don": 4,
          "total_blood": 1000,
          "total_dons": 4
         },
         {
          "Class": 1,
          "since_first_don": 34,
          "since_last_don": 11,
          "total_blood": 1000,
          "total_dons": 4
         },
         {
          "Class": 1,
          "since_first_don": 14,
          "since_last_don": 14,
          "total_blood": 250,
          "total_dons": 1
         },
         {
          "Class": 2,
          "since_first_don": 21,
          "since_last_don": 14,
          "total_blood": 500,
          "total_dons": 2
         },
         {
          "Class": 2,
          "since_first_don": 4,
          "since_last_don": 4,
          "total_blood": 1000,
          "total_dons": 4
         }
        ]
       },
       "encoding": {
        "color": {
         "field": "Class",
         "scale": {
          "scheme": "goldorange"
         },
         "type": "quantitative"
        },
        "x": {
         "field": "total_blood",
         "type": "quantitative"
        },
        "y": {
         "aggregate": "count",
         "stack": null,
         "type": "quantitative"
        }
       },
       "mark": {
        "opacity": 0.7,
        "type": "bar"
       },
       "title": "Donor Monetary Distribution"
      },
      "image/png": "[encoded data removed]",
      "text/plain": [
       "<VegaLite 3 object>\n",
       "\n",
       "If you see this message, it means the renderer has not been properly enabled\n",
       "for the frontend that you are using. For more information, see\n",
       "https://altair-viz.github.io/user_guide/troubleshooting.html\n"
      ]
     },
     "execution_count": 27,
     "metadata": {},
     "output_type": "execute_result"
    }
   ],
   "source": [
    "alt.Chart(blood_df_train).mark_bar(opacity = 0.7).encode(\n",
    "    alt.X(\"total_blood\"),\n",
    "    alt.Y('count()', stack=None),\n",
    "    color=alt.Color('Class', scale=alt.Scale(scheme='goldorange'))\n",
    ").properties(title = \"Donor Monetary Distribution\")"
   ]
  },
  {
   "cell_type": "code",
   "execution_count": 28,
   "metadata": {},
   "outputs": [
    {
     "data": {
      "application/vnd.vegalite.v3+json": {
       "$schema": "https://vega.github.io/schema/vega-lite/v3.4.0.json",
       "config": {
        "mark": {
         "tooltip": null
        },
        "view": {
         "height": 300,
         "width": 400
        }
       },
       "data": {
        "name": "data-9f8fa43238d447b8286cb04f7cfdb9c3"
       },
       "datasets": {
        "data-9f8fa43238d447b8286cb04f7cfdb9c3": [
         {
          "Class": 1,
          "since_first_don": 58,
          "since_last_don": 8,
          "total_blood": 2250,
          "total_dons": 9
         },
         {
          "Class": 1,
          "since_first_don": 21,
          "since_last_don": 13,
          "total_blood": 1000,
          "total_dons": 4
         },
         {
          "Class": 1,
          "since_first_don": 39,
          "since_last_don": 4,
          "total_blood": 1500,
          "total_dons": 6
         },
         {
          "Class": 1,
          "since_first_don": 46,
          "since_last_don": 4,
          "total_blood": 1250,
          "total_dons": 5
         },
         {
          "Class": 1,
          "since_first_don": 21,
          "since_last_don": 3,
          "total_blood": 1500,
          "total_dons": 6
         },
         {
          "Class": 1,
          "since_first_don": 9,
          "since_last_don": 9,
          "total_blood": 250,
          "total_dons": 1
         },
         {
          "Class": 1,
          "since_first_don": 14,
          "since_last_don": 14,
          "total_blood": 500,
          "total_dons": 2
         },
         {
          "Class": 1,
          "since_first_don": 77,
          "since_last_don": 2,
          "total_blood": 1750,
          "total_dons": 7
         },
         {
          "Class": 1,
          "since_first_don": 41,
          "since_last_don": 2,
          "total_blood": 500,
          "total_dons": 2
         },
         {
          "Class": 1,
          "since_first_don": 52,
          "since_last_don": 9,
          "total_blood": 500,
          "total_dons": 2
         },
         {
          "Class": 1,
          "since_first_don": 23,
          "since_last_don": 23,
          "total_blood": 250,
          "total_dons": 1
         },
         {
          "Class": 1,
          "since_first_don": 58,
          "since_last_don": 16,
          "total_blood": 1000,
          "total_dons": 4
         },
         {
          "Class": 1,
          "since_first_don": 26,
          "since_last_don": 2,
          "total_blood": 1000,
          "total_dons": 4
         },
         {
          "Class": 2,
          "since_first_don": 4,
          "since_last_don": 4,
          "total_blood": 500,
          "total_dons": 2
         },
         {
          "Class": 1,
          "since_first_don": 35,
          "since_last_don": 23,
          "total_blood": 750,
          "total_dons": 3
         },
         {
          "Class": 2,
          "since_first_don": 2,
          "since_last_don": 2,
          "total_blood": 250,
          "total_dons": 1
         },
         {
          "Class": 1,
          "since_first_don": 65,
          "since_last_don": 9,
          "total_blood": 1000,
          "total_dons": 4
         },
         {
          "Class": 2,
          "since_first_don": 19,
          "since_last_don": 14,
          "total_blood": 750,
          "total_dons": 3
         },
         {
          "Class": 1,
          "since_first_don": 58,
          "since_last_don": 4,
          "total_blood": 1750,
          "total_dons": 7
         },
         {
          "Class": 1,
          "since_first_don": 64,
          "since_last_don": 2,
          "total_blood": 4000,
          "total_dons": 16
         },
         {
          "Class": 1,
          "since_first_don": 4,
          "since_last_don": 4,
          "total_blood": 250,
          "total_dons": 1
         },
         {
          "Class": 1,
          "since_first_don": 40,
          "since_last_don": 40,
          "total_blood": 250,
          "total_dons": 1
         },
         {
          "Class": 1,
          "since_first_don": 14,
          "since_last_don": 14,
          "total_blood": 500,
          "total_dons": 2
         },
         {
          "Class": 1,
          "since_first_don": 89,
          "since_last_don": 16,
          "total_blood": 2500,
          "total_dons": 10
         },
         {
          "Class": 1,
          "since_first_don": 70,
          "since_last_don": 23,
          "total_blood": 1500,
          "total_dons": 6
         },
         {
          "Class": 1,
          "since_first_don": 62,
          "since_last_don": 4,
          "total_blood": 1750,
          "total_dons": 7
         },
         {
          "Class": 1,
          "since_first_don": 52,
          "since_last_don": 4,
          "total_blood": 1500,
          "total_dons": 6
         },
         {
          "Class": 2,
          "since_first_don": 28,
          "since_last_don": 4,
          "total_blood": 2500,
          "total_dons": 10
         },
         {
          "Class": 1,
          "since_first_don": 74,
          "since_last_don": 11,
          "total_blood": 1000,
          "total_dons": 4
         },
         {
          "Class": 1,
          "since_first_don": 14,
          "since_last_don": 4,
          "total_blood": 500,
          "total_dons": 2
         },
         {
          "Class": 2,
          "since_first_don": 21,
          "since_last_don": 21,
          "total_blood": 500,
          "total_dons": 2
         },
         {
          "Class": 1,
          "since_first_don": 81,
          "since_last_don": 16,
          "total_blood": 1500,
          "total_dons": 6
         },
         {
          "Class": 1,
          "since_first_don": 28,
          "since_last_don": 11,
          "total_blood": 1000,
          "total_dons": 4
         },
         {
          "Class": 2,
          "since_first_don": 98,
          "since_last_don": 4,
          "total_blood": 8250,
          "total_dons": 33
         },
         {
          "Class": 1,
          "since_first_don": 72,
          "since_last_don": 72,
          "total_blood": 250,
          "total_dons": 1
         },
         {
          "Class": 2,
          "since_first_don": 32,
          "since_last_don": 2,
          "total_blood": 1750,
          "total_dons": 7
         },
         {
          "Class": 1,
          "since_first_don": 19,
          "since_last_don": 16,
          "total_blood": 750,
          "total_dons": 3
         },
         {
          "Class": 1,
          "since_first_don": 15,
          "since_last_don": 11,
          "total_blood": 750,
          "total_dons": 3
         },
         {
          "Class": 2,
          "since_first_don": 16,
          "since_last_don": 2,
          "total_blood": 750,
          "total_dons": 3
         },
         {
          "Class": 1,
          "since_first_don": 4,
          "since_last_don": 4,
          "total_blood": 250,
          "total_dons": 1
         },
         {
          "Class": 1,
          "since_first_don": 26,
          "since_last_don": 2,
          "total_blood": 1000,
          "total_dons": 4
         },
         {
          "Class": 1,
          "since_first_don": 4,
          "since_last_don": 4,
          "total_blood": 250,
          "total_dons": 1
         },
         {
          "Class": 2,
          "since_first_don": 86,
          "since_last_don": 2,
          "total_blood": 10750,
          "total_dons": 43
         },
         {
          "Class": 2,
          "since_first_don": 64,
          "since_last_don": 4,
          "total_blood": 2750,
          "total_dons": 11
         },
         {
          "Class": 2,
          "since_first_don": 23,
          "since_last_don": 4,
          "total_blood": 1500,
          "total_dons": 6
         },
         {
          "Class": 1,
          "since_first_don": 24,
          "since_last_don": 2,
          "total_blood": 750,
          "total_dons": 3
         },
         {
          "Class": 1,
          "since_first_don": 59,
          "since_last_don": 12,
          "total_blood": 3250,
          "total_dons": 13
         },
         {
          "Class": 1,
          "since_first_don": 71,
          "since_last_don": 12,
          "total_blood": 3750,
          "total_dons": 15
         },
         {
          "Class": 1,
          "since_first_don": 58,
          "since_last_don": 11,
          "total_blood": 3000,
          "total_dons": 12
         },
         {
          "Class": 1,
          "since_first_don": 11,
          "since_last_don": 2,
          "total_blood": 1000,
          "total_dons": 4
         },
         {
          "Class": 1,
          "since_first_don": 2,
          "since_last_don": 2,
          "total_blood": 250,
          "total_dons": 1
         },
         {
          "Class": 1,
          "since_first_don": 21,
          "since_last_don": 21,
          "total_blood": 500,
          "total_dons": 2
         },
         {
          "Class": 1,
          "since_first_don": 35,
          "since_last_don": 2,
          "total_blood": 1000,
          "total_dons": 4
         },
         {
          "Class": 2,
          "since_first_don": 25,
          "since_last_don": 4,
          "total_blood": 750,
          "total_dons": 3
         },
         {
          "Class": 1,
          "since_first_don": 16,
          "since_last_don": 10,
          "total_blood": 1000,
          "total_dons": 4
         },
         {
          "Class": 1,
          "since_first_don": 21,
          "since_last_don": 21,
          "total_blood": 250,
          "total_dons": 1
         },
         {
          "Class": 2,
          "since_first_don": 4,
          "since_last_don": 4,
          "total_blood": 500,
          "total_dons": 2
         },
         {
          "Class": 2,
          "since_first_don": 41,
          "since_last_don": 2,
          "total_blood": 1500,
          "total_dons": 6
         },
         {
          "Class": 2,
          "since_first_don": 53,
          "since_last_don": 2,
          "total_blood": 3250,
          "total_dons": 13
         },
         {
          "Class": 1,
          "since_first_don": 40,
          "since_last_don": 4,
          "total_blood": 2250,
          "total_dons": 9
         },
         {
          "Class": 2,
          "since_first_don": 23,
          "since_last_don": 23,
          "total_blood": 250,
          "total_dons": 1
         },
         {
          "Class": 1,
          "since_first_don": 64,
          "since_last_don": 2,
          "total_blood": 3750,
          "total_dons": 15
         },
         {
          "Class": 1,
          "since_first_don": 21,
          "since_last_don": 2,
          "total_blood": 750,
          "total_dons": 3
         },
         {
          "Class": 1,
          "since_first_don": 23,
          "since_last_don": 23,
          "total_blood": 500,
          "total_dons": 2
         },
         {
          "Class": 1,
          "since_first_don": 4,
          "since_last_don": 4,
          "total_blood": 250,
          "total_dons": 1
         },
         {
          "Class": 2,
          "since_first_don": 14,
          "since_last_don": 2,
          "total_blood": 1000,
          "total_dons": 4
         },
         {
          "Class": 1,
          "since_first_don": 11,
          "since_last_don": 2,
          "total_blood": 500,
          "total_dons": 2
         },
         {
          "Class": 1,
          "since_first_don": 28,
          "since_last_don": 11,
          "total_blood": 1500,
          "total_dons": 6
         },
         {
          "Class": 1,
          "since_first_don": 87,
          "since_last_don": 23,
          "total_blood": 1000,
          "total_dons": 4
         },
         {
          "Class": 2,
          "since_first_don": 28,
          "since_last_don": 2,
          "total_blood": 1500,
          "total_dons": 6
         },
         {
          "Class": 2,
          "since_first_don": 49,
          "since_last_don": 9,
          "total_blood": 2750,
          "total_dons": 11
         },
         {
          "Class": 1,
          "since_first_don": 33,
          "since_last_don": 23,
          "total_blood": 750,
          "total_dons": 3
         },
         {
          "Class": 1,
          "since_first_don": 2,
          "since_last_don": 2,
          "total_blood": 250,
          "total_dons": 1
         },
         {
          "Class": 2,
          "since_first_don": 4,
          "since_last_don": 2,
          "total_blood": 500,
          "total_dons": 2
         },
         {
          "Class": 1,
          "since_first_don": 70,
          "since_last_don": 14,
          "total_blood": 4000,
          "total_dons": 16
         },
         {
          "Class": 2,
          "since_first_don": 52,
          "since_last_don": 8,
          "total_blood": 2000,
          "total_dons": 8
         },
         {
          "Class": 2,
          "since_first_don": 34,
          "since_last_don": 4,
          "total_blood": 2000,
          "total_dons": 8
         },
         {
          "Class": 1,
          "since_first_don": 35,
          "since_last_don": 7,
          "total_blood": 1250,
          "total_dons": 5
         },
         {
          "Class": 1,
          "since_first_don": 58,
          "since_last_don": 4,
          "total_blood": 1250,
          "total_dons": 5
         },
         {
          "Class": 1,
          "since_first_don": 11,
          "since_last_don": 11,
          "total_blood": 250,
          "total_dons": 1
         },
         {
          "Class": 2,
          "since_first_don": 76,
          "since_last_don": 2,
          "total_blood": 3250,
          "total_dons": 13
         },
         {
          "Class": 1,
          "since_first_don": 52,
          "since_last_don": 4,
          "total_blood": 1750,
          "total_dons": 7
         },
         {
          "Class": 1,
          "since_first_don": 50,
          "since_last_don": 14,
          "total_blood": 1250,
          "total_dons": 5
         },
         {
          "Class": 1,
          "since_first_don": 50,
          "since_last_don": 14,
          "total_blood": 2000,
          "total_dons": 8
         },
         {
          "Class": 1,
          "since_first_don": 59,
          "since_last_don": 4,
          "total_blood": 500,
          "total_dons": 2
         },
         {
          "Class": 1,
          "since_first_don": 28,
          "since_last_don": 11,
          "total_blood": 750,
          "total_dons": 3
         },
         {
          "Class": 1,
          "since_first_don": 23,
          "since_last_don": 23,
          "total_blood": 250,
          "total_dons": 1
         },
         {
          "Class": 1,
          "since_first_don": 58,
          "since_last_don": 23,
          "total_blood": 1250,
          "total_dons": 5
         },
         {
          "Class": 2,
          "since_first_don": 26,
          "since_last_don": 4,
          "total_blood": 1250,
          "total_dons": 5
         },
         {
          "Class": 2,
          "since_first_don": 98,
          "since_last_don": 2,
          "total_blood": 10250,
          "total_dons": 41
         },
         {
          "Class": 1,
          "since_first_don": 58,
          "since_last_don": 4,
          "total_blood": 1250,
          "total_dons": 5
         },
         {
          "Class": 1,
          "since_first_don": 14,
          "since_last_don": 14,
          "total_blood": 500,
          "total_dons": 2
         },
         {
          "Class": 2,
          "since_first_don": 16,
          "since_last_don": 2,
          "total_blood": 1500,
          "total_dons": 6
         },
         {
          "Class": 1,
          "since_first_don": 76,
          "since_last_don": 11,
          "total_blood": 750,
          "total_dons": 3
         },
         {
          "Class": 2,
          "since_first_don": 16,
          "since_last_don": 4,
          "total_blood": 750,
          "total_dons": 3
         },
         {
          "Class": 1,
          "since_first_don": 70,
          "since_last_don": 11,
          "total_blood": 500,
          "total_dons": 2
         },
         {
          "Class": 1,
          "since_first_don": 11,
          "since_last_don": 11,
          "total_blood": 500,
          "total_dons": 2
         },
         {
          "Class": 2,
          "since_first_don": 38,
          "since_last_don": 4,
          "total_blood": 4000,
          "total_dons": 16
         },
         {
          "Class": 1,
          "since_first_don": 11,
          "since_last_don": 11,
          "total_blood": 500,
          "total_dons": 2
         },
         {
          "Class": 1,
          "since_first_don": 29,
          "since_last_don": 14,
          "total_blood": 500,
          "total_dons": 2
         },
         {
          "Class": 1,
          "since_first_don": 23,
          "since_last_don": 3,
          "total_blood": 500,
          "total_dons": 2
         },
         {
          "Class": 1,
          "since_first_don": 52,
          "since_last_don": 4,
          "total_blood": 500,
          "total_dons": 2
         },
         {
          "Class": 1,
          "since_first_don": 16,
          "since_last_don": 4,
          "total_blood": 750,
          "total_dons": 3
         },
         {
          "Class": 1,
          "since_first_don": 71,
          "since_last_don": 4,
          "total_blood": 750,
          "total_dons": 3
         },
         {
          "Class": 1,
          "since_first_don": 35,
          "since_last_don": 14,
          "total_blood": 750,
          "total_dons": 3
         },
         {
          "Class": 2,
          "since_first_don": 35,
          "since_last_don": 16,
          "total_blood": 1500,
          "total_dons": 6
         },
         {
          "Class": 1,
          "since_first_don": 35,
          "since_last_don": 14,
          "total_blood": 1750,
          "total_dons": 7
         },
         {
          "Class": 2,
          "since_first_don": 28,
          "since_last_don": 4,
          "total_blood": 2250,
          "total_dons": 9
         },
         {
          "Class": 1,
          "since_first_don": 16,
          "since_last_don": 16,
          "total_blood": 250,
          "total_dons": 1
         },
         {
          "Class": 1,
          "since_first_don": 23,
          "since_last_don": 23,
          "total_blood": 250,
          "total_dons": 1
         },
         {
          "Class": 1,
          "since_first_don": 52,
          "since_last_don": 2,
          "total_blood": 2500,
          "total_dons": 10
         },
         {
          "Class": 1,
          "since_first_don": 31,
          "since_last_don": 4,
          "total_blood": 500,
          "total_dons": 2
         },
         {
          "Class": 1,
          "since_first_don": 14,
          "since_last_don": 4,
          "total_blood": 1500,
          "total_dons": 6
         },
         {
          "Class": 2,
          "since_first_don": 16,
          "since_last_don": 4,
          "total_blood": 1250,
          "total_dons": 5
         },
         {
          "Class": 2,
          "since_first_don": 35,
          "since_last_don": 4,
          "total_blood": 1500,
          "total_dons": 6
         },
         {
          "Class": 1,
          "since_first_don": 21,
          "since_last_don": 21,
          "total_blood": 250,
          "total_dons": 1
         },
         {
          "Class": 2,
          "since_first_don": 26,
          "since_last_don": 4,
          "total_blood": 2250,
          "total_dons": 9
         },
         {
          "Class": 1,
          "since_first_don": 76,
          "since_last_don": 16,
          "total_blood": 2000,
          "total_dons": 8
         },
         {
          "Class": 1,
          "since_first_don": 38,
          "since_last_don": 11,
          "total_blood": 1250,
          "total_dons": 5
         },
         {
          "Class": 1,
          "since_first_don": 57,
          "since_last_don": 1,
          "total_blood": 1750,
          "total_dons": 7
         },
         {
          "Class": 2,
          "since_first_don": 11,
          "since_last_don": 2,
          "total_blood": 1250,
          "total_dons": 5
         },
         {
          "Class": 1,
          "since_first_don": 35,
          "since_last_don": 16,
          "total_blood": 1500,
          "total_dons": 6
         },
         {
          "Class": 2,
          "since_first_don": 16,
          "since_last_don": 2,
          "total_blood": 1250,
          "total_dons": 5
         },
         {
          "Class": 1,
          "since_first_don": 11,
          "since_last_don": 11,
          "total_blood": 250,
          "total_dons": 1
         },
         {
          "Class": 1,
          "since_first_don": 2,
          "since_last_don": 2,
          "total_blood": 250,
          "total_dons": 1
         },
         {
          "Class": 1,
          "since_first_don": 48,
          "since_last_don": 11,
          "total_blood": 2000,
          "total_dons": 8
         },
         {
          "Class": 1,
          "since_first_don": 41,
          "since_last_don": 11,
          "total_blood": 1500,
          "total_dons": 6
         },
         {
          "Class": 1,
          "since_first_don": 48,
          "since_last_don": 7,
          "total_blood": 3500,
          "total_dons": 14
         },
         {
          "Class": 1,
          "since_first_don": 4,
          "since_last_don": 4,
          "total_blood": 500,
          "total_dons": 2
         },
         {
          "Class": 1,
          "since_first_don": 98,
          "since_last_don": 14,
          "total_blood": 4000,
          "total_dons": 16
         },
         {
          "Class": 1,
          "since_first_don": 52,
          "since_last_don": 14,
          "total_blood": 750,
          "total_dons": 3
         },
         {
          "Class": 1,
          "since_first_don": 17,
          "since_last_don": 11,
          "total_blood": 500,
          "total_dons": 2
         },
         {
          "Class": 2,
          "since_first_don": 2,
          "since_last_don": 2,
          "total_blood": 250,
          "total_dons": 1
         },
         {
          "Class": 2,
          "since_first_don": 46,
          "since_last_don": 2,
          "total_blood": 1750,
          "total_dons": 7
         },
         {
          "Class": 1,
          "since_first_don": 23,
          "since_last_don": 23,
          "total_blood": 250,
          "total_dons": 1
         },
         {
          "Class": 1,
          "since_first_don": 23,
          "since_last_don": 23,
          "total_blood": 250,
          "total_dons": 1
         },
         {
          "Class": 2,
          "since_first_don": 32,
          "since_last_don": 2,
          "total_blood": 3250,
          "total_dons": 13
         },
         {
          "Class": 1,
          "since_first_don": 89,
          "since_last_don": 7,
          "total_blood": 2750,
          "total_dons": 11
         },
         {
          "Class": 2,
          "since_first_don": 15,
          "since_last_don": 2,
          "total_blood": 1500,
          "total_dons": 6
         },
         {
          "Class": 2,
          "since_first_don": 16,
          "since_last_don": 2,
          "total_blood": 1500,
          "total_dons": 6
         },
         {
          "Class": 1,
          "since_first_don": 57,
          "since_last_don": 14,
          "total_blood": 3250,
          "total_dons": 13
         },
         {
          "Class": 1,
          "since_first_don": 58,
          "since_last_don": 1,
          "total_blood": 3500,
          "total_dons": 14
         },
         {
          "Class": 1,
          "since_first_don": 46,
          "since_last_don": 14,
          "total_blood": 2000,
          "total_dons": 8
         },
         {
          "Class": 2,
          "since_first_don": 98,
          "since_last_don": 2,
          "total_blood": 12500,
          "total_dons": 50
         },
         {
          "Class": 2,
          "since_first_don": 71,
          "since_last_don": 4,
          "total_blood": 4250,
          "total_dons": 17
         },
         {
          "Class": 1,
          "since_first_don": 33,
          "since_last_don": 14,
          "total_blood": 750,
          "total_dons": 3
         },
         {
          "Class": 1,
          "since_first_don": 64,
          "since_last_don": 16,
          "total_blood": 1750,
          "total_dons": 7
         },
         {
          "Class": 2,
          "since_first_don": 34,
          "since_last_don": 4,
          "total_blood": 1000,
          "total_dons": 4
         },
         {
          "Class": 1,
          "since_first_don": 26,
          "since_last_don": 21,
          "total_blood": 750,
          "total_dons": 3
         },
         {
          "Class": 1,
          "since_first_don": 64,
          "since_last_don": 11,
          "total_blood": 6000,
          "total_dons": 24
         },
         {
          "Class": 1,
          "since_first_don": 26,
          "since_last_don": 14,
          "total_blood": 2000,
          "total_dons": 8
         },
         {
          "Class": 2,
          "since_first_don": 41,
          "since_last_don": 2,
          "total_blood": 2750,
          "total_dons": 11
         },
         {
          "Class": 2,
          "since_first_don": 72,
          "since_last_don": 11,
          "total_blood": 2250,
          "total_dons": 9
         },
         {
          "Class": 1,
          "since_first_don": 21,
          "since_last_don": 21,
          "total_blood": 250,
          "total_dons": 1
         },
         {
          "Class": 1,
          "since_first_don": 16,
          "since_last_don": 9,
          "total_blood": 2250,
          "total_dons": 9
         },
         {
          "Class": 1,
          "since_first_don": 23,
          "since_last_don": 23,
          "total_blood": 250,
          "total_dons": 1
         },
         {
          "Class": 1,
          "since_first_don": 45,
          "since_last_don": 9,
          "total_blood": 2250,
          "total_dons": 9
         },
         {
          "Class": 1,
          "since_first_don": 26,
          "since_last_don": 11,
          "total_blood": 1500,
          "total_dons": 6
         },
         {
          "Class": 2,
          "since_first_don": 11,
          "since_last_don": 11,
          "total_blood": 250,
          "total_dons": 1
         },
         {
          "Class": 1,
          "since_first_don": 26,
          "since_last_don": 14,
          "total_blood": 1000,
          "total_dons": 4
         },
         {
          "Class": 1,
          "since_first_don": 11,
          "since_last_don": 2,
          "total_blood": 500,
          "total_dons": 2
         },
         {
          "Class": 1,
          "since_first_don": 14,
          "since_last_don": 14,
          "total_blood": 250,
          "total_dons": 1
         },
         {
          "Class": 1,
          "since_first_don": 16,
          "since_last_don": 11,
          "total_blood": 500,
          "total_dons": 2
         },
         {
          "Class": 1,
          "since_first_don": 16,
          "since_last_don": 16,
          "total_blood": 250,
          "total_dons": 1
         },
         {
          "Class": 1,
          "since_first_don": 40,
          "since_last_don": 21,
          "total_blood": 750,
          "total_dons": 3
         },
         {
          "Class": 1,
          "since_first_don": 58,
          "since_last_don": 4,
          "total_blood": 1250,
          "total_dons": 5
         },
         {
          "Class": 1,
          "since_first_don": 4,
          "since_last_don": 4,
          "total_blood": 250,
          "total_dons": 1
         },
         {
          "Class": 1,
          "since_first_don": 82,
          "since_last_don": 15,
          "total_blood": 4000,
          "total_dons": 16
         },
         {
          "Class": 1,
          "since_first_don": 14,
          "since_last_don": 14,
          "total_blood": 1250,
          "total_dons": 5
         },
         {
          "Class": 1,
          "since_first_don": 23,
          "since_last_don": 16,
          "total_blood": 1000,
          "total_dons": 4
         },
         {
          "Class": 1,
          "since_first_don": 70,
          "since_last_don": 2,
          "total_blood": 1000,
          "total_dons": 4
         },
         {
          "Class": 1,
          "since_first_don": 86,
          "since_last_don": 23,
          "total_blood": 3000,
          "total_dons": 12
         },
         {
          "Class": 1,
          "since_first_don": 14,
          "since_last_don": 14,
          "total_blood": 250,
          "total_dons": 1
         },
         {
          "Class": 1,
          "since_first_don": 26,
          "since_last_don": 14,
          "total_blood": 1250,
          "total_dons": 5
         },
         {
          "Class": 1,
          "since_first_don": 27,
          "since_last_don": 16,
          "total_blood": 1250,
          "total_dons": 5
         },
         {
          "Class": 2,
          "since_first_don": 11,
          "since_last_don": 2,
          "total_blood": 500,
          "total_dons": 2
         },
         {
          "Class": 1,
          "since_first_don": 9,
          "since_last_don": 4,
          "total_blood": 500,
          "total_dons": 2
         },
         {
          "Class": 1,
          "since_first_don": 39,
          "since_last_don": 16,
          "total_blood": 1750,
          "total_dons": 7
         },
         {
          "Class": 1,
          "since_first_don": 70,
          "since_last_don": 6,
          "total_blood": 4250,
          "total_dons": 17
         },
         {
          "Class": 1,
          "since_first_don": 93,
          "since_last_don": 16,
          "total_blood": 1750,
          "total_dons": 7
         },
         {
          "Class": 1,
          "since_first_don": 82,
          "since_last_don": 2,
          "total_blood": 3000,
          "total_dons": 12
         },
         {
          "Class": 1,
          "since_first_don": 26,
          "since_last_don": 14,
          "total_blood": 1750,
          "total_dons": 7
         },
         {
          "Class": 1,
          "since_first_don": 11,
          "since_last_don": 11,
          "total_blood": 250,
          "total_dons": 1
         },
         {
          "Class": 1,
          "since_first_don": 57,
          "since_last_don": 21,
          "total_blood": 3250,
          "total_dons": 13
         },
         {
          "Class": 1,
          "since_first_don": 2,
          "since_last_don": 2,
          "total_blood": 500,
          "total_dons": 2
         },
         {
          "Class": 2,
          "since_first_don": 79,
          "since_last_don": 11,
          "total_blood": 4250,
          "total_dons": 17
         },
         {
          "Class": 1,
          "since_first_don": 14,
          "since_last_don": 14,
          "total_blood": 500,
          "total_dons": 2
         },
         {
          "Class": 1,
          "since_first_don": 74,
          "since_last_don": 74,
          "total_blood": 250,
          "total_dons": 1
         },
         {
          "Class": 1,
          "since_first_don": 22,
          "since_last_don": 2,
          "total_blood": 750,
          "total_dons": 3
         },
         {
          "Class": 1,
          "since_first_don": 58,
          "since_last_don": 4,
          "total_blood": 1750,
          "total_dons": 7
         },
         {
          "Class": 1,
          "since_first_don": 2,
          "since_last_don": 2,
          "total_blood": 250,
          "total_dons": 1
         },
         {
          "Class": 2,
          "since_first_don": 4,
          "since_last_don": 4,
          "total_blood": 250,
          "total_dons": 1
         },
         {
          "Class": 2,
          "since_first_don": 12,
          "since_last_don": 3,
          "total_blood": 1250,
          "total_dons": 5
         },
         {
          "Class": 1,
          "since_first_don": 2,
          "since_last_don": 2,
          "total_blood": 250,
          "total_dons": 1
         },
         {
          "Class": 1,
          "since_first_don": 89,
          "since_last_don": 11,
          "total_blood": 4000,
          "total_dons": 16
         },
         {
          "Class": 1,
          "since_first_don": 33,
          "since_last_don": 15,
          "total_blood": 1250,
          "total_dons": 5
         },
         {
          "Class": 1,
          "since_first_don": 14,
          "since_last_don": 14,
          "total_blood": 500,
          "total_dons": 2
         },
         {
          "Class": 1,
          "since_first_don": 95,
          "since_last_don": 4,
          "total_blood": 2750,
          "total_dons": 11
         },
         {
          "Class": 1,
          "since_first_don": 30,
          "since_last_don": 4,
          "total_blood": 500,
          "total_dons": 2
         },
         {
          "Class": 1,
          "since_first_don": 14,
          "since_last_don": 14,
          "total_blood": 500,
          "total_dons": 2
         },
         {
          "Class": 2,
          "since_first_don": 28,
          "since_last_don": 4,
          "total_blood": 2500,
          "total_dons": 10
         },
         {
          "Class": 1,
          "since_first_don": 83,
          "since_last_don": 16,
          "total_blood": 3500,
          "total_dons": 14
         },
         {
          "Class": 1,
          "since_first_don": 38,
          "since_last_don": 11,
          "total_blood": 2250,
          "total_dons": 9
         },
         {
          "Class": 1,
          "since_first_don": 34,
          "since_last_don": 2,
          "total_blood": 1250,
          "total_dons": 5
         },
         {
          "Class": 1,
          "since_first_don": 35,
          "since_last_don": 11,
          "total_blood": 2500,
          "total_dons": 10
         },
         {
          "Class": 1,
          "since_first_don": 33,
          "since_last_don": 21,
          "total_blood": 500,
          "total_dons": 2
         },
         {
          "Class": 1,
          "since_first_don": 14,
          "since_last_don": 14,
          "total_blood": 250,
          "total_dons": 1
         },
         {
          "Class": 1,
          "since_first_don": 63,
          "since_last_don": 8,
          "total_blood": 2500,
          "total_dons": 10
         },
         {
          "Class": 2,
          "since_first_don": 23,
          "since_last_don": 4,
          "total_blood": 1250,
          "total_dons": 5
         },
         {
          "Class": 1,
          "since_first_don": 28,
          "since_last_don": 4,
          "total_blood": 1750,
          "total_dons": 7
         },
         {
          "Class": 1,
          "since_first_don": 14,
          "since_last_don": 14,
          "total_blood": 250,
          "total_dons": 1
         },
         {
          "Class": 2,
          "since_first_don": 4,
          "since_last_don": 2,
          "total_blood": 750,
          "total_dons": 3
         },
         {
          "Class": 1,
          "since_first_don": 58,
          "since_last_don": 4,
          "total_blood": 1250,
          "total_dons": 5
         },
         {
          "Class": 2,
          "since_first_don": 4,
          "since_last_don": 4,
          "total_blood": 250,
          "total_dons": 1
         },
         {
          "Class": 2,
          "since_first_don": 11,
          "since_last_don": 4,
          "total_blood": 1250,
          "total_dons": 5
         },
         {
          "Class": 1,
          "since_first_don": 34,
          "since_last_don": 4,
          "total_blood": 750,
          "total_dons": 3
         },
         {
          "Class": 1,
          "since_first_don": 4,
          "since_last_don": 4,
          "total_blood": 250,
          "total_dons": 1
         },
         {
          "Class": 1,
          "since_first_don": 33,
          "since_last_don": 11,
          "total_blood": 1250,
          "total_dons": 5
         },
         {
          "Class": 2,
          "since_first_don": 40,
          "since_last_don": 11,
          "total_blood": 750,
          "total_dons": 3
         },
         {
          "Class": 1,
          "since_first_don": 28,
          "since_last_don": 16,
          "total_blood": 2000,
          "total_dons": 8
         },
         {
          "Class": 1,
          "since_first_don": 26,
          "since_last_don": 13,
          "total_blood": 2000,
          "total_dons": 8
         },
         {
          "Class": 1,
          "since_first_don": 21,
          "since_last_don": 21,
          "total_blood": 250,
          "total_dons": 1
         },
         {
          "Class": 1,
          "since_first_don": 86,
          "since_last_don": 4,
          "total_blood": 3500,
          "total_dons": 14
         },
         {
          "Class": 1,
          "since_first_don": 4,
          "since_last_don": 4,
          "total_blood": 250,
          "total_dons": 1
         },
         {
          "Class": 1,
          "since_first_don": 62,
          "since_last_don": 16,
          "total_blood": 2500,
          "total_dons": 10
         },
         {
          "Class": 2,
          "since_first_don": 35,
          "since_last_don": 2,
          "total_blood": 1750,
          "total_dons": 7
         },
         {
          "Class": 1,
          "since_first_don": 4,
          "since_last_don": 4,
          "total_blood": 250,
          "total_dons": 1
         },
         {
          "Class": 1,
          "since_first_don": 52,
          "since_last_don": 4,
          "total_blood": 1750,
          "total_dons": 7
         },
         {
          "Class": 2,
          "since_first_don": 28,
          "since_last_don": 6,
          "total_blood": 5500,
          "total_dons": 22
         },
         {
          "Class": 1,
          "since_first_don": 38,
          "since_last_don": 21,
          "total_blood": 1750,
          "total_dons": 7
         },
         {
          "Class": 1,
          "since_first_don": 75,
          "since_last_don": 5,
          "total_blood": 2750,
          "total_dons": 11
         },
         {
          "Class": 1,
          "since_first_don": 46,
          "since_last_don": 4,
          "total_blood": 1500,
          "total_dons": 6
         },
         {
          "Class": 1,
          "since_first_don": 38,
          "since_last_don": 10,
          "total_blood": 1250,
          "total_dons": 5
         },
         {
          "Class": 2,
          "since_first_don": 70,
          "since_last_don": 4,
          "total_blood": 4000,
          "total_dons": 16
         },
         {
          "Class": 2,
          "since_first_don": 34,
          "since_last_don": 4,
          "total_blood": 3000,
          "total_dons": 12
         },
         {
          "Class": 1,
          "since_first_don": 16,
          "since_last_don": 16,
          "total_blood": 250,
          "total_dons": 1
         },
         {
          "Class": 1,
          "since_first_don": 4,
          "since_last_don": 4,
          "total_blood": 250,
          "total_dons": 1
         },
         {
          "Class": 1,
          "since_first_don": 11,
          "since_last_don": 11,
          "total_blood": 500,
          "total_dons": 2
         },
         {
          "Class": 2,
          "since_first_don": 35,
          "since_last_don": 4,
          "total_blood": 1250,
          "total_dons": 5
         },
         {
          "Class": 1,
          "since_first_don": 2,
          "since_last_don": 2,
          "total_blood": 250,
          "total_dons": 1
         },
         {
          "Class": 1,
          "since_first_don": 16,
          "since_last_don": 16,
          "total_blood": 250,
          "total_dons": 1
         },
         {
          "Class": 1,
          "since_first_don": 16,
          "since_last_don": 2,
          "total_blood": 1000,
          "total_dons": 4
         },
         {
          "Class": 2,
          "since_first_don": 16,
          "since_last_don": 9,
          "total_blood": 500,
          "total_dons": 2
         },
         {
          "Class": 1,
          "since_first_don": 4,
          "since_last_don": 4,
          "total_blood": 250,
          "total_dons": 1
         },
         {
          "Class": 1,
          "since_first_don": 2,
          "since_last_don": 2,
          "total_blood": 250,
          "total_dons": 1
         },
         {
          "Class": 1,
          "since_first_don": 21,
          "since_last_don": 21,
          "total_blood": 250,
          "total_dons": 1
         },
         {
          "Class": 1,
          "since_first_don": 28,
          "since_last_don": 4,
          "total_blood": 2750,
          "total_dons": 11
         },
         {
          "Class": 1,
          "since_first_don": 21,
          "since_last_don": 21,
          "total_blood": 250,
          "total_dons": 1
         },
         {
          "Class": 1,
          "since_first_don": 35,
          "since_last_don": 4,
          "total_blood": 1500,
          "total_dons": 6
         },
         {
          "Class": 1,
          "since_first_don": 64,
          "since_last_don": 14,
          "total_blood": 1250,
          "total_dons": 5
         },
         {
          "Class": 1,
          "since_first_don": 21,
          "since_last_don": 21,
          "total_blood": 250,
          "total_dons": 1
         },
         {
          "Class": 1,
          "since_first_don": 26,
          "since_last_don": 11,
          "total_blood": 500,
          "total_dons": 2
         },
         {
          "Class": 2,
          "since_first_don": 21,
          "since_last_don": 16,
          "total_blood": 750,
          "total_dons": 3
         },
         {
          "Class": 1,
          "since_first_don": 28,
          "since_last_don": 4,
          "total_blood": 2250,
          "total_dons": 9
         },
         {
          "Class": 1,
          "since_first_don": 4,
          "since_last_don": 4,
          "total_blood": 250,
          "total_dons": 1
         },
         {
          "Class": 1,
          "since_first_don": 39,
          "since_last_don": 10,
          "total_blood": 2000,
          "total_dons": 8
         },
         {
          "Class": 1,
          "since_first_don": 4,
          "since_last_don": 4,
          "total_blood": 250,
          "total_dons": 1
         },
         {
          "Class": 1,
          "since_first_don": 14,
          "since_last_don": 2,
          "total_blood": 500,
          "total_dons": 2
         },
         {
          "Class": 2,
          "since_first_don": 28,
          "since_last_don": 14,
          "total_blood": 1250,
          "total_dons": 5
         },
         {
          "Class": 2,
          "since_first_don": 4,
          "since_last_don": 4,
          "total_blood": 250,
          "total_dons": 1
         },
         {
          "Class": 1,
          "since_first_don": 2,
          "since_last_don": 2,
          "total_blood": 250,
          "total_dons": 1
         },
         {
          "Class": 2,
          "since_first_don": 39,
          "since_last_don": 4,
          "total_blood": 3250,
          "total_dons": 13
         },
         {
          "Class": 1,
          "since_first_don": 57,
          "since_last_don": 23,
          "total_blood": 3750,
          "total_dons": 15
         },
         {
          "Class": 1,
          "since_first_don": 11,
          "since_last_don": 11,
          "total_blood": 250,
          "total_dons": 1
         },
         {
          "Class": 1,
          "since_first_don": 69,
          "since_last_don": 23,
          "total_blood": 2000,
          "total_dons": 8
         },
         {
          "Class": 1,
          "since_first_don": 26,
          "since_last_don": 23,
          "total_blood": 500,
          "total_dons": 2
         },
         {
          "Class": 1,
          "since_first_don": 64,
          "since_last_don": 23,
          "total_blood": 2000,
          "total_dons": 8
         },
         {
          "Class": 1,
          "since_first_don": 28,
          "since_last_don": 4,
          "total_blood": 750,
          "total_dons": 3
         },
         {
          "Class": 1,
          "since_first_don": 16,
          "since_last_don": 16,
          "total_blood": 250,
          "total_dons": 1
         },
         {
          "Class": 1,
          "since_first_don": 22,
          "since_last_don": 2,
          "total_blood": 1500,
          "total_dons": 6
         },
         {
          "Class": 1,
          "since_first_don": 28,
          "since_last_don": 23,
          "total_blood": 500,
          "total_dons": 2
         },
         {
          "Class": 1,
          "since_first_don": 71,
          "since_last_don": 16,
          "total_blood": 1250,
          "total_dons": 5
         },
         {
          "Class": 1,
          "since_first_don": 23,
          "since_last_don": 12,
          "total_blood": 2750,
          "total_dons": 11
         },
         {
          "Class": 1,
          "since_first_don": 62,
          "since_last_don": 23,
          "total_blood": 4750,
          "total_dons": 19
         },
         {
          "Class": 1,
          "since_first_don": 60,
          "since_last_don": 16,
          "total_blood": 1250,
          "total_dons": 5
         },
         {
          "Class": 2,
          "since_first_don": 40,
          "since_last_don": 2,
          "total_blood": 2750,
          "total_dons": 11
         },
         {
          "Class": 1,
          "since_first_don": 26,
          "since_last_don": 2,
          "total_blood": 1250,
          "total_dons": 5
         },
         {
          "Class": 1,
          "since_first_don": 38,
          "since_last_don": 21,
          "total_blood": 750,
          "total_dons": 3
         },
         {
          "Class": 1,
          "since_first_don": 23,
          "since_last_don": 23,
          "total_blood": 250,
          "total_dons": 1
         },
         {
          "Class": 1,
          "since_first_don": 21,
          "since_last_don": 11,
          "total_blood": 500,
          "total_dons": 2
         },
         {
          "Class": 1,
          "since_first_don": 87,
          "since_last_don": 16,
          "total_blood": 3750,
          "total_dons": 15
         },
         {
          "Class": 1,
          "since_first_don": 39,
          "since_last_don": 23,
          "total_blood": 750,
          "total_dons": 3
         },
         {
          "Class": 2,
          "since_first_don": 58,
          "since_last_don": 17,
          "total_blood": 1750,
          "total_dons": 7
         },
         {
          "Class": 1,
          "since_first_don": 98,
          "since_last_don": 11,
          "total_blood": 5500,
          "total_dons": 22
         },
         {
          "Class": 2,
          "since_first_don": 62,
          "since_last_don": 11,
          "total_blood": 1750,
          "total_dons": 7
         },
         {
          "Class": 1,
          "since_first_don": 26,
          "since_last_don": 2,
          "total_blood": 1500,
          "total_dons": 6
         },
         {
          "Class": 1,
          "since_first_don": 40,
          "since_last_don": 16,
          "total_blood": 1500,
          "total_dons": 6
         },
         {
          "Class": 2,
          "since_first_don": 14,
          "since_last_don": 2,
          "total_blood": 1750,
          "total_dons": 7
         },
         {
          "Class": 1,
          "since_first_don": 34,
          "since_last_don": 16,
          "total_blood": 750,
          "total_dons": 3
         },
         {
          "Class": 1,
          "since_first_don": 28,
          "since_last_don": 23,
          "total_blood": 500,
          "total_dons": 2
         },
         {
          "Class": 1,
          "since_first_don": 50,
          "since_last_don": 16,
          "total_blood": 750,
          "total_dons": 3
         },
         {
          "Class": 2,
          "since_first_don": 22,
          "since_last_don": 22,
          "total_blood": 250,
          "total_dons": 1
         },
         {
          "Class": 1,
          "since_first_don": 23,
          "since_last_don": 23,
          "total_blood": 250,
          "total_dons": 1
         },
         {
          "Class": 1,
          "since_first_don": 48,
          "since_last_don": 21,
          "total_blood": 1500,
          "total_dons": 6
         },
         {
          "Class": 2,
          "since_first_don": 35,
          "since_last_don": 2,
          "total_blood": 2000,
          "total_dons": 8
         },
         {
          "Class": 1,
          "since_first_don": 21,
          "since_last_don": 21,
          "total_blood": 250,
          "total_dons": 1
         },
         {
          "Class": 1,
          "since_first_don": 35,
          "since_last_don": 21,
          "total_blood": 750,
          "total_dons": 3
         },
         {
          "Class": 1,
          "since_first_don": 49,
          "since_last_don": 2,
          "total_blood": 2500,
          "total_dons": 10
         },
         {
          "Class": 1,
          "since_first_don": 52,
          "since_last_don": 9,
          "total_blood": 500,
          "total_dons": 2
         },
         {
          "Class": 2,
          "since_first_don": 16,
          "since_last_don": 4,
          "total_blood": 1500,
          "total_dons": 6
         },
         {
          "Class": 2,
          "since_first_don": 2,
          "since_last_don": 2,
          "total_blood": 250,
          "total_dons": 1
         },
         {
          "Class": 2,
          "since_first_don": 48,
          "since_last_don": 4,
          "total_blood": 2000,
          "total_dons": 8
         },
         {
          "Class": 1,
          "since_first_don": 23,
          "since_last_don": 23,
          "total_blood": 250,
          "total_dons": 1
         },
         {
          "Class": 2,
          "since_first_don": 43,
          "since_last_don": 1,
          "total_blood": 2500,
          "total_dons": 10
         },
         {
          "Class": 2,
          "since_first_don": 2,
          "since_last_don": 2,
          "total_blood": 250,
          "total_dons": 1
         },
         {
          "Class": 1,
          "since_first_don": 28,
          "since_last_don": 2,
          "total_blood": 2750,
          "total_dons": 11
         },
         {
          "Class": 1,
          "since_first_don": 35,
          "since_last_don": 1,
          "total_blood": 3000,
          "total_dons": 12
         },
         {
          "Class": 1,
          "since_first_don": 11,
          "since_last_don": 11,
          "total_blood": 250,
          "total_dons": 1
         },
         {
          "Class": 2,
          "since_first_don": 57,
          "since_last_don": 2,
          "total_blood": 3500,
          "total_dons": 14
         },
         {
          "Class": 1,
          "since_first_don": 18,
          "since_last_don": 11,
          "total_blood": 1250,
          "total_dons": 5
         },
         {
          "Class": 1,
          "since_first_don": 23,
          "since_last_don": 18,
          "total_blood": 500,
          "total_dons": 2
         },
         {
          "Class": 2,
          "since_first_don": 4,
          "since_last_don": 4,
          "total_blood": 500,
          "total_dons": 2
         },
         {
          "Class": 2,
          "since_first_don": 28,
          "since_last_don": 2,
          "total_blood": 2500,
          "total_dons": 10
         },
         {
          "Class": 1,
          "since_first_don": 14,
          "since_last_don": 14,
          "total_blood": 250,
          "total_dons": 1
         },
         {
          "Class": 1,
          "since_first_don": 95,
          "since_last_don": 18,
          "total_blood": 2000,
          "total_dons": 8
         },
         {
          "Class": 1,
          "since_first_don": 23,
          "since_last_don": 4,
          "total_blood": 500,
          "total_dons": 2
         },
         {
          "Class": 2,
          "since_first_don": 9,
          "since_last_don": 4,
          "total_blood": 500,
          "total_dons": 2
         },
         {
          "Class": 1,
          "since_first_don": 2,
          "since_last_don": 2,
          "total_blood": 250,
          "total_dons": 1
         },
         {
          "Class": 1,
          "since_first_don": 23,
          "since_last_don": 23,
          "total_blood": 250,
          "total_dons": 1
         },
         {
          "Class": 1,
          "since_first_don": 45,
          "since_last_don": 16,
          "total_blood": 1000,
          "total_dons": 4
         },
         {
          "Class": 1,
          "since_first_don": 23,
          "since_last_don": 23,
          "total_blood": 250,
          "total_dons": 1
         },
         {
          "Class": 1,
          "since_first_don": 28,
          "since_last_don": 5,
          "total_blood": 1500,
          "total_dons": 6
         },
         {
          "Class": 1,
          "since_first_don": 61,
          "since_last_don": 4,
          "total_blood": 2750,
          "total_dons": 11
         },
         {
          "Class": 2,
          "since_first_don": 38,
          "since_last_don": 4,
          "total_blood": 2250,
          "total_dons": 9
         },
         {
          "Class": 1,
          "since_first_don": 40,
          "since_last_don": 4,
          "total_blood": 3500,
          "total_dons": 14
         },
         {
          "Class": 1,
          "since_first_don": 4,
          "since_last_don": 4,
          "total_blood": 250,
          "total_dons": 1
         },
         {
          "Class": 2,
          "since_first_don": 2,
          "since_last_don": 2,
          "total_blood": 250,
          "total_dons": 1
         },
         {
          "Class": 1,
          "since_first_don": 16,
          "since_last_don": 2,
          "total_blood": 1000,
          "total_dons": 4
         },
         {
          "Class": 1,
          "since_first_don": 24,
          "since_last_don": 11,
          "total_blood": 500,
          "total_dons": 2
         },
         {
          "Class": 1,
          "since_first_don": 35,
          "since_last_don": 4,
          "total_blood": 1500,
          "total_dons": 6
         },
         {
          "Class": 2,
          "since_first_don": 28,
          "since_last_don": 0,
          "total_blood": 3250,
          "total_dons": 13
         },
         {
          "Class": 1,
          "since_first_don": 77,
          "since_last_don": 2,
          "total_blood": 1750,
          "total_dons": 7
         },
         {
          "Class": 2,
          "since_first_don": 4,
          "since_last_don": 2,
          "total_blood": 750,
          "total_dons": 3
         },
         {
          "Class": 1,
          "since_first_don": 21,
          "since_last_don": 4,
          "total_blood": 2000,
          "total_dons": 8
         },
         {
          "Class": 1,
          "since_first_don": 16,
          "since_last_don": 16,
          "total_blood": 500,
          "total_dons": 2
         },
         {
          "Class": 1,
          "since_first_don": 40,
          "since_last_don": 14,
          "total_blood": 1000,
          "total_dons": 4
         },
         {
          "Class": 1,
          "since_first_don": 79,
          "since_last_don": 5,
          "total_blood": 6000,
          "total_dons": 24
         },
         {
          "Class": 1,
          "since_first_don": 11,
          "since_last_don": 11,
          "total_blood": 250,
          "total_dons": 1
         },
         {
          "Class": 1,
          "since_first_don": 35,
          "since_last_don": 21,
          "total_blood": 750,
          "total_dons": 3
         },
         {
          "Class": 1,
          "since_first_don": 16,
          "since_last_don": 2,
          "total_blood": 1000,
          "total_dons": 4
         },
         {
          "Class": 1,
          "since_first_don": 11,
          "since_last_don": 11,
          "total_blood": 250,
          "total_dons": 1
         },
         {
          "Class": 1,
          "since_first_don": 16,
          "since_last_don": 2,
          "total_blood": 1000,
          "total_dons": 4
         },
         {
          "Class": 2,
          "since_first_don": 40,
          "since_last_don": 16,
          "total_blood": 1250,
          "total_dons": 5
         },
         {
          "Class": 1,
          "since_first_don": 50,
          "since_last_don": 16,
          "total_blood": 3000,
          "total_dons": 12
         },
         {
          "Class": 1,
          "since_first_don": 14,
          "since_last_don": 14,
          "total_blood": 250,
          "total_dons": 1
         },
         {
          "Class": 1,
          "since_first_don": 64,
          "since_last_don": 35,
          "total_blood": 750,
          "total_dons": 3
         },
         {
          "Class": 1,
          "since_first_don": 47,
          "since_last_don": 14,
          "total_blood": 1750,
          "total_dons": 7
         },
         {
          "Class": 1,
          "since_first_don": 11,
          "since_last_don": 11,
          "total_blood": 250,
          "total_dons": 1
         },
         {
          "Class": 1,
          "since_first_don": 52,
          "since_last_don": 2,
          "total_blood": 3000,
          "total_dons": 12
         },
         {
          "Class": 1,
          "since_first_don": 78,
          "since_last_don": 14,
          "total_blood": 4500,
          "total_dons": 18
         },
         {
          "Class": 1,
          "since_first_don": 2,
          "since_last_don": 2,
          "total_blood": 250,
          "total_dons": 1
         },
         {
          "Class": 1,
          "since_first_don": 16,
          "since_last_don": 4,
          "total_blood": 1000,
          "total_dons": 4
         },
         {
          "Class": 1,
          "since_first_don": 25,
          "since_last_don": 21,
          "total_blood": 500,
          "total_dons": 2
         },
         {
          "Class": 1,
          "since_first_don": 41,
          "since_last_don": 21,
          "total_blood": 500,
          "total_dons": 2
         },
         {
          "Class": 1,
          "since_first_don": 39,
          "since_last_don": 12,
          "total_blood": 2750,
          "total_dons": 11
         },
         {
          "Class": 1,
          "since_first_don": 75,
          "since_last_don": 11,
          "total_blood": 1750,
          "total_dons": 7
         },
         {
          "Class": 1,
          "since_first_don": 72,
          "since_last_don": 11,
          "total_blood": 2000,
          "total_dons": 8
         },
         {
          "Class": 1,
          "since_first_don": 26,
          "since_last_don": 6,
          "total_blood": 750,
          "total_dons": 3
         },
         {
          "Class": 1,
          "since_first_don": 37,
          "since_last_don": 11,
          "total_blood": 750,
          "total_dons": 3
         },
         {
          "Class": 1,
          "since_first_don": 11,
          "since_last_don": 11,
          "total_blood": 250,
          "total_dons": 1
         },
         {
          "Class": 1,
          "since_first_don": 26,
          "since_last_don": 2,
          "total_blood": 1250,
          "total_dons": 5
         },
         {
          "Class": 1,
          "since_first_don": 45,
          "since_last_don": 23,
          "total_blood": 1000,
          "total_dons": 4
         },
         {
          "Class": 1,
          "since_first_don": 35,
          "since_last_don": 16,
          "total_blood": 750,
          "total_dons": 3
         },
         {
          "Class": 1,
          "since_first_don": 22,
          "since_last_don": 2,
          "total_blood": 500,
          "total_dons": 2
         },
         {
          "Class": 1,
          "since_first_don": 23,
          "since_last_don": 21,
          "total_blood": 500,
          "total_dons": 2
         },
         {
          "Class": 1,
          "since_first_don": 11,
          "since_last_don": 2,
          "total_blood": 500,
          "total_dons": 2
         },
         {
          "Class": 1,
          "since_first_don": 4,
          "since_last_don": 4,
          "total_blood": 250,
          "total_dons": 1
         },
         {
          "Class": 1,
          "since_first_don": 87,
          "since_last_don": 23,
          "total_blood": 500,
          "total_dons": 2
         },
         {
          "Class": 1,
          "since_first_don": 21,
          "since_last_don": 21,
          "total_blood": 250,
          "total_dons": 1
         },
         {
          "Class": 1,
          "since_first_don": 16,
          "since_last_don": 4,
          "total_blood": 750,
          "total_dons": 3
         },
         {
          "Class": 2,
          "since_first_don": 46,
          "since_last_don": 4,
          "total_blood": 2000,
          "total_dons": 8
         },
         {
          "Class": 1,
          "since_first_don": 78,
          "since_last_don": 4,
          "total_blood": 2750,
          "total_dons": 11
         },
         {
          "Class": 1,
          "since_first_don": 43,
          "since_last_don": 2,
          "total_blood": 1000,
          "total_dons": 4
         },
         {
          "Class": 1,
          "since_first_don": 21,
          "since_last_don": 14,
          "total_blood": 750,
          "total_dons": 3
         },
         {
          "Class": 1,
          "since_first_don": 86,
          "since_last_don": 7,
          "total_blood": 3000,
          "total_dons": 12
         },
         {
          "Class": 1,
          "since_first_don": 14,
          "since_last_don": 2,
          "total_blood": 750,
          "total_dons": 3
         },
         {
          "Class": 1,
          "since_first_don": 14,
          "since_last_don": 14,
          "total_blood": 250,
          "total_dons": 1
         },
         {
          "Class": 1,
          "since_first_don": 64,
          "since_last_don": 11,
          "total_blood": 1750,
          "total_dons": 7
         },
         {
          "Class": 1,
          "since_first_don": 50,
          "since_last_don": 25,
          "total_blood": 1500,
          "total_dons": 6
         },
         {
          "Class": 2,
          "since_first_don": 69,
          "since_last_don": 4,
          "total_blood": 5000,
          "total_dons": 20
         },
         {
          "Class": 1,
          "since_first_don": 41,
          "since_last_don": 14,
          "total_blood": 750,
          "total_dons": 3
         },
         {
          "Class": 1,
          "since_first_don": 2,
          "since_last_don": 2,
          "total_blood": 250,
          "total_dons": 1
         },
         {
          "Class": 2,
          "since_first_don": 42,
          "since_last_don": 3,
          "total_blood": 5250,
          "total_dons": 21
         },
         {
          "Class": 1,
          "since_first_don": 38,
          "since_last_don": 16,
          "total_blood": 1750,
          "total_dons": 7
         },
         {
          "Class": 1,
          "since_first_don": 21,
          "since_last_don": 16,
          "total_blood": 750,
          "total_dons": 3
         },
         {
          "Class": 1,
          "since_first_don": 2,
          "since_last_don": 2,
          "total_blood": 250,
          "total_dons": 1
         },
         {
          "Class": 1,
          "since_first_don": 98,
          "since_last_don": 2,
          "total_blood": 3000,
          "total_dons": 12
         },
         {
          "Class": 1,
          "since_first_don": 23,
          "since_last_don": 21,
          "total_blood": 500,
          "total_dons": 2
         },
         {
          "Class": 1,
          "since_first_don": 4,
          "since_last_don": 4,
          "total_blood": 250,
          "total_dons": 1
         },
         {
          "Class": 2,
          "since_first_don": 4,
          "since_last_don": 4,
          "total_blood": 250,
          "total_dons": 1
         },
         {
          "Class": 1,
          "since_first_don": 21,
          "since_last_don": 21,
          "total_blood": 250,
          "total_dons": 1
         },
         {
          "Class": 2,
          "since_first_don": 28,
          "since_last_don": 4,
          "total_blood": 2500,
          "total_dons": 10
         },
         {
          "Class": 1,
          "since_first_don": 33,
          "since_last_don": 2,
          "total_blood": 500,
          "total_dons": 2
         },
         {
          "Class": 1,
          "since_first_don": 41,
          "since_last_don": 4,
          "total_blood": 500,
          "total_dons": 2
         },
         {
          "Class": 2,
          "since_first_don": 11,
          "since_last_don": 2,
          "total_blood": 500,
          "total_dons": 2
         },
         {
          "Class": 1,
          "since_first_don": 37,
          "since_last_don": 2,
          "total_blood": 1250,
          "total_dons": 5
         },
         {
          "Class": 1,
          "since_first_don": 23,
          "since_last_don": 2,
          "total_blood": 1000,
          "total_dons": 4
         },
         {
          "Class": 1,
          "since_first_don": 16,
          "since_last_don": 13,
          "total_blood": 750,
          "total_dons": 3
         },
         {
          "Class": 1,
          "since_first_don": 52,
          "since_last_don": 4,
          "total_blood": 2250,
          "total_dons": 9
         },
         {
          "Class": 1,
          "since_first_don": 16,
          "since_last_don": 16,
          "total_blood": 250,
          "total_dons": 1
         },
         {
          "Class": 1,
          "since_first_don": 23,
          "since_last_don": 11,
          "total_blood": 750,
          "total_dons": 3
         },
         {
          "Class": 1,
          "since_first_don": 26,
          "since_last_don": 14,
          "total_blood": 750,
          "total_dons": 3
         },
         {
          "Class": 1,
          "since_first_don": 35,
          "since_last_don": 11,
          "total_blood": 1250,
          "total_dons": 5
         },
         {
          "Class": 1,
          "since_first_don": 16,
          "since_last_don": 16,
          "total_blood": 250,
          "total_dons": 1
         },
         {
          "Class": 1,
          "since_first_don": 58,
          "since_last_don": 4,
          "total_blood": 5750,
          "total_dons": 23
         },
         {
          "Class": 1,
          "since_first_don": 26,
          "since_last_don": 21,
          "total_blood": 500,
          "total_dons": 2
         },
         {
          "Class": 2,
          "since_first_don": 28,
          "since_last_don": 2,
          "total_blood": 1500,
          "total_dons": 6
         },
         {
          "Class": 1,
          "since_first_don": 75,
          "since_last_don": 2,
          "total_blood": 1500,
          "total_dons": 6
         },
         {
          "Class": 1,
          "since_first_don": 76,
          "since_last_don": 2,
          "total_blood": 1750,
          "total_dons": 7
         },
         {
          "Class": 1,
          "since_first_don": 61,
          "since_last_don": 11,
          "total_blood": 1000,
          "total_dons": 4
         },
         {
          "Class": 1,
          "since_first_don": 51,
          "since_last_don": 1,
          "total_blood": 2250,
          "total_dons": 9
         },
         {
          "Class": 1,
          "since_first_don": 14,
          "since_last_don": 2,
          "total_blood": 500,
          "total_dons": 2
         },
         {
          "Class": 1,
          "since_first_don": 75,
          "since_last_don": 2,
          "total_blood": 2250,
          "total_dons": 9
         },
         {
          "Class": 1,
          "since_first_don": 23,
          "since_last_don": 4,
          "total_blood": 1250,
          "total_dons": 5
         },
         {
          "Class": 1,
          "since_first_don": 16,
          "since_last_don": 14,
          "total_blood": 500,
          "total_dons": 2
         },
         {
          "Class": 1,
          "since_first_don": 60,
          "since_last_don": 12,
          "total_blood": 2250,
          "total_dons": 9
         },
         {
          "Class": 2,
          "since_first_don": 87,
          "since_last_don": 16,
          "total_blood": 1750,
          "total_dons": 7
         },
         {
          "Class": 2,
          "since_first_don": 77,
          "since_last_don": 2,
          "total_blood": 8500,
          "total_dons": 34
         },
         {
          "Class": 1,
          "since_first_don": 98,
          "since_last_don": 23,
          "total_blood": 9500,
          "total_dons": 38
         },
         {
          "Class": 1,
          "since_first_don": 45,
          "since_last_don": 14,
          "total_blood": 1750,
          "total_dons": 7
         },
         {
          "Class": 1,
          "since_first_don": 23,
          "since_last_don": 2,
          "total_blood": 2750,
          "total_dons": 11
         },
         {
          "Class": 1,
          "since_first_don": 76,
          "since_last_don": 11,
          "total_blood": 750,
          "total_dons": 3
         },
         {
          "Class": 2,
          "since_first_don": 22,
          "since_last_don": 14,
          "total_blood": 1000,
          "total_dons": 4
         },
         {
          "Class": 1,
          "since_first_don": 16,
          "since_last_don": 16,
          "total_blood": 250,
          "total_dons": 1
         },
         {
          "Class": 1,
          "since_first_don": 26,
          "since_last_don": 4,
          "total_blood": 1000,
          "total_dons": 4
         },
         {
          "Class": 1,
          "since_first_don": 52,
          "since_last_don": 11,
          "total_blood": 500,
          "total_dons": 2
         },
         {
          "Class": 1,
          "since_first_don": 2,
          "since_last_don": 2,
          "total_blood": 250,
          "total_dons": 1
         },
         {
          "Class": 1,
          "since_first_don": 21,
          "since_last_don": 21,
          "total_blood": 250,
          "total_dons": 1
         },
         {
          "Class": 1,
          "since_first_don": 4,
          "since_last_don": 4,
          "total_blood": 500,
          "total_dons": 2
         },
         {
          "Class": 1,
          "since_first_don": 16,
          "since_last_don": 16,
          "total_blood": 250,
          "total_dons": 1
         },
         {
          "Class": 2,
          "since_first_don": 11,
          "since_last_don": 2,
          "total_blood": 500,
          "total_dons": 2
         },
         {
          "Class": 1,
          "since_first_don": 79,
          "since_last_don": 14,
          "total_blood": 750,
          "total_dons": 3
         },
         {
          "Class": 1,
          "since_first_don": 98,
          "since_last_don": 2,
          "total_blood": 11000,
          "total_dons": 44
         },
         {
          "Class": 2,
          "since_first_don": 49,
          "since_last_don": 26,
          "total_blood": 1250,
          "total_dons": 5
         },
         {
          "Class": 1,
          "since_first_don": 23,
          "since_last_don": 16,
          "total_blood": 750,
          "total_dons": 3
         },
         {
          "Class": 1,
          "since_first_don": 30,
          "since_last_don": 4,
          "total_blood": 1500,
          "total_dons": 6
         },
         {
          "Class": 1,
          "since_first_don": 28,
          "since_last_don": 4,
          "total_blood": 1250,
          "total_dons": 5
         },
         {
          "Class": 1,
          "since_first_don": 28,
          "since_last_don": 14,
          "total_blood": 750,
          "total_dons": 3
         },
         {
          "Class": 2,
          "since_first_don": 98,
          "since_last_don": 4,
          "total_blood": 4000,
          "total_dons": 16
         },
         {
          "Class": 1,
          "since_first_don": 47,
          "since_last_don": 4,
          "total_blood": 1500,
          "total_dons": 6
         },
         {
          "Class": 2,
          "since_first_don": 4,
          "since_last_don": 4,
          "total_blood": 250,
          "total_dons": 1
         },
         {
          "Class": 1,
          "since_first_don": 54,
          "since_last_don": 9,
          "total_blood": 2250,
          "total_dons": 9
         },
         {
          "Class": 1,
          "since_first_don": 88,
          "since_last_don": 23,
          "total_blood": 1750,
          "total_dons": 7
         },
         {
          "Class": 1,
          "since_first_don": 11,
          "since_last_don": 11,
          "total_blood": 250,
          "total_dons": 1
         },
         {
          "Class": 1,
          "since_first_don": 23,
          "since_last_don": 23,
          "total_blood": 250,
          "total_dons": 1
         },
         {
          "Class": 2,
          "since_first_don": 38,
          "since_last_don": 4,
          "total_blood": 1500,
          "total_dons": 6
         },
         {
          "Class": 1,
          "since_first_don": 40,
          "since_last_don": 23,
          "total_blood": 750,
          "total_dons": 3
         },
         {
          "Class": 1,
          "since_first_don": 46,
          "since_last_don": 16,
          "total_blood": 750,
          "total_dons": 3
         },
         {
          "Class": 1,
          "since_first_don": 4,
          "since_last_don": 4,
          "total_blood": 250,
          "total_dons": 1
         },
         {
          "Class": 1,
          "since_first_don": 37,
          "since_last_don": 11,
          "total_blood": 1750,
          "total_dons": 7
         },
         {
          "Class": 1,
          "since_first_don": 28,
          "since_last_don": 23,
          "total_blood": 750,
          "total_dons": 3
         },
         {
          "Class": 1,
          "since_first_don": 45,
          "since_last_don": 23,
          "total_blood": 1500,
          "total_dons": 6
         },
         {
          "Class": 1,
          "since_first_don": 38,
          "since_last_don": 38,
          "total_blood": 250,
          "total_dons": 1
         },
         {
          "Class": 1,
          "since_first_don": 70,
          "since_last_don": 16,
          "total_blood": 500,
          "total_dons": 2
         },
         {
          "Class": 1,
          "since_first_don": 21,
          "since_last_don": 21,
          "total_blood": 250,
          "total_dons": 1
         },
         {
          "Class": 2,
          "since_first_don": 16,
          "since_last_don": 2,
          "total_blood": 1000,
          "total_dons": 4
         },
         {
          "Class": 2,
          "since_first_don": 28,
          "since_last_don": 4,
          "total_blood": 1500,
          "total_dons": 6
         },
         {
          "Class": 1,
          "since_first_don": 26,
          "since_last_don": 14,
          "total_blood": 1000,
          "total_dons": 4
         },
         {
          "Class": 1,
          "since_first_don": 26,
          "since_last_don": 11,
          "total_blood": 750,
          "total_dons": 3
         },
         {
          "Class": 1,
          "since_first_don": 74,
          "since_last_don": 3,
          "total_blood": 4000,
          "total_dons": 16
         },
         {
          "Class": 1,
          "since_first_don": 76,
          "since_last_don": 13,
          "total_blood": 1750,
          "total_dons": 7
         },
         {
          "Class": 1,
          "since_first_don": 16,
          "since_last_don": 2,
          "total_blood": 500,
          "total_dons": 2
         },
         {
          "Class": 2,
          "since_first_don": 22,
          "since_last_don": 2,
          "total_blood": 2250,
          "total_dons": 9
         },
         {
          "Class": 1,
          "since_first_don": 4,
          "since_last_don": 2,
          "total_blood": 500,
          "total_dons": 2
         },
         {
          "Class": 2,
          "since_first_don": 14,
          "since_last_don": 14,
          "total_blood": 500,
          "total_dons": 2
         },
         {
          "Class": 1,
          "since_first_don": 81,
          "since_last_don": 2,
          "total_blood": 4000,
          "total_dons": 16
         },
         {
          "Class": 1,
          "since_first_don": 41,
          "since_last_don": 23,
          "total_blood": 750,
          "total_dons": 3
         },
         {
          "Class": 1,
          "since_first_don": 57,
          "since_last_don": 14,
          "total_blood": 1000,
          "total_dons": 4
         },
         {
          "Class": 1,
          "since_first_don": 14,
          "since_last_don": 14,
          "total_blood": 250,
          "total_dons": 1
         },
         {
          "Class": 1,
          "since_first_don": 23,
          "since_last_don": 23,
          "total_blood": 250,
          "total_dons": 1
         },
         {
          "Class": 1,
          "since_first_don": 38,
          "since_last_don": 38,
          "total_blood": 250,
          "total_dons": 1
         },
         {
          "Class": 1,
          "since_first_don": 35,
          "since_last_don": 21,
          "total_blood": 750,
          "total_dons": 3
         },
         {
          "Class": 1,
          "since_first_don": 41,
          "since_last_don": 11,
          "total_blood": 1250,
          "total_dons": 5
         },
         {
          "Class": 1,
          "since_first_don": 71,
          "since_last_don": 11,
          "total_blood": 1500,
          "total_dons": 6
         },
         {
          "Class": 1,
          "since_first_don": 16,
          "since_last_don": 16,
          "total_blood": 250,
          "total_dons": 1
         },
         {
          "Class": 1,
          "since_first_don": 86,
          "since_last_don": 5,
          "total_blood": 3500,
          "total_dons": 14
         },
         {
          "Class": 1,
          "since_first_don": 4,
          "since_last_don": 4,
          "total_blood": 500,
          "total_dons": 2
         },
         {
          "Class": 2,
          "since_first_don": 50,
          "since_last_don": 14,
          "total_blood": 2000,
          "total_dons": 8
         },
         {
          "Class": 2,
          "since_first_don": 51,
          "since_last_don": 9,
          "total_blood": 1250,
          "total_dons": 5
         },
         {
          "Class": 1,
          "since_first_don": 29,
          "since_last_don": 2,
          "total_blood": 1750,
          "total_dons": 7
         },
         {
          "Class": 1,
          "since_first_don": 86,
          "since_last_don": 21,
          "total_blood": 1500,
          "total_dons": 6
         },
         {
          "Class": 1,
          "since_first_don": 72,
          "since_last_don": 14,
          "total_blood": 1750,
          "total_dons": 7
         },
         {
          "Class": 1,
          "since_first_don": 26,
          "since_last_don": 16,
          "total_blood": 500,
          "total_dons": 2
         },
         {
          "Class": 1,
          "since_first_don": 64,
          "since_last_don": 14,
          "total_blood": 1000,
          "total_dons": 4
         },
         {
          "Class": 1,
          "since_first_don": 14,
          "since_last_don": 14,
          "total_blood": 500,
          "total_dons": 2
         },
         {
          "Class": 1,
          "since_first_don": 21,
          "since_last_don": 21,
          "total_blood": 250,
          "total_dons": 1
         },
         {
          "Class": 1,
          "since_first_don": 28,
          "since_last_don": 14,
          "total_blood": 1250,
          "total_dons": 5
         },
         {
          "Class": 1,
          "since_first_don": 29,
          "since_last_don": 4,
          "total_blood": 500,
          "total_dons": 2
         },
         {
          "Class": 1,
          "since_first_don": 14,
          "since_last_don": 14,
          "total_blood": 250,
          "total_dons": 1
         },
         {
          "Class": 1,
          "since_first_don": 36,
          "since_last_don": 2,
          "total_blood": 2250,
          "total_dons": 9
         },
         {
          "Class": 1,
          "since_first_don": 4,
          "since_last_don": 4,
          "total_blood": 500,
          "total_dons": 2
         },
         {
          "Class": 1,
          "since_first_don": 64,
          "since_last_don": 2,
          "total_blood": 2500,
          "total_dons": 10
         },
         {
          "Class": 1,
          "since_first_don": 51,
          "since_last_don": 14,
          "total_blood": 1500,
          "total_dons": 6
         },
         {
          "Class": 2,
          "since_first_don": 48,
          "since_last_don": 2,
          "total_blood": 3500,
          "total_dons": 14
         },
         {
          "Class": 1,
          "since_first_don": 89,
          "since_last_don": 23,
          "total_blood": 750,
          "total_dons": 3
         },
         {
          "Class": 1,
          "since_first_don": 42,
          "since_last_don": 11,
          "total_blood": 2750,
          "total_dons": 11
         },
         {
          "Class": 1,
          "since_first_don": 23,
          "since_last_don": 23,
          "total_blood": 500,
          "total_dons": 2
         },
         {
          "Class": 1,
          "since_first_don": 63,
          "since_last_don": 2,
          "total_blood": 1250,
          "total_dons": 5
         },
         {
          "Class": 1,
          "since_first_don": 33,
          "since_last_don": 23,
          "total_blood": 1250,
          "total_dons": 5
         },
         {
          "Class": 2,
          "since_first_don": 4,
          "since_last_don": 2,
          "total_blood": 500,
          "total_dons": 2
         },
         {
          "Class": 1,
          "since_first_don": 93,
          "since_last_don": 23,
          "total_blood": 3500,
          "total_dons": 14
         },
         {
          "Class": 1,
          "since_first_don": 74,
          "since_last_don": 2,
          "total_blood": 2250,
          "total_dons": 9
         },
         {
          "Class": 1,
          "since_first_don": 29,
          "since_last_don": 11,
          "total_blood": 1750,
          "total_dons": 7
         },
         {
          "Class": 1,
          "since_first_don": 52,
          "since_last_don": 21,
          "total_blood": 1000,
          "total_dons": 4
         },
         {
          "Class": 2,
          "since_first_don": 15,
          "since_last_don": 2,
          "total_blood": 1500,
          "total_dons": 6
         },
         {
          "Class": 1,
          "since_first_don": 4,
          "since_last_don": 4,
          "total_blood": 500,
          "total_dons": 2
         },
         {
          "Class": 2,
          "since_first_don": 43,
          "since_last_don": 4,
          "total_blood": 1000,
          "total_dons": 4
         },
         {
          "Class": 1,
          "since_first_don": 23,
          "since_last_don": 2,
          "total_blood": 500,
          "total_dons": 2
         },
         {
          "Class": 2,
          "since_first_don": 4,
          "since_last_don": 4,
          "total_blood": 250,
          "total_dons": 1
         },
         {
          "Class": 1,
          "since_first_don": 58,
          "since_last_don": 12,
          "total_blood": 3000,
          "total_dons": 12
         },
         {
          "Class": 2,
          "since_first_don": 45,
          "since_last_don": 2,
          "total_blood": 5000,
          "total_dons": 20
         },
         {
          "Class": 1,
          "since_first_don": 28,
          "since_last_don": 16,
          "total_blood": 1000,
          "total_dons": 4
         },
         {
          "Class": 1,
          "since_first_don": 64,
          "since_last_don": 21,
          "total_blood": 750,
          "total_dons": 3
         },
         {
          "Class": 1,
          "since_first_don": 4,
          "since_last_don": 4,
          "total_blood": 250,
          "total_dons": 1
         },
         {
          "Class": 1,
          "since_first_don": 83,
          "since_last_don": 14,
          "total_blood": 750,
          "total_dons": 3
         },
         {
          "Class": 1,
          "since_first_don": 16,
          "since_last_don": 16,
          "total_blood": 500,
          "total_dons": 2
         },
         {
          "Class": 1,
          "since_first_don": 11,
          "since_last_don": 2,
          "total_blood": 500,
          "total_dons": 2
         },
         {
          "Class": 1,
          "since_first_don": 4,
          "since_last_don": 0,
          "total_blood": 500,
          "total_dons": 2
         },
         {
          "Class": 1,
          "since_first_don": 14,
          "since_last_don": 4,
          "total_blood": 1500,
          "total_dons": 6
         },
         {
          "Class": 1,
          "since_first_don": 58,
          "since_last_don": 11,
          "total_blood": 1500,
          "total_dons": 6
         },
         {
          "Class": 2,
          "since_first_don": 26,
          "since_last_don": 4,
          "total_blood": 2000,
          "total_dons": 8
         },
         {
          "Class": 1,
          "since_first_don": 34,
          "since_last_don": 14,
          "total_blood": 1500,
          "total_dons": 6
         },
         {
          "Class": 2,
          "since_first_don": 46,
          "since_last_don": 2,
          "total_blood": 2750,
          "total_dons": 11
         },
         {
          "Class": 1,
          "since_first_don": 35,
          "since_last_don": 3,
          "total_blood": 3500,
          "total_dons": 14
         },
         {
          "Class": 1,
          "since_first_don": 60,
          "since_last_don": 21,
          "total_blood": 1250,
          "total_dons": 5
         },
         {
          "Class": 2,
          "since_first_don": 16,
          "since_last_don": 4,
          "total_blood": 1250,
          "total_dons": 5
         },
         {
          "Class": 2,
          "since_first_don": 37,
          "since_last_don": 11,
          "total_blood": 1250,
          "total_dons": 5
         },
         {
          "Class": 1,
          "since_first_don": 35,
          "since_last_don": 14,
          "total_blood": 500,
          "total_dons": 2
         },
         {
          "Class": 2,
          "since_first_don": 26,
          "since_last_don": 2,
          "total_blood": 1500,
          "total_dons": 6
         },
         {
          "Class": 1,
          "since_first_don": 26,
          "since_last_don": 14,
          "total_blood": 750,
          "total_dons": 3
         },
         {
          "Class": 1,
          "since_first_don": 34,
          "since_last_don": 4,
          "total_blood": 1250,
          "total_dons": 5
         },
         {
          "Class": 1,
          "since_first_don": 18,
          "since_last_don": 4,
          "total_blood": 1000,
          "total_dons": 4
         },
         {
          "Class": 2,
          "since_first_don": 10,
          "since_last_don": 2,
          "total_blood": 500,
          "total_dons": 2
         },
         {
          "Class": 1,
          "since_first_don": 64,
          "since_last_don": 21,
          "total_blood": 4000,
          "total_dons": 16
         },
         {
          "Class": 1,
          "since_first_don": 11,
          "since_last_don": 9,
          "total_blood": 500,
          "total_dons": 2
         },
         {
          "Class": 1,
          "since_first_don": 35,
          "since_last_don": 2,
          "total_blood": 750,
          "total_dons": 3
         },
         {
          "Class": 1,
          "since_first_don": 58,
          "since_last_don": 11,
          "total_blood": 1000,
          "total_dons": 4
         },
         {
          "Class": 1,
          "since_first_don": 2,
          "since_last_don": 2,
          "total_blood": 250,
          "total_dons": 1
         },
         {
          "Class": 1,
          "since_first_don": 31,
          "since_last_don": 14,
          "total_blood": 750,
          "total_dons": 3
         },
         {
          "Class": 1,
          "since_first_don": 39,
          "since_last_don": 39,
          "total_blood": 250,
          "total_dons": 1
         },
         {
          "Class": 1,
          "since_first_don": 2,
          "since_last_don": 2,
          "total_blood": 250,
          "total_dons": 1
         },
         {
          "Class": 2,
          "since_first_don": 38,
          "since_last_don": 11,
          "total_blood": 500,
          "total_dons": 2
         },
         {
          "Class": 1,
          "since_first_don": 2,
          "since_last_don": 2,
          "total_blood": 250,
          "total_dons": 1
         },
         {
          "Class": 1,
          "since_first_don": 16,
          "since_last_don": 16,
          "total_blood": 250,
          "total_dons": 1
         },
         {
          "Class": 1,
          "since_first_don": 28,
          "since_last_don": 16,
          "total_blood": 1750,
          "total_dons": 7
         },
         {
          "Class": 1,
          "since_first_don": 23,
          "since_last_don": 23,
          "total_blood": 250,
          "total_dons": 1
         },
         {
          "Class": 1,
          "since_first_don": 14,
          "since_last_don": 6,
          "total_blood": 750,
          "total_dons": 3
         },
         {
          "Class": 1,
          "since_first_don": 40,
          "since_last_don": 16,
          "total_blood": 1000,
          "total_dons": 4
         },
         {
          "Class": 1,
          "since_first_don": 16,
          "since_last_don": 16,
          "total_blood": 250,
          "total_dons": 1
         },
         {
          "Class": 2,
          "since_first_don": 29,
          "since_last_don": 3,
          "total_blood": 1000,
          "total_dons": 4
         },
         {
          "Class": 1,
          "since_first_don": 52,
          "since_last_don": 23,
          "total_blood": 1000,
          "total_dons": 4
         },
         {
          "Class": 2,
          "since_first_don": 69,
          "since_last_don": 20,
          "total_blood": 3500,
          "total_dons": 14
         },
         {
          "Class": 1,
          "since_first_don": 2,
          "since_last_don": 2,
          "total_blood": 250,
          "total_dons": 1
         },
         {
          "Class": 2,
          "since_first_don": 23,
          "since_last_don": 14,
          "total_blood": 1000,
          "total_dons": 4
         },
         {
          "Class": 1,
          "since_first_don": 16,
          "since_last_don": 16,
          "total_blood": 250,
          "total_dons": 1
         },
         {
          "Class": 1,
          "since_first_don": 64,
          "since_last_don": 8,
          "total_blood": 2250,
          "total_dons": 9
         },
         {
          "Class": 1,
          "since_first_don": 4,
          "since_last_don": 4,
          "total_blood": 250,
          "total_dons": 1
         },
         {
          "Class": 1,
          "since_first_don": 26,
          "since_last_don": 9,
          "total_blood": 500,
          "total_dons": 2
         },
         {
          "Class": 2,
          "since_first_don": 26,
          "since_last_don": 4,
          "total_blood": 1000,
          "total_dons": 4
         },
         {
          "Class": 1,
          "since_first_don": 14,
          "since_last_don": 14,
          "total_blood": 250,
          "total_dons": 1
         },
         {
          "Class": 2,
          "since_first_don": 26,
          "since_last_don": 5,
          "total_blood": 1750,
          "total_dons": 7
         },
         {
          "Class": 1,
          "since_first_don": 19,
          "since_last_don": 2,
          "total_blood": 750,
          "total_dons": 3
         },
         {
          "Class": 2,
          "since_first_don": 16,
          "since_last_don": 11,
          "total_blood": 1000,
          "total_dons": 4
         },
         {
          "Class": 2,
          "since_first_don": 76,
          "since_last_don": 0,
          "total_blood": 6500,
          "total_dons": 26
         },
         {
          "Class": 1,
          "since_first_don": 50,
          "since_last_don": 3,
          "total_blood": 2000,
          "total_dons": 8
         },
         {
          "Class": 2,
          "since_first_don": 3,
          "since_last_don": 3,
          "total_blood": 250,
          "total_dons": 1
         },
         {
          "Class": 1,
          "since_first_don": 52,
          "since_last_don": 21,
          "total_blood": 500,
          "total_dons": 2
         },
         {
          "Class": 2,
          "since_first_don": 22,
          "since_last_don": 4,
          "total_blood": 1750,
          "total_dons": 7
         },
         {
          "Class": 1,
          "since_first_don": 30,
          "since_last_don": 14,
          "total_blood": 1000,
          "total_dons": 4
         },
         {
          "Class": 2,
          "since_first_don": 35,
          "since_last_don": 1,
          "total_blood": 4000,
          "total_dons": 16
         },
         {
          "Class": 1,
          "since_first_don": 38,
          "since_last_don": 21,
          "total_blood": 750,
          "total_dons": 3
         },
         {
          "Class": 1,
          "since_first_don": 25,
          "since_last_don": 4,
          "total_blood": 1750,
          "total_dons": 7
         },
         {
          "Class": 1,
          "since_first_don": 27,
          "since_last_don": 11,
          "total_blood": 1500,
          "total_dons": 6
         },
         {
          "Class": 1,
          "since_first_don": 4,
          "since_last_don": 4,
          "total_blood": 250,
          "total_dons": 1
         },
         {
          "Class": 1,
          "since_first_don": 23,
          "since_last_don": 21,
          "total_blood": 500,
          "total_dons": 2
         },
         {
          "Class": 2,
          "since_first_don": 16,
          "since_last_don": 11,
          "total_blood": 750,
          "total_dons": 3
         },
         {
          "Class": 1,
          "since_first_don": 34,
          "since_last_don": 9,
          "total_blood": 750,
          "total_dons": 3
         },
         {
          "Class": 1,
          "since_first_don": 16,
          "since_last_don": 16,
          "total_blood": 250,
          "total_dons": 1
         },
         {
          "Class": 1,
          "since_first_don": 46,
          "since_last_don": 4,
          "total_blood": 2250,
          "total_dons": 9
         },
         {
          "Class": 2,
          "since_first_don": 4,
          "since_last_don": 4,
          "total_blood": 250,
          "total_dons": 1
         },
         {
          "Class": 1,
          "since_first_don": 95,
          "since_last_don": 1,
          "total_blood": 3500,
          "total_dons": 14
         },
         {
          "Class": 1,
          "since_first_don": 4,
          "since_last_don": 2,
          "total_blood": 500,
          "total_dons": 2
         },
         {
          "Class": 1,
          "since_first_don": 2,
          "since_last_don": 2,
          "total_blood": 500,
          "total_dons": 2
         },
         {
          "Class": 1,
          "since_first_don": 27,
          "since_last_don": 11,
          "total_blood": 1000,
          "total_dons": 4
         },
         {
          "Class": 2,
          "since_first_don": 40,
          "since_last_don": 4,
          "total_blood": 2000,
          "total_dons": 8
         },
         {
          "Class": 1,
          "since_first_don": 86,
          "since_last_don": 3,
          "total_blood": 4250,
          "total_dons": 17
         },
         {
          "Class": 1,
          "since_first_don": 4,
          "since_last_don": 4,
          "total_blood": 250,
          "total_dons": 1
         },
         {
          "Class": 1,
          "since_first_don": 45,
          "since_last_don": 2,
          "total_blood": 1500,
          "total_dons": 6
         },
         {
          "Class": 2,
          "since_first_don": 33,
          "since_last_don": 2,
          "total_blood": 1250,
          "total_dons": 5
         },
         {
          "Class": 1,
          "since_first_don": 59,
          "since_last_don": 0,
          "total_blood": 2000,
          "total_dons": 8
         },
         {
          "Class": 1,
          "since_first_don": 38,
          "since_last_don": 3,
          "total_blood": 1250,
          "total_dons": 5
         },
         {
          "Class": 2,
          "since_first_don": 49,
          "since_last_don": 2,
          "total_blood": 3750,
          "total_dons": 15
         },
         {
          "Class": 1,
          "since_first_don": 86,
          "since_last_don": 16,
          "total_blood": 750,
          "total_dons": 3
         },
         {
          "Class": 2,
          "since_first_don": 14,
          "since_last_don": 4,
          "total_blood": 1000,
          "total_dons": 4
         },
         {
          "Class": 1,
          "since_first_don": 34,
          "since_last_don": 11,
          "total_blood": 1000,
          "total_dons": 4
         },
         {
          "Class": 1,
          "since_first_don": 14,
          "since_last_don": 14,
          "total_blood": 250,
          "total_dons": 1
         },
         {
          "Class": 2,
          "since_first_don": 21,
          "since_last_don": 14,
          "total_blood": 500,
          "total_dons": 2
         },
         {
          "Class": 2,
          "since_first_don": 4,
          "since_last_don": 4,
          "total_blood": 1000,
          "total_dons": 4
         }
        ]
       },
       "encoding": {
        "color": {
         "field": "Class",
         "scale": {
          "scheme": "goldorange"
         },
         "type": "quantitative"
        },
        "x": {
         "field": "since_first_don",
         "type": "quantitative"
        },
        "y": {
         "aggregate": "count",
         "stack": null,
         "type": "quantitative"
        }
       },
       "mark": {
        "opacity": 0.7,
        "type": "bar"
       },
       "title": "Donor Time Distribution"
      },
      "image/png": "[encoded data removed]",
      "text/plain": [
       "<VegaLite 3 object>\n",
       "\n",
       "If you see this message, it means the renderer has not been properly enabled\n",
       "for the frontend that you are using. For more information, see\n",
       "https://altair-viz.github.io/user_guide/troubleshooting.html\n"
      ]
     },
     "execution_count": 28,
     "metadata": {},
     "output_type": "execute_result"
    }
   ],
   "source": [
    "alt.Chart(blood_df_train).mark_bar(opacity = 0.7).encode(\n",
    "    alt.X(\"since_first_don\"),\n",
    "    alt.Y('count()', stack=None),\n",
    "    color=alt.Color('Class', scale=alt.Scale(scheme='goldorange'))\n",
    ").properties(title = \"Donor Time Distribution\")"
   ]
  },
  {
   "cell_type": "code",
   "execution_count": null,
   "metadata": {},
   "outputs": [],
   "source": []
  }
 ],
 "metadata": {
  "kernelspec": {
   "display_name": "Python 3",
   "language": "python",
   "name": "python3"
  },
  "language_info": {
   "codemirror_mode": {
    "name": "ipython",
    "version": 3
   },
   "file_extension": ".py",
   "mimetype": "text/x-python",
   "name": "python",
   "nbconvert_exporter": "python",
   "pygments_lexer": "ipython3",
   "version": "3.7.3"
  }
 },
 "nbformat": 4,
 "nbformat_minor": 4
}
