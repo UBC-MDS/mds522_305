{
 "cells": [
  {
   "cell_type": "markdown",
   "metadata": {},
   "source": [
    "# Exploratory Data Analysis"
   ]
  },
  {
   "cell_type": "markdown",
   "metadata": {},
   "source": [
    "## 1. Data Description\n",
    "\n",
    "- This dataset described whether if a user make a purchase from the social network advertisement link.\n",
    "- This is a dataset that originally from [SuperDataScience](https://www.superdatascience.com) Course, [Machine Learning A-Z](https://www.superdatascience.com/pages/machine-learning). The `.zip` file can be downloaded [here](https://sds-platform-private.s3-us-east-2.amazonaws.com/uploads/P14-Kernel-SVM.zip)\n",
    "- This dataset contains $320$ different users(observations), identified by different user id. \n",
    "- This dataset is useful for advertisement companies who want to improve the advertisement targeting model by focusing on certain people that classified by Gender, Age and Estimated Salary."
   ]
  },
  {
   "cell_type": "markdown",
   "metadata": {},
   "source": [
    "## 2. Load the Dataset"
   ]
  },
  {
   "cell_type": "code",
   "execution_count": 1,
   "metadata": {},
   "outputs": [],
   "source": [
    "import datapackage\n",
    "import pandas as pd\n",
    "from sklearn.model_selection import train_test_split\n",
    "import altair as alt "
   ]
  },
  {
   "cell_type": "code",
   "execution_count": 2,
   "metadata": {},
   "outputs": [],
   "source": [
    "data_url = 'https://datahub.io/machine-learning/blood-transfusion-service-center/datapackage.json'\n",
    "\n",
    "# to load Data Package into storage\n",
    "package = datapackage.Package(data_url)\n",
    "\n",
    "# to load only tabular data\n",
    "resources = package.resources\n",
    "for resource in resources:\n",
    "    if resource.tabular:\n",
    "        blood_df = pd.read_csv(resource.descriptor['path'])"
   ]
  },
  {
   "cell_type": "code",
   "execution_count": 3,
   "metadata": {},
   "outputs": [
    {
     "data": {
      "text/html": [
       "<div>\n",
       "<style scoped>\n",
       "    .dataframe tbody tr th:only-of-type {\n",
       "        vertical-align: middle;\n",
       "    }\n",
       "\n",
       "    .dataframe tbody tr th {\n",
       "        vertical-align: top;\n",
       "    }\n",
       "\n",
       "    .dataframe thead th {\n",
       "        text-align: right;\n",
       "    }\n",
       "</style>\n",
       "<table border=\"1\" class=\"dataframe\">\n",
       "  <thead>\n",
       "    <tr style=\"text-align: right;\">\n",
       "      <th></th>\n",
       "      <th>V1</th>\n",
       "      <th>V2</th>\n",
       "      <th>V3</th>\n",
       "      <th>V4</th>\n",
       "      <th>Class</th>\n",
       "    </tr>\n",
       "  </thead>\n",
       "  <tbody>\n",
       "    <tr>\n",
       "      <th>0</th>\n",
       "      <td>2</td>\n",
       "      <td>50</td>\n",
       "      <td>12500</td>\n",
       "      <td>98</td>\n",
       "      <td>2</td>\n",
       "    </tr>\n",
       "    <tr>\n",
       "      <th>1</th>\n",
       "      <td>0</td>\n",
       "      <td>13</td>\n",
       "      <td>3250</td>\n",
       "      <td>28</td>\n",
       "      <td>2</td>\n",
       "    </tr>\n",
       "    <tr>\n",
       "      <th>2</th>\n",
       "      <td>1</td>\n",
       "      <td>16</td>\n",
       "      <td>4000</td>\n",
       "      <td>35</td>\n",
       "      <td>2</td>\n",
       "    </tr>\n",
       "    <tr>\n",
       "      <th>3</th>\n",
       "      <td>2</td>\n",
       "      <td>20</td>\n",
       "      <td>5000</td>\n",
       "      <td>45</td>\n",
       "      <td>2</td>\n",
       "    </tr>\n",
       "    <tr>\n",
       "      <th>4</th>\n",
       "      <td>1</td>\n",
       "      <td>24</td>\n",
       "      <td>6000</td>\n",
       "      <td>77</td>\n",
       "      <td>1</td>\n",
       "    </tr>\n",
       "  </tbody>\n",
       "</table>\n",
       "</div>"
      ],
      "text/plain": [
       "   V1  V2     V3  V4  Class\n",
       "0   2  50  12500  98      2\n",
       "1   0  13   3250  28      2\n",
       "2   1  16   4000  35      2\n",
       "3   2  20   5000  45      2\n",
       "4   1  24   6000  77      1"
      ]
     },
     "execution_count": 3,
     "metadata": {},
     "output_type": "execute_result"
    }
   ],
   "source": [
    "blood_df.head()"
   ]
  },
  {
   "cell_type": "code",
   "execution_count": 4,
   "metadata": {},
   "outputs": [],
   "source": [
    "X = blood_df.iloc[:,0:-1]\n",
    "y = blood_df.iloc[:,-1]\n",
    "# split training and testing\n",
    "X_train, X_test, y_train, y_test = train_test_split(X,\n",
    "                                                    y,\n",
    "                                                    test_size=0.2, random_state = 123)"
   ]
  },
  {
   "cell_type": "code",
   "execution_count": 5,
   "metadata": {},
   "outputs": [
    {
     "data": {
      "text/html": [
       "<div>\n",
       "<style scoped>\n",
       "    .dataframe tbody tr th:only-of-type {\n",
       "        vertical-align: middle;\n",
       "    }\n",
       "\n",
       "    .dataframe tbody tr th {\n",
       "        vertical-align: top;\n",
       "    }\n",
       "\n",
       "    .dataframe thead th {\n",
       "        text-align: right;\n",
       "    }\n",
       "</style>\n",
       "<table border=\"1\" class=\"dataframe\">\n",
       "  <thead>\n",
       "    <tr style=\"text-align: right;\">\n",
       "      <th></th>\n",
       "      <th>V1</th>\n",
       "      <th>V2</th>\n",
       "      <th>V3</th>\n",
       "      <th>V4</th>\n",
       "      <th>Class</th>\n",
       "    </tr>\n",
       "  </thead>\n",
       "  <tbody>\n",
       "    <tr>\n",
       "      <th>239</th>\n",
       "      <td>8</td>\n",
       "      <td>9</td>\n",
       "      <td>2250</td>\n",
       "      <td>58</td>\n",
       "      <td>1</td>\n",
       "    </tr>\n",
       "    <tr>\n",
       "      <th>269</th>\n",
       "      <td>13</td>\n",
       "      <td>4</td>\n",
       "      <td>1000</td>\n",
       "      <td>21</td>\n",
       "      <td>1</td>\n",
       "    </tr>\n",
       "    <tr>\n",
       "      <th>151</th>\n",
       "      <td>4</td>\n",
       "      <td>6</td>\n",
       "      <td>1500</td>\n",
       "      <td>39</td>\n",
       "      <td>1</td>\n",
       "    </tr>\n",
       "    <tr>\n",
       "      <th>245</th>\n",
       "      <td>4</td>\n",
       "      <td>5</td>\n",
       "      <td>1250</td>\n",
       "      <td>46</td>\n",
       "      <td>1</td>\n",
       "    </tr>\n",
       "    <tr>\n",
       "      <th>59</th>\n",
       "      <td>3</td>\n",
       "      <td>6</td>\n",
       "      <td>1500</td>\n",
       "      <td>21</td>\n",
       "      <td>1</td>\n",
       "    </tr>\n",
       "  </tbody>\n",
       "</table>\n",
       "</div>"
      ],
      "text/plain": [
       "     V1  V2    V3  V4  Class\n",
       "239   8   9  2250  58      1\n",
       "269  13   4  1000  21      1\n",
       "151   4   6  1500  39      1\n",
       "245   4   5  1250  46      1\n",
       "59    3   6  1500  21      1"
      ]
     },
     "execution_count": 5,
     "metadata": {},
     "output_type": "execute_result"
    }
   ],
   "source": [
    "blood_df_train = X_train\n",
    "blood_df_train = pd.merge(blood_df_train, y_train, left_index=True, right_index=True)\n",
    "blood_df_train.head()"
   ]
  },
  {
   "cell_type": "markdown",
   "metadata": {},
   "source": [
    "## 3. Explore the Dataset"
   ]
  },
  {
   "cell_type": "code",
   "execution_count": 6,
   "metadata": {},
   "outputs": [
    {
     "data": {
      "text/plain": [
       "V1       False\n",
       "V2       False\n",
       "V3       False\n",
       "V4       False\n",
       "Class    False\n",
       "dtype: bool"
      ]
     },
     "execution_count": 6,
     "metadata": {},
     "output_type": "execute_result"
    }
   ],
   "source": [
    "blood_df_train.isna().any()"
   ]
  },
  {
   "cell_type": "markdown",
   "metadata": {},
   "source": [
    "We can see that there are no missing values in our dataset."
   ]
  },
  {
   "cell_type": "code",
   "execution_count": 7,
   "metadata": {},
   "outputs": [
    {
     "name": "stdout",
     "output_type": "stream",
     "text": [
      "(598, 5)\n",
      "Index(['V1', 'V2', 'V3', 'V4', 'Class'], dtype='object')\n"
     ]
    }
   ],
   "source": [
    "print(blood_df_train.shape)\n",
    "print(blood_df_train.columns)"
   ]
  },
  {
   "cell_type": "markdown",
   "metadata": {},
   "source": [
    "It has four columns, one of which is our target: Purchased, a binary variable with 0 being not purchased and 1 being purchased. In the three features, one is Gender which are strings and the other two are floats."
   ]
  },
  {
   "cell_type": "code",
   "execution_count": 8,
   "metadata": {},
   "outputs": [
    {
     "data": {
      "text/html": [
       "<div>\n",
       "<style scoped>\n",
       "    .dataframe tbody tr th:only-of-type {\n",
       "        vertical-align: middle;\n",
       "    }\n",
       "\n",
       "    .dataframe tbody tr th {\n",
       "        vertical-align: top;\n",
       "    }\n",
       "\n",
       "    .dataframe thead th {\n",
       "        text-align: right;\n",
       "    }\n",
       "</style>\n",
       "<table border=\"1\" class=\"dataframe\">\n",
       "  <thead>\n",
       "    <tr style=\"text-align: right;\">\n",
       "      <th></th>\n",
       "      <th>V1</th>\n",
       "      <th>V2</th>\n",
       "      <th>V3</th>\n",
       "      <th>V4</th>\n",
       "      <th>Class</th>\n",
       "    </tr>\n",
       "  </thead>\n",
       "  <tbody>\n",
       "    <tr>\n",
       "      <th>count</th>\n",
       "      <td>598.000000</td>\n",
       "      <td>598.000000</td>\n",
       "      <td>598.000000</td>\n",
       "      <td>598.000000</td>\n",
       "      <td>598.000000</td>\n",
       "    </tr>\n",
       "    <tr>\n",
       "      <th>mean</th>\n",
       "      <td>9.951505</td>\n",
       "      <td>5.653846</td>\n",
       "      <td>1413.461538</td>\n",
       "      <td>35.030100</td>\n",
       "      <td>1.230769</td>\n",
       "    </tr>\n",
       "    <tr>\n",
       "      <th>std</th>\n",
       "      <td>8.399130</td>\n",
       "      <td>5.939018</td>\n",
       "      <td>1484.754538</td>\n",
       "      <td>24.345691</td>\n",
       "      <td>0.421678</td>\n",
       "    </tr>\n",
       "    <tr>\n",
       "      <th>min</th>\n",
       "      <td>0.000000</td>\n",
       "      <td>1.000000</td>\n",
       "      <td>250.000000</td>\n",
       "      <td>2.000000</td>\n",
       "      <td>1.000000</td>\n",
       "    </tr>\n",
       "    <tr>\n",
       "      <th>25%</th>\n",
       "      <td>4.000000</td>\n",
       "      <td>2.000000</td>\n",
       "      <td>500.000000</td>\n",
       "      <td>16.000000</td>\n",
       "      <td>1.000000</td>\n",
       "    </tr>\n",
       "    <tr>\n",
       "      <th>50%</th>\n",
       "      <td>9.000000</td>\n",
       "      <td>4.000000</td>\n",
       "      <td>1000.000000</td>\n",
       "      <td>28.000000</td>\n",
       "      <td>1.000000</td>\n",
       "    </tr>\n",
       "    <tr>\n",
       "      <th>75%</th>\n",
       "      <td>14.750000</td>\n",
       "      <td>7.000000</td>\n",
       "      <td>1750.000000</td>\n",
       "      <td>50.750000</td>\n",
       "      <td>1.000000</td>\n",
       "    </tr>\n",
       "    <tr>\n",
       "      <th>max</th>\n",
       "      <td>74.000000</td>\n",
       "      <td>50.000000</td>\n",
       "      <td>12500.000000</td>\n",
       "      <td>98.000000</td>\n",
       "      <td>2.000000</td>\n",
       "    </tr>\n",
       "  </tbody>\n",
       "</table>\n",
       "</div>"
      ],
      "text/plain": [
       "               V1          V2            V3          V4       Class\n",
       "count  598.000000  598.000000    598.000000  598.000000  598.000000\n",
       "mean     9.951505    5.653846   1413.461538   35.030100    1.230769\n",
       "std      8.399130    5.939018   1484.754538   24.345691    0.421678\n",
       "min      0.000000    1.000000    250.000000    2.000000    1.000000\n",
       "25%      4.000000    2.000000    500.000000   16.000000    1.000000\n",
       "50%      9.000000    4.000000   1000.000000   28.000000    1.000000\n",
       "75%     14.750000    7.000000   1750.000000   50.750000    1.000000\n",
       "max     74.000000   50.000000  12500.000000   98.000000    2.000000"
      ]
     },
     "execution_count": 8,
     "metadata": {},
     "output_type": "execute_result"
    }
   ],
   "source": [
    "#general summary for all data\n",
    "blood_df_train.describe()"
   ]
  },
  {
   "cell_type": "markdown",
   "metadata": {},
   "source": [
    "We can see that the mean purchased in 0.375 which is different from purchasing by chance of 0.5. This indicates that our research questions are meaningful and it is worth investigate how these three factors affect the purchase behavior."
   ]
  },
  {
   "cell_type": "code",
   "execution_count": 9,
   "metadata": {},
   "outputs": [
    {
     "data": {
      "text/html": [
       "<div>\n",
       "<style scoped>\n",
       "    .dataframe tbody tr th:only-of-type {\n",
       "        vertical-align: middle;\n",
       "    }\n",
       "\n",
       "    .dataframe tbody tr th {\n",
       "        vertical-align: top;\n",
       "    }\n",
       "\n",
       "    .dataframe thead th {\n",
       "        text-align: right;\n",
       "    }\n",
       "</style>\n",
       "<table border=\"1\" class=\"dataframe\">\n",
       "  <thead>\n",
       "    <tr style=\"text-align: right;\">\n",
       "      <th></th>\n",
       "      <th>V1</th>\n",
       "      <th>V2</th>\n",
       "      <th>V3</th>\n",
       "      <th>V4</th>\n",
       "      <th>Class</th>\n",
       "    </tr>\n",
       "  </thead>\n",
       "  <tbody>\n",
       "    <tr>\n",
       "      <th>count</th>\n",
       "      <td>460.000000</td>\n",
       "      <td>460.000000</td>\n",
       "      <td>460.000000</td>\n",
       "      <td>460.000000</td>\n",
       "      <td>460.0</td>\n",
       "    </tr>\n",
       "    <tr>\n",
       "      <th>mean</th>\n",
       "      <td>11.315217</td>\n",
       "      <td>4.969565</td>\n",
       "      <td>1242.391304</td>\n",
       "      <td>36.121739</td>\n",
       "      <td>1.0</td>\n",
       "    </tr>\n",
       "    <tr>\n",
       "      <th>std</th>\n",
       "      <td>8.699697</td>\n",
       "      <td>4.908215</td>\n",
       "      <td>1227.053762</td>\n",
       "      <td>24.566267</td>\n",
       "      <td>0.0</td>\n",
       "    </tr>\n",
       "    <tr>\n",
       "      <th>min</th>\n",
       "      <td>0.000000</td>\n",
       "      <td>1.000000</td>\n",
       "      <td>250.000000</td>\n",
       "      <td>2.000000</td>\n",
       "      <td>1.0</td>\n",
       "    </tr>\n",
       "    <tr>\n",
       "      <th>25%</th>\n",
       "      <td>4.000000</td>\n",
       "      <td>2.000000</td>\n",
       "      <td>500.000000</td>\n",
       "      <td>16.000000</td>\n",
       "      <td>1.0</td>\n",
       "    </tr>\n",
       "    <tr>\n",
       "      <th>50%</th>\n",
       "      <td>11.000000</td>\n",
       "      <td>3.000000</td>\n",
       "      <td>750.000000</td>\n",
       "      <td>28.000000</td>\n",
       "      <td>1.0</td>\n",
       "    </tr>\n",
       "    <tr>\n",
       "      <th>75%</th>\n",
       "      <td>16.000000</td>\n",
       "      <td>7.000000</td>\n",
       "      <td>1750.000000</td>\n",
       "      <td>52.000000</td>\n",
       "      <td>1.0</td>\n",
       "    </tr>\n",
       "    <tr>\n",
       "      <th>max</th>\n",
       "      <td>74.000000</td>\n",
       "      <td>44.000000</td>\n",
       "      <td>11000.000000</td>\n",
       "      <td>98.000000</td>\n",
       "      <td>1.0</td>\n",
       "    </tr>\n",
       "  </tbody>\n",
       "</table>\n",
       "</div>"
      ],
      "text/plain": [
       "               V1          V2            V3          V4  Class\n",
       "count  460.000000  460.000000    460.000000  460.000000  460.0\n",
       "mean    11.315217    4.969565   1242.391304   36.121739    1.0\n",
       "std      8.699697    4.908215   1227.053762   24.566267    0.0\n",
       "min      0.000000    1.000000    250.000000    2.000000    1.0\n",
       "25%      4.000000    2.000000    500.000000   16.000000    1.0\n",
       "50%     11.000000    3.000000    750.000000   28.000000    1.0\n",
       "75%     16.000000    7.000000   1750.000000   52.000000    1.0\n",
       "max     74.000000   44.000000  11000.000000   98.000000    1.0"
      ]
     },
     "execution_count": 9,
     "metadata": {},
     "output_type": "execute_result"
    }
   ],
   "source": [
    "#Summary for negative class, which is not purhcased\n",
    "blood_df_train[blood_df_train['Class']==1].describe()"
   ]
  },
  {
   "cell_type": "code",
   "execution_count": 10,
   "metadata": {},
   "outputs": [
    {
     "data": {
      "text/html": [
       "<div>\n",
       "<style scoped>\n",
       "    .dataframe tbody tr th:only-of-type {\n",
       "        vertical-align: middle;\n",
       "    }\n",
       "\n",
       "    .dataframe tbody tr th {\n",
       "        vertical-align: top;\n",
       "    }\n",
       "\n",
       "    .dataframe thead th {\n",
       "        text-align: right;\n",
       "    }\n",
       "</style>\n",
       "<table border=\"1\" class=\"dataframe\">\n",
       "  <thead>\n",
       "    <tr style=\"text-align: right;\">\n",
       "      <th></th>\n",
       "      <th>V1</th>\n",
       "      <th>V2</th>\n",
       "      <th>V3</th>\n",
       "      <th>V4</th>\n",
       "      <th>Class</th>\n",
       "    </tr>\n",
       "  </thead>\n",
       "  <tbody>\n",
       "    <tr>\n",
       "      <th>count</th>\n",
       "      <td>138.000000</td>\n",
       "      <td>138.000000</td>\n",
       "      <td>138.000000</td>\n",
       "      <td>138.000000</td>\n",
       "      <td>138.0</td>\n",
       "    </tr>\n",
       "    <tr>\n",
       "      <th>mean</th>\n",
       "      <td>5.405797</td>\n",
       "      <td>7.934783</td>\n",
       "      <td>1983.695652</td>\n",
       "      <td>31.391304</td>\n",
       "      <td>2.0</td>\n",
       "    </tr>\n",
       "    <tr>\n",
       "      <th>std</th>\n",
       "      <td>5.175233</td>\n",
       "      <td>8.134998</td>\n",
       "      <td>2033.749576</td>\n",
       "      <td>23.314240</td>\n",
       "      <td>0.0</td>\n",
       "    </tr>\n",
       "    <tr>\n",
       "      <th>min</th>\n",
       "      <td>0.000000</td>\n",
       "      <td>1.000000</td>\n",
       "      <td>250.000000</td>\n",
       "      <td>2.000000</td>\n",
       "      <td>2.0</td>\n",
       "    </tr>\n",
       "    <tr>\n",
       "      <th>25%</th>\n",
       "      <td>2.000000</td>\n",
       "      <td>3.000000</td>\n",
       "      <td>750.000000</td>\n",
       "      <td>15.000000</td>\n",
       "      <td>2.0</td>\n",
       "    </tr>\n",
       "    <tr>\n",
       "      <th>50%</th>\n",
       "      <td>4.000000</td>\n",
       "      <td>6.000000</td>\n",
       "      <td>1500.000000</td>\n",
       "      <td>28.000000</td>\n",
       "      <td>2.0</td>\n",
       "    </tr>\n",
       "    <tr>\n",
       "      <th>75%</th>\n",
       "      <td>4.000000</td>\n",
       "      <td>10.000000</td>\n",
       "      <td>2500.000000</td>\n",
       "      <td>41.750000</td>\n",
       "      <td>2.0</td>\n",
       "    </tr>\n",
       "    <tr>\n",
       "      <th>max</th>\n",
       "      <td>26.000000</td>\n",
       "      <td>50.000000</td>\n",
       "      <td>12500.000000</td>\n",
       "      <td>98.000000</td>\n",
       "      <td>2.0</td>\n",
       "    </tr>\n",
       "  </tbody>\n",
       "</table>\n",
       "</div>"
      ],
      "text/plain": [
       "               V1          V2            V3          V4  Class\n",
       "count  138.000000  138.000000    138.000000  138.000000  138.0\n",
       "mean     5.405797    7.934783   1983.695652   31.391304    2.0\n",
       "std      5.175233    8.134998   2033.749576   23.314240    0.0\n",
       "min      0.000000    1.000000    250.000000    2.000000    2.0\n",
       "25%      2.000000    3.000000    750.000000   15.000000    2.0\n",
       "50%      4.000000    6.000000   1500.000000   28.000000    2.0\n",
       "75%      4.000000   10.000000   2500.000000   41.750000    2.0\n",
       "max     26.000000   50.000000  12500.000000   98.000000    2.0"
      ]
     },
     "execution_count": 10,
     "metadata": {},
     "output_type": "execute_result"
    }
   ],
   "source": [
    "#Summary for negative class, which is not purhcased\n",
    "blood_df_train[blood_df_train['Class']==2].describe()"
   ]
  },
  {
   "cell_type": "markdown",
   "metadata": {},
   "source": [
    "Comparing the summary for purchased vs not purchased class, we can see that the mean age and mean estimated salary are higher for purchased class. "
   ]
  },
  {
   "cell_type": "markdown",
   "metadata": {},
   "source": [
    "## 4. Data Visualizations"
   ]
  },
  {
   "cell_type": "code",
   "execution_count": 11,
   "metadata": {},
   "outputs": [],
   "source": [
    "blood_df_train.columns = ['Recency', 'Frequency', 'Monetary', 'Time', 'Donated']"
   ]
  },
  {
   "cell_type": "code",
   "execution_count": 12,
   "metadata": {},
   "outputs": [
    {
     "data": {
      "text/html": [
       "<div>\n",
       "<style scoped>\n",
       "    .dataframe tbody tr th:only-of-type {\n",
       "        vertical-align: middle;\n",
       "    }\n",
       "\n",
       "    .dataframe tbody tr th {\n",
       "        vertical-align: top;\n",
       "    }\n",
       "\n",
       "    .dataframe thead th {\n",
       "        text-align: right;\n",
       "    }\n",
       "</style>\n",
       "<table border=\"1\" class=\"dataframe\">\n",
       "  <thead>\n",
       "    <tr style=\"text-align: right;\">\n",
       "      <th></th>\n",
       "      <th>Recency</th>\n",
       "      <th>Frequency</th>\n",
       "      <th>Monetary</th>\n",
       "      <th>Time</th>\n",
       "      <th>Donated</th>\n",
       "    </tr>\n",
       "  </thead>\n",
       "  <tbody>\n",
       "    <tr>\n",
       "      <th>239</th>\n",
       "      <td>8</td>\n",
       "      <td>9</td>\n",
       "      <td>2250</td>\n",
       "      <td>58</td>\n",
       "      <td>1</td>\n",
       "    </tr>\n",
       "    <tr>\n",
       "      <th>269</th>\n",
       "      <td>13</td>\n",
       "      <td>4</td>\n",
       "      <td>1000</td>\n",
       "      <td>21</td>\n",
       "      <td>1</td>\n",
       "    </tr>\n",
       "    <tr>\n",
       "      <th>151</th>\n",
       "      <td>4</td>\n",
       "      <td>6</td>\n",
       "      <td>1500</td>\n",
       "      <td>39</td>\n",
       "      <td>1</td>\n",
       "    </tr>\n",
       "    <tr>\n",
       "      <th>245</th>\n",
       "      <td>4</td>\n",
       "      <td>5</td>\n",
       "      <td>1250</td>\n",
       "      <td>46</td>\n",
       "      <td>1</td>\n",
       "    </tr>\n",
       "    <tr>\n",
       "      <th>59</th>\n",
       "      <td>3</td>\n",
       "      <td>6</td>\n",
       "      <td>1500</td>\n",
       "      <td>21</td>\n",
       "      <td>1</td>\n",
       "    </tr>\n",
       "    <tr>\n",
       "      <th>...</th>\n",
       "      <td>...</td>\n",
       "      <td>...</td>\n",
       "      <td>...</td>\n",
       "      <td>...</td>\n",
       "      <td>...</td>\n",
       "    </tr>\n",
       "    <tr>\n",
       "      <th>98</th>\n",
       "      <td>4</td>\n",
       "      <td>4</td>\n",
       "      <td>1000</td>\n",
       "      <td>14</td>\n",
       "      <td>2</td>\n",
       "    </tr>\n",
       "    <tr>\n",
       "      <th>322</th>\n",
       "      <td>11</td>\n",
       "      <td>4</td>\n",
       "      <td>1000</td>\n",
       "      <td>34</td>\n",
       "      <td>1</td>\n",
       "    </tr>\n",
       "    <tr>\n",
       "      <th>382</th>\n",
       "      <td>14</td>\n",
       "      <td>1</td>\n",
       "      <td>250</td>\n",
       "      <td>14</td>\n",
       "      <td>1</td>\n",
       "    </tr>\n",
       "    <tr>\n",
       "      <th>365</th>\n",
       "      <td>14</td>\n",
       "      <td>2</td>\n",
       "      <td>500</td>\n",
       "      <td>21</td>\n",
       "      <td>2</td>\n",
       "    </tr>\n",
       "    <tr>\n",
       "      <th>510</th>\n",
       "      <td>4</td>\n",
       "      <td>4</td>\n",
       "      <td>1000</td>\n",
       "      <td>4</td>\n",
       "      <td>2</td>\n",
       "    </tr>\n",
       "  </tbody>\n",
       "</table>\n",
       "<p>598 rows × 5 columns</p>\n",
       "</div>"
      ],
      "text/plain": [
       "     Recency  Frequency  Monetary  Time  Donated\n",
       "239        8          9      2250    58        1\n",
       "269       13          4      1000    21        1\n",
       "151        4          6      1500    39        1\n",
       "245        4          5      1250    46        1\n",
       "59         3          6      1500    21        1\n",
       "..       ...        ...       ...   ...      ...\n",
       "98         4          4      1000    14        2\n",
       "322       11          4      1000    34        1\n",
       "382       14          1       250    14        1\n",
       "365       14          2       500    21        2\n",
       "510        4          4      1000     4        2\n",
       "\n",
       "[598 rows x 5 columns]"
      ]
     },
     "execution_count": 12,
     "metadata": {},
     "output_type": "execute_result"
    }
   ],
   "source": [
    "blood_df_train"
   ]
  },
  {
   "cell_type": "code",
   "execution_count": 13,
   "metadata": {},
   "outputs": [
    {
     "data": {
      "application/vnd.vegalite.v3+json": {
       "$schema": "https://vega.github.io/schema/vega-lite/v3.4.0.json",
       "config": {
        "mark": {
         "tooltip": null
        },
        "view": {
         "height": 300,
         "width": 400
        }
       },
       "data": {
        "name": "data-32548e9b1b08a896c9597c0c8174a7e1"
       },
       "datasets": {
        "data-32548e9b1b08a896c9597c0c8174a7e1": [
         {
          "Donated": 1,
          "Frequency": 9,
          "Monetary": 2250,
          "Recency": 8,
          "Time": 58
         },
         {
          "Donated": 1,
          "Frequency": 4,
          "Monetary": 1000,
          "Recency": 13,
          "Time": 21
         },
         {
          "Donated": 1,
          "Frequency": 6,
          "Monetary": 1500,
          "Recency": 4,
          "Time": 39
         },
         {
          "Donated": 1,
          "Frequency": 5,
          "Monetary": 1250,
          "Recency": 4,
          "Time": 46
         },
         {
          "Donated": 1,
          "Frequency": 6,
          "Monetary": 1500,
          "Recency": 3,
          "Time": 21
         },
         {
          "Donated": 1,
          "Frequency": 1,
          "Monetary": 250,
          "Recency": 9,
          "Time": 9
         },
         {
          "Donated": 1,
          "Frequency": 2,
          "Monetary": 500,
          "Recency": 14,
          "Time": 14
         },
         {
          "Donated": 1,
          "Frequency": 7,
          "Monetary": 1750,
          "Recency": 2,
          "Time": 77
         },
         {
          "Donated": 1,
          "Frequency": 2,
          "Monetary": 500,
          "Recency": 2,
          "Time": 41
         },
         {
          "Donated": 1,
          "Frequency": 2,
          "Monetary": 500,
          "Recency": 9,
          "Time": 52
         },
         {
          "Donated": 1,
          "Frequency": 1,
          "Monetary": 250,
          "Recency": 23,
          "Time": 23
         },
         {
          "Donated": 1,
          "Frequency": 4,
          "Monetary": 1000,
          "Recency": 16,
          "Time": 58
         },
         {
          "Donated": 1,
          "Frequency": 4,
          "Monetary": 1000,
          "Recency": 2,
          "Time": 26
         },
         {
          "Donated": 2,
          "Frequency": 2,
          "Monetary": 500,
          "Recency": 4,
          "Time": 4
         },
         {
          "Donated": 1,
          "Frequency": 3,
          "Monetary": 750,
          "Recency": 23,
          "Time": 35
         },
         {
          "Donated": 2,
          "Frequency": 1,
          "Monetary": 250,
          "Recency": 2,
          "Time": 2
         },
         {
          "Donated": 1,
          "Frequency": 4,
          "Monetary": 1000,
          "Recency": 9,
          "Time": 65
         },
         {
          "Donated": 2,
          "Frequency": 3,
          "Monetary": 750,
          "Recency": 14,
          "Time": 19
         },
         {
          "Donated": 1,
          "Frequency": 7,
          "Monetary": 1750,
          "Recency": 4,
          "Time": 58
         },
         {
          "Donated": 1,
          "Frequency": 16,
          "Monetary": 4000,
          "Recency": 2,
          "Time": 64
         },
         {
          "Donated": 1,
          "Frequency": 1,
          "Monetary": 250,
          "Recency": 4,
          "Time": 4
         },
         {
          "Donated": 1,
          "Frequency": 1,
          "Monetary": 250,
          "Recency": 40,
          "Time": 40
         },
         {
          "Donated": 1,
          "Frequency": 2,
          "Monetary": 500,
          "Recency": 14,
          "Time": 14
         },
         {
          "Donated": 1,
          "Frequency": 10,
          "Monetary": 2500,
          "Recency": 16,
          "Time": 89
         },
         {
          "Donated": 1,
          "Frequency": 6,
          "Monetary": 1500,
          "Recency": 23,
          "Time": 70
         },
         {
          "Donated": 1,
          "Frequency": 7,
          "Monetary": 1750,
          "Recency": 4,
          "Time": 62
         },
         {
          "Donated": 1,
          "Frequency": 6,
          "Monetary": 1500,
          "Recency": 4,
          "Time": 52
         },
         {
          "Donated": 2,
          "Frequency": 10,
          "Monetary": 2500,
          "Recency": 4,
          "Time": 28
         },
         {
          "Donated": 1,
          "Frequency": 4,
          "Monetary": 1000,
          "Recency": 11,
          "Time": 74
         },
         {
          "Donated": 1,
          "Frequency": 2,
          "Monetary": 500,
          "Recency": 4,
          "Time": 14
         },
         {
          "Donated": 2,
          "Frequency": 2,
          "Monetary": 500,
          "Recency": 21,
          "Time": 21
         },
         {
          "Donated": 1,
          "Frequency": 6,
          "Monetary": 1500,
          "Recency": 16,
          "Time": 81
         },
         {
          "Donated": 1,
          "Frequency": 4,
          "Monetary": 1000,
          "Recency": 11,
          "Time": 28
         },
         {
          "Donated": 2,
          "Frequency": 33,
          "Monetary": 8250,
          "Recency": 4,
          "Time": 98
         },
         {
          "Donated": 1,
          "Frequency": 1,
          "Monetary": 250,
          "Recency": 72,
          "Time": 72
         },
         {
          "Donated": 2,
          "Frequency": 7,
          "Monetary": 1750,
          "Recency": 2,
          "Time": 32
         },
         {
          "Donated": 1,
          "Frequency": 3,
          "Monetary": 750,
          "Recency": 16,
          "Time": 19
         },
         {
          "Donated": 1,
          "Frequency": 3,
          "Monetary": 750,
          "Recency": 11,
          "Time": 15
         },
         {
          "Donated": 2,
          "Frequency": 3,
          "Monetary": 750,
          "Recency": 2,
          "Time": 16
         },
         {
          "Donated": 1,
          "Frequency": 1,
          "Monetary": 250,
          "Recency": 4,
          "Time": 4
         },
         {
          "Donated": 1,
          "Frequency": 4,
          "Monetary": 1000,
          "Recency": 2,
          "Time": 26
         },
         {
          "Donated": 1,
          "Frequency": 1,
          "Monetary": 250,
          "Recency": 4,
          "Time": 4
         },
         {
          "Donated": 2,
          "Frequency": 43,
          "Monetary": 10750,
          "Recency": 2,
          "Time": 86
         },
         {
          "Donated": 2,
          "Frequency": 11,
          "Monetary": 2750,
          "Recency": 4,
          "Time": 64
         },
         {
          "Donated": 2,
          "Frequency": 6,
          "Monetary": 1500,
          "Recency": 4,
          "Time": 23
         },
         {
          "Donated": 1,
          "Frequency": 3,
          "Monetary": 750,
          "Recency": 2,
          "Time": 24
         },
         {
          "Donated": 1,
          "Frequency": 13,
          "Monetary": 3250,
          "Recency": 12,
          "Time": 59
         },
         {
          "Donated": 1,
          "Frequency": 15,
          "Monetary": 3750,
          "Recency": 12,
          "Time": 71
         },
         {
          "Donated": 1,
          "Frequency": 12,
          "Monetary": 3000,
          "Recency": 11,
          "Time": 58
         },
         {
          "Donated": 1,
          "Frequency": 4,
          "Monetary": 1000,
          "Recency": 2,
          "Time": 11
         },
         {
          "Donated": 1,
          "Frequency": 1,
          "Monetary": 250,
          "Recency": 2,
          "Time": 2
         },
         {
          "Donated": 1,
          "Frequency": 2,
          "Monetary": 500,
          "Recency": 21,
          "Time": 21
         },
         {
          "Donated": 1,
          "Frequency": 4,
          "Monetary": 1000,
          "Recency": 2,
          "Time": 35
         },
         {
          "Donated": 2,
          "Frequency": 3,
          "Monetary": 750,
          "Recency": 4,
          "Time": 25
         },
         {
          "Donated": 1,
          "Frequency": 4,
          "Monetary": 1000,
          "Recency": 10,
          "Time": 16
         },
         {
          "Donated": 1,
          "Frequency": 1,
          "Monetary": 250,
          "Recency": 21,
          "Time": 21
         },
         {
          "Donated": 2,
          "Frequency": 2,
          "Monetary": 500,
          "Recency": 4,
          "Time": 4
         },
         {
          "Donated": 2,
          "Frequency": 6,
          "Monetary": 1500,
          "Recency": 2,
          "Time": 41
         },
         {
          "Donated": 2,
          "Frequency": 13,
          "Monetary": 3250,
          "Recency": 2,
          "Time": 53
         },
         {
          "Donated": 1,
          "Frequency": 9,
          "Monetary": 2250,
          "Recency": 4,
          "Time": 40
         },
         {
          "Donated": 2,
          "Frequency": 1,
          "Monetary": 250,
          "Recency": 23,
          "Time": 23
         },
         {
          "Donated": 1,
          "Frequency": 15,
          "Monetary": 3750,
          "Recency": 2,
          "Time": 64
         },
         {
          "Donated": 1,
          "Frequency": 3,
          "Monetary": 750,
          "Recency": 2,
          "Time": 21
         },
         {
          "Donated": 1,
          "Frequency": 2,
          "Monetary": 500,
          "Recency": 23,
          "Time": 23
         },
         {
          "Donated": 1,
          "Frequency": 1,
          "Monetary": 250,
          "Recency": 4,
          "Time": 4
         },
         {
          "Donated": 2,
          "Frequency": 4,
          "Monetary": 1000,
          "Recency": 2,
          "Time": 14
         },
         {
          "Donated": 1,
          "Frequency": 2,
          "Monetary": 500,
          "Recency": 2,
          "Time": 11
         },
         {
          "Donated": 1,
          "Frequency": 6,
          "Monetary": 1500,
          "Recency": 11,
          "Time": 28
         },
         {
          "Donated": 1,
          "Frequency": 4,
          "Monetary": 1000,
          "Recency": 23,
          "Time": 87
         },
         {
          "Donated": 2,
          "Frequency": 6,
          "Monetary": 1500,
          "Recency": 2,
          "Time": 28
         },
         {
          "Donated": 2,
          "Frequency": 11,
          "Monetary": 2750,
          "Recency": 9,
          "Time": 49
         },
         {
          "Donated": 1,
          "Frequency": 3,
          "Monetary": 750,
          "Recency": 23,
          "Time": 33
         },
         {
          "Donated": 1,
          "Frequency": 1,
          "Monetary": 250,
          "Recency": 2,
          "Time": 2
         },
         {
          "Donated": 2,
          "Frequency": 2,
          "Monetary": 500,
          "Recency": 2,
          "Time": 4
         },
         {
          "Donated": 1,
          "Frequency": 16,
          "Monetary": 4000,
          "Recency": 14,
          "Time": 70
         },
         {
          "Donated": 2,
          "Frequency": 8,
          "Monetary": 2000,
          "Recency": 8,
          "Time": 52
         },
         {
          "Donated": 2,
          "Frequency": 8,
          "Monetary": 2000,
          "Recency": 4,
          "Time": 34
         },
         {
          "Donated": 1,
          "Frequency": 5,
          "Monetary": 1250,
          "Recency": 7,
          "Time": 35
         },
         {
          "Donated": 1,
          "Frequency": 5,
          "Monetary": 1250,
          "Recency": 4,
          "Time": 58
         },
         {
          "Donated": 1,
          "Frequency": 1,
          "Monetary": 250,
          "Recency": 11,
          "Time": 11
         },
         {
          "Donated": 2,
          "Frequency": 13,
          "Monetary": 3250,
          "Recency": 2,
          "Time": 76
         },
         {
          "Donated": 1,
          "Frequency": 7,
          "Monetary": 1750,
          "Recency": 4,
          "Time": 52
         },
         {
          "Donated": 1,
          "Frequency": 5,
          "Monetary": 1250,
          "Recency": 14,
          "Time": 50
         },
         {
          "Donated": 1,
          "Frequency": 8,
          "Monetary": 2000,
          "Recency": 14,
          "Time": 50
         },
         {
          "Donated": 1,
          "Frequency": 2,
          "Monetary": 500,
          "Recency": 4,
          "Time": 59
         },
         {
          "Donated": 1,
          "Frequency": 3,
          "Monetary": 750,
          "Recency": 11,
          "Time": 28
         },
         {
          "Donated": 1,
          "Frequency": 1,
          "Monetary": 250,
          "Recency": 23,
          "Time": 23
         },
         {
          "Donated": 1,
          "Frequency": 5,
          "Monetary": 1250,
          "Recency": 23,
          "Time": 58
         },
         {
          "Donated": 2,
          "Frequency": 5,
          "Monetary": 1250,
          "Recency": 4,
          "Time": 26
         },
         {
          "Donated": 2,
          "Frequency": 41,
          "Monetary": 10250,
          "Recency": 2,
          "Time": 98
         },
         {
          "Donated": 1,
          "Frequency": 5,
          "Monetary": 1250,
          "Recency": 4,
          "Time": 58
         },
         {
          "Donated": 1,
          "Frequency": 2,
          "Monetary": 500,
          "Recency": 14,
          "Time": 14
         },
         {
          "Donated": 2,
          "Frequency": 6,
          "Monetary": 1500,
          "Recency": 2,
          "Time": 16
         },
         {
          "Donated": 1,
          "Frequency": 3,
          "Monetary": 750,
          "Recency": 11,
          "Time": 76
         },
         {
          "Donated": 2,
          "Frequency": 3,
          "Monetary": 750,
          "Recency": 4,
          "Time": 16
         },
         {
          "Donated": 1,
          "Frequency": 2,
          "Monetary": 500,
          "Recency": 11,
          "Time": 70
         },
         {
          "Donated": 1,
          "Frequency": 2,
          "Monetary": 500,
          "Recency": 11,
          "Time": 11
         },
         {
          "Donated": 2,
          "Frequency": 16,
          "Monetary": 4000,
          "Recency": 4,
          "Time": 38
         },
         {
          "Donated": 1,
          "Frequency": 2,
          "Monetary": 500,
          "Recency": 11,
          "Time": 11
         },
         {
          "Donated": 1,
          "Frequency": 2,
          "Monetary": 500,
          "Recency": 14,
          "Time": 29
         },
         {
          "Donated": 1,
          "Frequency": 2,
          "Monetary": 500,
          "Recency": 3,
          "Time": 23
         },
         {
          "Donated": 1,
          "Frequency": 2,
          "Monetary": 500,
          "Recency": 4,
          "Time": 52
         },
         {
          "Donated": 1,
          "Frequency": 3,
          "Monetary": 750,
          "Recency": 4,
          "Time": 16
         },
         {
          "Donated": 1,
          "Frequency": 3,
          "Monetary": 750,
          "Recency": 4,
          "Time": 71
         },
         {
          "Donated": 1,
          "Frequency": 3,
          "Monetary": 750,
          "Recency": 14,
          "Time": 35
         },
         {
          "Donated": 2,
          "Frequency": 6,
          "Monetary": 1500,
          "Recency": 16,
          "Time": 35
         },
         {
          "Donated": 1,
          "Frequency": 7,
          "Monetary": 1750,
          "Recency": 14,
          "Time": 35
         },
         {
          "Donated": 2,
          "Frequency": 9,
          "Monetary": 2250,
          "Recency": 4,
          "Time": 28
         },
         {
          "Donated": 1,
          "Frequency": 1,
          "Monetary": 250,
          "Recency": 16,
          "Time": 16
         },
         {
          "Donated": 1,
          "Frequency": 1,
          "Monetary": 250,
          "Recency": 23,
          "Time": 23
         },
         {
          "Donated": 1,
          "Frequency": 10,
          "Monetary": 2500,
          "Recency": 2,
          "Time": 52
         },
         {
          "Donated": 1,
          "Frequency": 2,
          "Monetary": 500,
          "Recency": 4,
          "Time": 31
         },
         {
          "Donated": 1,
          "Frequency": 6,
          "Monetary": 1500,
          "Recency": 4,
          "Time": 14
         },
         {
          "Donated": 2,
          "Frequency": 5,
          "Monetary": 1250,
          "Recency": 4,
          "Time": 16
         },
         {
          "Donated": 2,
          "Frequency": 6,
          "Monetary": 1500,
          "Recency": 4,
          "Time": 35
         },
         {
          "Donated": 1,
          "Frequency": 1,
          "Monetary": 250,
          "Recency": 21,
          "Time": 21
         },
         {
          "Donated": 2,
          "Frequency": 9,
          "Monetary": 2250,
          "Recency": 4,
          "Time": 26
         },
         {
          "Donated": 1,
          "Frequency": 8,
          "Monetary": 2000,
          "Recency": 16,
          "Time": 76
         },
         {
          "Donated": 1,
          "Frequency": 5,
          "Monetary": 1250,
          "Recency": 11,
          "Time": 38
         },
         {
          "Donated": 1,
          "Frequency": 7,
          "Monetary": 1750,
          "Recency": 1,
          "Time": 57
         },
         {
          "Donated": 2,
          "Frequency": 5,
          "Monetary": 1250,
          "Recency": 2,
          "Time": 11
         },
         {
          "Donated": 1,
          "Frequency": 6,
          "Monetary": 1500,
          "Recency": 16,
          "Time": 35
         },
         {
          "Donated": 2,
          "Frequency": 5,
          "Monetary": 1250,
          "Recency": 2,
          "Time": 16
         },
         {
          "Donated": 1,
          "Frequency": 1,
          "Monetary": 250,
          "Recency": 11,
          "Time": 11
         },
         {
          "Donated": 1,
          "Frequency": 1,
          "Monetary": 250,
          "Recency": 2,
          "Time": 2
         },
         {
          "Donated": 1,
          "Frequency": 8,
          "Monetary": 2000,
          "Recency": 11,
          "Time": 48
         },
         {
          "Donated": 1,
          "Frequency": 6,
          "Monetary": 1500,
          "Recency": 11,
          "Time": 41
         },
         {
          "Donated": 1,
          "Frequency": 14,
          "Monetary": 3500,
          "Recency": 7,
          "Time": 48
         },
         {
          "Donated": 1,
          "Frequency": 2,
          "Monetary": 500,
          "Recency": 4,
          "Time": 4
         },
         {
          "Donated": 1,
          "Frequency": 16,
          "Monetary": 4000,
          "Recency": 14,
          "Time": 98
         },
         {
          "Donated": 1,
          "Frequency": 3,
          "Monetary": 750,
          "Recency": 14,
          "Time": 52
         },
         {
          "Donated": 1,
          "Frequency": 2,
          "Monetary": 500,
          "Recency": 11,
          "Time": 17
         },
         {
          "Donated": 2,
          "Frequency": 1,
          "Monetary": 250,
          "Recency": 2,
          "Time": 2
         },
         {
          "Donated": 2,
          "Frequency": 7,
          "Monetary": 1750,
          "Recency": 2,
          "Time": 46
         },
         {
          "Donated": 1,
          "Frequency": 1,
          "Monetary": 250,
          "Recency": 23,
          "Time": 23
         },
         {
          "Donated": 1,
          "Frequency": 1,
          "Monetary": 250,
          "Recency": 23,
          "Time": 23
         },
         {
          "Donated": 2,
          "Frequency": 13,
          "Monetary": 3250,
          "Recency": 2,
          "Time": 32
         },
         {
          "Donated": 1,
          "Frequency": 11,
          "Monetary": 2750,
          "Recency": 7,
          "Time": 89
         },
         {
          "Donated": 2,
          "Frequency": 6,
          "Monetary": 1500,
          "Recency": 2,
          "Time": 15
         },
         {
          "Donated": 2,
          "Frequency": 6,
          "Monetary": 1500,
          "Recency": 2,
          "Time": 16
         },
         {
          "Donated": 1,
          "Frequency": 13,
          "Monetary": 3250,
          "Recency": 14,
          "Time": 57
         },
         {
          "Donated": 1,
          "Frequency": 14,
          "Monetary": 3500,
          "Recency": 1,
          "Time": 58
         },
         {
          "Donated": 1,
          "Frequency": 8,
          "Monetary": 2000,
          "Recency": 14,
          "Time": 46
         },
         {
          "Donated": 2,
          "Frequency": 50,
          "Monetary": 12500,
          "Recency": 2,
          "Time": 98
         },
         {
          "Donated": 2,
          "Frequency": 17,
          "Monetary": 4250,
          "Recency": 4,
          "Time": 71
         },
         {
          "Donated": 1,
          "Frequency": 3,
          "Monetary": 750,
          "Recency": 14,
          "Time": 33
         },
         {
          "Donated": 1,
          "Frequency": 7,
          "Monetary": 1750,
          "Recency": 16,
          "Time": 64
         },
         {
          "Donated": 2,
          "Frequency": 4,
          "Monetary": 1000,
          "Recency": 4,
          "Time": 34
         },
         {
          "Donated": 1,
          "Frequency": 3,
          "Monetary": 750,
          "Recency": 21,
          "Time": 26
         },
         {
          "Donated": 1,
          "Frequency": 24,
          "Monetary": 6000,
          "Recency": 11,
          "Time": 64
         },
         {
          "Donated": 1,
          "Frequency": 8,
          "Monetary": 2000,
          "Recency": 14,
          "Time": 26
         },
         {
          "Donated": 2,
          "Frequency": 11,
          "Monetary": 2750,
          "Recency": 2,
          "Time": 41
         },
         {
          "Donated": 2,
          "Frequency": 9,
          "Monetary": 2250,
          "Recency": 11,
          "Time": 72
         },
         {
          "Donated": 1,
          "Frequency": 1,
          "Monetary": 250,
          "Recency": 21,
          "Time": 21
         },
         {
          "Donated": 1,
          "Frequency": 9,
          "Monetary": 2250,
          "Recency": 9,
          "Time": 16
         },
         {
          "Donated": 1,
          "Frequency": 1,
          "Monetary": 250,
          "Recency": 23,
          "Time": 23
         },
         {
          "Donated": 1,
          "Frequency": 9,
          "Monetary": 2250,
          "Recency": 9,
          "Time": 45
         },
         {
          "Donated": 1,
          "Frequency": 6,
          "Monetary": 1500,
          "Recency": 11,
          "Time": 26
         },
         {
          "Donated": 2,
          "Frequency": 1,
          "Monetary": 250,
          "Recency": 11,
          "Time": 11
         },
         {
          "Donated": 1,
          "Frequency": 4,
          "Monetary": 1000,
          "Recency": 14,
          "Time": 26
         },
         {
          "Donated": 1,
          "Frequency": 2,
          "Monetary": 500,
          "Recency": 2,
          "Time": 11
         },
         {
          "Donated": 1,
          "Frequency": 1,
          "Monetary": 250,
          "Recency": 14,
          "Time": 14
         },
         {
          "Donated": 1,
          "Frequency": 2,
          "Monetary": 500,
          "Recency": 11,
          "Time": 16
         },
         {
          "Donated": 1,
          "Frequency": 1,
          "Monetary": 250,
          "Recency": 16,
          "Time": 16
         },
         {
          "Donated": 1,
          "Frequency": 3,
          "Monetary": 750,
          "Recency": 21,
          "Time": 40
         },
         {
          "Donated": 1,
          "Frequency": 5,
          "Monetary": 1250,
          "Recency": 4,
          "Time": 58
         },
         {
          "Donated": 1,
          "Frequency": 1,
          "Monetary": 250,
          "Recency": 4,
          "Time": 4
         },
         {
          "Donated": 1,
          "Frequency": 16,
          "Monetary": 4000,
          "Recency": 15,
          "Time": 82
         },
         {
          "Donated": 1,
          "Frequency": 5,
          "Monetary": 1250,
          "Recency": 14,
          "Time": 14
         },
         {
          "Donated": 1,
          "Frequency": 4,
          "Monetary": 1000,
          "Recency": 16,
          "Time": 23
         },
         {
          "Donated": 1,
          "Frequency": 4,
          "Monetary": 1000,
          "Recency": 2,
          "Time": 70
         },
         {
          "Donated": 1,
          "Frequency": 12,
          "Monetary": 3000,
          "Recency": 23,
          "Time": 86
         },
         {
          "Donated": 1,
          "Frequency": 1,
          "Monetary": 250,
          "Recency": 14,
          "Time": 14
         },
         {
          "Donated": 1,
          "Frequency": 5,
          "Monetary": 1250,
          "Recency": 14,
          "Time": 26
         },
         {
          "Donated": 1,
          "Frequency": 5,
          "Monetary": 1250,
          "Recency": 16,
          "Time": 27
         },
         {
          "Donated": 2,
          "Frequency": 2,
          "Monetary": 500,
          "Recency": 2,
          "Time": 11
         },
         {
          "Donated": 1,
          "Frequency": 2,
          "Monetary": 500,
          "Recency": 4,
          "Time": 9
         },
         {
          "Donated": 1,
          "Frequency": 7,
          "Monetary": 1750,
          "Recency": 16,
          "Time": 39
         },
         {
          "Donated": 1,
          "Frequency": 17,
          "Monetary": 4250,
          "Recency": 6,
          "Time": 70
         },
         {
          "Donated": 1,
          "Frequency": 7,
          "Monetary": 1750,
          "Recency": 16,
          "Time": 93
         },
         {
          "Donated": 1,
          "Frequency": 12,
          "Monetary": 3000,
          "Recency": 2,
          "Time": 82
         },
         {
          "Donated": 1,
          "Frequency": 7,
          "Monetary": 1750,
          "Recency": 14,
          "Time": 26
         },
         {
          "Donated": 1,
          "Frequency": 1,
          "Monetary": 250,
          "Recency": 11,
          "Time": 11
         },
         {
          "Donated": 1,
          "Frequency": 13,
          "Monetary": 3250,
          "Recency": 21,
          "Time": 57
         },
         {
          "Donated": 1,
          "Frequency": 2,
          "Monetary": 500,
          "Recency": 2,
          "Time": 2
         },
         {
          "Donated": 2,
          "Frequency": 17,
          "Monetary": 4250,
          "Recency": 11,
          "Time": 79
         },
         {
          "Donated": 1,
          "Frequency": 2,
          "Monetary": 500,
          "Recency": 14,
          "Time": 14
         },
         {
          "Donated": 1,
          "Frequency": 1,
          "Monetary": 250,
          "Recency": 74,
          "Time": 74
         },
         {
          "Donated": 1,
          "Frequency": 3,
          "Monetary": 750,
          "Recency": 2,
          "Time": 22
         },
         {
          "Donated": 1,
          "Frequency": 7,
          "Monetary": 1750,
          "Recency": 4,
          "Time": 58
         },
         {
          "Donated": 1,
          "Frequency": 1,
          "Monetary": 250,
          "Recency": 2,
          "Time": 2
         },
         {
          "Donated": 2,
          "Frequency": 1,
          "Monetary": 250,
          "Recency": 4,
          "Time": 4
         },
         {
          "Donated": 2,
          "Frequency": 5,
          "Monetary": 1250,
          "Recency": 3,
          "Time": 12
         },
         {
          "Donated": 1,
          "Frequency": 1,
          "Monetary": 250,
          "Recency": 2,
          "Time": 2
         },
         {
          "Donated": 1,
          "Frequency": 16,
          "Monetary": 4000,
          "Recency": 11,
          "Time": 89
         },
         {
          "Donated": 1,
          "Frequency": 5,
          "Monetary": 1250,
          "Recency": 15,
          "Time": 33
         },
         {
          "Donated": 1,
          "Frequency": 2,
          "Monetary": 500,
          "Recency": 14,
          "Time": 14
         },
         {
          "Donated": 1,
          "Frequency": 11,
          "Monetary": 2750,
          "Recency": 4,
          "Time": 95
         },
         {
          "Donated": 1,
          "Frequency": 2,
          "Monetary": 500,
          "Recency": 4,
          "Time": 30
         },
         {
          "Donated": 1,
          "Frequency": 2,
          "Monetary": 500,
          "Recency": 14,
          "Time": 14
         },
         {
          "Donated": 2,
          "Frequency": 10,
          "Monetary": 2500,
          "Recency": 4,
          "Time": 28
         },
         {
          "Donated": 1,
          "Frequency": 14,
          "Monetary": 3500,
          "Recency": 16,
          "Time": 83
         },
         {
          "Donated": 1,
          "Frequency": 9,
          "Monetary": 2250,
          "Recency": 11,
          "Time": 38
         },
         {
          "Donated": 1,
          "Frequency": 5,
          "Monetary": 1250,
          "Recency": 2,
          "Time": 34
         },
         {
          "Donated": 1,
          "Frequency": 10,
          "Monetary": 2500,
          "Recency": 11,
          "Time": 35
         },
         {
          "Donated": 1,
          "Frequency": 2,
          "Monetary": 500,
          "Recency": 21,
          "Time": 33
         },
         {
          "Donated": 1,
          "Frequency": 1,
          "Monetary": 250,
          "Recency": 14,
          "Time": 14
         },
         {
          "Donated": 1,
          "Frequency": 10,
          "Monetary": 2500,
          "Recency": 8,
          "Time": 63
         },
         {
          "Donated": 2,
          "Frequency": 5,
          "Monetary": 1250,
          "Recency": 4,
          "Time": 23
         },
         {
          "Donated": 1,
          "Frequency": 7,
          "Monetary": 1750,
          "Recency": 4,
          "Time": 28
         },
         {
          "Donated": 1,
          "Frequency": 1,
          "Monetary": 250,
          "Recency": 14,
          "Time": 14
         },
         {
          "Donated": 2,
          "Frequency": 3,
          "Monetary": 750,
          "Recency": 2,
          "Time": 4
         },
         {
          "Donated": 1,
          "Frequency": 5,
          "Monetary": 1250,
          "Recency": 4,
          "Time": 58
         },
         {
          "Donated": 2,
          "Frequency": 1,
          "Monetary": 250,
          "Recency": 4,
          "Time": 4
         },
         {
          "Donated": 2,
          "Frequency": 5,
          "Monetary": 1250,
          "Recency": 4,
          "Time": 11
         },
         {
          "Donated": 1,
          "Frequency": 3,
          "Monetary": 750,
          "Recency": 4,
          "Time": 34
         },
         {
          "Donated": 1,
          "Frequency": 1,
          "Monetary": 250,
          "Recency": 4,
          "Time": 4
         },
         {
          "Donated": 1,
          "Frequency": 5,
          "Monetary": 1250,
          "Recency": 11,
          "Time": 33
         },
         {
          "Donated": 2,
          "Frequency": 3,
          "Monetary": 750,
          "Recency": 11,
          "Time": 40
         },
         {
          "Donated": 1,
          "Frequency": 8,
          "Monetary": 2000,
          "Recency": 16,
          "Time": 28
         },
         {
          "Donated": 1,
          "Frequency": 8,
          "Monetary": 2000,
          "Recency": 13,
          "Time": 26
         },
         {
          "Donated": 1,
          "Frequency": 1,
          "Monetary": 250,
          "Recency": 21,
          "Time": 21
         },
         {
          "Donated": 1,
          "Frequency": 14,
          "Monetary": 3500,
          "Recency": 4,
          "Time": 86
         },
         {
          "Donated": 1,
          "Frequency": 1,
          "Monetary": 250,
          "Recency": 4,
          "Time": 4
         },
         {
          "Donated": 1,
          "Frequency": 10,
          "Monetary": 2500,
          "Recency": 16,
          "Time": 62
         },
         {
          "Donated": 2,
          "Frequency": 7,
          "Monetary": 1750,
          "Recency": 2,
          "Time": 35
         },
         {
          "Donated": 1,
          "Frequency": 1,
          "Monetary": 250,
          "Recency": 4,
          "Time": 4
         },
         {
          "Donated": 1,
          "Frequency": 7,
          "Monetary": 1750,
          "Recency": 4,
          "Time": 52
         },
         {
          "Donated": 2,
          "Frequency": 22,
          "Monetary": 5500,
          "Recency": 6,
          "Time": 28
         },
         {
          "Donated": 1,
          "Frequency": 7,
          "Monetary": 1750,
          "Recency": 21,
          "Time": 38
         },
         {
          "Donated": 1,
          "Frequency": 11,
          "Monetary": 2750,
          "Recency": 5,
          "Time": 75
         },
         {
          "Donated": 1,
          "Frequency": 6,
          "Monetary": 1500,
          "Recency": 4,
          "Time": 46
         },
         {
          "Donated": 1,
          "Frequency": 5,
          "Monetary": 1250,
          "Recency": 10,
          "Time": 38
         },
         {
          "Donated": 2,
          "Frequency": 16,
          "Monetary": 4000,
          "Recency": 4,
          "Time": 70
         },
         {
          "Donated": 2,
          "Frequency": 12,
          "Monetary": 3000,
          "Recency": 4,
          "Time": 34
         },
         {
          "Donated": 1,
          "Frequency": 1,
          "Monetary": 250,
          "Recency": 16,
          "Time": 16
         },
         {
          "Donated": 1,
          "Frequency": 1,
          "Monetary": 250,
          "Recency": 4,
          "Time": 4
         },
         {
          "Donated": 1,
          "Frequency": 2,
          "Monetary": 500,
          "Recency": 11,
          "Time": 11
         },
         {
          "Donated": 2,
          "Frequency": 5,
          "Monetary": 1250,
          "Recency": 4,
          "Time": 35
         },
         {
          "Donated": 1,
          "Frequency": 1,
          "Monetary": 250,
          "Recency": 2,
          "Time": 2
         },
         {
          "Donated": 1,
          "Frequency": 1,
          "Monetary": 250,
          "Recency": 16,
          "Time": 16
         },
         {
          "Donated": 1,
          "Frequency": 4,
          "Monetary": 1000,
          "Recency": 2,
          "Time": 16
         },
         {
          "Donated": 2,
          "Frequency": 2,
          "Monetary": 500,
          "Recency": 9,
          "Time": 16
         },
         {
          "Donated": 1,
          "Frequency": 1,
          "Monetary": 250,
          "Recency": 4,
          "Time": 4
         },
         {
          "Donated": 1,
          "Frequency": 1,
          "Monetary": 250,
          "Recency": 2,
          "Time": 2
         },
         {
          "Donated": 1,
          "Frequency": 1,
          "Monetary": 250,
          "Recency": 21,
          "Time": 21
         },
         {
          "Donated": 1,
          "Frequency": 11,
          "Monetary": 2750,
          "Recency": 4,
          "Time": 28
         },
         {
          "Donated": 1,
          "Frequency": 1,
          "Monetary": 250,
          "Recency": 21,
          "Time": 21
         },
         {
          "Donated": 1,
          "Frequency": 6,
          "Monetary": 1500,
          "Recency": 4,
          "Time": 35
         },
         {
          "Donated": 1,
          "Frequency": 5,
          "Monetary": 1250,
          "Recency": 14,
          "Time": 64
         },
         {
          "Donated": 1,
          "Frequency": 1,
          "Monetary": 250,
          "Recency": 21,
          "Time": 21
         },
         {
          "Donated": 1,
          "Frequency": 2,
          "Monetary": 500,
          "Recency": 11,
          "Time": 26
         },
         {
          "Donated": 2,
          "Frequency": 3,
          "Monetary": 750,
          "Recency": 16,
          "Time": 21
         },
         {
          "Donated": 1,
          "Frequency": 9,
          "Monetary": 2250,
          "Recency": 4,
          "Time": 28
         },
         {
          "Donated": 1,
          "Frequency": 1,
          "Monetary": 250,
          "Recency": 4,
          "Time": 4
         },
         {
          "Donated": 1,
          "Frequency": 8,
          "Monetary": 2000,
          "Recency": 10,
          "Time": 39
         },
         {
          "Donated": 1,
          "Frequency": 1,
          "Monetary": 250,
          "Recency": 4,
          "Time": 4
         },
         {
          "Donated": 1,
          "Frequency": 2,
          "Monetary": 500,
          "Recency": 2,
          "Time": 14
         },
         {
          "Donated": 2,
          "Frequency": 5,
          "Monetary": 1250,
          "Recency": 14,
          "Time": 28
         },
         {
          "Donated": 2,
          "Frequency": 1,
          "Monetary": 250,
          "Recency": 4,
          "Time": 4
         },
         {
          "Donated": 1,
          "Frequency": 1,
          "Monetary": 250,
          "Recency": 2,
          "Time": 2
         },
         {
          "Donated": 2,
          "Frequency": 13,
          "Monetary": 3250,
          "Recency": 4,
          "Time": 39
         },
         {
          "Donated": 1,
          "Frequency": 15,
          "Monetary": 3750,
          "Recency": 23,
          "Time": 57
         },
         {
          "Donated": 1,
          "Frequency": 1,
          "Monetary": 250,
          "Recency": 11,
          "Time": 11
         },
         {
          "Donated": 1,
          "Frequency": 8,
          "Monetary": 2000,
          "Recency": 23,
          "Time": 69
         },
         {
          "Donated": 1,
          "Frequency": 2,
          "Monetary": 500,
          "Recency": 23,
          "Time": 26
         },
         {
          "Donated": 1,
          "Frequency": 8,
          "Monetary": 2000,
          "Recency": 23,
          "Time": 64
         },
         {
          "Donated": 1,
          "Frequency": 3,
          "Monetary": 750,
          "Recency": 4,
          "Time": 28
         },
         {
          "Donated": 1,
          "Frequency": 1,
          "Monetary": 250,
          "Recency": 16,
          "Time": 16
         },
         {
          "Donated": 1,
          "Frequency": 6,
          "Monetary": 1500,
          "Recency": 2,
          "Time": 22
         },
         {
          "Donated": 1,
          "Frequency": 2,
          "Monetary": 500,
          "Recency": 23,
          "Time": 28
         },
         {
          "Donated": 1,
          "Frequency": 5,
          "Monetary": 1250,
          "Recency": 16,
          "Time": 71
         },
         {
          "Donated": 1,
          "Frequency": 11,
          "Monetary": 2750,
          "Recency": 12,
          "Time": 23
         },
         {
          "Donated": 1,
          "Frequency": 19,
          "Monetary": 4750,
          "Recency": 23,
          "Time": 62
         },
         {
          "Donated": 1,
          "Frequency": 5,
          "Monetary": 1250,
          "Recency": 16,
          "Time": 60
         },
         {
          "Donated": 2,
          "Frequency": 11,
          "Monetary": 2750,
          "Recency": 2,
          "Time": 40
         },
         {
          "Donated": 1,
          "Frequency": 5,
          "Monetary": 1250,
          "Recency": 2,
          "Time": 26
         },
         {
          "Donated": 1,
          "Frequency": 3,
          "Monetary": 750,
          "Recency": 21,
          "Time": 38
         },
         {
          "Donated": 1,
          "Frequency": 1,
          "Monetary": 250,
          "Recency": 23,
          "Time": 23
         },
         {
          "Donated": 1,
          "Frequency": 2,
          "Monetary": 500,
          "Recency": 11,
          "Time": 21
         },
         {
          "Donated": 1,
          "Frequency": 15,
          "Monetary": 3750,
          "Recency": 16,
          "Time": 87
         },
         {
          "Donated": 1,
          "Frequency": 3,
          "Monetary": 750,
          "Recency": 23,
          "Time": 39
         },
         {
          "Donated": 2,
          "Frequency": 7,
          "Monetary": 1750,
          "Recency": 17,
          "Time": 58
         },
         {
          "Donated": 1,
          "Frequency": 22,
          "Monetary": 5500,
          "Recency": 11,
          "Time": 98
         },
         {
          "Donated": 2,
          "Frequency": 7,
          "Monetary": 1750,
          "Recency": 11,
          "Time": 62
         },
         {
          "Donated": 1,
          "Frequency": 6,
          "Monetary": 1500,
          "Recency": 2,
          "Time": 26
         },
         {
          "Donated": 1,
          "Frequency": 6,
          "Monetary": 1500,
          "Recency": 16,
          "Time": 40
         },
         {
          "Donated": 2,
          "Frequency": 7,
          "Monetary": 1750,
          "Recency": 2,
          "Time": 14
         },
         {
          "Donated": 1,
          "Frequency": 3,
          "Monetary": 750,
          "Recency": 16,
          "Time": 34
         },
         {
          "Donated": 1,
          "Frequency": 2,
          "Monetary": 500,
          "Recency": 23,
          "Time": 28
         },
         {
          "Donated": 1,
          "Frequency": 3,
          "Monetary": 750,
          "Recency": 16,
          "Time": 50
         },
         {
          "Donated": 2,
          "Frequency": 1,
          "Monetary": 250,
          "Recency": 22,
          "Time": 22
         },
         {
          "Donated": 1,
          "Frequency": 1,
          "Monetary": 250,
          "Recency": 23,
          "Time": 23
         },
         {
          "Donated": 1,
          "Frequency": 6,
          "Monetary": 1500,
          "Recency": 21,
          "Time": 48
         },
         {
          "Donated": 2,
          "Frequency": 8,
          "Monetary": 2000,
          "Recency": 2,
          "Time": 35
         },
         {
          "Donated": 1,
          "Frequency": 1,
          "Monetary": 250,
          "Recency": 21,
          "Time": 21
         },
         {
          "Donated": 1,
          "Frequency": 3,
          "Monetary": 750,
          "Recency": 21,
          "Time": 35
         },
         {
          "Donated": 1,
          "Frequency": 10,
          "Monetary": 2500,
          "Recency": 2,
          "Time": 49
         },
         {
          "Donated": 1,
          "Frequency": 2,
          "Monetary": 500,
          "Recency": 9,
          "Time": 52
         },
         {
          "Donated": 2,
          "Frequency": 6,
          "Monetary": 1500,
          "Recency": 4,
          "Time": 16
         },
         {
          "Donated": 2,
          "Frequency": 1,
          "Monetary": 250,
          "Recency": 2,
          "Time": 2
         },
         {
          "Donated": 2,
          "Frequency": 8,
          "Monetary": 2000,
          "Recency": 4,
          "Time": 48
         },
         {
          "Donated": 1,
          "Frequency": 1,
          "Monetary": 250,
          "Recency": 23,
          "Time": 23
         },
         {
          "Donated": 2,
          "Frequency": 10,
          "Monetary": 2500,
          "Recency": 1,
          "Time": 43
         },
         {
          "Donated": 2,
          "Frequency": 1,
          "Monetary": 250,
          "Recency": 2,
          "Time": 2
         },
         {
          "Donated": 1,
          "Frequency": 11,
          "Monetary": 2750,
          "Recency": 2,
          "Time": 28
         },
         {
          "Donated": 1,
          "Frequency": 12,
          "Monetary": 3000,
          "Recency": 1,
          "Time": 35
         },
         {
          "Donated": 1,
          "Frequency": 1,
          "Monetary": 250,
          "Recency": 11,
          "Time": 11
         },
         {
          "Donated": 2,
          "Frequency": 14,
          "Monetary": 3500,
          "Recency": 2,
          "Time": 57
         },
         {
          "Donated": 1,
          "Frequency": 5,
          "Monetary": 1250,
          "Recency": 11,
          "Time": 18
         },
         {
          "Donated": 1,
          "Frequency": 2,
          "Monetary": 500,
          "Recency": 18,
          "Time": 23
         },
         {
          "Donated": 2,
          "Frequency": 2,
          "Monetary": 500,
          "Recency": 4,
          "Time": 4
         },
         {
          "Donated": 2,
          "Frequency": 10,
          "Monetary": 2500,
          "Recency": 2,
          "Time": 28
         },
         {
          "Donated": 1,
          "Frequency": 1,
          "Monetary": 250,
          "Recency": 14,
          "Time": 14
         },
         {
          "Donated": 1,
          "Frequency": 8,
          "Monetary": 2000,
          "Recency": 18,
          "Time": 95
         },
         {
          "Donated": 1,
          "Frequency": 2,
          "Monetary": 500,
          "Recency": 4,
          "Time": 23
         },
         {
          "Donated": 2,
          "Frequency": 2,
          "Monetary": 500,
          "Recency": 4,
          "Time": 9
         },
         {
          "Donated": 1,
          "Frequency": 1,
          "Monetary": 250,
          "Recency": 2,
          "Time": 2
         },
         {
          "Donated": 1,
          "Frequency": 1,
          "Monetary": 250,
          "Recency": 23,
          "Time": 23
         },
         {
          "Donated": 1,
          "Frequency": 4,
          "Monetary": 1000,
          "Recency": 16,
          "Time": 45
         },
         {
          "Donated": 1,
          "Frequency": 1,
          "Monetary": 250,
          "Recency": 23,
          "Time": 23
         },
         {
          "Donated": 1,
          "Frequency": 6,
          "Monetary": 1500,
          "Recency": 5,
          "Time": 28
         },
         {
          "Donated": 1,
          "Frequency": 11,
          "Monetary": 2750,
          "Recency": 4,
          "Time": 61
         },
         {
          "Donated": 2,
          "Frequency": 9,
          "Monetary": 2250,
          "Recency": 4,
          "Time": 38
         },
         {
          "Donated": 1,
          "Frequency": 14,
          "Monetary": 3500,
          "Recency": 4,
          "Time": 40
         },
         {
          "Donated": 1,
          "Frequency": 1,
          "Monetary": 250,
          "Recency": 4,
          "Time": 4
         },
         {
          "Donated": 2,
          "Frequency": 1,
          "Monetary": 250,
          "Recency": 2,
          "Time": 2
         },
         {
          "Donated": 1,
          "Frequency": 4,
          "Monetary": 1000,
          "Recency": 2,
          "Time": 16
         },
         {
          "Donated": 1,
          "Frequency": 2,
          "Monetary": 500,
          "Recency": 11,
          "Time": 24
         },
         {
          "Donated": 1,
          "Frequency": 6,
          "Monetary": 1500,
          "Recency": 4,
          "Time": 35
         },
         {
          "Donated": 2,
          "Frequency": 13,
          "Monetary": 3250,
          "Recency": 0,
          "Time": 28
         },
         {
          "Donated": 1,
          "Frequency": 7,
          "Monetary": 1750,
          "Recency": 2,
          "Time": 77
         },
         {
          "Donated": 2,
          "Frequency": 3,
          "Monetary": 750,
          "Recency": 2,
          "Time": 4
         },
         {
          "Donated": 1,
          "Frequency": 8,
          "Monetary": 2000,
          "Recency": 4,
          "Time": 21
         },
         {
          "Donated": 1,
          "Frequency": 2,
          "Monetary": 500,
          "Recency": 16,
          "Time": 16
         },
         {
          "Donated": 1,
          "Frequency": 4,
          "Monetary": 1000,
          "Recency": 14,
          "Time": 40
         },
         {
          "Donated": 1,
          "Frequency": 24,
          "Monetary": 6000,
          "Recency": 5,
          "Time": 79
         },
         {
          "Donated": 1,
          "Frequency": 1,
          "Monetary": 250,
          "Recency": 11,
          "Time": 11
         },
         {
          "Donated": 1,
          "Frequency": 3,
          "Monetary": 750,
          "Recency": 21,
          "Time": 35
         },
         {
          "Donated": 1,
          "Frequency": 4,
          "Monetary": 1000,
          "Recency": 2,
          "Time": 16
         },
         {
          "Donated": 1,
          "Frequency": 1,
          "Monetary": 250,
          "Recency": 11,
          "Time": 11
         },
         {
          "Donated": 1,
          "Frequency": 4,
          "Monetary": 1000,
          "Recency": 2,
          "Time": 16
         },
         {
          "Donated": 2,
          "Frequency": 5,
          "Monetary": 1250,
          "Recency": 16,
          "Time": 40
         },
         {
          "Donated": 1,
          "Frequency": 12,
          "Monetary": 3000,
          "Recency": 16,
          "Time": 50
         },
         {
          "Donated": 1,
          "Frequency": 1,
          "Monetary": 250,
          "Recency": 14,
          "Time": 14
         },
         {
          "Donated": 1,
          "Frequency": 3,
          "Monetary": 750,
          "Recency": 35,
          "Time": 64
         },
         {
          "Donated": 1,
          "Frequency": 7,
          "Monetary": 1750,
          "Recency": 14,
          "Time": 47
         },
         {
          "Donated": 1,
          "Frequency": 1,
          "Monetary": 250,
          "Recency": 11,
          "Time": 11
         },
         {
          "Donated": 1,
          "Frequency": 12,
          "Monetary": 3000,
          "Recency": 2,
          "Time": 52
         },
         {
          "Donated": 1,
          "Frequency": 18,
          "Monetary": 4500,
          "Recency": 14,
          "Time": 78
         },
         {
          "Donated": 1,
          "Frequency": 1,
          "Monetary": 250,
          "Recency": 2,
          "Time": 2
         },
         {
          "Donated": 1,
          "Frequency": 4,
          "Monetary": 1000,
          "Recency": 4,
          "Time": 16
         },
         {
          "Donated": 1,
          "Frequency": 2,
          "Monetary": 500,
          "Recency": 21,
          "Time": 25
         },
         {
          "Donated": 1,
          "Frequency": 2,
          "Monetary": 500,
          "Recency": 21,
          "Time": 41
         },
         {
          "Donated": 1,
          "Frequency": 11,
          "Monetary": 2750,
          "Recency": 12,
          "Time": 39
         },
         {
          "Donated": 1,
          "Frequency": 7,
          "Monetary": 1750,
          "Recency": 11,
          "Time": 75
         },
         {
          "Donated": 1,
          "Frequency": 8,
          "Monetary": 2000,
          "Recency": 11,
          "Time": 72
         },
         {
          "Donated": 1,
          "Frequency": 3,
          "Monetary": 750,
          "Recency": 6,
          "Time": 26
         },
         {
          "Donated": 1,
          "Frequency": 3,
          "Monetary": 750,
          "Recency": 11,
          "Time": 37
         },
         {
          "Donated": 1,
          "Frequency": 1,
          "Monetary": 250,
          "Recency": 11,
          "Time": 11
         },
         {
          "Donated": 1,
          "Frequency": 5,
          "Monetary": 1250,
          "Recency": 2,
          "Time": 26
         },
         {
          "Donated": 1,
          "Frequency": 4,
          "Monetary": 1000,
          "Recency": 23,
          "Time": 45
         },
         {
          "Donated": 1,
          "Frequency": 3,
          "Monetary": 750,
          "Recency": 16,
          "Time": 35
         },
         {
          "Donated": 1,
          "Frequency": 2,
          "Monetary": 500,
          "Recency": 2,
          "Time": 22
         },
         {
          "Donated": 1,
          "Frequency": 2,
          "Monetary": 500,
          "Recency": 21,
          "Time": 23
         },
         {
          "Donated": 1,
          "Frequency": 2,
          "Monetary": 500,
          "Recency": 2,
          "Time": 11
         },
         {
          "Donated": 1,
          "Frequency": 1,
          "Monetary": 250,
          "Recency": 4,
          "Time": 4
         },
         {
          "Donated": 1,
          "Frequency": 2,
          "Monetary": 500,
          "Recency": 23,
          "Time": 87
         },
         {
          "Donated": 1,
          "Frequency": 1,
          "Monetary": 250,
          "Recency": 21,
          "Time": 21
         },
         {
          "Donated": 1,
          "Frequency": 3,
          "Monetary": 750,
          "Recency": 4,
          "Time": 16
         },
         {
          "Donated": 2,
          "Frequency": 8,
          "Monetary": 2000,
          "Recency": 4,
          "Time": 46
         },
         {
          "Donated": 1,
          "Frequency": 11,
          "Monetary": 2750,
          "Recency": 4,
          "Time": 78
         },
         {
          "Donated": 1,
          "Frequency": 4,
          "Monetary": 1000,
          "Recency": 2,
          "Time": 43
         },
         {
          "Donated": 1,
          "Frequency": 3,
          "Monetary": 750,
          "Recency": 14,
          "Time": 21
         },
         {
          "Donated": 1,
          "Frequency": 12,
          "Monetary": 3000,
          "Recency": 7,
          "Time": 86
         },
         {
          "Donated": 1,
          "Frequency": 3,
          "Monetary": 750,
          "Recency": 2,
          "Time": 14
         },
         {
          "Donated": 1,
          "Frequency": 1,
          "Monetary": 250,
          "Recency": 14,
          "Time": 14
         },
         {
          "Donated": 1,
          "Frequency": 7,
          "Monetary": 1750,
          "Recency": 11,
          "Time": 64
         },
         {
          "Donated": 1,
          "Frequency": 6,
          "Monetary": 1500,
          "Recency": 25,
          "Time": 50
         },
         {
          "Donated": 2,
          "Frequency": 20,
          "Monetary": 5000,
          "Recency": 4,
          "Time": 69
         },
         {
          "Donated": 1,
          "Frequency": 3,
          "Monetary": 750,
          "Recency": 14,
          "Time": 41
         },
         {
          "Donated": 1,
          "Frequency": 1,
          "Monetary": 250,
          "Recency": 2,
          "Time": 2
         },
         {
          "Donated": 2,
          "Frequency": 21,
          "Monetary": 5250,
          "Recency": 3,
          "Time": 42
         },
         {
          "Donated": 1,
          "Frequency": 7,
          "Monetary": 1750,
          "Recency": 16,
          "Time": 38
         },
         {
          "Donated": 1,
          "Frequency": 3,
          "Monetary": 750,
          "Recency": 16,
          "Time": 21
         },
         {
          "Donated": 1,
          "Frequency": 1,
          "Monetary": 250,
          "Recency": 2,
          "Time": 2
         },
         {
          "Donated": 1,
          "Frequency": 12,
          "Monetary": 3000,
          "Recency": 2,
          "Time": 98
         },
         {
          "Donated": 1,
          "Frequency": 2,
          "Monetary": 500,
          "Recency": 21,
          "Time": 23
         },
         {
          "Donated": 1,
          "Frequency": 1,
          "Monetary": 250,
          "Recency": 4,
          "Time": 4
         },
         {
          "Donated": 2,
          "Frequency": 1,
          "Monetary": 250,
          "Recency": 4,
          "Time": 4
         },
         {
          "Donated": 1,
          "Frequency": 1,
          "Monetary": 250,
          "Recency": 21,
          "Time": 21
         },
         {
          "Donated": 2,
          "Frequency": 10,
          "Monetary": 2500,
          "Recency": 4,
          "Time": 28
         },
         {
          "Donated": 1,
          "Frequency": 2,
          "Monetary": 500,
          "Recency": 2,
          "Time": 33
         },
         {
          "Donated": 1,
          "Frequency": 2,
          "Monetary": 500,
          "Recency": 4,
          "Time": 41
         },
         {
          "Donated": 2,
          "Frequency": 2,
          "Monetary": 500,
          "Recency": 2,
          "Time": 11
         },
         {
          "Donated": 1,
          "Frequency": 5,
          "Monetary": 1250,
          "Recency": 2,
          "Time": 37
         },
         {
          "Donated": 1,
          "Frequency": 4,
          "Monetary": 1000,
          "Recency": 2,
          "Time": 23
         },
         {
          "Donated": 1,
          "Frequency": 3,
          "Monetary": 750,
          "Recency": 13,
          "Time": 16
         },
         {
          "Donated": 1,
          "Frequency": 9,
          "Monetary": 2250,
          "Recency": 4,
          "Time": 52
         },
         {
          "Donated": 1,
          "Frequency": 1,
          "Monetary": 250,
          "Recency": 16,
          "Time": 16
         },
         {
          "Donated": 1,
          "Frequency": 3,
          "Monetary": 750,
          "Recency": 11,
          "Time": 23
         },
         {
          "Donated": 1,
          "Frequency": 3,
          "Monetary": 750,
          "Recency": 14,
          "Time": 26
         },
         {
          "Donated": 1,
          "Frequency": 5,
          "Monetary": 1250,
          "Recency": 11,
          "Time": 35
         },
         {
          "Donated": 1,
          "Frequency": 1,
          "Monetary": 250,
          "Recency": 16,
          "Time": 16
         },
         {
          "Donated": 1,
          "Frequency": 23,
          "Monetary": 5750,
          "Recency": 4,
          "Time": 58
         },
         {
          "Donated": 1,
          "Frequency": 2,
          "Monetary": 500,
          "Recency": 21,
          "Time": 26
         },
         {
          "Donated": 2,
          "Frequency": 6,
          "Monetary": 1500,
          "Recency": 2,
          "Time": 28
         },
         {
          "Donated": 1,
          "Frequency": 6,
          "Monetary": 1500,
          "Recency": 2,
          "Time": 75
         },
         {
          "Donated": 1,
          "Frequency": 7,
          "Monetary": 1750,
          "Recency": 2,
          "Time": 76
         },
         {
          "Donated": 1,
          "Frequency": 4,
          "Monetary": 1000,
          "Recency": 11,
          "Time": 61
         },
         {
          "Donated": 1,
          "Frequency": 9,
          "Monetary": 2250,
          "Recency": 1,
          "Time": 51
         },
         {
          "Donated": 1,
          "Frequency": 2,
          "Monetary": 500,
          "Recency": 2,
          "Time": 14
         },
         {
          "Donated": 1,
          "Frequency": 9,
          "Monetary": 2250,
          "Recency": 2,
          "Time": 75
         },
         {
          "Donated": 1,
          "Frequency": 5,
          "Monetary": 1250,
          "Recency": 4,
          "Time": 23
         },
         {
          "Donated": 1,
          "Frequency": 2,
          "Monetary": 500,
          "Recency": 14,
          "Time": 16
         },
         {
          "Donated": 1,
          "Frequency": 9,
          "Monetary": 2250,
          "Recency": 12,
          "Time": 60
         },
         {
          "Donated": 2,
          "Frequency": 7,
          "Monetary": 1750,
          "Recency": 16,
          "Time": 87
         },
         {
          "Donated": 2,
          "Frequency": 34,
          "Monetary": 8500,
          "Recency": 2,
          "Time": 77
         },
         {
          "Donated": 1,
          "Frequency": 38,
          "Monetary": 9500,
          "Recency": 23,
          "Time": 98
         },
         {
          "Donated": 1,
          "Frequency": 7,
          "Monetary": 1750,
          "Recency": 14,
          "Time": 45
         },
         {
          "Donated": 1,
          "Frequency": 11,
          "Monetary": 2750,
          "Recency": 2,
          "Time": 23
         },
         {
          "Donated": 1,
          "Frequency": 3,
          "Monetary": 750,
          "Recency": 11,
          "Time": 76
         },
         {
          "Donated": 2,
          "Frequency": 4,
          "Monetary": 1000,
          "Recency": 14,
          "Time": 22
         },
         {
          "Donated": 1,
          "Frequency": 1,
          "Monetary": 250,
          "Recency": 16,
          "Time": 16
         },
         {
          "Donated": 1,
          "Frequency": 4,
          "Monetary": 1000,
          "Recency": 4,
          "Time": 26
         },
         {
          "Donated": 1,
          "Frequency": 2,
          "Monetary": 500,
          "Recency": 11,
          "Time": 52
         },
         {
          "Donated": 1,
          "Frequency": 1,
          "Monetary": 250,
          "Recency": 2,
          "Time": 2
         },
         {
          "Donated": 1,
          "Frequency": 1,
          "Monetary": 250,
          "Recency": 21,
          "Time": 21
         },
         {
          "Donated": 1,
          "Frequency": 2,
          "Monetary": 500,
          "Recency": 4,
          "Time": 4
         },
         {
          "Donated": 1,
          "Frequency": 1,
          "Monetary": 250,
          "Recency": 16,
          "Time": 16
         },
         {
          "Donated": 2,
          "Frequency": 2,
          "Monetary": 500,
          "Recency": 2,
          "Time": 11
         },
         {
          "Donated": 1,
          "Frequency": 3,
          "Monetary": 750,
          "Recency": 14,
          "Time": 79
         },
         {
          "Donated": 1,
          "Frequency": 44,
          "Monetary": 11000,
          "Recency": 2,
          "Time": 98
         },
         {
          "Donated": 2,
          "Frequency": 5,
          "Monetary": 1250,
          "Recency": 26,
          "Time": 49
         },
         {
          "Donated": 1,
          "Frequency": 3,
          "Monetary": 750,
          "Recency": 16,
          "Time": 23
         },
         {
          "Donated": 1,
          "Frequency": 6,
          "Monetary": 1500,
          "Recency": 4,
          "Time": 30
         },
         {
          "Donated": 1,
          "Frequency": 5,
          "Monetary": 1250,
          "Recency": 4,
          "Time": 28
         },
         {
          "Donated": 1,
          "Frequency": 3,
          "Monetary": 750,
          "Recency": 14,
          "Time": 28
         },
         {
          "Donated": 2,
          "Frequency": 16,
          "Monetary": 4000,
          "Recency": 4,
          "Time": 98
         },
         {
          "Donated": 1,
          "Frequency": 6,
          "Monetary": 1500,
          "Recency": 4,
          "Time": 47
         },
         {
          "Donated": 2,
          "Frequency": 1,
          "Monetary": 250,
          "Recency": 4,
          "Time": 4
         },
         {
          "Donated": 1,
          "Frequency": 9,
          "Monetary": 2250,
          "Recency": 9,
          "Time": 54
         },
         {
          "Donated": 1,
          "Frequency": 7,
          "Monetary": 1750,
          "Recency": 23,
          "Time": 88
         },
         {
          "Donated": 1,
          "Frequency": 1,
          "Monetary": 250,
          "Recency": 11,
          "Time": 11
         },
         {
          "Donated": 1,
          "Frequency": 1,
          "Monetary": 250,
          "Recency": 23,
          "Time": 23
         },
         {
          "Donated": 2,
          "Frequency": 6,
          "Monetary": 1500,
          "Recency": 4,
          "Time": 38
         },
         {
          "Donated": 1,
          "Frequency": 3,
          "Monetary": 750,
          "Recency": 23,
          "Time": 40
         },
         {
          "Donated": 1,
          "Frequency": 3,
          "Monetary": 750,
          "Recency": 16,
          "Time": 46
         },
         {
          "Donated": 1,
          "Frequency": 1,
          "Monetary": 250,
          "Recency": 4,
          "Time": 4
         },
         {
          "Donated": 1,
          "Frequency": 7,
          "Monetary": 1750,
          "Recency": 11,
          "Time": 37
         },
         {
          "Donated": 1,
          "Frequency": 3,
          "Monetary": 750,
          "Recency": 23,
          "Time": 28
         },
         {
          "Donated": 1,
          "Frequency": 6,
          "Monetary": 1500,
          "Recency": 23,
          "Time": 45
         },
         {
          "Donated": 1,
          "Frequency": 1,
          "Monetary": 250,
          "Recency": 38,
          "Time": 38
         },
         {
          "Donated": 1,
          "Frequency": 2,
          "Monetary": 500,
          "Recency": 16,
          "Time": 70
         },
         {
          "Donated": 1,
          "Frequency": 1,
          "Monetary": 250,
          "Recency": 21,
          "Time": 21
         },
         {
          "Donated": 2,
          "Frequency": 4,
          "Monetary": 1000,
          "Recency": 2,
          "Time": 16
         },
         {
          "Donated": 2,
          "Frequency": 6,
          "Monetary": 1500,
          "Recency": 4,
          "Time": 28
         },
         {
          "Donated": 1,
          "Frequency": 4,
          "Monetary": 1000,
          "Recency": 14,
          "Time": 26
         },
         {
          "Donated": 1,
          "Frequency": 3,
          "Monetary": 750,
          "Recency": 11,
          "Time": 26
         },
         {
          "Donated": 1,
          "Frequency": 16,
          "Monetary": 4000,
          "Recency": 3,
          "Time": 74
         },
         {
          "Donated": 1,
          "Frequency": 7,
          "Monetary": 1750,
          "Recency": 13,
          "Time": 76
         },
         {
          "Donated": 1,
          "Frequency": 2,
          "Monetary": 500,
          "Recency": 2,
          "Time": 16
         },
         {
          "Donated": 2,
          "Frequency": 9,
          "Monetary": 2250,
          "Recency": 2,
          "Time": 22
         },
         {
          "Donated": 1,
          "Frequency": 2,
          "Monetary": 500,
          "Recency": 2,
          "Time": 4
         },
         {
          "Donated": 2,
          "Frequency": 2,
          "Monetary": 500,
          "Recency": 14,
          "Time": 14
         },
         {
          "Donated": 1,
          "Frequency": 16,
          "Monetary": 4000,
          "Recency": 2,
          "Time": 81
         },
         {
          "Donated": 1,
          "Frequency": 3,
          "Monetary": 750,
          "Recency": 23,
          "Time": 41
         },
         {
          "Donated": 1,
          "Frequency": 4,
          "Monetary": 1000,
          "Recency": 14,
          "Time": 57
         },
         {
          "Donated": 1,
          "Frequency": 1,
          "Monetary": 250,
          "Recency": 14,
          "Time": 14
         },
         {
          "Donated": 1,
          "Frequency": 1,
          "Monetary": 250,
          "Recency": 23,
          "Time": 23
         },
         {
          "Donated": 1,
          "Frequency": 1,
          "Monetary": 250,
          "Recency": 38,
          "Time": 38
         },
         {
          "Donated": 1,
          "Frequency": 3,
          "Monetary": 750,
          "Recency": 21,
          "Time": 35
         },
         {
          "Donated": 1,
          "Frequency": 5,
          "Monetary": 1250,
          "Recency": 11,
          "Time": 41
         },
         {
          "Donated": 1,
          "Frequency": 6,
          "Monetary": 1500,
          "Recency": 11,
          "Time": 71
         },
         {
          "Donated": 1,
          "Frequency": 1,
          "Monetary": 250,
          "Recency": 16,
          "Time": 16
         },
         {
          "Donated": 1,
          "Frequency": 14,
          "Monetary": 3500,
          "Recency": 5,
          "Time": 86
         },
         {
          "Donated": 1,
          "Frequency": 2,
          "Monetary": 500,
          "Recency": 4,
          "Time": 4
         },
         {
          "Donated": 2,
          "Frequency": 8,
          "Monetary": 2000,
          "Recency": 14,
          "Time": 50
         },
         {
          "Donated": 2,
          "Frequency": 5,
          "Monetary": 1250,
          "Recency": 9,
          "Time": 51
         },
         {
          "Donated": 1,
          "Frequency": 7,
          "Monetary": 1750,
          "Recency": 2,
          "Time": 29
         },
         {
          "Donated": 1,
          "Frequency": 6,
          "Monetary": 1500,
          "Recency": 21,
          "Time": 86
         },
         {
          "Donated": 1,
          "Frequency": 7,
          "Monetary": 1750,
          "Recency": 14,
          "Time": 72
         },
         {
          "Donated": 1,
          "Frequency": 2,
          "Monetary": 500,
          "Recency": 16,
          "Time": 26
         },
         {
          "Donated": 1,
          "Frequency": 4,
          "Monetary": 1000,
          "Recency": 14,
          "Time": 64
         },
         {
          "Donated": 1,
          "Frequency": 2,
          "Monetary": 500,
          "Recency": 14,
          "Time": 14
         },
         {
          "Donated": 1,
          "Frequency": 1,
          "Monetary": 250,
          "Recency": 21,
          "Time": 21
         },
         {
          "Donated": 1,
          "Frequency": 5,
          "Monetary": 1250,
          "Recency": 14,
          "Time": 28
         },
         {
          "Donated": 1,
          "Frequency": 2,
          "Monetary": 500,
          "Recency": 4,
          "Time": 29
         },
         {
          "Donated": 1,
          "Frequency": 1,
          "Monetary": 250,
          "Recency": 14,
          "Time": 14
         },
         {
          "Donated": 1,
          "Frequency": 9,
          "Monetary": 2250,
          "Recency": 2,
          "Time": 36
         },
         {
          "Donated": 1,
          "Frequency": 2,
          "Monetary": 500,
          "Recency": 4,
          "Time": 4
         },
         {
          "Donated": 1,
          "Frequency": 10,
          "Monetary": 2500,
          "Recency": 2,
          "Time": 64
         },
         {
          "Donated": 1,
          "Frequency": 6,
          "Monetary": 1500,
          "Recency": 14,
          "Time": 51
         },
         {
          "Donated": 2,
          "Frequency": 14,
          "Monetary": 3500,
          "Recency": 2,
          "Time": 48
         },
         {
          "Donated": 1,
          "Frequency": 3,
          "Monetary": 750,
          "Recency": 23,
          "Time": 89
         },
         {
          "Donated": 1,
          "Frequency": 11,
          "Monetary": 2750,
          "Recency": 11,
          "Time": 42
         },
         {
          "Donated": 1,
          "Frequency": 2,
          "Monetary": 500,
          "Recency": 23,
          "Time": 23
         },
         {
          "Donated": 1,
          "Frequency": 5,
          "Monetary": 1250,
          "Recency": 2,
          "Time": 63
         },
         {
          "Donated": 1,
          "Frequency": 5,
          "Monetary": 1250,
          "Recency": 23,
          "Time": 33
         },
         {
          "Donated": 2,
          "Frequency": 2,
          "Monetary": 500,
          "Recency": 2,
          "Time": 4
         },
         {
          "Donated": 1,
          "Frequency": 14,
          "Monetary": 3500,
          "Recency": 23,
          "Time": 93
         },
         {
          "Donated": 1,
          "Frequency": 9,
          "Monetary": 2250,
          "Recency": 2,
          "Time": 74
         },
         {
          "Donated": 1,
          "Frequency": 7,
          "Monetary": 1750,
          "Recency": 11,
          "Time": 29
         },
         {
          "Donated": 1,
          "Frequency": 4,
          "Monetary": 1000,
          "Recency": 21,
          "Time": 52
         },
         {
          "Donated": 2,
          "Frequency": 6,
          "Monetary": 1500,
          "Recency": 2,
          "Time": 15
         },
         {
          "Donated": 1,
          "Frequency": 2,
          "Monetary": 500,
          "Recency": 4,
          "Time": 4
         },
         {
          "Donated": 2,
          "Frequency": 4,
          "Monetary": 1000,
          "Recency": 4,
          "Time": 43
         },
         {
          "Donated": 1,
          "Frequency": 2,
          "Monetary": 500,
          "Recency": 2,
          "Time": 23
         },
         {
          "Donated": 2,
          "Frequency": 1,
          "Monetary": 250,
          "Recency": 4,
          "Time": 4
         },
         {
          "Donated": 1,
          "Frequency": 12,
          "Monetary": 3000,
          "Recency": 12,
          "Time": 58
         },
         {
          "Donated": 2,
          "Frequency": 20,
          "Monetary": 5000,
          "Recency": 2,
          "Time": 45
         },
         {
          "Donated": 1,
          "Frequency": 4,
          "Monetary": 1000,
          "Recency": 16,
          "Time": 28
         },
         {
          "Donated": 1,
          "Frequency": 3,
          "Monetary": 750,
          "Recency": 21,
          "Time": 64
         },
         {
          "Donated": 1,
          "Frequency": 1,
          "Monetary": 250,
          "Recency": 4,
          "Time": 4
         },
         {
          "Donated": 1,
          "Frequency": 3,
          "Monetary": 750,
          "Recency": 14,
          "Time": 83
         },
         {
          "Donated": 1,
          "Frequency": 2,
          "Monetary": 500,
          "Recency": 16,
          "Time": 16
         },
         {
          "Donated": 1,
          "Frequency": 2,
          "Monetary": 500,
          "Recency": 2,
          "Time": 11
         },
         {
          "Donated": 1,
          "Frequency": 2,
          "Monetary": 500,
          "Recency": 0,
          "Time": 4
         },
         {
          "Donated": 1,
          "Frequency": 6,
          "Monetary": 1500,
          "Recency": 4,
          "Time": 14
         },
         {
          "Donated": 1,
          "Frequency": 6,
          "Monetary": 1500,
          "Recency": 11,
          "Time": 58
         },
         {
          "Donated": 2,
          "Frequency": 8,
          "Monetary": 2000,
          "Recency": 4,
          "Time": 26
         },
         {
          "Donated": 1,
          "Frequency": 6,
          "Monetary": 1500,
          "Recency": 14,
          "Time": 34
         },
         {
          "Donated": 2,
          "Frequency": 11,
          "Monetary": 2750,
          "Recency": 2,
          "Time": 46
         },
         {
          "Donated": 1,
          "Frequency": 14,
          "Monetary": 3500,
          "Recency": 3,
          "Time": 35
         },
         {
          "Donated": 1,
          "Frequency": 5,
          "Monetary": 1250,
          "Recency": 21,
          "Time": 60
         },
         {
          "Donated": 2,
          "Frequency": 5,
          "Monetary": 1250,
          "Recency": 4,
          "Time": 16
         },
         {
          "Donated": 2,
          "Frequency": 5,
          "Monetary": 1250,
          "Recency": 11,
          "Time": 37
         },
         {
          "Donated": 1,
          "Frequency": 2,
          "Monetary": 500,
          "Recency": 14,
          "Time": 35
         },
         {
          "Donated": 2,
          "Frequency": 6,
          "Monetary": 1500,
          "Recency": 2,
          "Time": 26
         },
         {
          "Donated": 1,
          "Frequency": 3,
          "Monetary": 750,
          "Recency": 14,
          "Time": 26
         },
         {
          "Donated": 1,
          "Frequency": 5,
          "Monetary": 1250,
          "Recency": 4,
          "Time": 34
         },
         {
          "Donated": 1,
          "Frequency": 4,
          "Monetary": 1000,
          "Recency": 4,
          "Time": 18
         },
         {
          "Donated": 2,
          "Frequency": 2,
          "Monetary": 500,
          "Recency": 2,
          "Time": 10
         },
         {
          "Donated": 1,
          "Frequency": 16,
          "Monetary": 4000,
          "Recency": 21,
          "Time": 64
         },
         {
          "Donated": 1,
          "Frequency": 2,
          "Monetary": 500,
          "Recency": 9,
          "Time": 11
         },
         {
          "Donated": 1,
          "Frequency": 3,
          "Monetary": 750,
          "Recency": 2,
          "Time": 35
         },
         {
          "Donated": 1,
          "Frequency": 4,
          "Monetary": 1000,
          "Recency": 11,
          "Time": 58
         },
         {
          "Donated": 1,
          "Frequency": 1,
          "Monetary": 250,
          "Recency": 2,
          "Time": 2
         },
         {
          "Donated": 1,
          "Frequency": 3,
          "Monetary": 750,
          "Recency": 14,
          "Time": 31
         },
         {
          "Donated": 1,
          "Frequency": 1,
          "Monetary": 250,
          "Recency": 39,
          "Time": 39
         },
         {
          "Donated": 1,
          "Frequency": 1,
          "Monetary": 250,
          "Recency": 2,
          "Time": 2
         },
         {
          "Donated": 2,
          "Frequency": 2,
          "Monetary": 500,
          "Recency": 11,
          "Time": 38
         },
         {
          "Donated": 1,
          "Frequency": 1,
          "Monetary": 250,
          "Recency": 2,
          "Time": 2
         },
         {
          "Donated": 1,
          "Frequency": 1,
          "Monetary": 250,
          "Recency": 16,
          "Time": 16
         },
         {
          "Donated": 1,
          "Frequency": 7,
          "Monetary": 1750,
          "Recency": 16,
          "Time": 28
         },
         {
          "Donated": 1,
          "Frequency": 1,
          "Monetary": 250,
          "Recency": 23,
          "Time": 23
         },
         {
          "Donated": 1,
          "Frequency": 3,
          "Monetary": 750,
          "Recency": 6,
          "Time": 14
         },
         {
          "Donated": 1,
          "Frequency": 4,
          "Monetary": 1000,
          "Recency": 16,
          "Time": 40
         },
         {
          "Donated": 1,
          "Frequency": 1,
          "Monetary": 250,
          "Recency": 16,
          "Time": 16
         },
         {
          "Donated": 2,
          "Frequency": 4,
          "Monetary": 1000,
          "Recency": 3,
          "Time": 29
         },
         {
          "Donated": 1,
          "Frequency": 4,
          "Monetary": 1000,
          "Recency": 23,
          "Time": 52
         },
         {
          "Donated": 2,
          "Frequency": 14,
          "Monetary": 3500,
          "Recency": 20,
          "Time": 69
         },
         {
          "Donated": 1,
          "Frequency": 1,
          "Monetary": 250,
          "Recency": 2,
          "Time": 2
         },
         {
          "Donated": 2,
          "Frequency": 4,
          "Monetary": 1000,
          "Recency": 14,
          "Time": 23
         },
         {
          "Donated": 1,
          "Frequency": 1,
          "Monetary": 250,
          "Recency": 16,
          "Time": 16
         },
         {
          "Donated": 1,
          "Frequency": 9,
          "Monetary": 2250,
          "Recency": 8,
          "Time": 64
         },
         {
          "Donated": 1,
          "Frequency": 1,
          "Monetary": 250,
          "Recency": 4,
          "Time": 4
         },
         {
          "Donated": 1,
          "Frequency": 2,
          "Monetary": 500,
          "Recency": 9,
          "Time": 26
         },
         {
          "Donated": 2,
          "Frequency": 4,
          "Monetary": 1000,
          "Recency": 4,
          "Time": 26
         },
         {
          "Donated": 1,
          "Frequency": 1,
          "Monetary": 250,
          "Recency": 14,
          "Time": 14
         },
         {
          "Donated": 2,
          "Frequency": 7,
          "Monetary": 1750,
          "Recency": 5,
          "Time": 26
         },
         {
          "Donated": 1,
          "Frequency": 3,
          "Monetary": 750,
          "Recency": 2,
          "Time": 19
         },
         {
          "Donated": 2,
          "Frequency": 4,
          "Monetary": 1000,
          "Recency": 11,
          "Time": 16
         },
         {
          "Donated": 2,
          "Frequency": 26,
          "Monetary": 6500,
          "Recency": 0,
          "Time": 76
         },
         {
          "Donated": 1,
          "Frequency": 8,
          "Monetary": 2000,
          "Recency": 3,
          "Time": 50
         },
         {
          "Donated": 2,
          "Frequency": 1,
          "Monetary": 250,
          "Recency": 3,
          "Time": 3
         },
         {
          "Donated": 1,
          "Frequency": 2,
          "Monetary": 500,
          "Recency": 21,
          "Time": 52
         },
         {
          "Donated": 2,
          "Frequency": 7,
          "Monetary": 1750,
          "Recency": 4,
          "Time": 22
         },
         {
          "Donated": 1,
          "Frequency": 4,
          "Monetary": 1000,
          "Recency": 14,
          "Time": 30
         },
         {
          "Donated": 2,
          "Frequency": 16,
          "Monetary": 4000,
          "Recency": 1,
          "Time": 35
         },
         {
          "Donated": 1,
          "Frequency": 3,
          "Monetary": 750,
          "Recency": 21,
          "Time": 38
         },
         {
          "Donated": 1,
          "Frequency": 7,
          "Monetary": 1750,
          "Recency": 4,
          "Time": 25
         },
         {
          "Donated": 1,
          "Frequency": 6,
          "Monetary": 1500,
          "Recency": 11,
          "Time": 27
         },
         {
          "Donated": 1,
          "Frequency": 1,
          "Monetary": 250,
          "Recency": 4,
          "Time": 4
         },
         {
          "Donated": 1,
          "Frequency": 2,
          "Monetary": 500,
          "Recency": 21,
          "Time": 23
         },
         {
          "Donated": 2,
          "Frequency": 3,
          "Monetary": 750,
          "Recency": 11,
          "Time": 16
         },
         {
          "Donated": 1,
          "Frequency": 3,
          "Monetary": 750,
          "Recency": 9,
          "Time": 34
         },
         {
          "Donated": 1,
          "Frequency": 1,
          "Monetary": 250,
          "Recency": 16,
          "Time": 16
         },
         {
          "Donated": 1,
          "Frequency": 9,
          "Monetary": 2250,
          "Recency": 4,
          "Time": 46
         },
         {
          "Donated": 2,
          "Frequency": 1,
          "Monetary": 250,
          "Recency": 4,
          "Time": 4
         },
         {
          "Donated": 1,
          "Frequency": 14,
          "Monetary": 3500,
          "Recency": 1,
          "Time": 95
         },
         {
          "Donated": 1,
          "Frequency": 2,
          "Monetary": 500,
          "Recency": 2,
          "Time": 4
         },
         {
          "Donated": 1,
          "Frequency": 2,
          "Monetary": 500,
          "Recency": 2,
          "Time": 2
         },
         {
          "Donated": 1,
          "Frequency": 4,
          "Monetary": 1000,
          "Recency": 11,
          "Time": 27
         },
         {
          "Donated": 2,
          "Frequency": 8,
          "Monetary": 2000,
          "Recency": 4,
          "Time": 40
         },
         {
          "Donated": 1,
          "Frequency": 17,
          "Monetary": 4250,
          "Recency": 3,
          "Time": 86
         },
         {
          "Donated": 1,
          "Frequency": 1,
          "Monetary": 250,
          "Recency": 4,
          "Time": 4
         },
         {
          "Donated": 1,
          "Frequency": 6,
          "Monetary": 1500,
          "Recency": 2,
          "Time": 45
         },
         {
          "Donated": 2,
          "Frequency": 5,
          "Monetary": 1250,
          "Recency": 2,
          "Time": 33
         },
         {
          "Donated": 1,
          "Frequency": 8,
          "Monetary": 2000,
          "Recency": 0,
          "Time": 59
         },
         {
          "Donated": 1,
          "Frequency": 5,
          "Monetary": 1250,
          "Recency": 3,
          "Time": 38
         },
         {
          "Donated": 2,
          "Frequency": 15,
          "Monetary": 3750,
          "Recency": 2,
          "Time": 49
         },
         {
          "Donated": 1,
          "Frequency": 3,
          "Monetary": 750,
          "Recency": 16,
          "Time": 86
         },
         {
          "Donated": 2,
          "Frequency": 4,
          "Monetary": 1000,
          "Recency": 4,
          "Time": 14
         },
         {
          "Donated": 1,
          "Frequency": 4,
          "Monetary": 1000,
          "Recency": 11,
          "Time": 34
         },
         {
          "Donated": 1,
          "Frequency": 1,
          "Monetary": 250,
          "Recency": 14,
          "Time": 14
         },
         {
          "Donated": 2,
          "Frequency": 2,
          "Monetary": 500,
          "Recency": 14,
          "Time": 21
         },
         {
          "Donated": 2,
          "Frequency": 4,
          "Monetary": 1000,
          "Recency": 4,
          "Time": 4
         }
        ]
       },
       "encoding": {
        "x": {
         "field": "Recency",
         "type": "quantitative"
        },
        "y": {
         "aggregate": "count",
         "title": "Number of Donors",
         "type": "quantitative"
        }
       },
       "mark": "bar",
       "title": "Donor Recency Distribution"
      },
      "image/png": "[encoded data removed]",
      "text/plain": [
       "<VegaLite 3 object>\n",
       "\n",
       "If you see this message, it means the renderer has not been properly enabled\n",
       "for the frontend that you are using. For more information, see\n",
       "https://altair-viz.github.io/user_guide/troubleshooting.html\n"
      ]
     },
     "execution_count": 13,
     "metadata": {},
     "output_type": "execute_result"
    }
   ],
   "source": [
    "alt.Chart(blood_df_train).mark_bar().encode(\n",
    "    alt.X(\"Recency\"),\n",
    "    alt.Y(\"count()\", title = \"Number of Donors\"),\n",
    ").properties(title = \"Donor Recency Distribution\")"
   ]
  },
  {
   "cell_type": "code",
   "execution_count": 14,
   "metadata": {},
   "outputs": [
    {
     "data": {
      "application/vnd.vegalite.v3+json": {
       "$schema": "https://vega.github.io/schema/vega-lite/v3.4.0.json",
       "config": {
        "mark": {
         "tooltip": null
        },
        "view": {
         "height": 300,
         "width": 400
        }
       },
       "data": {
        "name": "data-32548e9b1b08a896c9597c0c8174a7e1"
       },
       "datasets": {
        "data-32548e9b1b08a896c9597c0c8174a7e1": [
         {
          "Donated": 1,
          "Frequency": 9,
          "Monetary": 2250,
          "Recency": 8,
          "Time": 58
         },
         {
          "Donated": 1,
          "Frequency": 4,
          "Monetary": 1000,
          "Recency": 13,
          "Time": 21
         },
         {
          "Donated": 1,
          "Frequency": 6,
          "Monetary": 1500,
          "Recency": 4,
          "Time": 39
         },
         {
          "Donated": 1,
          "Frequency": 5,
          "Monetary": 1250,
          "Recency": 4,
          "Time": 46
         },
         {
          "Donated": 1,
          "Frequency": 6,
          "Monetary": 1500,
          "Recency": 3,
          "Time": 21
         },
         {
          "Donated": 1,
          "Frequency": 1,
          "Monetary": 250,
          "Recency": 9,
          "Time": 9
         },
         {
          "Donated": 1,
          "Frequency": 2,
          "Monetary": 500,
          "Recency": 14,
          "Time": 14
         },
         {
          "Donated": 1,
          "Frequency": 7,
          "Monetary": 1750,
          "Recency": 2,
          "Time": 77
         },
         {
          "Donated": 1,
          "Frequency": 2,
          "Monetary": 500,
          "Recency": 2,
          "Time": 41
         },
         {
          "Donated": 1,
          "Frequency": 2,
          "Monetary": 500,
          "Recency": 9,
          "Time": 52
         },
         {
          "Donated": 1,
          "Frequency": 1,
          "Monetary": 250,
          "Recency": 23,
          "Time": 23
         },
         {
          "Donated": 1,
          "Frequency": 4,
          "Monetary": 1000,
          "Recency": 16,
          "Time": 58
         },
         {
          "Donated": 1,
          "Frequency": 4,
          "Monetary": 1000,
          "Recency": 2,
          "Time": 26
         },
         {
          "Donated": 2,
          "Frequency": 2,
          "Monetary": 500,
          "Recency": 4,
          "Time": 4
         },
         {
          "Donated": 1,
          "Frequency": 3,
          "Monetary": 750,
          "Recency": 23,
          "Time": 35
         },
         {
          "Donated": 2,
          "Frequency": 1,
          "Monetary": 250,
          "Recency": 2,
          "Time": 2
         },
         {
          "Donated": 1,
          "Frequency": 4,
          "Monetary": 1000,
          "Recency": 9,
          "Time": 65
         },
         {
          "Donated": 2,
          "Frequency": 3,
          "Monetary": 750,
          "Recency": 14,
          "Time": 19
         },
         {
          "Donated": 1,
          "Frequency": 7,
          "Monetary": 1750,
          "Recency": 4,
          "Time": 58
         },
         {
          "Donated": 1,
          "Frequency": 16,
          "Monetary": 4000,
          "Recency": 2,
          "Time": 64
         },
         {
          "Donated": 1,
          "Frequency": 1,
          "Monetary": 250,
          "Recency": 4,
          "Time": 4
         },
         {
          "Donated": 1,
          "Frequency": 1,
          "Monetary": 250,
          "Recency": 40,
          "Time": 40
         },
         {
          "Donated": 1,
          "Frequency": 2,
          "Monetary": 500,
          "Recency": 14,
          "Time": 14
         },
         {
          "Donated": 1,
          "Frequency": 10,
          "Monetary": 2500,
          "Recency": 16,
          "Time": 89
         },
         {
          "Donated": 1,
          "Frequency": 6,
          "Monetary": 1500,
          "Recency": 23,
          "Time": 70
         },
         {
          "Donated": 1,
          "Frequency": 7,
          "Monetary": 1750,
          "Recency": 4,
          "Time": 62
         },
         {
          "Donated": 1,
          "Frequency": 6,
          "Monetary": 1500,
          "Recency": 4,
          "Time": 52
         },
         {
          "Donated": 2,
          "Frequency": 10,
          "Monetary": 2500,
          "Recency": 4,
          "Time": 28
         },
         {
          "Donated": 1,
          "Frequency": 4,
          "Monetary": 1000,
          "Recency": 11,
          "Time": 74
         },
         {
          "Donated": 1,
          "Frequency": 2,
          "Monetary": 500,
          "Recency": 4,
          "Time": 14
         },
         {
          "Donated": 2,
          "Frequency": 2,
          "Monetary": 500,
          "Recency": 21,
          "Time": 21
         },
         {
          "Donated": 1,
          "Frequency": 6,
          "Monetary": 1500,
          "Recency": 16,
          "Time": 81
         },
         {
          "Donated": 1,
          "Frequency": 4,
          "Monetary": 1000,
          "Recency": 11,
          "Time": 28
         },
         {
          "Donated": 2,
          "Frequency": 33,
          "Monetary": 8250,
          "Recency": 4,
          "Time": 98
         },
         {
          "Donated": 1,
          "Frequency": 1,
          "Monetary": 250,
          "Recency": 72,
          "Time": 72
         },
         {
          "Donated": 2,
          "Frequency": 7,
          "Monetary": 1750,
          "Recency": 2,
          "Time": 32
         },
         {
          "Donated": 1,
          "Frequency": 3,
          "Monetary": 750,
          "Recency": 16,
          "Time": 19
         },
         {
          "Donated": 1,
          "Frequency": 3,
          "Monetary": 750,
          "Recency": 11,
          "Time": 15
         },
         {
          "Donated": 2,
          "Frequency": 3,
          "Monetary": 750,
          "Recency": 2,
          "Time": 16
         },
         {
          "Donated": 1,
          "Frequency": 1,
          "Monetary": 250,
          "Recency": 4,
          "Time": 4
         },
         {
          "Donated": 1,
          "Frequency": 4,
          "Monetary": 1000,
          "Recency": 2,
          "Time": 26
         },
         {
          "Donated": 1,
          "Frequency": 1,
          "Monetary": 250,
          "Recency": 4,
          "Time": 4
         },
         {
          "Donated": 2,
          "Frequency": 43,
          "Monetary": 10750,
          "Recency": 2,
          "Time": 86
         },
         {
          "Donated": 2,
          "Frequency": 11,
          "Monetary": 2750,
          "Recency": 4,
          "Time": 64
         },
         {
          "Donated": 2,
          "Frequency": 6,
          "Monetary": 1500,
          "Recency": 4,
          "Time": 23
         },
         {
          "Donated": 1,
          "Frequency": 3,
          "Monetary": 750,
          "Recency": 2,
          "Time": 24
         },
         {
          "Donated": 1,
          "Frequency": 13,
          "Monetary": 3250,
          "Recency": 12,
          "Time": 59
         },
         {
          "Donated": 1,
          "Frequency": 15,
          "Monetary": 3750,
          "Recency": 12,
          "Time": 71
         },
         {
          "Donated": 1,
          "Frequency": 12,
          "Monetary": 3000,
          "Recency": 11,
          "Time": 58
         },
         {
          "Donated": 1,
          "Frequency": 4,
          "Monetary": 1000,
          "Recency": 2,
          "Time": 11
         },
         {
          "Donated": 1,
          "Frequency": 1,
          "Monetary": 250,
          "Recency": 2,
          "Time": 2
         },
         {
          "Donated": 1,
          "Frequency": 2,
          "Monetary": 500,
          "Recency": 21,
          "Time": 21
         },
         {
          "Donated": 1,
          "Frequency": 4,
          "Monetary": 1000,
          "Recency": 2,
          "Time": 35
         },
         {
          "Donated": 2,
          "Frequency": 3,
          "Monetary": 750,
          "Recency": 4,
          "Time": 25
         },
         {
          "Donated": 1,
          "Frequency": 4,
          "Monetary": 1000,
          "Recency": 10,
          "Time": 16
         },
         {
          "Donated": 1,
          "Frequency": 1,
          "Monetary": 250,
          "Recency": 21,
          "Time": 21
         },
         {
          "Donated": 2,
          "Frequency": 2,
          "Monetary": 500,
          "Recency": 4,
          "Time": 4
         },
         {
          "Donated": 2,
          "Frequency": 6,
          "Monetary": 1500,
          "Recency": 2,
          "Time": 41
         },
         {
          "Donated": 2,
          "Frequency": 13,
          "Monetary": 3250,
          "Recency": 2,
          "Time": 53
         },
         {
          "Donated": 1,
          "Frequency": 9,
          "Monetary": 2250,
          "Recency": 4,
          "Time": 40
         },
         {
          "Donated": 2,
          "Frequency": 1,
          "Monetary": 250,
          "Recency": 23,
          "Time": 23
         },
         {
          "Donated": 1,
          "Frequency": 15,
          "Monetary": 3750,
          "Recency": 2,
          "Time": 64
         },
         {
          "Donated": 1,
          "Frequency": 3,
          "Monetary": 750,
          "Recency": 2,
          "Time": 21
         },
         {
          "Donated": 1,
          "Frequency": 2,
          "Monetary": 500,
          "Recency": 23,
          "Time": 23
         },
         {
          "Donated": 1,
          "Frequency": 1,
          "Monetary": 250,
          "Recency": 4,
          "Time": 4
         },
         {
          "Donated": 2,
          "Frequency": 4,
          "Monetary": 1000,
          "Recency": 2,
          "Time": 14
         },
         {
          "Donated": 1,
          "Frequency": 2,
          "Monetary": 500,
          "Recency": 2,
          "Time": 11
         },
         {
          "Donated": 1,
          "Frequency": 6,
          "Monetary": 1500,
          "Recency": 11,
          "Time": 28
         },
         {
          "Donated": 1,
          "Frequency": 4,
          "Monetary": 1000,
          "Recency": 23,
          "Time": 87
         },
         {
          "Donated": 2,
          "Frequency": 6,
          "Monetary": 1500,
          "Recency": 2,
          "Time": 28
         },
         {
          "Donated": 2,
          "Frequency": 11,
          "Monetary": 2750,
          "Recency": 9,
          "Time": 49
         },
         {
          "Donated": 1,
          "Frequency": 3,
          "Monetary": 750,
          "Recency": 23,
          "Time": 33
         },
         {
          "Donated": 1,
          "Frequency": 1,
          "Monetary": 250,
          "Recency": 2,
          "Time": 2
         },
         {
          "Donated": 2,
          "Frequency": 2,
          "Monetary": 500,
          "Recency": 2,
          "Time": 4
         },
         {
          "Donated": 1,
          "Frequency": 16,
          "Monetary": 4000,
          "Recency": 14,
          "Time": 70
         },
         {
          "Donated": 2,
          "Frequency": 8,
          "Monetary": 2000,
          "Recency": 8,
          "Time": 52
         },
         {
          "Donated": 2,
          "Frequency": 8,
          "Monetary": 2000,
          "Recency": 4,
          "Time": 34
         },
         {
          "Donated": 1,
          "Frequency": 5,
          "Monetary": 1250,
          "Recency": 7,
          "Time": 35
         },
         {
          "Donated": 1,
          "Frequency": 5,
          "Monetary": 1250,
          "Recency": 4,
          "Time": 58
         },
         {
          "Donated": 1,
          "Frequency": 1,
          "Monetary": 250,
          "Recency": 11,
          "Time": 11
         },
         {
          "Donated": 2,
          "Frequency": 13,
          "Monetary": 3250,
          "Recency": 2,
          "Time": 76
         },
         {
          "Donated": 1,
          "Frequency": 7,
          "Monetary": 1750,
          "Recency": 4,
          "Time": 52
         },
         {
          "Donated": 1,
          "Frequency": 5,
          "Monetary": 1250,
          "Recency": 14,
          "Time": 50
         },
         {
          "Donated": 1,
          "Frequency": 8,
          "Monetary": 2000,
          "Recency": 14,
          "Time": 50
         },
         {
          "Donated": 1,
          "Frequency": 2,
          "Monetary": 500,
          "Recency": 4,
          "Time": 59
         },
         {
          "Donated": 1,
          "Frequency": 3,
          "Monetary": 750,
          "Recency": 11,
          "Time": 28
         },
         {
          "Donated": 1,
          "Frequency": 1,
          "Monetary": 250,
          "Recency": 23,
          "Time": 23
         },
         {
          "Donated": 1,
          "Frequency": 5,
          "Monetary": 1250,
          "Recency": 23,
          "Time": 58
         },
         {
          "Donated": 2,
          "Frequency": 5,
          "Monetary": 1250,
          "Recency": 4,
          "Time": 26
         },
         {
          "Donated": 2,
          "Frequency": 41,
          "Monetary": 10250,
          "Recency": 2,
          "Time": 98
         },
         {
          "Donated": 1,
          "Frequency": 5,
          "Monetary": 1250,
          "Recency": 4,
          "Time": 58
         },
         {
          "Donated": 1,
          "Frequency": 2,
          "Monetary": 500,
          "Recency": 14,
          "Time": 14
         },
         {
          "Donated": 2,
          "Frequency": 6,
          "Monetary": 1500,
          "Recency": 2,
          "Time": 16
         },
         {
          "Donated": 1,
          "Frequency": 3,
          "Monetary": 750,
          "Recency": 11,
          "Time": 76
         },
         {
          "Donated": 2,
          "Frequency": 3,
          "Monetary": 750,
          "Recency": 4,
          "Time": 16
         },
         {
          "Donated": 1,
          "Frequency": 2,
          "Monetary": 500,
          "Recency": 11,
          "Time": 70
         },
         {
          "Donated": 1,
          "Frequency": 2,
          "Monetary": 500,
          "Recency": 11,
          "Time": 11
         },
         {
          "Donated": 2,
          "Frequency": 16,
          "Monetary": 4000,
          "Recency": 4,
          "Time": 38
         },
         {
          "Donated": 1,
          "Frequency": 2,
          "Monetary": 500,
          "Recency": 11,
          "Time": 11
         },
         {
          "Donated": 1,
          "Frequency": 2,
          "Monetary": 500,
          "Recency": 14,
          "Time": 29
         },
         {
          "Donated": 1,
          "Frequency": 2,
          "Monetary": 500,
          "Recency": 3,
          "Time": 23
         },
         {
          "Donated": 1,
          "Frequency": 2,
          "Monetary": 500,
          "Recency": 4,
          "Time": 52
         },
         {
          "Donated": 1,
          "Frequency": 3,
          "Monetary": 750,
          "Recency": 4,
          "Time": 16
         },
         {
          "Donated": 1,
          "Frequency": 3,
          "Monetary": 750,
          "Recency": 4,
          "Time": 71
         },
         {
          "Donated": 1,
          "Frequency": 3,
          "Monetary": 750,
          "Recency": 14,
          "Time": 35
         },
         {
          "Donated": 2,
          "Frequency": 6,
          "Monetary": 1500,
          "Recency": 16,
          "Time": 35
         },
         {
          "Donated": 1,
          "Frequency": 7,
          "Monetary": 1750,
          "Recency": 14,
          "Time": 35
         },
         {
          "Donated": 2,
          "Frequency": 9,
          "Monetary": 2250,
          "Recency": 4,
          "Time": 28
         },
         {
          "Donated": 1,
          "Frequency": 1,
          "Monetary": 250,
          "Recency": 16,
          "Time": 16
         },
         {
          "Donated": 1,
          "Frequency": 1,
          "Monetary": 250,
          "Recency": 23,
          "Time": 23
         },
         {
          "Donated": 1,
          "Frequency": 10,
          "Monetary": 2500,
          "Recency": 2,
          "Time": 52
         },
         {
          "Donated": 1,
          "Frequency": 2,
          "Monetary": 500,
          "Recency": 4,
          "Time": 31
         },
         {
          "Donated": 1,
          "Frequency": 6,
          "Monetary": 1500,
          "Recency": 4,
          "Time": 14
         },
         {
          "Donated": 2,
          "Frequency": 5,
          "Monetary": 1250,
          "Recency": 4,
          "Time": 16
         },
         {
          "Donated": 2,
          "Frequency": 6,
          "Monetary": 1500,
          "Recency": 4,
          "Time": 35
         },
         {
          "Donated": 1,
          "Frequency": 1,
          "Monetary": 250,
          "Recency": 21,
          "Time": 21
         },
         {
          "Donated": 2,
          "Frequency": 9,
          "Monetary": 2250,
          "Recency": 4,
          "Time": 26
         },
         {
          "Donated": 1,
          "Frequency": 8,
          "Monetary": 2000,
          "Recency": 16,
          "Time": 76
         },
         {
          "Donated": 1,
          "Frequency": 5,
          "Monetary": 1250,
          "Recency": 11,
          "Time": 38
         },
         {
          "Donated": 1,
          "Frequency": 7,
          "Monetary": 1750,
          "Recency": 1,
          "Time": 57
         },
         {
          "Donated": 2,
          "Frequency": 5,
          "Monetary": 1250,
          "Recency": 2,
          "Time": 11
         },
         {
          "Donated": 1,
          "Frequency": 6,
          "Monetary": 1500,
          "Recency": 16,
          "Time": 35
         },
         {
          "Donated": 2,
          "Frequency": 5,
          "Monetary": 1250,
          "Recency": 2,
          "Time": 16
         },
         {
          "Donated": 1,
          "Frequency": 1,
          "Monetary": 250,
          "Recency": 11,
          "Time": 11
         },
         {
          "Donated": 1,
          "Frequency": 1,
          "Monetary": 250,
          "Recency": 2,
          "Time": 2
         },
         {
          "Donated": 1,
          "Frequency": 8,
          "Monetary": 2000,
          "Recency": 11,
          "Time": 48
         },
         {
          "Donated": 1,
          "Frequency": 6,
          "Monetary": 1500,
          "Recency": 11,
          "Time": 41
         },
         {
          "Donated": 1,
          "Frequency": 14,
          "Monetary": 3500,
          "Recency": 7,
          "Time": 48
         },
         {
          "Donated": 1,
          "Frequency": 2,
          "Monetary": 500,
          "Recency": 4,
          "Time": 4
         },
         {
          "Donated": 1,
          "Frequency": 16,
          "Monetary": 4000,
          "Recency": 14,
          "Time": 98
         },
         {
          "Donated": 1,
          "Frequency": 3,
          "Monetary": 750,
          "Recency": 14,
          "Time": 52
         },
         {
          "Donated": 1,
          "Frequency": 2,
          "Monetary": 500,
          "Recency": 11,
          "Time": 17
         },
         {
          "Donated": 2,
          "Frequency": 1,
          "Monetary": 250,
          "Recency": 2,
          "Time": 2
         },
         {
          "Donated": 2,
          "Frequency": 7,
          "Monetary": 1750,
          "Recency": 2,
          "Time": 46
         },
         {
          "Donated": 1,
          "Frequency": 1,
          "Monetary": 250,
          "Recency": 23,
          "Time": 23
         },
         {
          "Donated": 1,
          "Frequency": 1,
          "Monetary": 250,
          "Recency": 23,
          "Time": 23
         },
         {
          "Donated": 2,
          "Frequency": 13,
          "Monetary": 3250,
          "Recency": 2,
          "Time": 32
         },
         {
          "Donated": 1,
          "Frequency": 11,
          "Monetary": 2750,
          "Recency": 7,
          "Time": 89
         },
         {
          "Donated": 2,
          "Frequency": 6,
          "Monetary": 1500,
          "Recency": 2,
          "Time": 15
         },
         {
          "Donated": 2,
          "Frequency": 6,
          "Monetary": 1500,
          "Recency": 2,
          "Time": 16
         },
         {
          "Donated": 1,
          "Frequency": 13,
          "Monetary": 3250,
          "Recency": 14,
          "Time": 57
         },
         {
          "Donated": 1,
          "Frequency": 14,
          "Monetary": 3500,
          "Recency": 1,
          "Time": 58
         },
         {
          "Donated": 1,
          "Frequency": 8,
          "Monetary": 2000,
          "Recency": 14,
          "Time": 46
         },
         {
          "Donated": 2,
          "Frequency": 50,
          "Monetary": 12500,
          "Recency": 2,
          "Time": 98
         },
         {
          "Donated": 2,
          "Frequency": 17,
          "Monetary": 4250,
          "Recency": 4,
          "Time": 71
         },
         {
          "Donated": 1,
          "Frequency": 3,
          "Monetary": 750,
          "Recency": 14,
          "Time": 33
         },
         {
          "Donated": 1,
          "Frequency": 7,
          "Monetary": 1750,
          "Recency": 16,
          "Time": 64
         },
         {
          "Donated": 2,
          "Frequency": 4,
          "Monetary": 1000,
          "Recency": 4,
          "Time": 34
         },
         {
          "Donated": 1,
          "Frequency": 3,
          "Monetary": 750,
          "Recency": 21,
          "Time": 26
         },
         {
          "Donated": 1,
          "Frequency": 24,
          "Monetary": 6000,
          "Recency": 11,
          "Time": 64
         },
         {
          "Donated": 1,
          "Frequency": 8,
          "Monetary": 2000,
          "Recency": 14,
          "Time": 26
         },
         {
          "Donated": 2,
          "Frequency": 11,
          "Monetary": 2750,
          "Recency": 2,
          "Time": 41
         },
         {
          "Donated": 2,
          "Frequency": 9,
          "Monetary": 2250,
          "Recency": 11,
          "Time": 72
         },
         {
          "Donated": 1,
          "Frequency": 1,
          "Monetary": 250,
          "Recency": 21,
          "Time": 21
         },
         {
          "Donated": 1,
          "Frequency": 9,
          "Monetary": 2250,
          "Recency": 9,
          "Time": 16
         },
         {
          "Donated": 1,
          "Frequency": 1,
          "Monetary": 250,
          "Recency": 23,
          "Time": 23
         },
         {
          "Donated": 1,
          "Frequency": 9,
          "Monetary": 2250,
          "Recency": 9,
          "Time": 45
         },
         {
          "Donated": 1,
          "Frequency": 6,
          "Monetary": 1500,
          "Recency": 11,
          "Time": 26
         },
         {
          "Donated": 2,
          "Frequency": 1,
          "Monetary": 250,
          "Recency": 11,
          "Time": 11
         },
         {
          "Donated": 1,
          "Frequency": 4,
          "Monetary": 1000,
          "Recency": 14,
          "Time": 26
         },
         {
          "Donated": 1,
          "Frequency": 2,
          "Monetary": 500,
          "Recency": 2,
          "Time": 11
         },
         {
          "Donated": 1,
          "Frequency": 1,
          "Monetary": 250,
          "Recency": 14,
          "Time": 14
         },
         {
          "Donated": 1,
          "Frequency": 2,
          "Monetary": 500,
          "Recency": 11,
          "Time": 16
         },
         {
          "Donated": 1,
          "Frequency": 1,
          "Monetary": 250,
          "Recency": 16,
          "Time": 16
         },
         {
          "Donated": 1,
          "Frequency": 3,
          "Monetary": 750,
          "Recency": 21,
          "Time": 40
         },
         {
          "Donated": 1,
          "Frequency": 5,
          "Monetary": 1250,
          "Recency": 4,
          "Time": 58
         },
         {
          "Donated": 1,
          "Frequency": 1,
          "Monetary": 250,
          "Recency": 4,
          "Time": 4
         },
         {
          "Donated": 1,
          "Frequency": 16,
          "Monetary": 4000,
          "Recency": 15,
          "Time": 82
         },
         {
          "Donated": 1,
          "Frequency": 5,
          "Monetary": 1250,
          "Recency": 14,
          "Time": 14
         },
         {
          "Donated": 1,
          "Frequency": 4,
          "Monetary": 1000,
          "Recency": 16,
          "Time": 23
         },
         {
          "Donated": 1,
          "Frequency": 4,
          "Monetary": 1000,
          "Recency": 2,
          "Time": 70
         },
         {
          "Donated": 1,
          "Frequency": 12,
          "Monetary": 3000,
          "Recency": 23,
          "Time": 86
         },
         {
          "Donated": 1,
          "Frequency": 1,
          "Monetary": 250,
          "Recency": 14,
          "Time": 14
         },
         {
          "Donated": 1,
          "Frequency": 5,
          "Monetary": 1250,
          "Recency": 14,
          "Time": 26
         },
         {
          "Donated": 1,
          "Frequency": 5,
          "Monetary": 1250,
          "Recency": 16,
          "Time": 27
         },
         {
          "Donated": 2,
          "Frequency": 2,
          "Monetary": 500,
          "Recency": 2,
          "Time": 11
         },
         {
          "Donated": 1,
          "Frequency": 2,
          "Monetary": 500,
          "Recency": 4,
          "Time": 9
         },
         {
          "Donated": 1,
          "Frequency": 7,
          "Monetary": 1750,
          "Recency": 16,
          "Time": 39
         },
         {
          "Donated": 1,
          "Frequency": 17,
          "Monetary": 4250,
          "Recency": 6,
          "Time": 70
         },
         {
          "Donated": 1,
          "Frequency": 7,
          "Monetary": 1750,
          "Recency": 16,
          "Time": 93
         },
         {
          "Donated": 1,
          "Frequency": 12,
          "Monetary": 3000,
          "Recency": 2,
          "Time": 82
         },
         {
          "Donated": 1,
          "Frequency": 7,
          "Monetary": 1750,
          "Recency": 14,
          "Time": 26
         },
         {
          "Donated": 1,
          "Frequency": 1,
          "Monetary": 250,
          "Recency": 11,
          "Time": 11
         },
         {
          "Donated": 1,
          "Frequency": 13,
          "Monetary": 3250,
          "Recency": 21,
          "Time": 57
         },
         {
          "Donated": 1,
          "Frequency": 2,
          "Monetary": 500,
          "Recency": 2,
          "Time": 2
         },
         {
          "Donated": 2,
          "Frequency": 17,
          "Monetary": 4250,
          "Recency": 11,
          "Time": 79
         },
         {
          "Donated": 1,
          "Frequency": 2,
          "Monetary": 500,
          "Recency": 14,
          "Time": 14
         },
         {
          "Donated": 1,
          "Frequency": 1,
          "Monetary": 250,
          "Recency": 74,
          "Time": 74
         },
         {
          "Donated": 1,
          "Frequency": 3,
          "Monetary": 750,
          "Recency": 2,
          "Time": 22
         },
         {
          "Donated": 1,
          "Frequency": 7,
          "Monetary": 1750,
          "Recency": 4,
          "Time": 58
         },
         {
          "Donated": 1,
          "Frequency": 1,
          "Monetary": 250,
          "Recency": 2,
          "Time": 2
         },
         {
          "Donated": 2,
          "Frequency": 1,
          "Monetary": 250,
          "Recency": 4,
          "Time": 4
         },
         {
          "Donated": 2,
          "Frequency": 5,
          "Monetary": 1250,
          "Recency": 3,
          "Time": 12
         },
         {
          "Donated": 1,
          "Frequency": 1,
          "Monetary": 250,
          "Recency": 2,
          "Time": 2
         },
         {
          "Donated": 1,
          "Frequency": 16,
          "Monetary": 4000,
          "Recency": 11,
          "Time": 89
         },
         {
          "Donated": 1,
          "Frequency": 5,
          "Monetary": 1250,
          "Recency": 15,
          "Time": 33
         },
         {
          "Donated": 1,
          "Frequency": 2,
          "Monetary": 500,
          "Recency": 14,
          "Time": 14
         },
         {
          "Donated": 1,
          "Frequency": 11,
          "Monetary": 2750,
          "Recency": 4,
          "Time": 95
         },
         {
          "Donated": 1,
          "Frequency": 2,
          "Monetary": 500,
          "Recency": 4,
          "Time": 30
         },
         {
          "Donated": 1,
          "Frequency": 2,
          "Monetary": 500,
          "Recency": 14,
          "Time": 14
         },
         {
          "Donated": 2,
          "Frequency": 10,
          "Monetary": 2500,
          "Recency": 4,
          "Time": 28
         },
         {
          "Donated": 1,
          "Frequency": 14,
          "Monetary": 3500,
          "Recency": 16,
          "Time": 83
         },
         {
          "Donated": 1,
          "Frequency": 9,
          "Monetary": 2250,
          "Recency": 11,
          "Time": 38
         },
         {
          "Donated": 1,
          "Frequency": 5,
          "Monetary": 1250,
          "Recency": 2,
          "Time": 34
         },
         {
          "Donated": 1,
          "Frequency": 10,
          "Monetary": 2500,
          "Recency": 11,
          "Time": 35
         },
         {
          "Donated": 1,
          "Frequency": 2,
          "Monetary": 500,
          "Recency": 21,
          "Time": 33
         },
         {
          "Donated": 1,
          "Frequency": 1,
          "Monetary": 250,
          "Recency": 14,
          "Time": 14
         },
         {
          "Donated": 1,
          "Frequency": 10,
          "Monetary": 2500,
          "Recency": 8,
          "Time": 63
         },
         {
          "Donated": 2,
          "Frequency": 5,
          "Monetary": 1250,
          "Recency": 4,
          "Time": 23
         },
         {
          "Donated": 1,
          "Frequency": 7,
          "Monetary": 1750,
          "Recency": 4,
          "Time": 28
         },
         {
          "Donated": 1,
          "Frequency": 1,
          "Monetary": 250,
          "Recency": 14,
          "Time": 14
         },
         {
          "Donated": 2,
          "Frequency": 3,
          "Monetary": 750,
          "Recency": 2,
          "Time": 4
         },
         {
          "Donated": 1,
          "Frequency": 5,
          "Monetary": 1250,
          "Recency": 4,
          "Time": 58
         },
         {
          "Donated": 2,
          "Frequency": 1,
          "Monetary": 250,
          "Recency": 4,
          "Time": 4
         },
         {
          "Donated": 2,
          "Frequency": 5,
          "Monetary": 1250,
          "Recency": 4,
          "Time": 11
         },
         {
          "Donated": 1,
          "Frequency": 3,
          "Monetary": 750,
          "Recency": 4,
          "Time": 34
         },
         {
          "Donated": 1,
          "Frequency": 1,
          "Monetary": 250,
          "Recency": 4,
          "Time": 4
         },
         {
          "Donated": 1,
          "Frequency": 5,
          "Monetary": 1250,
          "Recency": 11,
          "Time": 33
         },
         {
          "Donated": 2,
          "Frequency": 3,
          "Monetary": 750,
          "Recency": 11,
          "Time": 40
         },
         {
          "Donated": 1,
          "Frequency": 8,
          "Monetary": 2000,
          "Recency": 16,
          "Time": 28
         },
         {
          "Donated": 1,
          "Frequency": 8,
          "Monetary": 2000,
          "Recency": 13,
          "Time": 26
         },
         {
          "Donated": 1,
          "Frequency": 1,
          "Monetary": 250,
          "Recency": 21,
          "Time": 21
         },
         {
          "Donated": 1,
          "Frequency": 14,
          "Monetary": 3500,
          "Recency": 4,
          "Time": 86
         },
         {
          "Donated": 1,
          "Frequency": 1,
          "Monetary": 250,
          "Recency": 4,
          "Time": 4
         },
         {
          "Donated": 1,
          "Frequency": 10,
          "Monetary": 2500,
          "Recency": 16,
          "Time": 62
         },
         {
          "Donated": 2,
          "Frequency": 7,
          "Monetary": 1750,
          "Recency": 2,
          "Time": 35
         },
         {
          "Donated": 1,
          "Frequency": 1,
          "Monetary": 250,
          "Recency": 4,
          "Time": 4
         },
         {
          "Donated": 1,
          "Frequency": 7,
          "Monetary": 1750,
          "Recency": 4,
          "Time": 52
         },
         {
          "Donated": 2,
          "Frequency": 22,
          "Monetary": 5500,
          "Recency": 6,
          "Time": 28
         },
         {
          "Donated": 1,
          "Frequency": 7,
          "Monetary": 1750,
          "Recency": 21,
          "Time": 38
         },
         {
          "Donated": 1,
          "Frequency": 11,
          "Monetary": 2750,
          "Recency": 5,
          "Time": 75
         },
         {
          "Donated": 1,
          "Frequency": 6,
          "Monetary": 1500,
          "Recency": 4,
          "Time": 46
         },
         {
          "Donated": 1,
          "Frequency": 5,
          "Monetary": 1250,
          "Recency": 10,
          "Time": 38
         },
         {
          "Donated": 2,
          "Frequency": 16,
          "Monetary": 4000,
          "Recency": 4,
          "Time": 70
         },
         {
          "Donated": 2,
          "Frequency": 12,
          "Monetary": 3000,
          "Recency": 4,
          "Time": 34
         },
         {
          "Donated": 1,
          "Frequency": 1,
          "Monetary": 250,
          "Recency": 16,
          "Time": 16
         },
         {
          "Donated": 1,
          "Frequency": 1,
          "Monetary": 250,
          "Recency": 4,
          "Time": 4
         },
         {
          "Donated": 1,
          "Frequency": 2,
          "Monetary": 500,
          "Recency": 11,
          "Time": 11
         },
         {
          "Donated": 2,
          "Frequency": 5,
          "Monetary": 1250,
          "Recency": 4,
          "Time": 35
         },
         {
          "Donated": 1,
          "Frequency": 1,
          "Monetary": 250,
          "Recency": 2,
          "Time": 2
         },
         {
          "Donated": 1,
          "Frequency": 1,
          "Monetary": 250,
          "Recency": 16,
          "Time": 16
         },
         {
          "Donated": 1,
          "Frequency": 4,
          "Monetary": 1000,
          "Recency": 2,
          "Time": 16
         },
         {
          "Donated": 2,
          "Frequency": 2,
          "Monetary": 500,
          "Recency": 9,
          "Time": 16
         },
         {
          "Donated": 1,
          "Frequency": 1,
          "Monetary": 250,
          "Recency": 4,
          "Time": 4
         },
         {
          "Donated": 1,
          "Frequency": 1,
          "Monetary": 250,
          "Recency": 2,
          "Time": 2
         },
         {
          "Donated": 1,
          "Frequency": 1,
          "Monetary": 250,
          "Recency": 21,
          "Time": 21
         },
         {
          "Donated": 1,
          "Frequency": 11,
          "Monetary": 2750,
          "Recency": 4,
          "Time": 28
         },
         {
          "Donated": 1,
          "Frequency": 1,
          "Monetary": 250,
          "Recency": 21,
          "Time": 21
         },
         {
          "Donated": 1,
          "Frequency": 6,
          "Monetary": 1500,
          "Recency": 4,
          "Time": 35
         },
         {
          "Donated": 1,
          "Frequency": 5,
          "Monetary": 1250,
          "Recency": 14,
          "Time": 64
         },
         {
          "Donated": 1,
          "Frequency": 1,
          "Monetary": 250,
          "Recency": 21,
          "Time": 21
         },
         {
          "Donated": 1,
          "Frequency": 2,
          "Monetary": 500,
          "Recency": 11,
          "Time": 26
         },
         {
          "Donated": 2,
          "Frequency": 3,
          "Monetary": 750,
          "Recency": 16,
          "Time": 21
         },
         {
          "Donated": 1,
          "Frequency": 9,
          "Monetary": 2250,
          "Recency": 4,
          "Time": 28
         },
         {
          "Donated": 1,
          "Frequency": 1,
          "Monetary": 250,
          "Recency": 4,
          "Time": 4
         },
         {
          "Donated": 1,
          "Frequency": 8,
          "Monetary": 2000,
          "Recency": 10,
          "Time": 39
         },
         {
          "Donated": 1,
          "Frequency": 1,
          "Monetary": 250,
          "Recency": 4,
          "Time": 4
         },
         {
          "Donated": 1,
          "Frequency": 2,
          "Monetary": 500,
          "Recency": 2,
          "Time": 14
         },
         {
          "Donated": 2,
          "Frequency": 5,
          "Monetary": 1250,
          "Recency": 14,
          "Time": 28
         },
         {
          "Donated": 2,
          "Frequency": 1,
          "Monetary": 250,
          "Recency": 4,
          "Time": 4
         },
         {
          "Donated": 1,
          "Frequency": 1,
          "Monetary": 250,
          "Recency": 2,
          "Time": 2
         },
         {
          "Donated": 2,
          "Frequency": 13,
          "Monetary": 3250,
          "Recency": 4,
          "Time": 39
         },
         {
          "Donated": 1,
          "Frequency": 15,
          "Monetary": 3750,
          "Recency": 23,
          "Time": 57
         },
         {
          "Donated": 1,
          "Frequency": 1,
          "Monetary": 250,
          "Recency": 11,
          "Time": 11
         },
         {
          "Donated": 1,
          "Frequency": 8,
          "Monetary": 2000,
          "Recency": 23,
          "Time": 69
         },
         {
          "Donated": 1,
          "Frequency": 2,
          "Monetary": 500,
          "Recency": 23,
          "Time": 26
         },
         {
          "Donated": 1,
          "Frequency": 8,
          "Monetary": 2000,
          "Recency": 23,
          "Time": 64
         },
         {
          "Donated": 1,
          "Frequency": 3,
          "Monetary": 750,
          "Recency": 4,
          "Time": 28
         },
         {
          "Donated": 1,
          "Frequency": 1,
          "Monetary": 250,
          "Recency": 16,
          "Time": 16
         },
         {
          "Donated": 1,
          "Frequency": 6,
          "Monetary": 1500,
          "Recency": 2,
          "Time": 22
         },
         {
          "Donated": 1,
          "Frequency": 2,
          "Monetary": 500,
          "Recency": 23,
          "Time": 28
         },
         {
          "Donated": 1,
          "Frequency": 5,
          "Monetary": 1250,
          "Recency": 16,
          "Time": 71
         },
         {
          "Donated": 1,
          "Frequency": 11,
          "Monetary": 2750,
          "Recency": 12,
          "Time": 23
         },
         {
          "Donated": 1,
          "Frequency": 19,
          "Monetary": 4750,
          "Recency": 23,
          "Time": 62
         },
         {
          "Donated": 1,
          "Frequency": 5,
          "Monetary": 1250,
          "Recency": 16,
          "Time": 60
         },
         {
          "Donated": 2,
          "Frequency": 11,
          "Monetary": 2750,
          "Recency": 2,
          "Time": 40
         },
         {
          "Donated": 1,
          "Frequency": 5,
          "Monetary": 1250,
          "Recency": 2,
          "Time": 26
         },
         {
          "Donated": 1,
          "Frequency": 3,
          "Monetary": 750,
          "Recency": 21,
          "Time": 38
         },
         {
          "Donated": 1,
          "Frequency": 1,
          "Monetary": 250,
          "Recency": 23,
          "Time": 23
         },
         {
          "Donated": 1,
          "Frequency": 2,
          "Monetary": 500,
          "Recency": 11,
          "Time": 21
         },
         {
          "Donated": 1,
          "Frequency": 15,
          "Monetary": 3750,
          "Recency": 16,
          "Time": 87
         },
         {
          "Donated": 1,
          "Frequency": 3,
          "Monetary": 750,
          "Recency": 23,
          "Time": 39
         },
         {
          "Donated": 2,
          "Frequency": 7,
          "Monetary": 1750,
          "Recency": 17,
          "Time": 58
         },
         {
          "Donated": 1,
          "Frequency": 22,
          "Monetary": 5500,
          "Recency": 11,
          "Time": 98
         },
         {
          "Donated": 2,
          "Frequency": 7,
          "Monetary": 1750,
          "Recency": 11,
          "Time": 62
         },
         {
          "Donated": 1,
          "Frequency": 6,
          "Monetary": 1500,
          "Recency": 2,
          "Time": 26
         },
         {
          "Donated": 1,
          "Frequency": 6,
          "Monetary": 1500,
          "Recency": 16,
          "Time": 40
         },
         {
          "Donated": 2,
          "Frequency": 7,
          "Monetary": 1750,
          "Recency": 2,
          "Time": 14
         },
         {
          "Donated": 1,
          "Frequency": 3,
          "Monetary": 750,
          "Recency": 16,
          "Time": 34
         },
         {
          "Donated": 1,
          "Frequency": 2,
          "Monetary": 500,
          "Recency": 23,
          "Time": 28
         },
         {
          "Donated": 1,
          "Frequency": 3,
          "Monetary": 750,
          "Recency": 16,
          "Time": 50
         },
         {
          "Donated": 2,
          "Frequency": 1,
          "Monetary": 250,
          "Recency": 22,
          "Time": 22
         },
         {
          "Donated": 1,
          "Frequency": 1,
          "Monetary": 250,
          "Recency": 23,
          "Time": 23
         },
         {
          "Donated": 1,
          "Frequency": 6,
          "Monetary": 1500,
          "Recency": 21,
          "Time": 48
         },
         {
          "Donated": 2,
          "Frequency": 8,
          "Monetary": 2000,
          "Recency": 2,
          "Time": 35
         },
         {
          "Donated": 1,
          "Frequency": 1,
          "Monetary": 250,
          "Recency": 21,
          "Time": 21
         },
         {
          "Donated": 1,
          "Frequency": 3,
          "Monetary": 750,
          "Recency": 21,
          "Time": 35
         },
         {
          "Donated": 1,
          "Frequency": 10,
          "Monetary": 2500,
          "Recency": 2,
          "Time": 49
         },
         {
          "Donated": 1,
          "Frequency": 2,
          "Monetary": 500,
          "Recency": 9,
          "Time": 52
         },
         {
          "Donated": 2,
          "Frequency": 6,
          "Monetary": 1500,
          "Recency": 4,
          "Time": 16
         },
         {
          "Donated": 2,
          "Frequency": 1,
          "Monetary": 250,
          "Recency": 2,
          "Time": 2
         },
         {
          "Donated": 2,
          "Frequency": 8,
          "Monetary": 2000,
          "Recency": 4,
          "Time": 48
         },
         {
          "Donated": 1,
          "Frequency": 1,
          "Monetary": 250,
          "Recency": 23,
          "Time": 23
         },
         {
          "Donated": 2,
          "Frequency": 10,
          "Monetary": 2500,
          "Recency": 1,
          "Time": 43
         },
         {
          "Donated": 2,
          "Frequency": 1,
          "Monetary": 250,
          "Recency": 2,
          "Time": 2
         },
         {
          "Donated": 1,
          "Frequency": 11,
          "Monetary": 2750,
          "Recency": 2,
          "Time": 28
         },
         {
          "Donated": 1,
          "Frequency": 12,
          "Monetary": 3000,
          "Recency": 1,
          "Time": 35
         },
         {
          "Donated": 1,
          "Frequency": 1,
          "Monetary": 250,
          "Recency": 11,
          "Time": 11
         },
         {
          "Donated": 2,
          "Frequency": 14,
          "Monetary": 3500,
          "Recency": 2,
          "Time": 57
         },
         {
          "Donated": 1,
          "Frequency": 5,
          "Monetary": 1250,
          "Recency": 11,
          "Time": 18
         },
         {
          "Donated": 1,
          "Frequency": 2,
          "Monetary": 500,
          "Recency": 18,
          "Time": 23
         },
         {
          "Donated": 2,
          "Frequency": 2,
          "Monetary": 500,
          "Recency": 4,
          "Time": 4
         },
         {
          "Donated": 2,
          "Frequency": 10,
          "Monetary": 2500,
          "Recency": 2,
          "Time": 28
         },
         {
          "Donated": 1,
          "Frequency": 1,
          "Monetary": 250,
          "Recency": 14,
          "Time": 14
         },
         {
          "Donated": 1,
          "Frequency": 8,
          "Monetary": 2000,
          "Recency": 18,
          "Time": 95
         },
         {
          "Donated": 1,
          "Frequency": 2,
          "Monetary": 500,
          "Recency": 4,
          "Time": 23
         },
         {
          "Donated": 2,
          "Frequency": 2,
          "Monetary": 500,
          "Recency": 4,
          "Time": 9
         },
         {
          "Donated": 1,
          "Frequency": 1,
          "Monetary": 250,
          "Recency": 2,
          "Time": 2
         },
         {
          "Donated": 1,
          "Frequency": 1,
          "Monetary": 250,
          "Recency": 23,
          "Time": 23
         },
         {
          "Donated": 1,
          "Frequency": 4,
          "Monetary": 1000,
          "Recency": 16,
          "Time": 45
         },
         {
          "Donated": 1,
          "Frequency": 1,
          "Monetary": 250,
          "Recency": 23,
          "Time": 23
         },
         {
          "Donated": 1,
          "Frequency": 6,
          "Monetary": 1500,
          "Recency": 5,
          "Time": 28
         },
         {
          "Donated": 1,
          "Frequency": 11,
          "Monetary": 2750,
          "Recency": 4,
          "Time": 61
         },
         {
          "Donated": 2,
          "Frequency": 9,
          "Monetary": 2250,
          "Recency": 4,
          "Time": 38
         },
         {
          "Donated": 1,
          "Frequency": 14,
          "Monetary": 3500,
          "Recency": 4,
          "Time": 40
         },
         {
          "Donated": 1,
          "Frequency": 1,
          "Monetary": 250,
          "Recency": 4,
          "Time": 4
         },
         {
          "Donated": 2,
          "Frequency": 1,
          "Monetary": 250,
          "Recency": 2,
          "Time": 2
         },
         {
          "Donated": 1,
          "Frequency": 4,
          "Monetary": 1000,
          "Recency": 2,
          "Time": 16
         },
         {
          "Donated": 1,
          "Frequency": 2,
          "Monetary": 500,
          "Recency": 11,
          "Time": 24
         },
         {
          "Donated": 1,
          "Frequency": 6,
          "Monetary": 1500,
          "Recency": 4,
          "Time": 35
         },
         {
          "Donated": 2,
          "Frequency": 13,
          "Monetary": 3250,
          "Recency": 0,
          "Time": 28
         },
         {
          "Donated": 1,
          "Frequency": 7,
          "Monetary": 1750,
          "Recency": 2,
          "Time": 77
         },
         {
          "Donated": 2,
          "Frequency": 3,
          "Monetary": 750,
          "Recency": 2,
          "Time": 4
         },
         {
          "Donated": 1,
          "Frequency": 8,
          "Monetary": 2000,
          "Recency": 4,
          "Time": 21
         },
         {
          "Donated": 1,
          "Frequency": 2,
          "Monetary": 500,
          "Recency": 16,
          "Time": 16
         },
         {
          "Donated": 1,
          "Frequency": 4,
          "Monetary": 1000,
          "Recency": 14,
          "Time": 40
         },
         {
          "Donated": 1,
          "Frequency": 24,
          "Monetary": 6000,
          "Recency": 5,
          "Time": 79
         },
         {
          "Donated": 1,
          "Frequency": 1,
          "Monetary": 250,
          "Recency": 11,
          "Time": 11
         },
         {
          "Donated": 1,
          "Frequency": 3,
          "Monetary": 750,
          "Recency": 21,
          "Time": 35
         },
         {
          "Donated": 1,
          "Frequency": 4,
          "Monetary": 1000,
          "Recency": 2,
          "Time": 16
         },
         {
          "Donated": 1,
          "Frequency": 1,
          "Monetary": 250,
          "Recency": 11,
          "Time": 11
         },
         {
          "Donated": 1,
          "Frequency": 4,
          "Monetary": 1000,
          "Recency": 2,
          "Time": 16
         },
         {
          "Donated": 2,
          "Frequency": 5,
          "Monetary": 1250,
          "Recency": 16,
          "Time": 40
         },
         {
          "Donated": 1,
          "Frequency": 12,
          "Monetary": 3000,
          "Recency": 16,
          "Time": 50
         },
         {
          "Donated": 1,
          "Frequency": 1,
          "Monetary": 250,
          "Recency": 14,
          "Time": 14
         },
         {
          "Donated": 1,
          "Frequency": 3,
          "Monetary": 750,
          "Recency": 35,
          "Time": 64
         },
         {
          "Donated": 1,
          "Frequency": 7,
          "Monetary": 1750,
          "Recency": 14,
          "Time": 47
         },
         {
          "Donated": 1,
          "Frequency": 1,
          "Monetary": 250,
          "Recency": 11,
          "Time": 11
         },
         {
          "Donated": 1,
          "Frequency": 12,
          "Monetary": 3000,
          "Recency": 2,
          "Time": 52
         },
         {
          "Donated": 1,
          "Frequency": 18,
          "Monetary": 4500,
          "Recency": 14,
          "Time": 78
         },
         {
          "Donated": 1,
          "Frequency": 1,
          "Monetary": 250,
          "Recency": 2,
          "Time": 2
         },
         {
          "Donated": 1,
          "Frequency": 4,
          "Monetary": 1000,
          "Recency": 4,
          "Time": 16
         },
         {
          "Donated": 1,
          "Frequency": 2,
          "Monetary": 500,
          "Recency": 21,
          "Time": 25
         },
         {
          "Donated": 1,
          "Frequency": 2,
          "Monetary": 500,
          "Recency": 21,
          "Time": 41
         },
         {
          "Donated": 1,
          "Frequency": 11,
          "Monetary": 2750,
          "Recency": 12,
          "Time": 39
         },
         {
          "Donated": 1,
          "Frequency": 7,
          "Monetary": 1750,
          "Recency": 11,
          "Time": 75
         },
         {
          "Donated": 1,
          "Frequency": 8,
          "Monetary": 2000,
          "Recency": 11,
          "Time": 72
         },
         {
          "Donated": 1,
          "Frequency": 3,
          "Monetary": 750,
          "Recency": 6,
          "Time": 26
         },
         {
          "Donated": 1,
          "Frequency": 3,
          "Monetary": 750,
          "Recency": 11,
          "Time": 37
         },
         {
          "Donated": 1,
          "Frequency": 1,
          "Monetary": 250,
          "Recency": 11,
          "Time": 11
         },
         {
          "Donated": 1,
          "Frequency": 5,
          "Monetary": 1250,
          "Recency": 2,
          "Time": 26
         },
         {
          "Donated": 1,
          "Frequency": 4,
          "Monetary": 1000,
          "Recency": 23,
          "Time": 45
         },
         {
          "Donated": 1,
          "Frequency": 3,
          "Monetary": 750,
          "Recency": 16,
          "Time": 35
         },
         {
          "Donated": 1,
          "Frequency": 2,
          "Monetary": 500,
          "Recency": 2,
          "Time": 22
         },
         {
          "Donated": 1,
          "Frequency": 2,
          "Monetary": 500,
          "Recency": 21,
          "Time": 23
         },
         {
          "Donated": 1,
          "Frequency": 2,
          "Monetary": 500,
          "Recency": 2,
          "Time": 11
         },
         {
          "Donated": 1,
          "Frequency": 1,
          "Monetary": 250,
          "Recency": 4,
          "Time": 4
         },
         {
          "Donated": 1,
          "Frequency": 2,
          "Monetary": 500,
          "Recency": 23,
          "Time": 87
         },
         {
          "Donated": 1,
          "Frequency": 1,
          "Monetary": 250,
          "Recency": 21,
          "Time": 21
         },
         {
          "Donated": 1,
          "Frequency": 3,
          "Monetary": 750,
          "Recency": 4,
          "Time": 16
         },
         {
          "Donated": 2,
          "Frequency": 8,
          "Monetary": 2000,
          "Recency": 4,
          "Time": 46
         },
         {
          "Donated": 1,
          "Frequency": 11,
          "Monetary": 2750,
          "Recency": 4,
          "Time": 78
         },
         {
          "Donated": 1,
          "Frequency": 4,
          "Monetary": 1000,
          "Recency": 2,
          "Time": 43
         },
         {
          "Donated": 1,
          "Frequency": 3,
          "Monetary": 750,
          "Recency": 14,
          "Time": 21
         },
         {
          "Donated": 1,
          "Frequency": 12,
          "Monetary": 3000,
          "Recency": 7,
          "Time": 86
         },
         {
          "Donated": 1,
          "Frequency": 3,
          "Monetary": 750,
          "Recency": 2,
          "Time": 14
         },
         {
          "Donated": 1,
          "Frequency": 1,
          "Monetary": 250,
          "Recency": 14,
          "Time": 14
         },
         {
          "Donated": 1,
          "Frequency": 7,
          "Monetary": 1750,
          "Recency": 11,
          "Time": 64
         },
         {
          "Donated": 1,
          "Frequency": 6,
          "Monetary": 1500,
          "Recency": 25,
          "Time": 50
         },
         {
          "Donated": 2,
          "Frequency": 20,
          "Monetary": 5000,
          "Recency": 4,
          "Time": 69
         },
         {
          "Donated": 1,
          "Frequency": 3,
          "Monetary": 750,
          "Recency": 14,
          "Time": 41
         },
         {
          "Donated": 1,
          "Frequency": 1,
          "Monetary": 250,
          "Recency": 2,
          "Time": 2
         },
         {
          "Donated": 2,
          "Frequency": 21,
          "Monetary": 5250,
          "Recency": 3,
          "Time": 42
         },
         {
          "Donated": 1,
          "Frequency": 7,
          "Monetary": 1750,
          "Recency": 16,
          "Time": 38
         },
         {
          "Donated": 1,
          "Frequency": 3,
          "Monetary": 750,
          "Recency": 16,
          "Time": 21
         },
         {
          "Donated": 1,
          "Frequency": 1,
          "Monetary": 250,
          "Recency": 2,
          "Time": 2
         },
         {
          "Donated": 1,
          "Frequency": 12,
          "Monetary": 3000,
          "Recency": 2,
          "Time": 98
         },
         {
          "Donated": 1,
          "Frequency": 2,
          "Monetary": 500,
          "Recency": 21,
          "Time": 23
         },
         {
          "Donated": 1,
          "Frequency": 1,
          "Monetary": 250,
          "Recency": 4,
          "Time": 4
         },
         {
          "Donated": 2,
          "Frequency": 1,
          "Monetary": 250,
          "Recency": 4,
          "Time": 4
         },
         {
          "Donated": 1,
          "Frequency": 1,
          "Monetary": 250,
          "Recency": 21,
          "Time": 21
         },
         {
          "Donated": 2,
          "Frequency": 10,
          "Monetary": 2500,
          "Recency": 4,
          "Time": 28
         },
         {
          "Donated": 1,
          "Frequency": 2,
          "Monetary": 500,
          "Recency": 2,
          "Time": 33
         },
         {
          "Donated": 1,
          "Frequency": 2,
          "Monetary": 500,
          "Recency": 4,
          "Time": 41
         },
         {
          "Donated": 2,
          "Frequency": 2,
          "Monetary": 500,
          "Recency": 2,
          "Time": 11
         },
         {
          "Donated": 1,
          "Frequency": 5,
          "Monetary": 1250,
          "Recency": 2,
          "Time": 37
         },
         {
          "Donated": 1,
          "Frequency": 4,
          "Monetary": 1000,
          "Recency": 2,
          "Time": 23
         },
         {
          "Donated": 1,
          "Frequency": 3,
          "Monetary": 750,
          "Recency": 13,
          "Time": 16
         },
         {
          "Donated": 1,
          "Frequency": 9,
          "Monetary": 2250,
          "Recency": 4,
          "Time": 52
         },
         {
          "Donated": 1,
          "Frequency": 1,
          "Monetary": 250,
          "Recency": 16,
          "Time": 16
         },
         {
          "Donated": 1,
          "Frequency": 3,
          "Monetary": 750,
          "Recency": 11,
          "Time": 23
         },
         {
          "Donated": 1,
          "Frequency": 3,
          "Monetary": 750,
          "Recency": 14,
          "Time": 26
         },
         {
          "Donated": 1,
          "Frequency": 5,
          "Monetary": 1250,
          "Recency": 11,
          "Time": 35
         },
         {
          "Donated": 1,
          "Frequency": 1,
          "Monetary": 250,
          "Recency": 16,
          "Time": 16
         },
         {
          "Donated": 1,
          "Frequency": 23,
          "Monetary": 5750,
          "Recency": 4,
          "Time": 58
         },
         {
          "Donated": 1,
          "Frequency": 2,
          "Monetary": 500,
          "Recency": 21,
          "Time": 26
         },
         {
          "Donated": 2,
          "Frequency": 6,
          "Monetary": 1500,
          "Recency": 2,
          "Time": 28
         },
         {
          "Donated": 1,
          "Frequency": 6,
          "Monetary": 1500,
          "Recency": 2,
          "Time": 75
         },
         {
          "Donated": 1,
          "Frequency": 7,
          "Monetary": 1750,
          "Recency": 2,
          "Time": 76
         },
         {
          "Donated": 1,
          "Frequency": 4,
          "Monetary": 1000,
          "Recency": 11,
          "Time": 61
         },
         {
          "Donated": 1,
          "Frequency": 9,
          "Monetary": 2250,
          "Recency": 1,
          "Time": 51
         },
         {
          "Donated": 1,
          "Frequency": 2,
          "Monetary": 500,
          "Recency": 2,
          "Time": 14
         },
         {
          "Donated": 1,
          "Frequency": 9,
          "Monetary": 2250,
          "Recency": 2,
          "Time": 75
         },
         {
          "Donated": 1,
          "Frequency": 5,
          "Monetary": 1250,
          "Recency": 4,
          "Time": 23
         },
         {
          "Donated": 1,
          "Frequency": 2,
          "Monetary": 500,
          "Recency": 14,
          "Time": 16
         },
         {
          "Donated": 1,
          "Frequency": 9,
          "Monetary": 2250,
          "Recency": 12,
          "Time": 60
         },
         {
          "Donated": 2,
          "Frequency": 7,
          "Monetary": 1750,
          "Recency": 16,
          "Time": 87
         },
         {
          "Donated": 2,
          "Frequency": 34,
          "Monetary": 8500,
          "Recency": 2,
          "Time": 77
         },
         {
          "Donated": 1,
          "Frequency": 38,
          "Monetary": 9500,
          "Recency": 23,
          "Time": 98
         },
         {
          "Donated": 1,
          "Frequency": 7,
          "Monetary": 1750,
          "Recency": 14,
          "Time": 45
         },
         {
          "Donated": 1,
          "Frequency": 11,
          "Monetary": 2750,
          "Recency": 2,
          "Time": 23
         },
         {
          "Donated": 1,
          "Frequency": 3,
          "Monetary": 750,
          "Recency": 11,
          "Time": 76
         },
         {
          "Donated": 2,
          "Frequency": 4,
          "Monetary": 1000,
          "Recency": 14,
          "Time": 22
         },
         {
          "Donated": 1,
          "Frequency": 1,
          "Monetary": 250,
          "Recency": 16,
          "Time": 16
         },
         {
          "Donated": 1,
          "Frequency": 4,
          "Monetary": 1000,
          "Recency": 4,
          "Time": 26
         },
         {
          "Donated": 1,
          "Frequency": 2,
          "Monetary": 500,
          "Recency": 11,
          "Time": 52
         },
         {
          "Donated": 1,
          "Frequency": 1,
          "Monetary": 250,
          "Recency": 2,
          "Time": 2
         },
         {
          "Donated": 1,
          "Frequency": 1,
          "Monetary": 250,
          "Recency": 21,
          "Time": 21
         },
         {
          "Donated": 1,
          "Frequency": 2,
          "Monetary": 500,
          "Recency": 4,
          "Time": 4
         },
         {
          "Donated": 1,
          "Frequency": 1,
          "Monetary": 250,
          "Recency": 16,
          "Time": 16
         },
         {
          "Donated": 2,
          "Frequency": 2,
          "Monetary": 500,
          "Recency": 2,
          "Time": 11
         },
         {
          "Donated": 1,
          "Frequency": 3,
          "Monetary": 750,
          "Recency": 14,
          "Time": 79
         },
         {
          "Donated": 1,
          "Frequency": 44,
          "Monetary": 11000,
          "Recency": 2,
          "Time": 98
         },
         {
          "Donated": 2,
          "Frequency": 5,
          "Monetary": 1250,
          "Recency": 26,
          "Time": 49
         },
         {
          "Donated": 1,
          "Frequency": 3,
          "Monetary": 750,
          "Recency": 16,
          "Time": 23
         },
         {
          "Donated": 1,
          "Frequency": 6,
          "Monetary": 1500,
          "Recency": 4,
          "Time": 30
         },
         {
          "Donated": 1,
          "Frequency": 5,
          "Monetary": 1250,
          "Recency": 4,
          "Time": 28
         },
         {
          "Donated": 1,
          "Frequency": 3,
          "Monetary": 750,
          "Recency": 14,
          "Time": 28
         },
         {
          "Donated": 2,
          "Frequency": 16,
          "Monetary": 4000,
          "Recency": 4,
          "Time": 98
         },
         {
          "Donated": 1,
          "Frequency": 6,
          "Monetary": 1500,
          "Recency": 4,
          "Time": 47
         },
         {
          "Donated": 2,
          "Frequency": 1,
          "Monetary": 250,
          "Recency": 4,
          "Time": 4
         },
         {
          "Donated": 1,
          "Frequency": 9,
          "Monetary": 2250,
          "Recency": 9,
          "Time": 54
         },
         {
          "Donated": 1,
          "Frequency": 7,
          "Monetary": 1750,
          "Recency": 23,
          "Time": 88
         },
         {
          "Donated": 1,
          "Frequency": 1,
          "Monetary": 250,
          "Recency": 11,
          "Time": 11
         },
         {
          "Donated": 1,
          "Frequency": 1,
          "Monetary": 250,
          "Recency": 23,
          "Time": 23
         },
         {
          "Donated": 2,
          "Frequency": 6,
          "Monetary": 1500,
          "Recency": 4,
          "Time": 38
         },
         {
          "Donated": 1,
          "Frequency": 3,
          "Monetary": 750,
          "Recency": 23,
          "Time": 40
         },
         {
          "Donated": 1,
          "Frequency": 3,
          "Monetary": 750,
          "Recency": 16,
          "Time": 46
         },
         {
          "Donated": 1,
          "Frequency": 1,
          "Monetary": 250,
          "Recency": 4,
          "Time": 4
         },
         {
          "Donated": 1,
          "Frequency": 7,
          "Monetary": 1750,
          "Recency": 11,
          "Time": 37
         },
         {
          "Donated": 1,
          "Frequency": 3,
          "Monetary": 750,
          "Recency": 23,
          "Time": 28
         },
         {
          "Donated": 1,
          "Frequency": 6,
          "Monetary": 1500,
          "Recency": 23,
          "Time": 45
         },
         {
          "Donated": 1,
          "Frequency": 1,
          "Monetary": 250,
          "Recency": 38,
          "Time": 38
         },
         {
          "Donated": 1,
          "Frequency": 2,
          "Monetary": 500,
          "Recency": 16,
          "Time": 70
         },
         {
          "Donated": 1,
          "Frequency": 1,
          "Monetary": 250,
          "Recency": 21,
          "Time": 21
         },
         {
          "Donated": 2,
          "Frequency": 4,
          "Monetary": 1000,
          "Recency": 2,
          "Time": 16
         },
         {
          "Donated": 2,
          "Frequency": 6,
          "Monetary": 1500,
          "Recency": 4,
          "Time": 28
         },
         {
          "Donated": 1,
          "Frequency": 4,
          "Monetary": 1000,
          "Recency": 14,
          "Time": 26
         },
         {
          "Donated": 1,
          "Frequency": 3,
          "Monetary": 750,
          "Recency": 11,
          "Time": 26
         },
         {
          "Donated": 1,
          "Frequency": 16,
          "Monetary": 4000,
          "Recency": 3,
          "Time": 74
         },
         {
          "Donated": 1,
          "Frequency": 7,
          "Monetary": 1750,
          "Recency": 13,
          "Time": 76
         },
         {
          "Donated": 1,
          "Frequency": 2,
          "Monetary": 500,
          "Recency": 2,
          "Time": 16
         },
         {
          "Donated": 2,
          "Frequency": 9,
          "Monetary": 2250,
          "Recency": 2,
          "Time": 22
         },
         {
          "Donated": 1,
          "Frequency": 2,
          "Monetary": 500,
          "Recency": 2,
          "Time": 4
         },
         {
          "Donated": 2,
          "Frequency": 2,
          "Monetary": 500,
          "Recency": 14,
          "Time": 14
         },
         {
          "Donated": 1,
          "Frequency": 16,
          "Monetary": 4000,
          "Recency": 2,
          "Time": 81
         },
         {
          "Donated": 1,
          "Frequency": 3,
          "Monetary": 750,
          "Recency": 23,
          "Time": 41
         },
         {
          "Donated": 1,
          "Frequency": 4,
          "Monetary": 1000,
          "Recency": 14,
          "Time": 57
         },
         {
          "Donated": 1,
          "Frequency": 1,
          "Monetary": 250,
          "Recency": 14,
          "Time": 14
         },
         {
          "Donated": 1,
          "Frequency": 1,
          "Monetary": 250,
          "Recency": 23,
          "Time": 23
         },
         {
          "Donated": 1,
          "Frequency": 1,
          "Monetary": 250,
          "Recency": 38,
          "Time": 38
         },
         {
          "Donated": 1,
          "Frequency": 3,
          "Monetary": 750,
          "Recency": 21,
          "Time": 35
         },
         {
          "Donated": 1,
          "Frequency": 5,
          "Monetary": 1250,
          "Recency": 11,
          "Time": 41
         },
         {
          "Donated": 1,
          "Frequency": 6,
          "Monetary": 1500,
          "Recency": 11,
          "Time": 71
         },
         {
          "Donated": 1,
          "Frequency": 1,
          "Monetary": 250,
          "Recency": 16,
          "Time": 16
         },
         {
          "Donated": 1,
          "Frequency": 14,
          "Monetary": 3500,
          "Recency": 5,
          "Time": 86
         },
         {
          "Donated": 1,
          "Frequency": 2,
          "Monetary": 500,
          "Recency": 4,
          "Time": 4
         },
         {
          "Donated": 2,
          "Frequency": 8,
          "Monetary": 2000,
          "Recency": 14,
          "Time": 50
         },
         {
          "Donated": 2,
          "Frequency": 5,
          "Monetary": 1250,
          "Recency": 9,
          "Time": 51
         },
         {
          "Donated": 1,
          "Frequency": 7,
          "Monetary": 1750,
          "Recency": 2,
          "Time": 29
         },
         {
          "Donated": 1,
          "Frequency": 6,
          "Monetary": 1500,
          "Recency": 21,
          "Time": 86
         },
         {
          "Donated": 1,
          "Frequency": 7,
          "Monetary": 1750,
          "Recency": 14,
          "Time": 72
         },
         {
          "Donated": 1,
          "Frequency": 2,
          "Monetary": 500,
          "Recency": 16,
          "Time": 26
         },
         {
          "Donated": 1,
          "Frequency": 4,
          "Monetary": 1000,
          "Recency": 14,
          "Time": 64
         },
         {
          "Donated": 1,
          "Frequency": 2,
          "Monetary": 500,
          "Recency": 14,
          "Time": 14
         },
         {
          "Donated": 1,
          "Frequency": 1,
          "Monetary": 250,
          "Recency": 21,
          "Time": 21
         },
         {
          "Donated": 1,
          "Frequency": 5,
          "Monetary": 1250,
          "Recency": 14,
          "Time": 28
         },
         {
          "Donated": 1,
          "Frequency": 2,
          "Monetary": 500,
          "Recency": 4,
          "Time": 29
         },
         {
          "Donated": 1,
          "Frequency": 1,
          "Monetary": 250,
          "Recency": 14,
          "Time": 14
         },
         {
          "Donated": 1,
          "Frequency": 9,
          "Monetary": 2250,
          "Recency": 2,
          "Time": 36
         },
         {
          "Donated": 1,
          "Frequency": 2,
          "Monetary": 500,
          "Recency": 4,
          "Time": 4
         },
         {
          "Donated": 1,
          "Frequency": 10,
          "Monetary": 2500,
          "Recency": 2,
          "Time": 64
         },
         {
          "Donated": 1,
          "Frequency": 6,
          "Monetary": 1500,
          "Recency": 14,
          "Time": 51
         },
         {
          "Donated": 2,
          "Frequency": 14,
          "Monetary": 3500,
          "Recency": 2,
          "Time": 48
         },
         {
          "Donated": 1,
          "Frequency": 3,
          "Monetary": 750,
          "Recency": 23,
          "Time": 89
         },
         {
          "Donated": 1,
          "Frequency": 11,
          "Monetary": 2750,
          "Recency": 11,
          "Time": 42
         },
         {
          "Donated": 1,
          "Frequency": 2,
          "Monetary": 500,
          "Recency": 23,
          "Time": 23
         },
         {
          "Donated": 1,
          "Frequency": 5,
          "Monetary": 1250,
          "Recency": 2,
          "Time": 63
         },
         {
          "Donated": 1,
          "Frequency": 5,
          "Monetary": 1250,
          "Recency": 23,
          "Time": 33
         },
         {
          "Donated": 2,
          "Frequency": 2,
          "Monetary": 500,
          "Recency": 2,
          "Time": 4
         },
         {
          "Donated": 1,
          "Frequency": 14,
          "Monetary": 3500,
          "Recency": 23,
          "Time": 93
         },
         {
          "Donated": 1,
          "Frequency": 9,
          "Monetary": 2250,
          "Recency": 2,
          "Time": 74
         },
         {
          "Donated": 1,
          "Frequency": 7,
          "Monetary": 1750,
          "Recency": 11,
          "Time": 29
         },
         {
          "Donated": 1,
          "Frequency": 4,
          "Monetary": 1000,
          "Recency": 21,
          "Time": 52
         },
         {
          "Donated": 2,
          "Frequency": 6,
          "Monetary": 1500,
          "Recency": 2,
          "Time": 15
         },
         {
          "Donated": 1,
          "Frequency": 2,
          "Monetary": 500,
          "Recency": 4,
          "Time": 4
         },
         {
          "Donated": 2,
          "Frequency": 4,
          "Monetary": 1000,
          "Recency": 4,
          "Time": 43
         },
         {
          "Donated": 1,
          "Frequency": 2,
          "Monetary": 500,
          "Recency": 2,
          "Time": 23
         },
         {
          "Donated": 2,
          "Frequency": 1,
          "Monetary": 250,
          "Recency": 4,
          "Time": 4
         },
         {
          "Donated": 1,
          "Frequency": 12,
          "Monetary": 3000,
          "Recency": 12,
          "Time": 58
         },
         {
          "Donated": 2,
          "Frequency": 20,
          "Monetary": 5000,
          "Recency": 2,
          "Time": 45
         },
         {
          "Donated": 1,
          "Frequency": 4,
          "Monetary": 1000,
          "Recency": 16,
          "Time": 28
         },
         {
          "Donated": 1,
          "Frequency": 3,
          "Monetary": 750,
          "Recency": 21,
          "Time": 64
         },
         {
          "Donated": 1,
          "Frequency": 1,
          "Monetary": 250,
          "Recency": 4,
          "Time": 4
         },
         {
          "Donated": 1,
          "Frequency": 3,
          "Monetary": 750,
          "Recency": 14,
          "Time": 83
         },
         {
          "Donated": 1,
          "Frequency": 2,
          "Monetary": 500,
          "Recency": 16,
          "Time": 16
         },
         {
          "Donated": 1,
          "Frequency": 2,
          "Monetary": 500,
          "Recency": 2,
          "Time": 11
         },
         {
          "Donated": 1,
          "Frequency": 2,
          "Monetary": 500,
          "Recency": 0,
          "Time": 4
         },
         {
          "Donated": 1,
          "Frequency": 6,
          "Monetary": 1500,
          "Recency": 4,
          "Time": 14
         },
         {
          "Donated": 1,
          "Frequency": 6,
          "Monetary": 1500,
          "Recency": 11,
          "Time": 58
         },
         {
          "Donated": 2,
          "Frequency": 8,
          "Monetary": 2000,
          "Recency": 4,
          "Time": 26
         },
         {
          "Donated": 1,
          "Frequency": 6,
          "Monetary": 1500,
          "Recency": 14,
          "Time": 34
         },
         {
          "Donated": 2,
          "Frequency": 11,
          "Monetary": 2750,
          "Recency": 2,
          "Time": 46
         },
         {
          "Donated": 1,
          "Frequency": 14,
          "Monetary": 3500,
          "Recency": 3,
          "Time": 35
         },
         {
          "Donated": 1,
          "Frequency": 5,
          "Monetary": 1250,
          "Recency": 21,
          "Time": 60
         },
         {
          "Donated": 2,
          "Frequency": 5,
          "Monetary": 1250,
          "Recency": 4,
          "Time": 16
         },
         {
          "Donated": 2,
          "Frequency": 5,
          "Monetary": 1250,
          "Recency": 11,
          "Time": 37
         },
         {
          "Donated": 1,
          "Frequency": 2,
          "Monetary": 500,
          "Recency": 14,
          "Time": 35
         },
         {
          "Donated": 2,
          "Frequency": 6,
          "Monetary": 1500,
          "Recency": 2,
          "Time": 26
         },
         {
          "Donated": 1,
          "Frequency": 3,
          "Monetary": 750,
          "Recency": 14,
          "Time": 26
         },
         {
          "Donated": 1,
          "Frequency": 5,
          "Monetary": 1250,
          "Recency": 4,
          "Time": 34
         },
         {
          "Donated": 1,
          "Frequency": 4,
          "Monetary": 1000,
          "Recency": 4,
          "Time": 18
         },
         {
          "Donated": 2,
          "Frequency": 2,
          "Monetary": 500,
          "Recency": 2,
          "Time": 10
         },
         {
          "Donated": 1,
          "Frequency": 16,
          "Monetary": 4000,
          "Recency": 21,
          "Time": 64
         },
         {
          "Donated": 1,
          "Frequency": 2,
          "Monetary": 500,
          "Recency": 9,
          "Time": 11
         },
         {
          "Donated": 1,
          "Frequency": 3,
          "Monetary": 750,
          "Recency": 2,
          "Time": 35
         },
         {
          "Donated": 1,
          "Frequency": 4,
          "Monetary": 1000,
          "Recency": 11,
          "Time": 58
         },
         {
          "Donated": 1,
          "Frequency": 1,
          "Monetary": 250,
          "Recency": 2,
          "Time": 2
         },
         {
          "Donated": 1,
          "Frequency": 3,
          "Monetary": 750,
          "Recency": 14,
          "Time": 31
         },
         {
          "Donated": 1,
          "Frequency": 1,
          "Monetary": 250,
          "Recency": 39,
          "Time": 39
         },
         {
          "Donated": 1,
          "Frequency": 1,
          "Monetary": 250,
          "Recency": 2,
          "Time": 2
         },
         {
          "Donated": 2,
          "Frequency": 2,
          "Monetary": 500,
          "Recency": 11,
          "Time": 38
         },
         {
          "Donated": 1,
          "Frequency": 1,
          "Monetary": 250,
          "Recency": 2,
          "Time": 2
         },
         {
          "Donated": 1,
          "Frequency": 1,
          "Monetary": 250,
          "Recency": 16,
          "Time": 16
         },
         {
          "Donated": 1,
          "Frequency": 7,
          "Monetary": 1750,
          "Recency": 16,
          "Time": 28
         },
         {
          "Donated": 1,
          "Frequency": 1,
          "Monetary": 250,
          "Recency": 23,
          "Time": 23
         },
         {
          "Donated": 1,
          "Frequency": 3,
          "Monetary": 750,
          "Recency": 6,
          "Time": 14
         },
         {
          "Donated": 1,
          "Frequency": 4,
          "Monetary": 1000,
          "Recency": 16,
          "Time": 40
         },
         {
          "Donated": 1,
          "Frequency": 1,
          "Monetary": 250,
          "Recency": 16,
          "Time": 16
         },
         {
          "Donated": 2,
          "Frequency": 4,
          "Monetary": 1000,
          "Recency": 3,
          "Time": 29
         },
         {
          "Donated": 1,
          "Frequency": 4,
          "Monetary": 1000,
          "Recency": 23,
          "Time": 52
         },
         {
          "Donated": 2,
          "Frequency": 14,
          "Monetary": 3500,
          "Recency": 20,
          "Time": 69
         },
         {
          "Donated": 1,
          "Frequency": 1,
          "Monetary": 250,
          "Recency": 2,
          "Time": 2
         },
         {
          "Donated": 2,
          "Frequency": 4,
          "Monetary": 1000,
          "Recency": 14,
          "Time": 23
         },
         {
          "Donated": 1,
          "Frequency": 1,
          "Monetary": 250,
          "Recency": 16,
          "Time": 16
         },
         {
          "Donated": 1,
          "Frequency": 9,
          "Monetary": 2250,
          "Recency": 8,
          "Time": 64
         },
         {
          "Donated": 1,
          "Frequency": 1,
          "Monetary": 250,
          "Recency": 4,
          "Time": 4
         },
         {
          "Donated": 1,
          "Frequency": 2,
          "Monetary": 500,
          "Recency": 9,
          "Time": 26
         },
         {
          "Donated": 2,
          "Frequency": 4,
          "Monetary": 1000,
          "Recency": 4,
          "Time": 26
         },
         {
          "Donated": 1,
          "Frequency": 1,
          "Monetary": 250,
          "Recency": 14,
          "Time": 14
         },
         {
          "Donated": 2,
          "Frequency": 7,
          "Monetary": 1750,
          "Recency": 5,
          "Time": 26
         },
         {
          "Donated": 1,
          "Frequency": 3,
          "Monetary": 750,
          "Recency": 2,
          "Time": 19
         },
         {
          "Donated": 2,
          "Frequency": 4,
          "Monetary": 1000,
          "Recency": 11,
          "Time": 16
         },
         {
          "Donated": 2,
          "Frequency": 26,
          "Monetary": 6500,
          "Recency": 0,
          "Time": 76
         },
         {
          "Donated": 1,
          "Frequency": 8,
          "Monetary": 2000,
          "Recency": 3,
          "Time": 50
         },
         {
          "Donated": 2,
          "Frequency": 1,
          "Monetary": 250,
          "Recency": 3,
          "Time": 3
         },
         {
          "Donated": 1,
          "Frequency": 2,
          "Monetary": 500,
          "Recency": 21,
          "Time": 52
         },
         {
          "Donated": 2,
          "Frequency": 7,
          "Monetary": 1750,
          "Recency": 4,
          "Time": 22
         },
         {
          "Donated": 1,
          "Frequency": 4,
          "Monetary": 1000,
          "Recency": 14,
          "Time": 30
         },
         {
          "Donated": 2,
          "Frequency": 16,
          "Monetary": 4000,
          "Recency": 1,
          "Time": 35
         },
         {
          "Donated": 1,
          "Frequency": 3,
          "Monetary": 750,
          "Recency": 21,
          "Time": 38
         },
         {
          "Donated": 1,
          "Frequency": 7,
          "Monetary": 1750,
          "Recency": 4,
          "Time": 25
         },
         {
          "Donated": 1,
          "Frequency": 6,
          "Monetary": 1500,
          "Recency": 11,
          "Time": 27
         },
         {
          "Donated": 1,
          "Frequency": 1,
          "Monetary": 250,
          "Recency": 4,
          "Time": 4
         },
         {
          "Donated": 1,
          "Frequency": 2,
          "Monetary": 500,
          "Recency": 21,
          "Time": 23
         },
         {
          "Donated": 2,
          "Frequency": 3,
          "Monetary": 750,
          "Recency": 11,
          "Time": 16
         },
         {
          "Donated": 1,
          "Frequency": 3,
          "Monetary": 750,
          "Recency": 9,
          "Time": 34
         },
         {
          "Donated": 1,
          "Frequency": 1,
          "Monetary": 250,
          "Recency": 16,
          "Time": 16
         },
         {
          "Donated": 1,
          "Frequency": 9,
          "Monetary": 2250,
          "Recency": 4,
          "Time": 46
         },
         {
          "Donated": 2,
          "Frequency": 1,
          "Monetary": 250,
          "Recency": 4,
          "Time": 4
         },
         {
          "Donated": 1,
          "Frequency": 14,
          "Monetary": 3500,
          "Recency": 1,
          "Time": 95
         },
         {
          "Donated": 1,
          "Frequency": 2,
          "Monetary": 500,
          "Recency": 2,
          "Time": 4
         },
         {
          "Donated": 1,
          "Frequency": 2,
          "Monetary": 500,
          "Recency": 2,
          "Time": 2
         },
         {
          "Donated": 1,
          "Frequency": 4,
          "Monetary": 1000,
          "Recency": 11,
          "Time": 27
         },
         {
          "Donated": 2,
          "Frequency": 8,
          "Monetary": 2000,
          "Recency": 4,
          "Time": 40
         },
         {
          "Donated": 1,
          "Frequency": 17,
          "Monetary": 4250,
          "Recency": 3,
          "Time": 86
         },
         {
          "Donated": 1,
          "Frequency": 1,
          "Monetary": 250,
          "Recency": 4,
          "Time": 4
         },
         {
          "Donated": 1,
          "Frequency": 6,
          "Monetary": 1500,
          "Recency": 2,
          "Time": 45
         },
         {
          "Donated": 2,
          "Frequency": 5,
          "Monetary": 1250,
          "Recency": 2,
          "Time": 33
         },
         {
          "Donated": 1,
          "Frequency": 8,
          "Monetary": 2000,
          "Recency": 0,
          "Time": 59
         },
         {
          "Donated": 1,
          "Frequency": 5,
          "Monetary": 1250,
          "Recency": 3,
          "Time": 38
         },
         {
          "Donated": 2,
          "Frequency": 15,
          "Monetary": 3750,
          "Recency": 2,
          "Time": 49
         },
         {
          "Donated": 1,
          "Frequency": 3,
          "Monetary": 750,
          "Recency": 16,
          "Time": 86
         },
         {
          "Donated": 2,
          "Frequency": 4,
          "Monetary": 1000,
          "Recency": 4,
          "Time": 14
         },
         {
          "Donated": 1,
          "Frequency": 4,
          "Monetary": 1000,
          "Recency": 11,
          "Time": 34
         },
         {
          "Donated": 1,
          "Frequency": 1,
          "Monetary": 250,
          "Recency": 14,
          "Time": 14
         },
         {
          "Donated": 2,
          "Frequency": 2,
          "Monetary": 500,
          "Recency": 14,
          "Time": 21
         },
         {
          "Donated": 2,
          "Frequency": 4,
          "Monetary": 1000,
          "Recency": 4,
          "Time": 4
         }
        ]
       },
       "encoding": {
        "x": {
         "field": "Frequency",
         "type": "quantitative"
        },
        "y": {
         "aggregate": "count",
         "title": "Number of Donors",
         "type": "quantitative"
        }
       },
       "mark": "bar",
       "title": "Donor Frequency Distribution"
      },
      "image/png": "[encoded data removed]",
      "text/plain": [
       "<VegaLite 3 object>\n",
       "\n",
       "If you see this message, it means the renderer has not been properly enabled\n",
       "for the frontend that you are using. For more information, see\n",
       "https://altair-viz.github.io/user_guide/troubleshooting.html\n"
      ]
     },
     "execution_count": 14,
     "metadata": {},
     "output_type": "execute_result"
    }
   ],
   "source": [
    "alt.Chart(blood_df_train).mark_bar().encode(\n",
    "    alt.X(\"Frequency\"),\n",
    "    alt.Y(\"count()\", title = \"Number of Donors\"),\n",
    ").properties(title = \"Donor Frequency Distribution\")"
   ]
  },
  {
   "cell_type": "code",
   "execution_count": 15,
   "metadata": {},
   "outputs": [
    {
     "data": {
      "application/vnd.vegalite.v3+json": {
       "$schema": "https://vega.github.io/schema/vega-lite/v3.4.0.json",
       "config": {
        "mark": {
         "tooltip": null
        },
        "view": {
         "height": 300,
         "width": 400
        }
       },
       "data": {
        "name": "data-32548e9b1b08a896c9597c0c8174a7e1"
       },
       "datasets": {
        "data-32548e9b1b08a896c9597c0c8174a7e1": [
         {
          "Donated": 1,
          "Frequency": 9,
          "Monetary": 2250,
          "Recency": 8,
          "Time": 58
         },
         {
          "Donated": 1,
          "Frequency": 4,
          "Monetary": 1000,
          "Recency": 13,
          "Time": 21
         },
         {
          "Donated": 1,
          "Frequency": 6,
          "Monetary": 1500,
          "Recency": 4,
          "Time": 39
         },
         {
          "Donated": 1,
          "Frequency": 5,
          "Monetary": 1250,
          "Recency": 4,
          "Time": 46
         },
         {
          "Donated": 1,
          "Frequency": 6,
          "Monetary": 1500,
          "Recency": 3,
          "Time": 21
         },
         {
          "Donated": 1,
          "Frequency": 1,
          "Monetary": 250,
          "Recency": 9,
          "Time": 9
         },
         {
          "Donated": 1,
          "Frequency": 2,
          "Monetary": 500,
          "Recency": 14,
          "Time": 14
         },
         {
          "Donated": 1,
          "Frequency": 7,
          "Monetary": 1750,
          "Recency": 2,
          "Time": 77
         },
         {
          "Donated": 1,
          "Frequency": 2,
          "Monetary": 500,
          "Recency": 2,
          "Time": 41
         },
         {
          "Donated": 1,
          "Frequency": 2,
          "Monetary": 500,
          "Recency": 9,
          "Time": 52
         },
         {
          "Donated": 1,
          "Frequency": 1,
          "Monetary": 250,
          "Recency": 23,
          "Time": 23
         },
         {
          "Donated": 1,
          "Frequency": 4,
          "Monetary": 1000,
          "Recency": 16,
          "Time": 58
         },
         {
          "Donated": 1,
          "Frequency": 4,
          "Monetary": 1000,
          "Recency": 2,
          "Time": 26
         },
         {
          "Donated": 2,
          "Frequency": 2,
          "Monetary": 500,
          "Recency": 4,
          "Time": 4
         },
         {
          "Donated": 1,
          "Frequency": 3,
          "Monetary": 750,
          "Recency": 23,
          "Time": 35
         },
         {
          "Donated": 2,
          "Frequency": 1,
          "Monetary": 250,
          "Recency": 2,
          "Time": 2
         },
         {
          "Donated": 1,
          "Frequency": 4,
          "Monetary": 1000,
          "Recency": 9,
          "Time": 65
         },
         {
          "Donated": 2,
          "Frequency": 3,
          "Monetary": 750,
          "Recency": 14,
          "Time": 19
         },
         {
          "Donated": 1,
          "Frequency": 7,
          "Monetary": 1750,
          "Recency": 4,
          "Time": 58
         },
         {
          "Donated": 1,
          "Frequency": 16,
          "Monetary": 4000,
          "Recency": 2,
          "Time": 64
         },
         {
          "Donated": 1,
          "Frequency": 1,
          "Monetary": 250,
          "Recency": 4,
          "Time": 4
         },
         {
          "Donated": 1,
          "Frequency": 1,
          "Monetary": 250,
          "Recency": 40,
          "Time": 40
         },
         {
          "Donated": 1,
          "Frequency": 2,
          "Monetary": 500,
          "Recency": 14,
          "Time": 14
         },
         {
          "Donated": 1,
          "Frequency": 10,
          "Monetary": 2500,
          "Recency": 16,
          "Time": 89
         },
         {
          "Donated": 1,
          "Frequency": 6,
          "Monetary": 1500,
          "Recency": 23,
          "Time": 70
         },
         {
          "Donated": 1,
          "Frequency": 7,
          "Monetary": 1750,
          "Recency": 4,
          "Time": 62
         },
         {
          "Donated": 1,
          "Frequency": 6,
          "Monetary": 1500,
          "Recency": 4,
          "Time": 52
         },
         {
          "Donated": 2,
          "Frequency": 10,
          "Monetary": 2500,
          "Recency": 4,
          "Time": 28
         },
         {
          "Donated": 1,
          "Frequency": 4,
          "Monetary": 1000,
          "Recency": 11,
          "Time": 74
         },
         {
          "Donated": 1,
          "Frequency": 2,
          "Monetary": 500,
          "Recency": 4,
          "Time": 14
         },
         {
          "Donated": 2,
          "Frequency": 2,
          "Monetary": 500,
          "Recency": 21,
          "Time": 21
         },
         {
          "Donated": 1,
          "Frequency": 6,
          "Monetary": 1500,
          "Recency": 16,
          "Time": 81
         },
         {
          "Donated": 1,
          "Frequency": 4,
          "Monetary": 1000,
          "Recency": 11,
          "Time": 28
         },
         {
          "Donated": 2,
          "Frequency": 33,
          "Monetary": 8250,
          "Recency": 4,
          "Time": 98
         },
         {
          "Donated": 1,
          "Frequency": 1,
          "Monetary": 250,
          "Recency": 72,
          "Time": 72
         },
         {
          "Donated": 2,
          "Frequency": 7,
          "Monetary": 1750,
          "Recency": 2,
          "Time": 32
         },
         {
          "Donated": 1,
          "Frequency": 3,
          "Monetary": 750,
          "Recency": 16,
          "Time": 19
         },
         {
          "Donated": 1,
          "Frequency": 3,
          "Monetary": 750,
          "Recency": 11,
          "Time": 15
         },
         {
          "Donated": 2,
          "Frequency": 3,
          "Monetary": 750,
          "Recency": 2,
          "Time": 16
         },
         {
          "Donated": 1,
          "Frequency": 1,
          "Monetary": 250,
          "Recency": 4,
          "Time": 4
         },
         {
          "Donated": 1,
          "Frequency": 4,
          "Monetary": 1000,
          "Recency": 2,
          "Time": 26
         },
         {
          "Donated": 1,
          "Frequency": 1,
          "Monetary": 250,
          "Recency": 4,
          "Time": 4
         },
         {
          "Donated": 2,
          "Frequency": 43,
          "Monetary": 10750,
          "Recency": 2,
          "Time": 86
         },
         {
          "Donated": 2,
          "Frequency": 11,
          "Monetary": 2750,
          "Recency": 4,
          "Time": 64
         },
         {
          "Donated": 2,
          "Frequency": 6,
          "Monetary": 1500,
          "Recency": 4,
          "Time": 23
         },
         {
          "Donated": 1,
          "Frequency": 3,
          "Monetary": 750,
          "Recency": 2,
          "Time": 24
         },
         {
          "Donated": 1,
          "Frequency": 13,
          "Monetary": 3250,
          "Recency": 12,
          "Time": 59
         },
         {
          "Donated": 1,
          "Frequency": 15,
          "Monetary": 3750,
          "Recency": 12,
          "Time": 71
         },
         {
          "Donated": 1,
          "Frequency": 12,
          "Monetary": 3000,
          "Recency": 11,
          "Time": 58
         },
         {
          "Donated": 1,
          "Frequency": 4,
          "Monetary": 1000,
          "Recency": 2,
          "Time": 11
         },
         {
          "Donated": 1,
          "Frequency": 1,
          "Monetary": 250,
          "Recency": 2,
          "Time": 2
         },
         {
          "Donated": 1,
          "Frequency": 2,
          "Monetary": 500,
          "Recency": 21,
          "Time": 21
         },
         {
          "Donated": 1,
          "Frequency": 4,
          "Monetary": 1000,
          "Recency": 2,
          "Time": 35
         },
         {
          "Donated": 2,
          "Frequency": 3,
          "Monetary": 750,
          "Recency": 4,
          "Time": 25
         },
         {
          "Donated": 1,
          "Frequency": 4,
          "Monetary": 1000,
          "Recency": 10,
          "Time": 16
         },
         {
          "Donated": 1,
          "Frequency": 1,
          "Monetary": 250,
          "Recency": 21,
          "Time": 21
         },
         {
          "Donated": 2,
          "Frequency": 2,
          "Monetary": 500,
          "Recency": 4,
          "Time": 4
         },
         {
          "Donated": 2,
          "Frequency": 6,
          "Monetary": 1500,
          "Recency": 2,
          "Time": 41
         },
         {
          "Donated": 2,
          "Frequency": 13,
          "Monetary": 3250,
          "Recency": 2,
          "Time": 53
         },
         {
          "Donated": 1,
          "Frequency": 9,
          "Monetary": 2250,
          "Recency": 4,
          "Time": 40
         },
         {
          "Donated": 2,
          "Frequency": 1,
          "Monetary": 250,
          "Recency": 23,
          "Time": 23
         },
         {
          "Donated": 1,
          "Frequency": 15,
          "Monetary": 3750,
          "Recency": 2,
          "Time": 64
         },
         {
          "Donated": 1,
          "Frequency": 3,
          "Monetary": 750,
          "Recency": 2,
          "Time": 21
         },
         {
          "Donated": 1,
          "Frequency": 2,
          "Monetary": 500,
          "Recency": 23,
          "Time": 23
         },
         {
          "Donated": 1,
          "Frequency": 1,
          "Monetary": 250,
          "Recency": 4,
          "Time": 4
         },
         {
          "Donated": 2,
          "Frequency": 4,
          "Monetary": 1000,
          "Recency": 2,
          "Time": 14
         },
         {
          "Donated": 1,
          "Frequency": 2,
          "Monetary": 500,
          "Recency": 2,
          "Time": 11
         },
         {
          "Donated": 1,
          "Frequency": 6,
          "Monetary": 1500,
          "Recency": 11,
          "Time": 28
         },
         {
          "Donated": 1,
          "Frequency": 4,
          "Monetary": 1000,
          "Recency": 23,
          "Time": 87
         },
         {
          "Donated": 2,
          "Frequency": 6,
          "Monetary": 1500,
          "Recency": 2,
          "Time": 28
         },
         {
          "Donated": 2,
          "Frequency": 11,
          "Monetary": 2750,
          "Recency": 9,
          "Time": 49
         },
         {
          "Donated": 1,
          "Frequency": 3,
          "Monetary": 750,
          "Recency": 23,
          "Time": 33
         },
         {
          "Donated": 1,
          "Frequency": 1,
          "Monetary": 250,
          "Recency": 2,
          "Time": 2
         },
         {
          "Donated": 2,
          "Frequency": 2,
          "Monetary": 500,
          "Recency": 2,
          "Time": 4
         },
         {
          "Donated": 1,
          "Frequency": 16,
          "Monetary": 4000,
          "Recency": 14,
          "Time": 70
         },
         {
          "Donated": 2,
          "Frequency": 8,
          "Monetary": 2000,
          "Recency": 8,
          "Time": 52
         },
         {
          "Donated": 2,
          "Frequency": 8,
          "Monetary": 2000,
          "Recency": 4,
          "Time": 34
         },
         {
          "Donated": 1,
          "Frequency": 5,
          "Monetary": 1250,
          "Recency": 7,
          "Time": 35
         },
         {
          "Donated": 1,
          "Frequency": 5,
          "Monetary": 1250,
          "Recency": 4,
          "Time": 58
         },
         {
          "Donated": 1,
          "Frequency": 1,
          "Monetary": 250,
          "Recency": 11,
          "Time": 11
         },
         {
          "Donated": 2,
          "Frequency": 13,
          "Monetary": 3250,
          "Recency": 2,
          "Time": 76
         },
         {
          "Donated": 1,
          "Frequency": 7,
          "Monetary": 1750,
          "Recency": 4,
          "Time": 52
         },
         {
          "Donated": 1,
          "Frequency": 5,
          "Monetary": 1250,
          "Recency": 14,
          "Time": 50
         },
         {
          "Donated": 1,
          "Frequency": 8,
          "Monetary": 2000,
          "Recency": 14,
          "Time": 50
         },
         {
          "Donated": 1,
          "Frequency": 2,
          "Monetary": 500,
          "Recency": 4,
          "Time": 59
         },
         {
          "Donated": 1,
          "Frequency": 3,
          "Monetary": 750,
          "Recency": 11,
          "Time": 28
         },
         {
          "Donated": 1,
          "Frequency": 1,
          "Monetary": 250,
          "Recency": 23,
          "Time": 23
         },
         {
          "Donated": 1,
          "Frequency": 5,
          "Monetary": 1250,
          "Recency": 23,
          "Time": 58
         },
         {
          "Donated": 2,
          "Frequency": 5,
          "Monetary": 1250,
          "Recency": 4,
          "Time": 26
         },
         {
          "Donated": 2,
          "Frequency": 41,
          "Monetary": 10250,
          "Recency": 2,
          "Time": 98
         },
         {
          "Donated": 1,
          "Frequency": 5,
          "Monetary": 1250,
          "Recency": 4,
          "Time": 58
         },
         {
          "Donated": 1,
          "Frequency": 2,
          "Monetary": 500,
          "Recency": 14,
          "Time": 14
         },
         {
          "Donated": 2,
          "Frequency": 6,
          "Monetary": 1500,
          "Recency": 2,
          "Time": 16
         },
         {
          "Donated": 1,
          "Frequency": 3,
          "Monetary": 750,
          "Recency": 11,
          "Time": 76
         },
         {
          "Donated": 2,
          "Frequency": 3,
          "Monetary": 750,
          "Recency": 4,
          "Time": 16
         },
         {
          "Donated": 1,
          "Frequency": 2,
          "Monetary": 500,
          "Recency": 11,
          "Time": 70
         },
         {
          "Donated": 1,
          "Frequency": 2,
          "Monetary": 500,
          "Recency": 11,
          "Time": 11
         },
         {
          "Donated": 2,
          "Frequency": 16,
          "Monetary": 4000,
          "Recency": 4,
          "Time": 38
         },
         {
          "Donated": 1,
          "Frequency": 2,
          "Monetary": 500,
          "Recency": 11,
          "Time": 11
         },
         {
          "Donated": 1,
          "Frequency": 2,
          "Monetary": 500,
          "Recency": 14,
          "Time": 29
         },
         {
          "Donated": 1,
          "Frequency": 2,
          "Monetary": 500,
          "Recency": 3,
          "Time": 23
         },
         {
          "Donated": 1,
          "Frequency": 2,
          "Monetary": 500,
          "Recency": 4,
          "Time": 52
         },
         {
          "Donated": 1,
          "Frequency": 3,
          "Monetary": 750,
          "Recency": 4,
          "Time": 16
         },
         {
          "Donated": 1,
          "Frequency": 3,
          "Monetary": 750,
          "Recency": 4,
          "Time": 71
         },
         {
          "Donated": 1,
          "Frequency": 3,
          "Monetary": 750,
          "Recency": 14,
          "Time": 35
         },
         {
          "Donated": 2,
          "Frequency": 6,
          "Monetary": 1500,
          "Recency": 16,
          "Time": 35
         },
         {
          "Donated": 1,
          "Frequency": 7,
          "Monetary": 1750,
          "Recency": 14,
          "Time": 35
         },
         {
          "Donated": 2,
          "Frequency": 9,
          "Monetary": 2250,
          "Recency": 4,
          "Time": 28
         },
         {
          "Donated": 1,
          "Frequency": 1,
          "Monetary": 250,
          "Recency": 16,
          "Time": 16
         },
         {
          "Donated": 1,
          "Frequency": 1,
          "Monetary": 250,
          "Recency": 23,
          "Time": 23
         },
         {
          "Donated": 1,
          "Frequency": 10,
          "Monetary": 2500,
          "Recency": 2,
          "Time": 52
         },
         {
          "Donated": 1,
          "Frequency": 2,
          "Monetary": 500,
          "Recency": 4,
          "Time": 31
         },
         {
          "Donated": 1,
          "Frequency": 6,
          "Monetary": 1500,
          "Recency": 4,
          "Time": 14
         },
         {
          "Donated": 2,
          "Frequency": 5,
          "Monetary": 1250,
          "Recency": 4,
          "Time": 16
         },
         {
          "Donated": 2,
          "Frequency": 6,
          "Monetary": 1500,
          "Recency": 4,
          "Time": 35
         },
         {
          "Donated": 1,
          "Frequency": 1,
          "Monetary": 250,
          "Recency": 21,
          "Time": 21
         },
         {
          "Donated": 2,
          "Frequency": 9,
          "Monetary": 2250,
          "Recency": 4,
          "Time": 26
         },
         {
          "Donated": 1,
          "Frequency": 8,
          "Monetary": 2000,
          "Recency": 16,
          "Time": 76
         },
         {
          "Donated": 1,
          "Frequency": 5,
          "Monetary": 1250,
          "Recency": 11,
          "Time": 38
         },
         {
          "Donated": 1,
          "Frequency": 7,
          "Monetary": 1750,
          "Recency": 1,
          "Time": 57
         },
         {
          "Donated": 2,
          "Frequency": 5,
          "Monetary": 1250,
          "Recency": 2,
          "Time": 11
         },
         {
          "Donated": 1,
          "Frequency": 6,
          "Monetary": 1500,
          "Recency": 16,
          "Time": 35
         },
         {
          "Donated": 2,
          "Frequency": 5,
          "Monetary": 1250,
          "Recency": 2,
          "Time": 16
         },
         {
          "Donated": 1,
          "Frequency": 1,
          "Monetary": 250,
          "Recency": 11,
          "Time": 11
         },
         {
          "Donated": 1,
          "Frequency": 1,
          "Monetary": 250,
          "Recency": 2,
          "Time": 2
         },
         {
          "Donated": 1,
          "Frequency": 8,
          "Monetary": 2000,
          "Recency": 11,
          "Time": 48
         },
         {
          "Donated": 1,
          "Frequency": 6,
          "Monetary": 1500,
          "Recency": 11,
          "Time": 41
         },
         {
          "Donated": 1,
          "Frequency": 14,
          "Monetary": 3500,
          "Recency": 7,
          "Time": 48
         },
         {
          "Donated": 1,
          "Frequency": 2,
          "Monetary": 500,
          "Recency": 4,
          "Time": 4
         },
         {
          "Donated": 1,
          "Frequency": 16,
          "Monetary": 4000,
          "Recency": 14,
          "Time": 98
         },
         {
          "Donated": 1,
          "Frequency": 3,
          "Monetary": 750,
          "Recency": 14,
          "Time": 52
         },
         {
          "Donated": 1,
          "Frequency": 2,
          "Monetary": 500,
          "Recency": 11,
          "Time": 17
         },
         {
          "Donated": 2,
          "Frequency": 1,
          "Monetary": 250,
          "Recency": 2,
          "Time": 2
         },
         {
          "Donated": 2,
          "Frequency": 7,
          "Monetary": 1750,
          "Recency": 2,
          "Time": 46
         },
         {
          "Donated": 1,
          "Frequency": 1,
          "Monetary": 250,
          "Recency": 23,
          "Time": 23
         },
         {
          "Donated": 1,
          "Frequency": 1,
          "Monetary": 250,
          "Recency": 23,
          "Time": 23
         },
         {
          "Donated": 2,
          "Frequency": 13,
          "Monetary": 3250,
          "Recency": 2,
          "Time": 32
         },
         {
          "Donated": 1,
          "Frequency": 11,
          "Monetary": 2750,
          "Recency": 7,
          "Time": 89
         },
         {
          "Donated": 2,
          "Frequency": 6,
          "Monetary": 1500,
          "Recency": 2,
          "Time": 15
         },
         {
          "Donated": 2,
          "Frequency": 6,
          "Monetary": 1500,
          "Recency": 2,
          "Time": 16
         },
         {
          "Donated": 1,
          "Frequency": 13,
          "Monetary": 3250,
          "Recency": 14,
          "Time": 57
         },
         {
          "Donated": 1,
          "Frequency": 14,
          "Monetary": 3500,
          "Recency": 1,
          "Time": 58
         },
         {
          "Donated": 1,
          "Frequency": 8,
          "Monetary": 2000,
          "Recency": 14,
          "Time": 46
         },
         {
          "Donated": 2,
          "Frequency": 50,
          "Monetary": 12500,
          "Recency": 2,
          "Time": 98
         },
         {
          "Donated": 2,
          "Frequency": 17,
          "Monetary": 4250,
          "Recency": 4,
          "Time": 71
         },
         {
          "Donated": 1,
          "Frequency": 3,
          "Monetary": 750,
          "Recency": 14,
          "Time": 33
         },
         {
          "Donated": 1,
          "Frequency": 7,
          "Monetary": 1750,
          "Recency": 16,
          "Time": 64
         },
         {
          "Donated": 2,
          "Frequency": 4,
          "Monetary": 1000,
          "Recency": 4,
          "Time": 34
         },
         {
          "Donated": 1,
          "Frequency": 3,
          "Monetary": 750,
          "Recency": 21,
          "Time": 26
         },
         {
          "Donated": 1,
          "Frequency": 24,
          "Monetary": 6000,
          "Recency": 11,
          "Time": 64
         },
         {
          "Donated": 1,
          "Frequency": 8,
          "Monetary": 2000,
          "Recency": 14,
          "Time": 26
         },
         {
          "Donated": 2,
          "Frequency": 11,
          "Monetary": 2750,
          "Recency": 2,
          "Time": 41
         },
         {
          "Donated": 2,
          "Frequency": 9,
          "Monetary": 2250,
          "Recency": 11,
          "Time": 72
         },
         {
          "Donated": 1,
          "Frequency": 1,
          "Monetary": 250,
          "Recency": 21,
          "Time": 21
         },
         {
          "Donated": 1,
          "Frequency": 9,
          "Monetary": 2250,
          "Recency": 9,
          "Time": 16
         },
         {
          "Donated": 1,
          "Frequency": 1,
          "Monetary": 250,
          "Recency": 23,
          "Time": 23
         },
         {
          "Donated": 1,
          "Frequency": 9,
          "Monetary": 2250,
          "Recency": 9,
          "Time": 45
         },
         {
          "Donated": 1,
          "Frequency": 6,
          "Monetary": 1500,
          "Recency": 11,
          "Time": 26
         },
         {
          "Donated": 2,
          "Frequency": 1,
          "Monetary": 250,
          "Recency": 11,
          "Time": 11
         },
         {
          "Donated": 1,
          "Frequency": 4,
          "Monetary": 1000,
          "Recency": 14,
          "Time": 26
         },
         {
          "Donated": 1,
          "Frequency": 2,
          "Monetary": 500,
          "Recency": 2,
          "Time": 11
         },
         {
          "Donated": 1,
          "Frequency": 1,
          "Monetary": 250,
          "Recency": 14,
          "Time": 14
         },
         {
          "Donated": 1,
          "Frequency": 2,
          "Monetary": 500,
          "Recency": 11,
          "Time": 16
         },
         {
          "Donated": 1,
          "Frequency": 1,
          "Monetary": 250,
          "Recency": 16,
          "Time": 16
         },
         {
          "Donated": 1,
          "Frequency": 3,
          "Monetary": 750,
          "Recency": 21,
          "Time": 40
         },
         {
          "Donated": 1,
          "Frequency": 5,
          "Monetary": 1250,
          "Recency": 4,
          "Time": 58
         },
         {
          "Donated": 1,
          "Frequency": 1,
          "Monetary": 250,
          "Recency": 4,
          "Time": 4
         },
         {
          "Donated": 1,
          "Frequency": 16,
          "Monetary": 4000,
          "Recency": 15,
          "Time": 82
         },
         {
          "Donated": 1,
          "Frequency": 5,
          "Monetary": 1250,
          "Recency": 14,
          "Time": 14
         },
         {
          "Donated": 1,
          "Frequency": 4,
          "Monetary": 1000,
          "Recency": 16,
          "Time": 23
         },
         {
          "Donated": 1,
          "Frequency": 4,
          "Monetary": 1000,
          "Recency": 2,
          "Time": 70
         },
         {
          "Donated": 1,
          "Frequency": 12,
          "Monetary": 3000,
          "Recency": 23,
          "Time": 86
         },
         {
          "Donated": 1,
          "Frequency": 1,
          "Monetary": 250,
          "Recency": 14,
          "Time": 14
         },
         {
          "Donated": 1,
          "Frequency": 5,
          "Monetary": 1250,
          "Recency": 14,
          "Time": 26
         },
         {
          "Donated": 1,
          "Frequency": 5,
          "Monetary": 1250,
          "Recency": 16,
          "Time": 27
         },
         {
          "Donated": 2,
          "Frequency": 2,
          "Monetary": 500,
          "Recency": 2,
          "Time": 11
         },
         {
          "Donated": 1,
          "Frequency": 2,
          "Monetary": 500,
          "Recency": 4,
          "Time": 9
         },
         {
          "Donated": 1,
          "Frequency": 7,
          "Monetary": 1750,
          "Recency": 16,
          "Time": 39
         },
         {
          "Donated": 1,
          "Frequency": 17,
          "Monetary": 4250,
          "Recency": 6,
          "Time": 70
         },
         {
          "Donated": 1,
          "Frequency": 7,
          "Monetary": 1750,
          "Recency": 16,
          "Time": 93
         },
         {
          "Donated": 1,
          "Frequency": 12,
          "Monetary": 3000,
          "Recency": 2,
          "Time": 82
         },
         {
          "Donated": 1,
          "Frequency": 7,
          "Monetary": 1750,
          "Recency": 14,
          "Time": 26
         },
         {
          "Donated": 1,
          "Frequency": 1,
          "Monetary": 250,
          "Recency": 11,
          "Time": 11
         },
         {
          "Donated": 1,
          "Frequency": 13,
          "Monetary": 3250,
          "Recency": 21,
          "Time": 57
         },
         {
          "Donated": 1,
          "Frequency": 2,
          "Monetary": 500,
          "Recency": 2,
          "Time": 2
         },
         {
          "Donated": 2,
          "Frequency": 17,
          "Monetary": 4250,
          "Recency": 11,
          "Time": 79
         },
         {
          "Donated": 1,
          "Frequency": 2,
          "Monetary": 500,
          "Recency": 14,
          "Time": 14
         },
         {
          "Donated": 1,
          "Frequency": 1,
          "Monetary": 250,
          "Recency": 74,
          "Time": 74
         },
         {
          "Donated": 1,
          "Frequency": 3,
          "Monetary": 750,
          "Recency": 2,
          "Time": 22
         },
         {
          "Donated": 1,
          "Frequency": 7,
          "Monetary": 1750,
          "Recency": 4,
          "Time": 58
         },
         {
          "Donated": 1,
          "Frequency": 1,
          "Monetary": 250,
          "Recency": 2,
          "Time": 2
         },
         {
          "Donated": 2,
          "Frequency": 1,
          "Monetary": 250,
          "Recency": 4,
          "Time": 4
         },
         {
          "Donated": 2,
          "Frequency": 5,
          "Monetary": 1250,
          "Recency": 3,
          "Time": 12
         },
         {
          "Donated": 1,
          "Frequency": 1,
          "Monetary": 250,
          "Recency": 2,
          "Time": 2
         },
         {
          "Donated": 1,
          "Frequency": 16,
          "Monetary": 4000,
          "Recency": 11,
          "Time": 89
         },
         {
          "Donated": 1,
          "Frequency": 5,
          "Monetary": 1250,
          "Recency": 15,
          "Time": 33
         },
         {
          "Donated": 1,
          "Frequency": 2,
          "Monetary": 500,
          "Recency": 14,
          "Time": 14
         },
         {
          "Donated": 1,
          "Frequency": 11,
          "Monetary": 2750,
          "Recency": 4,
          "Time": 95
         },
         {
          "Donated": 1,
          "Frequency": 2,
          "Monetary": 500,
          "Recency": 4,
          "Time": 30
         },
         {
          "Donated": 1,
          "Frequency": 2,
          "Monetary": 500,
          "Recency": 14,
          "Time": 14
         },
         {
          "Donated": 2,
          "Frequency": 10,
          "Monetary": 2500,
          "Recency": 4,
          "Time": 28
         },
         {
          "Donated": 1,
          "Frequency": 14,
          "Monetary": 3500,
          "Recency": 16,
          "Time": 83
         },
         {
          "Donated": 1,
          "Frequency": 9,
          "Monetary": 2250,
          "Recency": 11,
          "Time": 38
         },
         {
          "Donated": 1,
          "Frequency": 5,
          "Monetary": 1250,
          "Recency": 2,
          "Time": 34
         },
         {
          "Donated": 1,
          "Frequency": 10,
          "Monetary": 2500,
          "Recency": 11,
          "Time": 35
         },
         {
          "Donated": 1,
          "Frequency": 2,
          "Monetary": 500,
          "Recency": 21,
          "Time": 33
         },
         {
          "Donated": 1,
          "Frequency": 1,
          "Monetary": 250,
          "Recency": 14,
          "Time": 14
         },
         {
          "Donated": 1,
          "Frequency": 10,
          "Monetary": 2500,
          "Recency": 8,
          "Time": 63
         },
         {
          "Donated": 2,
          "Frequency": 5,
          "Monetary": 1250,
          "Recency": 4,
          "Time": 23
         },
         {
          "Donated": 1,
          "Frequency": 7,
          "Monetary": 1750,
          "Recency": 4,
          "Time": 28
         },
         {
          "Donated": 1,
          "Frequency": 1,
          "Monetary": 250,
          "Recency": 14,
          "Time": 14
         },
         {
          "Donated": 2,
          "Frequency": 3,
          "Monetary": 750,
          "Recency": 2,
          "Time": 4
         },
         {
          "Donated": 1,
          "Frequency": 5,
          "Monetary": 1250,
          "Recency": 4,
          "Time": 58
         },
         {
          "Donated": 2,
          "Frequency": 1,
          "Monetary": 250,
          "Recency": 4,
          "Time": 4
         },
         {
          "Donated": 2,
          "Frequency": 5,
          "Monetary": 1250,
          "Recency": 4,
          "Time": 11
         },
         {
          "Donated": 1,
          "Frequency": 3,
          "Monetary": 750,
          "Recency": 4,
          "Time": 34
         },
         {
          "Donated": 1,
          "Frequency": 1,
          "Monetary": 250,
          "Recency": 4,
          "Time": 4
         },
         {
          "Donated": 1,
          "Frequency": 5,
          "Monetary": 1250,
          "Recency": 11,
          "Time": 33
         },
         {
          "Donated": 2,
          "Frequency": 3,
          "Monetary": 750,
          "Recency": 11,
          "Time": 40
         },
         {
          "Donated": 1,
          "Frequency": 8,
          "Monetary": 2000,
          "Recency": 16,
          "Time": 28
         },
         {
          "Donated": 1,
          "Frequency": 8,
          "Monetary": 2000,
          "Recency": 13,
          "Time": 26
         },
         {
          "Donated": 1,
          "Frequency": 1,
          "Monetary": 250,
          "Recency": 21,
          "Time": 21
         },
         {
          "Donated": 1,
          "Frequency": 14,
          "Monetary": 3500,
          "Recency": 4,
          "Time": 86
         },
         {
          "Donated": 1,
          "Frequency": 1,
          "Monetary": 250,
          "Recency": 4,
          "Time": 4
         },
         {
          "Donated": 1,
          "Frequency": 10,
          "Monetary": 2500,
          "Recency": 16,
          "Time": 62
         },
         {
          "Donated": 2,
          "Frequency": 7,
          "Monetary": 1750,
          "Recency": 2,
          "Time": 35
         },
         {
          "Donated": 1,
          "Frequency": 1,
          "Monetary": 250,
          "Recency": 4,
          "Time": 4
         },
         {
          "Donated": 1,
          "Frequency": 7,
          "Monetary": 1750,
          "Recency": 4,
          "Time": 52
         },
         {
          "Donated": 2,
          "Frequency": 22,
          "Monetary": 5500,
          "Recency": 6,
          "Time": 28
         },
         {
          "Donated": 1,
          "Frequency": 7,
          "Monetary": 1750,
          "Recency": 21,
          "Time": 38
         },
         {
          "Donated": 1,
          "Frequency": 11,
          "Monetary": 2750,
          "Recency": 5,
          "Time": 75
         },
         {
          "Donated": 1,
          "Frequency": 6,
          "Monetary": 1500,
          "Recency": 4,
          "Time": 46
         },
         {
          "Donated": 1,
          "Frequency": 5,
          "Monetary": 1250,
          "Recency": 10,
          "Time": 38
         },
         {
          "Donated": 2,
          "Frequency": 16,
          "Monetary": 4000,
          "Recency": 4,
          "Time": 70
         },
         {
          "Donated": 2,
          "Frequency": 12,
          "Monetary": 3000,
          "Recency": 4,
          "Time": 34
         },
         {
          "Donated": 1,
          "Frequency": 1,
          "Monetary": 250,
          "Recency": 16,
          "Time": 16
         },
         {
          "Donated": 1,
          "Frequency": 1,
          "Monetary": 250,
          "Recency": 4,
          "Time": 4
         },
         {
          "Donated": 1,
          "Frequency": 2,
          "Monetary": 500,
          "Recency": 11,
          "Time": 11
         },
         {
          "Donated": 2,
          "Frequency": 5,
          "Monetary": 1250,
          "Recency": 4,
          "Time": 35
         },
         {
          "Donated": 1,
          "Frequency": 1,
          "Monetary": 250,
          "Recency": 2,
          "Time": 2
         },
         {
          "Donated": 1,
          "Frequency": 1,
          "Monetary": 250,
          "Recency": 16,
          "Time": 16
         },
         {
          "Donated": 1,
          "Frequency": 4,
          "Monetary": 1000,
          "Recency": 2,
          "Time": 16
         },
         {
          "Donated": 2,
          "Frequency": 2,
          "Monetary": 500,
          "Recency": 9,
          "Time": 16
         },
         {
          "Donated": 1,
          "Frequency": 1,
          "Monetary": 250,
          "Recency": 4,
          "Time": 4
         },
         {
          "Donated": 1,
          "Frequency": 1,
          "Monetary": 250,
          "Recency": 2,
          "Time": 2
         },
         {
          "Donated": 1,
          "Frequency": 1,
          "Monetary": 250,
          "Recency": 21,
          "Time": 21
         },
         {
          "Donated": 1,
          "Frequency": 11,
          "Monetary": 2750,
          "Recency": 4,
          "Time": 28
         },
         {
          "Donated": 1,
          "Frequency": 1,
          "Monetary": 250,
          "Recency": 21,
          "Time": 21
         },
         {
          "Donated": 1,
          "Frequency": 6,
          "Monetary": 1500,
          "Recency": 4,
          "Time": 35
         },
         {
          "Donated": 1,
          "Frequency": 5,
          "Monetary": 1250,
          "Recency": 14,
          "Time": 64
         },
         {
          "Donated": 1,
          "Frequency": 1,
          "Monetary": 250,
          "Recency": 21,
          "Time": 21
         },
         {
          "Donated": 1,
          "Frequency": 2,
          "Monetary": 500,
          "Recency": 11,
          "Time": 26
         },
         {
          "Donated": 2,
          "Frequency": 3,
          "Monetary": 750,
          "Recency": 16,
          "Time": 21
         },
         {
          "Donated": 1,
          "Frequency": 9,
          "Monetary": 2250,
          "Recency": 4,
          "Time": 28
         },
         {
          "Donated": 1,
          "Frequency": 1,
          "Monetary": 250,
          "Recency": 4,
          "Time": 4
         },
         {
          "Donated": 1,
          "Frequency": 8,
          "Monetary": 2000,
          "Recency": 10,
          "Time": 39
         },
         {
          "Donated": 1,
          "Frequency": 1,
          "Monetary": 250,
          "Recency": 4,
          "Time": 4
         },
         {
          "Donated": 1,
          "Frequency": 2,
          "Monetary": 500,
          "Recency": 2,
          "Time": 14
         },
         {
          "Donated": 2,
          "Frequency": 5,
          "Monetary": 1250,
          "Recency": 14,
          "Time": 28
         },
         {
          "Donated": 2,
          "Frequency": 1,
          "Monetary": 250,
          "Recency": 4,
          "Time": 4
         },
         {
          "Donated": 1,
          "Frequency": 1,
          "Monetary": 250,
          "Recency": 2,
          "Time": 2
         },
         {
          "Donated": 2,
          "Frequency": 13,
          "Monetary": 3250,
          "Recency": 4,
          "Time": 39
         },
         {
          "Donated": 1,
          "Frequency": 15,
          "Monetary": 3750,
          "Recency": 23,
          "Time": 57
         },
         {
          "Donated": 1,
          "Frequency": 1,
          "Monetary": 250,
          "Recency": 11,
          "Time": 11
         },
         {
          "Donated": 1,
          "Frequency": 8,
          "Monetary": 2000,
          "Recency": 23,
          "Time": 69
         },
         {
          "Donated": 1,
          "Frequency": 2,
          "Monetary": 500,
          "Recency": 23,
          "Time": 26
         },
         {
          "Donated": 1,
          "Frequency": 8,
          "Monetary": 2000,
          "Recency": 23,
          "Time": 64
         },
         {
          "Donated": 1,
          "Frequency": 3,
          "Monetary": 750,
          "Recency": 4,
          "Time": 28
         },
         {
          "Donated": 1,
          "Frequency": 1,
          "Monetary": 250,
          "Recency": 16,
          "Time": 16
         },
         {
          "Donated": 1,
          "Frequency": 6,
          "Monetary": 1500,
          "Recency": 2,
          "Time": 22
         },
         {
          "Donated": 1,
          "Frequency": 2,
          "Monetary": 500,
          "Recency": 23,
          "Time": 28
         },
         {
          "Donated": 1,
          "Frequency": 5,
          "Monetary": 1250,
          "Recency": 16,
          "Time": 71
         },
         {
          "Donated": 1,
          "Frequency": 11,
          "Monetary": 2750,
          "Recency": 12,
          "Time": 23
         },
         {
          "Donated": 1,
          "Frequency": 19,
          "Monetary": 4750,
          "Recency": 23,
          "Time": 62
         },
         {
          "Donated": 1,
          "Frequency": 5,
          "Monetary": 1250,
          "Recency": 16,
          "Time": 60
         },
         {
          "Donated": 2,
          "Frequency": 11,
          "Monetary": 2750,
          "Recency": 2,
          "Time": 40
         },
         {
          "Donated": 1,
          "Frequency": 5,
          "Monetary": 1250,
          "Recency": 2,
          "Time": 26
         },
         {
          "Donated": 1,
          "Frequency": 3,
          "Monetary": 750,
          "Recency": 21,
          "Time": 38
         },
         {
          "Donated": 1,
          "Frequency": 1,
          "Monetary": 250,
          "Recency": 23,
          "Time": 23
         },
         {
          "Donated": 1,
          "Frequency": 2,
          "Monetary": 500,
          "Recency": 11,
          "Time": 21
         },
         {
          "Donated": 1,
          "Frequency": 15,
          "Monetary": 3750,
          "Recency": 16,
          "Time": 87
         },
         {
          "Donated": 1,
          "Frequency": 3,
          "Monetary": 750,
          "Recency": 23,
          "Time": 39
         },
         {
          "Donated": 2,
          "Frequency": 7,
          "Monetary": 1750,
          "Recency": 17,
          "Time": 58
         },
         {
          "Donated": 1,
          "Frequency": 22,
          "Monetary": 5500,
          "Recency": 11,
          "Time": 98
         },
         {
          "Donated": 2,
          "Frequency": 7,
          "Monetary": 1750,
          "Recency": 11,
          "Time": 62
         },
         {
          "Donated": 1,
          "Frequency": 6,
          "Monetary": 1500,
          "Recency": 2,
          "Time": 26
         },
         {
          "Donated": 1,
          "Frequency": 6,
          "Monetary": 1500,
          "Recency": 16,
          "Time": 40
         },
         {
          "Donated": 2,
          "Frequency": 7,
          "Monetary": 1750,
          "Recency": 2,
          "Time": 14
         },
         {
          "Donated": 1,
          "Frequency": 3,
          "Monetary": 750,
          "Recency": 16,
          "Time": 34
         },
         {
          "Donated": 1,
          "Frequency": 2,
          "Monetary": 500,
          "Recency": 23,
          "Time": 28
         },
         {
          "Donated": 1,
          "Frequency": 3,
          "Monetary": 750,
          "Recency": 16,
          "Time": 50
         },
         {
          "Donated": 2,
          "Frequency": 1,
          "Monetary": 250,
          "Recency": 22,
          "Time": 22
         },
         {
          "Donated": 1,
          "Frequency": 1,
          "Monetary": 250,
          "Recency": 23,
          "Time": 23
         },
         {
          "Donated": 1,
          "Frequency": 6,
          "Monetary": 1500,
          "Recency": 21,
          "Time": 48
         },
         {
          "Donated": 2,
          "Frequency": 8,
          "Monetary": 2000,
          "Recency": 2,
          "Time": 35
         },
         {
          "Donated": 1,
          "Frequency": 1,
          "Monetary": 250,
          "Recency": 21,
          "Time": 21
         },
         {
          "Donated": 1,
          "Frequency": 3,
          "Monetary": 750,
          "Recency": 21,
          "Time": 35
         },
         {
          "Donated": 1,
          "Frequency": 10,
          "Monetary": 2500,
          "Recency": 2,
          "Time": 49
         },
         {
          "Donated": 1,
          "Frequency": 2,
          "Monetary": 500,
          "Recency": 9,
          "Time": 52
         },
         {
          "Donated": 2,
          "Frequency": 6,
          "Monetary": 1500,
          "Recency": 4,
          "Time": 16
         },
         {
          "Donated": 2,
          "Frequency": 1,
          "Monetary": 250,
          "Recency": 2,
          "Time": 2
         },
         {
          "Donated": 2,
          "Frequency": 8,
          "Monetary": 2000,
          "Recency": 4,
          "Time": 48
         },
         {
          "Donated": 1,
          "Frequency": 1,
          "Monetary": 250,
          "Recency": 23,
          "Time": 23
         },
         {
          "Donated": 2,
          "Frequency": 10,
          "Monetary": 2500,
          "Recency": 1,
          "Time": 43
         },
         {
          "Donated": 2,
          "Frequency": 1,
          "Monetary": 250,
          "Recency": 2,
          "Time": 2
         },
         {
          "Donated": 1,
          "Frequency": 11,
          "Monetary": 2750,
          "Recency": 2,
          "Time": 28
         },
         {
          "Donated": 1,
          "Frequency": 12,
          "Monetary": 3000,
          "Recency": 1,
          "Time": 35
         },
         {
          "Donated": 1,
          "Frequency": 1,
          "Monetary": 250,
          "Recency": 11,
          "Time": 11
         },
         {
          "Donated": 2,
          "Frequency": 14,
          "Monetary": 3500,
          "Recency": 2,
          "Time": 57
         },
         {
          "Donated": 1,
          "Frequency": 5,
          "Monetary": 1250,
          "Recency": 11,
          "Time": 18
         },
         {
          "Donated": 1,
          "Frequency": 2,
          "Monetary": 500,
          "Recency": 18,
          "Time": 23
         },
         {
          "Donated": 2,
          "Frequency": 2,
          "Monetary": 500,
          "Recency": 4,
          "Time": 4
         },
         {
          "Donated": 2,
          "Frequency": 10,
          "Monetary": 2500,
          "Recency": 2,
          "Time": 28
         },
         {
          "Donated": 1,
          "Frequency": 1,
          "Monetary": 250,
          "Recency": 14,
          "Time": 14
         },
         {
          "Donated": 1,
          "Frequency": 8,
          "Monetary": 2000,
          "Recency": 18,
          "Time": 95
         },
         {
          "Donated": 1,
          "Frequency": 2,
          "Monetary": 500,
          "Recency": 4,
          "Time": 23
         },
         {
          "Donated": 2,
          "Frequency": 2,
          "Monetary": 500,
          "Recency": 4,
          "Time": 9
         },
         {
          "Donated": 1,
          "Frequency": 1,
          "Monetary": 250,
          "Recency": 2,
          "Time": 2
         },
         {
          "Donated": 1,
          "Frequency": 1,
          "Monetary": 250,
          "Recency": 23,
          "Time": 23
         },
         {
          "Donated": 1,
          "Frequency": 4,
          "Monetary": 1000,
          "Recency": 16,
          "Time": 45
         },
         {
          "Donated": 1,
          "Frequency": 1,
          "Monetary": 250,
          "Recency": 23,
          "Time": 23
         },
         {
          "Donated": 1,
          "Frequency": 6,
          "Monetary": 1500,
          "Recency": 5,
          "Time": 28
         },
         {
          "Donated": 1,
          "Frequency": 11,
          "Monetary": 2750,
          "Recency": 4,
          "Time": 61
         },
         {
          "Donated": 2,
          "Frequency": 9,
          "Monetary": 2250,
          "Recency": 4,
          "Time": 38
         },
         {
          "Donated": 1,
          "Frequency": 14,
          "Monetary": 3500,
          "Recency": 4,
          "Time": 40
         },
         {
          "Donated": 1,
          "Frequency": 1,
          "Monetary": 250,
          "Recency": 4,
          "Time": 4
         },
         {
          "Donated": 2,
          "Frequency": 1,
          "Monetary": 250,
          "Recency": 2,
          "Time": 2
         },
         {
          "Donated": 1,
          "Frequency": 4,
          "Monetary": 1000,
          "Recency": 2,
          "Time": 16
         },
         {
          "Donated": 1,
          "Frequency": 2,
          "Monetary": 500,
          "Recency": 11,
          "Time": 24
         },
         {
          "Donated": 1,
          "Frequency": 6,
          "Monetary": 1500,
          "Recency": 4,
          "Time": 35
         },
         {
          "Donated": 2,
          "Frequency": 13,
          "Monetary": 3250,
          "Recency": 0,
          "Time": 28
         },
         {
          "Donated": 1,
          "Frequency": 7,
          "Monetary": 1750,
          "Recency": 2,
          "Time": 77
         },
         {
          "Donated": 2,
          "Frequency": 3,
          "Monetary": 750,
          "Recency": 2,
          "Time": 4
         },
         {
          "Donated": 1,
          "Frequency": 8,
          "Monetary": 2000,
          "Recency": 4,
          "Time": 21
         },
         {
          "Donated": 1,
          "Frequency": 2,
          "Monetary": 500,
          "Recency": 16,
          "Time": 16
         },
         {
          "Donated": 1,
          "Frequency": 4,
          "Monetary": 1000,
          "Recency": 14,
          "Time": 40
         },
         {
          "Donated": 1,
          "Frequency": 24,
          "Monetary": 6000,
          "Recency": 5,
          "Time": 79
         },
         {
          "Donated": 1,
          "Frequency": 1,
          "Monetary": 250,
          "Recency": 11,
          "Time": 11
         },
         {
          "Donated": 1,
          "Frequency": 3,
          "Monetary": 750,
          "Recency": 21,
          "Time": 35
         },
         {
          "Donated": 1,
          "Frequency": 4,
          "Monetary": 1000,
          "Recency": 2,
          "Time": 16
         },
         {
          "Donated": 1,
          "Frequency": 1,
          "Monetary": 250,
          "Recency": 11,
          "Time": 11
         },
         {
          "Donated": 1,
          "Frequency": 4,
          "Monetary": 1000,
          "Recency": 2,
          "Time": 16
         },
         {
          "Donated": 2,
          "Frequency": 5,
          "Monetary": 1250,
          "Recency": 16,
          "Time": 40
         },
         {
          "Donated": 1,
          "Frequency": 12,
          "Monetary": 3000,
          "Recency": 16,
          "Time": 50
         },
         {
          "Donated": 1,
          "Frequency": 1,
          "Monetary": 250,
          "Recency": 14,
          "Time": 14
         },
         {
          "Donated": 1,
          "Frequency": 3,
          "Monetary": 750,
          "Recency": 35,
          "Time": 64
         },
         {
          "Donated": 1,
          "Frequency": 7,
          "Monetary": 1750,
          "Recency": 14,
          "Time": 47
         },
         {
          "Donated": 1,
          "Frequency": 1,
          "Monetary": 250,
          "Recency": 11,
          "Time": 11
         },
         {
          "Donated": 1,
          "Frequency": 12,
          "Monetary": 3000,
          "Recency": 2,
          "Time": 52
         },
         {
          "Donated": 1,
          "Frequency": 18,
          "Monetary": 4500,
          "Recency": 14,
          "Time": 78
         },
         {
          "Donated": 1,
          "Frequency": 1,
          "Monetary": 250,
          "Recency": 2,
          "Time": 2
         },
         {
          "Donated": 1,
          "Frequency": 4,
          "Monetary": 1000,
          "Recency": 4,
          "Time": 16
         },
         {
          "Donated": 1,
          "Frequency": 2,
          "Monetary": 500,
          "Recency": 21,
          "Time": 25
         },
         {
          "Donated": 1,
          "Frequency": 2,
          "Monetary": 500,
          "Recency": 21,
          "Time": 41
         },
         {
          "Donated": 1,
          "Frequency": 11,
          "Monetary": 2750,
          "Recency": 12,
          "Time": 39
         },
         {
          "Donated": 1,
          "Frequency": 7,
          "Monetary": 1750,
          "Recency": 11,
          "Time": 75
         },
         {
          "Donated": 1,
          "Frequency": 8,
          "Monetary": 2000,
          "Recency": 11,
          "Time": 72
         },
         {
          "Donated": 1,
          "Frequency": 3,
          "Monetary": 750,
          "Recency": 6,
          "Time": 26
         },
         {
          "Donated": 1,
          "Frequency": 3,
          "Monetary": 750,
          "Recency": 11,
          "Time": 37
         },
         {
          "Donated": 1,
          "Frequency": 1,
          "Monetary": 250,
          "Recency": 11,
          "Time": 11
         },
         {
          "Donated": 1,
          "Frequency": 5,
          "Monetary": 1250,
          "Recency": 2,
          "Time": 26
         },
         {
          "Donated": 1,
          "Frequency": 4,
          "Monetary": 1000,
          "Recency": 23,
          "Time": 45
         },
         {
          "Donated": 1,
          "Frequency": 3,
          "Monetary": 750,
          "Recency": 16,
          "Time": 35
         },
         {
          "Donated": 1,
          "Frequency": 2,
          "Monetary": 500,
          "Recency": 2,
          "Time": 22
         },
         {
          "Donated": 1,
          "Frequency": 2,
          "Monetary": 500,
          "Recency": 21,
          "Time": 23
         },
         {
          "Donated": 1,
          "Frequency": 2,
          "Monetary": 500,
          "Recency": 2,
          "Time": 11
         },
         {
          "Donated": 1,
          "Frequency": 1,
          "Monetary": 250,
          "Recency": 4,
          "Time": 4
         },
         {
          "Donated": 1,
          "Frequency": 2,
          "Monetary": 500,
          "Recency": 23,
          "Time": 87
         },
         {
          "Donated": 1,
          "Frequency": 1,
          "Monetary": 250,
          "Recency": 21,
          "Time": 21
         },
         {
          "Donated": 1,
          "Frequency": 3,
          "Monetary": 750,
          "Recency": 4,
          "Time": 16
         },
         {
          "Donated": 2,
          "Frequency": 8,
          "Monetary": 2000,
          "Recency": 4,
          "Time": 46
         },
         {
          "Donated": 1,
          "Frequency": 11,
          "Monetary": 2750,
          "Recency": 4,
          "Time": 78
         },
         {
          "Donated": 1,
          "Frequency": 4,
          "Monetary": 1000,
          "Recency": 2,
          "Time": 43
         },
         {
          "Donated": 1,
          "Frequency": 3,
          "Monetary": 750,
          "Recency": 14,
          "Time": 21
         },
         {
          "Donated": 1,
          "Frequency": 12,
          "Monetary": 3000,
          "Recency": 7,
          "Time": 86
         },
         {
          "Donated": 1,
          "Frequency": 3,
          "Monetary": 750,
          "Recency": 2,
          "Time": 14
         },
         {
          "Donated": 1,
          "Frequency": 1,
          "Monetary": 250,
          "Recency": 14,
          "Time": 14
         },
         {
          "Donated": 1,
          "Frequency": 7,
          "Monetary": 1750,
          "Recency": 11,
          "Time": 64
         },
         {
          "Donated": 1,
          "Frequency": 6,
          "Monetary": 1500,
          "Recency": 25,
          "Time": 50
         },
         {
          "Donated": 2,
          "Frequency": 20,
          "Monetary": 5000,
          "Recency": 4,
          "Time": 69
         },
         {
          "Donated": 1,
          "Frequency": 3,
          "Monetary": 750,
          "Recency": 14,
          "Time": 41
         },
         {
          "Donated": 1,
          "Frequency": 1,
          "Monetary": 250,
          "Recency": 2,
          "Time": 2
         },
         {
          "Donated": 2,
          "Frequency": 21,
          "Monetary": 5250,
          "Recency": 3,
          "Time": 42
         },
         {
          "Donated": 1,
          "Frequency": 7,
          "Monetary": 1750,
          "Recency": 16,
          "Time": 38
         },
         {
          "Donated": 1,
          "Frequency": 3,
          "Monetary": 750,
          "Recency": 16,
          "Time": 21
         },
         {
          "Donated": 1,
          "Frequency": 1,
          "Monetary": 250,
          "Recency": 2,
          "Time": 2
         },
         {
          "Donated": 1,
          "Frequency": 12,
          "Monetary": 3000,
          "Recency": 2,
          "Time": 98
         },
         {
          "Donated": 1,
          "Frequency": 2,
          "Monetary": 500,
          "Recency": 21,
          "Time": 23
         },
         {
          "Donated": 1,
          "Frequency": 1,
          "Monetary": 250,
          "Recency": 4,
          "Time": 4
         },
         {
          "Donated": 2,
          "Frequency": 1,
          "Monetary": 250,
          "Recency": 4,
          "Time": 4
         },
         {
          "Donated": 1,
          "Frequency": 1,
          "Monetary": 250,
          "Recency": 21,
          "Time": 21
         },
         {
          "Donated": 2,
          "Frequency": 10,
          "Monetary": 2500,
          "Recency": 4,
          "Time": 28
         },
         {
          "Donated": 1,
          "Frequency": 2,
          "Monetary": 500,
          "Recency": 2,
          "Time": 33
         },
         {
          "Donated": 1,
          "Frequency": 2,
          "Monetary": 500,
          "Recency": 4,
          "Time": 41
         },
         {
          "Donated": 2,
          "Frequency": 2,
          "Monetary": 500,
          "Recency": 2,
          "Time": 11
         },
         {
          "Donated": 1,
          "Frequency": 5,
          "Monetary": 1250,
          "Recency": 2,
          "Time": 37
         },
         {
          "Donated": 1,
          "Frequency": 4,
          "Monetary": 1000,
          "Recency": 2,
          "Time": 23
         },
         {
          "Donated": 1,
          "Frequency": 3,
          "Monetary": 750,
          "Recency": 13,
          "Time": 16
         },
         {
          "Donated": 1,
          "Frequency": 9,
          "Monetary": 2250,
          "Recency": 4,
          "Time": 52
         },
         {
          "Donated": 1,
          "Frequency": 1,
          "Monetary": 250,
          "Recency": 16,
          "Time": 16
         },
         {
          "Donated": 1,
          "Frequency": 3,
          "Monetary": 750,
          "Recency": 11,
          "Time": 23
         },
         {
          "Donated": 1,
          "Frequency": 3,
          "Monetary": 750,
          "Recency": 14,
          "Time": 26
         },
         {
          "Donated": 1,
          "Frequency": 5,
          "Monetary": 1250,
          "Recency": 11,
          "Time": 35
         },
         {
          "Donated": 1,
          "Frequency": 1,
          "Monetary": 250,
          "Recency": 16,
          "Time": 16
         },
         {
          "Donated": 1,
          "Frequency": 23,
          "Monetary": 5750,
          "Recency": 4,
          "Time": 58
         },
         {
          "Donated": 1,
          "Frequency": 2,
          "Monetary": 500,
          "Recency": 21,
          "Time": 26
         },
         {
          "Donated": 2,
          "Frequency": 6,
          "Monetary": 1500,
          "Recency": 2,
          "Time": 28
         },
         {
          "Donated": 1,
          "Frequency": 6,
          "Monetary": 1500,
          "Recency": 2,
          "Time": 75
         },
         {
          "Donated": 1,
          "Frequency": 7,
          "Monetary": 1750,
          "Recency": 2,
          "Time": 76
         },
         {
          "Donated": 1,
          "Frequency": 4,
          "Monetary": 1000,
          "Recency": 11,
          "Time": 61
         },
         {
          "Donated": 1,
          "Frequency": 9,
          "Monetary": 2250,
          "Recency": 1,
          "Time": 51
         },
         {
          "Donated": 1,
          "Frequency": 2,
          "Monetary": 500,
          "Recency": 2,
          "Time": 14
         },
         {
          "Donated": 1,
          "Frequency": 9,
          "Monetary": 2250,
          "Recency": 2,
          "Time": 75
         },
         {
          "Donated": 1,
          "Frequency": 5,
          "Monetary": 1250,
          "Recency": 4,
          "Time": 23
         },
         {
          "Donated": 1,
          "Frequency": 2,
          "Monetary": 500,
          "Recency": 14,
          "Time": 16
         },
         {
          "Donated": 1,
          "Frequency": 9,
          "Monetary": 2250,
          "Recency": 12,
          "Time": 60
         },
         {
          "Donated": 2,
          "Frequency": 7,
          "Monetary": 1750,
          "Recency": 16,
          "Time": 87
         },
         {
          "Donated": 2,
          "Frequency": 34,
          "Monetary": 8500,
          "Recency": 2,
          "Time": 77
         },
         {
          "Donated": 1,
          "Frequency": 38,
          "Monetary": 9500,
          "Recency": 23,
          "Time": 98
         },
         {
          "Donated": 1,
          "Frequency": 7,
          "Monetary": 1750,
          "Recency": 14,
          "Time": 45
         },
         {
          "Donated": 1,
          "Frequency": 11,
          "Monetary": 2750,
          "Recency": 2,
          "Time": 23
         },
         {
          "Donated": 1,
          "Frequency": 3,
          "Monetary": 750,
          "Recency": 11,
          "Time": 76
         },
         {
          "Donated": 2,
          "Frequency": 4,
          "Monetary": 1000,
          "Recency": 14,
          "Time": 22
         },
         {
          "Donated": 1,
          "Frequency": 1,
          "Monetary": 250,
          "Recency": 16,
          "Time": 16
         },
         {
          "Donated": 1,
          "Frequency": 4,
          "Monetary": 1000,
          "Recency": 4,
          "Time": 26
         },
         {
          "Donated": 1,
          "Frequency": 2,
          "Monetary": 500,
          "Recency": 11,
          "Time": 52
         },
         {
          "Donated": 1,
          "Frequency": 1,
          "Monetary": 250,
          "Recency": 2,
          "Time": 2
         },
         {
          "Donated": 1,
          "Frequency": 1,
          "Monetary": 250,
          "Recency": 21,
          "Time": 21
         },
         {
          "Donated": 1,
          "Frequency": 2,
          "Monetary": 500,
          "Recency": 4,
          "Time": 4
         },
         {
          "Donated": 1,
          "Frequency": 1,
          "Monetary": 250,
          "Recency": 16,
          "Time": 16
         },
         {
          "Donated": 2,
          "Frequency": 2,
          "Monetary": 500,
          "Recency": 2,
          "Time": 11
         },
         {
          "Donated": 1,
          "Frequency": 3,
          "Monetary": 750,
          "Recency": 14,
          "Time": 79
         },
         {
          "Donated": 1,
          "Frequency": 44,
          "Monetary": 11000,
          "Recency": 2,
          "Time": 98
         },
         {
          "Donated": 2,
          "Frequency": 5,
          "Monetary": 1250,
          "Recency": 26,
          "Time": 49
         },
         {
          "Donated": 1,
          "Frequency": 3,
          "Monetary": 750,
          "Recency": 16,
          "Time": 23
         },
         {
          "Donated": 1,
          "Frequency": 6,
          "Monetary": 1500,
          "Recency": 4,
          "Time": 30
         },
         {
          "Donated": 1,
          "Frequency": 5,
          "Monetary": 1250,
          "Recency": 4,
          "Time": 28
         },
         {
          "Donated": 1,
          "Frequency": 3,
          "Monetary": 750,
          "Recency": 14,
          "Time": 28
         },
         {
          "Donated": 2,
          "Frequency": 16,
          "Monetary": 4000,
          "Recency": 4,
          "Time": 98
         },
         {
          "Donated": 1,
          "Frequency": 6,
          "Monetary": 1500,
          "Recency": 4,
          "Time": 47
         },
         {
          "Donated": 2,
          "Frequency": 1,
          "Monetary": 250,
          "Recency": 4,
          "Time": 4
         },
         {
          "Donated": 1,
          "Frequency": 9,
          "Monetary": 2250,
          "Recency": 9,
          "Time": 54
         },
         {
          "Donated": 1,
          "Frequency": 7,
          "Monetary": 1750,
          "Recency": 23,
          "Time": 88
         },
         {
          "Donated": 1,
          "Frequency": 1,
          "Monetary": 250,
          "Recency": 11,
          "Time": 11
         },
         {
          "Donated": 1,
          "Frequency": 1,
          "Monetary": 250,
          "Recency": 23,
          "Time": 23
         },
         {
          "Donated": 2,
          "Frequency": 6,
          "Monetary": 1500,
          "Recency": 4,
          "Time": 38
         },
         {
          "Donated": 1,
          "Frequency": 3,
          "Monetary": 750,
          "Recency": 23,
          "Time": 40
         },
         {
          "Donated": 1,
          "Frequency": 3,
          "Monetary": 750,
          "Recency": 16,
          "Time": 46
         },
         {
          "Donated": 1,
          "Frequency": 1,
          "Monetary": 250,
          "Recency": 4,
          "Time": 4
         },
         {
          "Donated": 1,
          "Frequency": 7,
          "Monetary": 1750,
          "Recency": 11,
          "Time": 37
         },
         {
          "Donated": 1,
          "Frequency": 3,
          "Monetary": 750,
          "Recency": 23,
          "Time": 28
         },
         {
          "Donated": 1,
          "Frequency": 6,
          "Monetary": 1500,
          "Recency": 23,
          "Time": 45
         },
         {
          "Donated": 1,
          "Frequency": 1,
          "Monetary": 250,
          "Recency": 38,
          "Time": 38
         },
         {
          "Donated": 1,
          "Frequency": 2,
          "Monetary": 500,
          "Recency": 16,
          "Time": 70
         },
         {
          "Donated": 1,
          "Frequency": 1,
          "Monetary": 250,
          "Recency": 21,
          "Time": 21
         },
         {
          "Donated": 2,
          "Frequency": 4,
          "Monetary": 1000,
          "Recency": 2,
          "Time": 16
         },
         {
          "Donated": 2,
          "Frequency": 6,
          "Monetary": 1500,
          "Recency": 4,
          "Time": 28
         },
         {
          "Donated": 1,
          "Frequency": 4,
          "Monetary": 1000,
          "Recency": 14,
          "Time": 26
         },
         {
          "Donated": 1,
          "Frequency": 3,
          "Monetary": 750,
          "Recency": 11,
          "Time": 26
         },
         {
          "Donated": 1,
          "Frequency": 16,
          "Monetary": 4000,
          "Recency": 3,
          "Time": 74
         },
         {
          "Donated": 1,
          "Frequency": 7,
          "Monetary": 1750,
          "Recency": 13,
          "Time": 76
         },
         {
          "Donated": 1,
          "Frequency": 2,
          "Monetary": 500,
          "Recency": 2,
          "Time": 16
         },
         {
          "Donated": 2,
          "Frequency": 9,
          "Monetary": 2250,
          "Recency": 2,
          "Time": 22
         },
         {
          "Donated": 1,
          "Frequency": 2,
          "Monetary": 500,
          "Recency": 2,
          "Time": 4
         },
         {
          "Donated": 2,
          "Frequency": 2,
          "Monetary": 500,
          "Recency": 14,
          "Time": 14
         },
         {
          "Donated": 1,
          "Frequency": 16,
          "Monetary": 4000,
          "Recency": 2,
          "Time": 81
         },
         {
          "Donated": 1,
          "Frequency": 3,
          "Monetary": 750,
          "Recency": 23,
          "Time": 41
         },
         {
          "Donated": 1,
          "Frequency": 4,
          "Monetary": 1000,
          "Recency": 14,
          "Time": 57
         },
         {
          "Donated": 1,
          "Frequency": 1,
          "Monetary": 250,
          "Recency": 14,
          "Time": 14
         },
         {
          "Donated": 1,
          "Frequency": 1,
          "Monetary": 250,
          "Recency": 23,
          "Time": 23
         },
         {
          "Donated": 1,
          "Frequency": 1,
          "Monetary": 250,
          "Recency": 38,
          "Time": 38
         },
         {
          "Donated": 1,
          "Frequency": 3,
          "Monetary": 750,
          "Recency": 21,
          "Time": 35
         },
         {
          "Donated": 1,
          "Frequency": 5,
          "Monetary": 1250,
          "Recency": 11,
          "Time": 41
         },
         {
          "Donated": 1,
          "Frequency": 6,
          "Monetary": 1500,
          "Recency": 11,
          "Time": 71
         },
         {
          "Donated": 1,
          "Frequency": 1,
          "Monetary": 250,
          "Recency": 16,
          "Time": 16
         },
         {
          "Donated": 1,
          "Frequency": 14,
          "Monetary": 3500,
          "Recency": 5,
          "Time": 86
         },
         {
          "Donated": 1,
          "Frequency": 2,
          "Monetary": 500,
          "Recency": 4,
          "Time": 4
         },
         {
          "Donated": 2,
          "Frequency": 8,
          "Monetary": 2000,
          "Recency": 14,
          "Time": 50
         },
         {
          "Donated": 2,
          "Frequency": 5,
          "Monetary": 1250,
          "Recency": 9,
          "Time": 51
         },
         {
          "Donated": 1,
          "Frequency": 7,
          "Monetary": 1750,
          "Recency": 2,
          "Time": 29
         },
         {
          "Donated": 1,
          "Frequency": 6,
          "Monetary": 1500,
          "Recency": 21,
          "Time": 86
         },
         {
          "Donated": 1,
          "Frequency": 7,
          "Monetary": 1750,
          "Recency": 14,
          "Time": 72
         },
         {
          "Donated": 1,
          "Frequency": 2,
          "Monetary": 500,
          "Recency": 16,
          "Time": 26
         },
         {
          "Donated": 1,
          "Frequency": 4,
          "Monetary": 1000,
          "Recency": 14,
          "Time": 64
         },
         {
          "Donated": 1,
          "Frequency": 2,
          "Monetary": 500,
          "Recency": 14,
          "Time": 14
         },
         {
          "Donated": 1,
          "Frequency": 1,
          "Monetary": 250,
          "Recency": 21,
          "Time": 21
         },
         {
          "Donated": 1,
          "Frequency": 5,
          "Monetary": 1250,
          "Recency": 14,
          "Time": 28
         },
         {
          "Donated": 1,
          "Frequency": 2,
          "Monetary": 500,
          "Recency": 4,
          "Time": 29
         },
         {
          "Donated": 1,
          "Frequency": 1,
          "Monetary": 250,
          "Recency": 14,
          "Time": 14
         },
         {
          "Donated": 1,
          "Frequency": 9,
          "Monetary": 2250,
          "Recency": 2,
          "Time": 36
         },
         {
          "Donated": 1,
          "Frequency": 2,
          "Monetary": 500,
          "Recency": 4,
          "Time": 4
         },
         {
          "Donated": 1,
          "Frequency": 10,
          "Monetary": 2500,
          "Recency": 2,
          "Time": 64
         },
         {
          "Donated": 1,
          "Frequency": 6,
          "Monetary": 1500,
          "Recency": 14,
          "Time": 51
         },
         {
          "Donated": 2,
          "Frequency": 14,
          "Monetary": 3500,
          "Recency": 2,
          "Time": 48
         },
         {
          "Donated": 1,
          "Frequency": 3,
          "Monetary": 750,
          "Recency": 23,
          "Time": 89
         },
         {
          "Donated": 1,
          "Frequency": 11,
          "Monetary": 2750,
          "Recency": 11,
          "Time": 42
         },
         {
          "Donated": 1,
          "Frequency": 2,
          "Monetary": 500,
          "Recency": 23,
          "Time": 23
         },
         {
          "Donated": 1,
          "Frequency": 5,
          "Monetary": 1250,
          "Recency": 2,
          "Time": 63
         },
         {
          "Donated": 1,
          "Frequency": 5,
          "Monetary": 1250,
          "Recency": 23,
          "Time": 33
         },
         {
          "Donated": 2,
          "Frequency": 2,
          "Monetary": 500,
          "Recency": 2,
          "Time": 4
         },
         {
          "Donated": 1,
          "Frequency": 14,
          "Monetary": 3500,
          "Recency": 23,
          "Time": 93
         },
         {
          "Donated": 1,
          "Frequency": 9,
          "Monetary": 2250,
          "Recency": 2,
          "Time": 74
         },
         {
          "Donated": 1,
          "Frequency": 7,
          "Monetary": 1750,
          "Recency": 11,
          "Time": 29
         },
         {
          "Donated": 1,
          "Frequency": 4,
          "Monetary": 1000,
          "Recency": 21,
          "Time": 52
         },
         {
          "Donated": 2,
          "Frequency": 6,
          "Monetary": 1500,
          "Recency": 2,
          "Time": 15
         },
         {
          "Donated": 1,
          "Frequency": 2,
          "Monetary": 500,
          "Recency": 4,
          "Time": 4
         },
         {
          "Donated": 2,
          "Frequency": 4,
          "Monetary": 1000,
          "Recency": 4,
          "Time": 43
         },
         {
          "Donated": 1,
          "Frequency": 2,
          "Monetary": 500,
          "Recency": 2,
          "Time": 23
         },
         {
          "Donated": 2,
          "Frequency": 1,
          "Monetary": 250,
          "Recency": 4,
          "Time": 4
         },
         {
          "Donated": 1,
          "Frequency": 12,
          "Monetary": 3000,
          "Recency": 12,
          "Time": 58
         },
         {
          "Donated": 2,
          "Frequency": 20,
          "Monetary": 5000,
          "Recency": 2,
          "Time": 45
         },
         {
          "Donated": 1,
          "Frequency": 4,
          "Monetary": 1000,
          "Recency": 16,
          "Time": 28
         },
         {
          "Donated": 1,
          "Frequency": 3,
          "Monetary": 750,
          "Recency": 21,
          "Time": 64
         },
         {
          "Donated": 1,
          "Frequency": 1,
          "Monetary": 250,
          "Recency": 4,
          "Time": 4
         },
         {
          "Donated": 1,
          "Frequency": 3,
          "Monetary": 750,
          "Recency": 14,
          "Time": 83
         },
         {
          "Donated": 1,
          "Frequency": 2,
          "Monetary": 500,
          "Recency": 16,
          "Time": 16
         },
         {
          "Donated": 1,
          "Frequency": 2,
          "Monetary": 500,
          "Recency": 2,
          "Time": 11
         },
         {
          "Donated": 1,
          "Frequency": 2,
          "Monetary": 500,
          "Recency": 0,
          "Time": 4
         },
         {
          "Donated": 1,
          "Frequency": 6,
          "Monetary": 1500,
          "Recency": 4,
          "Time": 14
         },
         {
          "Donated": 1,
          "Frequency": 6,
          "Monetary": 1500,
          "Recency": 11,
          "Time": 58
         },
         {
          "Donated": 2,
          "Frequency": 8,
          "Monetary": 2000,
          "Recency": 4,
          "Time": 26
         },
         {
          "Donated": 1,
          "Frequency": 6,
          "Monetary": 1500,
          "Recency": 14,
          "Time": 34
         },
         {
          "Donated": 2,
          "Frequency": 11,
          "Monetary": 2750,
          "Recency": 2,
          "Time": 46
         },
         {
          "Donated": 1,
          "Frequency": 14,
          "Monetary": 3500,
          "Recency": 3,
          "Time": 35
         },
         {
          "Donated": 1,
          "Frequency": 5,
          "Monetary": 1250,
          "Recency": 21,
          "Time": 60
         },
         {
          "Donated": 2,
          "Frequency": 5,
          "Monetary": 1250,
          "Recency": 4,
          "Time": 16
         },
         {
          "Donated": 2,
          "Frequency": 5,
          "Monetary": 1250,
          "Recency": 11,
          "Time": 37
         },
         {
          "Donated": 1,
          "Frequency": 2,
          "Monetary": 500,
          "Recency": 14,
          "Time": 35
         },
         {
          "Donated": 2,
          "Frequency": 6,
          "Monetary": 1500,
          "Recency": 2,
          "Time": 26
         },
         {
          "Donated": 1,
          "Frequency": 3,
          "Monetary": 750,
          "Recency": 14,
          "Time": 26
         },
         {
          "Donated": 1,
          "Frequency": 5,
          "Monetary": 1250,
          "Recency": 4,
          "Time": 34
         },
         {
          "Donated": 1,
          "Frequency": 4,
          "Monetary": 1000,
          "Recency": 4,
          "Time": 18
         },
         {
          "Donated": 2,
          "Frequency": 2,
          "Monetary": 500,
          "Recency": 2,
          "Time": 10
         },
         {
          "Donated": 1,
          "Frequency": 16,
          "Monetary": 4000,
          "Recency": 21,
          "Time": 64
         },
         {
          "Donated": 1,
          "Frequency": 2,
          "Monetary": 500,
          "Recency": 9,
          "Time": 11
         },
         {
          "Donated": 1,
          "Frequency": 3,
          "Monetary": 750,
          "Recency": 2,
          "Time": 35
         },
         {
          "Donated": 1,
          "Frequency": 4,
          "Monetary": 1000,
          "Recency": 11,
          "Time": 58
         },
         {
          "Donated": 1,
          "Frequency": 1,
          "Monetary": 250,
          "Recency": 2,
          "Time": 2
         },
         {
          "Donated": 1,
          "Frequency": 3,
          "Monetary": 750,
          "Recency": 14,
          "Time": 31
         },
         {
          "Donated": 1,
          "Frequency": 1,
          "Monetary": 250,
          "Recency": 39,
          "Time": 39
         },
         {
          "Donated": 1,
          "Frequency": 1,
          "Monetary": 250,
          "Recency": 2,
          "Time": 2
         },
         {
          "Donated": 2,
          "Frequency": 2,
          "Monetary": 500,
          "Recency": 11,
          "Time": 38
         },
         {
          "Donated": 1,
          "Frequency": 1,
          "Monetary": 250,
          "Recency": 2,
          "Time": 2
         },
         {
          "Donated": 1,
          "Frequency": 1,
          "Monetary": 250,
          "Recency": 16,
          "Time": 16
         },
         {
          "Donated": 1,
          "Frequency": 7,
          "Monetary": 1750,
          "Recency": 16,
          "Time": 28
         },
         {
          "Donated": 1,
          "Frequency": 1,
          "Monetary": 250,
          "Recency": 23,
          "Time": 23
         },
         {
          "Donated": 1,
          "Frequency": 3,
          "Monetary": 750,
          "Recency": 6,
          "Time": 14
         },
         {
          "Donated": 1,
          "Frequency": 4,
          "Monetary": 1000,
          "Recency": 16,
          "Time": 40
         },
         {
          "Donated": 1,
          "Frequency": 1,
          "Monetary": 250,
          "Recency": 16,
          "Time": 16
         },
         {
          "Donated": 2,
          "Frequency": 4,
          "Monetary": 1000,
          "Recency": 3,
          "Time": 29
         },
         {
          "Donated": 1,
          "Frequency": 4,
          "Monetary": 1000,
          "Recency": 23,
          "Time": 52
         },
         {
          "Donated": 2,
          "Frequency": 14,
          "Monetary": 3500,
          "Recency": 20,
          "Time": 69
         },
         {
          "Donated": 1,
          "Frequency": 1,
          "Monetary": 250,
          "Recency": 2,
          "Time": 2
         },
         {
          "Donated": 2,
          "Frequency": 4,
          "Monetary": 1000,
          "Recency": 14,
          "Time": 23
         },
         {
          "Donated": 1,
          "Frequency": 1,
          "Monetary": 250,
          "Recency": 16,
          "Time": 16
         },
         {
          "Donated": 1,
          "Frequency": 9,
          "Monetary": 2250,
          "Recency": 8,
          "Time": 64
         },
         {
          "Donated": 1,
          "Frequency": 1,
          "Monetary": 250,
          "Recency": 4,
          "Time": 4
         },
         {
          "Donated": 1,
          "Frequency": 2,
          "Monetary": 500,
          "Recency": 9,
          "Time": 26
         },
         {
          "Donated": 2,
          "Frequency": 4,
          "Monetary": 1000,
          "Recency": 4,
          "Time": 26
         },
         {
          "Donated": 1,
          "Frequency": 1,
          "Monetary": 250,
          "Recency": 14,
          "Time": 14
         },
         {
          "Donated": 2,
          "Frequency": 7,
          "Monetary": 1750,
          "Recency": 5,
          "Time": 26
         },
         {
          "Donated": 1,
          "Frequency": 3,
          "Monetary": 750,
          "Recency": 2,
          "Time": 19
         },
         {
          "Donated": 2,
          "Frequency": 4,
          "Monetary": 1000,
          "Recency": 11,
          "Time": 16
         },
         {
          "Donated": 2,
          "Frequency": 26,
          "Monetary": 6500,
          "Recency": 0,
          "Time": 76
         },
         {
          "Donated": 1,
          "Frequency": 8,
          "Monetary": 2000,
          "Recency": 3,
          "Time": 50
         },
         {
          "Donated": 2,
          "Frequency": 1,
          "Monetary": 250,
          "Recency": 3,
          "Time": 3
         },
         {
          "Donated": 1,
          "Frequency": 2,
          "Monetary": 500,
          "Recency": 21,
          "Time": 52
         },
         {
          "Donated": 2,
          "Frequency": 7,
          "Monetary": 1750,
          "Recency": 4,
          "Time": 22
         },
         {
          "Donated": 1,
          "Frequency": 4,
          "Monetary": 1000,
          "Recency": 14,
          "Time": 30
         },
         {
          "Donated": 2,
          "Frequency": 16,
          "Monetary": 4000,
          "Recency": 1,
          "Time": 35
         },
         {
          "Donated": 1,
          "Frequency": 3,
          "Monetary": 750,
          "Recency": 21,
          "Time": 38
         },
         {
          "Donated": 1,
          "Frequency": 7,
          "Monetary": 1750,
          "Recency": 4,
          "Time": 25
         },
         {
          "Donated": 1,
          "Frequency": 6,
          "Monetary": 1500,
          "Recency": 11,
          "Time": 27
         },
         {
          "Donated": 1,
          "Frequency": 1,
          "Monetary": 250,
          "Recency": 4,
          "Time": 4
         },
         {
          "Donated": 1,
          "Frequency": 2,
          "Monetary": 500,
          "Recency": 21,
          "Time": 23
         },
         {
          "Donated": 2,
          "Frequency": 3,
          "Monetary": 750,
          "Recency": 11,
          "Time": 16
         },
         {
          "Donated": 1,
          "Frequency": 3,
          "Monetary": 750,
          "Recency": 9,
          "Time": 34
         },
         {
          "Donated": 1,
          "Frequency": 1,
          "Monetary": 250,
          "Recency": 16,
          "Time": 16
         },
         {
          "Donated": 1,
          "Frequency": 9,
          "Monetary": 2250,
          "Recency": 4,
          "Time": 46
         },
         {
          "Donated": 2,
          "Frequency": 1,
          "Monetary": 250,
          "Recency": 4,
          "Time": 4
         },
         {
          "Donated": 1,
          "Frequency": 14,
          "Monetary": 3500,
          "Recency": 1,
          "Time": 95
         },
         {
          "Donated": 1,
          "Frequency": 2,
          "Monetary": 500,
          "Recency": 2,
          "Time": 4
         },
         {
          "Donated": 1,
          "Frequency": 2,
          "Monetary": 500,
          "Recency": 2,
          "Time": 2
         },
         {
          "Donated": 1,
          "Frequency": 4,
          "Monetary": 1000,
          "Recency": 11,
          "Time": 27
         },
         {
          "Donated": 2,
          "Frequency": 8,
          "Monetary": 2000,
          "Recency": 4,
          "Time": 40
         },
         {
          "Donated": 1,
          "Frequency": 17,
          "Monetary": 4250,
          "Recency": 3,
          "Time": 86
         },
         {
          "Donated": 1,
          "Frequency": 1,
          "Monetary": 250,
          "Recency": 4,
          "Time": 4
         },
         {
          "Donated": 1,
          "Frequency": 6,
          "Monetary": 1500,
          "Recency": 2,
          "Time": 45
         },
         {
          "Donated": 2,
          "Frequency": 5,
          "Monetary": 1250,
          "Recency": 2,
          "Time": 33
         },
         {
          "Donated": 1,
          "Frequency": 8,
          "Monetary": 2000,
          "Recency": 0,
          "Time": 59
         },
         {
          "Donated": 1,
          "Frequency": 5,
          "Monetary": 1250,
          "Recency": 3,
          "Time": 38
         },
         {
          "Donated": 2,
          "Frequency": 15,
          "Monetary": 3750,
          "Recency": 2,
          "Time": 49
         },
         {
          "Donated": 1,
          "Frequency": 3,
          "Monetary": 750,
          "Recency": 16,
          "Time": 86
         },
         {
          "Donated": 2,
          "Frequency": 4,
          "Monetary": 1000,
          "Recency": 4,
          "Time": 14
         },
         {
          "Donated": 1,
          "Frequency": 4,
          "Monetary": 1000,
          "Recency": 11,
          "Time": 34
         },
         {
          "Donated": 1,
          "Frequency": 1,
          "Monetary": 250,
          "Recency": 14,
          "Time": 14
         },
         {
          "Donated": 2,
          "Frequency": 2,
          "Monetary": 500,
          "Recency": 14,
          "Time": 21
         },
         {
          "Donated": 2,
          "Frequency": 4,
          "Monetary": 1000,
          "Recency": 4,
          "Time": 4
         }
        ]
       },
       "encoding": {
        "x": {
         "field": "Monetary",
         "type": "quantitative"
        },
        "y": {
         "aggregate": "count",
         "title": "Number of Donors",
         "type": "quantitative"
        }
       },
       "mark": "bar",
       "title": "Donor Monetary Distribution"
      },
      "image/png": "[encoded data removed]",
      "text/plain": [
       "<VegaLite 3 object>\n",
       "\n",
       "If you see this message, it means the renderer has not been properly enabled\n",
       "for the frontend that you are using. For more information, see\n",
       "https://altair-viz.github.io/user_guide/troubleshooting.html\n"
      ]
     },
     "execution_count": 15,
     "metadata": {},
     "output_type": "execute_result"
    }
   ],
   "source": [
    "alt.Chart(blood_df_train).mark_bar().encode(\n",
    "    alt.X(\"Monetary\"),\n",
    "    alt.Y(\"count()\", title = \"Number of Donors\"),\n",
    ").properties(title = \"Donor Monetary Distribution\")"
   ]
  },
  {
   "cell_type": "code",
   "execution_count": 16,
   "metadata": {},
   "outputs": [
    {
     "data": {
      "application/vnd.vegalite.v3+json": {
       "$schema": "https://vega.github.io/schema/vega-lite/v3.4.0.json",
       "config": {
        "mark": {
         "tooltip": null
        },
        "view": {
         "height": 300,
         "width": 400
        }
       },
       "data": {
        "name": "data-32548e9b1b08a896c9597c0c8174a7e1"
       },
       "datasets": {
        "data-32548e9b1b08a896c9597c0c8174a7e1": [
         {
          "Donated": 1,
          "Frequency": 9,
          "Monetary": 2250,
          "Recency": 8,
          "Time": 58
         },
         {
          "Donated": 1,
          "Frequency": 4,
          "Monetary": 1000,
          "Recency": 13,
          "Time": 21
         },
         {
          "Donated": 1,
          "Frequency": 6,
          "Monetary": 1500,
          "Recency": 4,
          "Time": 39
         },
         {
          "Donated": 1,
          "Frequency": 5,
          "Monetary": 1250,
          "Recency": 4,
          "Time": 46
         },
         {
          "Donated": 1,
          "Frequency": 6,
          "Monetary": 1500,
          "Recency": 3,
          "Time": 21
         },
         {
          "Donated": 1,
          "Frequency": 1,
          "Monetary": 250,
          "Recency": 9,
          "Time": 9
         },
         {
          "Donated": 1,
          "Frequency": 2,
          "Monetary": 500,
          "Recency": 14,
          "Time": 14
         },
         {
          "Donated": 1,
          "Frequency": 7,
          "Monetary": 1750,
          "Recency": 2,
          "Time": 77
         },
         {
          "Donated": 1,
          "Frequency": 2,
          "Monetary": 500,
          "Recency": 2,
          "Time": 41
         },
         {
          "Donated": 1,
          "Frequency": 2,
          "Monetary": 500,
          "Recency": 9,
          "Time": 52
         },
         {
          "Donated": 1,
          "Frequency": 1,
          "Monetary": 250,
          "Recency": 23,
          "Time": 23
         },
         {
          "Donated": 1,
          "Frequency": 4,
          "Monetary": 1000,
          "Recency": 16,
          "Time": 58
         },
         {
          "Donated": 1,
          "Frequency": 4,
          "Monetary": 1000,
          "Recency": 2,
          "Time": 26
         },
         {
          "Donated": 2,
          "Frequency": 2,
          "Monetary": 500,
          "Recency": 4,
          "Time": 4
         },
         {
          "Donated": 1,
          "Frequency": 3,
          "Monetary": 750,
          "Recency": 23,
          "Time": 35
         },
         {
          "Donated": 2,
          "Frequency": 1,
          "Monetary": 250,
          "Recency": 2,
          "Time": 2
         },
         {
          "Donated": 1,
          "Frequency": 4,
          "Monetary": 1000,
          "Recency": 9,
          "Time": 65
         },
         {
          "Donated": 2,
          "Frequency": 3,
          "Monetary": 750,
          "Recency": 14,
          "Time": 19
         },
         {
          "Donated": 1,
          "Frequency": 7,
          "Monetary": 1750,
          "Recency": 4,
          "Time": 58
         },
         {
          "Donated": 1,
          "Frequency": 16,
          "Monetary": 4000,
          "Recency": 2,
          "Time": 64
         },
         {
          "Donated": 1,
          "Frequency": 1,
          "Monetary": 250,
          "Recency": 4,
          "Time": 4
         },
         {
          "Donated": 1,
          "Frequency": 1,
          "Monetary": 250,
          "Recency": 40,
          "Time": 40
         },
         {
          "Donated": 1,
          "Frequency": 2,
          "Monetary": 500,
          "Recency": 14,
          "Time": 14
         },
         {
          "Donated": 1,
          "Frequency": 10,
          "Monetary": 2500,
          "Recency": 16,
          "Time": 89
         },
         {
          "Donated": 1,
          "Frequency": 6,
          "Monetary": 1500,
          "Recency": 23,
          "Time": 70
         },
         {
          "Donated": 1,
          "Frequency": 7,
          "Monetary": 1750,
          "Recency": 4,
          "Time": 62
         },
         {
          "Donated": 1,
          "Frequency": 6,
          "Monetary": 1500,
          "Recency": 4,
          "Time": 52
         },
         {
          "Donated": 2,
          "Frequency": 10,
          "Monetary": 2500,
          "Recency": 4,
          "Time": 28
         },
         {
          "Donated": 1,
          "Frequency": 4,
          "Monetary": 1000,
          "Recency": 11,
          "Time": 74
         },
         {
          "Donated": 1,
          "Frequency": 2,
          "Monetary": 500,
          "Recency": 4,
          "Time": 14
         },
         {
          "Donated": 2,
          "Frequency": 2,
          "Monetary": 500,
          "Recency": 21,
          "Time": 21
         },
         {
          "Donated": 1,
          "Frequency": 6,
          "Monetary": 1500,
          "Recency": 16,
          "Time": 81
         },
         {
          "Donated": 1,
          "Frequency": 4,
          "Monetary": 1000,
          "Recency": 11,
          "Time": 28
         },
         {
          "Donated": 2,
          "Frequency": 33,
          "Monetary": 8250,
          "Recency": 4,
          "Time": 98
         },
         {
          "Donated": 1,
          "Frequency": 1,
          "Monetary": 250,
          "Recency": 72,
          "Time": 72
         },
         {
          "Donated": 2,
          "Frequency": 7,
          "Monetary": 1750,
          "Recency": 2,
          "Time": 32
         },
         {
          "Donated": 1,
          "Frequency": 3,
          "Monetary": 750,
          "Recency": 16,
          "Time": 19
         },
         {
          "Donated": 1,
          "Frequency": 3,
          "Monetary": 750,
          "Recency": 11,
          "Time": 15
         },
         {
          "Donated": 2,
          "Frequency": 3,
          "Monetary": 750,
          "Recency": 2,
          "Time": 16
         },
         {
          "Donated": 1,
          "Frequency": 1,
          "Monetary": 250,
          "Recency": 4,
          "Time": 4
         },
         {
          "Donated": 1,
          "Frequency": 4,
          "Monetary": 1000,
          "Recency": 2,
          "Time": 26
         },
         {
          "Donated": 1,
          "Frequency": 1,
          "Monetary": 250,
          "Recency": 4,
          "Time": 4
         },
         {
          "Donated": 2,
          "Frequency": 43,
          "Monetary": 10750,
          "Recency": 2,
          "Time": 86
         },
         {
          "Donated": 2,
          "Frequency": 11,
          "Monetary": 2750,
          "Recency": 4,
          "Time": 64
         },
         {
          "Donated": 2,
          "Frequency": 6,
          "Monetary": 1500,
          "Recency": 4,
          "Time": 23
         },
         {
          "Donated": 1,
          "Frequency": 3,
          "Monetary": 750,
          "Recency": 2,
          "Time": 24
         },
         {
          "Donated": 1,
          "Frequency": 13,
          "Monetary": 3250,
          "Recency": 12,
          "Time": 59
         },
         {
          "Donated": 1,
          "Frequency": 15,
          "Monetary": 3750,
          "Recency": 12,
          "Time": 71
         },
         {
          "Donated": 1,
          "Frequency": 12,
          "Monetary": 3000,
          "Recency": 11,
          "Time": 58
         },
         {
          "Donated": 1,
          "Frequency": 4,
          "Monetary": 1000,
          "Recency": 2,
          "Time": 11
         },
         {
          "Donated": 1,
          "Frequency": 1,
          "Monetary": 250,
          "Recency": 2,
          "Time": 2
         },
         {
          "Donated": 1,
          "Frequency": 2,
          "Monetary": 500,
          "Recency": 21,
          "Time": 21
         },
         {
          "Donated": 1,
          "Frequency": 4,
          "Monetary": 1000,
          "Recency": 2,
          "Time": 35
         },
         {
          "Donated": 2,
          "Frequency": 3,
          "Monetary": 750,
          "Recency": 4,
          "Time": 25
         },
         {
          "Donated": 1,
          "Frequency": 4,
          "Monetary": 1000,
          "Recency": 10,
          "Time": 16
         },
         {
          "Donated": 1,
          "Frequency": 1,
          "Monetary": 250,
          "Recency": 21,
          "Time": 21
         },
         {
          "Donated": 2,
          "Frequency": 2,
          "Monetary": 500,
          "Recency": 4,
          "Time": 4
         },
         {
          "Donated": 2,
          "Frequency": 6,
          "Monetary": 1500,
          "Recency": 2,
          "Time": 41
         },
         {
          "Donated": 2,
          "Frequency": 13,
          "Monetary": 3250,
          "Recency": 2,
          "Time": 53
         },
         {
          "Donated": 1,
          "Frequency": 9,
          "Monetary": 2250,
          "Recency": 4,
          "Time": 40
         },
         {
          "Donated": 2,
          "Frequency": 1,
          "Monetary": 250,
          "Recency": 23,
          "Time": 23
         },
         {
          "Donated": 1,
          "Frequency": 15,
          "Monetary": 3750,
          "Recency": 2,
          "Time": 64
         },
         {
          "Donated": 1,
          "Frequency": 3,
          "Monetary": 750,
          "Recency": 2,
          "Time": 21
         },
         {
          "Donated": 1,
          "Frequency": 2,
          "Monetary": 500,
          "Recency": 23,
          "Time": 23
         },
         {
          "Donated": 1,
          "Frequency": 1,
          "Monetary": 250,
          "Recency": 4,
          "Time": 4
         },
         {
          "Donated": 2,
          "Frequency": 4,
          "Monetary": 1000,
          "Recency": 2,
          "Time": 14
         },
         {
          "Donated": 1,
          "Frequency": 2,
          "Monetary": 500,
          "Recency": 2,
          "Time": 11
         },
         {
          "Donated": 1,
          "Frequency": 6,
          "Monetary": 1500,
          "Recency": 11,
          "Time": 28
         },
         {
          "Donated": 1,
          "Frequency": 4,
          "Monetary": 1000,
          "Recency": 23,
          "Time": 87
         },
         {
          "Donated": 2,
          "Frequency": 6,
          "Monetary": 1500,
          "Recency": 2,
          "Time": 28
         },
         {
          "Donated": 2,
          "Frequency": 11,
          "Monetary": 2750,
          "Recency": 9,
          "Time": 49
         },
         {
          "Donated": 1,
          "Frequency": 3,
          "Monetary": 750,
          "Recency": 23,
          "Time": 33
         },
         {
          "Donated": 1,
          "Frequency": 1,
          "Monetary": 250,
          "Recency": 2,
          "Time": 2
         },
         {
          "Donated": 2,
          "Frequency": 2,
          "Monetary": 500,
          "Recency": 2,
          "Time": 4
         },
         {
          "Donated": 1,
          "Frequency": 16,
          "Monetary": 4000,
          "Recency": 14,
          "Time": 70
         },
         {
          "Donated": 2,
          "Frequency": 8,
          "Monetary": 2000,
          "Recency": 8,
          "Time": 52
         },
         {
          "Donated": 2,
          "Frequency": 8,
          "Monetary": 2000,
          "Recency": 4,
          "Time": 34
         },
         {
          "Donated": 1,
          "Frequency": 5,
          "Monetary": 1250,
          "Recency": 7,
          "Time": 35
         },
         {
          "Donated": 1,
          "Frequency": 5,
          "Monetary": 1250,
          "Recency": 4,
          "Time": 58
         },
         {
          "Donated": 1,
          "Frequency": 1,
          "Monetary": 250,
          "Recency": 11,
          "Time": 11
         },
         {
          "Donated": 2,
          "Frequency": 13,
          "Monetary": 3250,
          "Recency": 2,
          "Time": 76
         },
         {
          "Donated": 1,
          "Frequency": 7,
          "Monetary": 1750,
          "Recency": 4,
          "Time": 52
         },
         {
          "Donated": 1,
          "Frequency": 5,
          "Monetary": 1250,
          "Recency": 14,
          "Time": 50
         },
         {
          "Donated": 1,
          "Frequency": 8,
          "Monetary": 2000,
          "Recency": 14,
          "Time": 50
         },
         {
          "Donated": 1,
          "Frequency": 2,
          "Monetary": 500,
          "Recency": 4,
          "Time": 59
         },
         {
          "Donated": 1,
          "Frequency": 3,
          "Monetary": 750,
          "Recency": 11,
          "Time": 28
         },
         {
          "Donated": 1,
          "Frequency": 1,
          "Monetary": 250,
          "Recency": 23,
          "Time": 23
         },
         {
          "Donated": 1,
          "Frequency": 5,
          "Monetary": 1250,
          "Recency": 23,
          "Time": 58
         },
         {
          "Donated": 2,
          "Frequency": 5,
          "Monetary": 1250,
          "Recency": 4,
          "Time": 26
         },
         {
          "Donated": 2,
          "Frequency": 41,
          "Monetary": 10250,
          "Recency": 2,
          "Time": 98
         },
         {
          "Donated": 1,
          "Frequency": 5,
          "Monetary": 1250,
          "Recency": 4,
          "Time": 58
         },
         {
          "Donated": 1,
          "Frequency": 2,
          "Monetary": 500,
          "Recency": 14,
          "Time": 14
         },
         {
          "Donated": 2,
          "Frequency": 6,
          "Monetary": 1500,
          "Recency": 2,
          "Time": 16
         },
         {
          "Donated": 1,
          "Frequency": 3,
          "Monetary": 750,
          "Recency": 11,
          "Time": 76
         },
         {
          "Donated": 2,
          "Frequency": 3,
          "Monetary": 750,
          "Recency": 4,
          "Time": 16
         },
         {
          "Donated": 1,
          "Frequency": 2,
          "Monetary": 500,
          "Recency": 11,
          "Time": 70
         },
         {
          "Donated": 1,
          "Frequency": 2,
          "Monetary": 500,
          "Recency": 11,
          "Time": 11
         },
         {
          "Donated": 2,
          "Frequency": 16,
          "Monetary": 4000,
          "Recency": 4,
          "Time": 38
         },
         {
          "Donated": 1,
          "Frequency": 2,
          "Monetary": 500,
          "Recency": 11,
          "Time": 11
         },
         {
          "Donated": 1,
          "Frequency": 2,
          "Monetary": 500,
          "Recency": 14,
          "Time": 29
         },
         {
          "Donated": 1,
          "Frequency": 2,
          "Monetary": 500,
          "Recency": 3,
          "Time": 23
         },
         {
          "Donated": 1,
          "Frequency": 2,
          "Monetary": 500,
          "Recency": 4,
          "Time": 52
         },
         {
          "Donated": 1,
          "Frequency": 3,
          "Monetary": 750,
          "Recency": 4,
          "Time": 16
         },
         {
          "Donated": 1,
          "Frequency": 3,
          "Monetary": 750,
          "Recency": 4,
          "Time": 71
         },
         {
          "Donated": 1,
          "Frequency": 3,
          "Monetary": 750,
          "Recency": 14,
          "Time": 35
         },
         {
          "Donated": 2,
          "Frequency": 6,
          "Monetary": 1500,
          "Recency": 16,
          "Time": 35
         },
         {
          "Donated": 1,
          "Frequency": 7,
          "Monetary": 1750,
          "Recency": 14,
          "Time": 35
         },
         {
          "Donated": 2,
          "Frequency": 9,
          "Monetary": 2250,
          "Recency": 4,
          "Time": 28
         },
         {
          "Donated": 1,
          "Frequency": 1,
          "Monetary": 250,
          "Recency": 16,
          "Time": 16
         },
         {
          "Donated": 1,
          "Frequency": 1,
          "Monetary": 250,
          "Recency": 23,
          "Time": 23
         },
         {
          "Donated": 1,
          "Frequency": 10,
          "Monetary": 2500,
          "Recency": 2,
          "Time": 52
         },
         {
          "Donated": 1,
          "Frequency": 2,
          "Monetary": 500,
          "Recency": 4,
          "Time": 31
         },
         {
          "Donated": 1,
          "Frequency": 6,
          "Monetary": 1500,
          "Recency": 4,
          "Time": 14
         },
         {
          "Donated": 2,
          "Frequency": 5,
          "Monetary": 1250,
          "Recency": 4,
          "Time": 16
         },
         {
          "Donated": 2,
          "Frequency": 6,
          "Monetary": 1500,
          "Recency": 4,
          "Time": 35
         },
         {
          "Donated": 1,
          "Frequency": 1,
          "Monetary": 250,
          "Recency": 21,
          "Time": 21
         },
         {
          "Donated": 2,
          "Frequency": 9,
          "Monetary": 2250,
          "Recency": 4,
          "Time": 26
         },
         {
          "Donated": 1,
          "Frequency": 8,
          "Monetary": 2000,
          "Recency": 16,
          "Time": 76
         },
         {
          "Donated": 1,
          "Frequency": 5,
          "Monetary": 1250,
          "Recency": 11,
          "Time": 38
         },
         {
          "Donated": 1,
          "Frequency": 7,
          "Monetary": 1750,
          "Recency": 1,
          "Time": 57
         },
         {
          "Donated": 2,
          "Frequency": 5,
          "Monetary": 1250,
          "Recency": 2,
          "Time": 11
         },
         {
          "Donated": 1,
          "Frequency": 6,
          "Monetary": 1500,
          "Recency": 16,
          "Time": 35
         },
         {
          "Donated": 2,
          "Frequency": 5,
          "Monetary": 1250,
          "Recency": 2,
          "Time": 16
         },
         {
          "Donated": 1,
          "Frequency": 1,
          "Monetary": 250,
          "Recency": 11,
          "Time": 11
         },
         {
          "Donated": 1,
          "Frequency": 1,
          "Monetary": 250,
          "Recency": 2,
          "Time": 2
         },
         {
          "Donated": 1,
          "Frequency": 8,
          "Monetary": 2000,
          "Recency": 11,
          "Time": 48
         },
         {
          "Donated": 1,
          "Frequency": 6,
          "Monetary": 1500,
          "Recency": 11,
          "Time": 41
         },
         {
          "Donated": 1,
          "Frequency": 14,
          "Monetary": 3500,
          "Recency": 7,
          "Time": 48
         },
         {
          "Donated": 1,
          "Frequency": 2,
          "Monetary": 500,
          "Recency": 4,
          "Time": 4
         },
         {
          "Donated": 1,
          "Frequency": 16,
          "Monetary": 4000,
          "Recency": 14,
          "Time": 98
         },
         {
          "Donated": 1,
          "Frequency": 3,
          "Monetary": 750,
          "Recency": 14,
          "Time": 52
         },
         {
          "Donated": 1,
          "Frequency": 2,
          "Monetary": 500,
          "Recency": 11,
          "Time": 17
         },
         {
          "Donated": 2,
          "Frequency": 1,
          "Monetary": 250,
          "Recency": 2,
          "Time": 2
         },
         {
          "Donated": 2,
          "Frequency": 7,
          "Monetary": 1750,
          "Recency": 2,
          "Time": 46
         },
         {
          "Donated": 1,
          "Frequency": 1,
          "Monetary": 250,
          "Recency": 23,
          "Time": 23
         },
         {
          "Donated": 1,
          "Frequency": 1,
          "Monetary": 250,
          "Recency": 23,
          "Time": 23
         },
         {
          "Donated": 2,
          "Frequency": 13,
          "Monetary": 3250,
          "Recency": 2,
          "Time": 32
         },
         {
          "Donated": 1,
          "Frequency": 11,
          "Monetary": 2750,
          "Recency": 7,
          "Time": 89
         },
         {
          "Donated": 2,
          "Frequency": 6,
          "Monetary": 1500,
          "Recency": 2,
          "Time": 15
         },
         {
          "Donated": 2,
          "Frequency": 6,
          "Monetary": 1500,
          "Recency": 2,
          "Time": 16
         },
         {
          "Donated": 1,
          "Frequency": 13,
          "Monetary": 3250,
          "Recency": 14,
          "Time": 57
         },
         {
          "Donated": 1,
          "Frequency": 14,
          "Monetary": 3500,
          "Recency": 1,
          "Time": 58
         },
         {
          "Donated": 1,
          "Frequency": 8,
          "Monetary": 2000,
          "Recency": 14,
          "Time": 46
         },
         {
          "Donated": 2,
          "Frequency": 50,
          "Monetary": 12500,
          "Recency": 2,
          "Time": 98
         },
         {
          "Donated": 2,
          "Frequency": 17,
          "Monetary": 4250,
          "Recency": 4,
          "Time": 71
         },
         {
          "Donated": 1,
          "Frequency": 3,
          "Monetary": 750,
          "Recency": 14,
          "Time": 33
         },
         {
          "Donated": 1,
          "Frequency": 7,
          "Monetary": 1750,
          "Recency": 16,
          "Time": 64
         },
         {
          "Donated": 2,
          "Frequency": 4,
          "Monetary": 1000,
          "Recency": 4,
          "Time": 34
         },
         {
          "Donated": 1,
          "Frequency": 3,
          "Monetary": 750,
          "Recency": 21,
          "Time": 26
         },
         {
          "Donated": 1,
          "Frequency": 24,
          "Monetary": 6000,
          "Recency": 11,
          "Time": 64
         },
         {
          "Donated": 1,
          "Frequency": 8,
          "Monetary": 2000,
          "Recency": 14,
          "Time": 26
         },
         {
          "Donated": 2,
          "Frequency": 11,
          "Monetary": 2750,
          "Recency": 2,
          "Time": 41
         },
         {
          "Donated": 2,
          "Frequency": 9,
          "Monetary": 2250,
          "Recency": 11,
          "Time": 72
         },
         {
          "Donated": 1,
          "Frequency": 1,
          "Monetary": 250,
          "Recency": 21,
          "Time": 21
         },
         {
          "Donated": 1,
          "Frequency": 9,
          "Monetary": 2250,
          "Recency": 9,
          "Time": 16
         },
         {
          "Donated": 1,
          "Frequency": 1,
          "Monetary": 250,
          "Recency": 23,
          "Time": 23
         },
         {
          "Donated": 1,
          "Frequency": 9,
          "Monetary": 2250,
          "Recency": 9,
          "Time": 45
         },
         {
          "Donated": 1,
          "Frequency": 6,
          "Monetary": 1500,
          "Recency": 11,
          "Time": 26
         },
         {
          "Donated": 2,
          "Frequency": 1,
          "Monetary": 250,
          "Recency": 11,
          "Time": 11
         },
         {
          "Donated": 1,
          "Frequency": 4,
          "Monetary": 1000,
          "Recency": 14,
          "Time": 26
         },
         {
          "Donated": 1,
          "Frequency": 2,
          "Monetary": 500,
          "Recency": 2,
          "Time": 11
         },
         {
          "Donated": 1,
          "Frequency": 1,
          "Monetary": 250,
          "Recency": 14,
          "Time": 14
         },
         {
          "Donated": 1,
          "Frequency": 2,
          "Monetary": 500,
          "Recency": 11,
          "Time": 16
         },
         {
          "Donated": 1,
          "Frequency": 1,
          "Monetary": 250,
          "Recency": 16,
          "Time": 16
         },
         {
          "Donated": 1,
          "Frequency": 3,
          "Monetary": 750,
          "Recency": 21,
          "Time": 40
         },
         {
          "Donated": 1,
          "Frequency": 5,
          "Monetary": 1250,
          "Recency": 4,
          "Time": 58
         },
         {
          "Donated": 1,
          "Frequency": 1,
          "Monetary": 250,
          "Recency": 4,
          "Time": 4
         },
         {
          "Donated": 1,
          "Frequency": 16,
          "Monetary": 4000,
          "Recency": 15,
          "Time": 82
         },
         {
          "Donated": 1,
          "Frequency": 5,
          "Monetary": 1250,
          "Recency": 14,
          "Time": 14
         },
         {
          "Donated": 1,
          "Frequency": 4,
          "Monetary": 1000,
          "Recency": 16,
          "Time": 23
         },
         {
          "Donated": 1,
          "Frequency": 4,
          "Monetary": 1000,
          "Recency": 2,
          "Time": 70
         },
         {
          "Donated": 1,
          "Frequency": 12,
          "Monetary": 3000,
          "Recency": 23,
          "Time": 86
         },
         {
          "Donated": 1,
          "Frequency": 1,
          "Monetary": 250,
          "Recency": 14,
          "Time": 14
         },
         {
          "Donated": 1,
          "Frequency": 5,
          "Monetary": 1250,
          "Recency": 14,
          "Time": 26
         },
         {
          "Donated": 1,
          "Frequency": 5,
          "Monetary": 1250,
          "Recency": 16,
          "Time": 27
         },
         {
          "Donated": 2,
          "Frequency": 2,
          "Monetary": 500,
          "Recency": 2,
          "Time": 11
         },
         {
          "Donated": 1,
          "Frequency": 2,
          "Monetary": 500,
          "Recency": 4,
          "Time": 9
         },
         {
          "Donated": 1,
          "Frequency": 7,
          "Monetary": 1750,
          "Recency": 16,
          "Time": 39
         },
         {
          "Donated": 1,
          "Frequency": 17,
          "Monetary": 4250,
          "Recency": 6,
          "Time": 70
         },
         {
          "Donated": 1,
          "Frequency": 7,
          "Monetary": 1750,
          "Recency": 16,
          "Time": 93
         },
         {
          "Donated": 1,
          "Frequency": 12,
          "Monetary": 3000,
          "Recency": 2,
          "Time": 82
         },
         {
          "Donated": 1,
          "Frequency": 7,
          "Monetary": 1750,
          "Recency": 14,
          "Time": 26
         },
         {
          "Donated": 1,
          "Frequency": 1,
          "Monetary": 250,
          "Recency": 11,
          "Time": 11
         },
         {
          "Donated": 1,
          "Frequency": 13,
          "Monetary": 3250,
          "Recency": 21,
          "Time": 57
         },
         {
          "Donated": 1,
          "Frequency": 2,
          "Monetary": 500,
          "Recency": 2,
          "Time": 2
         },
         {
          "Donated": 2,
          "Frequency": 17,
          "Monetary": 4250,
          "Recency": 11,
          "Time": 79
         },
         {
          "Donated": 1,
          "Frequency": 2,
          "Monetary": 500,
          "Recency": 14,
          "Time": 14
         },
         {
          "Donated": 1,
          "Frequency": 1,
          "Monetary": 250,
          "Recency": 74,
          "Time": 74
         },
         {
          "Donated": 1,
          "Frequency": 3,
          "Monetary": 750,
          "Recency": 2,
          "Time": 22
         },
         {
          "Donated": 1,
          "Frequency": 7,
          "Monetary": 1750,
          "Recency": 4,
          "Time": 58
         },
         {
          "Donated": 1,
          "Frequency": 1,
          "Monetary": 250,
          "Recency": 2,
          "Time": 2
         },
         {
          "Donated": 2,
          "Frequency": 1,
          "Monetary": 250,
          "Recency": 4,
          "Time": 4
         },
         {
          "Donated": 2,
          "Frequency": 5,
          "Monetary": 1250,
          "Recency": 3,
          "Time": 12
         },
         {
          "Donated": 1,
          "Frequency": 1,
          "Monetary": 250,
          "Recency": 2,
          "Time": 2
         },
         {
          "Donated": 1,
          "Frequency": 16,
          "Monetary": 4000,
          "Recency": 11,
          "Time": 89
         },
         {
          "Donated": 1,
          "Frequency": 5,
          "Monetary": 1250,
          "Recency": 15,
          "Time": 33
         },
         {
          "Donated": 1,
          "Frequency": 2,
          "Monetary": 500,
          "Recency": 14,
          "Time": 14
         },
         {
          "Donated": 1,
          "Frequency": 11,
          "Monetary": 2750,
          "Recency": 4,
          "Time": 95
         },
         {
          "Donated": 1,
          "Frequency": 2,
          "Monetary": 500,
          "Recency": 4,
          "Time": 30
         },
         {
          "Donated": 1,
          "Frequency": 2,
          "Monetary": 500,
          "Recency": 14,
          "Time": 14
         },
         {
          "Donated": 2,
          "Frequency": 10,
          "Monetary": 2500,
          "Recency": 4,
          "Time": 28
         },
         {
          "Donated": 1,
          "Frequency": 14,
          "Monetary": 3500,
          "Recency": 16,
          "Time": 83
         },
         {
          "Donated": 1,
          "Frequency": 9,
          "Monetary": 2250,
          "Recency": 11,
          "Time": 38
         },
         {
          "Donated": 1,
          "Frequency": 5,
          "Monetary": 1250,
          "Recency": 2,
          "Time": 34
         },
         {
          "Donated": 1,
          "Frequency": 10,
          "Monetary": 2500,
          "Recency": 11,
          "Time": 35
         },
         {
          "Donated": 1,
          "Frequency": 2,
          "Monetary": 500,
          "Recency": 21,
          "Time": 33
         },
         {
          "Donated": 1,
          "Frequency": 1,
          "Monetary": 250,
          "Recency": 14,
          "Time": 14
         },
         {
          "Donated": 1,
          "Frequency": 10,
          "Monetary": 2500,
          "Recency": 8,
          "Time": 63
         },
         {
          "Donated": 2,
          "Frequency": 5,
          "Monetary": 1250,
          "Recency": 4,
          "Time": 23
         },
         {
          "Donated": 1,
          "Frequency": 7,
          "Monetary": 1750,
          "Recency": 4,
          "Time": 28
         },
         {
          "Donated": 1,
          "Frequency": 1,
          "Monetary": 250,
          "Recency": 14,
          "Time": 14
         },
         {
          "Donated": 2,
          "Frequency": 3,
          "Monetary": 750,
          "Recency": 2,
          "Time": 4
         },
         {
          "Donated": 1,
          "Frequency": 5,
          "Monetary": 1250,
          "Recency": 4,
          "Time": 58
         },
         {
          "Donated": 2,
          "Frequency": 1,
          "Monetary": 250,
          "Recency": 4,
          "Time": 4
         },
         {
          "Donated": 2,
          "Frequency": 5,
          "Monetary": 1250,
          "Recency": 4,
          "Time": 11
         },
         {
          "Donated": 1,
          "Frequency": 3,
          "Monetary": 750,
          "Recency": 4,
          "Time": 34
         },
         {
          "Donated": 1,
          "Frequency": 1,
          "Monetary": 250,
          "Recency": 4,
          "Time": 4
         },
         {
          "Donated": 1,
          "Frequency": 5,
          "Monetary": 1250,
          "Recency": 11,
          "Time": 33
         },
         {
          "Donated": 2,
          "Frequency": 3,
          "Monetary": 750,
          "Recency": 11,
          "Time": 40
         },
         {
          "Donated": 1,
          "Frequency": 8,
          "Monetary": 2000,
          "Recency": 16,
          "Time": 28
         },
         {
          "Donated": 1,
          "Frequency": 8,
          "Monetary": 2000,
          "Recency": 13,
          "Time": 26
         },
         {
          "Donated": 1,
          "Frequency": 1,
          "Monetary": 250,
          "Recency": 21,
          "Time": 21
         },
         {
          "Donated": 1,
          "Frequency": 14,
          "Monetary": 3500,
          "Recency": 4,
          "Time": 86
         },
         {
          "Donated": 1,
          "Frequency": 1,
          "Monetary": 250,
          "Recency": 4,
          "Time": 4
         },
         {
          "Donated": 1,
          "Frequency": 10,
          "Monetary": 2500,
          "Recency": 16,
          "Time": 62
         },
         {
          "Donated": 2,
          "Frequency": 7,
          "Monetary": 1750,
          "Recency": 2,
          "Time": 35
         },
         {
          "Donated": 1,
          "Frequency": 1,
          "Monetary": 250,
          "Recency": 4,
          "Time": 4
         },
         {
          "Donated": 1,
          "Frequency": 7,
          "Monetary": 1750,
          "Recency": 4,
          "Time": 52
         },
         {
          "Donated": 2,
          "Frequency": 22,
          "Monetary": 5500,
          "Recency": 6,
          "Time": 28
         },
         {
          "Donated": 1,
          "Frequency": 7,
          "Monetary": 1750,
          "Recency": 21,
          "Time": 38
         },
         {
          "Donated": 1,
          "Frequency": 11,
          "Monetary": 2750,
          "Recency": 5,
          "Time": 75
         },
         {
          "Donated": 1,
          "Frequency": 6,
          "Monetary": 1500,
          "Recency": 4,
          "Time": 46
         },
         {
          "Donated": 1,
          "Frequency": 5,
          "Monetary": 1250,
          "Recency": 10,
          "Time": 38
         },
         {
          "Donated": 2,
          "Frequency": 16,
          "Monetary": 4000,
          "Recency": 4,
          "Time": 70
         },
         {
          "Donated": 2,
          "Frequency": 12,
          "Monetary": 3000,
          "Recency": 4,
          "Time": 34
         },
         {
          "Donated": 1,
          "Frequency": 1,
          "Monetary": 250,
          "Recency": 16,
          "Time": 16
         },
         {
          "Donated": 1,
          "Frequency": 1,
          "Monetary": 250,
          "Recency": 4,
          "Time": 4
         },
         {
          "Donated": 1,
          "Frequency": 2,
          "Monetary": 500,
          "Recency": 11,
          "Time": 11
         },
         {
          "Donated": 2,
          "Frequency": 5,
          "Monetary": 1250,
          "Recency": 4,
          "Time": 35
         },
         {
          "Donated": 1,
          "Frequency": 1,
          "Monetary": 250,
          "Recency": 2,
          "Time": 2
         },
         {
          "Donated": 1,
          "Frequency": 1,
          "Monetary": 250,
          "Recency": 16,
          "Time": 16
         },
         {
          "Donated": 1,
          "Frequency": 4,
          "Monetary": 1000,
          "Recency": 2,
          "Time": 16
         },
         {
          "Donated": 2,
          "Frequency": 2,
          "Monetary": 500,
          "Recency": 9,
          "Time": 16
         },
         {
          "Donated": 1,
          "Frequency": 1,
          "Monetary": 250,
          "Recency": 4,
          "Time": 4
         },
         {
          "Donated": 1,
          "Frequency": 1,
          "Monetary": 250,
          "Recency": 2,
          "Time": 2
         },
         {
          "Donated": 1,
          "Frequency": 1,
          "Monetary": 250,
          "Recency": 21,
          "Time": 21
         },
         {
          "Donated": 1,
          "Frequency": 11,
          "Monetary": 2750,
          "Recency": 4,
          "Time": 28
         },
         {
          "Donated": 1,
          "Frequency": 1,
          "Monetary": 250,
          "Recency": 21,
          "Time": 21
         },
         {
          "Donated": 1,
          "Frequency": 6,
          "Monetary": 1500,
          "Recency": 4,
          "Time": 35
         },
         {
          "Donated": 1,
          "Frequency": 5,
          "Monetary": 1250,
          "Recency": 14,
          "Time": 64
         },
         {
          "Donated": 1,
          "Frequency": 1,
          "Monetary": 250,
          "Recency": 21,
          "Time": 21
         },
         {
          "Donated": 1,
          "Frequency": 2,
          "Monetary": 500,
          "Recency": 11,
          "Time": 26
         },
         {
          "Donated": 2,
          "Frequency": 3,
          "Monetary": 750,
          "Recency": 16,
          "Time": 21
         },
         {
          "Donated": 1,
          "Frequency": 9,
          "Monetary": 2250,
          "Recency": 4,
          "Time": 28
         },
         {
          "Donated": 1,
          "Frequency": 1,
          "Monetary": 250,
          "Recency": 4,
          "Time": 4
         },
         {
          "Donated": 1,
          "Frequency": 8,
          "Monetary": 2000,
          "Recency": 10,
          "Time": 39
         },
         {
          "Donated": 1,
          "Frequency": 1,
          "Monetary": 250,
          "Recency": 4,
          "Time": 4
         },
         {
          "Donated": 1,
          "Frequency": 2,
          "Monetary": 500,
          "Recency": 2,
          "Time": 14
         },
         {
          "Donated": 2,
          "Frequency": 5,
          "Monetary": 1250,
          "Recency": 14,
          "Time": 28
         },
         {
          "Donated": 2,
          "Frequency": 1,
          "Monetary": 250,
          "Recency": 4,
          "Time": 4
         },
         {
          "Donated": 1,
          "Frequency": 1,
          "Monetary": 250,
          "Recency": 2,
          "Time": 2
         },
         {
          "Donated": 2,
          "Frequency": 13,
          "Monetary": 3250,
          "Recency": 4,
          "Time": 39
         },
         {
          "Donated": 1,
          "Frequency": 15,
          "Monetary": 3750,
          "Recency": 23,
          "Time": 57
         },
         {
          "Donated": 1,
          "Frequency": 1,
          "Monetary": 250,
          "Recency": 11,
          "Time": 11
         },
         {
          "Donated": 1,
          "Frequency": 8,
          "Monetary": 2000,
          "Recency": 23,
          "Time": 69
         },
         {
          "Donated": 1,
          "Frequency": 2,
          "Monetary": 500,
          "Recency": 23,
          "Time": 26
         },
         {
          "Donated": 1,
          "Frequency": 8,
          "Monetary": 2000,
          "Recency": 23,
          "Time": 64
         },
         {
          "Donated": 1,
          "Frequency": 3,
          "Monetary": 750,
          "Recency": 4,
          "Time": 28
         },
         {
          "Donated": 1,
          "Frequency": 1,
          "Monetary": 250,
          "Recency": 16,
          "Time": 16
         },
         {
          "Donated": 1,
          "Frequency": 6,
          "Monetary": 1500,
          "Recency": 2,
          "Time": 22
         },
         {
          "Donated": 1,
          "Frequency": 2,
          "Monetary": 500,
          "Recency": 23,
          "Time": 28
         },
         {
          "Donated": 1,
          "Frequency": 5,
          "Monetary": 1250,
          "Recency": 16,
          "Time": 71
         },
         {
          "Donated": 1,
          "Frequency": 11,
          "Monetary": 2750,
          "Recency": 12,
          "Time": 23
         },
         {
          "Donated": 1,
          "Frequency": 19,
          "Monetary": 4750,
          "Recency": 23,
          "Time": 62
         },
         {
          "Donated": 1,
          "Frequency": 5,
          "Monetary": 1250,
          "Recency": 16,
          "Time": 60
         },
         {
          "Donated": 2,
          "Frequency": 11,
          "Monetary": 2750,
          "Recency": 2,
          "Time": 40
         },
         {
          "Donated": 1,
          "Frequency": 5,
          "Monetary": 1250,
          "Recency": 2,
          "Time": 26
         },
         {
          "Donated": 1,
          "Frequency": 3,
          "Monetary": 750,
          "Recency": 21,
          "Time": 38
         },
         {
          "Donated": 1,
          "Frequency": 1,
          "Monetary": 250,
          "Recency": 23,
          "Time": 23
         },
         {
          "Donated": 1,
          "Frequency": 2,
          "Monetary": 500,
          "Recency": 11,
          "Time": 21
         },
         {
          "Donated": 1,
          "Frequency": 15,
          "Monetary": 3750,
          "Recency": 16,
          "Time": 87
         },
         {
          "Donated": 1,
          "Frequency": 3,
          "Monetary": 750,
          "Recency": 23,
          "Time": 39
         },
         {
          "Donated": 2,
          "Frequency": 7,
          "Monetary": 1750,
          "Recency": 17,
          "Time": 58
         },
         {
          "Donated": 1,
          "Frequency": 22,
          "Monetary": 5500,
          "Recency": 11,
          "Time": 98
         },
         {
          "Donated": 2,
          "Frequency": 7,
          "Monetary": 1750,
          "Recency": 11,
          "Time": 62
         },
         {
          "Donated": 1,
          "Frequency": 6,
          "Monetary": 1500,
          "Recency": 2,
          "Time": 26
         },
         {
          "Donated": 1,
          "Frequency": 6,
          "Monetary": 1500,
          "Recency": 16,
          "Time": 40
         },
         {
          "Donated": 2,
          "Frequency": 7,
          "Monetary": 1750,
          "Recency": 2,
          "Time": 14
         },
         {
          "Donated": 1,
          "Frequency": 3,
          "Monetary": 750,
          "Recency": 16,
          "Time": 34
         },
         {
          "Donated": 1,
          "Frequency": 2,
          "Monetary": 500,
          "Recency": 23,
          "Time": 28
         },
         {
          "Donated": 1,
          "Frequency": 3,
          "Monetary": 750,
          "Recency": 16,
          "Time": 50
         },
         {
          "Donated": 2,
          "Frequency": 1,
          "Monetary": 250,
          "Recency": 22,
          "Time": 22
         },
         {
          "Donated": 1,
          "Frequency": 1,
          "Monetary": 250,
          "Recency": 23,
          "Time": 23
         },
         {
          "Donated": 1,
          "Frequency": 6,
          "Monetary": 1500,
          "Recency": 21,
          "Time": 48
         },
         {
          "Donated": 2,
          "Frequency": 8,
          "Monetary": 2000,
          "Recency": 2,
          "Time": 35
         },
         {
          "Donated": 1,
          "Frequency": 1,
          "Monetary": 250,
          "Recency": 21,
          "Time": 21
         },
         {
          "Donated": 1,
          "Frequency": 3,
          "Monetary": 750,
          "Recency": 21,
          "Time": 35
         },
         {
          "Donated": 1,
          "Frequency": 10,
          "Monetary": 2500,
          "Recency": 2,
          "Time": 49
         },
         {
          "Donated": 1,
          "Frequency": 2,
          "Monetary": 500,
          "Recency": 9,
          "Time": 52
         },
         {
          "Donated": 2,
          "Frequency": 6,
          "Monetary": 1500,
          "Recency": 4,
          "Time": 16
         },
         {
          "Donated": 2,
          "Frequency": 1,
          "Monetary": 250,
          "Recency": 2,
          "Time": 2
         },
         {
          "Donated": 2,
          "Frequency": 8,
          "Monetary": 2000,
          "Recency": 4,
          "Time": 48
         },
         {
          "Donated": 1,
          "Frequency": 1,
          "Monetary": 250,
          "Recency": 23,
          "Time": 23
         },
         {
          "Donated": 2,
          "Frequency": 10,
          "Monetary": 2500,
          "Recency": 1,
          "Time": 43
         },
         {
          "Donated": 2,
          "Frequency": 1,
          "Monetary": 250,
          "Recency": 2,
          "Time": 2
         },
         {
          "Donated": 1,
          "Frequency": 11,
          "Monetary": 2750,
          "Recency": 2,
          "Time": 28
         },
         {
          "Donated": 1,
          "Frequency": 12,
          "Monetary": 3000,
          "Recency": 1,
          "Time": 35
         },
         {
          "Donated": 1,
          "Frequency": 1,
          "Monetary": 250,
          "Recency": 11,
          "Time": 11
         },
         {
          "Donated": 2,
          "Frequency": 14,
          "Monetary": 3500,
          "Recency": 2,
          "Time": 57
         },
         {
          "Donated": 1,
          "Frequency": 5,
          "Monetary": 1250,
          "Recency": 11,
          "Time": 18
         },
         {
          "Donated": 1,
          "Frequency": 2,
          "Monetary": 500,
          "Recency": 18,
          "Time": 23
         },
         {
          "Donated": 2,
          "Frequency": 2,
          "Monetary": 500,
          "Recency": 4,
          "Time": 4
         },
         {
          "Donated": 2,
          "Frequency": 10,
          "Monetary": 2500,
          "Recency": 2,
          "Time": 28
         },
         {
          "Donated": 1,
          "Frequency": 1,
          "Monetary": 250,
          "Recency": 14,
          "Time": 14
         },
         {
          "Donated": 1,
          "Frequency": 8,
          "Monetary": 2000,
          "Recency": 18,
          "Time": 95
         },
         {
          "Donated": 1,
          "Frequency": 2,
          "Monetary": 500,
          "Recency": 4,
          "Time": 23
         },
         {
          "Donated": 2,
          "Frequency": 2,
          "Monetary": 500,
          "Recency": 4,
          "Time": 9
         },
         {
          "Donated": 1,
          "Frequency": 1,
          "Monetary": 250,
          "Recency": 2,
          "Time": 2
         },
         {
          "Donated": 1,
          "Frequency": 1,
          "Monetary": 250,
          "Recency": 23,
          "Time": 23
         },
         {
          "Donated": 1,
          "Frequency": 4,
          "Monetary": 1000,
          "Recency": 16,
          "Time": 45
         },
         {
          "Donated": 1,
          "Frequency": 1,
          "Monetary": 250,
          "Recency": 23,
          "Time": 23
         },
         {
          "Donated": 1,
          "Frequency": 6,
          "Monetary": 1500,
          "Recency": 5,
          "Time": 28
         },
         {
          "Donated": 1,
          "Frequency": 11,
          "Monetary": 2750,
          "Recency": 4,
          "Time": 61
         },
         {
          "Donated": 2,
          "Frequency": 9,
          "Monetary": 2250,
          "Recency": 4,
          "Time": 38
         },
         {
          "Donated": 1,
          "Frequency": 14,
          "Monetary": 3500,
          "Recency": 4,
          "Time": 40
         },
         {
          "Donated": 1,
          "Frequency": 1,
          "Monetary": 250,
          "Recency": 4,
          "Time": 4
         },
         {
          "Donated": 2,
          "Frequency": 1,
          "Monetary": 250,
          "Recency": 2,
          "Time": 2
         },
         {
          "Donated": 1,
          "Frequency": 4,
          "Monetary": 1000,
          "Recency": 2,
          "Time": 16
         },
         {
          "Donated": 1,
          "Frequency": 2,
          "Monetary": 500,
          "Recency": 11,
          "Time": 24
         },
         {
          "Donated": 1,
          "Frequency": 6,
          "Monetary": 1500,
          "Recency": 4,
          "Time": 35
         },
         {
          "Donated": 2,
          "Frequency": 13,
          "Monetary": 3250,
          "Recency": 0,
          "Time": 28
         },
         {
          "Donated": 1,
          "Frequency": 7,
          "Monetary": 1750,
          "Recency": 2,
          "Time": 77
         },
         {
          "Donated": 2,
          "Frequency": 3,
          "Monetary": 750,
          "Recency": 2,
          "Time": 4
         },
         {
          "Donated": 1,
          "Frequency": 8,
          "Monetary": 2000,
          "Recency": 4,
          "Time": 21
         },
         {
          "Donated": 1,
          "Frequency": 2,
          "Monetary": 500,
          "Recency": 16,
          "Time": 16
         },
         {
          "Donated": 1,
          "Frequency": 4,
          "Monetary": 1000,
          "Recency": 14,
          "Time": 40
         },
         {
          "Donated": 1,
          "Frequency": 24,
          "Monetary": 6000,
          "Recency": 5,
          "Time": 79
         },
         {
          "Donated": 1,
          "Frequency": 1,
          "Monetary": 250,
          "Recency": 11,
          "Time": 11
         },
         {
          "Donated": 1,
          "Frequency": 3,
          "Monetary": 750,
          "Recency": 21,
          "Time": 35
         },
         {
          "Donated": 1,
          "Frequency": 4,
          "Monetary": 1000,
          "Recency": 2,
          "Time": 16
         },
         {
          "Donated": 1,
          "Frequency": 1,
          "Monetary": 250,
          "Recency": 11,
          "Time": 11
         },
         {
          "Donated": 1,
          "Frequency": 4,
          "Monetary": 1000,
          "Recency": 2,
          "Time": 16
         },
         {
          "Donated": 2,
          "Frequency": 5,
          "Monetary": 1250,
          "Recency": 16,
          "Time": 40
         },
         {
          "Donated": 1,
          "Frequency": 12,
          "Monetary": 3000,
          "Recency": 16,
          "Time": 50
         },
         {
          "Donated": 1,
          "Frequency": 1,
          "Monetary": 250,
          "Recency": 14,
          "Time": 14
         },
         {
          "Donated": 1,
          "Frequency": 3,
          "Monetary": 750,
          "Recency": 35,
          "Time": 64
         },
         {
          "Donated": 1,
          "Frequency": 7,
          "Monetary": 1750,
          "Recency": 14,
          "Time": 47
         },
         {
          "Donated": 1,
          "Frequency": 1,
          "Monetary": 250,
          "Recency": 11,
          "Time": 11
         },
         {
          "Donated": 1,
          "Frequency": 12,
          "Monetary": 3000,
          "Recency": 2,
          "Time": 52
         },
         {
          "Donated": 1,
          "Frequency": 18,
          "Monetary": 4500,
          "Recency": 14,
          "Time": 78
         },
         {
          "Donated": 1,
          "Frequency": 1,
          "Monetary": 250,
          "Recency": 2,
          "Time": 2
         },
         {
          "Donated": 1,
          "Frequency": 4,
          "Monetary": 1000,
          "Recency": 4,
          "Time": 16
         },
         {
          "Donated": 1,
          "Frequency": 2,
          "Monetary": 500,
          "Recency": 21,
          "Time": 25
         },
         {
          "Donated": 1,
          "Frequency": 2,
          "Monetary": 500,
          "Recency": 21,
          "Time": 41
         },
         {
          "Donated": 1,
          "Frequency": 11,
          "Monetary": 2750,
          "Recency": 12,
          "Time": 39
         },
         {
          "Donated": 1,
          "Frequency": 7,
          "Monetary": 1750,
          "Recency": 11,
          "Time": 75
         },
         {
          "Donated": 1,
          "Frequency": 8,
          "Monetary": 2000,
          "Recency": 11,
          "Time": 72
         },
         {
          "Donated": 1,
          "Frequency": 3,
          "Monetary": 750,
          "Recency": 6,
          "Time": 26
         },
         {
          "Donated": 1,
          "Frequency": 3,
          "Monetary": 750,
          "Recency": 11,
          "Time": 37
         },
         {
          "Donated": 1,
          "Frequency": 1,
          "Monetary": 250,
          "Recency": 11,
          "Time": 11
         },
         {
          "Donated": 1,
          "Frequency": 5,
          "Monetary": 1250,
          "Recency": 2,
          "Time": 26
         },
         {
          "Donated": 1,
          "Frequency": 4,
          "Monetary": 1000,
          "Recency": 23,
          "Time": 45
         },
         {
          "Donated": 1,
          "Frequency": 3,
          "Monetary": 750,
          "Recency": 16,
          "Time": 35
         },
         {
          "Donated": 1,
          "Frequency": 2,
          "Monetary": 500,
          "Recency": 2,
          "Time": 22
         },
         {
          "Donated": 1,
          "Frequency": 2,
          "Monetary": 500,
          "Recency": 21,
          "Time": 23
         },
         {
          "Donated": 1,
          "Frequency": 2,
          "Monetary": 500,
          "Recency": 2,
          "Time": 11
         },
         {
          "Donated": 1,
          "Frequency": 1,
          "Monetary": 250,
          "Recency": 4,
          "Time": 4
         },
         {
          "Donated": 1,
          "Frequency": 2,
          "Monetary": 500,
          "Recency": 23,
          "Time": 87
         },
         {
          "Donated": 1,
          "Frequency": 1,
          "Monetary": 250,
          "Recency": 21,
          "Time": 21
         },
         {
          "Donated": 1,
          "Frequency": 3,
          "Monetary": 750,
          "Recency": 4,
          "Time": 16
         },
         {
          "Donated": 2,
          "Frequency": 8,
          "Monetary": 2000,
          "Recency": 4,
          "Time": 46
         },
         {
          "Donated": 1,
          "Frequency": 11,
          "Monetary": 2750,
          "Recency": 4,
          "Time": 78
         },
         {
          "Donated": 1,
          "Frequency": 4,
          "Monetary": 1000,
          "Recency": 2,
          "Time": 43
         },
         {
          "Donated": 1,
          "Frequency": 3,
          "Monetary": 750,
          "Recency": 14,
          "Time": 21
         },
         {
          "Donated": 1,
          "Frequency": 12,
          "Monetary": 3000,
          "Recency": 7,
          "Time": 86
         },
         {
          "Donated": 1,
          "Frequency": 3,
          "Monetary": 750,
          "Recency": 2,
          "Time": 14
         },
         {
          "Donated": 1,
          "Frequency": 1,
          "Monetary": 250,
          "Recency": 14,
          "Time": 14
         },
         {
          "Donated": 1,
          "Frequency": 7,
          "Monetary": 1750,
          "Recency": 11,
          "Time": 64
         },
         {
          "Donated": 1,
          "Frequency": 6,
          "Monetary": 1500,
          "Recency": 25,
          "Time": 50
         },
         {
          "Donated": 2,
          "Frequency": 20,
          "Monetary": 5000,
          "Recency": 4,
          "Time": 69
         },
         {
          "Donated": 1,
          "Frequency": 3,
          "Monetary": 750,
          "Recency": 14,
          "Time": 41
         },
         {
          "Donated": 1,
          "Frequency": 1,
          "Monetary": 250,
          "Recency": 2,
          "Time": 2
         },
         {
          "Donated": 2,
          "Frequency": 21,
          "Monetary": 5250,
          "Recency": 3,
          "Time": 42
         },
         {
          "Donated": 1,
          "Frequency": 7,
          "Monetary": 1750,
          "Recency": 16,
          "Time": 38
         },
         {
          "Donated": 1,
          "Frequency": 3,
          "Monetary": 750,
          "Recency": 16,
          "Time": 21
         },
         {
          "Donated": 1,
          "Frequency": 1,
          "Monetary": 250,
          "Recency": 2,
          "Time": 2
         },
         {
          "Donated": 1,
          "Frequency": 12,
          "Monetary": 3000,
          "Recency": 2,
          "Time": 98
         },
         {
          "Donated": 1,
          "Frequency": 2,
          "Monetary": 500,
          "Recency": 21,
          "Time": 23
         },
         {
          "Donated": 1,
          "Frequency": 1,
          "Monetary": 250,
          "Recency": 4,
          "Time": 4
         },
         {
          "Donated": 2,
          "Frequency": 1,
          "Monetary": 250,
          "Recency": 4,
          "Time": 4
         },
         {
          "Donated": 1,
          "Frequency": 1,
          "Monetary": 250,
          "Recency": 21,
          "Time": 21
         },
         {
          "Donated": 2,
          "Frequency": 10,
          "Monetary": 2500,
          "Recency": 4,
          "Time": 28
         },
         {
          "Donated": 1,
          "Frequency": 2,
          "Monetary": 500,
          "Recency": 2,
          "Time": 33
         },
         {
          "Donated": 1,
          "Frequency": 2,
          "Monetary": 500,
          "Recency": 4,
          "Time": 41
         },
         {
          "Donated": 2,
          "Frequency": 2,
          "Monetary": 500,
          "Recency": 2,
          "Time": 11
         },
         {
          "Donated": 1,
          "Frequency": 5,
          "Monetary": 1250,
          "Recency": 2,
          "Time": 37
         },
         {
          "Donated": 1,
          "Frequency": 4,
          "Monetary": 1000,
          "Recency": 2,
          "Time": 23
         },
         {
          "Donated": 1,
          "Frequency": 3,
          "Monetary": 750,
          "Recency": 13,
          "Time": 16
         },
         {
          "Donated": 1,
          "Frequency": 9,
          "Monetary": 2250,
          "Recency": 4,
          "Time": 52
         },
         {
          "Donated": 1,
          "Frequency": 1,
          "Monetary": 250,
          "Recency": 16,
          "Time": 16
         },
         {
          "Donated": 1,
          "Frequency": 3,
          "Monetary": 750,
          "Recency": 11,
          "Time": 23
         },
         {
          "Donated": 1,
          "Frequency": 3,
          "Monetary": 750,
          "Recency": 14,
          "Time": 26
         },
         {
          "Donated": 1,
          "Frequency": 5,
          "Monetary": 1250,
          "Recency": 11,
          "Time": 35
         },
         {
          "Donated": 1,
          "Frequency": 1,
          "Monetary": 250,
          "Recency": 16,
          "Time": 16
         },
         {
          "Donated": 1,
          "Frequency": 23,
          "Monetary": 5750,
          "Recency": 4,
          "Time": 58
         },
         {
          "Donated": 1,
          "Frequency": 2,
          "Monetary": 500,
          "Recency": 21,
          "Time": 26
         },
         {
          "Donated": 2,
          "Frequency": 6,
          "Monetary": 1500,
          "Recency": 2,
          "Time": 28
         },
         {
          "Donated": 1,
          "Frequency": 6,
          "Monetary": 1500,
          "Recency": 2,
          "Time": 75
         },
         {
          "Donated": 1,
          "Frequency": 7,
          "Monetary": 1750,
          "Recency": 2,
          "Time": 76
         },
         {
          "Donated": 1,
          "Frequency": 4,
          "Monetary": 1000,
          "Recency": 11,
          "Time": 61
         },
         {
          "Donated": 1,
          "Frequency": 9,
          "Monetary": 2250,
          "Recency": 1,
          "Time": 51
         },
         {
          "Donated": 1,
          "Frequency": 2,
          "Monetary": 500,
          "Recency": 2,
          "Time": 14
         },
         {
          "Donated": 1,
          "Frequency": 9,
          "Monetary": 2250,
          "Recency": 2,
          "Time": 75
         },
         {
          "Donated": 1,
          "Frequency": 5,
          "Monetary": 1250,
          "Recency": 4,
          "Time": 23
         },
         {
          "Donated": 1,
          "Frequency": 2,
          "Monetary": 500,
          "Recency": 14,
          "Time": 16
         },
         {
          "Donated": 1,
          "Frequency": 9,
          "Monetary": 2250,
          "Recency": 12,
          "Time": 60
         },
         {
          "Donated": 2,
          "Frequency": 7,
          "Monetary": 1750,
          "Recency": 16,
          "Time": 87
         },
         {
          "Donated": 2,
          "Frequency": 34,
          "Monetary": 8500,
          "Recency": 2,
          "Time": 77
         },
         {
          "Donated": 1,
          "Frequency": 38,
          "Monetary": 9500,
          "Recency": 23,
          "Time": 98
         },
         {
          "Donated": 1,
          "Frequency": 7,
          "Monetary": 1750,
          "Recency": 14,
          "Time": 45
         },
         {
          "Donated": 1,
          "Frequency": 11,
          "Monetary": 2750,
          "Recency": 2,
          "Time": 23
         },
         {
          "Donated": 1,
          "Frequency": 3,
          "Monetary": 750,
          "Recency": 11,
          "Time": 76
         },
         {
          "Donated": 2,
          "Frequency": 4,
          "Monetary": 1000,
          "Recency": 14,
          "Time": 22
         },
         {
          "Donated": 1,
          "Frequency": 1,
          "Monetary": 250,
          "Recency": 16,
          "Time": 16
         },
         {
          "Donated": 1,
          "Frequency": 4,
          "Monetary": 1000,
          "Recency": 4,
          "Time": 26
         },
         {
          "Donated": 1,
          "Frequency": 2,
          "Monetary": 500,
          "Recency": 11,
          "Time": 52
         },
         {
          "Donated": 1,
          "Frequency": 1,
          "Monetary": 250,
          "Recency": 2,
          "Time": 2
         },
         {
          "Donated": 1,
          "Frequency": 1,
          "Monetary": 250,
          "Recency": 21,
          "Time": 21
         },
         {
          "Donated": 1,
          "Frequency": 2,
          "Monetary": 500,
          "Recency": 4,
          "Time": 4
         },
         {
          "Donated": 1,
          "Frequency": 1,
          "Monetary": 250,
          "Recency": 16,
          "Time": 16
         },
         {
          "Donated": 2,
          "Frequency": 2,
          "Monetary": 500,
          "Recency": 2,
          "Time": 11
         },
         {
          "Donated": 1,
          "Frequency": 3,
          "Monetary": 750,
          "Recency": 14,
          "Time": 79
         },
         {
          "Donated": 1,
          "Frequency": 44,
          "Monetary": 11000,
          "Recency": 2,
          "Time": 98
         },
         {
          "Donated": 2,
          "Frequency": 5,
          "Monetary": 1250,
          "Recency": 26,
          "Time": 49
         },
         {
          "Donated": 1,
          "Frequency": 3,
          "Monetary": 750,
          "Recency": 16,
          "Time": 23
         },
         {
          "Donated": 1,
          "Frequency": 6,
          "Monetary": 1500,
          "Recency": 4,
          "Time": 30
         },
         {
          "Donated": 1,
          "Frequency": 5,
          "Monetary": 1250,
          "Recency": 4,
          "Time": 28
         },
         {
          "Donated": 1,
          "Frequency": 3,
          "Monetary": 750,
          "Recency": 14,
          "Time": 28
         },
         {
          "Donated": 2,
          "Frequency": 16,
          "Monetary": 4000,
          "Recency": 4,
          "Time": 98
         },
         {
          "Donated": 1,
          "Frequency": 6,
          "Monetary": 1500,
          "Recency": 4,
          "Time": 47
         },
         {
          "Donated": 2,
          "Frequency": 1,
          "Monetary": 250,
          "Recency": 4,
          "Time": 4
         },
         {
          "Donated": 1,
          "Frequency": 9,
          "Monetary": 2250,
          "Recency": 9,
          "Time": 54
         },
         {
          "Donated": 1,
          "Frequency": 7,
          "Monetary": 1750,
          "Recency": 23,
          "Time": 88
         },
         {
          "Donated": 1,
          "Frequency": 1,
          "Monetary": 250,
          "Recency": 11,
          "Time": 11
         },
         {
          "Donated": 1,
          "Frequency": 1,
          "Monetary": 250,
          "Recency": 23,
          "Time": 23
         },
         {
          "Donated": 2,
          "Frequency": 6,
          "Monetary": 1500,
          "Recency": 4,
          "Time": 38
         },
         {
          "Donated": 1,
          "Frequency": 3,
          "Monetary": 750,
          "Recency": 23,
          "Time": 40
         },
         {
          "Donated": 1,
          "Frequency": 3,
          "Monetary": 750,
          "Recency": 16,
          "Time": 46
         },
         {
          "Donated": 1,
          "Frequency": 1,
          "Monetary": 250,
          "Recency": 4,
          "Time": 4
         },
         {
          "Donated": 1,
          "Frequency": 7,
          "Monetary": 1750,
          "Recency": 11,
          "Time": 37
         },
         {
          "Donated": 1,
          "Frequency": 3,
          "Monetary": 750,
          "Recency": 23,
          "Time": 28
         },
         {
          "Donated": 1,
          "Frequency": 6,
          "Monetary": 1500,
          "Recency": 23,
          "Time": 45
         },
         {
          "Donated": 1,
          "Frequency": 1,
          "Monetary": 250,
          "Recency": 38,
          "Time": 38
         },
         {
          "Donated": 1,
          "Frequency": 2,
          "Monetary": 500,
          "Recency": 16,
          "Time": 70
         },
         {
          "Donated": 1,
          "Frequency": 1,
          "Monetary": 250,
          "Recency": 21,
          "Time": 21
         },
         {
          "Donated": 2,
          "Frequency": 4,
          "Monetary": 1000,
          "Recency": 2,
          "Time": 16
         },
         {
          "Donated": 2,
          "Frequency": 6,
          "Monetary": 1500,
          "Recency": 4,
          "Time": 28
         },
         {
          "Donated": 1,
          "Frequency": 4,
          "Monetary": 1000,
          "Recency": 14,
          "Time": 26
         },
         {
          "Donated": 1,
          "Frequency": 3,
          "Monetary": 750,
          "Recency": 11,
          "Time": 26
         },
         {
          "Donated": 1,
          "Frequency": 16,
          "Monetary": 4000,
          "Recency": 3,
          "Time": 74
         },
         {
          "Donated": 1,
          "Frequency": 7,
          "Monetary": 1750,
          "Recency": 13,
          "Time": 76
         },
         {
          "Donated": 1,
          "Frequency": 2,
          "Monetary": 500,
          "Recency": 2,
          "Time": 16
         },
         {
          "Donated": 2,
          "Frequency": 9,
          "Monetary": 2250,
          "Recency": 2,
          "Time": 22
         },
         {
          "Donated": 1,
          "Frequency": 2,
          "Monetary": 500,
          "Recency": 2,
          "Time": 4
         },
         {
          "Donated": 2,
          "Frequency": 2,
          "Monetary": 500,
          "Recency": 14,
          "Time": 14
         },
         {
          "Donated": 1,
          "Frequency": 16,
          "Monetary": 4000,
          "Recency": 2,
          "Time": 81
         },
         {
          "Donated": 1,
          "Frequency": 3,
          "Monetary": 750,
          "Recency": 23,
          "Time": 41
         },
         {
          "Donated": 1,
          "Frequency": 4,
          "Monetary": 1000,
          "Recency": 14,
          "Time": 57
         },
         {
          "Donated": 1,
          "Frequency": 1,
          "Monetary": 250,
          "Recency": 14,
          "Time": 14
         },
         {
          "Donated": 1,
          "Frequency": 1,
          "Monetary": 250,
          "Recency": 23,
          "Time": 23
         },
         {
          "Donated": 1,
          "Frequency": 1,
          "Monetary": 250,
          "Recency": 38,
          "Time": 38
         },
         {
          "Donated": 1,
          "Frequency": 3,
          "Monetary": 750,
          "Recency": 21,
          "Time": 35
         },
         {
          "Donated": 1,
          "Frequency": 5,
          "Monetary": 1250,
          "Recency": 11,
          "Time": 41
         },
         {
          "Donated": 1,
          "Frequency": 6,
          "Monetary": 1500,
          "Recency": 11,
          "Time": 71
         },
         {
          "Donated": 1,
          "Frequency": 1,
          "Monetary": 250,
          "Recency": 16,
          "Time": 16
         },
         {
          "Donated": 1,
          "Frequency": 14,
          "Monetary": 3500,
          "Recency": 5,
          "Time": 86
         },
         {
          "Donated": 1,
          "Frequency": 2,
          "Monetary": 500,
          "Recency": 4,
          "Time": 4
         },
         {
          "Donated": 2,
          "Frequency": 8,
          "Monetary": 2000,
          "Recency": 14,
          "Time": 50
         },
         {
          "Donated": 2,
          "Frequency": 5,
          "Monetary": 1250,
          "Recency": 9,
          "Time": 51
         },
         {
          "Donated": 1,
          "Frequency": 7,
          "Monetary": 1750,
          "Recency": 2,
          "Time": 29
         },
         {
          "Donated": 1,
          "Frequency": 6,
          "Monetary": 1500,
          "Recency": 21,
          "Time": 86
         },
         {
          "Donated": 1,
          "Frequency": 7,
          "Monetary": 1750,
          "Recency": 14,
          "Time": 72
         },
         {
          "Donated": 1,
          "Frequency": 2,
          "Monetary": 500,
          "Recency": 16,
          "Time": 26
         },
         {
          "Donated": 1,
          "Frequency": 4,
          "Monetary": 1000,
          "Recency": 14,
          "Time": 64
         },
         {
          "Donated": 1,
          "Frequency": 2,
          "Monetary": 500,
          "Recency": 14,
          "Time": 14
         },
         {
          "Donated": 1,
          "Frequency": 1,
          "Monetary": 250,
          "Recency": 21,
          "Time": 21
         },
         {
          "Donated": 1,
          "Frequency": 5,
          "Monetary": 1250,
          "Recency": 14,
          "Time": 28
         },
         {
          "Donated": 1,
          "Frequency": 2,
          "Monetary": 500,
          "Recency": 4,
          "Time": 29
         },
         {
          "Donated": 1,
          "Frequency": 1,
          "Monetary": 250,
          "Recency": 14,
          "Time": 14
         },
         {
          "Donated": 1,
          "Frequency": 9,
          "Monetary": 2250,
          "Recency": 2,
          "Time": 36
         },
         {
          "Donated": 1,
          "Frequency": 2,
          "Monetary": 500,
          "Recency": 4,
          "Time": 4
         },
         {
          "Donated": 1,
          "Frequency": 10,
          "Monetary": 2500,
          "Recency": 2,
          "Time": 64
         },
         {
          "Donated": 1,
          "Frequency": 6,
          "Monetary": 1500,
          "Recency": 14,
          "Time": 51
         },
         {
          "Donated": 2,
          "Frequency": 14,
          "Monetary": 3500,
          "Recency": 2,
          "Time": 48
         },
         {
          "Donated": 1,
          "Frequency": 3,
          "Monetary": 750,
          "Recency": 23,
          "Time": 89
         },
         {
          "Donated": 1,
          "Frequency": 11,
          "Monetary": 2750,
          "Recency": 11,
          "Time": 42
         },
         {
          "Donated": 1,
          "Frequency": 2,
          "Monetary": 500,
          "Recency": 23,
          "Time": 23
         },
         {
          "Donated": 1,
          "Frequency": 5,
          "Monetary": 1250,
          "Recency": 2,
          "Time": 63
         },
         {
          "Donated": 1,
          "Frequency": 5,
          "Monetary": 1250,
          "Recency": 23,
          "Time": 33
         },
         {
          "Donated": 2,
          "Frequency": 2,
          "Monetary": 500,
          "Recency": 2,
          "Time": 4
         },
         {
          "Donated": 1,
          "Frequency": 14,
          "Monetary": 3500,
          "Recency": 23,
          "Time": 93
         },
         {
          "Donated": 1,
          "Frequency": 9,
          "Monetary": 2250,
          "Recency": 2,
          "Time": 74
         },
         {
          "Donated": 1,
          "Frequency": 7,
          "Monetary": 1750,
          "Recency": 11,
          "Time": 29
         },
         {
          "Donated": 1,
          "Frequency": 4,
          "Monetary": 1000,
          "Recency": 21,
          "Time": 52
         },
         {
          "Donated": 2,
          "Frequency": 6,
          "Monetary": 1500,
          "Recency": 2,
          "Time": 15
         },
         {
          "Donated": 1,
          "Frequency": 2,
          "Monetary": 500,
          "Recency": 4,
          "Time": 4
         },
         {
          "Donated": 2,
          "Frequency": 4,
          "Monetary": 1000,
          "Recency": 4,
          "Time": 43
         },
         {
          "Donated": 1,
          "Frequency": 2,
          "Monetary": 500,
          "Recency": 2,
          "Time": 23
         },
         {
          "Donated": 2,
          "Frequency": 1,
          "Monetary": 250,
          "Recency": 4,
          "Time": 4
         },
         {
          "Donated": 1,
          "Frequency": 12,
          "Monetary": 3000,
          "Recency": 12,
          "Time": 58
         },
         {
          "Donated": 2,
          "Frequency": 20,
          "Monetary": 5000,
          "Recency": 2,
          "Time": 45
         },
         {
          "Donated": 1,
          "Frequency": 4,
          "Monetary": 1000,
          "Recency": 16,
          "Time": 28
         },
         {
          "Donated": 1,
          "Frequency": 3,
          "Monetary": 750,
          "Recency": 21,
          "Time": 64
         },
         {
          "Donated": 1,
          "Frequency": 1,
          "Monetary": 250,
          "Recency": 4,
          "Time": 4
         },
         {
          "Donated": 1,
          "Frequency": 3,
          "Monetary": 750,
          "Recency": 14,
          "Time": 83
         },
         {
          "Donated": 1,
          "Frequency": 2,
          "Monetary": 500,
          "Recency": 16,
          "Time": 16
         },
         {
          "Donated": 1,
          "Frequency": 2,
          "Monetary": 500,
          "Recency": 2,
          "Time": 11
         },
         {
          "Donated": 1,
          "Frequency": 2,
          "Monetary": 500,
          "Recency": 0,
          "Time": 4
         },
         {
          "Donated": 1,
          "Frequency": 6,
          "Monetary": 1500,
          "Recency": 4,
          "Time": 14
         },
         {
          "Donated": 1,
          "Frequency": 6,
          "Monetary": 1500,
          "Recency": 11,
          "Time": 58
         },
         {
          "Donated": 2,
          "Frequency": 8,
          "Monetary": 2000,
          "Recency": 4,
          "Time": 26
         },
         {
          "Donated": 1,
          "Frequency": 6,
          "Monetary": 1500,
          "Recency": 14,
          "Time": 34
         },
         {
          "Donated": 2,
          "Frequency": 11,
          "Monetary": 2750,
          "Recency": 2,
          "Time": 46
         },
         {
          "Donated": 1,
          "Frequency": 14,
          "Monetary": 3500,
          "Recency": 3,
          "Time": 35
         },
         {
          "Donated": 1,
          "Frequency": 5,
          "Monetary": 1250,
          "Recency": 21,
          "Time": 60
         },
         {
          "Donated": 2,
          "Frequency": 5,
          "Monetary": 1250,
          "Recency": 4,
          "Time": 16
         },
         {
          "Donated": 2,
          "Frequency": 5,
          "Monetary": 1250,
          "Recency": 11,
          "Time": 37
         },
         {
          "Donated": 1,
          "Frequency": 2,
          "Monetary": 500,
          "Recency": 14,
          "Time": 35
         },
         {
          "Donated": 2,
          "Frequency": 6,
          "Monetary": 1500,
          "Recency": 2,
          "Time": 26
         },
         {
          "Donated": 1,
          "Frequency": 3,
          "Monetary": 750,
          "Recency": 14,
          "Time": 26
         },
         {
          "Donated": 1,
          "Frequency": 5,
          "Monetary": 1250,
          "Recency": 4,
          "Time": 34
         },
         {
          "Donated": 1,
          "Frequency": 4,
          "Monetary": 1000,
          "Recency": 4,
          "Time": 18
         },
         {
          "Donated": 2,
          "Frequency": 2,
          "Monetary": 500,
          "Recency": 2,
          "Time": 10
         },
         {
          "Donated": 1,
          "Frequency": 16,
          "Monetary": 4000,
          "Recency": 21,
          "Time": 64
         },
         {
          "Donated": 1,
          "Frequency": 2,
          "Monetary": 500,
          "Recency": 9,
          "Time": 11
         },
         {
          "Donated": 1,
          "Frequency": 3,
          "Monetary": 750,
          "Recency": 2,
          "Time": 35
         },
         {
          "Donated": 1,
          "Frequency": 4,
          "Monetary": 1000,
          "Recency": 11,
          "Time": 58
         },
         {
          "Donated": 1,
          "Frequency": 1,
          "Monetary": 250,
          "Recency": 2,
          "Time": 2
         },
         {
          "Donated": 1,
          "Frequency": 3,
          "Monetary": 750,
          "Recency": 14,
          "Time": 31
         },
         {
          "Donated": 1,
          "Frequency": 1,
          "Monetary": 250,
          "Recency": 39,
          "Time": 39
         },
         {
          "Donated": 1,
          "Frequency": 1,
          "Monetary": 250,
          "Recency": 2,
          "Time": 2
         },
         {
          "Donated": 2,
          "Frequency": 2,
          "Monetary": 500,
          "Recency": 11,
          "Time": 38
         },
         {
          "Donated": 1,
          "Frequency": 1,
          "Monetary": 250,
          "Recency": 2,
          "Time": 2
         },
         {
          "Donated": 1,
          "Frequency": 1,
          "Monetary": 250,
          "Recency": 16,
          "Time": 16
         },
         {
          "Donated": 1,
          "Frequency": 7,
          "Monetary": 1750,
          "Recency": 16,
          "Time": 28
         },
         {
          "Donated": 1,
          "Frequency": 1,
          "Monetary": 250,
          "Recency": 23,
          "Time": 23
         },
         {
          "Donated": 1,
          "Frequency": 3,
          "Monetary": 750,
          "Recency": 6,
          "Time": 14
         },
         {
          "Donated": 1,
          "Frequency": 4,
          "Monetary": 1000,
          "Recency": 16,
          "Time": 40
         },
         {
          "Donated": 1,
          "Frequency": 1,
          "Monetary": 250,
          "Recency": 16,
          "Time": 16
         },
         {
          "Donated": 2,
          "Frequency": 4,
          "Monetary": 1000,
          "Recency": 3,
          "Time": 29
         },
         {
          "Donated": 1,
          "Frequency": 4,
          "Monetary": 1000,
          "Recency": 23,
          "Time": 52
         },
         {
          "Donated": 2,
          "Frequency": 14,
          "Monetary": 3500,
          "Recency": 20,
          "Time": 69
         },
         {
          "Donated": 1,
          "Frequency": 1,
          "Monetary": 250,
          "Recency": 2,
          "Time": 2
         },
         {
          "Donated": 2,
          "Frequency": 4,
          "Monetary": 1000,
          "Recency": 14,
          "Time": 23
         },
         {
          "Donated": 1,
          "Frequency": 1,
          "Monetary": 250,
          "Recency": 16,
          "Time": 16
         },
         {
          "Donated": 1,
          "Frequency": 9,
          "Monetary": 2250,
          "Recency": 8,
          "Time": 64
         },
         {
          "Donated": 1,
          "Frequency": 1,
          "Monetary": 250,
          "Recency": 4,
          "Time": 4
         },
         {
          "Donated": 1,
          "Frequency": 2,
          "Monetary": 500,
          "Recency": 9,
          "Time": 26
         },
         {
          "Donated": 2,
          "Frequency": 4,
          "Monetary": 1000,
          "Recency": 4,
          "Time": 26
         },
         {
          "Donated": 1,
          "Frequency": 1,
          "Monetary": 250,
          "Recency": 14,
          "Time": 14
         },
         {
          "Donated": 2,
          "Frequency": 7,
          "Monetary": 1750,
          "Recency": 5,
          "Time": 26
         },
         {
          "Donated": 1,
          "Frequency": 3,
          "Monetary": 750,
          "Recency": 2,
          "Time": 19
         },
         {
          "Donated": 2,
          "Frequency": 4,
          "Monetary": 1000,
          "Recency": 11,
          "Time": 16
         },
         {
          "Donated": 2,
          "Frequency": 26,
          "Monetary": 6500,
          "Recency": 0,
          "Time": 76
         },
         {
          "Donated": 1,
          "Frequency": 8,
          "Monetary": 2000,
          "Recency": 3,
          "Time": 50
         },
         {
          "Donated": 2,
          "Frequency": 1,
          "Monetary": 250,
          "Recency": 3,
          "Time": 3
         },
         {
          "Donated": 1,
          "Frequency": 2,
          "Monetary": 500,
          "Recency": 21,
          "Time": 52
         },
         {
          "Donated": 2,
          "Frequency": 7,
          "Monetary": 1750,
          "Recency": 4,
          "Time": 22
         },
         {
          "Donated": 1,
          "Frequency": 4,
          "Monetary": 1000,
          "Recency": 14,
          "Time": 30
         },
         {
          "Donated": 2,
          "Frequency": 16,
          "Monetary": 4000,
          "Recency": 1,
          "Time": 35
         },
         {
          "Donated": 1,
          "Frequency": 3,
          "Monetary": 750,
          "Recency": 21,
          "Time": 38
         },
         {
          "Donated": 1,
          "Frequency": 7,
          "Monetary": 1750,
          "Recency": 4,
          "Time": 25
         },
         {
          "Donated": 1,
          "Frequency": 6,
          "Monetary": 1500,
          "Recency": 11,
          "Time": 27
         },
         {
          "Donated": 1,
          "Frequency": 1,
          "Monetary": 250,
          "Recency": 4,
          "Time": 4
         },
         {
          "Donated": 1,
          "Frequency": 2,
          "Monetary": 500,
          "Recency": 21,
          "Time": 23
         },
         {
          "Donated": 2,
          "Frequency": 3,
          "Monetary": 750,
          "Recency": 11,
          "Time": 16
         },
         {
          "Donated": 1,
          "Frequency": 3,
          "Monetary": 750,
          "Recency": 9,
          "Time": 34
         },
         {
          "Donated": 1,
          "Frequency": 1,
          "Monetary": 250,
          "Recency": 16,
          "Time": 16
         },
         {
          "Donated": 1,
          "Frequency": 9,
          "Monetary": 2250,
          "Recency": 4,
          "Time": 46
         },
         {
          "Donated": 2,
          "Frequency": 1,
          "Monetary": 250,
          "Recency": 4,
          "Time": 4
         },
         {
          "Donated": 1,
          "Frequency": 14,
          "Monetary": 3500,
          "Recency": 1,
          "Time": 95
         },
         {
          "Donated": 1,
          "Frequency": 2,
          "Monetary": 500,
          "Recency": 2,
          "Time": 4
         },
         {
          "Donated": 1,
          "Frequency": 2,
          "Monetary": 500,
          "Recency": 2,
          "Time": 2
         },
         {
          "Donated": 1,
          "Frequency": 4,
          "Monetary": 1000,
          "Recency": 11,
          "Time": 27
         },
         {
          "Donated": 2,
          "Frequency": 8,
          "Monetary": 2000,
          "Recency": 4,
          "Time": 40
         },
         {
          "Donated": 1,
          "Frequency": 17,
          "Monetary": 4250,
          "Recency": 3,
          "Time": 86
         },
         {
          "Donated": 1,
          "Frequency": 1,
          "Monetary": 250,
          "Recency": 4,
          "Time": 4
         },
         {
          "Donated": 1,
          "Frequency": 6,
          "Monetary": 1500,
          "Recency": 2,
          "Time": 45
         },
         {
          "Donated": 2,
          "Frequency": 5,
          "Monetary": 1250,
          "Recency": 2,
          "Time": 33
         },
         {
          "Donated": 1,
          "Frequency": 8,
          "Monetary": 2000,
          "Recency": 0,
          "Time": 59
         },
         {
          "Donated": 1,
          "Frequency": 5,
          "Monetary": 1250,
          "Recency": 3,
          "Time": 38
         },
         {
          "Donated": 2,
          "Frequency": 15,
          "Monetary": 3750,
          "Recency": 2,
          "Time": 49
         },
         {
          "Donated": 1,
          "Frequency": 3,
          "Monetary": 750,
          "Recency": 16,
          "Time": 86
         },
         {
          "Donated": 2,
          "Frequency": 4,
          "Monetary": 1000,
          "Recency": 4,
          "Time": 14
         },
         {
          "Donated": 1,
          "Frequency": 4,
          "Monetary": 1000,
          "Recency": 11,
          "Time": 34
         },
         {
          "Donated": 1,
          "Frequency": 1,
          "Monetary": 250,
          "Recency": 14,
          "Time": 14
         },
         {
          "Donated": 2,
          "Frequency": 2,
          "Monetary": 500,
          "Recency": 14,
          "Time": 21
         },
         {
          "Donated": 2,
          "Frequency": 4,
          "Monetary": 1000,
          "Recency": 4,
          "Time": 4
         }
        ]
       },
       "encoding": {
        "color": {
         "field": "Donated",
         "scale": {
          "scheme": "goldorange"
         },
         "type": "quantitative"
        },
        "x": {
         "field": "Recency",
         "type": "quantitative"
        },
        "y": {
         "aggregate": "count",
         "stack": null,
         "type": "quantitative"
        }
       },
       "mark": {
        "opacity": 0.7,
        "type": "bar"
       },
       "title": "Donor Recency Distribution"
      },
      "image/png": "[encoded data removed]",
      "text/plain": [
       "<VegaLite 3 object>\n",
       "\n",
       "If you see this message, it means the renderer has not been properly enabled\n",
       "for the frontend that you are using. For more information, see\n",
       "https://altair-viz.github.io/user_guide/troubleshooting.html\n"
      ]
     },
     "execution_count": 16,
     "metadata": {},
     "output_type": "execute_result"
    }
   ],
   "source": [
    "alt.Chart(blood_df_train).mark_bar(opacity = 0.7).encode(\n",
    "    alt.X(\"Recency\"),\n",
    "    alt.Y('count()', stack=None),\n",
    "    color=alt.Color('Donated', scale=alt.Scale(scheme='goldorange'))\n",
    ").properties(title = \"Donor Recency Distribution\")"
   ]
  },
  {
   "cell_type": "code",
   "execution_count": 17,
   "metadata": {},
   "outputs": [
    {
     "data": {
      "application/vnd.vegalite.v3+json": {
       "$schema": "https://vega.github.io/schema/vega-lite/v3.4.0.json",
       "config": {
        "mark": {
         "tooltip": null
        },
        "view": {
         "height": 300,
         "width": 400
        }
       },
       "data": {
        "name": "data-32548e9b1b08a896c9597c0c8174a7e1"
       },
       "datasets": {
        "data-32548e9b1b08a896c9597c0c8174a7e1": [
         {
          "Donated": 1,
          "Frequency": 9,
          "Monetary": 2250,
          "Recency": 8,
          "Time": 58
         },
         {
          "Donated": 1,
          "Frequency": 4,
          "Monetary": 1000,
          "Recency": 13,
          "Time": 21
         },
         {
          "Donated": 1,
          "Frequency": 6,
          "Monetary": 1500,
          "Recency": 4,
          "Time": 39
         },
         {
          "Donated": 1,
          "Frequency": 5,
          "Monetary": 1250,
          "Recency": 4,
          "Time": 46
         },
         {
          "Donated": 1,
          "Frequency": 6,
          "Monetary": 1500,
          "Recency": 3,
          "Time": 21
         },
         {
          "Donated": 1,
          "Frequency": 1,
          "Monetary": 250,
          "Recency": 9,
          "Time": 9
         },
         {
          "Donated": 1,
          "Frequency": 2,
          "Monetary": 500,
          "Recency": 14,
          "Time": 14
         },
         {
          "Donated": 1,
          "Frequency": 7,
          "Monetary": 1750,
          "Recency": 2,
          "Time": 77
         },
         {
          "Donated": 1,
          "Frequency": 2,
          "Monetary": 500,
          "Recency": 2,
          "Time": 41
         },
         {
          "Donated": 1,
          "Frequency": 2,
          "Monetary": 500,
          "Recency": 9,
          "Time": 52
         },
         {
          "Donated": 1,
          "Frequency": 1,
          "Monetary": 250,
          "Recency": 23,
          "Time": 23
         },
         {
          "Donated": 1,
          "Frequency": 4,
          "Monetary": 1000,
          "Recency": 16,
          "Time": 58
         },
         {
          "Donated": 1,
          "Frequency": 4,
          "Monetary": 1000,
          "Recency": 2,
          "Time": 26
         },
         {
          "Donated": 2,
          "Frequency": 2,
          "Monetary": 500,
          "Recency": 4,
          "Time": 4
         },
         {
          "Donated": 1,
          "Frequency": 3,
          "Monetary": 750,
          "Recency": 23,
          "Time": 35
         },
         {
          "Donated": 2,
          "Frequency": 1,
          "Monetary": 250,
          "Recency": 2,
          "Time": 2
         },
         {
          "Donated": 1,
          "Frequency": 4,
          "Monetary": 1000,
          "Recency": 9,
          "Time": 65
         },
         {
          "Donated": 2,
          "Frequency": 3,
          "Monetary": 750,
          "Recency": 14,
          "Time": 19
         },
         {
          "Donated": 1,
          "Frequency": 7,
          "Monetary": 1750,
          "Recency": 4,
          "Time": 58
         },
         {
          "Donated": 1,
          "Frequency": 16,
          "Monetary": 4000,
          "Recency": 2,
          "Time": 64
         },
         {
          "Donated": 1,
          "Frequency": 1,
          "Monetary": 250,
          "Recency": 4,
          "Time": 4
         },
         {
          "Donated": 1,
          "Frequency": 1,
          "Monetary": 250,
          "Recency": 40,
          "Time": 40
         },
         {
          "Donated": 1,
          "Frequency": 2,
          "Monetary": 500,
          "Recency": 14,
          "Time": 14
         },
         {
          "Donated": 1,
          "Frequency": 10,
          "Monetary": 2500,
          "Recency": 16,
          "Time": 89
         },
         {
          "Donated": 1,
          "Frequency": 6,
          "Monetary": 1500,
          "Recency": 23,
          "Time": 70
         },
         {
          "Donated": 1,
          "Frequency": 7,
          "Monetary": 1750,
          "Recency": 4,
          "Time": 62
         },
         {
          "Donated": 1,
          "Frequency": 6,
          "Monetary": 1500,
          "Recency": 4,
          "Time": 52
         },
         {
          "Donated": 2,
          "Frequency": 10,
          "Monetary": 2500,
          "Recency": 4,
          "Time": 28
         },
         {
          "Donated": 1,
          "Frequency": 4,
          "Monetary": 1000,
          "Recency": 11,
          "Time": 74
         },
         {
          "Donated": 1,
          "Frequency": 2,
          "Monetary": 500,
          "Recency": 4,
          "Time": 14
         },
         {
          "Donated": 2,
          "Frequency": 2,
          "Monetary": 500,
          "Recency": 21,
          "Time": 21
         },
         {
          "Donated": 1,
          "Frequency": 6,
          "Monetary": 1500,
          "Recency": 16,
          "Time": 81
         },
         {
          "Donated": 1,
          "Frequency": 4,
          "Monetary": 1000,
          "Recency": 11,
          "Time": 28
         },
         {
          "Donated": 2,
          "Frequency": 33,
          "Monetary": 8250,
          "Recency": 4,
          "Time": 98
         },
         {
          "Donated": 1,
          "Frequency": 1,
          "Monetary": 250,
          "Recency": 72,
          "Time": 72
         },
         {
          "Donated": 2,
          "Frequency": 7,
          "Monetary": 1750,
          "Recency": 2,
          "Time": 32
         },
         {
          "Donated": 1,
          "Frequency": 3,
          "Monetary": 750,
          "Recency": 16,
          "Time": 19
         },
         {
          "Donated": 1,
          "Frequency": 3,
          "Monetary": 750,
          "Recency": 11,
          "Time": 15
         },
         {
          "Donated": 2,
          "Frequency": 3,
          "Monetary": 750,
          "Recency": 2,
          "Time": 16
         },
         {
          "Donated": 1,
          "Frequency": 1,
          "Monetary": 250,
          "Recency": 4,
          "Time": 4
         },
         {
          "Donated": 1,
          "Frequency": 4,
          "Monetary": 1000,
          "Recency": 2,
          "Time": 26
         },
         {
          "Donated": 1,
          "Frequency": 1,
          "Monetary": 250,
          "Recency": 4,
          "Time": 4
         },
         {
          "Donated": 2,
          "Frequency": 43,
          "Monetary": 10750,
          "Recency": 2,
          "Time": 86
         },
         {
          "Donated": 2,
          "Frequency": 11,
          "Monetary": 2750,
          "Recency": 4,
          "Time": 64
         },
         {
          "Donated": 2,
          "Frequency": 6,
          "Monetary": 1500,
          "Recency": 4,
          "Time": 23
         },
         {
          "Donated": 1,
          "Frequency": 3,
          "Monetary": 750,
          "Recency": 2,
          "Time": 24
         },
         {
          "Donated": 1,
          "Frequency": 13,
          "Monetary": 3250,
          "Recency": 12,
          "Time": 59
         },
         {
          "Donated": 1,
          "Frequency": 15,
          "Monetary": 3750,
          "Recency": 12,
          "Time": 71
         },
         {
          "Donated": 1,
          "Frequency": 12,
          "Monetary": 3000,
          "Recency": 11,
          "Time": 58
         },
         {
          "Donated": 1,
          "Frequency": 4,
          "Monetary": 1000,
          "Recency": 2,
          "Time": 11
         },
         {
          "Donated": 1,
          "Frequency": 1,
          "Monetary": 250,
          "Recency": 2,
          "Time": 2
         },
         {
          "Donated": 1,
          "Frequency": 2,
          "Monetary": 500,
          "Recency": 21,
          "Time": 21
         },
         {
          "Donated": 1,
          "Frequency": 4,
          "Monetary": 1000,
          "Recency": 2,
          "Time": 35
         },
         {
          "Donated": 2,
          "Frequency": 3,
          "Monetary": 750,
          "Recency": 4,
          "Time": 25
         },
         {
          "Donated": 1,
          "Frequency": 4,
          "Monetary": 1000,
          "Recency": 10,
          "Time": 16
         },
         {
          "Donated": 1,
          "Frequency": 1,
          "Monetary": 250,
          "Recency": 21,
          "Time": 21
         },
         {
          "Donated": 2,
          "Frequency": 2,
          "Monetary": 500,
          "Recency": 4,
          "Time": 4
         },
         {
          "Donated": 2,
          "Frequency": 6,
          "Monetary": 1500,
          "Recency": 2,
          "Time": 41
         },
         {
          "Donated": 2,
          "Frequency": 13,
          "Monetary": 3250,
          "Recency": 2,
          "Time": 53
         },
         {
          "Donated": 1,
          "Frequency": 9,
          "Monetary": 2250,
          "Recency": 4,
          "Time": 40
         },
         {
          "Donated": 2,
          "Frequency": 1,
          "Monetary": 250,
          "Recency": 23,
          "Time": 23
         },
         {
          "Donated": 1,
          "Frequency": 15,
          "Monetary": 3750,
          "Recency": 2,
          "Time": 64
         },
         {
          "Donated": 1,
          "Frequency": 3,
          "Monetary": 750,
          "Recency": 2,
          "Time": 21
         },
         {
          "Donated": 1,
          "Frequency": 2,
          "Monetary": 500,
          "Recency": 23,
          "Time": 23
         },
         {
          "Donated": 1,
          "Frequency": 1,
          "Monetary": 250,
          "Recency": 4,
          "Time": 4
         },
         {
          "Donated": 2,
          "Frequency": 4,
          "Monetary": 1000,
          "Recency": 2,
          "Time": 14
         },
         {
          "Donated": 1,
          "Frequency": 2,
          "Monetary": 500,
          "Recency": 2,
          "Time": 11
         },
         {
          "Donated": 1,
          "Frequency": 6,
          "Monetary": 1500,
          "Recency": 11,
          "Time": 28
         },
         {
          "Donated": 1,
          "Frequency": 4,
          "Monetary": 1000,
          "Recency": 23,
          "Time": 87
         },
         {
          "Donated": 2,
          "Frequency": 6,
          "Monetary": 1500,
          "Recency": 2,
          "Time": 28
         },
         {
          "Donated": 2,
          "Frequency": 11,
          "Monetary": 2750,
          "Recency": 9,
          "Time": 49
         },
         {
          "Donated": 1,
          "Frequency": 3,
          "Monetary": 750,
          "Recency": 23,
          "Time": 33
         },
         {
          "Donated": 1,
          "Frequency": 1,
          "Monetary": 250,
          "Recency": 2,
          "Time": 2
         },
         {
          "Donated": 2,
          "Frequency": 2,
          "Monetary": 500,
          "Recency": 2,
          "Time": 4
         },
         {
          "Donated": 1,
          "Frequency": 16,
          "Monetary": 4000,
          "Recency": 14,
          "Time": 70
         },
         {
          "Donated": 2,
          "Frequency": 8,
          "Monetary": 2000,
          "Recency": 8,
          "Time": 52
         },
         {
          "Donated": 2,
          "Frequency": 8,
          "Monetary": 2000,
          "Recency": 4,
          "Time": 34
         },
         {
          "Donated": 1,
          "Frequency": 5,
          "Monetary": 1250,
          "Recency": 7,
          "Time": 35
         },
         {
          "Donated": 1,
          "Frequency": 5,
          "Monetary": 1250,
          "Recency": 4,
          "Time": 58
         },
         {
          "Donated": 1,
          "Frequency": 1,
          "Monetary": 250,
          "Recency": 11,
          "Time": 11
         },
         {
          "Donated": 2,
          "Frequency": 13,
          "Monetary": 3250,
          "Recency": 2,
          "Time": 76
         },
         {
          "Donated": 1,
          "Frequency": 7,
          "Monetary": 1750,
          "Recency": 4,
          "Time": 52
         },
         {
          "Donated": 1,
          "Frequency": 5,
          "Monetary": 1250,
          "Recency": 14,
          "Time": 50
         },
         {
          "Donated": 1,
          "Frequency": 8,
          "Monetary": 2000,
          "Recency": 14,
          "Time": 50
         },
         {
          "Donated": 1,
          "Frequency": 2,
          "Monetary": 500,
          "Recency": 4,
          "Time": 59
         },
         {
          "Donated": 1,
          "Frequency": 3,
          "Monetary": 750,
          "Recency": 11,
          "Time": 28
         },
         {
          "Donated": 1,
          "Frequency": 1,
          "Monetary": 250,
          "Recency": 23,
          "Time": 23
         },
         {
          "Donated": 1,
          "Frequency": 5,
          "Monetary": 1250,
          "Recency": 23,
          "Time": 58
         },
         {
          "Donated": 2,
          "Frequency": 5,
          "Monetary": 1250,
          "Recency": 4,
          "Time": 26
         },
         {
          "Donated": 2,
          "Frequency": 41,
          "Monetary": 10250,
          "Recency": 2,
          "Time": 98
         },
         {
          "Donated": 1,
          "Frequency": 5,
          "Monetary": 1250,
          "Recency": 4,
          "Time": 58
         },
         {
          "Donated": 1,
          "Frequency": 2,
          "Monetary": 500,
          "Recency": 14,
          "Time": 14
         },
         {
          "Donated": 2,
          "Frequency": 6,
          "Monetary": 1500,
          "Recency": 2,
          "Time": 16
         },
         {
          "Donated": 1,
          "Frequency": 3,
          "Monetary": 750,
          "Recency": 11,
          "Time": 76
         },
         {
          "Donated": 2,
          "Frequency": 3,
          "Monetary": 750,
          "Recency": 4,
          "Time": 16
         },
         {
          "Donated": 1,
          "Frequency": 2,
          "Monetary": 500,
          "Recency": 11,
          "Time": 70
         },
         {
          "Donated": 1,
          "Frequency": 2,
          "Monetary": 500,
          "Recency": 11,
          "Time": 11
         },
         {
          "Donated": 2,
          "Frequency": 16,
          "Monetary": 4000,
          "Recency": 4,
          "Time": 38
         },
         {
          "Donated": 1,
          "Frequency": 2,
          "Monetary": 500,
          "Recency": 11,
          "Time": 11
         },
         {
          "Donated": 1,
          "Frequency": 2,
          "Monetary": 500,
          "Recency": 14,
          "Time": 29
         },
         {
          "Donated": 1,
          "Frequency": 2,
          "Monetary": 500,
          "Recency": 3,
          "Time": 23
         },
         {
          "Donated": 1,
          "Frequency": 2,
          "Monetary": 500,
          "Recency": 4,
          "Time": 52
         },
         {
          "Donated": 1,
          "Frequency": 3,
          "Monetary": 750,
          "Recency": 4,
          "Time": 16
         },
         {
          "Donated": 1,
          "Frequency": 3,
          "Monetary": 750,
          "Recency": 4,
          "Time": 71
         },
         {
          "Donated": 1,
          "Frequency": 3,
          "Monetary": 750,
          "Recency": 14,
          "Time": 35
         },
         {
          "Donated": 2,
          "Frequency": 6,
          "Monetary": 1500,
          "Recency": 16,
          "Time": 35
         },
         {
          "Donated": 1,
          "Frequency": 7,
          "Monetary": 1750,
          "Recency": 14,
          "Time": 35
         },
         {
          "Donated": 2,
          "Frequency": 9,
          "Monetary": 2250,
          "Recency": 4,
          "Time": 28
         },
         {
          "Donated": 1,
          "Frequency": 1,
          "Monetary": 250,
          "Recency": 16,
          "Time": 16
         },
         {
          "Donated": 1,
          "Frequency": 1,
          "Monetary": 250,
          "Recency": 23,
          "Time": 23
         },
         {
          "Donated": 1,
          "Frequency": 10,
          "Monetary": 2500,
          "Recency": 2,
          "Time": 52
         },
         {
          "Donated": 1,
          "Frequency": 2,
          "Monetary": 500,
          "Recency": 4,
          "Time": 31
         },
         {
          "Donated": 1,
          "Frequency": 6,
          "Monetary": 1500,
          "Recency": 4,
          "Time": 14
         },
         {
          "Donated": 2,
          "Frequency": 5,
          "Monetary": 1250,
          "Recency": 4,
          "Time": 16
         },
         {
          "Donated": 2,
          "Frequency": 6,
          "Monetary": 1500,
          "Recency": 4,
          "Time": 35
         },
         {
          "Donated": 1,
          "Frequency": 1,
          "Monetary": 250,
          "Recency": 21,
          "Time": 21
         },
         {
          "Donated": 2,
          "Frequency": 9,
          "Monetary": 2250,
          "Recency": 4,
          "Time": 26
         },
         {
          "Donated": 1,
          "Frequency": 8,
          "Monetary": 2000,
          "Recency": 16,
          "Time": 76
         },
         {
          "Donated": 1,
          "Frequency": 5,
          "Monetary": 1250,
          "Recency": 11,
          "Time": 38
         },
         {
          "Donated": 1,
          "Frequency": 7,
          "Monetary": 1750,
          "Recency": 1,
          "Time": 57
         },
         {
          "Donated": 2,
          "Frequency": 5,
          "Monetary": 1250,
          "Recency": 2,
          "Time": 11
         },
         {
          "Donated": 1,
          "Frequency": 6,
          "Monetary": 1500,
          "Recency": 16,
          "Time": 35
         },
         {
          "Donated": 2,
          "Frequency": 5,
          "Monetary": 1250,
          "Recency": 2,
          "Time": 16
         },
         {
          "Donated": 1,
          "Frequency": 1,
          "Monetary": 250,
          "Recency": 11,
          "Time": 11
         },
         {
          "Donated": 1,
          "Frequency": 1,
          "Monetary": 250,
          "Recency": 2,
          "Time": 2
         },
         {
          "Donated": 1,
          "Frequency": 8,
          "Monetary": 2000,
          "Recency": 11,
          "Time": 48
         },
         {
          "Donated": 1,
          "Frequency": 6,
          "Monetary": 1500,
          "Recency": 11,
          "Time": 41
         },
         {
          "Donated": 1,
          "Frequency": 14,
          "Monetary": 3500,
          "Recency": 7,
          "Time": 48
         },
         {
          "Donated": 1,
          "Frequency": 2,
          "Monetary": 500,
          "Recency": 4,
          "Time": 4
         },
         {
          "Donated": 1,
          "Frequency": 16,
          "Monetary": 4000,
          "Recency": 14,
          "Time": 98
         },
         {
          "Donated": 1,
          "Frequency": 3,
          "Monetary": 750,
          "Recency": 14,
          "Time": 52
         },
         {
          "Donated": 1,
          "Frequency": 2,
          "Monetary": 500,
          "Recency": 11,
          "Time": 17
         },
         {
          "Donated": 2,
          "Frequency": 1,
          "Monetary": 250,
          "Recency": 2,
          "Time": 2
         },
         {
          "Donated": 2,
          "Frequency": 7,
          "Monetary": 1750,
          "Recency": 2,
          "Time": 46
         },
         {
          "Donated": 1,
          "Frequency": 1,
          "Monetary": 250,
          "Recency": 23,
          "Time": 23
         },
         {
          "Donated": 1,
          "Frequency": 1,
          "Monetary": 250,
          "Recency": 23,
          "Time": 23
         },
         {
          "Donated": 2,
          "Frequency": 13,
          "Monetary": 3250,
          "Recency": 2,
          "Time": 32
         },
         {
          "Donated": 1,
          "Frequency": 11,
          "Monetary": 2750,
          "Recency": 7,
          "Time": 89
         },
         {
          "Donated": 2,
          "Frequency": 6,
          "Monetary": 1500,
          "Recency": 2,
          "Time": 15
         },
         {
          "Donated": 2,
          "Frequency": 6,
          "Monetary": 1500,
          "Recency": 2,
          "Time": 16
         },
         {
          "Donated": 1,
          "Frequency": 13,
          "Monetary": 3250,
          "Recency": 14,
          "Time": 57
         },
         {
          "Donated": 1,
          "Frequency": 14,
          "Monetary": 3500,
          "Recency": 1,
          "Time": 58
         },
         {
          "Donated": 1,
          "Frequency": 8,
          "Monetary": 2000,
          "Recency": 14,
          "Time": 46
         },
         {
          "Donated": 2,
          "Frequency": 50,
          "Monetary": 12500,
          "Recency": 2,
          "Time": 98
         },
         {
          "Donated": 2,
          "Frequency": 17,
          "Monetary": 4250,
          "Recency": 4,
          "Time": 71
         },
         {
          "Donated": 1,
          "Frequency": 3,
          "Monetary": 750,
          "Recency": 14,
          "Time": 33
         },
         {
          "Donated": 1,
          "Frequency": 7,
          "Monetary": 1750,
          "Recency": 16,
          "Time": 64
         },
         {
          "Donated": 2,
          "Frequency": 4,
          "Monetary": 1000,
          "Recency": 4,
          "Time": 34
         },
         {
          "Donated": 1,
          "Frequency": 3,
          "Monetary": 750,
          "Recency": 21,
          "Time": 26
         },
         {
          "Donated": 1,
          "Frequency": 24,
          "Monetary": 6000,
          "Recency": 11,
          "Time": 64
         },
         {
          "Donated": 1,
          "Frequency": 8,
          "Monetary": 2000,
          "Recency": 14,
          "Time": 26
         },
         {
          "Donated": 2,
          "Frequency": 11,
          "Monetary": 2750,
          "Recency": 2,
          "Time": 41
         },
         {
          "Donated": 2,
          "Frequency": 9,
          "Monetary": 2250,
          "Recency": 11,
          "Time": 72
         },
         {
          "Donated": 1,
          "Frequency": 1,
          "Monetary": 250,
          "Recency": 21,
          "Time": 21
         },
         {
          "Donated": 1,
          "Frequency": 9,
          "Monetary": 2250,
          "Recency": 9,
          "Time": 16
         },
         {
          "Donated": 1,
          "Frequency": 1,
          "Monetary": 250,
          "Recency": 23,
          "Time": 23
         },
         {
          "Donated": 1,
          "Frequency": 9,
          "Monetary": 2250,
          "Recency": 9,
          "Time": 45
         },
         {
          "Donated": 1,
          "Frequency": 6,
          "Monetary": 1500,
          "Recency": 11,
          "Time": 26
         },
         {
          "Donated": 2,
          "Frequency": 1,
          "Monetary": 250,
          "Recency": 11,
          "Time": 11
         },
         {
          "Donated": 1,
          "Frequency": 4,
          "Monetary": 1000,
          "Recency": 14,
          "Time": 26
         },
         {
          "Donated": 1,
          "Frequency": 2,
          "Monetary": 500,
          "Recency": 2,
          "Time": 11
         },
         {
          "Donated": 1,
          "Frequency": 1,
          "Monetary": 250,
          "Recency": 14,
          "Time": 14
         },
         {
          "Donated": 1,
          "Frequency": 2,
          "Monetary": 500,
          "Recency": 11,
          "Time": 16
         },
         {
          "Donated": 1,
          "Frequency": 1,
          "Monetary": 250,
          "Recency": 16,
          "Time": 16
         },
         {
          "Donated": 1,
          "Frequency": 3,
          "Monetary": 750,
          "Recency": 21,
          "Time": 40
         },
         {
          "Donated": 1,
          "Frequency": 5,
          "Monetary": 1250,
          "Recency": 4,
          "Time": 58
         },
         {
          "Donated": 1,
          "Frequency": 1,
          "Monetary": 250,
          "Recency": 4,
          "Time": 4
         },
         {
          "Donated": 1,
          "Frequency": 16,
          "Monetary": 4000,
          "Recency": 15,
          "Time": 82
         },
         {
          "Donated": 1,
          "Frequency": 5,
          "Monetary": 1250,
          "Recency": 14,
          "Time": 14
         },
         {
          "Donated": 1,
          "Frequency": 4,
          "Monetary": 1000,
          "Recency": 16,
          "Time": 23
         },
         {
          "Donated": 1,
          "Frequency": 4,
          "Monetary": 1000,
          "Recency": 2,
          "Time": 70
         },
         {
          "Donated": 1,
          "Frequency": 12,
          "Monetary": 3000,
          "Recency": 23,
          "Time": 86
         },
         {
          "Donated": 1,
          "Frequency": 1,
          "Monetary": 250,
          "Recency": 14,
          "Time": 14
         },
         {
          "Donated": 1,
          "Frequency": 5,
          "Monetary": 1250,
          "Recency": 14,
          "Time": 26
         },
         {
          "Donated": 1,
          "Frequency": 5,
          "Monetary": 1250,
          "Recency": 16,
          "Time": 27
         },
         {
          "Donated": 2,
          "Frequency": 2,
          "Monetary": 500,
          "Recency": 2,
          "Time": 11
         },
         {
          "Donated": 1,
          "Frequency": 2,
          "Monetary": 500,
          "Recency": 4,
          "Time": 9
         },
         {
          "Donated": 1,
          "Frequency": 7,
          "Monetary": 1750,
          "Recency": 16,
          "Time": 39
         },
         {
          "Donated": 1,
          "Frequency": 17,
          "Monetary": 4250,
          "Recency": 6,
          "Time": 70
         },
         {
          "Donated": 1,
          "Frequency": 7,
          "Monetary": 1750,
          "Recency": 16,
          "Time": 93
         },
         {
          "Donated": 1,
          "Frequency": 12,
          "Monetary": 3000,
          "Recency": 2,
          "Time": 82
         },
         {
          "Donated": 1,
          "Frequency": 7,
          "Monetary": 1750,
          "Recency": 14,
          "Time": 26
         },
         {
          "Donated": 1,
          "Frequency": 1,
          "Monetary": 250,
          "Recency": 11,
          "Time": 11
         },
         {
          "Donated": 1,
          "Frequency": 13,
          "Monetary": 3250,
          "Recency": 21,
          "Time": 57
         },
         {
          "Donated": 1,
          "Frequency": 2,
          "Monetary": 500,
          "Recency": 2,
          "Time": 2
         },
         {
          "Donated": 2,
          "Frequency": 17,
          "Monetary": 4250,
          "Recency": 11,
          "Time": 79
         },
         {
          "Donated": 1,
          "Frequency": 2,
          "Monetary": 500,
          "Recency": 14,
          "Time": 14
         },
         {
          "Donated": 1,
          "Frequency": 1,
          "Monetary": 250,
          "Recency": 74,
          "Time": 74
         },
         {
          "Donated": 1,
          "Frequency": 3,
          "Monetary": 750,
          "Recency": 2,
          "Time": 22
         },
         {
          "Donated": 1,
          "Frequency": 7,
          "Monetary": 1750,
          "Recency": 4,
          "Time": 58
         },
         {
          "Donated": 1,
          "Frequency": 1,
          "Monetary": 250,
          "Recency": 2,
          "Time": 2
         },
         {
          "Donated": 2,
          "Frequency": 1,
          "Monetary": 250,
          "Recency": 4,
          "Time": 4
         },
         {
          "Donated": 2,
          "Frequency": 5,
          "Monetary": 1250,
          "Recency": 3,
          "Time": 12
         },
         {
          "Donated": 1,
          "Frequency": 1,
          "Monetary": 250,
          "Recency": 2,
          "Time": 2
         },
         {
          "Donated": 1,
          "Frequency": 16,
          "Monetary": 4000,
          "Recency": 11,
          "Time": 89
         },
         {
          "Donated": 1,
          "Frequency": 5,
          "Monetary": 1250,
          "Recency": 15,
          "Time": 33
         },
         {
          "Donated": 1,
          "Frequency": 2,
          "Monetary": 500,
          "Recency": 14,
          "Time": 14
         },
         {
          "Donated": 1,
          "Frequency": 11,
          "Monetary": 2750,
          "Recency": 4,
          "Time": 95
         },
         {
          "Donated": 1,
          "Frequency": 2,
          "Monetary": 500,
          "Recency": 4,
          "Time": 30
         },
         {
          "Donated": 1,
          "Frequency": 2,
          "Monetary": 500,
          "Recency": 14,
          "Time": 14
         },
         {
          "Donated": 2,
          "Frequency": 10,
          "Monetary": 2500,
          "Recency": 4,
          "Time": 28
         },
         {
          "Donated": 1,
          "Frequency": 14,
          "Monetary": 3500,
          "Recency": 16,
          "Time": 83
         },
         {
          "Donated": 1,
          "Frequency": 9,
          "Monetary": 2250,
          "Recency": 11,
          "Time": 38
         },
         {
          "Donated": 1,
          "Frequency": 5,
          "Monetary": 1250,
          "Recency": 2,
          "Time": 34
         },
         {
          "Donated": 1,
          "Frequency": 10,
          "Monetary": 2500,
          "Recency": 11,
          "Time": 35
         },
         {
          "Donated": 1,
          "Frequency": 2,
          "Monetary": 500,
          "Recency": 21,
          "Time": 33
         },
         {
          "Donated": 1,
          "Frequency": 1,
          "Monetary": 250,
          "Recency": 14,
          "Time": 14
         },
         {
          "Donated": 1,
          "Frequency": 10,
          "Monetary": 2500,
          "Recency": 8,
          "Time": 63
         },
         {
          "Donated": 2,
          "Frequency": 5,
          "Monetary": 1250,
          "Recency": 4,
          "Time": 23
         },
         {
          "Donated": 1,
          "Frequency": 7,
          "Monetary": 1750,
          "Recency": 4,
          "Time": 28
         },
         {
          "Donated": 1,
          "Frequency": 1,
          "Monetary": 250,
          "Recency": 14,
          "Time": 14
         },
         {
          "Donated": 2,
          "Frequency": 3,
          "Monetary": 750,
          "Recency": 2,
          "Time": 4
         },
         {
          "Donated": 1,
          "Frequency": 5,
          "Monetary": 1250,
          "Recency": 4,
          "Time": 58
         },
         {
          "Donated": 2,
          "Frequency": 1,
          "Monetary": 250,
          "Recency": 4,
          "Time": 4
         },
         {
          "Donated": 2,
          "Frequency": 5,
          "Monetary": 1250,
          "Recency": 4,
          "Time": 11
         },
         {
          "Donated": 1,
          "Frequency": 3,
          "Monetary": 750,
          "Recency": 4,
          "Time": 34
         },
         {
          "Donated": 1,
          "Frequency": 1,
          "Monetary": 250,
          "Recency": 4,
          "Time": 4
         },
         {
          "Donated": 1,
          "Frequency": 5,
          "Monetary": 1250,
          "Recency": 11,
          "Time": 33
         },
         {
          "Donated": 2,
          "Frequency": 3,
          "Monetary": 750,
          "Recency": 11,
          "Time": 40
         },
         {
          "Donated": 1,
          "Frequency": 8,
          "Monetary": 2000,
          "Recency": 16,
          "Time": 28
         },
         {
          "Donated": 1,
          "Frequency": 8,
          "Monetary": 2000,
          "Recency": 13,
          "Time": 26
         },
         {
          "Donated": 1,
          "Frequency": 1,
          "Monetary": 250,
          "Recency": 21,
          "Time": 21
         },
         {
          "Donated": 1,
          "Frequency": 14,
          "Monetary": 3500,
          "Recency": 4,
          "Time": 86
         },
         {
          "Donated": 1,
          "Frequency": 1,
          "Monetary": 250,
          "Recency": 4,
          "Time": 4
         },
         {
          "Donated": 1,
          "Frequency": 10,
          "Monetary": 2500,
          "Recency": 16,
          "Time": 62
         },
         {
          "Donated": 2,
          "Frequency": 7,
          "Monetary": 1750,
          "Recency": 2,
          "Time": 35
         },
         {
          "Donated": 1,
          "Frequency": 1,
          "Monetary": 250,
          "Recency": 4,
          "Time": 4
         },
         {
          "Donated": 1,
          "Frequency": 7,
          "Monetary": 1750,
          "Recency": 4,
          "Time": 52
         },
         {
          "Donated": 2,
          "Frequency": 22,
          "Monetary": 5500,
          "Recency": 6,
          "Time": 28
         },
         {
          "Donated": 1,
          "Frequency": 7,
          "Monetary": 1750,
          "Recency": 21,
          "Time": 38
         },
         {
          "Donated": 1,
          "Frequency": 11,
          "Monetary": 2750,
          "Recency": 5,
          "Time": 75
         },
         {
          "Donated": 1,
          "Frequency": 6,
          "Monetary": 1500,
          "Recency": 4,
          "Time": 46
         },
         {
          "Donated": 1,
          "Frequency": 5,
          "Monetary": 1250,
          "Recency": 10,
          "Time": 38
         },
         {
          "Donated": 2,
          "Frequency": 16,
          "Monetary": 4000,
          "Recency": 4,
          "Time": 70
         },
         {
          "Donated": 2,
          "Frequency": 12,
          "Monetary": 3000,
          "Recency": 4,
          "Time": 34
         },
         {
          "Donated": 1,
          "Frequency": 1,
          "Monetary": 250,
          "Recency": 16,
          "Time": 16
         },
         {
          "Donated": 1,
          "Frequency": 1,
          "Monetary": 250,
          "Recency": 4,
          "Time": 4
         },
         {
          "Donated": 1,
          "Frequency": 2,
          "Monetary": 500,
          "Recency": 11,
          "Time": 11
         },
         {
          "Donated": 2,
          "Frequency": 5,
          "Monetary": 1250,
          "Recency": 4,
          "Time": 35
         },
         {
          "Donated": 1,
          "Frequency": 1,
          "Monetary": 250,
          "Recency": 2,
          "Time": 2
         },
         {
          "Donated": 1,
          "Frequency": 1,
          "Monetary": 250,
          "Recency": 16,
          "Time": 16
         },
         {
          "Donated": 1,
          "Frequency": 4,
          "Monetary": 1000,
          "Recency": 2,
          "Time": 16
         },
         {
          "Donated": 2,
          "Frequency": 2,
          "Monetary": 500,
          "Recency": 9,
          "Time": 16
         },
         {
          "Donated": 1,
          "Frequency": 1,
          "Monetary": 250,
          "Recency": 4,
          "Time": 4
         },
         {
          "Donated": 1,
          "Frequency": 1,
          "Monetary": 250,
          "Recency": 2,
          "Time": 2
         },
         {
          "Donated": 1,
          "Frequency": 1,
          "Monetary": 250,
          "Recency": 21,
          "Time": 21
         },
         {
          "Donated": 1,
          "Frequency": 11,
          "Monetary": 2750,
          "Recency": 4,
          "Time": 28
         },
         {
          "Donated": 1,
          "Frequency": 1,
          "Monetary": 250,
          "Recency": 21,
          "Time": 21
         },
         {
          "Donated": 1,
          "Frequency": 6,
          "Monetary": 1500,
          "Recency": 4,
          "Time": 35
         },
         {
          "Donated": 1,
          "Frequency": 5,
          "Monetary": 1250,
          "Recency": 14,
          "Time": 64
         },
         {
          "Donated": 1,
          "Frequency": 1,
          "Monetary": 250,
          "Recency": 21,
          "Time": 21
         },
         {
          "Donated": 1,
          "Frequency": 2,
          "Monetary": 500,
          "Recency": 11,
          "Time": 26
         },
         {
          "Donated": 2,
          "Frequency": 3,
          "Monetary": 750,
          "Recency": 16,
          "Time": 21
         },
         {
          "Donated": 1,
          "Frequency": 9,
          "Monetary": 2250,
          "Recency": 4,
          "Time": 28
         },
         {
          "Donated": 1,
          "Frequency": 1,
          "Monetary": 250,
          "Recency": 4,
          "Time": 4
         },
         {
          "Donated": 1,
          "Frequency": 8,
          "Monetary": 2000,
          "Recency": 10,
          "Time": 39
         },
         {
          "Donated": 1,
          "Frequency": 1,
          "Monetary": 250,
          "Recency": 4,
          "Time": 4
         },
         {
          "Donated": 1,
          "Frequency": 2,
          "Monetary": 500,
          "Recency": 2,
          "Time": 14
         },
         {
          "Donated": 2,
          "Frequency": 5,
          "Monetary": 1250,
          "Recency": 14,
          "Time": 28
         },
         {
          "Donated": 2,
          "Frequency": 1,
          "Monetary": 250,
          "Recency": 4,
          "Time": 4
         },
         {
          "Donated": 1,
          "Frequency": 1,
          "Monetary": 250,
          "Recency": 2,
          "Time": 2
         },
         {
          "Donated": 2,
          "Frequency": 13,
          "Monetary": 3250,
          "Recency": 4,
          "Time": 39
         },
         {
          "Donated": 1,
          "Frequency": 15,
          "Monetary": 3750,
          "Recency": 23,
          "Time": 57
         },
         {
          "Donated": 1,
          "Frequency": 1,
          "Monetary": 250,
          "Recency": 11,
          "Time": 11
         },
         {
          "Donated": 1,
          "Frequency": 8,
          "Monetary": 2000,
          "Recency": 23,
          "Time": 69
         },
         {
          "Donated": 1,
          "Frequency": 2,
          "Monetary": 500,
          "Recency": 23,
          "Time": 26
         },
         {
          "Donated": 1,
          "Frequency": 8,
          "Monetary": 2000,
          "Recency": 23,
          "Time": 64
         },
         {
          "Donated": 1,
          "Frequency": 3,
          "Monetary": 750,
          "Recency": 4,
          "Time": 28
         },
         {
          "Donated": 1,
          "Frequency": 1,
          "Monetary": 250,
          "Recency": 16,
          "Time": 16
         },
         {
          "Donated": 1,
          "Frequency": 6,
          "Monetary": 1500,
          "Recency": 2,
          "Time": 22
         },
         {
          "Donated": 1,
          "Frequency": 2,
          "Monetary": 500,
          "Recency": 23,
          "Time": 28
         },
         {
          "Donated": 1,
          "Frequency": 5,
          "Monetary": 1250,
          "Recency": 16,
          "Time": 71
         },
         {
          "Donated": 1,
          "Frequency": 11,
          "Monetary": 2750,
          "Recency": 12,
          "Time": 23
         },
         {
          "Donated": 1,
          "Frequency": 19,
          "Monetary": 4750,
          "Recency": 23,
          "Time": 62
         },
         {
          "Donated": 1,
          "Frequency": 5,
          "Monetary": 1250,
          "Recency": 16,
          "Time": 60
         },
         {
          "Donated": 2,
          "Frequency": 11,
          "Monetary": 2750,
          "Recency": 2,
          "Time": 40
         },
         {
          "Donated": 1,
          "Frequency": 5,
          "Monetary": 1250,
          "Recency": 2,
          "Time": 26
         },
         {
          "Donated": 1,
          "Frequency": 3,
          "Monetary": 750,
          "Recency": 21,
          "Time": 38
         },
         {
          "Donated": 1,
          "Frequency": 1,
          "Monetary": 250,
          "Recency": 23,
          "Time": 23
         },
         {
          "Donated": 1,
          "Frequency": 2,
          "Monetary": 500,
          "Recency": 11,
          "Time": 21
         },
         {
          "Donated": 1,
          "Frequency": 15,
          "Monetary": 3750,
          "Recency": 16,
          "Time": 87
         },
         {
          "Donated": 1,
          "Frequency": 3,
          "Monetary": 750,
          "Recency": 23,
          "Time": 39
         },
         {
          "Donated": 2,
          "Frequency": 7,
          "Monetary": 1750,
          "Recency": 17,
          "Time": 58
         },
         {
          "Donated": 1,
          "Frequency": 22,
          "Monetary": 5500,
          "Recency": 11,
          "Time": 98
         },
         {
          "Donated": 2,
          "Frequency": 7,
          "Monetary": 1750,
          "Recency": 11,
          "Time": 62
         },
         {
          "Donated": 1,
          "Frequency": 6,
          "Monetary": 1500,
          "Recency": 2,
          "Time": 26
         },
         {
          "Donated": 1,
          "Frequency": 6,
          "Monetary": 1500,
          "Recency": 16,
          "Time": 40
         },
         {
          "Donated": 2,
          "Frequency": 7,
          "Monetary": 1750,
          "Recency": 2,
          "Time": 14
         },
         {
          "Donated": 1,
          "Frequency": 3,
          "Monetary": 750,
          "Recency": 16,
          "Time": 34
         },
         {
          "Donated": 1,
          "Frequency": 2,
          "Monetary": 500,
          "Recency": 23,
          "Time": 28
         },
         {
          "Donated": 1,
          "Frequency": 3,
          "Monetary": 750,
          "Recency": 16,
          "Time": 50
         },
         {
          "Donated": 2,
          "Frequency": 1,
          "Monetary": 250,
          "Recency": 22,
          "Time": 22
         },
         {
          "Donated": 1,
          "Frequency": 1,
          "Monetary": 250,
          "Recency": 23,
          "Time": 23
         },
         {
          "Donated": 1,
          "Frequency": 6,
          "Monetary": 1500,
          "Recency": 21,
          "Time": 48
         },
         {
          "Donated": 2,
          "Frequency": 8,
          "Monetary": 2000,
          "Recency": 2,
          "Time": 35
         },
         {
          "Donated": 1,
          "Frequency": 1,
          "Monetary": 250,
          "Recency": 21,
          "Time": 21
         },
         {
          "Donated": 1,
          "Frequency": 3,
          "Monetary": 750,
          "Recency": 21,
          "Time": 35
         },
         {
          "Donated": 1,
          "Frequency": 10,
          "Monetary": 2500,
          "Recency": 2,
          "Time": 49
         },
         {
          "Donated": 1,
          "Frequency": 2,
          "Monetary": 500,
          "Recency": 9,
          "Time": 52
         },
         {
          "Donated": 2,
          "Frequency": 6,
          "Monetary": 1500,
          "Recency": 4,
          "Time": 16
         },
         {
          "Donated": 2,
          "Frequency": 1,
          "Monetary": 250,
          "Recency": 2,
          "Time": 2
         },
         {
          "Donated": 2,
          "Frequency": 8,
          "Monetary": 2000,
          "Recency": 4,
          "Time": 48
         },
         {
          "Donated": 1,
          "Frequency": 1,
          "Monetary": 250,
          "Recency": 23,
          "Time": 23
         },
         {
          "Donated": 2,
          "Frequency": 10,
          "Monetary": 2500,
          "Recency": 1,
          "Time": 43
         },
         {
          "Donated": 2,
          "Frequency": 1,
          "Monetary": 250,
          "Recency": 2,
          "Time": 2
         },
         {
          "Donated": 1,
          "Frequency": 11,
          "Monetary": 2750,
          "Recency": 2,
          "Time": 28
         },
         {
          "Donated": 1,
          "Frequency": 12,
          "Monetary": 3000,
          "Recency": 1,
          "Time": 35
         },
         {
          "Donated": 1,
          "Frequency": 1,
          "Monetary": 250,
          "Recency": 11,
          "Time": 11
         },
         {
          "Donated": 2,
          "Frequency": 14,
          "Monetary": 3500,
          "Recency": 2,
          "Time": 57
         },
         {
          "Donated": 1,
          "Frequency": 5,
          "Monetary": 1250,
          "Recency": 11,
          "Time": 18
         },
         {
          "Donated": 1,
          "Frequency": 2,
          "Monetary": 500,
          "Recency": 18,
          "Time": 23
         },
         {
          "Donated": 2,
          "Frequency": 2,
          "Monetary": 500,
          "Recency": 4,
          "Time": 4
         },
         {
          "Donated": 2,
          "Frequency": 10,
          "Monetary": 2500,
          "Recency": 2,
          "Time": 28
         },
         {
          "Donated": 1,
          "Frequency": 1,
          "Monetary": 250,
          "Recency": 14,
          "Time": 14
         },
         {
          "Donated": 1,
          "Frequency": 8,
          "Monetary": 2000,
          "Recency": 18,
          "Time": 95
         },
         {
          "Donated": 1,
          "Frequency": 2,
          "Monetary": 500,
          "Recency": 4,
          "Time": 23
         },
         {
          "Donated": 2,
          "Frequency": 2,
          "Monetary": 500,
          "Recency": 4,
          "Time": 9
         },
         {
          "Donated": 1,
          "Frequency": 1,
          "Monetary": 250,
          "Recency": 2,
          "Time": 2
         },
         {
          "Donated": 1,
          "Frequency": 1,
          "Monetary": 250,
          "Recency": 23,
          "Time": 23
         },
         {
          "Donated": 1,
          "Frequency": 4,
          "Monetary": 1000,
          "Recency": 16,
          "Time": 45
         },
         {
          "Donated": 1,
          "Frequency": 1,
          "Monetary": 250,
          "Recency": 23,
          "Time": 23
         },
         {
          "Donated": 1,
          "Frequency": 6,
          "Monetary": 1500,
          "Recency": 5,
          "Time": 28
         },
         {
          "Donated": 1,
          "Frequency": 11,
          "Monetary": 2750,
          "Recency": 4,
          "Time": 61
         },
         {
          "Donated": 2,
          "Frequency": 9,
          "Monetary": 2250,
          "Recency": 4,
          "Time": 38
         },
         {
          "Donated": 1,
          "Frequency": 14,
          "Monetary": 3500,
          "Recency": 4,
          "Time": 40
         },
         {
          "Donated": 1,
          "Frequency": 1,
          "Monetary": 250,
          "Recency": 4,
          "Time": 4
         },
         {
          "Donated": 2,
          "Frequency": 1,
          "Monetary": 250,
          "Recency": 2,
          "Time": 2
         },
         {
          "Donated": 1,
          "Frequency": 4,
          "Monetary": 1000,
          "Recency": 2,
          "Time": 16
         },
         {
          "Donated": 1,
          "Frequency": 2,
          "Monetary": 500,
          "Recency": 11,
          "Time": 24
         },
         {
          "Donated": 1,
          "Frequency": 6,
          "Monetary": 1500,
          "Recency": 4,
          "Time": 35
         },
         {
          "Donated": 2,
          "Frequency": 13,
          "Monetary": 3250,
          "Recency": 0,
          "Time": 28
         },
         {
          "Donated": 1,
          "Frequency": 7,
          "Monetary": 1750,
          "Recency": 2,
          "Time": 77
         },
         {
          "Donated": 2,
          "Frequency": 3,
          "Monetary": 750,
          "Recency": 2,
          "Time": 4
         },
         {
          "Donated": 1,
          "Frequency": 8,
          "Monetary": 2000,
          "Recency": 4,
          "Time": 21
         },
         {
          "Donated": 1,
          "Frequency": 2,
          "Monetary": 500,
          "Recency": 16,
          "Time": 16
         },
         {
          "Donated": 1,
          "Frequency": 4,
          "Monetary": 1000,
          "Recency": 14,
          "Time": 40
         },
         {
          "Donated": 1,
          "Frequency": 24,
          "Monetary": 6000,
          "Recency": 5,
          "Time": 79
         },
         {
          "Donated": 1,
          "Frequency": 1,
          "Monetary": 250,
          "Recency": 11,
          "Time": 11
         },
         {
          "Donated": 1,
          "Frequency": 3,
          "Monetary": 750,
          "Recency": 21,
          "Time": 35
         },
         {
          "Donated": 1,
          "Frequency": 4,
          "Monetary": 1000,
          "Recency": 2,
          "Time": 16
         },
         {
          "Donated": 1,
          "Frequency": 1,
          "Monetary": 250,
          "Recency": 11,
          "Time": 11
         },
         {
          "Donated": 1,
          "Frequency": 4,
          "Monetary": 1000,
          "Recency": 2,
          "Time": 16
         },
         {
          "Donated": 2,
          "Frequency": 5,
          "Monetary": 1250,
          "Recency": 16,
          "Time": 40
         },
         {
          "Donated": 1,
          "Frequency": 12,
          "Monetary": 3000,
          "Recency": 16,
          "Time": 50
         },
         {
          "Donated": 1,
          "Frequency": 1,
          "Monetary": 250,
          "Recency": 14,
          "Time": 14
         },
         {
          "Donated": 1,
          "Frequency": 3,
          "Monetary": 750,
          "Recency": 35,
          "Time": 64
         },
         {
          "Donated": 1,
          "Frequency": 7,
          "Monetary": 1750,
          "Recency": 14,
          "Time": 47
         },
         {
          "Donated": 1,
          "Frequency": 1,
          "Monetary": 250,
          "Recency": 11,
          "Time": 11
         },
         {
          "Donated": 1,
          "Frequency": 12,
          "Monetary": 3000,
          "Recency": 2,
          "Time": 52
         },
         {
          "Donated": 1,
          "Frequency": 18,
          "Monetary": 4500,
          "Recency": 14,
          "Time": 78
         },
         {
          "Donated": 1,
          "Frequency": 1,
          "Monetary": 250,
          "Recency": 2,
          "Time": 2
         },
         {
          "Donated": 1,
          "Frequency": 4,
          "Monetary": 1000,
          "Recency": 4,
          "Time": 16
         },
         {
          "Donated": 1,
          "Frequency": 2,
          "Monetary": 500,
          "Recency": 21,
          "Time": 25
         },
         {
          "Donated": 1,
          "Frequency": 2,
          "Monetary": 500,
          "Recency": 21,
          "Time": 41
         },
         {
          "Donated": 1,
          "Frequency": 11,
          "Monetary": 2750,
          "Recency": 12,
          "Time": 39
         },
         {
          "Donated": 1,
          "Frequency": 7,
          "Monetary": 1750,
          "Recency": 11,
          "Time": 75
         },
         {
          "Donated": 1,
          "Frequency": 8,
          "Monetary": 2000,
          "Recency": 11,
          "Time": 72
         },
         {
          "Donated": 1,
          "Frequency": 3,
          "Monetary": 750,
          "Recency": 6,
          "Time": 26
         },
         {
          "Donated": 1,
          "Frequency": 3,
          "Monetary": 750,
          "Recency": 11,
          "Time": 37
         },
         {
          "Donated": 1,
          "Frequency": 1,
          "Monetary": 250,
          "Recency": 11,
          "Time": 11
         },
         {
          "Donated": 1,
          "Frequency": 5,
          "Monetary": 1250,
          "Recency": 2,
          "Time": 26
         },
         {
          "Donated": 1,
          "Frequency": 4,
          "Monetary": 1000,
          "Recency": 23,
          "Time": 45
         },
         {
          "Donated": 1,
          "Frequency": 3,
          "Monetary": 750,
          "Recency": 16,
          "Time": 35
         },
         {
          "Donated": 1,
          "Frequency": 2,
          "Monetary": 500,
          "Recency": 2,
          "Time": 22
         },
         {
          "Donated": 1,
          "Frequency": 2,
          "Monetary": 500,
          "Recency": 21,
          "Time": 23
         },
         {
          "Donated": 1,
          "Frequency": 2,
          "Monetary": 500,
          "Recency": 2,
          "Time": 11
         },
         {
          "Donated": 1,
          "Frequency": 1,
          "Monetary": 250,
          "Recency": 4,
          "Time": 4
         },
         {
          "Donated": 1,
          "Frequency": 2,
          "Monetary": 500,
          "Recency": 23,
          "Time": 87
         },
         {
          "Donated": 1,
          "Frequency": 1,
          "Monetary": 250,
          "Recency": 21,
          "Time": 21
         },
         {
          "Donated": 1,
          "Frequency": 3,
          "Monetary": 750,
          "Recency": 4,
          "Time": 16
         },
         {
          "Donated": 2,
          "Frequency": 8,
          "Monetary": 2000,
          "Recency": 4,
          "Time": 46
         },
         {
          "Donated": 1,
          "Frequency": 11,
          "Monetary": 2750,
          "Recency": 4,
          "Time": 78
         },
         {
          "Donated": 1,
          "Frequency": 4,
          "Monetary": 1000,
          "Recency": 2,
          "Time": 43
         },
         {
          "Donated": 1,
          "Frequency": 3,
          "Monetary": 750,
          "Recency": 14,
          "Time": 21
         },
         {
          "Donated": 1,
          "Frequency": 12,
          "Monetary": 3000,
          "Recency": 7,
          "Time": 86
         },
         {
          "Donated": 1,
          "Frequency": 3,
          "Monetary": 750,
          "Recency": 2,
          "Time": 14
         },
         {
          "Donated": 1,
          "Frequency": 1,
          "Monetary": 250,
          "Recency": 14,
          "Time": 14
         },
         {
          "Donated": 1,
          "Frequency": 7,
          "Monetary": 1750,
          "Recency": 11,
          "Time": 64
         },
         {
          "Donated": 1,
          "Frequency": 6,
          "Monetary": 1500,
          "Recency": 25,
          "Time": 50
         },
         {
          "Donated": 2,
          "Frequency": 20,
          "Monetary": 5000,
          "Recency": 4,
          "Time": 69
         },
         {
          "Donated": 1,
          "Frequency": 3,
          "Monetary": 750,
          "Recency": 14,
          "Time": 41
         },
         {
          "Donated": 1,
          "Frequency": 1,
          "Monetary": 250,
          "Recency": 2,
          "Time": 2
         },
         {
          "Donated": 2,
          "Frequency": 21,
          "Monetary": 5250,
          "Recency": 3,
          "Time": 42
         },
         {
          "Donated": 1,
          "Frequency": 7,
          "Monetary": 1750,
          "Recency": 16,
          "Time": 38
         },
         {
          "Donated": 1,
          "Frequency": 3,
          "Monetary": 750,
          "Recency": 16,
          "Time": 21
         },
         {
          "Donated": 1,
          "Frequency": 1,
          "Monetary": 250,
          "Recency": 2,
          "Time": 2
         },
         {
          "Donated": 1,
          "Frequency": 12,
          "Monetary": 3000,
          "Recency": 2,
          "Time": 98
         },
         {
          "Donated": 1,
          "Frequency": 2,
          "Monetary": 500,
          "Recency": 21,
          "Time": 23
         },
         {
          "Donated": 1,
          "Frequency": 1,
          "Monetary": 250,
          "Recency": 4,
          "Time": 4
         },
         {
          "Donated": 2,
          "Frequency": 1,
          "Monetary": 250,
          "Recency": 4,
          "Time": 4
         },
         {
          "Donated": 1,
          "Frequency": 1,
          "Monetary": 250,
          "Recency": 21,
          "Time": 21
         },
         {
          "Donated": 2,
          "Frequency": 10,
          "Monetary": 2500,
          "Recency": 4,
          "Time": 28
         },
         {
          "Donated": 1,
          "Frequency": 2,
          "Monetary": 500,
          "Recency": 2,
          "Time": 33
         },
         {
          "Donated": 1,
          "Frequency": 2,
          "Monetary": 500,
          "Recency": 4,
          "Time": 41
         },
         {
          "Donated": 2,
          "Frequency": 2,
          "Monetary": 500,
          "Recency": 2,
          "Time": 11
         },
         {
          "Donated": 1,
          "Frequency": 5,
          "Monetary": 1250,
          "Recency": 2,
          "Time": 37
         },
         {
          "Donated": 1,
          "Frequency": 4,
          "Monetary": 1000,
          "Recency": 2,
          "Time": 23
         },
         {
          "Donated": 1,
          "Frequency": 3,
          "Monetary": 750,
          "Recency": 13,
          "Time": 16
         },
         {
          "Donated": 1,
          "Frequency": 9,
          "Monetary": 2250,
          "Recency": 4,
          "Time": 52
         },
         {
          "Donated": 1,
          "Frequency": 1,
          "Monetary": 250,
          "Recency": 16,
          "Time": 16
         },
         {
          "Donated": 1,
          "Frequency": 3,
          "Monetary": 750,
          "Recency": 11,
          "Time": 23
         },
         {
          "Donated": 1,
          "Frequency": 3,
          "Monetary": 750,
          "Recency": 14,
          "Time": 26
         },
         {
          "Donated": 1,
          "Frequency": 5,
          "Monetary": 1250,
          "Recency": 11,
          "Time": 35
         },
         {
          "Donated": 1,
          "Frequency": 1,
          "Monetary": 250,
          "Recency": 16,
          "Time": 16
         },
         {
          "Donated": 1,
          "Frequency": 23,
          "Monetary": 5750,
          "Recency": 4,
          "Time": 58
         },
         {
          "Donated": 1,
          "Frequency": 2,
          "Monetary": 500,
          "Recency": 21,
          "Time": 26
         },
         {
          "Donated": 2,
          "Frequency": 6,
          "Monetary": 1500,
          "Recency": 2,
          "Time": 28
         },
         {
          "Donated": 1,
          "Frequency": 6,
          "Monetary": 1500,
          "Recency": 2,
          "Time": 75
         },
         {
          "Donated": 1,
          "Frequency": 7,
          "Monetary": 1750,
          "Recency": 2,
          "Time": 76
         },
         {
          "Donated": 1,
          "Frequency": 4,
          "Monetary": 1000,
          "Recency": 11,
          "Time": 61
         },
         {
          "Donated": 1,
          "Frequency": 9,
          "Monetary": 2250,
          "Recency": 1,
          "Time": 51
         },
         {
          "Donated": 1,
          "Frequency": 2,
          "Monetary": 500,
          "Recency": 2,
          "Time": 14
         },
         {
          "Donated": 1,
          "Frequency": 9,
          "Monetary": 2250,
          "Recency": 2,
          "Time": 75
         },
         {
          "Donated": 1,
          "Frequency": 5,
          "Monetary": 1250,
          "Recency": 4,
          "Time": 23
         },
         {
          "Donated": 1,
          "Frequency": 2,
          "Monetary": 500,
          "Recency": 14,
          "Time": 16
         },
         {
          "Donated": 1,
          "Frequency": 9,
          "Monetary": 2250,
          "Recency": 12,
          "Time": 60
         },
         {
          "Donated": 2,
          "Frequency": 7,
          "Monetary": 1750,
          "Recency": 16,
          "Time": 87
         },
         {
          "Donated": 2,
          "Frequency": 34,
          "Monetary": 8500,
          "Recency": 2,
          "Time": 77
         },
         {
          "Donated": 1,
          "Frequency": 38,
          "Monetary": 9500,
          "Recency": 23,
          "Time": 98
         },
         {
          "Donated": 1,
          "Frequency": 7,
          "Monetary": 1750,
          "Recency": 14,
          "Time": 45
         },
         {
          "Donated": 1,
          "Frequency": 11,
          "Monetary": 2750,
          "Recency": 2,
          "Time": 23
         },
         {
          "Donated": 1,
          "Frequency": 3,
          "Monetary": 750,
          "Recency": 11,
          "Time": 76
         },
         {
          "Donated": 2,
          "Frequency": 4,
          "Monetary": 1000,
          "Recency": 14,
          "Time": 22
         },
         {
          "Donated": 1,
          "Frequency": 1,
          "Monetary": 250,
          "Recency": 16,
          "Time": 16
         },
         {
          "Donated": 1,
          "Frequency": 4,
          "Monetary": 1000,
          "Recency": 4,
          "Time": 26
         },
         {
          "Donated": 1,
          "Frequency": 2,
          "Monetary": 500,
          "Recency": 11,
          "Time": 52
         },
         {
          "Donated": 1,
          "Frequency": 1,
          "Monetary": 250,
          "Recency": 2,
          "Time": 2
         },
         {
          "Donated": 1,
          "Frequency": 1,
          "Monetary": 250,
          "Recency": 21,
          "Time": 21
         },
         {
          "Donated": 1,
          "Frequency": 2,
          "Monetary": 500,
          "Recency": 4,
          "Time": 4
         },
         {
          "Donated": 1,
          "Frequency": 1,
          "Monetary": 250,
          "Recency": 16,
          "Time": 16
         },
         {
          "Donated": 2,
          "Frequency": 2,
          "Monetary": 500,
          "Recency": 2,
          "Time": 11
         },
         {
          "Donated": 1,
          "Frequency": 3,
          "Monetary": 750,
          "Recency": 14,
          "Time": 79
         },
         {
          "Donated": 1,
          "Frequency": 44,
          "Monetary": 11000,
          "Recency": 2,
          "Time": 98
         },
         {
          "Donated": 2,
          "Frequency": 5,
          "Monetary": 1250,
          "Recency": 26,
          "Time": 49
         },
         {
          "Donated": 1,
          "Frequency": 3,
          "Monetary": 750,
          "Recency": 16,
          "Time": 23
         },
         {
          "Donated": 1,
          "Frequency": 6,
          "Monetary": 1500,
          "Recency": 4,
          "Time": 30
         },
         {
          "Donated": 1,
          "Frequency": 5,
          "Monetary": 1250,
          "Recency": 4,
          "Time": 28
         },
         {
          "Donated": 1,
          "Frequency": 3,
          "Monetary": 750,
          "Recency": 14,
          "Time": 28
         },
         {
          "Donated": 2,
          "Frequency": 16,
          "Monetary": 4000,
          "Recency": 4,
          "Time": 98
         },
         {
          "Donated": 1,
          "Frequency": 6,
          "Monetary": 1500,
          "Recency": 4,
          "Time": 47
         },
         {
          "Donated": 2,
          "Frequency": 1,
          "Monetary": 250,
          "Recency": 4,
          "Time": 4
         },
         {
          "Donated": 1,
          "Frequency": 9,
          "Monetary": 2250,
          "Recency": 9,
          "Time": 54
         },
         {
          "Donated": 1,
          "Frequency": 7,
          "Monetary": 1750,
          "Recency": 23,
          "Time": 88
         },
         {
          "Donated": 1,
          "Frequency": 1,
          "Monetary": 250,
          "Recency": 11,
          "Time": 11
         },
         {
          "Donated": 1,
          "Frequency": 1,
          "Monetary": 250,
          "Recency": 23,
          "Time": 23
         },
         {
          "Donated": 2,
          "Frequency": 6,
          "Monetary": 1500,
          "Recency": 4,
          "Time": 38
         },
         {
          "Donated": 1,
          "Frequency": 3,
          "Monetary": 750,
          "Recency": 23,
          "Time": 40
         },
         {
          "Donated": 1,
          "Frequency": 3,
          "Monetary": 750,
          "Recency": 16,
          "Time": 46
         },
         {
          "Donated": 1,
          "Frequency": 1,
          "Monetary": 250,
          "Recency": 4,
          "Time": 4
         },
         {
          "Donated": 1,
          "Frequency": 7,
          "Monetary": 1750,
          "Recency": 11,
          "Time": 37
         },
         {
          "Donated": 1,
          "Frequency": 3,
          "Monetary": 750,
          "Recency": 23,
          "Time": 28
         },
         {
          "Donated": 1,
          "Frequency": 6,
          "Monetary": 1500,
          "Recency": 23,
          "Time": 45
         },
         {
          "Donated": 1,
          "Frequency": 1,
          "Monetary": 250,
          "Recency": 38,
          "Time": 38
         },
         {
          "Donated": 1,
          "Frequency": 2,
          "Monetary": 500,
          "Recency": 16,
          "Time": 70
         },
         {
          "Donated": 1,
          "Frequency": 1,
          "Monetary": 250,
          "Recency": 21,
          "Time": 21
         },
         {
          "Donated": 2,
          "Frequency": 4,
          "Monetary": 1000,
          "Recency": 2,
          "Time": 16
         },
         {
          "Donated": 2,
          "Frequency": 6,
          "Monetary": 1500,
          "Recency": 4,
          "Time": 28
         },
         {
          "Donated": 1,
          "Frequency": 4,
          "Monetary": 1000,
          "Recency": 14,
          "Time": 26
         },
         {
          "Donated": 1,
          "Frequency": 3,
          "Monetary": 750,
          "Recency": 11,
          "Time": 26
         },
         {
          "Donated": 1,
          "Frequency": 16,
          "Monetary": 4000,
          "Recency": 3,
          "Time": 74
         },
         {
          "Donated": 1,
          "Frequency": 7,
          "Monetary": 1750,
          "Recency": 13,
          "Time": 76
         },
         {
          "Donated": 1,
          "Frequency": 2,
          "Monetary": 500,
          "Recency": 2,
          "Time": 16
         },
         {
          "Donated": 2,
          "Frequency": 9,
          "Monetary": 2250,
          "Recency": 2,
          "Time": 22
         },
         {
          "Donated": 1,
          "Frequency": 2,
          "Monetary": 500,
          "Recency": 2,
          "Time": 4
         },
         {
          "Donated": 2,
          "Frequency": 2,
          "Monetary": 500,
          "Recency": 14,
          "Time": 14
         },
         {
          "Donated": 1,
          "Frequency": 16,
          "Monetary": 4000,
          "Recency": 2,
          "Time": 81
         },
         {
          "Donated": 1,
          "Frequency": 3,
          "Monetary": 750,
          "Recency": 23,
          "Time": 41
         },
         {
          "Donated": 1,
          "Frequency": 4,
          "Monetary": 1000,
          "Recency": 14,
          "Time": 57
         },
         {
          "Donated": 1,
          "Frequency": 1,
          "Monetary": 250,
          "Recency": 14,
          "Time": 14
         },
         {
          "Donated": 1,
          "Frequency": 1,
          "Monetary": 250,
          "Recency": 23,
          "Time": 23
         },
         {
          "Donated": 1,
          "Frequency": 1,
          "Monetary": 250,
          "Recency": 38,
          "Time": 38
         },
         {
          "Donated": 1,
          "Frequency": 3,
          "Monetary": 750,
          "Recency": 21,
          "Time": 35
         },
         {
          "Donated": 1,
          "Frequency": 5,
          "Monetary": 1250,
          "Recency": 11,
          "Time": 41
         },
         {
          "Donated": 1,
          "Frequency": 6,
          "Monetary": 1500,
          "Recency": 11,
          "Time": 71
         },
         {
          "Donated": 1,
          "Frequency": 1,
          "Monetary": 250,
          "Recency": 16,
          "Time": 16
         },
         {
          "Donated": 1,
          "Frequency": 14,
          "Monetary": 3500,
          "Recency": 5,
          "Time": 86
         },
         {
          "Donated": 1,
          "Frequency": 2,
          "Monetary": 500,
          "Recency": 4,
          "Time": 4
         },
         {
          "Donated": 2,
          "Frequency": 8,
          "Monetary": 2000,
          "Recency": 14,
          "Time": 50
         },
         {
          "Donated": 2,
          "Frequency": 5,
          "Monetary": 1250,
          "Recency": 9,
          "Time": 51
         },
         {
          "Donated": 1,
          "Frequency": 7,
          "Monetary": 1750,
          "Recency": 2,
          "Time": 29
         },
         {
          "Donated": 1,
          "Frequency": 6,
          "Monetary": 1500,
          "Recency": 21,
          "Time": 86
         },
         {
          "Donated": 1,
          "Frequency": 7,
          "Monetary": 1750,
          "Recency": 14,
          "Time": 72
         },
         {
          "Donated": 1,
          "Frequency": 2,
          "Monetary": 500,
          "Recency": 16,
          "Time": 26
         },
         {
          "Donated": 1,
          "Frequency": 4,
          "Monetary": 1000,
          "Recency": 14,
          "Time": 64
         },
         {
          "Donated": 1,
          "Frequency": 2,
          "Monetary": 500,
          "Recency": 14,
          "Time": 14
         },
         {
          "Donated": 1,
          "Frequency": 1,
          "Monetary": 250,
          "Recency": 21,
          "Time": 21
         },
         {
          "Donated": 1,
          "Frequency": 5,
          "Monetary": 1250,
          "Recency": 14,
          "Time": 28
         },
         {
          "Donated": 1,
          "Frequency": 2,
          "Monetary": 500,
          "Recency": 4,
          "Time": 29
         },
         {
          "Donated": 1,
          "Frequency": 1,
          "Monetary": 250,
          "Recency": 14,
          "Time": 14
         },
         {
          "Donated": 1,
          "Frequency": 9,
          "Monetary": 2250,
          "Recency": 2,
          "Time": 36
         },
         {
          "Donated": 1,
          "Frequency": 2,
          "Monetary": 500,
          "Recency": 4,
          "Time": 4
         },
         {
          "Donated": 1,
          "Frequency": 10,
          "Monetary": 2500,
          "Recency": 2,
          "Time": 64
         },
         {
          "Donated": 1,
          "Frequency": 6,
          "Monetary": 1500,
          "Recency": 14,
          "Time": 51
         },
         {
          "Donated": 2,
          "Frequency": 14,
          "Monetary": 3500,
          "Recency": 2,
          "Time": 48
         },
         {
          "Donated": 1,
          "Frequency": 3,
          "Monetary": 750,
          "Recency": 23,
          "Time": 89
         },
         {
          "Donated": 1,
          "Frequency": 11,
          "Monetary": 2750,
          "Recency": 11,
          "Time": 42
         },
         {
          "Donated": 1,
          "Frequency": 2,
          "Monetary": 500,
          "Recency": 23,
          "Time": 23
         },
         {
          "Donated": 1,
          "Frequency": 5,
          "Monetary": 1250,
          "Recency": 2,
          "Time": 63
         },
         {
          "Donated": 1,
          "Frequency": 5,
          "Monetary": 1250,
          "Recency": 23,
          "Time": 33
         },
         {
          "Donated": 2,
          "Frequency": 2,
          "Monetary": 500,
          "Recency": 2,
          "Time": 4
         },
         {
          "Donated": 1,
          "Frequency": 14,
          "Monetary": 3500,
          "Recency": 23,
          "Time": 93
         },
         {
          "Donated": 1,
          "Frequency": 9,
          "Monetary": 2250,
          "Recency": 2,
          "Time": 74
         },
         {
          "Donated": 1,
          "Frequency": 7,
          "Monetary": 1750,
          "Recency": 11,
          "Time": 29
         },
         {
          "Donated": 1,
          "Frequency": 4,
          "Monetary": 1000,
          "Recency": 21,
          "Time": 52
         },
         {
          "Donated": 2,
          "Frequency": 6,
          "Monetary": 1500,
          "Recency": 2,
          "Time": 15
         },
         {
          "Donated": 1,
          "Frequency": 2,
          "Monetary": 500,
          "Recency": 4,
          "Time": 4
         },
         {
          "Donated": 2,
          "Frequency": 4,
          "Monetary": 1000,
          "Recency": 4,
          "Time": 43
         },
         {
          "Donated": 1,
          "Frequency": 2,
          "Monetary": 500,
          "Recency": 2,
          "Time": 23
         },
         {
          "Donated": 2,
          "Frequency": 1,
          "Monetary": 250,
          "Recency": 4,
          "Time": 4
         },
         {
          "Donated": 1,
          "Frequency": 12,
          "Monetary": 3000,
          "Recency": 12,
          "Time": 58
         },
         {
          "Donated": 2,
          "Frequency": 20,
          "Monetary": 5000,
          "Recency": 2,
          "Time": 45
         },
         {
          "Donated": 1,
          "Frequency": 4,
          "Monetary": 1000,
          "Recency": 16,
          "Time": 28
         },
         {
          "Donated": 1,
          "Frequency": 3,
          "Monetary": 750,
          "Recency": 21,
          "Time": 64
         },
         {
          "Donated": 1,
          "Frequency": 1,
          "Monetary": 250,
          "Recency": 4,
          "Time": 4
         },
         {
          "Donated": 1,
          "Frequency": 3,
          "Monetary": 750,
          "Recency": 14,
          "Time": 83
         },
         {
          "Donated": 1,
          "Frequency": 2,
          "Monetary": 500,
          "Recency": 16,
          "Time": 16
         },
         {
          "Donated": 1,
          "Frequency": 2,
          "Monetary": 500,
          "Recency": 2,
          "Time": 11
         },
         {
          "Donated": 1,
          "Frequency": 2,
          "Monetary": 500,
          "Recency": 0,
          "Time": 4
         },
         {
          "Donated": 1,
          "Frequency": 6,
          "Monetary": 1500,
          "Recency": 4,
          "Time": 14
         },
         {
          "Donated": 1,
          "Frequency": 6,
          "Monetary": 1500,
          "Recency": 11,
          "Time": 58
         },
         {
          "Donated": 2,
          "Frequency": 8,
          "Monetary": 2000,
          "Recency": 4,
          "Time": 26
         },
         {
          "Donated": 1,
          "Frequency": 6,
          "Monetary": 1500,
          "Recency": 14,
          "Time": 34
         },
         {
          "Donated": 2,
          "Frequency": 11,
          "Monetary": 2750,
          "Recency": 2,
          "Time": 46
         },
         {
          "Donated": 1,
          "Frequency": 14,
          "Monetary": 3500,
          "Recency": 3,
          "Time": 35
         },
         {
          "Donated": 1,
          "Frequency": 5,
          "Monetary": 1250,
          "Recency": 21,
          "Time": 60
         },
         {
          "Donated": 2,
          "Frequency": 5,
          "Monetary": 1250,
          "Recency": 4,
          "Time": 16
         },
         {
          "Donated": 2,
          "Frequency": 5,
          "Monetary": 1250,
          "Recency": 11,
          "Time": 37
         },
         {
          "Donated": 1,
          "Frequency": 2,
          "Monetary": 500,
          "Recency": 14,
          "Time": 35
         },
         {
          "Donated": 2,
          "Frequency": 6,
          "Monetary": 1500,
          "Recency": 2,
          "Time": 26
         },
         {
          "Donated": 1,
          "Frequency": 3,
          "Monetary": 750,
          "Recency": 14,
          "Time": 26
         },
         {
          "Donated": 1,
          "Frequency": 5,
          "Monetary": 1250,
          "Recency": 4,
          "Time": 34
         },
         {
          "Donated": 1,
          "Frequency": 4,
          "Monetary": 1000,
          "Recency": 4,
          "Time": 18
         },
         {
          "Donated": 2,
          "Frequency": 2,
          "Monetary": 500,
          "Recency": 2,
          "Time": 10
         },
         {
          "Donated": 1,
          "Frequency": 16,
          "Monetary": 4000,
          "Recency": 21,
          "Time": 64
         },
         {
          "Donated": 1,
          "Frequency": 2,
          "Monetary": 500,
          "Recency": 9,
          "Time": 11
         },
         {
          "Donated": 1,
          "Frequency": 3,
          "Monetary": 750,
          "Recency": 2,
          "Time": 35
         },
         {
          "Donated": 1,
          "Frequency": 4,
          "Monetary": 1000,
          "Recency": 11,
          "Time": 58
         },
         {
          "Donated": 1,
          "Frequency": 1,
          "Monetary": 250,
          "Recency": 2,
          "Time": 2
         },
         {
          "Donated": 1,
          "Frequency": 3,
          "Monetary": 750,
          "Recency": 14,
          "Time": 31
         },
         {
          "Donated": 1,
          "Frequency": 1,
          "Monetary": 250,
          "Recency": 39,
          "Time": 39
         },
         {
          "Donated": 1,
          "Frequency": 1,
          "Monetary": 250,
          "Recency": 2,
          "Time": 2
         },
         {
          "Donated": 2,
          "Frequency": 2,
          "Monetary": 500,
          "Recency": 11,
          "Time": 38
         },
         {
          "Donated": 1,
          "Frequency": 1,
          "Monetary": 250,
          "Recency": 2,
          "Time": 2
         },
         {
          "Donated": 1,
          "Frequency": 1,
          "Monetary": 250,
          "Recency": 16,
          "Time": 16
         },
         {
          "Donated": 1,
          "Frequency": 7,
          "Monetary": 1750,
          "Recency": 16,
          "Time": 28
         },
         {
          "Donated": 1,
          "Frequency": 1,
          "Monetary": 250,
          "Recency": 23,
          "Time": 23
         },
         {
          "Donated": 1,
          "Frequency": 3,
          "Monetary": 750,
          "Recency": 6,
          "Time": 14
         },
         {
          "Donated": 1,
          "Frequency": 4,
          "Monetary": 1000,
          "Recency": 16,
          "Time": 40
         },
         {
          "Donated": 1,
          "Frequency": 1,
          "Monetary": 250,
          "Recency": 16,
          "Time": 16
         },
         {
          "Donated": 2,
          "Frequency": 4,
          "Monetary": 1000,
          "Recency": 3,
          "Time": 29
         },
         {
          "Donated": 1,
          "Frequency": 4,
          "Monetary": 1000,
          "Recency": 23,
          "Time": 52
         },
         {
          "Donated": 2,
          "Frequency": 14,
          "Monetary": 3500,
          "Recency": 20,
          "Time": 69
         },
         {
          "Donated": 1,
          "Frequency": 1,
          "Monetary": 250,
          "Recency": 2,
          "Time": 2
         },
         {
          "Donated": 2,
          "Frequency": 4,
          "Monetary": 1000,
          "Recency": 14,
          "Time": 23
         },
         {
          "Donated": 1,
          "Frequency": 1,
          "Monetary": 250,
          "Recency": 16,
          "Time": 16
         },
         {
          "Donated": 1,
          "Frequency": 9,
          "Monetary": 2250,
          "Recency": 8,
          "Time": 64
         },
         {
          "Donated": 1,
          "Frequency": 1,
          "Monetary": 250,
          "Recency": 4,
          "Time": 4
         },
         {
          "Donated": 1,
          "Frequency": 2,
          "Monetary": 500,
          "Recency": 9,
          "Time": 26
         },
         {
          "Donated": 2,
          "Frequency": 4,
          "Monetary": 1000,
          "Recency": 4,
          "Time": 26
         },
         {
          "Donated": 1,
          "Frequency": 1,
          "Monetary": 250,
          "Recency": 14,
          "Time": 14
         },
         {
          "Donated": 2,
          "Frequency": 7,
          "Monetary": 1750,
          "Recency": 5,
          "Time": 26
         },
         {
          "Donated": 1,
          "Frequency": 3,
          "Monetary": 750,
          "Recency": 2,
          "Time": 19
         },
         {
          "Donated": 2,
          "Frequency": 4,
          "Monetary": 1000,
          "Recency": 11,
          "Time": 16
         },
         {
          "Donated": 2,
          "Frequency": 26,
          "Monetary": 6500,
          "Recency": 0,
          "Time": 76
         },
         {
          "Donated": 1,
          "Frequency": 8,
          "Monetary": 2000,
          "Recency": 3,
          "Time": 50
         },
         {
          "Donated": 2,
          "Frequency": 1,
          "Monetary": 250,
          "Recency": 3,
          "Time": 3
         },
         {
          "Donated": 1,
          "Frequency": 2,
          "Monetary": 500,
          "Recency": 21,
          "Time": 52
         },
         {
          "Donated": 2,
          "Frequency": 7,
          "Monetary": 1750,
          "Recency": 4,
          "Time": 22
         },
         {
          "Donated": 1,
          "Frequency": 4,
          "Monetary": 1000,
          "Recency": 14,
          "Time": 30
         },
         {
          "Donated": 2,
          "Frequency": 16,
          "Monetary": 4000,
          "Recency": 1,
          "Time": 35
         },
         {
          "Donated": 1,
          "Frequency": 3,
          "Monetary": 750,
          "Recency": 21,
          "Time": 38
         },
         {
          "Donated": 1,
          "Frequency": 7,
          "Monetary": 1750,
          "Recency": 4,
          "Time": 25
         },
         {
          "Donated": 1,
          "Frequency": 6,
          "Monetary": 1500,
          "Recency": 11,
          "Time": 27
         },
         {
          "Donated": 1,
          "Frequency": 1,
          "Monetary": 250,
          "Recency": 4,
          "Time": 4
         },
         {
          "Donated": 1,
          "Frequency": 2,
          "Monetary": 500,
          "Recency": 21,
          "Time": 23
         },
         {
          "Donated": 2,
          "Frequency": 3,
          "Monetary": 750,
          "Recency": 11,
          "Time": 16
         },
         {
          "Donated": 1,
          "Frequency": 3,
          "Monetary": 750,
          "Recency": 9,
          "Time": 34
         },
         {
          "Donated": 1,
          "Frequency": 1,
          "Monetary": 250,
          "Recency": 16,
          "Time": 16
         },
         {
          "Donated": 1,
          "Frequency": 9,
          "Monetary": 2250,
          "Recency": 4,
          "Time": 46
         },
         {
          "Donated": 2,
          "Frequency": 1,
          "Monetary": 250,
          "Recency": 4,
          "Time": 4
         },
         {
          "Donated": 1,
          "Frequency": 14,
          "Monetary": 3500,
          "Recency": 1,
          "Time": 95
         },
         {
          "Donated": 1,
          "Frequency": 2,
          "Monetary": 500,
          "Recency": 2,
          "Time": 4
         },
         {
          "Donated": 1,
          "Frequency": 2,
          "Monetary": 500,
          "Recency": 2,
          "Time": 2
         },
         {
          "Donated": 1,
          "Frequency": 4,
          "Monetary": 1000,
          "Recency": 11,
          "Time": 27
         },
         {
          "Donated": 2,
          "Frequency": 8,
          "Monetary": 2000,
          "Recency": 4,
          "Time": 40
         },
         {
          "Donated": 1,
          "Frequency": 17,
          "Monetary": 4250,
          "Recency": 3,
          "Time": 86
         },
         {
          "Donated": 1,
          "Frequency": 1,
          "Monetary": 250,
          "Recency": 4,
          "Time": 4
         },
         {
          "Donated": 1,
          "Frequency": 6,
          "Monetary": 1500,
          "Recency": 2,
          "Time": 45
         },
         {
          "Donated": 2,
          "Frequency": 5,
          "Monetary": 1250,
          "Recency": 2,
          "Time": 33
         },
         {
          "Donated": 1,
          "Frequency": 8,
          "Monetary": 2000,
          "Recency": 0,
          "Time": 59
         },
         {
          "Donated": 1,
          "Frequency": 5,
          "Monetary": 1250,
          "Recency": 3,
          "Time": 38
         },
         {
          "Donated": 2,
          "Frequency": 15,
          "Monetary": 3750,
          "Recency": 2,
          "Time": 49
         },
         {
          "Donated": 1,
          "Frequency": 3,
          "Monetary": 750,
          "Recency": 16,
          "Time": 86
         },
         {
          "Donated": 2,
          "Frequency": 4,
          "Monetary": 1000,
          "Recency": 4,
          "Time": 14
         },
         {
          "Donated": 1,
          "Frequency": 4,
          "Monetary": 1000,
          "Recency": 11,
          "Time": 34
         },
         {
          "Donated": 1,
          "Frequency": 1,
          "Monetary": 250,
          "Recency": 14,
          "Time": 14
         },
         {
          "Donated": 2,
          "Frequency": 2,
          "Monetary": 500,
          "Recency": 14,
          "Time": 21
         },
         {
          "Donated": 2,
          "Frequency": 4,
          "Monetary": 1000,
          "Recency": 4,
          "Time": 4
         }
        ]
       },
       "encoding": {
        "color": {
         "field": "Donated",
         "scale": {
          "scheme": "goldorange"
         },
         "type": "quantitative"
        },
        "x": {
         "field": "Frequency",
         "type": "quantitative"
        },
        "y": {
         "aggregate": "count",
         "stack": null,
         "type": "quantitative"
        }
       },
       "mark": {
        "opacity": 0.7,
        "type": "bar"
       },
       "title": "Donor Frequency Distribution"
      },
      "image/png": "[encoded data removed]",
      "text/plain": [
       "<VegaLite 3 object>\n",
       "\n",
       "If you see this message, it means the renderer has not been properly enabled\n",
       "for the frontend that you are using. For more information, see\n",
       "https://altair-viz.github.io/user_guide/troubleshooting.html\n"
      ]
     },
     "execution_count": 17,
     "metadata": {},
     "output_type": "execute_result"
    }
   ],
   "source": [
    "alt.Chart(blood_df_train).mark_bar(opacity = 0.7).encode(\n",
    "    alt.X(\"Frequency\"),\n",
    "    alt.Y('count()', stack=None),\n",
    "    color=alt.Color('Donated', scale=alt.Scale(scheme='goldorange'))\n",
    ").properties(title = \"Donor Frequency Distribution\")"
   ]
  },
  {
   "cell_type": "code",
   "execution_count": 18,
   "metadata": {},
   "outputs": [
    {
     "data": {
      "application/vnd.vegalite.v3+json": {
       "$schema": "https://vega.github.io/schema/vega-lite/v3.4.0.json",
       "config": {
        "mark": {
         "tooltip": null
        },
        "view": {
         "height": 300,
         "width": 400
        }
       },
       "data": {
        "name": "data-32548e9b1b08a896c9597c0c8174a7e1"
       },
       "datasets": {
        "data-32548e9b1b08a896c9597c0c8174a7e1": [
         {
          "Donated": 1,
          "Frequency": 9,
          "Monetary": 2250,
          "Recency": 8,
          "Time": 58
         },
         {
          "Donated": 1,
          "Frequency": 4,
          "Monetary": 1000,
          "Recency": 13,
          "Time": 21
         },
         {
          "Donated": 1,
          "Frequency": 6,
          "Monetary": 1500,
          "Recency": 4,
          "Time": 39
         },
         {
          "Donated": 1,
          "Frequency": 5,
          "Monetary": 1250,
          "Recency": 4,
          "Time": 46
         },
         {
          "Donated": 1,
          "Frequency": 6,
          "Monetary": 1500,
          "Recency": 3,
          "Time": 21
         },
         {
          "Donated": 1,
          "Frequency": 1,
          "Monetary": 250,
          "Recency": 9,
          "Time": 9
         },
         {
          "Donated": 1,
          "Frequency": 2,
          "Monetary": 500,
          "Recency": 14,
          "Time": 14
         },
         {
          "Donated": 1,
          "Frequency": 7,
          "Monetary": 1750,
          "Recency": 2,
          "Time": 77
         },
         {
          "Donated": 1,
          "Frequency": 2,
          "Monetary": 500,
          "Recency": 2,
          "Time": 41
         },
         {
          "Donated": 1,
          "Frequency": 2,
          "Monetary": 500,
          "Recency": 9,
          "Time": 52
         },
         {
          "Donated": 1,
          "Frequency": 1,
          "Monetary": 250,
          "Recency": 23,
          "Time": 23
         },
         {
          "Donated": 1,
          "Frequency": 4,
          "Monetary": 1000,
          "Recency": 16,
          "Time": 58
         },
         {
          "Donated": 1,
          "Frequency": 4,
          "Monetary": 1000,
          "Recency": 2,
          "Time": 26
         },
         {
          "Donated": 2,
          "Frequency": 2,
          "Monetary": 500,
          "Recency": 4,
          "Time": 4
         },
         {
          "Donated": 1,
          "Frequency": 3,
          "Monetary": 750,
          "Recency": 23,
          "Time": 35
         },
         {
          "Donated": 2,
          "Frequency": 1,
          "Monetary": 250,
          "Recency": 2,
          "Time": 2
         },
         {
          "Donated": 1,
          "Frequency": 4,
          "Monetary": 1000,
          "Recency": 9,
          "Time": 65
         },
         {
          "Donated": 2,
          "Frequency": 3,
          "Monetary": 750,
          "Recency": 14,
          "Time": 19
         },
         {
          "Donated": 1,
          "Frequency": 7,
          "Monetary": 1750,
          "Recency": 4,
          "Time": 58
         },
         {
          "Donated": 1,
          "Frequency": 16,
          "Monetary": 4000,
          "Recency": 2,
          "Time": 64
         },
         {
          "Donated": 1,
          "Frequency": 1,
          "Monetary": 250,
          "Recency": 4,
          "Time": 4
         },
         {
          "Donated": 1,
          "Frequency": 1,
          "Monetary": 250,
          "Recency": 40,
          "Time": 40
         },
         {
          "Donated": 1,
          "Frequency": 2,
          "Monetary": 500,
          "Recency": 14,
          "Time": 14
         },
         {
          "Donated": 1,
          "Frequency": 10,
          "Monetary": 2500,
          "Recency": 16,
          "Time": 89
         },
         {
          "Donated": 1,
          "Frequency": 6,
          "Monetary": 1500,
          "Recency": 23,
          "Time": 70
         },
         {
          "Donated": 1,
          "Frequency": 7,
          "Monetary": 1750,
          "Recency": 4,
          "Time": 62
         },
         {
          "Donated": 1,
          "Frequency": 6,
          "Monetary": 1500,
          "Recency": 4,
          "Time": 52
         },
         {
          "Donated": 2,
          "Frequency": 10,
          "Monetary": 2500,
          "Recency": 4,
          "Time": 28
         },
         {
          "Donated": 1,
          "Frequency": 4,
          "Monetary": 1000,
          "Recency": 11,
          "Time": 74
         },
         {
          "Donated": 1,
          "Frequency": 2,
          "Monetary": 500,
          "Recency": 4,
          "Time": 14
         },
         {
          "Donated": 2,
          "Frequency": 2,
          "Monetary": 500,
          "Recency": 21,
          "Time": 21
         },
         {
          "Donated": 1,
          "Frequency": 6,
          "Monetary": 1500,
          "Recency": 16,
          "Time": 81
         },
         {
          "Donated": 1,
          "Frequency": 4,
          "Monetary": 1000,
          "Recency": 11,
          "Time": 28
         },
         {
          "Donated": 2,
          "Frequency": 33,
          "Monetary": 8250,
          "Recency": 4,
          "Time": 98
         },
         {
          "Donated": 1,
          "Frequency": 1,
          "Monetary": 250,
          "Recency": 72,
          "Time": 72
         },
         {
          "Donated": 2,
          "Frequency": 7,
          "Monetary": 1750,
          "Recency": 2,
          "Time": 32
         },
         {
          "Donated": 1,
          "Frequency": 3,
          "Monetary": 750,
          "Recency": 16,
          "Time": 19
         },
         {
          "Donated": 1,
          "Frequency": 3,
          "Monetary": 750,
          "Recency": 11,
          "Time": 15
         },
         {
          "Donated": 2,
          "Frequency": 3,
          "Monetary": 750,
          "Recency": 2,
          "Time": 16
         },
         {
          "Donated": 1,
          "Frequency": 1,
          "Monetary": 250,
          "Recency": 4,
          "Time": 4
         },
         {
          "Donated": 1,
          "Frequency": 4,
          "Monetary": 1000,
          "Recency": 2,
          "Time": 26
         },
         {
          "Donated": 1,
          "Frequency": 1,
          "Monetary": 250,
          "Recency": 4,
          "Time": 4
         },
         {
          "Donated": 2,
          "Frequency": 43,
          "Monetary": 10750,
          "Recency": 2,
          "Time": 86
         },
         {
          "Donated": 2,
          "Frequency": 11,
          "Monetary": 2750,
          "Recency": 4,
          "Time": 64
         },
         {
          "Donated": 2,
          "Frequency": 6,
          "Monetary": 1500,
          "Recency": 4,
          "Time": 23
         },
         {
          "Donated": 1,
          "Frequency": 3,
          "Monetary": 750,
          "Recency": 2,
          "Time": 24
         },
         {
          "Donated": 1,
          "Frequency": 13,
          "Monetary": 3250,
          "Recency": 12,
          "Time": 59
         },
         {
          "Donated": 1,
          "Frequency": 15,
          "Monetary": 3750,
          "Recency": 12,
          "Time": 71
         },
         {
          "Donated": 1,
          "Frequency": 12,
          "Monetary": 3000,
          "Recency": 11,
          "Time": 58
         },
         {
          "Donated": 1,
          "Frequency": 4,
          "Monetary": 1000,
          "Recency": 2,
          "Time": 11
         },
         {
          "Donated": 1,
          "Frequency": 1,
          "Monetary": 250,
          "Recency": 2,
          "Time": 2
         },
         {
          "Donated": 1,
          "Frequency": 2,
          "Monetary": 500,
          "Recency": 21,
          "Time": 21
         },
         {
          "Donated": 1,
          "Frequency": 4,
          "Monetary": 1000,
          "Recency": 2,
          "Time": 35
         },
         {
          "Donated": 2,
          "Frequency": 3,
          "Monetary": 750,
          "Recency": 4,
          "Time": 25
         },
         {
          "Donated": 1,
          "Frequency": 4,
          "Monetary": 1000,
          "Recency": 10,
          "Time": 16
         },
         {
          "Donated": 1,
          "Frequency": 1,
          "Monetary": 250,
          "Recency": 21,
          "Time": 21
         },
         {
          "Donated": 2,
          "Frequency": 2,
          "Monetary": 500,
          "Recency": 4,
          "Time": 4
         },
         {
          "Donated": 2,
          "Frequency": 6,
          "Monetary": 1500,
          "Recency": 2,
          "Time": 41
         },
         {
          "Donated": 2,
          "Frequency": 13,
          "Monetary": 3250,
          "Recency": 2,
          "Time": 53
         },
         {
          "Donated": 1,
          "Frequency": 9,
          "Monetary": 2250,
          "Recency": 4,
          "Time": 40
         },
         {
          "Donated": 2,
          "Frequency": 1,
          "Monetary": 250,
          "Recency": 23,
          "Time": 23
         },
         {
          "Donated": 1,
          "Frequency": 15,
          "Monetary": 3750,
          "Recency": 2,
          "Time": 64
         },
         {
          "Donated": 1,
          "Frequency": 3,
          "Monetary": 750,
          "Recency": 2,
          "Time": 21
         },
         {
          "Donated": 1,
          "Frequency": 2,
          "Monetary": 500,
          "Recency": 23,
          "Time": 23
         },
         {
          "Donated": 1,
          "Frequency": 1,
          "Monetary": 250,
          "Recency": 4,
          "Time": 4
         },
         {
          "Donated": 2,
          "Frequency": 4,
          "Monetary": 1000,
          "Recency": 2,
          "Time": 14
         },
         {
          "Donated": 1,
          "Frequency": 2,
          "Monetary": 500,
          "Recency": 2,
          "Time": 11
         },
         {
          "Donated": 1,
          "Frequency": 6,
          "Monetary": 1500,
          "Recency": 11,
          "Time": 28
         },
         {
          "Donated": 1,
          "Frequency": 4,
          "Monetary": 1000,
          "Recency": 23,
          "Time": 87
         },
         {
          "Donated": 2,
          "Frequency": 6,
          "Monetary": 1500,
          "Recency": 2,
          "Time": 28
         },
         {
          "Donated": 2,
          "Frequency": 11,
          "Monetary": 2750,
          "Recency": 9,
          "Time": 49
         },
         {
          "Donated": 1,
          "Frequency": 3,
          "Monetary": 750,
          "Recency": 23,
          "Time": 33
         },
         {
          "Donated": 1,
          "Frequency": 1,
          "Monetary": 250,
          "Recency": 2,
          "Time": 2
         },
         {
          "Donated": 2,
          "Frequency": 2,
          "Monetary": 500,
          "Recency": 2,
          "Time": 4
         },
         {
          "Donated": 1,
          "Frequency": 16,
          "Monetary": 4000,
          "Recency": 14,
          "Time": 70
         },
         {
          "Donated": 2,
          "Frequency": 8,
          "Monetary": 2000,
          "Recency": 8,
          "Time": 52
         },
         {
          "Donated": 2,
          "Frequency": 8,
          "Monetary": 2000,
          "Recency": 4,
          "Time": 34
         },
         {
          "Donated": 1,
          "Frequency": 5,
          "Monetary": 1250,
          "Recency": 7,
          "Time": 35
         },
         {
          "Donated": 1,
          "Frequency": 5,
          "Monetary": 1250,
          "Recency": 4,
          "Time": 58
         },
         {
          "Donated": 1,
          "Frequency": 1,
          "Monetary": 250,
          "Recency": 11,
          "Time": 11
         },
         {
          "Donated": 2,
          "Frequency": 13,
          "Monetary": 3250,
          "Recency": 2,
          "Time": 76
         },
         {
          "Donated": 1,
          "Frequency": 7,
          "Monetary": 1750,
          "Recency": 4,
          "Time": 52
         },
         {
          "Donated": 1,
          "Frequency": 5,
          "Monetary": 1250,
          "Recency": 14,
          "Time": 50
         },
         {
          "Donated": 1,
          "Frequency": 8,
          "Monetary": 2000,
          "Recency": 14,
          "Time": 50
         },
         {
          "Donated": 1,
          "Frequency": 2,
          "Monetary": 500,
          "Recency": 4,
          "Time": 59
         },
         {
          "Donated": 1,
          "Frequency": 3,
          "Monetary": 750,
          "Recency": 11,
          "Time": 28
         },
         {
          "Donated": 1,
          "Frequency": 1,
          "Monetary": 250,
          "Recency": 23,
          "Time": 23
         },
         {
          "Donated": 1,
          "Frequency": 5,
          "Monetary": 1250,
          "Recency": 23,
          "Time": 58
         },
         {
          "Donated": 2,
          "Frequency": 5,
          "Monetary": 1250,
          "Recency": 4,
          "Time": 26
         },
         {
          "Donated": 2,
          "Frequency": 41,
          "Monetary": 10250,
          "Recency": 2,
          "Time": 98
         },
         {
          "Donated": 1,
          "Frequency": 5,
          "Monetary": 1250,
          "Recency": 4,
          "Time": 58
         },
         {
          "Donated": 1,
          "Frequency": 2,
          "Monetary": 500,
          "Recency": 14,
          "Time": 14
         },
         {
          "Donated": 2,
          "Frequency": 6,
          "Monetary": 1500,
          "Recency": 2,
          "Time": 16
         },
         {
          "Donated": 1,
          "Frequency": 3,
          "Monetary": 750,
          "Recency": 11,
          "Time": 76
         },
         {
          "Donated": 2,
          "Frequency": 3,
          "Monetary": 750,
          "Recency": 4,
          "Time": 16
         },
         {
          "Donated": 1,
          "Frequency": 2,
          "Monetary": 500,
          "Recency": 11,
          "Time": 70
         },
         {
          "Donated": 1,
          "Frequency": 2,
          "Monetary": 500,
          "Recency": 11,
          "Time": 11
         },
         {
          "Donated": 2,
          "Frequency": 16,
          "Monetary": 4000,
          "Recency": 4,
          "Time": 38
         },
         {
          "Donated": 1,
          "Frequency": 2,
          "Monetary": 500,
          "Recency": 11,
          "Time": 11
         },
         {
          "Donated": 1,
          "Frequency": 2,
          "Monetary": 500,
          "Recency": 14,
          "Time": 29
         },
         {
          "Donated": 1,
          "Frequency": 2,
          "Monetary": 500,
          "Recency": 3,
          "Time": 23
         },
         {
          "Donated": 1,
          "Frequency": 2,
          "Monetary": 500,
          "Recency": 4,
          "Time": 52
         },
         {
          "Donated": 1,
          "Frequency": 3,
          "Monetary": 750,
          "Recency": 4,
          "Time": 16
         },
         {
          "Donated": 1,
          "Frequency": 3,
          "Monetary": 750,
          "Recency": 4,
          "Time": 71
         },
         {
          "Donated": 1,
          "Frequency": 3,
          "Monetary": 750,
          "Recency": 14,
          "Time": 35
         },
         {
          "Donated": 2,
          "Frequency": 6,
          "Monetary": 1500,
          "Recency": 16,
          "Time": 35
         },
         {
          "Donated": 1,
          "Frequency": 7,
          "Monetary": 1750,
          "Recency": 14,
          "Time": 35
         },
         {
          "Donated": 2,
          "Frequency": 9,
          "Monetary": 2250,
          "Recency": 4,
          "Time": 28
         },
         {
          "Donated": 1,
          "Frequency": 1,
          "Monetary": 250,
          "Recency": 16,
          "Time": 16
         },
         {
          "Donated": 1,
          "Frequency": 1,
          "Monetary": 250,
          "Recency": 23,
          "Time": 23
         },
         {
          "Donated": 1,
          "Frequency": 10,
          "Monetary": 2500,
          "Recency": 2,
          "Time": 52
         },
         {
          "Donated": 1,
          "Frequency": 2,
          "Monetary": 500,
          "Recency": 4,
          "Time": 31
         },
         {
          "Donated": 1,
          "Frequency": 6,
          "Monetary": 1500,
          "Recency": 4,
          "Time": 14
         },
         {
          "Donated": 2,
          "Frequency": 5,
          "Monetary": 1250,
          "Recency": 4,
          "Time": 16
         },
         {
          "Donated": 2,
          "Frequency": 6,
          "Monetary": 1500,
          "Recency": 4,
          "Time": 35
         },
         {
          "Donated": 1,
          "Frequency": 1,
          "Monetary": 250,
          "Recency": 21,
          "Time": 21
         },
         {
          "Donated": 2,
          "Frequency": 9,
          "Monetary": 2250,
          "Recency": 4,
          "Time": 26
         },
         {
          "Donated": 1,
          "Frequency": 8,
          "Monetary": 2000,
          "Recency": 16,
          "Time": 76
         },
         {
          "Donated": 1,
          "Frequency": 5,
          "Monetary": 1250,
          "Recency": 11,
          "Time": 38
         },
         {
          "Donated": 1,
          "Frequency": 7,
          "Monetary": 1750,
          "Recency": 1,
          "Time": 57
         },
         {
          "Donated": 2,
          "Frequency": 5,
          "Monetary": 1250,
          "Recency": 2,
          "Time": 11
         },
         {
          "Donated": 1,
          "Frequency": 6,
          "Monetary": 1500,
          "Recency": 16,
          "Time": 35
         },
         {
          "Donated": 2,
          "Frequency": 5,
          "Monetary": 1250,
          "Recency": 2,
          "Time": 16
         },
         {
          "Donated": 1,
          "Frequency": 1,
          "Monetary": 250,
          "Recency": 11,
          "Time": 11
         },
         {
          "Donated": 1,
          "Frequency": 1,
          "Monetary": 250,
          "Recency": 2,
          "Time": 2
         },
         {
          "Donated": 1,
          "Frequency": 8,
          "Monetary": 2000,
          "Recency": 11,
          "Time": 48
         },
         {
          "Donated": 1,
          "Frequency": 6,
          "Monetary": 1500,
          "Recency": 11,
          "Time": 41
         },
         {
          "Donated": 1,
          "Frequency": 14,
          "Monetary": 3500,
          "Recency": 7,
          "Time": 48
         },
         {
          "Donated": 1,
          "Frequency": 2,
          "Monetary": 500,
          "Recency": 4,
          "Time": 4
         },
         {
          "Donated": 1,
          "Frequency": 16,
          "Monetary": 4000,
          "Recency": 14,
          "Time": 98
         },
         {
          "Donated": 1,
          "Frequency": 3,
          "Monetary": 750,
          "Recency": 14,
          "Time": 52
         },
         {
          "Donated": 1,
          "Frequency": 2,
          "Monetary": 500,
          "Recency": 11,
          "Time": 17
         },
         {
          "Donated": 2,
          "Frequency": 1,
          "Monetary": 250,
          "Recency": 2,
          "Time": 2
         },
         {
          "Donated": 2,
          "Frequency": 7,
          "Monetary": 1750,
          "Recency": 2,
          "Time": 46
         },
         {
          "Donated": 1,
          "Frequency": 1,
          "Monetary": 250,
          "Recency": 23,
          "Time": 23
         },
         {
          "Donated": 1,
          "Frequency": 1,
          "Monetary": 250,
          "Recency": 23,
          "Time": 23
         },
         {
          "Donated": 2,
          "Frequency": 13,
          "Monetary": 3250,
          "Recency": 2,
          "Time": 32
         },
         {
          "Donated": 1,
          "Frequency": 11,
          "Monetary": 2750,
          "Recency": 7,
          "Time": 89
         },
         {
          "Donated": 2,
          "Frequency": 6,
          "Monetary": 1500,
          "Recency": 2,
          "Time": 15
         },
         {
          "Donated": 2,
          "Frequency": 6,
          "Monetary": 1500,
          "Recency": 2,
          "Time": 16
         },
         {
          "Donated": 1,
          "Frequency": 13,
          "Monetary": 3250,
          "Recency": 14,
          "Time": 57
         },
         {
          "Donated": 1,
          "Frequency": 14,
          "Monetary": 3500,
          "Recency": 1,
          "Time": 58
         },
         {
          "Donated": 1,
          "Frequency": 8,
          "Monetary": 2000,
          "Recency": 14,
          "Time": 46
         },
         {
          "Donated": 2,
          "Frequency": 50,
          "Monetary": 12500,
          "Recency": 2,
          "Time": 98
         },
         {
          "Donated": 2,
          "Frequency": 17,
          "Monetary": 4250,
          "Recency": 4,
          "Time": 71
         },
         {
          "Donated": 1,
          "Frequency": 3,
          "Monetary": 750,
          "Recency": 14,
          "Time": 33
         },
         {
          "Donated": 1,
          "Frequency": 7,
          "Monetary": 1750,
          "Recency": 16,
          "Time": 64
         },
         {
          "Donated": 2,
          "Frequency": 4,
          "Monetary": 1000,
          "Recency": 4,
          "Time": 34
         },
         {
          "Donated": 1,
          "Frequency": 3,
          "Monetary": 750,
          "Recency": 21,
          "Time": 26
         },
         {
          "Donated": 1,
          "Frequency": 24,
          "Monetary": 6000,
          "Recency": 11,
          "Time": 64
         },
         {
          "Donated": 1,
          "Frequency": 8,
          "Monetary": 2000,
          "Recency": 14,
          "Time": 26
         },
         {
          "Donated": 2,
          "Frequency": 11,
          "Monetary": 2750,
          "Recency": 2,
          "Time": 41
         },
         {
          "Donated": 2,
          "Frequency": 9,
          "Monetary": 2250,
          "Recency": 11,
          "Time": 72
         },
         {
          "Donated": 1,
          "Frequency": 1,
          "Monetary": 250,
          "Recency": 21,
          "Time": 21
         },
         {
          "Donated": 1,
          "Frequency": 9,
          "Monetary": 2250,
          "Recency": 9,
          "Time": 16
         },
         {
          "Donated": 1,
          "Frequency": 1,
          "Monetary": 250,
          "Recency": 23,
          "Time": 23
         },
         {
          "Donated": 1,
          "Frequency": 9,
          "Monetary": 2250,
          "Recency": 9,
          "Time": 45
         },
         {
          "Donated": 1,
          "Frequency": 6,
          "Monetary": 1500,
          "Recency": 11,
          "Time": 26
         },
         {
          "Donated": 2,
          "Frequency": 1,
          "Monetary": 250,
          "Recency": 11,
          "Time": 11
         },
         {
          "Donated": 1,
          "Frequency": 4,
          "Monetary": 1000,
          "Recency": 14,
          "Time": 26
         },
         {
          "Donated": 1,
          "Frequency": 2,
          "Monetary": 500,
          "Recency": 2,
          "Time": 11
         },
         {
          "Donated": 1,
          "Frequency": 1,
          "Monetary": 250,
          "Recency": 14,
          "Time": 14
         },
         {
          "Donated": 1,
          "Frequency": 2,
          "Monetary": 500,
          "Recency": 11,
          "Time": 16
         },
         {
          "Donated": 1,
          "Frequency": 1,
          "Monetary": 250,
          "Recency": 16,
          "Time": 16
         },
         {
          "Donated": 1,
          "Frequency": 3,
          "Monetary": 750,
          "Recency": 21,
          "Time": 40
         },
         {
          "Donated": 1,
          "Frequency": 5,
          "Monetary": 1250,
          "Recency": 4,
          "Time": 58
         },
         {
          "Donated": 1,
          "Frequency": 1,
          "Monetary": 250,
          "Recency": 4,
          "Time": 4
         },
         {
          "Donated": 1,
          "Frequency": 16,
          "Monetary": 4000,
          "Recency": 15,
          "Time": 82
         },
         {
          "Donated": 1,
          "Frequency": 5,
          "Monetary": 1250,
          "Recency": 14,
          "Time": 14
         },
         {
          "Donated": 1,
          "Frequency": 4,
          "Monetary": 1000,
          "Recency": 16,
          "Time": 23
         },
         {
          "Donated": 1,
          "Frequency": 4,
          "Monetary": 1000,
          "Recency": 2,
          "Time": 70
         },
         {
          "Donated": 1,
          "Frequency": 12,
          "Monetary": 3000,
          "Recency": 23,
          "Time": 86
         },
         {
          "Donated": 1,
          "Frequency": 1,
          "Monetary": 250,
          "Recency": 14,
          "Time": 14
         },
         {
          "Donated": 1,
          "Frequency": 5,
          "Monetary": 1250,
          "Recency": 14,
          "Time": 26
         },
         {
          "Donated": 1,
          "Frequency": 5,
          "Monetary": 1250,
          "Recency": 16,
          "Time": 27
         },
         {
          "Donated": 2,
          "Frequency": 2,
          "Monetary": 500,
          "Recency": 2,
          "Time": 11
         },
         {
          "Donated": 1,
          "Frequency": 2,
          "Monetary": 500,
          "Recency": 4,
          "Time": 9
         },
         {
          "Donated": 1,
          "Frequency": 7,
          "Monetary": 1750,
          "Recency": 16,
          "Time": 39
         },
         {
          "Donated": 1,
          "Frequency": 17,
          "Monetary": 4250,
          "Recency": 6,
          "Time": 70
         },
         {
          "Donated": 1,
          "Frequency": 7,
          "Monetary": 1750,
          "Recency": 16,
          "Time": 93
         },
         {
          "Donated": 1,
          "Frequency": 12,
          "Monetary": 3000,
          "Recency": 2,
          "Time": 82
         },
         {
          "Donated": 1,
          "Frequency": 7,
          "Monetary": 1750,
          "Recency": 14,
          "Time": 26
         },
         {
          "Donated": 1,
          "Frequency": 1,
          "Monetary": 250,
          "Recency": 11,
          "Time": 11
         },
         {
          "Donated": 1,
          "Frequency": 13,
          "Monetary": 3250,
          "Recency": 21,
          "Time": 57
         },
         {
          "Donated": 1,
          "Frequency": 2,
          "Monetary": 500,
          "Recency": 2,
          "Time": 2
         },
         {
          "Donated": 2,
          "Frequency": 17,
          "Monetary": 4250,
          "Recency": 11,
          "Time": 79
         },
         {
          "Donated": 1,
          "Frequency": 2,
          "Monetary": 500,
          "Recency": 14,
          "Time": 14
         },
         {
          "Donated": 1,
          "Frequency": 1,
          "Monetary": 250,
          "Recency": 74,
          "Time": 74
         },
         {
          "Donated": 1,
          "Frequency": 3,
          "Monetary": 750,
          "Recency": 2,
          "Time": 22
         },
         {
          "Donated": 1,
          "Frequency": 7,
          "Monetary": 1750,
          "Recency": 4,
          "Time": 58
         },
         {
          "Donated": 1,
          "Frequency": 1,
          "Monetary": 250,
          "Recency": 2,
          "Time": 2
         },
         {
          "Donated": 2,
          "Frequency": 1,
          "Monetary": 250,
          "Recency": 4,
          "Time": 4
         },
         {
          "Donated": 2,
          "Frequency": 5,
          "Monetary": 1250,
          "Recency": 3,
          "Time": 12
         },
         {
          "Donated": 1,
          "Frequency": 1,
          "Monetary": 250,
          "Recency": 2,
          "Time": 2
         },
         {
          "Donated": 1,
          "Frequency": 16,
          "Monetary": 4000,
          "Recency": 11,
          "Time": 89
         },
         {
          "Donated": 1,
          "Frequency": 5,
          "Monetary": 1250,
          "Recency": 15,
          "Time": 33
         },
         {
          "Donated": 1,
          "Frequency": 2,
          "Monetary": 500,
          "Recency": 14,
          "Time": 14
         },
         {
          "Donated": 1,
          "Frequency": 11,
          "Monetary": 2750,
          "Recency": 4,
          "Time": 95
         },
         {
          "Donated": 1,
          "Frequency": 2,
          "Monetary": 500,
          "Recency": 4,
          "Time": 30
         },
         {
          "Donated": 1,
          "Frequency": 2,
          "Monetary": 500,
          "Recency": 14,
          "Time": 14
         },
         {
          "Donated": 2,
          "Frequency": 10,
          "Monetary": 2500,
          "Recency": 4,
          "Time": 28
         },
         {
          "Donated": 1,
          "Frequency": 14,
          "Monetary": 3500,
          "Recency": 16,
          "Time": 83
         },
         {
          "Donated": 1,
          "Frequency": 9,
          "Monetary": 2250,
          "Recency": 11,
          "Time": 38
         },
         {
          "Donated": 1,
          "Frequency": 5,
          "Monetary": 1250,
          "Recency": 2,
          "Time": 34
         },
         {
          "Donated": 1,
          "Frequency": 10,
          "Monetary": 2500,
          "Recency": 11,
          "Time": 35
         },
         {
          "Donated": 1,
          "Frequency": 2,
          "Monetary": 500,
          "Recency": 21,
          "Time": 33
         },
         {
          "Donated": 1,
          "Frequency": 1,
          "Monetary": 250,
          "Recency": 14,
          "Time": 14
         },
         {
          "Donated": 1,
          "Frequency": 10,
          "Monetary": 2500,
          "Recency": 8,
          "Time": 63
         },
         {
          "Donated": 2,
          "Frequency": 5,
          "Monetary": 1250,
          "Recency": 4,
          "Time": 23
         },
         {
          "Donated": 1,
          "Frequency": 7,
          "Monetary": 1750,
          "Recency": 4,
          "Time": 28
         },
         {
          "Donated": 1,
          "Frequency": 1,
          "Monetary": 250,
          "Recency": 14,
          "Time": 14
         },
         {
          "Donated": 2,
          "Frequency": 3,
          "Monetary": 750,
          "Recency": 2,
          "Time": 4
         },
         {
          "Donated": 1,
          "Frequency": 5,
          "Monetary": 1250,
          "Recency": 4,
          "Time": 58
         },
         {
          "Donated": 2,
          "Frequency": 1,
          "Monetary": 250,
          "Recency": 4,
          "Time": 4
         },
         {
          "Donated": 2,
          "Frequency": 5,
          "Monetary": 1250,
          "Recency": 4,
          "Time": 11
         },
         {
          "Donated": 1,
          "Frequency": 3,
          "Monetary": 750,
          "Recency": 4,
          "Time": 34
         },
         {
          "Donated": 1,
          "Frequency": 1,
          "Monetary": 250,
          "Recency": 4,
          "Time": 4
         },
         {
          "Donated": 1,
          "Frequency": 5,
          "Monetary": 1250,
          "Recency": 11,
          "Time": 33
         },
         {
          "Donated": 2,
          "Frequency": 3,
          "Monetary": 750,
          "Recency": 11,
          "Time": 40
         },
         {
          "Donated": 1,
          "Frequency": 8,
          "Monetary": 2000,
          "Recency": 16,
          "Time": 28
         },
         {
          "Donated": 1,
          "Frequency": 8,
          "Monetary": 2000,
          "Recency": 13,
          "Time": 26
         },
         {
          "Donated": 1,
          "Frequency": 1,
          "Monetary": 250,
          "Recency": 21,
          "Time": 21
         },
         {
          "Donated": 1,
          "Frequency": 14,
          "Monetary": 3500,
          "Recency": 4,
          "Time": 86
         },
         {
          "Donated": 1,
          "Frequency": 1,
          "Monetary": 250,
          "Recency": 4,
          "Time": 4
         },
         {
          "Donated": 1,
          "Frequency": 10,
          "Monetary": 2500,
          "Recency": 16,
          "Time": 62
         },
         {
          "Donated": 2,
          "Frequency": 7,
          "Monetary": 1750,
          "Recency": 2,
          "Time": 35
         },
         {
          "Donated": 1,
          "Frequency": 1,
          "Monetary": 250,
          "Recency": 4,
          "Time": 4
         },
         {
          "Donated": 1,
          "Frequency": 7,
          "Monetary": 1750,
          "Recency": 4,
          "Time": 52
         },
         {
          "Donated": 2,
          "Frequency": 22,
          "Monetary": 5500,
          "Recency": 6,
          "Time": 28
         },
         {
          "Donated": 1,
          "Frequency": 7,
          "Monetary": 1750,
          "Recency": 21,
          "Time": 38
         },
         {
          "Donated": 1,
          "Frequency": 11,
          "Monetary": 2750,
          "Recency": 5,
          "Time": 75
         },
         {
          "Donated": 1,
          "Frequency": 6,
          "Monetary": 1500,
          "Recency": 4,
          "Time": 46
         },
         {
          "Donated": 1,
          "Frequency": 5,
          "Monetary": 1250,
          "Recency": 10,
          "Time": 38
         },
         {
          "Donated": 2,
          "Frequency": 16,
          "Monetary": 4000,
          "Recency": 4,
          "Time": 70
         },
         {
          "Donated": 2,
          "Frequency": 12,
          "Monetary": 3000,
          "Recency": 4,
          "Time": 34
         },
         {
          "Donated": 1,
          "Frequency": 1,
          "Monetary": 250,
          "Recency": 16,
          "Time": 16
         },
         {
          "Donated": 1,
          "Frequency": 1,
          "Monetary": 250,
          "Recency": 4,
          "Time": 4
         },
         {
          "Donated": 1,
          "Frequency": 2,
          "Monetary": 500,
          "Recency": 11,
          "Time": 11
         },
         {
          "Donated": 2,
          "Frequency": 5,
          "Monetary": 1250,
          "Recency": 4,
          "Time": 35
         },
         {
          "Donated": 1,
          "Frequency": 1,
          "Monetary": 250,
          "Recency": 2,
          "Time": 2
         },
         {
          "Donated": 1,
          "Frequency": 1,
          "Monetary": 250,
          "Recency": 16,
          "Time": 16
         },
         {
          "Donated": 1,
          "Frequency": 4,
          "Monetary": 1000,
          "Recency": 2,
          "Time": 16
         },
         {
          "Donated": 2,
          "Frequency": 2,
          "Monetary": 500,
          "Recency": 9,
          "Time": 16
         },
         {
          "Donated": 1,
          "Frequency": 1,
          "Monetary": 250,
          "Recency": 4,
          "Time": 4
         },
         {
          "Donated": 1,
          "Frequency": 1,
          "Monetary": 250,
          "Recency": 2,
          "Time": 2
         },
         {
          "Donated": 1,
          "Frequency": 1,
          "Monetary": 250,
          "Recency": 21,
          "Time": 21
         },
         {
          "Donated": 1,
          "Frequency": 11,
          "Monetary": 2750,
          "Recency": 4,
          "Time": 28
         },
         {
          "Donated": 1,
          "Frequency": 1,
          "Monetary": 250,
          "Recency": 21,
          "Time": 21
         },
         {
          "Donated": 1,
          "Frequency": 6,
          "Monetary": 1500,
          "Recency": 4,
          "Time": 35
         },
         {
          "Donated": 1,
          "Frequency": 5,
          "Monetary": 1250,
          "Recency": 14,
          "Time": 64
         },
         {
          "Donated": 1,
          "Frequency": 1,
          "Monetary": 250,
          "Recency": 21,
          "Time": 21
         },
         {
          "Donated": 1,
          "Frequency": 2,
          "Monetary": 500,
          "Recency": 11,
          "Time": 26
         },
         {
          "Donated": 2,
          "Frequency": 3,
          "Monetary": 750,
          "Recency": 16,
          "Time": 21
         },
         {
          "Donated": 1,
          "Frequency": 9,
          "Monetary": 2250,
          "Recency": 4,
          "Time": 28
         },
         {
          "Donated": 1,
          "Frequency": 1,
          "Monetary": 250,
          "Recency": 4,
          "Time": 4
         },
         {
          "Donated": 1,
          "Frequency": 8,
          "Monetary": 2000,
          "Recency": 10,
          "Time": 39
         },
         {
          "Donated": 1,
          "Frequency": 1,
          "Monetary": 250,
          "Recency": 4,
          "Time": 4
         },
         {
          "Donated": 1,
          "Frequency": 2,
          "Monetary": 500,
          "Recency": 2,
          "Time": 14
         },
         {
          "Donated": 2,
          "Frequency": 5,
          "Monetary": 1250,
          "Recency": 14,
          "Time": 28
         },
         {
          "Donated": 2,
          "Frequency": 1,
          "Monetary": 250,
          "Recency": 4,
          "Time": 4
         },
         {
          "Donated": 1,
          "Frequency": 1,
          "Monetary": 250,
          "Recency": 2,
          "Time": 2
         },
         {
          "Donated": 2,
          "Frequency": 13,
          "Monetary": 3250,
          "Recency": 4,
          "Time": 39
         },
         {
          "Donated": 1,
          "Frequency": 15,
          "Monetary": 3750,
          "Recency": 23,
          "Time": 57
         },
         {
          "Donated": 1,
          "Frequency": 1,
          "Monetary": 250,
          "Recency": 11,
          "Time": 11
         },
         {
          "Donated": 1,
          "Frequency": 8,
          "Monetary": 2000,
          "Recency": 23,
          "Time": 69
         },
         {
          "Donated": 1,
          "Frequency": 2,
          "Monetary": 500,
          "Recency": 23,
          "Time": 26
         },
         {
          "Donated": 1,
          "Frequency": 8,
          "Monetary": 2000,
          "Recency": 23,
          "Time": 64
         },
         {
          "Donated": 1,
          "Frequency": 3,
          "Monetary": 750,
          "Recency": 4,
          "Time": 28
         },
         {
          "Donated": 1,
          "Frequency": 1,
          "Monetary": 250,
          "Recency": 16,
          "Time": 16
         },
         {
          "Donated": 1,
          "Frequency": 6,
          "Monetary": 1500,
          "Recency": 2,
          "Time": 22
         },
         {
          "Donated": 1,
          "Frequency": 2,
          "Monetary": 500,
          "Recency": 23,
          "Time": 28
         },
         {
          "Donated": 1,
          "Frequency": 5,
          "Monetary": 1250,
          "Recency": 16,
          "Time": 71
         },
         {
          "Donated": 1,
          "Frequency": 11,
          "Monetary": 2750,
          "Recency": 12,
          "Time": 23
         },
         {
          "Donated": 1,
          "Frequency": 19,
          "Monetary": 4750,
          "Recency": 23,
          "Time": 62
         },
         {
          "Donated": 1,
          "Frequency": 5,
          "Monetary": 1250,
          "Recency": 16,
          "Time": 60
         },
         {
          "Donated": 2,
          "Frequency": 11,
          "Monetary": 2750,
          "Recency": 2,
          "Time": 40
         },
         {
          "Donated": 1,
          "Frequency": 5,
          "Monetary": 1250,
          "Recency": 2,
          "Time": 26
         },
         {
          "Donated": 1,
          "Frequency": 3,
          "Monetary": 750,
          "Recency": 21,
          "Time": 38
         },
         {
          "Donated": 1,
          "Frequency": 1,
          "Monetary": 250,
          "Recency": 23,
          "Time": 23
         },
         {
          "Donated": 1,
          "Frequency": 2,
          "Monetary": 500,
          "Recency": 11,
          "Time": 21
         },
         {
          "Donated": 1,
          "Frequency": 15,
          "Monetary": 3750,
          "Recency": 16,
          "Time": 87
         },
         {
          "Donated": 1,
          "Frequency": 3,
          "Monetary": 750,
          "Recency": 23,
          "Time": 39
         },
         {
          "Donated": 2,
          "Frequency": 7,
          "Monetary": 1750,
          "Recency": 17,
          "Time": 58
         },
         {
          "Donated": 1,
          "Frequency": 22,
          "Monetary": 5500,
          "Recency": 11,
          "Time": 98
         },
         {
          "Donated": 2,
          "Frequency": 7,
          "Monetary": 1750,
          "Recency": 11,
          "Time": 62
         },
         {
          "Donated": 1,
          "Frequency": 6,
          "Monetary": 1500,
          "Recency": 2,
          "Time": 26
         },
         {
          "Donated": 1,
          "Frequency": 6,
          "Monetary": 1500,
          "Recency": 16,
          "Time": 40
         },
         {
          "Donated": 2,
          "Frequency": 7,
          "Monetary": 1750,
          "Recency": 2,
          "Time": 14
         },
         {
          "Donated": 1,
          "Frequency": 3,
          "Monetary": 750,
          "Recency": 16,
          "Time": 34
         },
         {
          "Donated": 1,
          "Frequency": 2,
          "Monetary": 500,
          "Recency": 23,
          "Time": 28
         },
         {
          "Donated": 1,
          "Frequency": 3,
          "Monetary": 750,
          "Recency": 16,
          "Time": 50
         },
         {
          "Donated": 2,
          "Frequency": 1,
          "Monetary": 250,
          "Recency": 22,
          "Time": 22
         },
         {
          "Donated": 1,
          "Frequency": 1,
          "Monetary": 250,
          "Recency": 23,
          "Time": 23
         },
         {
          "Donated": 1,
          "Frequency": 6,
          "Monetary": 1500,
          "Recency": 21,
          "Time": 48
         },
         {
          "Donated": 2,
          "Frequency": 8,
          "Monetary": 2000,
          "Recency": 2,
          "Time": 35
         },
         {
          "Donated": 1,
          "Frequency": 1,
          "Monetary": 250,
          "Recency": 21,
          "Time": 21
         },
         {
          "Donated": 1,
          "Frequency": 3,
          "Monetary": 750,
          "Recency": 21,
          "Time": 35
         },
         {
          "Donated": 1,
          "Frequency": 10,
          "Monetary": 2500,
          "Recency": 2,
          "Time": 49
         },
         {
          "Donated": 1,
          "Frequency": 2,
          "Monetary": 500,
          "Recency": 9,
          "Time": 52
         },
         {
          "Donated": 2,
          "Frequency": 6,
          "Monetary": 1500,
          "Recency": 4,
          "Time": 16
         },
         {
          "Donated": 2,
          "Frequency": 1,
          "Monetary": 250,
          "Recency": 2,
          "Time": 2
         },
         {
          "Donated": 2,
          "Frequency": 8,
          "Monetary": 2000,
          "Recency": 4,
          "Time": 48
         },
         {
          "Donated": 1,
          "Frequency": 1,
          "Monetary": 250,
          "Recency": 23,
          "Time": 23
         },
         {
          "Donated": 2,
          "Frequency": 10,
          "Monetary": 2500,
          "Recency": 1,
          "Time": 43
         },
         {
          "Donated": 2,
          "Frequency": 1,
          "Monetary": 250,
          "Recency": 2,
          "Time": 2
         },
         {
          "Donated": 1,
          "Frequency": 11,
          "Monetary": 2750,
          "Recency": 2,
          "Time": 28
         },
         {
          "Donated": 1,
          "Frequency": 12,
          "Monetary": 3000,
          "Recency": 1,
          "Time": 35
         },
         {
          "Donated": 1,
          "Frequency": 1,
          "Monetary": 250,
          "Recency": 11,
          "Time": 11
         },
         {
          "Donated": 2,
          "Frequency": 14,
          "Monetary": 3500,
          "Recency": 2,
          "Time": 57
         },
         {
          "Donated": 1,
          "Frequency": 5,
          "Monetary": 1250,
          "Recency": 11,
          "Time": 18
         },
         {
          "Donated": 1,
          "Frequency": 2,
          "Monetary": 500,
          "Recency": 18,
          "Time": 23
         },
         {
          "Donated": 2,
          "Frequency": 2,
          "Monetary": 500,
          "Recency": 4,
          "Time": 4
         },
         {
          "Donated": 2,
          "Frequency": 10,
          "Monetary": 2500,
          "Recency": 2,
          "Time": 28
         },
         {
          "Donated": 1,
          "Frequency": 1,
          "Monetary": 250,
          "Recency": 14,
          "Time": 14
         },
         {
          "Donated": 1,
          "Frequency": 8,
          "Monetary": 2000,
          "Recency": 18,
          "Time": 95
         },
         {
          "Donated": 1,
          "Frequency": 2,
          "Monetary": 500,
          "Recency": 4,
          "Time": 23
         },
         {
          "Donated": 2,
          "Frequency": 2,
          "Monetary": 500,
          "Recency": 4,
          "Time": 9
         },
         {
          "Donated": 1,
          "Frequency": 1,
          "Monetary": 250,
          "Recency": 2,
          "Time": 2
         },
         {
          "Donated": 1,
          "Frequency": 1,
          "Monetary": 250,
          "Recency": 23,
          "Time": 23
         },
         {
          "Donated": 1,
          "Frequency": 4,
          "Monetary": 1000,
          "Recency": 16,
          "Time": 45
         },
         {
          "Donated": 1,
          "Frequency": 1,
          "Monetary": 250,
          "Recency": 23,
          "Time": 23
         },
         {
          "Donated": 1,
          "Frequency": 6,
          "Monetary": 1500,
          "Recency": 5,
          "Time": 28
         },
         {
          "Donated": 1,
          "Frequency": 11,
          "Monetary": 2750,
          "Recency": 4,
          "Time": 61
         },
         {
          "Donated": 2,
          "Frequency": 9,
          "Monetary": 2250,
          "Recency": 4,
          "Time": 38
         },
         {
          "Donated": 1,
          "Frequency": 14,
          "Monetary": 3500,
          "Recency": 4,
          "Time": 40
         },
         {
          "Donated": 1,
          "Frequency": 1,
          "Monetary": 250,
          "Recency": 4,
          "Time": 4
         },
         {
          "Donated": 2,
          "Frequency": 1,
          "Monetary": 250,
          "Recency": 2,
          "Time": 2
         },
         {
          "Donated": 1,
          "Frequency": 4,
          "Monetary": 1000,
          "Recency": 2,
          "Time": 16
         },
         {
          "Donated": 1,
          "Frequency": 2,
          "Monetary": 500,
          "Recency": 11,
          "Time": 24
         },
         {
          "Donated": 1,
          "Frequency": 6,
          "Monetary": 1500,
          "Recency": 4,
          "Time": 35
         },
         {
          "Donated": 2,
          "Frequency": 13,
          "Monetary": 3250,
          "Recency": 0,
          "Time": 28
         },
         {
          "Donated": 1,
          "Frequency": 7,
          "Monetary": 1750,
          "Recency": 2,
          "Time": 77
         },
         {
          "Donated": 2,
          "Frequency": 3,
          "Monetary": 750,
          "Recency": 2,
          "Time": 4
         },
         {
          "Donated": 1,
          "Frequency": 8,
          "Monetary": 2000,
          "Recency": 4,
          "Time": 21
         },
         {
          "Donated": 1,
          "Frequency": 2,
          "Monetary": 500,
          "Recency": 16,
          "Time": 16
         },
         {
          "Donated": 1,
          "Frequency": 4,
          "Monetary": 1000,
          "Recency": 14,
          "Time": 40
         },
         {
          "Donated": 1,
          "Frequency": 24,
          "Monetary": 6000,
          "Recency": 5,
          "Time": 79
         },
         {
          "Donated": 1,
          "Frequency": 1,
          "Monetary": 250,
          "Recency": 11,
          "Time": 11
         },
         {
          "Donated": 1,
          "Frequency": 3,
          "Monetary": 750,
          "Recency": 21,
          "Time": 35
         },
         {
          "Donated": 1,
          "Frequency": 4,
          "Monetary": 1000,
          "Recency": 2,
          "Time": 16
         },
         {
          "Donated": 1,
          "Frequency": 1,
          "Monetary": 250,
          "Recency": 11,
          "Time": 11
         },
         {
          "Donated": 1,
          "Frequency": 4,
          "Monetary": 1000,
          "Recency": 2,
          "Time": 16
         },
         {
          "Donated": 2,
          "Frequency": 5,
          "Monetary": 1250,
          "Recency": 16,
          "Time": 40
         },
         {
          "Donated": 1,
          "Frequency": 12,
          "Monetary": 3000,
          "Recency": 16,
          "Time": 50
         },
         {
          "Donated": 1,
          "Frequency": 1,
          "Monetary": 250,
          "Recency": 14,
          "Time": 14
         },
         {
          "Donated": 1,
          "Frequency": 3,
          "Monetary": 750,
          "Recency": 35,
          "Time": 64
         },
         {
          "Donated": 1,
          "Frequency": 7,
          "Monetary": 1750,
          "Recency": 14,
          "Time": 47
         },
         {
          "Donated": 1,
          "Frequency": 1,
          "Monetary": 250,
          "Recency": 11,
          "Time": 11
         },
         {
          "Donated": 1,
          "Frequency": 12,
          "Monetary": 3000,
          "Recency": 2,
          "Time": 52
         },
         {
          "Donated": 1,
          "Frequency": 18,
          "Monetary": 4500,
          "Recency": 14,
          "Time": 78
         },
         {
          "Donated": 1,
          "Frequency": 1,
          "Monetary": 250,
          "Recency": 2,
          "Time": 2
         },
         {
          "Donated": 1,
          "Frequency": 4,
          "Monetary": 1000,
          "Recency": 4,
          "Time": 16
         },
         {
          "Donated": 1,
          "Frequency": 2,
          "Monetary": 500,
          "Recency": 21,
          "Time": 25
         },
         {
          "Donated": 1,
          "Frequency": 2,
          "Monetary": 500,
          "Recency": 21,
          "Time": 41
         },
         {
          "Donated": 1,
          "Frequency": 11,
          "Monetary": 2750,
          "Recency": 12,
          "Time": 39
         },
         {
          "Donated": 1,
          "Frequency": 7,
          "Monetary": 1750,
          "Recency": 11,
          "Time": 75
         },
         {
          "Donated": 1,
          "Frequency": 8,
          "Monetary": 2000,
          "Recency": 11,
          "Time": 72
         },
         {
          "Donated": 1,
          "Frequency": 3,
          "Monetary": 750,
          "Recency": 6,
          "Time": 26
         },
         {
          "Donated": 1,
          "Frequency": 3,
          "Monetary": 750,
          "Recency": 11,
          "Time": 37
         },
         {
          "Donated": 1,
          "Frequency": 1,
          "Monetary": 250,
          "Recency": 11,
          "Time": 11
         },
         {
          "Donated": 1,
          "Frequency": 5,
          "Monetary": 1250,
          "Recency": 2,
          "Time": 26
         },
         {
          "Donated": 1,
          "Frequency": 4,
          "Monetary": 1000,
          "Recency": 23,
          "Time": 45
         },
         {
          "Donated": 1,
          "Frequency": 3,
          "Monetary": 750,
          "Recency": 16,
          "Time": 35
         },
         {
          "Donated": 1,
          "Frequency": 2,
          "Monetary": 500,
          "Recency": 2,
          "Time": 22
         },
         {
          "Donated": 1,
          "Frequency": 2,
          "Monetary": 500,
          "Recency": 21,
          "Time": 23
         },
         {
          "Donated": 1,
          "Frequency": 2,
          "Monetary": 500,
          "Recency": 2,
          "Time": 11
         },
         {
          "Donated": 1,
          "Frequency": 1,
          "Monetary": 250,
          "Recency": 4,
          "Time": 4
         },
         {
          "Donated": 1,
          "Frequency": 2,
          "Monetary": 500,
          "Recency": 23,
          "Time": 87
         },
         {
          "Donated": 1,
          "Frequency": 1,
          "Monetary": 250,
          "Recency": 21,
          "Time": 21
         },
         {
          "Donated": 1,
          "Frequency": 3,
          "Monetary": 750,
          "Recency": 4,
          "Time": 16
         },
         {
          "Donated": 2,
          "Frequency": 8,
          "Monetary": 2000,
          "Recency": 4,
          "Time": 46
         },
         {
          "Donated": 1,
          "Frequency": 11,
          "Monetary": 2750,
          "Recency": 4,
          "Time": 78
         },
         {
          "Donated": 1,
          "Frequency": 4,
          "Monetary": 1000,
          "Recency": 2,
          "Time": 43
         },
         {
          "Donated": 1,
          "Frequency": 3,
          "Monetary": 750,
          "Recency": 14,
          "Time": 21
         },
         {
          "Donated": 1,
          "Frequency": 12,
          "Monetary": 3000,
          "Recency": 7,
          "Time": 86
         },
         {
          "Donated": 1,
          "Frequency": 3,
          "Monetary": 750,
          "Recency": 2,
          "Time": 14
         },
         {
          "Donated": 1,
          "Frequency": 1,
          "Monetary": 250,
          "Recency": 14,
          "Time": 14
         },
         {
          "Donated": 1,
          "Frequency": 7,
          "Monetary": 1750,
          "Recency": 11,
          "Time": 64
         },
         {
          "Donated": 1,
          "Frequency": 6,
          "Monetary": 1500,
          "Recency": 25,
          "Time": 50
         },
         {
          "Donated": 2,
          "Frequency": 20,
          "Monetary": 5000,
          "Recency": 4,
          "Time": 69
         },
         {
          "Donated": 1,
          "Frequency": 3,
          "Monetary": 750,
          "Recency": 14,
          "Time": 41
         },
         {
          "Donated": 1,
          "Frequency": 1,
          "Monetary": 250,
          "Recency": 2,
          "Time": 2
         },
         {
          "Donated": 2,
          "Frequency": 21,
          "Monetary": 5250,
          "Recency": 3,
          "Time": 42
         },
         {
          "Donated": 1,
          "Frequency": 7,
          "Monetary": 1750,
          "Recency": 16,
          "Time": 38
         },
         {
          "Donated": 1,
          "Frequency": 3,
          "Monetary": 750,
          "Recency": 16,
          "Time": 21
         },
         {
          "Donated": 1,
          "Frequency": 1,
          "Monetary": 250,
          "Recency": 2,
          "Time": 2
         },
         {
          "Donated": 1,
          "Frequency": 12,
          "Monetary": 3000,
          "Recency": 2,
          "Time": 98
         },
         {
          "Donated": 1,
          "Frequency": 2,
          "Monetary": 500,
          "Recency": 21,
          "Time": 23
         },
         {
          "Donated": 1,
          "Frequency": 1,
          "Monetary": 250,
          "Recency": 4,
          "Time": 4
         },
         {
          "Donated": 2,
          "Frequency": 1,
          "Monetary": 250,
          "Recency": 4,
          "Time": 4
         },
         {
          "Donated": 1,
          "Frequency": 1,
          "Monetary": 250,
          "Recency": 21,
          "Time": 21
         },
         {
          "Donated": 2,
          "Frequency": 10,
          "Monetary": 2500,
          "Recency": 4,
          "Time": 28
         },
         {
          "Donated": 1,
          "Frequency": 2,
          "Monetary": 500,
          "Recency": 2,
          "Time": 33
         },
         {
          "Donated": 1,
          "Frequency": 2,
          "Monetary": 500,
          "Recency": 4,
          "Time": 41
         },
         {
          "Donated": 2,
          "Frequency": 2,
          "Monetary": 500,
          "Recency": 2,
          "Time": 11
         },
         {
          "Donated": 1,
          "Frequency": 5,
          "Monetary": 1250,
          "Recency": 2,
          "Time": 37
         },
         {
          "Donated": 1,
          "Frequency": 4,
          "Monetary": 1000,
          "Recency": 2,
          "Time": 23
         },
         {
          "Donated": 1,
          "Frequency": 3,
          "Monetary": 750,
          "Recency": 13,
          "Time": 16
         },
         {
          "Donated": 1,
          "Frequency": 9,
          "Monetary": 2250,
          "Recency": 4,
          "Time": 52
         },
         {
          "Donated": 1,
          "Frequency": 1,
          "Monetary": 250,
          "Recency": 16,
          "Time": 16
         },
         {
          "Donated": 1,
          "Frequency": 3,
          "Monetary": 750,
          "Recency": 11,
          "Time": 23
         },
         {
          "Donated": 1,
          "Frequency": 3,
          "Monetary": 750,
          "Recency": 14,
          "Time": 26
         },
         {
          "Donated": 1,
          "Frequency": 5,
          "Monetary": 1250,
          "Recency": 11,
          "Time": 35
         },
         {
          "Donated": 1,
          "Frequency": 1,
          "Monetary": 250,
          "Recency": 16,
          "Time": 16
         },
         {
          "Donated": 1,
          "Frequency": 23,
          "Monetary": 5750,
          "Recency": 4,
          "Time": 58
         },
         {
          "Donated": 1,
          "Frequency": 2,
          "Monetary": 500,
          "Recency": 21,
          "Time": 26
         },
         {
          "Donated": 2,
          "Frequency": 6,
          "Monetary": 1500,
          "Recency": 2,
          "Time": 28
         },
         {
          "Donated": 1,
          "Frequency": 6,
          "Monetary": 1500,
          "Recency": 2,
          "Time": 75
         },
         {
          "Donated": 1,
          "Frequency": 7,
          "Monetary": 1750,
          "Recency": 2,
          "Time": 76
         },
         {
          "Donated": 1,
          "Frequency": 4,
          "Monetary": 1000,
          "Recency": 11,
          "Time": 61
         },
         {
          "Donated": 1,
          "Frequency": 9,
          "Monetary": 2250,
          "Recency": 1,
          "Time": 51
         },
         {
          "Donated": 1,
          "Frequency": 2,
          "Monetary": 500,
          "Recency": 2,
          "Time": 14
         },
         {
          "Donated": 1,
          "Frequency": 9,
          "Monetary": 2250,
          "Recency": 2,
          "Time": 75
         },
         {
          "Donated": 1,
          "Frequency": 5,
          "Monetary": 1250,
          "Recency": 4,
          "Time": 23
         },
         {
          "Donated": 1,
          "Frequency": 2,
          "Monetary": 500,
          "Recency": 14,
          "Time": 16
         },
         {
          "Donated": 1,
          "Frequency": 9,
          "Monetary": 2250,
          "Recency": 12,
          "Time": 60
         },
         {
          "Donated": 2,
          "Frequency": 7,
          "Monetary": 1750,
          "Recency": 16,
          "Time": 87
         },
         {
          "Donated": 2,
          "Frequency": 34,
          "Monetary": 8500,
          "Recency": 2,
          "Time": 77
         },
         {
          "Donated": 1,
          "Frequency": 38,
          "Monetary": 9500,
          "Recency": 23,
          "Time": 98
         },
         {
          "Donated": 1,
          "Frequency": 7,
          "Monetary": 1750,
          "Recency": 14,
          "Time": 45
         },
         {
          "Donated": 1,
          "Frequency": 11,
          "Monetary": 2750,
          "Recency": 2,
          "Time": 23
         },
         {
          "Donated": 1,
          "Frequency": 3,
          "Monetary": 750,
          "Recency": 11,
          "Time": 76
         },
         {
          "Donated": 2,
          "Frequency": 4,
          "Monetary": 1000,
          "Recency": 14,
          "Time": 22
         },
         {
          "Donated": 1,
          "Frequency": 1,
          "Monetary": 250,
          "Recency": 16,
          "Time": 16
         },
         {
          "Donated": 1,
          "Frequency": 4,
          "Monetary": 1000,
          "Recency": 4,
          "Time": 26
         },
         {
          "Donated": 1,
          "Frequency": 2,
          "Monetary": 500,
          "Recency": 11,
          "Time": 52
         },
         {
          "Donated": 1,
          "Frequency": 1,
          "Monetary": 250,
          "Recency": 2,
          "Time": 2
         },
         {
          "Donated": 1,
          "Frequency": 1,
          "Monetary": 250,
          "Recency": 21,
          "Time": 21
         },
         {
          "Donated": 1,
          "Frequency": 2,
          "Monetary": 500,
          "Recency": 4,
          "Time": 4
         },
         {
          "Donated": 1,
          "Frequency": 1,
          "Monetary": 250,
          "Recency": 16,
          "Time": 16
         },
         {
          "Donated": 2,
          "Frequency": 2,
          "Monetary": 500,
          "Recency": 2,
          "Time": 11
         },
         {
          "Donated": 1,
          "Frequency": 3,
          "Monetary": 750,
          "Recency": 14,
          "Time": 79
         },
         {
          "Donated": 1,
          "Frequency": 44,
          "Monetary": 11000,
          "Recency": 2,
          "Time": 98
         },
         {
          "Donated": 2,
          "Frequency": 5,
          "Monetary": 1250,
          "Recency": 26,
          "Time": 49
         },
         {
          "Donated": 1,
          "Frequency": 3,
          "Monetary": 750,
          "Recency": 16,
          "Time": 23
         },
         {
          "Donated": 1,
          "Frequency": 6,
          "Monetary": 1500,
          "Recency": 4,
          "Time": 30
         },
         {
          "Donated": 1,
          "Frequency": 5,
          "Monetary": 1250,
          "Recency": 4,
          "Time": 28
         },
         {
          "Donated": 1,
          "Frequency": 3,
          "Monetary": 750,
          "Recency": 14,
          "Time": 28
         },
         {
          "Donated": 2,
          "Frequency": 16,
          "Monetary": 4000,
          "Recency": 4,
          "Time": 98
         },
         {
          "Donated": 1,
          "Frequency": 6,
          "Monetary": 1500,
          "Recency": 4,
          "Time": 47
         },
         {
          "Donated": 2,
          "Frequency": 1,
          "Monetary": 250,
          "Recency": 4,
          "Time": 4
         },
         {
          "Donated": 1,
          "Frequency": 9,
          "Monetary": 2250,
          "Recency": 9,
          "Time": 54
         },
         {
          "Donated": 1,
          "Frequency": 7,
          "Monetary": 1750,
          "Recency": 23,
          "Time": 88
         },
         {
          "Donated": 1,
          "Frequency": 1,
          "Monetary": 250,
          "Recency": 11,
          "Time": 11
         },
         {
          "Donated": 1,
          "Frequency": 1,
          "Monetary": 250,
          "Recency": 23,
          "Time": 23
         },
         {
          "Donated": 2,
          "Frequency": 6,
          "Monetary": 1500,
          "Recency": 4,
          "Time": 38
         },
         {
          "Donated": 1,
          "Frequency": 3,
          "Monetary": 750,
          "Recency": 23,
          "Time": 40
         },
         {
          "Donated": 1,
          "Frequency": 3,
          "Monetary": 750,
          "Recency": 16,
          "Time": 46
         },
         {
          "Donated": 1,
          "Frequency": 1,
          "Monetary": 250,
          "Recency": 4,
          "Time": 4
         },
         {
          "Donated": 1,
          "Frequency": 7,
          "Monetary": 1750,
          "Recency": 11,
          "Time": 37
         },
         {
          "Donated": 1,
          "Frequency": 3,
          "Monetary": 750,
          "Recency": 23,
          "Time": 28
         },
         {
          "Donated": 1,
          "Frequency": 6,
          "Monetary": 1500,
          "Recency": 23,
          "Time": 45
         },
         {
          "Donated": 1,
          "Frequency": 1,
          "Monetary": 250,
          "Recency": 38,
          "Time": 38
         },
         {
          "Donated": 1,
          "Frequency": 2,
          "Monetary": 500,
          "Recency": 16,
          "Time": 70
         },
         {
          "Donated": 1,
          "Frequency": 1,
          "Monetary": 250,
          "Recency": 21,
          "Time": 21
         },
         {
          "Donated": 2,
          "Frequency": 4,
          "Monetary": 1000,
          "Recency": 2,
          "Time": 16
         },
         {
          "Donated": 2,
          "Frequency": 6,
          "Monetary": 1500,
          "Recency": 4,
          "Time": 28
         },
         {
          "Donated": 1,
          "Frequency": 4,
          "Monetary": 1000,
          "Recency": 14,
          "Time": 26
         },
         {
          "Donated": 1,
          "Frequency": 3,
          "Monetary": 750,
          "Recency": 11,
          "Time": 26
         },
         {
          "Donated": 1,
          "Frequency": 16,
          "Monetary": 4000,
          "Recency": 3,
          "Time": 74
         },
         {
          "Donated": 1,
          "Frequency": 7,
          "Monetary": 1750,
          "Recency": 13,
          "Time": 76
         },
         {
          "Donated": 1,
          "Frequency": 2,
          "Monetary": 500,
          "Recency": 2,
          "Time": 16
         },
         {
          "Donated": 2,
          "Frequency": 9,
          "Monetary": 2250,
          "Recency": 2,
          "Time": 22
         },
         {
          "Donated": 1,
          "Frequency": 2,
          "Monetary": 500,
          "Recency": 2,
          "Time": 4
         },
         {
          "Donated": 2,
          "Frequency": 2,
          "Monetary": 500,
          "Recency": 14,
          "Time": 14
         },
         {
          "Donated": 1,
          "Frequency": 16,
          "Monetary": 4000,
          "Recency": 2,
          "Time": 81
         },
         {
          "Donated": 1,
          "Frequency": 3,
          "Monetary": 750,
          "Recency": 23,
          "Time": 41
         },
         {
          "Donated": 1,
          "Frequency": 4,
          "Monetary": 1000,
          "Recency": 14,
          "Time": 57
         },
         {
          "Donated": 1,
          "Frequency": 1,
          "Monetary": 250,
          "Recency": 14,
          "Time": 14
         },
         {
          "Donated": 1,
          "Frequency": 1,
          "Monetary": 250,
          "Recency": 23,
          "Time": 23
         },
         {
          "Donated": 1,
          "Frequency": 1,
          "Monetary": 250,
          "Recency": 38,
          "Time": 38
         },
         {
          "Donated": 1,
          "Frequency": 3,
          "Monetary": 750,
          "Recency": 21,
          "Time": 35
         },
         {
          "Donated": 1,
          "Frequency": 5,
          "Monetary": 1250,
          "Recency": 11,
          "Time": 41
         },
         {
          "Donated": 1,
          "Frequency": 6,
          "Monetary": 1500,
          "Recency": 11,
          "Time": 71
         },
         {
          "Donated": 1,
          "Frequency": 1,
          "Monetary": 250,
          "Recency": 16,
          "Time": 16
         },
         {
          "Donated": 1,
          "Frequency": 14,
          "Monetary": 3500,
          "Recency": 5,
          "Time": 86
         },
         {
          "Donated": 1,
          "Frequency": 2,
          "Monetary": 500,
          "Recency": 4,
          "Time": 4
         },
         {
          "Donated": 2,
          "Frequency": 8,
          "Monetary": 2000,
          "Recency": 14,
          "Time": 50
         },
         {
          "Donated": 2,
          "Frequency": 5,
          "Monetary": 1250,
          "Recency": 9,
          "Time": 51
         },
         {
          "Donated": 1,
          "Frequency": 7,
          "Monetary": 1750,
          "Recency": 2,
          "Time": 29
         },
         {
          "Donated": 1,
          "Frequency": 6,
          "Monetary": 1500,
          "Recency": 21,
          "Time": 86
         },
         {
          "Donated": 1,
          "Frequency": 7,
          "Monetary": 1750,
          "Recency": 14,
          "Time": 72
         },
         {
          "Donated": 1,
          "Frequency": 2,
          "Monetary": 500,
          "Recency": 16,
          "Time": 26
         },
         {
          "Donated": 1,
          "Frequency": 4,
          "Monetary": 1000,
          "Recency": 14,
          "Time": 64
         },
         {
          "Donated": 1,
          "Frequency": 2,
          "Monetary": 500,
          "Recency": 14,
          "Time": 14
         },
         {
          "Donated": 1,
          "Frequency": 1,
          "Monetary": 250,
          "Recency": 21,
          "Time": 21
         },
         {
          "Donated": 1,
          "Frequency": 5,
          "Monetary": 1250,
          "Recency": 14,
          "Time": 28
         },
         {
          "Donated": 1,
          "Frequency": 2,
          "Monetary": 500,
          "Recency": 4,
          "Time": 29
         },
         {
          "Donated": 1,
          "Frequency": 1,
          "Monetary": 250,
          "Recency": 14,
          "Time": 14
         },
         {
          "Donated": 1,
          "Frequency": 9,
          "Monetary": 2250,
          "Recency": 2,
          "Time": 36
         },
         {
          "Donated": 1,
          "Frequency": 2,
          "Monetary": 500,
          "Recency": 4,
          "Time": 4
         },
         {
          "Donated": 1,
          "Frequency": 10,
          "Monetary": 2500,
          "Recency": 2,
          "Time": 64
         },
         {
          "Donated": 1,
          "Frequency": 6,
          "Monetary": 1500,
          "Recency": 14,
          "Time": 51
         },
         {
          "Donated": 2,
          "Frequency": 14,
          "Monetary": 3500,
          "Recency": 2,
          "Time": 48
         },
         {
          "Donated": 1,
          "Frequency": 3,
          "Monetary": 750,
          "Recency": 23,
          "Time": 89
         },
         {
          "Donated": 1,
          "Frequency": 11,
          "Monetary": 2750,
          "Recency": 11,
          "Time": 42
         },
         {
          "Donated": 1,
          "Frequency": 2,
          "Monetary": 500,
          "Recency": 23,
          "Time": 23
         },
         {
          "Donated": 1,
          "Frequency": 5,
          "Monetary": 1250,
          "Recency": 2,
          "Time": 63
         },
         {
          "Donated": 1,
          "Frequency": 5,
          "Monetary": 1250,
          "Recency": 23,
          "Time": 33
         },
         {
          "Donated": 2,
          "Frequency": 2,
          "Monetary": 500,
          "Recency": 2,
          "Time": 4
         },
         {
          "Donated": 1,
          "Frequency": 14,
          "Monetary": 3500,
          "Recency": 23,
          "Time": 93
         },
         {
          "Donated": 1,
          "Frequency": 9,
          "Monetary": 2250,
          "Recency": 2,
          "Time": 74
         },
         {
          "Donated": 1,
          "Frequency": 7,
          "Monetary": 1750,
          "Recency": 11,
          "Time": 29
         },
         {
          "Donated": 1,
          "Frequency": 4,
          "Monetary": 1000,
          "Recency": 21,
          "Time": 52
         },
         {
          "Donated": 2,
          "Frequency": 6,
          "Monetary": 1500,
          "Recency": 2,
          "Time": 15
         },
         {
          "Donated": 1,
          "Frequency": 2,
          "Monetary": 500,
          "Recency": 4,
          "Time": 4
         },
         {
          "Donated": 2,
          "Frequency": 4,
          "Monetary": 1000,
          "Recency": 4,
          "Time": 43
         },
         {
          "Donated": 1,
          "Frequency": 2,
          "Monetary": 500,
          "Recency": 2,
          "Time": 23
         },
         {
          "Donated": 2,
          "Frequency": 1,
          "Monetary": 250,
          "Recency": 4,
          "Time": 4
         },
         {
          "Donated": 1,
          "Frequency": 12,
          "Monetary": 3000,
          "Recency": 12,
          "Time": 58
         },
         {
          "Donated": 2,
          "Frequency": 20,
          "Monetary": 5000,
          "Recency": 2,
          "Time": 45
         },
         {
          "Donated": 1,
          "Frequency": 4,
          "Monetary": 1000,
          "Recency": 16,
          "Time": 28
         },
         {
          "Donated": 1,
          "Frequency": 3,
          "Monetary": 750,
          "Recency": 21,
          "Time": 64
         },
         {
          "Donated": 1,
          "Frequency": 1,
          "Monetary": 250,
          "Recency": 4,
          "Time": 4
         },
         {
          "Donated": 1,
          "Frequency": 3,
          "Monetary": 750,
          "Recency": 14,
          "Time": 83
         },
         {
          "Donated": 1,
          "Frequency": 2,
          "Monetary": 500,
          "Recency": 16,
          "Time": 16
         },
         {
          "Donated": 1,
          "Frequency": 2,
          "Monetary": 500,
          "Recency": 2,
          "Time": 11
         },
         {
          "Donated": 1,
          "Frequency": 2,
          "Monetary": 500,
          "Recency": 0,
          "Time": 4
         },
         {
          "Donated": 1,
          "Frequency": 6,
          "Monetary": 1500,
          "Recency": 4,
          "Time": 14
         },
         {
          "Donated": 1,
          "Frequency": 6,
          "Monetary": 1500,
          "Recency": 11,
          "Time": 58
         },
         {
          "Donated": 2,
          "Frequency": 8,
          "Monetary": 2000,
          "Recency": 4,
          "Time": 26
         },
         {
          "Donated": 1,
          "Frequency": 6,
          "Monetary": 1500,
          "Recency": 14,
          "Time": 34
         },
         {
          "Donated": 2,
          "Frequency": 11,
          "Monetary": 2750,
          "Recency": 2,
          "Time": 46
         },
         {
          "Donated": 1,
          "Frequency": 14,
          "Monetary": 3500,
          "Recency": 3,
          "Time": 35
         },
         {
          "Donated": 1,
          "Frequency": 5,
          "Monetary": 1250,
          "Recency": 21,
          "Time": 60
         },
         {
          "Donated": 2,
          "Frequency": 5,
          "Monetary": 1250,
          "Recency": 4,
          "Time": 16
         },
         {
          "Donated": 2,
          "Frequency": 5,
          "Monetary": 1250,
          "Recency": 11,
          "Time": 37
         },
         {
          "Donated": 1,
          "Frequency": 2,
          "Monetary": 500,
          "Recency": 14,
          "Time": 35
         },
         {
          "Donated": 2,
          "Frequency": 6,
          "Monetary": 1500,
          "Recency": 2,
          "Time": 26
         },
         {
          "Donated": 1,
          "Frequency": 3,
          "Monetary": 750,
          "Recency": 14,
          "Time": 26
         },
         {
          "Donated": 1,
          "Frequency": 5,
          "Monetary": 1250,
          "Recency": 4,
          "Time": 34
         },
         {
          "Donated": 1,
          "Frequency": 4,
          "Monetary": 1000,
          "Recency": 4,
          "Time": 18
         },
         {
          "Donated": 2,
          "Frequency": 2,
          "Monetary": 500,
          "Recency": 2,
          "Time": 10
         },
         {
          "Donated": 1,
          "Frequency": 16,
          "Monetary": 4000,
          "Recency": 21,
          "Time": 64
         },
         {
          "Donated": 1,
          "Frequency": 2,
          "Monetary": 500,
          "Recency": 9,
          "Time": 11
         },
         {
          "Donated": 1,
          "Frequency": 3,
          "Monetary": 750,
          "Recency": 2,
          "Time": 35
         },
         {
          "Donated": 1,
          "Frequency": 4,
          "Monetary": 1000,
          "Recency": 11,
          "Time": 58
         },
         {
          "Donated": 1,
          "Frequency": 1,
          "Monetary": 250,
          "Recency": 2,
          "Time": 2
         },
         {
          "Donated": 1,
          "Frequency": 3,
          "Monetary": 750,
          "Recency": 14,
          "Time": 31
         },
         {
          "Donated": 1,
          "Frequency": 1,
          "Monetary": 250,
          "Recency": 39,
          "Time": 39
         },
         {
          "Donated": 1,
          "Frequency": 1,
          "Monetary": 250,
          "Recency": 2,
          "Time": 2
         },
         {
          "Donated": 2,
          "Frequency": 2,
          "Monetary": 500,
          "Recency": 11,
          "Time": 38
         },
         {
          "Donated": 1,
          "Frequency": 1,
          "Monetary": 250,
          "Recency": 2,
          "Time": 2
         },
         {
          "Donated": 1,
          "Frequency": 1,
          "Monetary": 250,
          "Recency": 16,
          "Time": 16
         },
         {
          "Donated": 1,
          "Frequency": 7,
          "Monetary": 1750,
          "Recency": 16,
          "Time": 28
         },
         {
          "Donated": 1,
          "Frequency": 1,
          "Monetary": 250,
          "Recency": 23,
          "Time": 23
         },
         {
          "Donated": 1,
          "Frequency": 3,
          "Monetary": 750,
          "Recency": 6,
          "Time": 14
         },
         {
          "Donated": 1,
          "Frequency": 4,
          "Monetary": 1000,
          "Recency": 16,
          "Time": 40
         },
         {
          "Donated": 1,
          "Frequency": 1,
          "Monetary": 250,
          "Recency": 16,
          "Time": 16
         },
         {
          "Donated": 2,
          "Frequency": 4,
          "Monetary": 1000,
          "Recency": 3,
          "Time": 29
         },
         {
          "Donated": 1,
          "Frequency": 4,
          "Monetary": 1000,
          "Recency": 23,
          "Time": 52
         },
         {
          "Donated": 2,
          "Frequency": 14,
          "Monetary": 3500,
          "Recency": 20,
          "Time": 69
         },
         {
          "Donated": 1,
          "Frequency": 1,
          "Monetary": 250,
          "Recency": 2,
          "Time": 2
         },
         {
          "Donated": 2,
          "Frequency": 4,
          "Monetary": 1000,
          "Recency": 14,
          "Time": 23
         },
         {
          "Donated": 1,
          "Frequency": 1,
          "Monetary": 250,
          "Recency": 16,
          "Time": 16
         },
         {
          "Donated": 1,
          "Frequency": 9,
          "Monetary": 2250,
          "Recency": 8,
          "Time": 64
         },
         {
          "Donated": 1,
          "Frequency": 1,
          "Monetary": 250,
          "Recency": 4,
          "Time": 4
         },
         {
          "Donated": 1,
          "Frequency": 2,
          "Monetary": 500,
          "Recency": 9,
          "Time": 26
         },
         {
          "Donated": 2,
          "Frequency": 4,
          "Monetary": 1000,
          "Recency": 4,
          "Time": 26
         },
         {
          "Donated": 1,
          "Frequency": 1,
          "Monetary": 250,
          "Recency": 14,
          "Time": 14
         },
         {
          "Donated": 2,
          "Frequency": 7,
          "Monetary": 1750,
          "Recency": 5,
          "Time": 26
         },
         {
          "Donated": 1,
          "Frequency": 3,
          "Monetary": 750,
          "Recency": 2,
          "Time": 19
         },
         {
          "Donated": 2,
          "Frequency": 4,
          "Monetary": 1000,
          "Recency": 11,
          "Time": 16
         },
         {
          "Donated": 2,
          "Frequency": 26,
          "Monetary": 6500,
          "Recency": 0,
          "Time": 76
         },
         {
          "Donated": 1,
          "Frequency": 8,
          "Monetary": 2000,
          "Recency": 3,
          "Time": 50
         },
         {
          "Donated": 2,
          "Frequency": 1,
          "Monetary": 250,
          "Recency": 3,
          "Time": 3
         },
         {
          "Donated": 1,
          "Frequency": 2,
          "Monetary": 500,
          "Recency": 21,
          "Time": 52
         },
         {
          "Donated": 2,
          "Frequency": 7,
          "Monetary": 1750,
          "Recency": 4,
          "Time": 22
         },
         {
          "Donated": 1,
          "Frequency": 4,
          "Monetary": 1000,
          "Recency": 14,
          "Time": 30
         },
         {
          "Donated": 2,
          "Frequency": 16,
          "Monetary": 4000,
          "Recency": 1,
          "Time": 35
         },
         {
          "Donated": 1,
          "Frequency": 3,
          "Monetary": 750,
          "Recency": 21,
          "Time": 38
         },
         {
          "Donated": 1,
          "Frequency": 7,
          "Monetary": 1750,
          "Recency": 4,
          "Time": 25
         },
         {
          "Donated": 1,
          "Frequency": 6,
          "Monetary": 1500,
          "Recency": 11,
          "Time": 27
         },
         {
          "Donated": 1,
          "Frequency": 1,
          "Monetary": 250,
          "Recency": 4,
          "Time": 4
         },
         {
          "Donated": 1,
          "Frequency": 2,
          "Monetary": 500,
          "Recency": 21,
          "Time": 23
         },
         {
          "Donated": 2,
          "Frequency": 3,
          "Monetary": 750,
          "Recency": 11,
          "Time": 16
         },
         {
          "Donated": 1,
          "Frequency": 3,
          "Monetary": 750,
          "Recency": 9,
          "Time": 34
         },
         {
          "Donated": 1,
          "Frequency": 1,
          "Monetary": 250,
          "Recency": 16,
          "Time": 16
         },
         {
          "Donated": 1,
          "Frequency": 9,
          "Monetary": 2250,
          "Recency": 4,
          "Time": 46
         },
         {
          "Donated": 2,
          "Frequency": 1,
          "Monetary": 250,
          "Recency": 4,
          "Time": 4
         },
         {
          "Donated": 1,
          "Frequency": 14,
          "Monetary": 3500,
          "Recency": 1,
          "Time": 95
         },
         {
          "Donated": 1,
          "Frequency": 2,
          "Monetary": 500,
          "Recency": 2,
          "Time": 4
         },
         {
          "Donated": 1,
          "Frequency": 2,
          "Monetary": 500,
          "Recency": 2,
          "Time": 2
         },
         {
          "Donated": 1,
          "Frequency": 4,
          "Monetary": 1000,
          "Recency": 11,
          "Time": 27
         },
         {
          "Donated": 2,
          "Frequency": 8,
          "Monetary": 2000,
          "Recency": 4,
          "Time": 40
         },
         {
          "Donated": 1,
          "Frequency": 17,
          "Monetary": 4250,
          "Recency": 3,
          "Time": 86
         },
         {
          "Donated": 1,
          "Frequency": 1,
          "Monetary": 250,
          "Recency": 4,
          "Time": 4
         },
         {
          "Donated": 1,
          "Frequency": 6,
          "Monetary": 1500,
          "Recency": 2,
          "Time": 45
         },
         {
          "Donated": 2,
          "Frequency": 5,
          "Monetary": 1250,
          "Recency": 2,
          "Time": 33
         },
         {
          "Donated": 1,
          "Frequency": 8,
          "Monetary": 2000,
          "Recency": 0,
          "Time": 59
         },
         {
          "Donated": 1,
          "Frequency": 5,
          "Monetary": 1250,
          "Recency": 3,
          "Time": 38
         },
         {
          "Donated": 2,
          "Frequency": 15,
          "Monetary": 3750,
          "Recency": 2,
          "Time": 49
         },
         {
          "Donated": 1,
          "Frequency": 3,
          "Monetary": 750,
          "Recency": 16,
          "Time": 86
         },
         {
          "Donated": 2,
          "Frequency": 4,
          "Monetary": 1000,
          "Recency": 4,
          "Time": 14
         },
         {
          "Donated": 1,
          "Frequency": 4,
          "Monetary": 1000,
          "Recency": 11,
          "Time": 34
         },
         {
          "Donated": 1,
          "Frequency": 1,
          "Monetary": 250,
          "Recency": 14,
          "Time": 14
         },
         {
          "Donated": 2,
          "Frequency": 2,
          "Monetary": 500,
          "Recency": 14,
          "Time": 21
         },
         {
          "Donated": 2,
          "Frequency": 4,
          "Monetary": 1000,
          "Recency": 4,
          "Time": 4
         }
        ]
       },
       "encoding": {
        "color": {
         "field": "Donated",
         "scale": {
          "scheme": "goldorange"
         },
         "type": "quantitative"
        },
        "x": {
         "field": "Monetary",
         "type": "quantitative"
        },
        "y": {
         "aggregate": "count",
         "stack": null,
         "type": "quantitative"
        }
       },
       "mark": {
        "opacity": 0.7,
        "type": "bar"
       },
       "title": "Donor Monetary Distribution"
      },
      "image/png": "[encoded data removed]",
      "text/plain": [
       "<VegaLite 3 object>\n",
       "\n",
       "If you see this message, it means the renderer has not been properly enabled\n",
       "for the frontend that you are using. For more information, see\n",
       "https://altair-viz.github.io/user_guide/troubleshooting.html\n"
      ]
     },
     "execution_count": 18,
     "metadata": {},
     "output_type": "execute_result"
    }
   ],
   "source": [
    "alt.Chart(blood_df_train).mark_bar(opacity = 0.7).encode(\n",
    "    alt.X(\"Monetary\"),\n",
    "    alt.Y('count()', stack=None),\n",
    "    color=alt.Color('Donated', scale=alt.Scale(scheme='goldorange'))\n",
    ").properties(title = \"Donor Monetary Distribution\")"
   ]
  },
  {
   "cell_type": "code",
   "execution_count": 19,
   "metadata": {},
   "outputs": [
    {
     "data": {
      "application/vnd.vegalite.v3+json": {
       "$schema": "https://vega.github.io/schema/vega-lite/v3.4.0.json",
       "config": {
        "mark": {
         "tooltip": null
        },
        "view": {
         "height": 300,
         "width": 400
        }
       },
       "data": {
        "name": "data-32548e9b1b08a896c9597c0c8174a7e1"
       },
       "datasets": {
        "data-32548e9b1b08a896c9597c0c8174a7e1": [
         {
          "Donated": 1,
          "Frequency": 9,
          "Monetary": 2250,
          "Recency": 8,
          "Time": 58
         },
         {
          "Donated": 1,
          "Frequency": 4,
          "Monetary": 1000,
          "Recency": 13,
          "Time": 21
         },
         {
          "Donated": 1,
          "Frequency": 6,
          "Monetary": 1500,
          "Recency": 4,
          "Time": 39
         },
         {
          "Donated": 1,
          "Frequency": 5,
          "Monetary": 1250,
          "Recency": 4,
          "Time": 46
         },
         {
          "Donated": 1,
          "Frequency": 6,
          "Monetary": 1500,
          "Recency": 3,
          "Time": 21
         },
         {
          "Donated": 1,
          "Frequency": 1,
          "Monetary": 250,
          "Recency": 9,
          "Time": 9
         },
         {
          "Donated": 1,
          "Frequency": 2,
          "Monetary": 500,
          "Recency": 14,
          "Time": 14
         },
         {
          "Donated": 1,
          "Frequency": 7,
          "Monetary": 1750,
          "Recency": 2,
          "Time": 77
         },
         {
          "Donated": 1,
          "Frequency": 2,
          "Monetary": 500,
          "Recency": 2,
          "Time": 41
         },
         {
          "Donated": 1,
          "Frequency": 2,
          "Monetary": 500,
          "Recency": 9,
          "Time": 52
         },
         {
          "Donated": 1,
          "Frequency": 1,
          "Monetary": 250,
          "Recency": 23,
          "Time": 23
         },
         {
          "Donated": 1,
          "Frequency": 4,
          "Monetary": 1000,
          "Recency": 16,
          "Time": 58
         },
         {
          "Donated": 1,
          "Frequency": 4,
          "Monetary": 1000,
          "Recency": 2,
          "Time": 26
         },
         {
          "Donated": 2,
          "Frequency": 2,
          "Monetary": 500,
          "Recency": 4,
          "Time": 4
         },
         {
          "Donated": 1,
          "Frequency": 3,
          "Monetary": 750,
          "Recency": 23,
          "Time": 35
         },
         {
          "Donated": 2,
          "Frequency": 1,
          "Monetary": 250,
          "Recency": 2,
          "Time": 2
         },
         {
          "Donated": 1,
          "Frequency": 4,
          "Monetary": 1000,
          "Recency": 9,
          "Time": 65
         },
         {
          "Donated": 2,
          "Frequency": 3,
          "Monetary": 750,
          "Recency": 14,
          "Time": 19
         },
         {
          "Donated": 1,
          "Frequency": 7,
          "Monetary": 1750,
          "Recency": 4,
          "Time": 58
         },
         {
          "Donated": 1,
          "Frequency": 16,
          "Monetary": 4000,
          "Recency": 2,
          "Time": 64
         },
         {
          "Donated": 1,
          "Frequency": 1,
          "Monetary": 250,
          "Recency": 4,
          "Time": 4
         },
         {
          "Donated": 1,
          "Frequency": 1,
          "Monetary": 250,
          "Recency": 40,
          "Time": 40
         },
         {
          "Donated": 1,
          "Frequency": 2,
          "Monetary": 500,
          "Recency": 14,
          "Time": 14
         },
         {
          "Donated": 1,
          "Frequency": 10,
          "Monetary": 2500,
          "Recency": 16,
          "Time": 89
         },
         {
          "Donated": 1,
          "Frequency": 6,
          "Monetary": 1500,
          "Recency": 23,
          "Time": 70
         },
         {
          "Donated": 1,
          "Frequency": 7,
          "Monetary": 1750,
          "Recency": 4,
          "Time": 62
         },
         {
          "Donated": 1,
          "Frequency": 6,
          "Monetary": 1500,
          "Recency": 4,
          "Time": 52
         },
         {
          "Donated": 2,
          "Frequency": 10,
          "Monetary": 2500,
          "Recency": 4,
          "Time": 28
         },
         {
          "Donated": 1,
          "Frequency": 4,
          "Monetary": 1000,
          "Recency": 11,
          "Time": 74
         },
         {
          "Donated": 1,
          "Frequency": 2,
          "Monetary": 500,
          "Recency": 4,
          "Time": 14
         },
         {
          "Donated": 2,
          "Frequency": 2,
          "Monetary": 500,
          "Recency": 21,
          "Time": 21
         },
         {
          "Donated": 1,
          "Frequency": 6,
          "Monetary": 1500,
          "Recency": 16,
          "Time": 81
         },
         {
          "Donated": 1,
          "Frequency": 4,
          "Monetary": 1000,
          "Recency": 11,
          "Time": 28
         },
         {
          "Donated": 2,
          "Frequency": 33,
          "Monetary": 8250,
          "Recency": 4,
          "Time": 98
         },
         {
          "Donated": 1,
          "Frequency": 1,
          "Monetary": 250,
          "Recency": 72,
          "Time": 72
         },
         {
          "Donated": 2,
          "Frequency": 7,
          "Monetary": 1750,
          "Recency": 2,
          "Time": 32
         },
         {
          "Donated": 1,
          "Frequency": 3,
          "Monetary": 750,
          "Recency": 16,
          "Time": 19
         },
         {
          "Donated": 1,
          "Frequency": 3,
          "Monetary": 750,
          "Recency": 11,
          "Time": 15
         },
         {
          "Donated": 2,
          "Frequency": 3,
          "Monetary": 750,
          "Recency": 2,
          "Time": 16
         },
         {
          "Donated": 1,
          "Frequency": 1,
          "Monetary": 250,
          "Recency": 4,
          "Time": 4
         },
         {
          "Donated": 1,
          "Frequency": 4,
          "Monetary": 1000,
          "Recency": 2,
          "Time": 26
         },
         {
          "Donated": 1,
          "Frequency": 1,
          "Monetary": 250,
          "Recency": 4,
          "Time": 4
         },
         {
          "Donated": 2,
          "Frequency": 43,
          "Monetary": 10750,
          "Recency": 2,
          "Time": 86
         },
         {
          "Donated": 2,
          "Frequency": 11,
          "Monetary": 2750,
          "Recency": 4,
          "Time": 64
         },
         {
          "Donated": 2,
          "Frequency": 6,
          "Monetary": 1500,
          "Recency": 4,
          "Time": 23
         },
         {
          "Donated": 1,
          "Frequency": 3,
          "Monetary": 750,
          "Recency": 2,
          "Time": 24
         },
         {
          "Donated": 1,
          "Frequency": 13,
          "Monetary": 3250,
          "Recency": 12,
          "Time": 59
         },
         {
          "Donated": 1,
          "Frequency": 15,
          "Monetary": 3750,
          "Recency": 12,
          "Time": 71
         },
         {
          "Donated": 1,
          "Frequency": 12,
          "Monetary": 3000,
          "Recency": 11,
          "Time": 58
         },
         {
          "Donated": 1,
          "Frequency": 4,
          "Monetary": 1000,
          "Recency": 2,
          "Time": 11
         },
         {
          "Donated": 1,
          "Frequency": 1,
          "Monetary": 250,
          "Recency": 2,
          "Time": 2
         },
         {
          "Donated": 1,
          "Frequency": 2,
          "Monetary": 500,
          "Recency": 21,
          "Time": 21
         },
         {
          "Donated": 1,
          "Frequency": 4,
          "Monetary": 1000,
          "Recency": 2,
          "Time": 35
         },
         {
          "Donated": 2,
          "Frequency": 3,
          "Monetary": 750,
          "Recency": 4,
          "Time": 25
         },
         {
          "Donated": 1,
          "Frequency": 4,
          "Monetary": 1000,
          "Recency": 10,
          "Time": 16
         },
         {
          "Donated": 1,
          "Frequency": 1,
          "Monetary": 250,
          "Recency": 21,
          "Time": 21
         },
         {
          "Donated": 2,
          "Frequency": 2,
          "Monetary": 500,
          "Recency": 4,
          "Time": 4
         },
         {
          "Donated": 2,
          "Frequency": 6,
          "Monetary": 1500,
          "Recency": 2,
          "Time": 41
         },
         {
          "Donated": 2,
          "Frequency": 13,
          "Monetary": 3250,
          "Recency": 2,
          "Time": 53
         },
         {
          "Donated": 1,
          "Frequency": 9,
          "Monetary": 2250,
          "Recency": 4,
          "Time": 40
         },
         {
          "Donated": 2,
          "Frequency": 1,
          "Monetary": 250,
          "Recency": 23,
          "Time": 23
         },
         {
          "Donated": 1,
          "Frequency": 15,
          "Monetary": 3750,
          "Recency": 2,
          "Time": 64
         },
         {
          "Donated": 1,
          "Frequency": 3,
          "Monetary": 750,
          "Recency": 2,
          "Time": 21
         },
         {
          "Donated": 1,
          "Frequency": 2,
          "Monetary": 500,
          "Recency": 23,
          "Time": 23
         },
         {
          "Donated": 1,
          "Frequency": 1,
          "Monetary": 250,
          "Recency": 4,
          "Time": 4
         },
         {
          "Donated": 2,
          "Frequency": 4,
          "Monetary": 1000,
          "Recency": 2,
          "Time": 14
         },
         {
          "Donated": 1,
          "Frequency": 2,
          "Monetary": 500,
          "Recency": 2,
          "Time": 11
         },
         {
          "Donated": 1,
          "Frequency": 6,
          "Monetary": 1500,
          "Recency": 11,
          "Time": 28
         },
         {
          "Donated": 1,
          "Frequency": 4,
          "Monetary": 1000,
          "Recency": 23,
          "Time": 87
         },
         {
          "Donated": 2,
          "Frequency": 6,
          "Monetary": 1500,
          "Recency": 2,
          "Time": 28
         },
         {
          "Donated": 2,
          "Frequency": 11,
          "Monetary": 2750,
          "Recency": 9,
          "Time": 49
         },
         {
          "Donated": 1,
          "Frequency": 3,
          "Monetary": 750,
          "Recency": 23,
          "Time": 33
         },
         {
          "Donated": 1,
          "Frequency": 1,
          "Monetary": 250,
          "Recency": 2,
          "Time": 2
         },
         {
          "Donated": 2,
          "Frequency": 2,
          "Monetary": 500,
          "Recency": 2,
          "Time": 4
         },
         {
          "Donated": 1,
          "Frequency": 16,
          "Monetary": 4000,
          "Recency": 14,
          "Time": 70
         },
         {
          "Donated": 2,
          "Frequency": 8,
          "Monetary": 2000,
          "Recency": 8,
          "Time": 52
         },
         {
          "Donated": 2,
          "Frequency": 8,
          "Monetary": 2000,
          "Recency": 4,
          "Time": 34
         },
         {
          "Donated": 1,
          "Frequency": 5,
          "Monetary": 1250,
          "Recency": 7,
          "Time": 35
         },
         {
          "Donated": 1,
          "Frequency": 5,
          "Monetary": 1250,
          "Recency": 4,
          "Time": 58
         },
         {
          "Donated": 1,
          "Frequency": 1,
          "Monetary": 250,
          "Recency": 11,
          "Time": 11
         },
         {
          "Donated": 2,
          "Frequency": 13,
          "Monetary": 3250,
          "Recency": 2,
          "Time": 76
         },
         {
          "Donated": 1,
          "Frequency": 7,
          "Monetary": 1750,
          "Recency": 4,
          "Time": 52
         },
         {
          "Donated": 1,
          "Frequency": 5,
          "Monetary": 1250,
          "Recency": 14,
          "Time": 50
         },
         {
          "Donated": 1,
          "Frequency": 8,
          "Monetary": 2000,
          "Recency": 14,
          "Time": 50
         },
         {
          "Donated": 1,
          "Frequency": 2,
          "Monetary": 500,
          "Recency": 4,
          "Time": 59
         },
         {
          "Donated": 1,
          "Frequency": 3,
          "Monetary": 750,
          "Recency": 11,
          "Time": 28
         },
         {
          "Donated": 1,
          "Frequency": 1,
          "Monetary": 250,
          "Recency": 23,
          "Time": 23
         },
         {
          "Donated": 1,
          "Frequency": 5,
          "Monetary": 1250,
          "Recency": 23,
          "Time": 58
         },
         {
          "Donated": 2,
          "Frequency": 5,
          "Monetary": 1250,
          "Recency": 4,
          "Time": 26
         },
         {
          "Donated": 2,
          "Frequency": 41,
          "Monetary": 10250,
          "Recency": 2,
          "Time": 98
         },
         {
          "Donated": 1,
          "Frequency": 5,
          "Monetary": 1250,
          "Recency": 4,
          "Time": 58
         },
         {
          "Donated": 1,
          "Frequency": 2,
          "Monetary": 500,
          "Recency": 14,
          "Time": 14
         },
         {
          "Donated": 2,
          "Frequency": 6,
          "Monetary": 1500,
          "Recency": 2,
          "Time": 16
         },
         {
          "Donated": 1,
          "Frequency": 3,
          "Monetary": 750,
          "Recency": 11,
          "Time": 76
         },
         {
          "Donated": 2,
          "Frequency": 3,
          "Monetary": 750,
          "Recency": 4,
          "Time": 16
         },
         {
          "Donated": 1,
          "Frequency": 2,
          "Monetary": 500,
          "Recency": 11,
          "Time": 70
         },
         {
          "Donated": 1,
          "Frequency": 2,
          "Monetary": 500,
          "Recency": 11,
          "Time": 11
         },
         {
          "Donated": 2,
          "Frequency": 16,
          "Monetary": 4000,
          "Recency": 4,
          "Time": 38
         },
         {
          "Donated": 1,
          "Frequency": 2,
          "Monetary": 500,
          "Recency": 11,
          "Time": 11
         },
         {
          "Donated": 1,
          "Frequency": 2,
          "Monetary": 500,
          "Recency": 14,
          "Time": 29
         },
         {
          "Donated": 1,
          "Frequency": 2,
          "Monetary": 500,
          "Recency": 3,
          "Time": 23
         },
         {
          "Donated": 1,
          "Frequency": 2,
          "Monetary": 500,
          "Recency": 4,
          "Time": 52
         },
         {
          "Donated": 1,
          "Frequency": 3,
          "Monetary": 750,
          "Recency": 4,
          "Time": 16
         },
         {
          "Donated": 1,
          "Frequency": 3,
          "Monetary": 750,
          "Recency": 4,
          "Time": 71
         },
         {
          "Donated": 1,
          "Frequency": 3,
          "Monetary": 750,
          "Recency": 14,
          "Time": 35
         },
         {
          "Donated": 2,
          "Frequency": 6,
          "Monetary": 1500,
          "Recency": 16,
          "Time": 35
         },
         {
          "Donated": 1,
          "Frequency": 7,
          "Monetary": 1750,
          "Recency": 14,
          "Time": 35
         },
         {
          "Donated": 2,
          "Frequency": 9,
          "Monetary": 2250,
          "Recency": 4,
          "Time": 28
         },
         {
          "Donated": 1,
          "Frequency": 1,
          "Monetary": 250,
          "Recency": 16,
          "Time": 16
         },
         {
          "Donated": 1,
          "Frequency": 1,
          "Monetary": 250,
          "Recency": 23,
          "Time": 23
         },
         {
          "Donated": 1,
          "Frequency": 10,
          "Monetary": 2500,
          "Recency": 2,
          "Time": 52
         },
         {
          "Donated": 1,
          "Frequency": 2,
          "Monetary": 500,
          "Recency": 4,
          "Time": 31
         },
         {
          "Donated": 1,
          "Frequency": 6,
          "Monetary": 1500,
          "Recency": 4,
          "Time": 14
         },
         {
          "Donated": 2,
          "Frequency": 5,
          "Monetary": 1250,
          "Recency": 4,
          "Time": 16
         },
         {
          "Donated": 2,
          "Frequency": 6,
          "Monetary": 1500,
          "Recency": 4,
          "Time": 35
         },
         {
          "Donated": 1,
          "Frequency": 1,
          "Monetary": 250,
          "Recency": 21,
          "Time": 21
         },
         {
          "Donated": 2,
          "Frequency": 9,
          "Monetary": 2250,
          "Recency": 4,
          "Time": 26
         },
         {
          "Donated": 1,
          "Frequency": 8,
          "Monetary": 2000,
          "Recency": 16,
          "Time": 76
         },
         {
          "Donated": 1,
          "Frequency": 5,
          "Monetary": 1250,
          "Recency": 11,
          "Time": 38
         },
         {
          "Donated": 1,
          "Frequency": 7,
          "Monetary": 1750,
          "Recency": 1,
          "Time": 57
         },
         {
          "Donated": 2,
          "Frequency": 5,
          "Monetary": 1250,
          "Recency": 2,
          "Time": 11
         },
         {
          "Donated": 1,
          "Frequency": 6,
          "Monetary": 1500,
          "Recency": 16,
          "Time": 35
         },
         {
          "Donated": 2,
          "Frequency": 5,
          "Monetary": 1250,
          "Recency": 2,
          "Time": 16
         },
         {
          "Donated": 1,
          "Frequency": 1,
          "Monetary": 250,
          "Recency": 11,
          "Time": 11
         },
         {
          "Donated": 1,
          "Frequency": 1,
          "Monetary": 250,
          "Recency": 2,
          "Time": 2
         },
         {
          "Donated": 1,
          "Frequency": 8,
          "Monetary": 2000,
          "Recency": 11,
          "Time": 48
         },
         {
          "Donated": 1,
          "Frequency": 6,
          "Monetary": 1500,
          "Recency": 11,
          "Time": 41
         },
         {
          "Donated": 1,
          "Frequency": 14,
          "Monetary": 3500,
          "Recency": 7,
          "Time": 48
         },
         {
          "Donated": 1,
          "Frequency": 2,
          "Monetary": 500,
          "Recency": 4,
          "Time": 4
         },
         {
          "Donated": 1,
          "Frequency": 16,
          "Monetary": 4000,
          "Recency": 14,
          "Time": 98
         },
         {
          "Donated": 1,
          "Frequency": 3,
          "Monetary": 750,
          "Recency": 14,
          "Time": 52
         },
         {
          "Donated": 1,
          "Frequency": 2,
          "Monetary": 500,
          "Recency": 11,
          "Time": 17
         },
         {
          "Donated": 2,
          "Frequency": 1,
          "Monetary": 250,
          "Recency": 2,
          "Time": 2
         },
         {
          "Donated": 2,
          "Frequency": 7,
          "Monetary": 1750,
          "Recency": 2,
          "Time": 46
         },
         {
          "Donated": 1,
          "Frequency": 1,
          "Monetary": 250,
          "Recency": 23,
          "Time": 23
         },
         {
          "Donated": 1,
          "Frequency": 1,
          "Monetary": 250,
          "Recency": 23,
          "Time": 23
         },
         {
          "Donated": 2,
          "Frequency": 13,
          "Monetary": 3250,
          "Recency": 2,
          "Time": 32
         },
         {
          "Donated": 1,
          "Frequency": 11,
          "Monetary": 2750,
          "Recency": 7,
          "Time": 89
         },
         {
          "Donated": 2,
          "Frequency": 6,
          "Monetary": 1500,
          "Recency": 2,
          "Time": 15
         },
         {
          "Donated": 2,
          "Frequency": 6,
          "Monetary": 1500,
          "Recency": 2,
          "Time": 16
         },
         {
          "Donated": 1,
          "Frequency": 13,
          "Monetary": 3250,
          "Recency": 14,
          "Time": 57
         },
         {
          "Donated": 1,
          "Frequency": 14,
          "Monetary": 3500,
          "Recency": 1,
          "Time": 58
         },
         {
          "Donated": 1,
          "Frequency": 8,
          "Monetary": 2000,
          "Recency": 14,
          "Time": 46
         },
         {
          "Donated": 2,
          "Frequency": 50,
          "Monetary": 12500,
          "Recency": 2,
          "Time": 98
         },
         {
          "Donated": 2,
          "Frequency": 17,
          "Monetary": 4250,
          "Recency": 4,
          "Time": 71
         },
         {
          "Donated": 1,
          "Frequency": 3,
          "Monetary": 750,
          "Recency": 14,
          "Time": 33
         },
         {
          "Donated": 1,
          "Frequency": 7,
          "Monetary": 1750,
          "Recency": 16,
          "Time": 64
         },
         {
          "Donated": 2,
          "Frequency": 4,
          "Monetary": 1000,
          "Recency": 4,
          "Time": 34
         },
         {
          "Donated": 1,
          "Frequency": 3,
          "Monetary": 750,
          "Recency": 21,
          "Time": 26
         },
         {
          "Donated": 1,
          "Frequency": 24,
          "Monetary": 6000,
          "Recency": 11,
          "Time": 64
         },
         {
          "Donated": 1,
          "Frequency": 8,
          "Monetary": 2000,
          "Recency": 14,
          "Time": 26
         },
         {
          "Donated": 2,
          "Frequency": 11,
          "Monetary": 2750,
          "Recency": 2,
          "Time": 41
         },
         {
          "Donated": 2,
          "Frequency": 9,
          "Monetary": 2250,
          "Recency": 11,
          "Time": 72
         },
         {
          "Donated": 1,
          "Frequency": 1,
          "Monetary": 250,
          "Recency": 21,
          "Time": 21
         },
         {
          "Donated": 1,
          "Frequency": 9,
          "Monetary": 2250,
          "Recency": 9,
          "Time": 16
         },
         {
          "Donated": 1,
          "Frequency": 1,
          "Monetary": 250,
          "Recency": 23,
          "Time": 23
         },
         {
          "Donated": 1,
          "Frequency": 9,
          "Monetary": 2250,
          "Recency": 9,
          "Time": 45
         },
         {
          "Donated": 1,
          "Frequency": 6,
          "Monetary": 1500,
          "Recency": 11,
          "Time": 26
         },
         {
          "Donated": 2,
          "Frequency": 1,
          "Monetary": 250,
          "Recency": 11,
          "Time": 11
         },
         {
          "Donated": 1,
          "Frequency": 4,
          "Monetary": 1000,
          "Recency": 14,
          "Time": 26
         },
         {
          "Donated": 1,
          "Frequency": 2,
          "Monetary": 500,
          "Recency": 2,
          "Time": 11
         },
         {
          "Donated": 1,
          "Frequency": 1,
          "Monetary": 250,
          "Recency": 14,
          "Time": 14
         },
         {
          "Donated": 1,
          "Frequency": 2,
          "Monetary": 500,
          "Recency": 11,
          "Time": 16
         },
         {
          "Donated": 1,
          "Frequency": 1,
          "Monetary": 250,
          "Recency": 16,
          "Time": 16
         },
         {
          "Donated": 1,
          "Frequency": 3,
          "Monetary": 750,
          "Recency": 21,
          "Time": 40
         },
         {
          "Donated": 1,
          "Frequency": 5,
          "Monetary": 1250,
          "Recency": 4,
          "Time": 58
         },
         {
          "Donated": 1,
          "Frequency": 1,
          "Monetary": 250,
          "Recency": 4,
          "Time": 4
         },
         {
          "Donated": 1,
          "Frequency": 16,
          "Monetary": 4000,
          "Recency": 15,
          "Time": 82
         },
         {
          "Donated": 1,
          "Frequency": 5,
          "Monetary": 1250,
          "Recency": 14,
          "Time": 14
         },
         {
          "Donated": 1,
          "Frequency": 4,
          "Monetary": 1000,
          "Recency": 16,
          "Time": 23
         },
         {
          "Donated": 1,
          "Frequency": 4,
          "Monetary": 1000,
          "Recency": 2,
          "Time": 70
         },
         {
          "Donated": 1,
          "Frequency": 12,
          "Monetary": 3000,
          "Recency": 23,
          "Time": 86
         },
         {
          "Donated": 1,
          "Frequency": 1,
          "Monetary": 250,
          "Recency": 14,
          "Time": 14
         },
         {
          "Donated": 1,
          "Frequency": 5,
          "Monetary": 1250,
          "Recency": 14,
          "Time": 26
         },
         {
          "Donated": 1,
          "Frequency": 5,
          "Monetary": 1250,
          "Recency": 16,
          "Time": 27
         },
         {
          "Donated": 2,
          "Frequency": 2,
          "Monetary": 500,
          "Recency": 2,
          "Time": 11
         },
         {
          "Donated": 1,
          "Frequency": 2,
          "Monetary": 500,
          "Recency": 4,
          "Time": 9
         },
         {
          "Donated": 1,
          "Frequency": 7,
          "Monetary": 1750,
          "Recency": 16,
          "Time": 39
         },
         {
          "Donated": 1,
          "Frequency": 17,
          "Monetary": 4250,
          "Recency": 6,
          "Time": 70
         },
         {
          "Donated": 1,
          "Frequency": 7,
          "Monetary": 1750,
          "Recency": 16,
          "Time": 93
         },
         {
          "Donated": 1,
          "Frequency": 12,
          "Monetary": 3000,
          "Recency": 2,
          "Time": 82
         },
         {
          "Donated": 1,
          "Frequency": 7,
          "Monetary": 1750,
          "Recency": 14,
          "Time": 26
         },
         {
          "Donated": 1,
          "Frequency": 1,
          "Monetary": 250,
          "Recency": 11,
          "Time": 11
         },
         {
          "Donated": 1,
          "Frequency": 13,
          "Monetary": 3250,
          "Recency": 21,
          "Time": 57
         },
         {
          "Donated": 1,
          "Frequency": 2,
          "Monetary": 500,
          "Recency": 2,
          "Time": 2
         },
         {
          "Donated": 2,
          "Frequency": 17,
          "Monetary": 4250,
          "Recency": 11,
          "Time": 79
         },
         {
          "Donated": 1,
          "Frequency": 2,
          "Monetary": 500,
          "Recency": 14,
          "Time": 14
         },
         {
          "Donated": 1,
          "Frequency": 1,
          "Monetary": 250,
          "Recency": 74,
          "Time": 74
         },
         {
          "Donated": 1,
          "Frequency": 3,
          "Monetary": 750,
          "Recency": 2,
          "Time": 22
         },
         {
          "Donated": 1,
          "Frequency": 7,
          "Monetary": 1750,
          "Recency": 4,
          "Time": 58
         },
         {
          "Donated": 1,
          "Frequency": 1,
          "Monetary": 250,
          "Recency": 2,
          "Time": 2
         },
         {
          "Donated": 2,
          "Frequency": 1,
          "Monetary": 250,
          "Recency": 4,
          "Time": 4
         },
         {
          "Donated": 2,
          "Frequency": 5,
          "Monetary": 1250,
          "Recency": 3,
          "Time": 12
         },
         {
          "Donated": 1,
          "Frequency": 1,
          "Monetary": 250,
          "Recency": 2,
          "Time": 2
         },
         {
          "Donated": 1,
          "Frequency": 16,
          "Monetary": 4000,
          "Recency": 11,
          "Time": 89
         },
         {
          "Donated": 1,
          "Frequency": 5,
          "Monetary": 1250,
          "Recency": 15,
          "Time": 33
         },
         {
          "Donated": 1,
          "Frequency": 2,
          "Monetary": 500,
          "Recency": 14,
          "Time": 14
         },
         {
          "Donated": 1,
          "Frequency": 11,
          "Monetary": 2750,
          "Recency": 4,
          "Time": 95
         },
         {
          "Donated": 1,
          "Frequency": 2,
          "Monetary": 500,
          "Recency": 4,
          "Time": 30
         },
         {
          "Donated": 1,
          "Frequency": 2,
          "Monetary": 500,
          "Recency": 14,
          "Time": 14
         },
         {
          "Donated": 2,
          "Frequency": 10,
          "Monetary": 2500,
          "Recency": 4,
          "Time": 28
         },
         {
          "Donated": 1,
          "Frequency": 14,
          "Monetary": 3500,
          "Recency": 16,
          "Time": 83
         },
         {
          "Donated": 1,
          "Frequency": 9,
          "Monetary": 2250,
          "Recency": 11,
          "Time": 38
         },
         {
          "Donated": 1,
          "Frequency": 5,
          "Monetary": 1250,
          "Recency": 2,
          "Time": 34
         },
         {
          "Donated": 1,
          "Frequency": 10,
          "Monetary": 2500,
          "Recency": 11,
          "Time": 35
         },
         {
          "Donated": 1,
          "Frequency": 2,
          "Monetary": 500,
          "Recency": 21,
          "Time": 33
         },
         {
          "Donated": 1,
          "Frequency": 1,
          "Monetary": 250,
          "Recency": 14,
          "Time": 14
         },
         {
          "Donated": 1,
          "Frequency": 10,
          "Monetary": 2500,
          "Recency": 8,
          "Time": 63
         },
         {
          "Donated": 2,
          "Frequency": 5,
          "Monetary": 1250,
          "Recency": 4,
          "Time": 23
         },
         {
          "Donated": 1,
          "Frequency": 7,
          "Monetary": 1750,
          "Recency": 4,
          "Time": 28
         },
         {
          "Donated": 1,
          "Frequency": 1,
          "Monetary": 250,
          "Recency": 14,
          "Time": 14
         },
         {
          "Donated": 2,
          "Frequency": 3,
          "Monetary": 750,
          "Recency": 2,
          "Time": 4
         },
         {
          "Donated": 1,
          "Frequency": 5,
          "Monetary": 1250,
          "Recency": 4,
          "Time": 58
         },
         {
          "Donated": 2,
          "Frequency": 1,
          "Monetary": 250,
          "Recency": 4,
          "Time": 4
         },
         {
          "Donated": 2,
          "Frequency": 5,
          "Monetary": 1250,
          "Recency": 4,
          "Time": 11
         },
         {
          "Donated": 1,
          "Frequency": 3,
          "Monetary": 750,
          "Recency": 4,
          "Time": 34
         },
         {
          "Donated": 1,
          "Frequency": 1,
          "Monetary": 250,
          "Recency": 4,
          "Time": 4
         },
         {
          "Donated": 1,
          "Frequency": 5,
          "Monetary": 1250,
          "Recency": 11,
          "Time": 33
         },
         {
          "Donated": 2,
          "Frequency": 3,
          "Monetary": 750,
          "Recency": 11,
          "Time": 40
         },
         {
          "Donated": 1,
          "Frequency": 8,
          "Monetary": 2000,
          "Recency": 16,
          "Time": 28
         },
         {
          "Donated": 1,
          "Frequency": 8,
          "Monetary": 2000,
          "Recency": 13,
          "Time": 26
         },
         {
          "Donated": 1,
          "Frequency": 1,
          "Monetary": 250,
          "Recency": 21,
          "Time": 21
         },
         {
          "Donated": 1,
          "Frequency": 14,
          "Monetary": 3500,
          "Recency": 4,
          "Time": 86
         },
         {
          "Donated": 1,
          "Frequency": 1,
          "Monetary": 250,
          "Recency": 4,
          "Time": 4
         },
         {
          "Donated": 1,
          "Frequency": 10,
          "Monetary": 2500,
          "Recency": 16,
          "Time": 62
         },
         {
          "Donated": 2,
          "Frequency": 7,
          "Monetary": 1750,
          "Recency": 2,
          "Time": 35
         },
         {
          "Donated": 1,
          "Frequency": 1,
          "Monetary": 250,
          "Recency": 4,
          "Time": 4
         },
         {
          "Donated": 1,
          "Frequency": 7,
          "Monetary": 1750,
          "Recency": 4,
          "Time": 52
         },
         {
          "Donated": 2,
          "Frequency": 22,
          "Monetary": 5500,
          "Recency": 6,
          "Time": 28
         },
         {
          "Donated": 1,
          "Frequency": 7,
          "Monetary": 1750,
          "Recency": 21,
          "Time": 38
         },
         {
          "Donated": 1,
          "Frequency": 11,
          "Monetary": 2750,
          "Recency": 5,
          "Time": 75
         },
         {
          "Donated": 1,
          "Frequency": 6,
          "Monetary": 1500,
          "Recency": 4,
          "Time": 46
         },
         {
          "Donated": 1,
          "Frequency": 5,
          "Monetary": 1250,
          "Recency": 10,
          "Time": 38
         },
         {
          "Donated": 2,
          "Frequency": 16,
          "Monetary": 4000,
          "Recency": 4,
          "Time": 70
         },
         {
          "Donated": 2,
          "Frequency": 12,
          "Monetary": 3000,
          "Recency": 4,
          "Time": 34
         },
         {
          "Donated": 1,
          "Frequency": 1,
          "Monetary": 250,
          "Recency": 16,
          "Time": 16
         },
         {
          "Donated": 1,
          "Frequency": 1,
          "Monetary": 250,
          "Recency": 4,
          "Time": 4
         },
         {
          "Donated": 1,
          "Frequency": 2,
          "Monetary": 500,
          "Recency": 11,
          "Time": 11
         },
         {
          "Donated": 2,
          "Frequency": 5,
          "Monetary": 1250,
          "Recency": 4,
          "Time": 35
         },
         {
          "Donated": 1,
          "Frequency": 1,
          "Monetary": 250,
          "Recency": 2,
          "Time": 2
         },
         {
          "Donated": 1,
          "Frequency": 1,
          "Monetary": 250,
          "Recency": 16,
          "Time": 16
         },
         {
          "Donated": 1,
          "Frequency": 4,
          "Monetary": 1000,
          "Recency": 2,
          "Time": 16
         },
         {
          "Donated": 2,
          "Frequency": 2,
          "Monetary": 500,
          "Recency": 9,
          "Time": 16
         },
         {
          "Donated": 1,
          "Frequency": 1,
          "Monetary": 250,
          "Recency": 4,
          "Time": 4
         },
         {
          "Donated": 1,
          "Frequency": 1,
          "Monetary": 250,
          "Recency": 2,
          "Time": 2
         },
         {
          "Donated": 1,
          "Frequency": 1,
          "Monetary": 250,
          "Recency": 21,
          "Time": 21
         },
         {
          "Donated": 1,
          "Frequency": 11,
          "Monetary": 2750,
          "Recency": 4,
          "Time": 28
         },
         {
          "Donated": 1,
          "Frequency": 1,
          "Monetary": 250,
          "Recency": 21,
          "Time": 21
         },
         {
          "Donated": 1,
          "Frequency": 6,
          "Monetary": 1500,
          "Recency": 4,
          "Time": 35
         },
         {
          "Donated": 1,
          "Frequency": 5,
          "Monetary": 1250,
          "Recency": 14,
          "Time": 64
         },
         {
          "Donated": 1,
          "Frequency": 1,
          "Monetary": 250,
          "Recency": 21,
          "Time": 21
         },
         {
          "Donated": 1,
          "Frequency": 2,
          "Monetary": 500,
          "Recency": 11,
          "Time": 26
         },
         {
          "Donated": 2,
          "Frequency": 3,
          "Monetary": 750,
          "Recency": 16,
          "Time": 21
         },
         {
          "Donated": 1,
          "Frequency": 9,
          "Monetary": 2250,
          "Recency": 4,
          "Time": 28
         },
         {
          "Donated": 1,
          "Frequency": 1,
          "Monetary": 250,
          "Recency": 4,
          "Time": 4
         },
         {
          "Donated": 1,
          "Frequency": 8,
          "Monetary": 2000,
          "Recency": 10,
          "Time": 39
         },
         {
          "Donated": 1,
          "Frequency": 1,
          "Monetary": 250,
          "Recency": 4,
          "Time": 4
         },
         {
          "Donated": 1,
          "Frequency": 2,
          "Monetary": 500,
          "Recency": 2,
          "Time": 14
         },
         {
          "Donated": 2,
          "Frequency": 5,
          "Monetary": 1250,
          "Recency": 14,
          "Time": 28
         },
         {
          "Donated": 2,
          "Frequency": 1,
          "Monetary": 250,
          "Recency": 4,
          "Time": 4
         },
         {
          "Donated": 1,
          "Frequency": 1,
          "Monetary": 250,
          "Recency": 2,
          "Time": 2
         },
         {
          "Donated": 2,
          "Frequency": 13,
          "Monetary": 3250,
          "Recency": 4,
          "Time": 39
         },
         {
          "Donated": 1,
          "Frequency": 15,
          "Monetary": 3750,
          "Recency": 23,
          "Time": 57
         },
         {
          "Donated": 1,
          "Frequency": 1,
          "Monetary": 250,
          "Recency": 11,
          "Time": 11
         },
         {
          "Donated": 1,
          "Frequency": 8,
          "Monetary": 2000,
          "Recency": 23,
          "Time": 69
         },
         {
          "Donated": 1,
          "Frequency": 2,
          "Monetary": 500,
          "Recency": 23,
          "Time": 26
         },
         {
          "Donated": 1,
          "Frequency": 8,
          "Monetary": 2000,
          "Recency": 23,
          "Time": 64
         },
         {
          "Donated": 1,
          "Frequency": 3,
          "Monetary": 750,
          "Recency": 4,
          "Time": 28
         },
         {
          "Donated": 1,
          "Frequency": 1,
          "Monetary": 250,
          "Recency": 16,
          "Time": 16
         },
         {
          "Donated": 1,
          "Frequency": 6,
          "Monetary": 1500,
          "Recency": 2,
          "Time": 22
         },
         {
          "Donated": 1,
          "Frequency": 2,
          "Monetary": 500,
          "Recency": 23,
          "Time": 28
         },
         {
          "Donated": 1,
          "Frequency": 5,
          "Monetary": 1250,
          "Recency": 16,
          "Time": 71
         },
         {
          "Donated": 1,
          "Frequency": 11,
          "Monetary": 2750,
          "Recency": 12,
          "Time": 23
         },
         {
          "Donated": 1,
          "Frequency": 19,
          "Monetary": 4750,
          "Recency": 23,
          "Time": 62
         },
         {
          "Donated": 1,
          "Frequency": 5,
          "Monetary": 1250,
          "Recency": 16,
          "Time": 60
         },
         {
          "Donated": 2,
          "Frequency": 11,
          "Monetary": 2750,
          "Recency": 2,
          "Time": 40
         },
         {
          "Donated": 1,
          "Frequency": 5,
          "Monetary": 1250,
          "Recency": 2,
          "Time": 26
         },
         {
          "Donated": 1,
          "Frequency": 3,
          "Monetary": 750,
          "Recency": 21,
          "Time": 38
         },
         {
          "Donated": 1,
          "Frequency": 1,
          "Monetary": 250,
          "Recency": 23,
          "Time": 23
         },
         {
          "Donated": 1,
          "Frequency": 2,
          "Monetary": 500,
          "Recency": 11,
          "Time": 21
         },
         {
          "Donated": 1,
          "Frequency": 15,
          "Monetary": 3750,
          "Recency": 16,
          "Time": 87
         },
         {
          "Donated": 1,
          "Frequency": 3,
          "Monetary": 750,
          "Recency": 23,
          "Time": 39
         },
         {
          "Donated": 2,
          "Frequency": 7,
          "Monetary": 1750,
          "Recency": 17,
          "Time": 58
         },
         {
          "Donated": 1,
          "Frequency": 22,
          "Monetary": 5500,
          "Recency": 11,
          "Time": 98
         },
         {
          "Donated": 2,
          "Frequency": 7,
          "Monetary": 1750,
          "Recency": 11,
          "Time": 62
         },
         {
          "Donated": 1,
          "Frequency": 6,
          "Monetary": 1500,
          "Recency": 2,
          "Time": 26
         },
         {
          "Donated": 1,
          "Frequency": 6,
          "Monetary": 1500,
          "Recency": 16,
          "Time": 40
         },
         {
          "Donated": 2,
          "Frequency": 7,
          "Monetary": 1750,
          "Recency": 2,
          "Time": 14
         },
         {
          "Donated": 1,
          "Frequency": 3,
          "Monetary": 750,
          "Recency": 16,
          "Time": 34
         },
         {
          "Donated": 1,
          "Frequency": 2,
          "Monetary": 500,
          "Recency": 23,
          "Time": 28
         },
         {
          "Donated": 1,
          "Frequency": 3,
          "Monetary": 750,
          "Recency": 16,
          "Time": 50
         },
         {
          "Donated": 2,
          "Frequency": 1,
          "Monetary": 250,
          "Recency": 22,
          "Time": 22
         },
         {
          "Donated": 1,
          "Frequency": 1,
          "Monetary": 250,
          "Recency": 23,
          "Time": 23
         },
         {
          "Donated": 1,
          "Frequency": 6,
          "Monetary": 1500,
          "Recency": 21,
          "Time": 48
         },
         {
          "Donated": 2,
          "Frequency": 8,
          "Monetary": 2000,
          "Recency": 2,
          "Time": 35
         },
         {
          "Donated": 1,
          "Frequency": 1,
          "Monetary": 250,
          "Recency": 21,
          "Time": 21
         },
         {
          "Donated": 1,
          "Frequency": 3,
          "Monetary": 750,
          "Recency": 21,
          "Time": 35
         },
         {
          "Donated": 1,
          "Frequency": 10,
          "Monetary": 2500,
          "Recency": 2,
          "Time": 49
         },
         {
          "Donated": 1,
          "Frequency": 2,
          "Monetary": 500,
          "Recency": 9,
          "Time": 52
         },
         {
          "Donated": 2,
          "Frequency": 6,
          "Monetary": 1500,
          "Recency": 4,
          "Time": 16
         },
         {
          "Donated": 2,
          "Frequency": 1,
          "Monetary": 250,
          "Recency": 2,
          "Time": 2
         },
         {
          "Donated": 2,
          "Frequency": 8,
          "Monetary": 2000,
          "Recency": 4,
          "Time": 48
         },
         {
          "Donated": 1,
          "Frequency": 1,
          "Monetary": 250,
          "Recency": 23,
          "Time": 23
         },
         {
          "Donated": 2,
          "Frequency": 10,
          "Monetary": 2500,
          "Recency": 1,
          "Time": 43
         },
         {
          "Donated": 2,
          "Frequency": 1,
          "Monetary": 250,
          "Recency": 2,
          "Time": 2
         },
         {
          "Donated": 1,
          "Frequency": 11,
          "Monetary": 2750,
          "Recency": 2,
          "Time": 28
         },
         {
          "Donated": 1,
          "Frequency": 12,
          "Monetary": 3000,
          "Recency": 1,
          "Time": 35
         },
         {
          "Donated": 1,
          "Frequency": 1,
          "Monetary": 250,
          "Recency": 11,
          "Time": 11
         },
         {
          "Donated": 2,
          "Frequency": 14,
          "Monetary": 3500,
          "Recency": 2,
          "Time": 57
         },
         {
          "Donated": 1,
          "Frequency": 5,
          "Monetary": 1250,
          "Recency": 11,
          "Time": 18
         },
         {
          "Donated": 1,
          "Frequency": 2,
          "Monetary": 500,
          "Recency": 18,
          "Time": 23
         },
         {
          "Donated": 2,
          "Frequency": 2,
          "Monetary": 500,
          "Recency": 4,
          "Time": 4
         },
         {
          "Donated": 2,
          "Frequency": 10,
          "Monetary": 2500,
          "Recency": 2,
          "Time": 28
         },
         {
          "Donated": 1,
          "Frequency": 1,
          "Monetary": 250,
          "Recency": 14,
          "Time": 14
         },
         {
          "Donated": 1,
          "Frequency": 8,
          "Monetary": 2000,
          "Recency": 18,
          "Time": 95
         },
         {
          "Donated": 1,
          "Frequency": 2,
          "Monetary": 500,
          "Recency": 4,
          "Time": 23
         },
         {
          "Donated": 2,
          "Frequency": 2,
          "Monetary": 500,
          "Recency": 4,
          "Time": 9
         },
         {
          "Donated": 1,
          "Frequency": 1,
          "Monetary": 250,
          "Recency": 2,
          "Time": 2
         },
         {
          "Donated": 1,
          "Frequency": 1,
          "Monetary": 250,
          "Recency": 23,
          "Time": 23
         },
         {
          "Donated": 1,
          "Frequency": 4,
          "Monetary": 1000,
          "Recency": 16,
          "Time": 45
         },
         {
          "Donated": 1,
          "Frequency": 1,
          "Monetary": 250,
          "Recency": 23,
          "Time": 23
         },
         {
          "Donated": 1,
          "Frequency": 6,
          "Monetary": 1500,
          "Recency": 5,
          "Time": 28
         },
         {
          "Donated": 1,
          "Frequency": 11,
          "Monetary": 2750,
          "Recency": 4,
          "Time": 61
         },
         {
          "Donated": 2,
          "Frequency": 9,
          "Monetary": 2250,
          "Recency": 4,
          "Time": 38
         },
         {
          "Donated": 1,
          "Frequency": 14,
          "Monetary": 3500,
          "Recency": 4,
          "Time": 40
         },
         {
          "Donated": 1,
          "Frequency": 1,
          "Monetary": 250,
          "Recency": 4,
          "Time": 4
         },
         {
          "Donated": 2,
          "Frequency": 1,
          "Monetary": 250,
          "Recency": 2,
          "Time": 2
         },
         {
          "Donated": 1,
          "Frequency": 4,
          "Monetary": 1000,
          "Recency": 2,
          "Time": 16
         },
         {
          "Donated": 1,
          "Frequency": 2,
          "Monetary": 500,
          "Recency": 11,
          "Time": 24
         },
         {
          "Donated": 1,
          "Frequency": 6,
          "Monetary": 1500,
          "Recency": 4,
          "Time": 35
         },
         {
          "Donated": 2,
          "Frequency": 13,
          "Monetary": 3250,
          "Recency": 0,
          "Time": 28
         },
         {
          "Donated": 1,
          "Frequency": 7,
          "Monetary": 1750,
          "Recency": 2,
          "Time": 77
         },
         {
          "Donated": 2,
          "Frequency": 3,
          "Monetary": 750,
          "Recency": 2,
          "Time": 4
         },
         {
          "Donated": 1,
          "Frequency": 8,
          "Monetary": 2000,
          "Recency": 4,
          "Time": 21
         },
         {
          "Donated": 1,
          "Frequency": 2,
          "Monetary": 500,
          "Recency": 16,
          "Time": 16
         },
         {
          "Donated": 1,
          "Frequency": 4,
          "Monetary": 1000,
          "Recency": 14,
          "Time": 40
         },
         {
          "Donated": 1,
          "Frequency": 24,
          "Monetary": 6000,
          "Recency": 5,
          "Time": 79
         },
         {
          "Donated": 1,
          "Frequency": 1,
          "Monetary": 250,
          "Recency": 11,
          "Time": 11
         },
         {
          "Donated": 1,
          "Frequency": 3,
          "Monetary": 750,
          "Recency": 21,
          "Time": 35
         },
         {
          "Donated": 1,
          "Frequency": 4,
          "Monetary": 1000,
          "Recency": 2,
          "Time": 16
         },
         {
          "Donated": 1,
          "Frequency": 1,
          "Monetary": 250,
          "Recency": 11,
          "Time": 11
         },
         {
          "Donated": 1,
          "Frequency": 4,
          "Monetary": 1000,
          "Recency": 2,
          "Time": 16
         },
         {
          "Donated": 2,
          "Frequency": 5,
          "Monetary": 1250,
          "Recency": 16,
          "Time": 40
         },
         {
          "Donated": 1,
          "Frequency": 12,
          "Monetary": 3000,
          "Recency": 16,
          "Time": 50
         },
         {
          "Donated": 1,
          "Frequency": 1,
          "Monetary": 250,
          "Recency": 14,
          "Time": 14
         },
         {
          "Donated": 1,
          "Frequency": 3,
          "Monetary": 750,
          "Recency": 35,
          "Time": 64
         },
         {
          "Donated": 1,
          "Frequency": 7,
          "Monetary": 1750,
          "Recency": 14,
          "Time": 47
         },
         {
          "Donated": 1,
          "Frequency": 1,
          "Monetary": 250,
          "Recency": 11,
          "Time": 11
         },
         {
          "Donated": 1,
          "Frequency": 12,
          "Monetary": 3000,
          "Recency": 2,
          "Time": 52
         },
         {
          "Donated": 1,
          "Frequency": 18,
          "Monetary": 4500,
          "Recency": 14,
          "Time": 78
         },
         {
          "Donated": 1,
          "Frequency": 1,
          "Monetary": 250,
          "Recency": 2,
          "Time": 2
         },
         {
          "Donated": 1,
          "Frequency": 4,
          "Monetary": 1000,
          "Recency": 4,
          "Time": 16
         },
         {
          "Donated": 1,
          "Frequency": 2,
          "Monetary": 500,
          "Recency": 21,
          "Time": 25
         },
         {
          "Donated": 1,
          "Frequency": 2,
          "Monetary": 500,
          "Recency": 21,
          "Time": 41
         },
         {
          "Donated": 1,
          "Frequency": 11,
          "Monetary": 2750,
          "Recency": 12,
          "Time": 39
         },
         {
          "Donated": 1,
          "Frequency": 7,
          "Monetary": 1750,
          "Recency": 11,
          "Time": 75
         },
         {
          "Donated": 1,
          "Frequency": 8,
          "Monetary": 2000,
          "Recency": 11,
          "Time": 72
         },
         {
          "Donated": 1,
          "Frequency": 3,
          "Monetary": 750,
          "Recency": 6,
          "Time": 26
         },
         {
          "Donated": 1,
          "Frequency": 3,
          "Monetary": 750,
          "Recency": 11,
          "Time": 37
         },
         {
          "Donated": 1,
          "Frequency": 1,
          "Monetary": 250,
          "Recency": 11,
          "Time": 11
         },
         {
          "Donated": 1,
          "Frequency": 5,
          "Monetary": 1250,
          "Recency": 2,
          "Time": 26
         },
         {
          "Donated": 1,
          "Frequency": 4,
          "Monetary": 1000,
          "Recency": 23,
          "Time": 45
         },
         {
          "Donated": 1,
          "Frequency": 3,
          "Monetary": 750,
          "Recency": 16,
          "Time": 35
         },
         {
          "Donated": 1,
          "Frequency": 2,
          "Monetary": 500,
          "Recency": 2,
          "Time": 22
         },
         {
          "Donated": 1,
          "Frequency": 2,
          "Monetary": 500,
          "Recency": 21,
          "Time": 23
         },
         {
          "Donated": 1,
          "Frequency": 2,
          "Monetary": 500,
          "Recency": 2,
          "Time": 11
         },
         {
          "Donated": 1,
          "Frequency": 1,
          "Monetary": 250,
          "Recency": 4,
          "Time": 4
         },
         {
          "Donated": 1,
          "Frequency": 2,
          "Monetary": 500,
          "Recency": 23,
          "Time": 87
         },
         {
          "Donated": 1,
          "Frequency": 1,
          "Monetary": 250,
          "Recency": 21,
          "Time": 21
         },
         {
          "Donated": 1,
          "Frequency": 3,
          "Monetary": 750,
          "Recency": 4,
          "Time": 16
         },
         {
          "Donated": 2,
          "Frequency": 8,
          "Monetary": 2000,
          "Recency": 4,
          "Time": 46
         },
         {
          "Donated": 1,
          "Frequency": 11,
          "Monetary": 2750,
          "Recency": 4,
          "Time": 78
         },
         {
          "Donated": 1,
          "Frequency": 4,
          "Monetary": 1000,
          "Recency": 2,
          "Time": 43
         },
         {
          "Donated": 1,
          "Frequency": 3,
          "Monetary": 750,
          "Recency": 14,
          "Time": 21
         },
         {
          "Donated": 1,
          "Frequency": 12,
          "Monetary": 3000,
          "Recency": 7,
          "Time": 86
         },
         {
          "Donated": 1,
          "Frequency": 3,
          "Monetary": 750,
          "Recency": 2,
          "Time": 14
         },
         {
          "Donated": 1,
          "Frequency": 1,
          "Monetary": 250,
          "Recency": 14,
          "Time": 14
         },
         {
          "Donated": 1,
          "Frequency": 7,
          "Monetary": 1750,
          "Recency": 11,
          "Time": 64
         },
         {
          "Donated": 1,
          "Frequency": 6,
          "Monetary": 1500,
          "Recency": 25,
          "Time": 50
         },
         {
          "Donated": 2,
          "Frequency": 20,
          "Monetary": 5000,
          "Recency": 4,
          "Time": 69
         },
         {
          "Donated": 1,
          "Frequency": 3,
          "Monetary": 750,
          "Recency": 14,
          "Time": 41
         },
         {
          "Donated": 1,
          "Frequency": 1,
          "Monetary": 250,
          "Recency": 2,
          "Time": 2
         },
         {
          "Donated": 2,
          "Frequency": 21,
          "Monetary": 5250,
          "Recency": 3,
          "Time": 42
         },
         {
          "Donated": 1,
          "Frequency": 7,
          "Monetary": 1750,
          "Recency": 16,
          "Time": 38
         },
         {
          "Donated": 1,
          "Frequency": 3,
          "Monetary": 750,
          "Recency": 16,
          "Time": 21
         },
         {
          "Donated": 1,
          "Frequency": 1,
          "Monetary": 250,
          "Recency": 2,
          "Time": 2
         },
         {
          "Donated": 1,
          "Frequency": 12,
          "Monetary": 3000,
          "Recency": 2,
          "Time": 98
         },
         {
          "Donated": 1,
          "Frequency": 2,
          "Monetary": 500,
          "Recency": 21,
          "Time": 23
         },
         {
          "Donated": 1,
          "Frequency": 1,
          "Monetary": 250,
          "Recency": 4,
          "Time": 4
         },
         {
          "Donated": 2,
          "Frequency": 1,
          "Monetary": 250,
          "Recency": 4,
          "Time": 4
         },
         {
          "Donated": 1,
          "Frequency": 1,
          "Monetary": 250,
          "Recency": 21,
          "Time": 21
         },
         {
          "Donated": 2,
          "Frequency": 10,
          "Monetary": 2500,
          "Recency": 4,
          "Time": 28
         },
         {
          "Donated": 1,
          "Frequency": 2,
          "Monetary": 500,
          "Recency": 2,
          "Time": 33
         },
         {
          "Donated": 1,
          "Frequency": 2,
          "Monetary": 500,
          "Recency": 4,
          "Time": 41
         },
         {
          "Donated": 2,
          "Frequency": 2,
          "Monetary": 500,
          "Recency": 2,
          "Time": 11
         },
         {
          "Donated": 1,
          "Frequency": 5,
          "Monetary": 1250,
          "Recency": 2,
          "Time": 37
         },
         {
          "Donated": 1,
          "Frequency": 4,
          "Monetary": 1000,
          "Recency": 2,
          "Time": 23
         },
         {
          "Donated": 1,
          "Frequency": 3,
          "Monetary": 750,
          "Recency": 13,
          "Time": 16
         },
         {
          "Donated": 1,
          "Frequency": 9,
          "Monetary": 2250,
          "Recency": 4,
          "Time": 52
         },
         {
          "Donated": 1,
          "Frequency": 1,
          "Monetary": 250,
          "Recency": 16,
          "Time": 16
         },
         {
          "Donated": 1,
          "Frequency": 3,
          "Monetary": 750,
          "Recency": 11,
          "Time": 23
         },
         {
          "Donated": 1,
          "Frequency": 3,
          "Monetary": 750,
          "Recency": 14,
          "Time": 26
         },
         {
          "Donated": 1,
          "Frequency": 5,
          "Monetary": 1250,
          "Recency": 11,
          "Time": 35
         },
         {
          "Donated": 1,
          "Frequency": 1,
          "Monetary": 250,
          "Recency": 16,
          "Time": 16
         },
         {
          "Donated": 1,
          "Frequency": 23,
          "Monetary": 5750,
          "Recency": 4,
          "Time": 58
         },
         {
          "Donated": 1,
          "Frequency": 2,
          "Monetary": 500,
          "Recency": 21,
          "Time": 26
         },
         {
          "Donated": 2,
          "Frequency": 6,
          "Monetary": 1500,
          "Recency": 2,
          "Time": 28
         },
         {
          "Donated": 1,
          "Frequency": 6,
          "Monetary": 1500,
          "Recency": 2,
          "Time": 75
         },
         {
          "Donated": 1,
          "Frequency": 7,
          "Monetary": 1750,
          "Recency": 2,
          "Time": 76
         },
         {
          "Donated": 1,
          "Frequency": 4,
          "Monetary": 1000,
          "Recency": 11,
          "Time": 61
         },
         {
          "Donated": 1,
          "Frequency": 9,
          "Monetary": 2250,
          "Recency": 1,
          "Time": 51
         },
         {
          "Donated": 1,
          "Frequency": 2,
          "Monetary": 500,
          "Recency": 2,
          "Time": 14
         },
         {
          "Donated": 1,
          "Frequency": 9,
          "Monetary": 2250,
          "Recency": 2,
          "Time": 75
         },
         {
          "Donated": 1,
          "Frequency": 5,
          "Monetary": 1250,
          "Recency": 4,
          "Time": 23
         },
         {
          "Donated": 1,
          "Frequency": 2,
          "Monetary": 500,
          "Recency": 14,
          "Time": 16
         },
         {
          "Donated": 1,
          "Frequency": 9,
          "Monetary": 2250,
          "Recency": 12,
          "Time": 60
         },
         {
          "Donated": 2,
          "Frequency": 7,
          "Monetary": 1750,
          "Recency": 16,
          "Time": 87
         },
         {
          "Donated": 2,
          "Frequency": 34,
          "Monetary": 8500,
          "Recency": 2,
          "Time": 77
         },
         {
          "Donated": 1,
          "Frequency": 38,
          "Monetary": 9500,
          "Recency": 23,
          "Time": 98
         },
         {
          "Donated": 1,
          "Frequency": 7,
          "Monetary": 1750,
          "Recency": 14,
          "Time": 45
         },
         {
          "Donated": 1,
          "Frequency": 11,
          "Monetary": 2750,
          "Recency": 2,
          "Time": 23
         },
         {
          "Donated": 1,
          "Frequency": 3,
          "Monetary": 750,
          "Recency": 11,
          "Time": 76
         },
         {
          "Donated": 2,
          "Frequency": 4,
          "Monetary": 1000,
          "Recency": 14,
          "Time": 22
         },
         {
          "Donated": 1,
          "Frequency": 1,
          "Monetary": 250,
          "Recency": 16,
          "Time": 16
         },
         {
          "Donated": 1,
          "Frequency": 4,
          "Monetary": 1000,
          "Recency": 4,
          "Time": 26
         },
         {
          "Donated": 1,
          "Frequency": 2,
          "Monetary": 500,
          "Recency": 11,
          "Time": 52
         },
         {
          "Donated": 1,
          "Frequency": 1,
          "Monetary": 250,
          "Recency": 2,
          "Time": 2
         },
         {
          "Donated": 1,
          "Frequency": 1,
          "Monetary": 250,
          "Recency": 21,
          "Time": 21
         },
         {
          "Donated": 1,
          "Frequency": 2,
          "Monetary": 500,
          "Recency": 4,
          "Time": 4
         },
         {
          "Donated": 1,
          "Frequency": 1,
          "Monetary": 250,
          "Recency": 16,
          "Time": 16
         },
         {
          "Donated": 2,
          "Frequency": 2,
          "Monetary": 500,
          "Recency": 2,
          "Time": 11
         },
         {
          "Donated": 1,
          "Frequency": 3,
          "Monetary": 750,
          "Recency": 14,
          "Time": 79
         },
         {
          "Donated": 1,
          "Frequency": 44,
          "Monetary": 11000,
          "Recency": 2,
          "Time": 98
         },
         {
          "Donated": 2,
          "Frequency": 5,
          "Monetary": 1250,
          "Recency": 26,
          "Time": 49
         },
         {
          "Donated": 1,
          "Frequency": 3,
          "Monetary": 750,
          "Recency": 16,
          "Time": 23
         },
         {
          "Donated": 1,
          "Frequency": 6,
          "Monetary": 1500,
          "Recency": 4,
          "Time": 30
         },
         {
          "Donated": 1,
          "Frequency": 5,
          "Monetary": 1250,
          "Recency": 4,
          "Time": 28
         },
         {
          "Donated": 1,
          "Frequency": 3,
          "Monetary": 750,
          "Recency": 14,
          "Time": 28
         },
         {
          "Donated": 2,
          "Frequency": 16,
          "Monetary": 4000,
          "Recency": 4,
          "Time": 98
         },
         {
          "Donated": 1,
          "Frequency": 6,
          "Monetary": 1500,
          "Recency": 4,
          "Time": 47
         },
         {
          "Donated": 2,
          "Frequency": 1,
          "Monetary": 250,
          "Recency": 4,
          "Time": 4
         },
         {
          "Donated": 1,
          "Frequency": 9,
          "Monetary": 2250,
          "Recency": 9,
          "Time": 54
         },
         {
          "Donated": 1,
          "Frequency": 7,
          "Monetary": 1750,
          "Recency": 23,
          "Time": 88
         },
         {
          "Donated": 1,
          "Frequency": 1,
          "Monetary": 250,
          "Recency": 11,
          "Time": 11
         },
         {
          "Donated": 1,
          "Frequency": 1,
          "Monetary": 250,
          "Recency": 23,
          "Time": 23
         },
         {
          "Donated": 2,
          "Frequency": 6,
          "Monetary": 1500,
          "Recency": 4,
          "Time": 38
         },
         {
          "Donated": 1,
          "Frequency": 3,
          "Monetary": 750,
          "Recency": 23,
          "Time": 40
         },
         {
          "Donated": 1,
          "Frequency": 3,
          "Monetary": 750,
          "Recency": 16,
          "Time": 46
         },
         {
          "Donated": 1,
          "Frequency": 1,
          "Monetary": 250,
          "Recency": 4,
          "Time": 4
         },
         {
          "Donated": 1,
          "Frequency": 7,
          "Monetary": 1750,
          "Recency": 11,
          "Time": 37
         },
         {
          "Donated": 1,
          "Frequency": 3,
          "Monetary": 750,
          "Recency": 23,
          "Time": 28
         },
         {
          "Donated": 1,
          "Frequency": 6,
          "Monetary": 1500,
          "Recency": 23,
          "Time": 45
         },
         {
          "Donated": 1,
          "Frequency": 1,
          "Monetary": 250,
          "Recency": 38,
          "Time": 38
         },
         {
          "Donated": 1,
          "Frequency": 2,
          "Monetary": 500,
          "Recency": 16,
          "Time": 70
         },
         {
          "Donated": 1,
          "Frequency": 1,
          "Monetary": 250,
          "Recency": 21,
          "Time": 21
         },
         {
          "Donated": 2,
          "Frequency": 4,
          "Monetary": 1000,
          "Recency": 2,
          "Time": 16
         },
         {
          "Donated": 2,
          "Frequency": 6,
          "Monetary": 1500,
          "Recency": 4,
          "Time": 28
         },
         {
          "Donated": 1,
          "Frequency": 4,
          "Monetary": 1000,
          "Recency": 14,
          "Time": 26
         },
         {
          "Donated": 1,
          "Frequency": 3,
          "Monetary": 750,
          "Recency": 11,
          "Time": 26
         },
         {
          "Donated": 1,
          "Frequency": 16,
          "Monetary": 4000,
          "Recency": 3,
          "Time": 74
         },
         {
          "Donated": 1,
          "Frequency": 7,
          "Monetary": 1750,
          "Recency": 13,
          "Time": 76
         },
         {
          "Donated": 1,
          "Frequency": 2,
          "Monetary": 500,
          "Recency": 2,
          "Time": 16
         },
         {
          "Donated": 2,
          "Frequency": 9,
          "Monetary": 2250,
          "Recency": 2,
          "Time": 22
         },
         {
          "Donated": 1,
          "Frequency": 2,
          "Monetary": 500,
          "Recency": 2,
          "Time": 4
         },
         {
          "Donated": 2,
          "Frequency": 2,
          "Monetary": 500,
          "Recency": 14,
          "Time": 14
         },
         {
          "Donated": 1,
          "Frequency": 16,
          "Monetary": 4000,
          "Recency": 2,
          "Time": 81
         },
         {
          "Donated": 1,
          "Frequency": 3,
          "Monetary": 750,
          "Recency": 23,
          "Time": 41
         },
         {
          "Donated": 1,
          "Frequency": 4,
          "Monetary": 1000,
          "Recency": 14,
          "Time": 57
         },
         {
          "Donated": 1,
          "Frequency": 1,
          "Monetary": 250,
          "Recency": 14,
          "Time": 14
         },
         {
          "Donated": 1,
          "Frequency": 1,
          "Monetary": 250,
          "Recency": 23,
          "Time": 23
         },
         {
          "Donated": 1,
          "Frequency": 1,
          "Monetary": 250,
          "Recency": 38,
          "Time": 38
         },
         {
          "Donated": 1,
          "Frequency": 3,
          "Monetary": 750,
          "Recency": 21,
          "Time": 35
         },
         {
          "Donated": 1,
          "Frequency": 5,
          "Monetary": 1250,
          "Recency": 11,
          "Time": 41
         },
         {
          "Donated": 1,
          "Frequency": 6,
          "Monetary": 1500,
          "Recency": 11,
          "Time": 71
         },
         {
          "Donated": 1,
          "Frequency": 1,
          "Monetary": 250,
          "Recency": 16,
          "Time": 16
         },
         {
          "Donated": 1,
          "Frequency": 14,
          "Monetary": 3500,
          "Recency": 5,
          "Time": 86
         },
         {
          "Donated": 1,
          "Frequency": 2,
          "Monetary": 500,
          "Recency": 4,
          "Time": 4
         },
         {
          "Donated": 2,
          "Frequency": 8,
          "Monetary": 2000,
          "Recency": 14,
          "Time": 50
         },
         {
          "Donated": 2,
          "Frequency": 5,
          "Monetary": 1250,
          "Recency": 9,
          "Time": 51
         },
         {
          "Donated": 1,
          "Frequency": 7,
          "Monetary": 1750,
          "Recency": 2,
          "Time": 29
         },
         {
          "Donated": 1,
          "Frequency": 6,
          "Monetary": 1500,
          "Recency": 21,
          "Time": 86
         },
         {
          "Donated": 1,
          "Frequency": 7,
          "Monetary": 1750,
          "Recency": 14,
          "Time": 72
         },
         {
          "Donated": 1,
          "Frequency": 2,
          "Monetary": 500,
          "Recency": 16,
          "Time": 26
         },
         {
          "Donated": 1,
          "Frequency": 4,
          "Monetary": 1000,
          "Recency": 14,
          "Time": 64
         },
         {
          "Donated": 1,
          "Frequency": 2,
          "Monetary": 500,
          "Recency": 14,
          "Time": 14
         },
         {
          "Donated": 1,
          "Frequency": 1,
          "Monetary": 250,
          "Recency": 21,
          "Time": 21
         },
         {
          "Donated": 1,
          "Frequency": 5,
          "Monetary": 1250,
          "Recency": 14,
          "Time": 28
         },
         {
          "Donated": 1,
          "Frequency": 2,
          "Monetary": 500,
          "Recency": 4,
          "Time": 29
         },
         {
          "Donated": 1,
          "Frequency": 1,
          "Monetary": 250,
          "Recency": 14,
          "Time": 14
         },
         {
          "Donated": 1,
          "Frequency": 9,
          "Monetary": 2250,
          "Recency": 2,
          "Time": 36
         },
         {
          "Donated": 1,
          "Frequency": 2,
          "Monetary": 500,
          "Recency": 4,
          "Time": 4
         },
         {
          "Donated": 1,
          "Frequency": 10,
          "Monetary": 2500,
          "Recency": 2,
          "Time": 64
         },
         {
          "Donated": 1,
          "Frequency": 6,
          "Monetary": 1500,
          "Recency": 14,
          "Time": 51
         },
         {
          "Donated": 2,
          "Frequency": 14,
          "Monetary": 3500,
          "Recency": 2,
          "Time": 48
         },
         {
          "Donated": 1,
          "Frequency": 3,
          "Monetary": 750,
          "Recency": 23,
          "Time": 89
         },
         {
          "Donated": 1,
          "Frequency": 11,
          "Monetary": 2750,
          "Recency": 11,
          "Time": 42
         },
         {
          "Donated": 1,
          "Frequency": 2,
          "Monetary": 500,
          "Recency": 23,
          "Time": 23
         },
         {
          "Donated": 1,
          "Frequency": 5,
          "Monetary": 1250,
          "Recency": 2,
          "Time": 63
         },
         {
          "Donated": 1,
          "Frequency": 5,
          "Monetary": 1250,
          "Recency": 23,
          "Time": 33
         },
         {
          "Donated": 2,
          "Frequency": 2,
          "Monetary": 500,
          "Recency": 2,
          "Time": 4
         },
         {
          "Donated": 1,
          "Frequency": 14,
          "Monetary": 3500,
          "Recency": 23,
          "Time": 93
         },
         {
          "Donated": 1,
          "Frequency": 9,
          "Monetary": 2250,
          "Recency": 2,
          "Time": 74
         },
         {
          "Donated": 1,
          "Frequency": 7,
          "Monetary": 1750,
          "Recency": 11,
          "Time": 29
         },
         {
          "Donated": 1,
          "Frequency": 4,
          "Monetary": 1000,
          "Recency": 21,
          "Time": 52
         },
         {
          "Donated": 2,
          "Frequency": 6,
          "Monetary": 1500,
          "Recency": 2,
          "Time": 15
         },
         {
          "Donated": 1,
          "Frequency": 2,
          "Monetary": 500,
          "Recency": 4,
          "Time": 4
         },
         {
          "Donated": 2,
          "Frequency": 4,
          "Monetary": 1000,
          "Recency": 4,
          "Time": 43
         },
         {
          "Donated": 1,
          "Frequency": 2,
          "Monetary": 500,
          "Recency": 2,
          "Time": 23
         },
         {
          "Donated": 2,
          "Frequency": 1,
          "Monetary": 250,
          "Recency": 4,
          "Time": 4
         },
         {
          "Donated": 1,
          "Frequency": 12,
          "Monetary": 3000,
          "Recency": 12,
          "Time": 58
         },
         {
          "Donated": 2,
          "Frequency": 20,
          "Monetary": 5000,
          "Recency": 2,
          "Time": 45
         },
         {
          "Donated": 1,
          "Frequency": 4,
          "Monetary": 1000,
          "Recency": 16,
          "Time": 28
         },
         {
          "Donated": 1,
          "Frequency": 3,
          "Monetary": 750,
          "Recency": 21,
          "Time": 64
         },
         {
          "Donated": 1,
          "Frequency": 1,
          "Monetary": 250,
          "Recency": 4,
          "Time": 4
         },
         {
          "Donated": 1,
          "Frequency": 3,
          "Monetary": 750,
          "Recency": 14,
          "Time": 83
         },
         {
          "Donated": 1,
          "Frequency": 2,
          "Monetary": 500,
          "Recency": 16,
          "Time": 16
         },
         {
          "Donated": 1,
          "Frequency": 2,
          "Monetary": 500,
          "Recency": 2,
          "Time": 11
         },
         {
          "Donated": 1,
          "Frequency": 2,
          "Monetary": 500,
          "Recency": 0,
          "Time": 4
         },
         {
          "Donated": 1,
          "Frequency": 6,
          "Monetary": 1500,
          "Recency": 4,
          "Time": 14
         },
         {
          "Donated": 1,
          "Frequency": 6,
          "Monetary": 1500,
          "Recency": 11,
          "Time": 58
         },
         {
          "Donated": 2,
          "Frequency": 8,
          "Monetary": 2000,
          "Recency": 4,
          "Time": 26
         },
         {
          "Donated": 1,
          "Frequency": 6,
          "Monetary": 1500,
          "Recency": 14,
          "Time": 34
         },
         {
          "Donated": 2,
          "Frequency": 11,
          "Monetary": 2750,
          "Recency": 2,
          "Time": 46
         },
         {
          "Donated": 1,
          "Frequency": 14,
          "Monetary": 3500,
          "Recency": 3,
          "Time": 35
         },
         {
          "Donated": 1,
          "Frequency": 5,
          "Monetary": 1250,
          "Recency": 21,
          "Time": 60
         },
         {
          "Donated": 2,
          "Frequency": 5,
          "Monetary": 1250,
          "Recency": 4,
          "Time": 16
         },
         {
          "Donated": 2,
          "Frequency": 5,
          "Monetary": 1250,
          "Recency": 11,
          "Time": 37
         },
         {
          "Donated": 1,
          "Frequency": 2,
          "Monetary": 500,
          "Recency": 14,
          "Time": 35
         },
         {
          "Donated": 2,
          "Frequency": 6,
          "Monetary": 1500,
          "Recency": 2,
          "Time": 26
         },
         {
          "Donated": 1,
          "Frequency": 3,
          "Monetary": 750,
          "Recency": 14,
          "Time": 26
         },
         {
          "Donated": 1,
          "Frequency": 5,
          "Monetary": 1250,
          "Recency": 4,
          "Time": 34
         },
         {
          "Donated": 1,
          "Frequency": 4,
          "Monetary": 1000,
          "Recency": 4,
          "Time": 18
         },
         {
          "Donated": 2,
          "Frequency": 2,
          "Monetary": 500,
          "Recency": 2,
          "Time": 10
         },
         {
          "Donated": 1,
          "Frequency": 16,
          "Monetary": 4000,
          "Recency": 21,
          "Time": 64
         },
         {
          "Donated": 1,
          "Frequency": 2,
          "Monetary": 500,
          "Recency": 9,
          "Time": 11
         },
         {
          "Donated": 1,
          "Frequency": 3,
          "Monetary": 750,
          "Recency": 2,
          "Time": 35
         },
         {
          "Donated": 1,
          "Frequency": 4,
          "Monetary": 1000,
          "Recency": 11,
          "Time": 58
         },
         {
          "Donated": 1,
          "Frequency": 1,
          "Monetary": 250,
          "Recency": 2,
          "Time": 2
         },
         {
          "Donated": 1,
          "Frequency": 3,
          "Monetary": 750,
          "Recency": 14,
          "Time": 31
         },
         {
          "Donated": 1,
          "Frequency": 1,
          "Monetary": 250,
          "Recency": 39,
          "Time": 39
         },
         {
          "Donated": 1,
          "Frequency": 1,
          "Monetary": 250,
          "Recency": 2,
          "Time": 2
         },
         {
          "Donated": 2,
          "Frequency": 2,
          "Monetary": 500,
          "Recency": 11,
          "Time": 38
         },
         {
          "Donated": 1,
          "Frequency": 1,
          "Monetary": 250,
          "Recency": 2,
          "Time": 2
         },
         {
          "Donated": 1,
          "Frequency": 1,
          "Monetary": 250,
          "Recency": 16,
          "Time": 16
         },
         {
          "Donated": 1,
          "Frequency": 7,
          "Monetary": 1750,
          "Recency": 16,
          "Time": 28
         },
         {
          "Donated": 1,
          "Frequency": 1,
          "Monetary": 250,
          "Recency": 23,
          "Time": 23
         },
         {
          "Donated": 1,
          "Frequency": 3,
          "Monetary": 750,
          "Recency": 6,
          "Time": 14
         },
         {
          "Donated": 1,
          "Frequency": 4,
          "Monetary": 1000,
          "Recency": 16,
          "Time": 40
         },
         {
          "Donated": 1,
          "Frequency": 1,
          "Monetary": 250,
          "Recency": 16,
          "Time": 16
         },
         {
          "Donated": 2,
          "Frequency": 4,
          "Monetary": 1000,
          "Recency": 3,
          "Time": 29
         },
         {
          "Donated": 1,
          "Frequency": 4,
          "Monetary": 1000,
          "Recency": 23,
          "Time": 52
         },
         {
          "Donated": 2,
          "Frequency": 14,
          "Monetary": 3500,
          "Recency": 20,
          "Time": 69
         },
         {
          "Donated": 1,
          "Frequency": 1,
          "Monetary": 250,
          "Recency": 2,
          "Time": 2
         },
         {
          "Donated": 2,
          "Frequency": 4,
          "Monetary": 1000,
          "Recency": 14,
          "Time": 23
         },
         {
          "Donated": 1,
          "Frequency": 1,
          "Monetary": 250,
          "Recency": 16,
          "Time": 16
         },
         {
          "Donated": 1,
          "Frequency": 9,
          "Monetary": 2250,
          "Recency": 8,
          "Time": 64
         },
         {
          "Donated": 1,
          "Frequency": 1,
          "Monetary": 250,
          "Recency": 4,
          "Time": 4
         },
         {
          "Donated": 1,
          "Frequency": 2,
          "Monetary": 500,
          "Recency": 9,
          "Time": 26
         },
         {
          "Donated": 2,
          "Frequency": 4,
          "Monetary": 1000,
          "Recency": 4,
          "Time": 26
         },
         {
          "Donated": 1,
          "Frequency": 1,
          "Monetary": 250,
          "Recency": 14,
          "Time": 14
         },
         {
          "Donated": 2,
          "Frequency": 7,
          "Monetary": 1750,
          "Recency": 5,
          "Time": 26
         },
         {
          "Donated": 1,
          "Frequency": 3,
          "Monetary": 750,
          "Recency": 2,
          "Time": 19
         },
         {
          "Donated": 2,
          "Frequency": 4,
          "Monetary": 1000,
          "Recency": 11,
          "Time": 16
         },
         {
          "Donated": 2,
          "Frequency": 26,
          "Monetary": 6500,
          "Recency": 0,
          "Time": 76
         },
         {
          "Donated": 1,
          "Frequency": 8,
          "Monetary": 2000,
          "Recency": 3,
          "Time": 50
         },
         {
          "Donated": 2,
          "Frequency": 1,
          "Monetary": 250,
          "Recency": 3,
          "Time": 3
         },
         {
          "Donated": 1,
          "Frequency": 2,
          "Monetary": 500,
          "Recency": 21,
          "Time": 52
         },
         {
          "Donated": 2,
          "Frequency": 7,
          "Monetary": 1750,
          "Recency": 4,
          "Time": 22
         },
         {
          "Donated": 1,
          "Frequency": 4,
          "Monetary": 1000,
          "Recency": 14,
          "Time": 30
         },
         {
          "Donated": 2,
          "Frequency": 16,
          "Monetary": 4000,
          "Recency": 1,
          "Time": 35
         },
         {
          "Donated": 1,
          "Frequency": 3,
          "Monetary": 750,
          "Recency": 21,
          "Time": 38
         },
         {
          "Donated": 1,
          "Frequency": 7,
          "Monetary": 1750,
          "Recency": 4,
          "Time": 25
         },
         {
          "Donated": 1,
          "Frequency": 6,
          "Monetary": 1500,
          "Recency": 11,
          "Time": 27
         },
         {
          "Donated": 1,
          "Frequency": 1,
          "Monetary": 250,
          "Recency": 4,
          "Time": 4
         },
         {
          "Donated": 1,
          "Frequency": 2,
          "Monetary": 500,
          "Recency": 21,
          "Time": 23
         },
         {
          "Donated": 2,
          "Frequency": 3,
          "Monetary": 750,
          "Recency": 11,
          "Time": 16
         },
         {
          "Donated": 1,
          "Frequency": 3,
          "Monetary": 750,
          "Recency": 9,
          "Time": 34
         },
         {
          "Donated": 1,
          "Frequency": 1,
          "Monetary": 250,
          "Recency": 16,
          "Time": 16
         },
         {
          "Donated": 1,
          "Frequency": 9,
          "Monetary": 2250,
          "Recency": 4,
          "Time": 46
         },
         {
          "Donated": 2,
          "Frequency": 1,
          "Monetary": 250,
          "Recency": 4,
          "Time": 4
         },
         {
          "Donated": 1,
          "Frequency": 14,
          "Monetary": 3500,
          "Recency": 1,
          "Time": 95
         },
         {
          "Donated": 1,
          "Frequency": 2,
          "Monetary": 500,
          "Recency": 2,
          "Time": 4
         },
         {
          "Donated": 1,
          "Frequency": 2,
          "Monetary": 500,
          "Recency": 2,
          "Time": 2
         },
         {
          "Donated": 1,
          "Frequency": 4,
          "Monetary": 1000,
          "Recency": 11,
          "Time": 27
         },
         {
          "Donated": 2,
          "Frequency": 8,
          "Monetary": 2000,
          "Recency": 4,
          "Time": 40
         },
         {
          "Donated": 1,
          "Frequency": 17,
          "Monetary": 4250,
          "Recency": 3,
          "Time": 86
         },
         {
          "Donated": 1,
          "Frequency": 1,
          "Monetary": 250,
          "Recency": 4,
          "Time": 4
         },
         {
          "Donated": 1,
          "Frequency": 6,
          "Monetary": 1500,
          "Recency": 2,
          "Time": 45
         },
         {
          "Donated": 2,
          "Frequency": 5,
          "Monetary": 1250,
          "Recency": 2,
          "Time": 33
         },
         {
          "Donated": 1,
          "Frequency": 8,
          "Monetary": 2000,
          "Recency": 0,
          "Time": 59
         },
         {
          "Donated": 1,
          "Frequency": 5,
          "Monetary": 1250,
          "Recency": 3,
          "Time": 38
         },
         {
          "Donated": 2,
          "Frequency": 15,
          "Monetary": 3750,
          "Recency": 2,
          "Time": 49
         },
         {
          "Donated": 1,
          "Frequency": 3,
          "Monetary": 750,
          "Recency": 16,
          "Time": 86
         },
         {
          "Donated": 2,
          "Frequency": 4,
          "Monetary": 1000,
          "Recency": 4,
          "Time": 14
         },
         {
          "Donated": 1,
          "Frequency": 4,
          "Monetary": 1000,
          "Recency": 11,
          "Time": 34
         },
         {
          "Donated": 1,
          "Frequency": 1,
          "Monetary": 250,
          "Recency": 14,
          "Time": 14
         },
         {
          "Donated": 2,
          "Frequency": 2,
          "Monetary": 500,
          "Recency": 14,
          "Time": 21
         },
         {
          "Donated": 2,
          "Frequency": 4,
          "Monetary": 1000,
          "Recency": 4,
          "Time": 4
         }
        ]
       },
       "encoding": {
        "color": {
         "field": "Donated",
         "scale": {
          "scheme": "goldorange"
         },
         "type": "quantitative"
        },
        "x": {
         "field": "Time",
         "type": "quantitative"
        },
        "y": {
         "aggregate": "count",
         "stack": null,
         "type": "quantitative"
        }
       },
       "mark": {
        "opacity": 0.7,
        "type": "bar"
       },
       "title": "Donor Time Distribution"
      },
      "image/png": "[encoded data removed]",
      "text/plain": [
       "<VegaLite 3 object>\n",
       "\n",
       "If you see this message, it means the renderer has not been properly enabled\n",
       "for the frontend that you are using. For more information, see\n",
       "https://altair-viz.github.io/user_guide/troubleshooting.html\n"
      ]
     },
     "execution_count": 19,
     "metadata": {},
     "output_type": "execute_result"
    }
   ],
   "source": [
    "alt.Chart(blood_df_train).mark_bar(opacity = 0.7).encode(\n",
    "    alt.X(\"Time\"),\n",
    "    alt.Y('count()', stack=None),\n",
    "    color=alt.Color('Donated', scale=alt.Scale(scheme='goldorange'))\n",
    ").properties(title = \"Donor Time Distribution\")"
   ]
  }
 ],
 "metadata": {
  "kernelspec": {
   "display_name": "Python 3",
   "language": "python",
   "name": "python3"
  },
  "language_info": {
   "codemirror_mode": {
    "name": "ipython",
    "version": 3
   },
   "file_extension": ".py",
   "mimetype": "text/x-python",
   "name": "python",
   "nbconvert_exporter": "python",
   "pygments_lexer": "ipython3",
   "version": "3.7.5"
  }
 },
 "nbformat": 4,
 "nbformat_minor": 4
}
